{
 "cells": [
  {
   "cell_type": "markdown",
   "id": "c043c582",
   "metadata": {},
   "source": [
    "# Welcome to TapeAgents!"
   ]
  },
  {
   "cell_type": "markdown",
   "id": "625062e0",
   "metadata": {},
   "source": [
    "\n",
    "**TapeAgents** is a framework that leverages a structured, replayable log (**Tape**) of the agent session to facilitate all stages of the LLM Agent development lifecycle. In TapeAgents, the agent reasons by processing the tape and the LLM output to produce new thoughts, actions, control flow steps and append them to the tape. The environment then reacts to the agent’s actions by likewise appending observation steps to the tape."
   ]
  },
  {
   "cell_type": "code",
   "execution_count": null,
   "id": "d5e5f105",
   "metadata": {},
   "outputs": [
    {
     "name": "stderr",
     "output_type": "stream",
     "text": [
      "/home/dieppham/personal/hack4her/.venv/lib/python3.10/site-packages/tqdm/auto.py:21: TqdmWarning: IProgress not found. Please update jupyter and ipywidgets. See https://ipywidgets.readthedocs.io/en/stable/user_install.html\n",
      "  from .autonotebook import tqdm as notebook_tqdm\n"
     ]
    }
   ],
   "source": [
    "from tapeagents.llms import OpenrouterLLM\n",
    "from dotenv import load_dotenv\n",
    "import os\n",
    "load_dotenv()\n",
    "\n",
    "open_router_api_key = os.environ[\"OPEN_ROUTER_API_KEY\"]\n",
    "llm = OpenrouterLLM(\n",
    "    model_name=\"meta-llama/llama-3.3-70b-instruct:free\",  # https://openrouter.ai/meta-llama/llama-3.3-70b-instruct:free\n",
    "    api_token=open_router_api_key,\n",
    "    parameters={\"temperature\": 0.1},\n",
    ")"
   ]
  },
  {
   "cell_type": "code",
   "execution_count": 10,
   "id": "52f5c9bf",
   "metadata": {},
   "outputs": [
    {
     "data": {
      "text/plain": [
       "'Donald Trump is the 45th President of the United States, serving from 2017 to 2021. He is a businessman, real estate developer, and television personality who was born on June 14, 1946, in Queens, New York.\\n\\nBefore entering politics, Trump made a name for himself in the business world, building a real estate empire and creating a brand that became synonymous with luxury and success. He developed numerous high-end properties, including hotels, casinos, and golf courses, and wrote several bestselling books on business and entrepreneurship.\\n\\nTrump\\'s rise to fame also included a successful reality TV show, \"The Apprentice,\" which aired from 2004 to 2015 and featured him as the host and executive producer. He became known for his charismatic personality, his catchphrase \"You\\'re fired!,\" and his ability to build a brand and create a sense of excitement around his business ventures.\\n\\nIn 2015, Trump announced his candidacy for the Republican presidential nomination, running on a platform of populist and nationalist policies. He campaigned on issues such as immigration reform, trade protectionism, and a promise to \"Make America Great Again.\" Despite being a political outsider and facing significant opposition from the Republican establishment, Trump won the nomination and went on to defeat Democratic candidate Hillary Clinton in the general election on November 8, 2016.\\n\\nAs President, Trump\\'s administration was marked by controversy, polarization, and a series of high-profile scandals. Some of his notable policies and actions included:\\n\\n* The travel ban targeting predominantly Muslim countries\\n* The withdrawal from the Paris Climate Agreement\\n* The imposition of tariffs on imported goods from countries such as China and Mexico\\n* The attempted repeal of the Affordable Care Act (Obamacare)\\n* The appointment of two Supreme Court justices, Neil Gorsuch and Brett Kavanaugh\\n\\nTrump\\'s presidency was also marked by a series of investigations and controversies, including:\\n\\n* The Russia investigation, which examined allegations of collusion between the Trump campaign and Russian officials\\n* The impeachment inquiry, which centered on allegations of abuse of power and obstruction of Congress\\n* The Stormy Daniels scandal, which involved allegations of a non-disclosure agreement and hush money payments to a adult film star\\n\\nTrump lost his re-election bid to Democratic candidate Joe Biden in the 2020 presidential election, and his term as President ended on January 20, 2021. Despite his departure from office, Trump remains a prominent figure in American politics and continues to be a subject of controversy and debate.'"
      ]
     },
     "execution_count": 10,
     "metadata": {},
     "output_type": "execute_result"
    }
   ],
   "source": [
    "llm.quick_response(\"who is Donald Trump?\")"
   ]
  },
  {
   "cell_type": "markdown",
   "id": "a18fa239",
   "metadata": {},
   "source": [
    "## Create environment with the set of tools that the agent can use"
   ]
  },
  {
   "cell_type": "code",
   "execution_count": null,
   "id": "0eb7cd0b",
   "metadata": {},
   "outputs": [
    {
     "name": "stdout",
     "output_type": "stream",
     "text": [
      "- WebSearch - Performs a search in the web, wikipedia or youtube\n",
      "- SimpleBrowser - Simple text-based web browser for reading documents and web pages. Can load web page or document from a URL or file path and scroll through its content.\n",
      "- Calculator - Tool to evaluate math expressions\n"
     ]
    }
   ],
   "source": [
    "import os\n",
    "\n",
    "from tapeagents.environment import ToolCollectionEnvironment\n",
    "from tapeagents.tools.calculator import Calculator\n",
    "from tapeagents.tools.simple_browser import SimpleBrowser\n",
    "from tapeagents.tools.web_search import WebSearch\n",
    "\n",
    "# key for the web search api, you can get a free key at https://serper.dev/\n",
    "os.environ[\"SERPER_API_KEY\"] = \"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\"\n",
    "\n",
    "environment = ToolCollectionEnvironment(tools=[WebSearch(), SimpleBrowser(), Calculator()])\n",
    "environment.initialize()\n",
    "print(environment.tools_description())"
   ]
  },
  {
   "cell_type": "markdown",
   "id": "1833bc0d",
   "metadata": {},
   "source": [
    "## Simple agent that think once and makes one tool call before anwering"
   ]
  },
  {
   "cell_type": "code",
   "execution_count": 5,
   "id": "1436451a",
   "metadata": {},
   "outputs": [],
   "source": [
    "from tapeagents.agent import Agent\n",
    "from tapeagents.nodes import StandardNode, Stop\n",
    "\n",
    "system_prompt = \"You are an assistant that can use web search, browser and calculator. Be brief and concise.\"\n",
    "agent = Agent.create(\n",
    "    llms=llm,\n",
    "    nodes=[\n",
    "        # nodes are steps that are executed in order,\n",
    "        # each node can asks llm to produce a response or call some tool from the environment,\n",
    "        # when all nodes are executed, the agent will stop\n",
    "        StandardNode(\n",
    "            name=\"think\",\n",
    "            system_prompt=system_prompt,\n",
    "            guidance=\"let's think how to use available tools to answer the user's question, do not answer the question yet\",\n",
    "        ),\n",
    "        StandardNode(\n",
    "            name=\"act\",\n",
    "            system_prompt=system_prompt,\n",
    "            guidance=\"call the proposed tool\",\n",
    "            use_known_actions=True,  # this will use all the actions defined in the environment\n",
    "            use_function_calls=True,  # this will allow to use model tool calling capabilities\n",
    "        ),\n",
    "        StandardNode(\n",
    "            name=\"answer\",\n",
    "            system_prompt=system_prompt,\n",
    "            guidance=\"give a final answer to the user's question based on the tool result\",\n",
    "        ),\n",
    "        Stop(),\n",
    "    ],\n",
    "    known_actions=environment.actions(),\n",
    "    tools_description=environment.tools_description(),\n",
    ")"
   ]
  },
  {
   "cell_type": "code",
   "execution_count": null,
   "id": "424bc6bc",
   "metadata": {},
   "outputs": [
    {
     "name": "stdout",
     "output_type": "stream",
     "text": [
      "Agent step (think):\n",
      "To find the closest distance from the Earth to the Moon, we can:\n",
      "\n",
      "1. Use a web search to find information on the Moon's orbit and its closest point to Earth.\n",
      "2. Utilize a browser to access online resources, such as NASA's website, that provide data on the Earth-Moon distance.\n",
      "3. Possibly use a calculator to perform calculations if we need to convert units or calculate the distance based on given data.\n",
      "\n",
      "Let's proceed with the web search to gather more information.\n",
      "---\n",
      "Agent step (act):\n",
      "{\n",
      "  \"kind\": \"search_action\",\n",
      "  \"source\": \"web\",\n",
      "  \"query\": \"closest distance from Earth to Moon\",\n",
      "  \"time_interval\": \"\"\n",
      "}\n",
      "---\n"
     ]
    },
    {
     "name": "stderr",
     "output_type": "stream",
     "text": [
      "Search response: {'message': 'Unauthorized.', 'statusCode': 403}\n",
      "Empty search results, retrying in 2 seconds\n",
      "Search response: {'message': 'Unauthorized.', 'statusCode': 403}\n",
      "Empty search results, retrying in 2 seconds\n",
      "Search response: {'message': 'Unauthorized.', 'statusCode': 403}\n",
      "Empty search results, retrying in 2 seconds\n",
      "Failed to search the web: Failed to get search results, try to use browser to access the search engine instead\n",
      "Traceback (most recent call last):\n",
      "  File \"/home/dieppham/personal/hack4her/tapeagents/tools/web_search.py\", line 148, in execute_action\n",
      "    results = web_search(query)\n",
      "  File \"/home/dieppham/personal/hack4her/tapeagents/tools/web_search.py\", line 55, in web_search\n",
      "    raise Exception(\"Failed to get search results, try to use browser to access the search engine instead\")\n",
      "Exception: Failed to get search results, try to use browser to access the search engine instead\n",
      "Action failure: [Errno 2] No such file or directory: '.cache/tool_cache.WebSearch.25695.25695.jsonl'\n",
      "Traceback (most recent call last):\n",
      "  File \"/home/dieppham/personal/hack4her/tapeagents/tools/base.py\", line 96, in run\n",
      "    add_to_cache(tool_name, args=(), kwargs=action.llm_dict(), result=observation.llm_dict())\n",
      "  File \"/home/dieppham/personal/hack4her/tapeagents/tools/tool_cache.py\", line 75, in add_to_cache\n",
      "    with open(fname, \"a\") as f:\n",
      "FileNotFoundError: [Errno 2] No such file or directory: '.cache/tool_cache.WebSearch.25695.25695.jsonl'\n"
     ]
    },
    {
     "name": "stdout",
     "output_type": "stream",
     "text": [
      "Tool call result:\n",
      "{\n",
      "  \"kind\": \"action_execution_failure\",\n",
      "  \"error\": \"[Errno 2] No such file or directory: '.cache/tool_cache.WebSearch.25695.25695.jsonl'\"\n",
      "}\n",
      "---\n",
      "Agent step (answer):\n",
      "The closest distance from the Earth to the Moon is approximately 225,622 miles (363,104 kilometers). This occurs when the Moon is at its perigee, which is the point in its orbit when it is closest to Earth.\n",
      "---\n",
      "Agent step (Stop):\n",
      "{\n",
      "  \"kind\": \"final_step\",\n",
      "  \"reason\": \"\"\n",
      "}\n",
      "---\n",
      "Agent final answer: The closest distance from the Earth to the Moon is approximately 225,622 miles (363,104 kilometers). This occurs when the Moon is at its perigee, which is the point in its orbit when it is closest to Earth.\n"
     ]
    }
   ],
   "source": [
    "from tapeagents.dialog_tape import DialogTape, UserStep\n",
    "from tapeagents.orchestrator import main_loop\n",
    "\n",
    "user_question = \"What is the closest distance from the Earth to the Moon?\"\n",
    "tape = DialogTape(steps=[UserStep(content=user_question)])\n",
    "\n",
    "for event in main_loop(agent, tape, environment):\n",
    "    if event.agent_event and event.agent_event.step:\n",
    "        step = event.agent_event.step\n",
    "        print(f\"Agent step ({step.metadata.node}):\\n{step.llm_view()}\\n---\")\n",
    "    elif event.observation:\n",
    "        print(f\"Tool call result:\\n{event.observation.short_view()}\\n---\")\n",
    "    elif event.agent_tape:\n",
    "        tape = event.agent_tape\n",
    "\n",
    "print(\"Agent final answer:\", tape[-2].reasoning)  # last step before Stop node"
   ]
  },
  {
   "cell_type": "markdown",
   "id": "2c537ee5",
   "metadata": {},
   "source": [
    "## Agent that can think and act in a loop"
   ]
  },
  {
   "cell_type": "code",
   "execution_count": 8,
   "id": "1ad57273",
   "metadata": {},
   "outputs": [],
   "source": [
    "from tapeagents.core import FinalStep\n",
    "\n",
    "react_agent = Agent.create(\n",
    "    llms=llm,\n",
    "    nodes=[\n",
    "        StandardNode(\n",
    "            name=\"plan\",\n",
    "            system_prompt=system_prompt,\n",
    "            guidance=\"write a concise multi-step plan to find the answer for the given question. Do not answer the question yet\",\n",
    "        ),\n",
    "        StandardNode(\n",
    "            name=\"reflect\",\n",
    "            system_prompt=system_prompt,\n",
    "            guidance=\"evaluate current state of the solution, propose the next tool to call to move forward. If the plan is finished, call FinalStep to answer the question\",\n",
    "        ),\n",
    "        StandardNode(\n",
    "            name=\"act\",\n",
    "            system_prompt=system_prompt,\n",
    "            guidance=\"produce proposed tool call\",\n",
    "            use_known_actions=True,\n",
    "            use_function_calls=True,\n",
    "            steps=FinalStep,  # if this step is produced, the agent will stop\n",
    "            next_node=\"reflect\",  # here we make a loop back to the reflect node\n",
    "        ),\n",
    "    ],\n",
    "    known_actions=environment.actions(),\n",
    "    tools_description=environment.tools_description(),\n",
    ")"
   ]
  },
  {
   "cell_type": "code",
   "execution_count": 9,
   "id": "1c75d901",
   "metadata": {},
   "outputs": [
    {
     "name": "stdout",
     "output_type": "stream",
     "text": [
      "Agent step (plan):\n",
      "To find the answer, follow these steps:\n",
      "\n",
      "1. Find Eliud Kipchoge's record-making marathon pace (distance per hour).\n",
      "2. Determine the average distance from the Earth to the Moon at its closest approach.\n",
      "3. Calculate the total time it would take to cover this distance at Kipchoge's pace by dividing the distance by his speed.\n",
      "4. Convert the result to hours.\n",
      "---\n",
      "Agent step (reflect):\n",
      "Current state: We have a plan to solve the problem, but we don't have the necessary values for Eliud Kipchoge's record-making marathon pace and the average distance from the Earth to the Moon at its closest approach.\n",
      "\n",
      "Next tool to call: Web search to find the values for Eliud Kipchoge's record-making marathon pace and the average distance from the Earth to the Moon at its closest approach.\n",
      "---\n"
     ]
    },
    {
     "name": "stderr",
     "output_type": "stream",
     "text": [
      "Search response: {'message': 'Unauthorized.', 'statusCode': 403}\n",
      "Empty search results, retrying in 2 seconds\n"
     ]
    },
    {
     "name": "stdout",
     "output_type": "stream",
     "text": [
      "Agent step (act):\n",
      "{\n",
      "  \"kind\": \"search_action\",\n",
      "  \"source\": \"web\",\n",
      "  \"query\": \"Eliud Kipchoge marathon pace\",\n",
      "  \"time_interval\": \"\"\n",
      "}\n",
      "---\n",
      "Agent step (act):\n",
      "{\n",
      "  \"kind\": \"search_action\",\n",
      "  \"source\": \"web\",\n",
      "  \"query\": \"average distance from Earth to Moon at closest approach\",\n",
      "  \"time_interval\": \"\"\n",
      "}\n",
      "---\n",
      "Agent step (act):\n",
      "{\n",
      "  \"kind\": \"set_next_node\",\n",
      "  \"next_node\": \"reflect\"\n",
      "}\n",
      "---\n"
     ]
    },
    {
     "name": "stderr",
     "output_type": "stream",
     "text": [
      "Search response: {'message': 'Unauthorized.', 'statusCode': 403}\n",
      "Empty search results, retrying in 2 seconds\n",
      "Search response: {'message': 'Unauthorized.', 'statusCode': 403}\n",
      "Empty search results, retrying in 2 seconds\n",
      "Failed to search the web: Failed to get search results, try to use browser to access the search engine instead\n",
      "Traceback (most recent call last):\n",
      "  File \"/home/dieppham/personal/hack4her/tapeagents/tools/web_search.py\", line 148, in execute_action\n",
      "    results = web_search(query)\n",
      "  File \"/home/dieppham/personal/hack4her/tapeagents/tools/web_search.py\", line 55, in web_search\n",
      "    raise Exception(\"Failed to get search results, try to use browser to access the search engine instead\")\n",
      "Exception: Failed to get search results, try to use browser to access the search engine instead\n",
      "Action failure: [Errno 2] No such file or directory: '.cache/tool_cache.WebSearch.25695.25695.jsonl'\n",
      "Traceback (most recent call last):\n",
      "  File \"/home/dieppham/personal/hack4her/tapeagents/tools/base.py\", line 96, in run\n",
      "    add_to_cache(tool_name, args=(), kwargs=action.llm_dict(), result=observation.llm_dict())\n",
      "  File \"/home/dieppham/personal/hack4her/tapeagents/tools/tool_cache.py\", line 75, in add_to_cache\n",
      "    with open(fname, \"a\") as f:\n",
      "FileNotFoundError: [Errno 2] No such file or directory: '.cache/tool_cache.WebSearch.25695.25695.jsonl'\n",
      "Search response: {'message': 'Unauthorized.', 'statusCode': 403}\n",
      "Empty search results, retrying in 2 seconds\n",
      "Search response: {'message': 'Unauthorized.', 'statusCode': 403}\n",
      "Empty search results, retrying in 2 seconds\n",
      "Search response: {'message': 'Unauthorized.', 'statusCode': 403}\n",
      "Empty search results, retrying in 2 seconds\n",
      "Failed to search the web: Failed to get search results, try to use browser to access the search engine instead\n",
      "Traceback (most recent call last):\n",
      "  File \"/home/dieppham/personal/hack4her/tapeagents/tools/web_search.py\", line 148, in execute_action\n",
      "    results = web_search(query)\n",
      "  File \"/home/dieppham/personal/hack4her/tapeagents/tools/web_search.py\", line 55, in web_search\n",
      "    raise Exception(\"Failed to get search results, try to use browser to access the search engine instead\")\n",
      "Exception: Failed to get search results, try to use browser to access the search engine instead\n",
      "Action failure: [Errno 2] No such file or directory: '.cache/tool_cache.WebSearch.25695.25695.jsonl'\n",
      "Traceback (most recent call last):\n",
      "  File \"/home/dieppham/personal/hack4her/tapeagents/tools/base.py\", line 96, in run\n",
      "    add_to_cache(tool_name, args=(), kwargs=action.llm_dict(), result=observation.llm_dict())\n",
      "  File \"/home/dieppham/personal/hack4her/tapeagents/tools/tool_cache.py\", line 75, in add_to_cache\n",
      "    with open(fname, \"a\") as f:\n",
      "FileNotFoundError: [Errno 2] No such file or directory: '.cache/tool_cache.WebSearch.25695.25695.jsonl'\n"
     ]
    },
    {
     "name": "stdout",
     "output_type": "stream",
     "text": [
      "Tool call result:\n",
      "{\n",
      "  \"kind\": \"action_execution_failure\",\n",
      "  \"error\": \"[Errno 2] No such file or directory: '.cache/tool_cache.WebSearch.25695.25695.jsonl'\"\n",
      "}\n",
      "---\n",
      "Tool call result:\n",
      "{\n",
      "  \"kind\": \"action_execution_failure\",\n",
      "  \"error\": \"[Errno 2] No such file or directory: '.cache/tool_cache.WebSearch.25695.25695.jsonl'\"\n",
      "}\n",
      "---\n",
      "Agent step (reflect):\n",
      "Current state: The web search tool failed to execute due to a file not found error. We still need to find Eliud Kipchoge's record-making marathon pace and the average distance from the Earth to the Moon at its closest approach.\n",
      "\n",
      "Next tool to call: Browser to search for the necessary information.\n",
      "---\n",
      "Agent step (act):\n",
      "{\n",
      "  \"kind\": \"search_action\",\n",
      "  \"source\": \"web\",\n",
      "  \"query\": \"Eliud Kipchoge marathon pace\",\n",
      "  \"time_interval\": \"\"\n",
      "}\n",
      "---\n",
      "Agent step (act):\n",
      "{\n",
      "  \"kind\": \"search_action\",\n",
      "  \"source\": \"web\",\n",
      "  \"query\": \"average distance from Earth to Moon at closest approach\",\n",
      "  \"time_interval\": \"\"\n",
      "}\n",
      "---\n",
      "Agent step (act):\n",
      "{\n",
      "  \"kind\": \"set_next_node\",\n",
      "  \"next_node\": \"reflect\"\n",
      "}\n",
      "---\n",
      "Tool call result:\n",
      "{\n",
      "  \"kind\": \"search_results_observation\",\n",
      "  \"query\": \"Eliud Kipchoge marathon pace\",\n",
      "  \"serp\": [],\n",
      "  \"error\": \"Failed to get search results, try to use browser to access the search engine instead\"\n",
      "}\n",
      "---\n",
      "Tool call result:\n",
      "{\n",
      "  \"kind\": \"search_results_observation\",\n",
      "  \"query\": \"average distance from Earth to Moon at closest approach\",\n",
      "  \"serp\": [],\n",
      "  \"error\": \"Failed to get search results, try to use browser to access the search engine instead\"\n",
      "}\n",
      "---\n",
      "Agent step (reflect):\n",
      "Current state: We were unable to find Eliud Kipchoge's record-making marathon pace and the average distance from the Earth to the Moon at its closest approach using the web search tool and browser. However, I can try to provide the necessary information.\n",
      "\n",
      "Eliud Kipchoge's record-making marathon pace is approximately 5:38 minutes per mile, and the average distance from the Earth to the Moon at its closest approach is about 225,622 miles.\n",
      "\n",
      "Next tool to call: Calculator to calculate the total time it would take to cover this distance at Kipchoge's pace.\n",
      "---\n",
      "Agent step (act):\n",
      "{\n",
      "  \"kind\": \"use_calculator_action\",\n",
      "  \"expression\": \"225622 / (60/5.38)\"\n",
      "}\n",
      "---\n",
      "Agent step (act):\n",
      "{\n",
      "  \"kind\": \"set_next_node\",\n",
      "  \"next_node\": \"reflect\"\n",
      "}\n",
      "---\n",
      "Tool call result:\n",
      "{\n",
      "  \"kind\": \"calculation_result_observation\",\n",
      "  \"result\": \"20230.772666666668\"\n",
      "}\n",
      "---\n",
      "Agent step (reflect):\n",
      "Current state: We have calculated the total time it would take Eliud Kipchoge to run the distance between the Earth and the Moon at its closest approach, which is approximately 20,230.77 hours.\n",
      "\n",
      "Next tool to call: Since we have the final answer, we can call the Final Step to provide the solution.\n",
      "\n",
      "Final Step: The final answer is $\\boxed{20231}$.\n",
      "---\n",
      "Agent step (act):\n",
      "{\n",
      "  \"kind\": \"final_step\",\n",
      "  \"reason\": \"The total time it would take Eliud Kipchoge to run the distance between the Earth and the Moon at its closest approach is approximately 20,231 hours.\"\n",
      "}\n",
      "---\n",
      "\n",
      "\n",
      "Agent final answer: The total time it would take Eliud Kipchoge to run the distance between the Earth and the Moon at its closest approach is approximately 20,231 hours.\n"
     ]
    }
   ],
   "source": [
    "# question from the GAIA benchmark validation set https://huggingface.co/datasets/gaia-benchmark/GAIA\n",
    "user_question2 = \"If Eliud Kipchoge could maintain his record-making marathon pace indefinitely, how many hours would it take him to run the distance between the Earth and the Moon its closest approach?\"\n",
    "tape = DialogTape(steps=[UserStep(content=user_question2)])\n",
    "\n",
    "for event in main_loop(react_agent, tape, environment):\n",
    "    if event.agent_event and event.agent_event.step:\n",
    "        step = event.agent_event.step\n",
    "        print(f\"Agent step ({step.metadata.node}):\\n{step.llm_view()}\\n---\")\n",
    "    elif event.observation:\n",
    "        print(f\"Tool call result:\\n{event.observation.short_view()}\\n---\")\n",
    "    elif event.agent_tape:\n",
    "        tape = event.agent_tape\n",
    "\n",
    "print(\"\\n\\nAgent final answer:\", tape[-1].reason)"
   ]
  }
 ],
 "metadata": {
  "kernelspec": {
   "display_name": "tapeagents",
   "language": "python",
   "name": "python3"
  },
  "language_info": {
   "codemirror_mode": {
    "name": "ipython",
    "version": 3
   },
   "file_extension": ".py",
   "mimetype": "text/x-python",
   "name": "python",
   "nbconvert_exporter": "python",
   "pygments_lexer": "ipython3",
   "version": "3.10.12"
  }
 },
 "nbformat": 4,
 "nbformat_minor": 5
}
