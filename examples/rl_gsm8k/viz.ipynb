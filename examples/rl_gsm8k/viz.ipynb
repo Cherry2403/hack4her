{
 "cells": [
  {
   "cell_type": "code",
   "execution_count": 1,
   "metadata": {},
   "outputs": [],
   "source": [
    "from tapeagents.rendering import PrettyRenderer, render_tape_with_prompts\n",
    "from tapeagents.io import load_tapes\n",
    "from IPython.display import HTML\n",
    "from math_agent import MathTape \n"
   ]
  },
  {
   "cell_type": "code",
   "execution_count": 4,
   "metadata": {},
   "outputs": [],
   "source": [
    "tapes = load_tapes(MathTape, \"/home/toolkit/TapeAgents/outputs/fast_rl_gsm8k/tapes/0\", \".json\")\n",
    "tape = tapes[1]"
   ]
  },
  {
   "cell_type": "code",
   "execution_count": 5,
   "metadata": {},
   "outputs": [
    {
     "data": {
      "text/html": [
       "<style>.basic-renderer-box { margin: 4px; padding: 2px; padding-left: 6px; background: lavender; white-space: pre-wrap; color: black;}.basic-prompt-box { margin: 4px; padding: 2px; padding-left: 6px; background: lavender; color: black;}.episode-row { display: flex; align-items: end; }.agent-column { width: 50%; }.user-column { width: 25%; }.annotator-column { width: 25%; }.inner-tape-container { display: flex }.inner-tape-indent { width: 10%; }.inner-tape { width: 90%; }.agent_node { text-align: center; position: relative; margin: 12px 0; }.agent_node hr { border: none; border-top: 2px solid #000; margin: 0 !important;  }.agent_node span { position: absolute; right: 0; top: -0.6em; background: white; color: grey !important; padding: 0 10px; }</style><style>.observation { background-color: #baffc9;; }.error_observation { background-color: #dd0000; }.action { background-color: #cccccc; }.thought { background-color: #ffffdb; }.call { background-color: #ffffff; }.respond { background-color: #ffffff; }.step-header { margin: 2pt 2pt 2pt 0 !important; }.step-text { font-size: 12px; white-space: pre-wrap; word-wrap: break-word;}</style><h3 style='margin: 2px'>Metadata</h3><details> <summary> id: bba6f8b1-e3d1-4698-bca3-be4d2330d948 </summary> <div class='basic-renderer-box'>author: MathAgent\n",
       "author_tape_id: null\n",
       "error: null\n",
       "id: bba6f8b1-e3d1-4698-bca3-be4d2330d948\n",
       "n_added_steps: 1\n",
       "parent_id: 13b0fd8a-2fdc-4b3d-9161-e552b72ea6b0\n",
       "result: {}\n",
       "</div> </details><h3 style='margin: 2px'>Steps</h3><div class='basic-renderer-box observation'><h4 class='step-header'>[0] Observation: Task</h4><pre class='step-text'>kind: task\n",
       "task: For every 12 cans you recycle, you receive $0.50, and for every 5 kilograms\n",
       "  of newspapers, you receive $1.50. If your family collected 144 cans and 20 kilograms\n",
       "  of newspapers, how much money would you receive?\n",
       "</pre></div><div class='basic-renderer-box thought'><h4 class='step-header'>[1] Thought: ReasoningThought</h4><pre class='step-text'>kind: reasoning_thought\n",
       "reasoning: First, let's calculate the money received from recycling cans. We have\n",
       "  144 cans and we receive $0.50 for every 12 cans.\n",
       "</pre></div><div class='basic-renderer-box action'><h4 class='step-header'>[2] Action: UseCalculatorAction</h4><pre class='step-text'>kind: use_calculator_action\n",
       "expression: 144 / 12 * 0.5\n",
       "</pre></div><div class='basic-renderer-box observation'><h4 class='step-header'>[3] Observation: CalculationResultObservation</h4><pre class='step-text'>kind: calculation_result_observation\n",
       "result: '6.0'\n",
       "</pre></div><div class='basic-renderer-box action'><h4 class='step-header'>[4] Action: UseCalculatorAction</h4><pre class='step-text'>kind: use_calculator_action\n",
       "expression: 20 / 5 * 1.5\n",
       "</pre></div><div class='basic-renderer-box observation'><h4 class='step-header'>[5] Observation: CalculationResultObservation</h4><pre class='step-text'>kind: calculation_result_observation\n",
       "result: '6.0'\n",
       "</pre></div><div class='basic-renderer-box action'><h4 class='step-header'>[6] Action: AnswerAction</h4><pre class='step-text'>kind: final_answer_action\n",
       "reason: ''\n",
       "text: You will receive $12.00 in total.\n",
       "value: 12.0\n",
       "</pre></div>"
      ],
      "text/plain": [
       "<IPython.core.display.HTML object>"
      ]
     },
     "metadata": {},
     "output_type": "display_data"
    }
   ],
   "source": [
    "display(HTML(render_tape_with_prompts(tape, PrettyRenderer())))"
   ]
  },
  {
   "cell_type": "code",
   "execution_count": null,
   "metadata": {},
   "outputs": [],
   "source": []
  }
 ],
 "metadata": {
  "kernelspec": {
   "display_name": "tapeagents",
   "language": "python",
   "name": "python3"
  },
  "language_info": {
   "codemirror_mode": {
    "name": "ipython",
    "version": 3
   },
   "file_extension": ".py",
   "mimetype": "text/x-python",
   "name": "python",
   "nbconvert_exporter": "python",
   "pygments_lexer": "ipython3",
   "version": "3.10.14"
  }
 },
 "nbformat": 4,
 "nbformat_minor": 2
}
