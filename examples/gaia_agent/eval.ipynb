{
 "cells": [
  {
   "cell_type": "code",
   "execution_count": 16,
   "metadata": {},
   "outputs": [],
   "source": [
    "root = \"../../../gaia/runs/\"\n",
    "r1 = \"../../../gaia/runs/gpt4o_mini_2/l{level}_gpt-4o-mini-2024-07-18_run.json\"\n",
    "r2 = \"../../../gaia/runs/gpt4o_mini_t02/l{level}_gpt-4o-mini-2024-07-18_run.json\"\n",
    "r3 = \"../../../gaia/runs/gpt4o_mini_t05/l{level}_gpt-4o-mini-2024-07-18_run.json\"\n",
    "# r3 = \"../../../gaia/runs/gpt4o_mini_t02_2/l1_gpt-4o-mini-2024-07-18_run.json\"\n"
   ]
  },
  {
   "cell_type": "code",
   "execution_count": 5,
   "metadata": {},
   "outputs": [],
   "source": [
    "import sys\n",
    "\n",
    "sys.path.append(\".\")\n"
   ]
  },
  {
   "cell_type": "code",
   "execution_count": 17,
   "metadata": {},
   "outputs": [],
   "source": [
    "from eval import GaiaResults, majority_vote, tape_correct\n",
    "\n",
    "from tapeagents.io import load_tapes\n",
    "\n",
    "lvl1 = []\n",
    "for fname in [r1, r2, r3]:\n",
    "    lvl1.append(load_tapes(GaiaResults, fname.format(level=\"1\"), file_extension=\".json\")[0])\n",
    "\n",
    "lvl2 = []\n",
    "for fname in [r1, r2, r3]:\n",
    "    lvl2.append(load_tapes(GaiaResults, fname.format(level=\"2\"), file_extension=\".json\")[0])\n",
    "\n",
    "lvl3 = []\n",
    "for fname in [r1, r2, r3]:\n",
    "    lvl3.append(load_tapes(GaiaResults, fname.format(level=\"3\"), file_extension=\".json\")[0])\n"
   ]
  },
  {
   "cell_type": "code",
   "execution_count": 18,
   "metadata": {},
   "outputs": [
    {
     "name": "stdout",
     "output_type": "stream",
     "text": [
      "L1 Accuracy 1: 0.321 (17 of 53)\n",
      "L1 Accuracy 2: 0.302 (16 of 53)\n",
      "L1 Accuracy 3: 0.377 (20 of 53)\n",
      "L1 Accuracy maj: 0.377 (20 of 53)\n",
      "\n",
      "L2 Accuracy 1: 0.163 (14 of 86)\n",
      "L2 Accuracy 2: 0.244 (21 of 86)\n",
      "L2 Accuracy 3: 0.151 (13 of 86)\n",
      "L2 Accuracy maj: 0.209 (18 of 86)\n",
      "\n",
      "L3 Accuracy 1: 0.000 (0 of 26)\n",
      "L3 Accuracy 2: 0.077 (2 of 26)\n",
      "L3 Accuracy 3: 0.038 (1 of 26)\n",
      "L3 Accuracy maj: 0.038 (1 of 26)\n",
      "\n",
      "Avg. Accuracy 1: 0.188 (31 of 165)\n",
      "Avg. Accuracy 2: 0.236 (39 of 165)\n",
      "Avg. Accuracy 3: 0.206 (34 of 165)\n",
      "Avg. Accuracy maj: 0.236 (39 of 165)\n"
     ]
    }
   ],
   "source": [
    "top_tapes = []\n",
    "avg = [[], [], [], []]\n",
    "for l, lvl in enumerate([lvl1, lvl2, lvl3]):\n",
    "    acc1 = []\n",
    "    acc2 = []\n",
    "    acc3 = []\n",
    "    acc = []\n",
    "    for i, tape in enumerate(lvl[0].tapes):\n",
    "        result1 = tape[\"metadata\"][\"result\"]\n",
    "        result2 = lvl[1].tapes[i][\"metadata\"][\"result\"]\n",
    "        result3 = lvl[2].tapes[i][\"metadata\"][\"result\"]\n",
    "        tapes = [tape, lvl[1].tapes[i], lvl[2].tapes[i]]\n",
    "        # print(result1, result2, result3)\n",
    "        results = [result1, result2, result3]\n",
    "        best_idx = majority_vote(results)\n",
    "        best = results[best_idx]\n",
    "        best_tape = tapes[best_idx]\n",
    "        acc1.append(int(tape_correct(tape)))\n",
    "        acc2.append(int(tape_correct(lvl[1].tapes[i])))\n",
    "        acc3.append(int(tape_correct(lvl[2].tapes[i])))\n",
    "        acc.append(int(tape_correct(best_tape)))\n",
    "        top_tapes.append(tapes[best_idx])\n",
    "        # print(best)\n",
    "        # print()\n",
    "    print(f\"L{l+1} Accuracy 1: {sum(acc1) / len(acc1):.3f} ({sum(acc1)} of {len(acc1)})\")\n",
    "    print(f\"L{l+1} Accuracy 2: {sum(acc2) / len(acc2):.3f} ({sum(acc2)} of {len(acc2)})\")\n",
    "    print(f\"L{l+1} Accuracy 3: {sum(acc3) / len(acc3):.3f} ({sum(acc3)} of {len(acc3)})\")\n",
    "    print(f\"L{l+1} Accuracy maj: {sum(acc) / len(acc):.3f} ({sum(acc)} of {len(acc)})\")\n",
    "    print()\n",
    "    avg[0] += acc1\n",
    "    avg[1] += acc2\n",
    "    avg[2] += acc3\n",
    "    avg[3] += acc\n",
    "\n",
    "print(f\"Avg. Accuracy 1: {sum(avg[0]) / len(avg[0]):.3f} ({sum(avg[0])} of {len(avg[0])})\")\n",
    "print(f\"Avg. Accuracy 2: {sum(avg[1]) / len(avg[1]):.3f} ({sum(avg[1])} of {len(avg[1])})\")\n",
    "print(f\"Avg. Accuracy 3: {sum(avg[2]) / len(avg[2]):.3f} ({sum(avg[2])} of {len(avg[2])})\")\n",
    "print(f\"Avg. Accuracy maj: {sum(avg[3]) / len(avg[3]):.3f} ({sum(avg[3])} of {len(avg[3])})\")\n"
   ]
  },
  {
   "cell_type": "code",
   "execution_count": 2,
   "metadata": {},
   "outputs": [],
   "source": [
    "import json\n"
   ]
  },
  {
   "cell_type": "code",
   "execution_count": 3,
   "metadata": {},
   "outputs": [
    {
     "name": "stdout",
     "output_type": "stream",
     "text": [
      "1152 879\n"
     ]
    }
   ],
   "source": [
    "with open(\"../../web_cache.json.old\") as f:\n",
    "    cache = json.load(f)\n",
    "with open(\"../../web_cache2.json\") as f:\n",
    "    cache2 = json.load(f)\n",
    "print(len(cache), len(cache2))\n"
   ]
  },
  {
   "cell_type": "code",
   "execution_count": 4,
   "metadata": {},
   "outputs": [],
   "source": [
    "full_cache = cache | cache2\n"
   ]
  },
  {
   "cell_type": "code",
   "execution_count": 5,
   "metadata": {},
   "outputs": [
    {
     "name": "stdout",
     "output_type": "stream",
     "text": [
      "38 348 1325\n"
     ]
    }
   ],
   "source": [
    "files = []\n",
    "pages = []\n",
    "texts = []\n",
    "for k, v in full_cache.items():\n",
    "    if \"http\" in k:\n",
    "        pages.append(k)\n",
    "    elif \"file://\" in k:\n",
    "        files.append(k)\n",
    "    else:\n",
    "        texts.append(k)\n",
    "print(len(files), len(pages), len(texts))\n"
   ]
  },
  {
   "cell_type": "code",
   "execution_count": 7,
   "metadata": {},
   "outputs": [],
   "source": [
    "clean_cache = {k.lower(): v for k, v in full_cache.items() if len(v) > 0}\n",
    "with open(\"../../web_cache.json\", \"w\") as f:\n",
    "    json.dump(clean_cache, f, indent=2, ensure_ascii=False)\n"
   ]
  }
 ],
 "metadata": {
  "kernelspec": {
   "display_name": "tapeagents2",
   "language": "python",
   "name": "python3"
  },
  "language_info": {
   "codemirror_mode": {
    "name": "ipython",
    "version": 3
   },
   "file_extension": ".py",
   "mimetype": "text/x-python",
   "name": "python",
   "nbconvert_exporter": "python",
   "pygments_lexer": "ipython3",
   "version": "3.10.14"
  }
 },
 "nbformat": 4,
 "nbformat_minor": 2
}
