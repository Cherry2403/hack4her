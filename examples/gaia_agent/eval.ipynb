{
 "cells": [
  {
   "cell_type": "code",
   "execution_count": null,
   "metadata": {},
   "outputs": [],
   "source": [
    "root = \"../../../gaia/runs/\"\n"
   ]
  },
  {
   "cell_type": "code",
   "execution_count": 47,
   "metadata": {},
   "outputs": [],
   "source": [
    "r1 = \"../../../gaia/runs/gpt4o_mini_2/l{level}_gpt-4o-mini-2024-07-18_run.json\"\n",
    "r2 = \"../../../gaia/runs/gpt4o_mini_t02/l{level}_gpt-4o-mini-2024-07-18_run.json\"\n",
    "r3 = \"../../../gaia/runs/gpt4o_mini_t05/l{level}_gpt-4o-mini-2024-07-18_run.json\"\n",
    "# r4 = \"../../../gaia/runs/gpt4o_mini_t02_2/l1_gpt-4o-mini-2024-07-18_run.json\"\n"
   ]
  },
  {
   "cell_type": "code",
   "execution_count": 23,
   "metadata": {},
   "outputs": [],
   "source": [
    "import sys\n",
    "\n",
    "sys.path.append(\"./\")\n"
   ]
  },
  {
   "cell_type": "code",
   "execution_count": 48,
   "metadata": {},
   "outputs": [],
   "source": [
    "from eval import GaiaResults, majority_vote, tape_correct\n",
    "from tapeagents.io import load_tapes\n",
    "\n",
    "lvl1 = []\n",
    "for fname in [r1, r2, r3]:\n",
    "    lvl1.append(load_tapes(GaiaResults, fname.format(level=\"1\"), file_extension=\".json\")[0])\n",
    "\n",
    "lvl2 = []\n",
    "for fname in [r1, r2, r3]:\n",
    "    lvl2.append(load_tapes(GaiaResults, fname.format(level=\"2\"), file_extension=\".json\")[0])\n",
    "\n",
    "lvl3 = []\n",
    "for fname in [r1, r2, r3]:\n",
    "    lvl3.append(load_tapes(GaiaResults, fname.format(level=\"3\"), file_extension=\".json\")[0])\n"
   ]
  },
  {
   "cell_type": "code",
   "execution_count": 53,
   "metadata": {},
   "outputs": [
    {
     "name": "stdout",
     "output_type": "stream",
     "text": [
      "L1 Accuracy 1:  0.32075471698113206\n",
      "L1 Accuracy 2:  0.3018867924528302\n",
      "L1 Accuracy 3:  0.37735849056603776\n",
      "L1 Accuracy maj:  0.37735849056603776\n",
      "\n",
      "L2 Accuracy 1:  0.16279069767441862\n",
      "L2 Accuracy 2:  0.2441860465116279\n",
      "L2 Accuracy 3:  0.1511627906976744\n",
      "L2 Accuracy maj:  0.20930232558139536\n",
      "\n",
      "L3 Accuracy 1:  0.0\n",
      "L3 Accuracy 2:  0.07692307692307693\n",
      "L3 Accuracy 3:  0.038461538461538464\n",
      "L3 Accuracy maj:  0.038461538461538464\n",
      "\n",
      "Average Accuracy 1:  0.18787878787878787\n",
      "Average Accuracy 2:  0.23636363636363636\n",
      "Average Accuracy 3:  0.20606060606060606\n",
      "Average Accuracy maj:  0.23636363636363636\n"
     ]
    }
   ],
   "source": [
    "top_tapes = []\n",
    "avg = [[], [], [], []]\n",
    "for l, lvl in enumerate([lvl1, lvl2, lvl3]):\n",
    "    acc1 = []\n",
    "    acc2 = []\n",
    "    acc3 = []\n",
    "    acc = []\n",
    "    for i, tape in enumerate(lvl[0].tapes):\n",
    "        result1 = tape[\"metadata\"][\"result\"]\n",
    "        result2 = lvl[1].tapes[i][\"metadata\"][\"result\"]\n",
    "        result3 = lvl[2].tapes[i][\"metadata\"][\"result\"]\n",
    "        tapes = [tape, lvl[1].tapes[i], lvl[2].tapes[i]]\n",
    "        # print(result1, result2, result3)\n",
    "        results = [result1, result2, result3]\n",
    "        best_idx = majority_vote(results)\n",
    "        best = results[best_idx]\n",
    "        best_tape = tapes[best_idx]\n",
    "        acc1.append(int(tape_correct(tape)))\n",
    "        acc2.append(int(tape_correct(lvl[1].tapes[i])))\n",
    "        acc3.append(int(tape_correct(lvl[2].tapes[i])))\n",
    "        acc.append(int(tape_correct(best_tape)))\n",
    "        top_tapes.append(tapes[best_idx])\n",
    "        # print(best)\n",
    "        # print()\n",
    "    print(f\"L{l+1} Accuracy 1: \", sum(acc1) / len(acc1))\n",
    "    print(f\"L{l+1} Accuracy 2: \", sum(acc2) / len(acc2))\n",
    "    print(f\"L{l+1} Accuracy 3: \", sum(acc3) / len(acc3))\n",
    "    print(f\"L{l+1} Accuracy maj: \", sum(acc) / len(acc))\n",
    "    print()\n",
    "    avg[0] += acc1\n",
    "    avg[1] += acc2\n",
    "    avg[2] += acc3\n",
    "    avg[3] += acc\n",
    "\n",
    "print(\"Average Accuracy 1: \", sum(avg[0]) / len(avg[0]))\n",
    "print(\"Average Accuracy 2: \", sum(avg[1]) / len(avg[1]))\n",
    "print(\"Average Accuracy 3: \", sum(avg[2]) / len(avg[2]))\n",
    "print(\"Average Accuracy maj: \", sum(avg[3]) / len(avg[3]))\n"
   ]
  },
  {
   "cell_type": "code",
   "execution_count": 54,
   "metadata": {},
   "outputs": [
    {
     "name": "stdout",
     "output_type": "stream",
     "text": [
      "Collecting partialjson\n",
      "  Downloading partialjson-0.0.8-py3-none-any.whl.metadata (2.2 kB)\n",
      "Downloading partialjson-0.0.8-py3-none-any.whl (4.5 kB)\n",
      "Installing collected packages: partialjson\n",
      "Successfully installed partialjson-0.0.8\n"
     ]
    }
   ],
   "source": [
    "!pip install partialjson\n"
   ]
  },
  {
   "cell_type": "code",
   "execution_count": 55,
   "metadata": {},
   "outputs": [],
   "source": [
    "from partialjson.json_parser import JSONParser\n",
    "\n",
    "parser = JSONParser()\n"
   ]
  },
  {
   "cell_type": "code",
   "execution_count": null,
   "metadata": {},
   "outputs": [],
   "source": [
    "with open(\"../../web_cache.json\") as f:\n",
    "    cache = parser.parse(f.read())\n"
   ]
  },
  {
   "cell_type": "code",
   "execution_count": null,
   "metadata": {},
   "outputs": [],
   "source": [
    "len(cache)\n"
   ]
  }
 ],
 "metadata": {
  "kernelspec": {
   "display_name": "tapeagents2",
   "language": "python",
   "name": "python3"
  },
  "language_info": {
   "codemirror_mode": {
    "name": "ipython",
    "version": 3
   },
   "file_extension": ".py",
   "mimetype": "text/x-python",
   "name": "python",
   "nbconvert_exporter": "python",
   "pygments_lexer": "ipython3",
   "version": "3.10.14"
  }
 },
 "nbformat": 4,
 "nbformat_minor": 2
}
