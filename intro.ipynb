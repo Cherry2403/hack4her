{
 "cells": [
  {
   "cell_type": "markdown",
   "metadata": {},
   "source": [
    "# Welcome to TapeAgents!"
   ]
  },
  {
   "cell_type": "markdown",
   "metadata": {},
   "source": [
    "\n",
    "**TapeAgents** is a framework to build, debug, serve and optimize your AI agent. It takes a holistic view of the agent lifecycle and aims to support you at all stages. The main distinguishing feature of the framework is that by design a **TapeAgent** creates its  \n",
    "**Tape**: a compherensive semantic log of the agent's session that greatly facilitates audit, debugging, finetuning, agent optimization, etc.\n",
    "\n",
    "In this tutorial you will learn:\n",
    "- how to create TapeAgents using the low-level API\n",
    "- run and resume TapeAgents\n",
    "- have one TapeAgent reuse another TapeAgent's tape as training data\n",
    "\n",
    "In upcoming versions of this tutorial you will also learn: \n",
    "- how to make a team TapeAgent with subagents\n",
    "- how to build TapeAgents using available high-level APIs\n",
    "- how to build a TapeAgent that streams partial steps\n",
    "\n",
    "Other tutorials and examples will cover:\n",
    "- code execution and browser use\n",
    "- finetuning\n",
    "- the TapeAgents apps (Studio and Browser)"
   ]
  },
  {
   "cell_type": "markdown",
   "metadata": {},
   "source": [
    "# Setup\n",
    "We're assuming that you already installed project through the `make setup` or and jupyter notebook is running in the context of the project. If not, please refer to the [README](README.md) for more detailed instructions."
   ]
  },
  {
   "cell_type": "code",
   "execution_count": 1,
   "metadata": {
    "execution": {
     "iopub.execute_input": "2024-10-01T15:24:14.859801Z",
     "iopub.status.busy": "2024-10-01T15:24:14.859261Z",
     "iopub.status.idle": "2024-10-01T15:24:14.870222Z",
     "shell.execute_reply": "2024-10-01T15:24:14.869914Z"
    }
   },
   "outputs": [],
   "source": [
    "# Now set the OPENAI_API_KEY environment variable to your API key.\n",
    "\n",
    "import os\n",
    "\n",
    "if \"OPENAI_API_KEY\" not in os.environ:\n",
    "    os.environ[\"OPENAI_API_KEY\"] = \"<your-api-key>\"\n",
    "    # os.environ[\"OPENAI_ORGANIZATION\"] = \"\" # optional\n",
    "today = \"2024-09-17\"  # fixed date for reproducible tests\n"
   ]
  },
  {
   "cell_type": "markdown",
   "metadata": {},
   "source": [
    "# 1. Your first TapeAgent"
   ]
  },
  {
   "cell_type": "markdown",
   "metadata": {},
   "source": [
    "In this section we will build the simplest possible \"hello world\" agent. We will then go through all the new concepts that you need to know to understand the code. This section is quite long, but with the solid foundation you acquire here other TapeAgent tutorials will be easy to process.\n",
    "\n",
    "Without further ado, here's the code!"
   ]
  },
  {
   "cell_type": "code",
   "execution_count": 2,
   "metadata": {
    "execution": {
     "iopub.execute_input": "2024-10-01T15:24:14.872231Z",
     "iopub.status.busy": "2024-10-01T15:24:14.872091Z",
     "iopub.status.idle": "2024-10-01T15:24:22.066303Z",
     "shell.execute_reply": "2024-10-01T15:24:22.065467Z"
    }
   },
   "outputs": [
    {
     "name": "stdout",
     "output_type": "stream",
     "text": [
      "Final tape: {\n",
      "  \"metadata\": {\n",
      "    \"id\": \"08b45c69-5480-4954-ab09-0a7eca362370\",\n",
      "    \"parent_id\": \"2595735e-6634-45e8-82da-6858b2bae695\",\n",
      "    \"author\": \"Agent\",\n",
      "    \"author_tape_id\": null,\n",
      "    \"n_added_steps\": 2,\n",
      "    \"error\": null,\n",
      "    \"result\": null\n",
      "  },\n",
      "  \"context\": null,\n",
      "  \"steps\": [\n",
      "    {\n",
      "      \"metadata\": {\n",
      "        \"id\": \"16c521e1-eebe-4e31-a5c5-e17f1aa45f38\",\n",
      "        \"prompt_id\": \"\",\n",
      "        \"node\": \"\",\n",
      "        \"agent\": \"\",\n",
      "        \"other\": {}\n",
      "      },\n",
      "      \"content\": \"Tell me about Vulcan in 3 sentences\",\n",
      "      \"kind\": \"user\"\n",
      "    },\n",
      "    {\n",
      "      \"metadata\": {\n",
      "        \"id\": \"16c521e1-eebe-4e31-a5c5-e17f1aa45f38\",\n",
      "        \"prompt_id\": \"8e389dc7-a08b-4eb0-a5d9-330340f775cb\",\n",
      "        \"node\": \"MainNode\",\n",
      "        \"agent\": \"Agent\",\n",
      "        \"other\": {}\n",
      "      },\n",
      "      \"content\": \"Vulcan is a Roman god associated with fire, metalworking, and craftsmanship, often considered the equivalent of the Greek god Hephaestus. He is known for his skill in crafting weapons and armor for the gods and heroes, and his forge is said to be located under Mount Etna, where volcanic activity symbolizes his fiery nature. Vulcan was also associated with volcanic eruptions and was often depicted as a bearded man with a hammer and anvil, representing the elemental forces of fire and creation.\",\n",
      "      \"kind\": \"assistant\"\n",
      "    },\n",
      "    {\n",
      "      \"metadata\": {\n",
      "        \"id\": \"16c521e1-eebe-4e31-a5c5-e17f1aa45f38\",\n",
      "        \"prompt_id\": \"8e389dc7-a08b-4eb0-a5d9-330340f775cb\",\n",
      "        \"node\": \"MainNode\",\n",
      "        \"agent\": \"Agent\",\n",
      "        \"other\": {}\n",
      "      },\n",
      "      \"kind\": \"set_next_node\",\n",
      "      \"next_node\": 0\n",
      "    }\n",
      "  ]\n",
      "}\n"
     ]
    }
   ],
   "source": [
    "from tapeagents.agent import Agent, Node\n",
    "from tapeagents.core import Prompt, SetNextNode\n",
    "from tapeagents.dialog_tape import AssistantStep, UserStep, DialogTape\n",
    "from tapeagents.llms import LLMStream, LiteLLM\n",
    "from tapeagents.prompting import tape_to_messages\n",
    "\n",
    "llm = LiteLLM(model_name=\"gpt-4o-mini\")\n",
    "\n",
    "\n",
    "class MainNode(Node):\n",
    "    def make_prompt(self, agent: Agent, tape: DialogTape) -> Prompt:\n",
    "        # Render the whole tape into the prompt, each step is converted to message\n",
    "        return Prompt(messages=tape_to_messages(tape))\n",
    "\n",
    "    def generate_steps(self, agent: Agent, tape: DialogTape, llm_stream: LLMStream):\n",
    "        yield AssistantStep(content=llm_stream.get_text())  # Generate new step from the LLM output stream.\n",
    "        yield SetNextNode(next_node=0)  # Which node to execute next, more on that later\n",
    "\n",
    "\n",
    "agent = Agent[DialogTape].create(llm, nodes=[MainNode()])\n",
    "start_tape = DialogTape(steps=[UserStep(content=\"Tell me about Vulcan in 3 sentences\")])\n",
    "final_tape = agent.run(start_tape).get_final_tape()  # agent will start executing the first node\n",
    "print(f\"Final tape: {final_tape.model_dump_json(indent=2)}\")\n"
   ]
  },
  {
   "cell_type": "markdown",
   "metadata": {},
   "source": [
    "Now let's learn about tapes, steps, prompts, llm streams, nodes and agents."
   ]
  },
  {
   "cell_type": "markdown",
   "metadata": {},
   "source": [
    "### Tape\n",
    "\n",
    "The fundamental concept of the TapeAgents is the `Tape`, a comprehensive semantic level log of the agent's session. A `Tape` contains a context and a sequence of `Step` objects. As you can see, a TapeAgent runs by adding steps (such as `UserStep` or `AssistantStep`) to the _tape_. This example uses the `DialogTape` tape, which is a basic tape for user-assistant conversations. Let's see what are the possible steps in a `DialogTape`."
   ]
  },
  {
   "cell_type": "code",
   "execution_count": 3,
   "metadata": {
    "execution": {
     "iopub.execute_input": "2024-10-01T15:24:22.097830Z",
     "iopub.status.busy": "2024-10-01T15:24:22.097613Z",
     "iopub.status.idle": "2024-10-01T15:24:22.103223Z",
     "shell.execute_reply": "2024-10-01T15:24:22.102531Z"
    }
   },
   "outputs": [
    {
     "data": {
      "text/plain": [
       "tapeagents.core.Tape[Union[DialogContext, NoneType], Union[UserStep, ToolResult, SystemStep, AssistantThought, SetNextNode, Pass, Call, Respond, FinalStep, AssistantStep, ToolCalls]]"
      ]
     },
     "execution_count": 3,
     "metadata": {},
     "output_type": "execute_result"
    }
   ],
   "source": [
    "# We use Python generics to instantiate many different Tape types by\n",
    "# specifying different Context and Step types. In the output of this cell,\n",
    "# look at Union[UserStep, AssistantStep, ...]\n",
    "# for the list of possible step types in the DialogTape.\n",
    "DialogTape\n"
   ]
  },
  {
   "cell_type": "markdown",
   "metadata": {},
   "source": [
    "Some of these steps should be familiar to you. `UserStep`, `AssistantStep`, `SystemStep` and `ToolResult` correspond to `role=user`, `role=assistant`, `role=system` and `role=tool` LLM API messages respectively. `ToolCalls` and `AssistantThought` correspond to assistant messages where the LLM requests a tool call or produces an intermediate thought that is not meant to be shown to the user. `SetNextNode` and `Pass` are TapeAgent's internal step to control which node it should run at the next iteration (more on this below)."
   ]
  },
  {
   "cell_type": "markdown",
   "metadata": {},
   "source": [
    "### Prompt format; LLMs"
   ]
  },
  {
   "cell_type": "markdown",
   "metadata": {},
   "source": [
    "We use the industry-standard \"chat.completions\" prompt format in TapeAgents: a list of user/assistant/system/tool messages plus tool schemas."
   ]
  },
  {
   "cell_type": "code",
   "execution_count": 4,
   "metadata": {
    "execution": {
     "iopub.execute_input": "2024-10-01T15:24:22.105933Z",
     "iopub.status.busy": "2024-10-01T15:24:22.105735Z",
     "iopub.status.idle": "2024-10-01T15:24:22.109196Z",
     "shell.execute_reply": "2024-10-01T15:24:22.108723Z"
    }
   },
   "outputs": [
    {
     "data": {
      "text/plain": [
       "{'id': FieldInfo(annotation=str, required=False, default_factory=<lambda>),\n",
       " 'tools': FieldInfo(annotation=Union[list[dict], NoneType], required=False, default=None),\n",
       " 'messages': FieldInfo(annotation=list[dict], required=False, default=[])}"
      ]
     },
     "execution_count": 4,
     "metadata": {},
     "output_type": "execute_result"
    }
   ],
   "source": [
    "# Almost all classes in TapeAgents are Pydantic base models.\n",
    "# This allows easy validation, serialization and instrospection. For example,\n",
    "# here we are able to list all the fields in the Prompt model.\n",
    "Prompt.model_fields\n"
   ]
  },
  {
   "cell_type": "markdown",
   "metadata": {},
   "source": [
    "The LLMs in TapeAgent take `Prompt` and return an `LLMStream` object. The `LLMStream` object can be used both to fast-forward to the complete response text and to stream partial outputs step by step."
   ]
  },
  {
   "cell_type": "code",
   "execution_count": 5,
   "metadata": {
    "execution": {
     "iopub.execute_input": "2024-10-01T15:24:22.112869Z",
     "iopub.status.busy": "2024-10-01T15:24:22.112488Z",
     "iopub.status.idle": "2024-10-01T15:24:30.601601Z",
     "shell.execute_reply": "2024-10-01T15:24:30.600695Z"
    }
   },
   "outputs": [
    {
     "name": "stdout",
     "output_type": "stream",
     "text": [
      "Certainly! Here’s a simple \"Hello, World!\" program in Java:\n",
      "\n"
     ]
    },
    {
     "name": "stdout",
     "output_type": "stream",
     "text": [
      "```java\n",
      "public"
     ]
    },
    {
     "name": "stdout",
     "output_type": "stream",
     "text": [
      " class HelloWorld {\n",
      "    public static void main(String[] args) {\n",
      "        System.out.println(\"Hello, World!\");\n",
      "    }\n",
      "}\n",
      "```\n",
      "\n",
      "### How to Run the Program:\n",
      "\n",
      "1. **Save"
     ]
    },
    {
     "name": "stdout",
     "output_type": "stream",
     "text": [
      " the Code**: Copy the code into a text editor and"
     ]
    },
    {
     "name": "stdout",
     "output_type": "stream",
     "text": [
      " save it as `HelloWorld.java`.\n",
      "\n",
      "2. **Compile the Program**: Open a command prompt or terminal"
     ]
    },
    {
     "name": "stdout",
     "output_type": "stream",
     "text": [
      ", navigate to the directory where you saved the file, and"
     ]
    },
    {
     "name": "stdout",
     "output_type": "stream",
     "text": [
      " run:\n",
      "   ```bash\n",
      "   javac HelloWorld.java\n",
      "   ```\n",
      "\n",
      "3. **Run"
     ]
    },
    {
     "name": "stdout",
     "output_type": "stream",
     "text": [
      " the Program**: After compiling, execute the program with:\n",
      "   ```"
     ]
    },
    {
     "name": "stdout",
     "output_type": "stream",
     "text": [
      "bash\n",
      "   java HelloWorld\n",
      "   ```\n",
      "\n",
      "You should see the output:\n",
      "```\n"
     ]
    },
    {
     "name": "stdout",
     "output_type": "stream",
     "text": [
      "Hello, World!\n",
      "```None\n",
      "------------------------------\n"
     ]
    },
    {
     "name": "stdout",
     "output_type": "stream",
     "text": [
      "Certainly! Here is a simple \"Hello, World!\" program written in C:\n",
      "\n",
      "```c\n",
      "#include <stdio.h>\n",
      "\n",
      "int main() {\n",
      "    printf(\"Hello, World!\\n\");\n",
      "    return 0;\n",
      "}\n",
      "```\n",
      "\n",
      "### Explanation:\n",
      "- `#include <stdio.h>`: This line includes the standard input-output library, which is necessary for using the `printf` function.\n",
      "- `int main()`: This is the main function where the program execution begins.\n",
      "- `printf(\"Hello, World!\\n\");`: This line prints \"Hello, World!\" followed by a newline character to the console.\n",
      "- `return 0;`: This indicates that the program ended successfully.\n",
      "\n",
      "To compile and run this program, you can use a C compiler like `gcc`. Here’s how you can do it in a terminal:\n",
      "\n",
      "1. Save the code to a file, for example, `hello.c`.\n",
      "2. Compile the code using:\n",
      "   ```bash\n",
      "   gcc hello.c -o hello\n",
      "   ```\n",
      "3. Run the compiled program using:\n",
      "   ```bash\n",
      "   ./hello\n",
      "   ```\n",
      "\n",
      "You should see the output:\n",
      "```\n",
      "Hello, World!\n",
      "```\n"
     ]
    }
   ],
   "source": [
    "llm_stream = LiteLLM(model_name=\"gpt-4o-mini-2024-07-18\", stream=True)\n",
    "\n",
    "# Streaming\n",
    "prompt = Prompt(messages=[{\"role\": \"user\", \"content\": \"Write hello world in Java\"}])\n",
    "for event in llm_stream.generate(prompt):\n",
    "    print(event.chunk, end=\"\")\n",
    "\n",
    "# No streaming\n",
    "# (note: you can not use Prompt object for more than 1 LLM call in TapeAgents)\n",
    "prompt = Prompt(messages=[{\"role\": \"user\", \"content\": \"Write hello world in C\"}])\n",
    "print(\"\\n\" + \"-\" * 30)\n",
    "print(llm_stream.generate(prompt).get_text())\n"
   ]
  },
  {
   "cell_type": "markdown",
   "metadata": {},
   "source": [
    "In the example above we use the easiest way to create a prompt from the tapes: `tape_to_messages`. Under the hood this method uses `step.llm_dict()` method of all non-control steps in the tape to create the prompt:"
   ]
  },
  {
   "cell_type": "code",
   "execution_count": 6,
   "metadata": {
    "execution": {
     "iopub.execute_input": "2024-10-01T15:24:30.604950Z",
     "iopub.status.busy": "2024-10-01T15:24:30.604527Z",
     "iopub.status.idle": "2024-10-01T15:24:30.609422Z",
     "shell.execute_reply": "2024-10-01T15:24:30.608803Z"
    }
   },
   "outputs": [
    {
     "name": "stdout",
     "output_type": "stream",
     "text": [
      "{'content': 'hi AI!', 'kind': 'user'}\n",
      "{'content': 'hello human', 'kind': 'assistant'}\n",
      "[{'role': 'user', 'content': 'hi AI!'}, {'role': 'assistant', 'content': 'hello human'}]\n"
     ]
    }
   ],
   "source": [
    "print((user := UserStep(content=\"hi AI!\")).llm_dict())\n",
    "print((assistant := AssistantStep(content=\"hello human\")).llm_dict())\n",
    "print(tape_to_messages(DialogTape(steps=[user, assistant])))\n"
   ]
  },
  {
   "cell_type": "markdown",
   "metadata": {},
   "source": [
    "A key priority in TapeAgents is making use of the data that running the agent generates. To make this possible, some TapeAgent LLMs know how to make their finetuning data:"
   ]
  },
  {
   "cell_type": "code",
   "execution_count": 7,
   "metadata": {
    "execution": {
     "iopub.execute_input": "2024-10-01T15:24:30.612397Z",
     "iopub.status.busy": "2024-10-01T15:24:30.612077Z",
     "iopub.status.idle": "2024-10-01T15:24:32.599304Z",
     "shell.execute_reply": "2024-10-01T15:24:32.598993Z"
    }
   },
   "outputs": [
    {
     "name": "stdout",
     "output_type": "stream",
     "text": [
      "--- ALL TEXT ---\n",
      "<|user|>\n",
      "Say bla 3 times and foo 2 times<|end|>\n",
      "<|endoftext|><|assistant|>\n",
      "Sure! Let me say bla bla bla foo foo<|end|>\n",
      "<|endoftext|>\n",
      "--- PREDICTED CHARACTERS ---\n",
      "<|assistant|>\n",
      "Sure! Let me say bla bla bla foo foo<|end|>\n",
      "<|endoftext|>\n"
     ]
    }
   ],
   "source": [
    "from tapeagents.core import LLMOutput\n",
    "from tapeagents.llms import TrainableLLM\n",
    "\n",
    "trainable_llm = TrainableLLM(\n",
    "    base_url=\"\",  # we only use the tokenizer from the model here, no need for a base_url for inference\n",
    "    model_name=\"microsoft/Phi-3.5-MoE-instruct\",\n",
    "    tokenizer_name=\"microsoft/Phi-3.5-MoE-instruct\",\n",
    ")\n",
    "\n",
    "simple_tape = DialogTape(\n",
    "    steps=[\n",
    "        UserStep(content=\"Say bla 3 times and foo 2 times\"),\n",
    "        AssistantStep(content=\"Sure! Let me say bla bla bla foo foo\"),\n",
    "    ]\n",
    ")\n",
    "\n",
    "prompt = Prompt(messages=tape_to_messages(simple_tape[:1]))  # type: ignore\n",
    "output = agent.make_llm_output(simple_tape, index=1)\n",
    "text = trainable_llm.make_training_text(prompt=prompt, output=output)\n",
    "print(\"--- ALL TEXT ---\")\n",
    "print(text.text)\n",
    "print(\"--- PREDICTED CHARACTERS ---\")\n",
    "print(text.output_text)\n"
   ]
  },
  {
   "cell_type": "markdown",
   "metadata": {},
   "source": [
    "### Node"
   ]
  },
  {
   "cell_type": "markdown",
   "metadata": {},
   "source": [
    "A node represents an uninterruptible atom of TapeAgent's computation. When TapeAgents runs a node, it uses its two main functions: `make_prompt` to create LLM Prompt from the tape and `generate_steps` to create new steps from the LLM output. To build a node, you can subclass `Node` and override these functions. Note that `generate_steps` must be a generator, a design choice we made to make TapeAgents a streaming-friendly framework. \n",
    "\n",
    "Let's see what the node from the above example can do."
   ]
  },
  {
   "cell_type": "code",
   "execution_count": 8,
   "metadata": {
    "execution": {
     "iopub.execute_input": "2024-10-01T15:24:32.600962Z",
     "iopub.status.busy": "2024-10-01T15:24:32.600796Z",
     "iopub.status.idle": "2024-10-01T15:24:33.248262Z",
     "shell.execute_reply": "2024-10-01T15:24:33.247689Z"
    }
   },
   "outputs": [
    {
     "name": "stdout",
     "output_type": "stream",
     "text": [
      "Raw node prompt:\n",
      "id='53932fae-43f4-48fa-86a2-44c54fb7bff4' tools=None messages=[{'role': 'user', 'content': 'Hi, AI!'}]\n",
      "\n",
      "Steps produced by node's generator:\n",
      "[AssistantStep(metadata=StepMetadata(id='16c521e1-eebe-4e31-a5c5-e17f1aa45f38', prompt_id='', node='', agent='', other={}), content='Hello, human!', kind='assistant'), SetNextNode(metadata=StepMetadata(id='16c521e1-eebe-4e31-a5c5-e17f1aa45f38', prompt_id='', node='', agent='', other={}), kind='set_next_node', next_node=0)]\n",
      "\n",
      "Produced Steps:\n"
     ]
    },
    {
     "name": "stdout",
     "output_type": "stream",
     "text": [
      "{\n",
      "  \"metadata\": {\n",
      "    \"id\": \"16c521e1-eebe-4e31-a5c5-e17f1aa45f38\",\n",
      "    \"prompt_id\": \"\",\n",
      "    \"node\": \"\",\n",
      "    \"agent\": \"\",\n",
      "    \"other\": {}\n",
      "  },\n",
      "  \"content\": \"Hello! How can I assist you today?\",\n",
      "  \"kind\": \"assistant\"\n",
      "}\n",
      "{\n",
      "  \"metadata\": {\n",
      "    \"id\": \"16c521e1-eebe-4e31-a5c5-e17f1aa45f38\",\n",
      "    \"prompt_id\": \"\",\n",
      "    \"node\": \"\",\n",
      "    \"agent\": \"\",\n",
      "    \"other\": {}\n",
      "  },\n",
      "  \"kind\": \"set_next_node\",\n",
      "  \"next_node\": 0\n",
      "}\n"
     ]
    }
   ],
   "source": [
    "from tapeagents.llms import LLMEvent\n",
    "\n",
    "\n",
    "class MainNode(Node):\n",
    "    def make_prompt(self, agent, tape: DialogTape) -> Prompt:\n",
    "        return Prompt(messages=tape_to_messages(tape))\n",
    "\n",
    "    def generate_steps(self, agent, tape, llm_stream: LLMStream):\n",
    "        yield AssistantStep(content=llm_stream.get_text())\n",
    "        yield SetNextNode(next_node=0)  # Continue to the same first node\n",
    "\n",
    "\n",
    "node = MainNode()\n",
    "\n",
    "# Let's run \"make_prompt\" in isolation.\n",
    "prompt = node.make_prompt(agent=None, tape=DialogTape(steps=[UserStep(content=\"Hi, AI!\")]))\n",
    "print(f\"Raw node prompt:\\n{prompt}\\n\")\n",
    "\n",
    "\n",
    "# Now, let's run \"generate_steps\" in isolation.\n",
    "# We need to construct a fake LLMStream to do that.\n",
    "def _generator():\n",
    "    yield LLMEvent(output=LLMOutput(content=\"Hello, human!\"))\n",
    "\n",
    "\n",
    "stream = LLMStream(_generator(), Prompt())\n",
    "step_stream = node.generate_steps(agent=None, tape=DialogTape(), llm_stream=stream)\n",
    "print(f\"Steps produced by node's generator:\\n{list(step_stream)}\\n\")\n",
    "\n",
    "# When the agent runs a node, it is a equivalent to the following three steps:\n",
    "# Step 1: make a prompt\n",
    "start_tape = DialogTape(steps=[UserStep(content=\"Hi, AI!\")])\n",
    "prompt = node.make_prompt(agent, start_tape)\n",
    "# Step 2: construct the LLMStream from the prompt (happens inside the agent)\n",
    "stream = llm.generate(prompt)\n",
    "# Step 3: generate steps that the agent will then add to the tape\n",
    "print(\"Produced Steps:\")\n",
    "for step in node.generate_steps(agent, start_tape, stream):\n",
    "    print(step.model_dump_json(indent=2))\n"
   ]
  },
  {
   "cell_type": "markdown",
   "metadata": {},
   "source": [
    "### Agent and its nodes"
   ]
  },
  {
   "cell_type": "markdown",
   "metadata": {},
   "source": [
    "The TapeAgent agent iteratively runs the nodes and appends the steps generated by each node to the tape. To select which next node to run, internally a TapeAgent computes the **tape view** object. The Tape remains the only **state** that the agent uses, the view only represents its content in a way that is convenient for the agent to use.\n"
   ]
  },
  {
   "cell_type": "code",
   "execution_count": 9,
   "metadata": {
    "execution": {
     "iopub.execute_input": "2024-10-01T15:24:33.251584Z",
     "iopub.status.busy": "2024-10-01T15:24:33.251176Z",
     "iopub.status.idle": "2024-10-01T15:24:33.257781Z",
     "shell.execute_reply": "2024-10-01T15:24:33.257363Z"
    }
   },
   "outputs": [
    {
     "name": "stdout",
     "output_type": "stream",
     "text": [
      "0\n",
      "1\n",
      "0\n"
     ]
    }
   ],
   "source": [
    "from tapeagents.view import TapeViewStack\n",
    "from tapeagents.core import StepMetadata\n",
    "\n",
    "# The \"top\" view in the tape view stack is the view of current agent. Initially `top.next_node` is 0\".\n",
    "tape1 = DialogTape(steps=[UserStep(content=\"Hi, AI!\")])\n",
    "next_node1 = TapeViewStack.compute(tape1).top.next_node\n",
    "print(next_node1)\n",
    "assert next_node1 == 0\n",
    "\n",
    "\n",
    "# When the agent computes the view, it bumps up `top.next_node` every time it encounters a step with a new `prompt_id``.\n",
    "# The new prompt_id on the tape signals to the agent the current node has run.\n",
    "tape2 = DialogTape(\n",
    "    steps=[\n",
    "        UserStep(content=\"Hi, AI!\"),\n",
    "        AssistantStep(metadata=StepMetadata(prompt_id=\"123\"), content=\"AI here, how I can help?\"),\n",
    "    ]\n",
    ")\n",
    "next_node2 = TapeViewStack.compute(tape2).top.next_node\n",
    "print(next_node2)\n",
    "assert next_node2 == 1\n",
    "\n",
    "# The SetNextNode step on the tape changes `top.next_node` to the value of the `next_node` field in the SetNextNode step.\n",
    "tape3 = DialogTape(\n",
    "    steps=[\n",
    "        UserStep(content=\"Hi, AI!\"),\n",
    "        AssistantStep(metadata=StepMetadata(prompt_id=\"123\"), content=\"AI here, how I can help?\"),\n",
    "        SetNextNode(next_node=0),\n",
    "    ]\n",
    ")\n",
    "next_node3 = TapeViewStack.compute(tape3).top.next_node\n",
    "print(next_node3)\n",
    "assert next_node3 == 0\n"
   ]
  },
  {
   "cell_type": "markdown",
   "metadata": {},
   "source": [
    "By default the agent stops after the last node has produced an `Action` step. The action steps are the step by which the agent requests information from the environment. For example, `AssistantStep` is an `Action` as it indicates the agent awaits the user response, `ToolCalls` is an action requesting tool call results. Let's look at all possible steps in `DialogTape` tape and see which of them are actions, observations and thoughts."
   ]
  },
  {
   "cell_type": "code",
   "execution_count": 10,
   "metadata": {
    "execution": {
     "iopub.execute_input": "2024-10-01T15:24:33.260005Z",
     "iopub.status.busy": "2024-10-01T15:24:33.259816Z",
     "iopub.status.idle": "2024-10-01T15:24:33.263167Z",
     "shell.execute_reply": "2024-10-01T15:24:33.262690Z"
    }
   },
   "outputs": [],
   "source": [
    "from tapeagents.core import Action, Pass, Thought, Observation\n",
    "from tapeagents.dialog_tape import AssistantThought, ToolCalls, ToolResult\n",
    "\n",
    "assert all([issubclass(step_class, Action) for step_class in [AssistantStep, ToolCalls]])\n",
    "assert all([issubclass(step_class, Thought) for step_class in [AssistantThought, SetNextNode, Pass]])\n",
    "assert all([issubclass(step_class, Observation) for step_class in [UserStep, ToolResult]])\n"
   ]
  },
  {
   "cell_type": "markdown",
   "metadata": {},
   "source": [
    "Now we are ready to look at a simplified summary of the corner-stone `agent.run` algorithm.\n",
    "\n",
    "1. Compute the new tape view\n",
    "2. Choose the active agent (more on multi-agent TapeAgents later)\n",
    "3. Choose the active node\n",
    "4. Run the node and add steps on the tape\n",
    "5. If the last node yielded an action, then stop, else repeat.\n",
    "\n",
    "`agent.run` returns an `AgentStream` object which allows iterating through the agent's steps (or partial steps when streaming) and fast-forwardin to the complete new tape with `get_final_tape`."
   ]
  },
  {
   "cell_type": "markdown",
   "metadata": {},
   "source": [
    "#### Converse with a TapeAgent"
   ]
  },
  {
   "cell_type": "markdown",
   "metadata": {},
   "source": [
    "Lets continue conversation with the agent that previously responded to us with the Vulcan definition from the StarTrek.\n",
    "Remember, the session stored in the tape **final_tape**."
   ]
  },
  {
   "cell_type": "code",
   "execution_count": 11,
   "metadata": {
    "execution": {
     "iopub.execute_input": "2024-10-01T15:24:33.265027Z",
     "iopub.status.busy": "2024-10-01T15:24:33.264909Z",
     "iopub.status.idle": "2024-10-01T15:24:34.970779Z",
     "shell.execute_reply": "2024-10-01T15:24:34.970121Z"
    }
   },
   "outputs": [
    {
     "name": "stdout",
     "output_type": "stream",
     "text": [
      "{\n",
      "  \"metadata\": {\n",
      "    \"id\": \"c53e178c-9834-407b-9644-720c24f084d5\",\n",
      "    \"parent_id\": \"2b020654-a120-4186-be9c-06e427912dd5\",\n",
      "    \"author\": \"Agent\",\n",
      "    \"author_tape_id\": null,\n",
      "    \"n_added_steps\": 2,\n",
      "    \"error\": null,\n",
      "    \"result\": null\n",
      "  },\n",
      "  \"context\": null,\n",
      "  \"steps\": [\n",
      "    {\n",
      "      \"metadata\": {\n",
      "        \"id\": \"16c521e1-eebe-4e31-a5c5-e17f1aa45f38\",\n",
      "        \"prompt_id\": \"\",\n",
      "        \"node\": \"\",\n",
      "        \"agent\": \"\",\n",
      "        \"other\": {}\n",
      "      },\n",
      "      \"content\": \"Tell me about Vulcan in 3 sentences\",\n",
      "      \"kind\": \"user\"\n",
      "    },\n",
      "    {\n",
      "      \"metadata\": {\n",
      "        \"id\": \"16c521e1-eebe-4e31-a5c5-e17f1aa45f38\",\n",
      "        \"prompt_id\": \"8e389dc7-a08b-4eb0-a5d9-330340f775cb\",\n",
      "        \"node\": \"MainNode\",\n",
      "        \"agent\": \"Agent\",\n",
      "        \"other\": {}\n",
      "      },\n",
      "      \"content\": \"Vulcan is a Roman god associated with fire, metalworking, and craftsmanship, often considered the equivalent of the Greek god Hephaestus. He is known for his skill in crafting weapons and armor for the gods and heroes, and his forge is said to be located under Mount Etna, where volcanic activity symbolizes his fiery nature. Vulcan was also associated with volcanic eruptions and was often depicted as a bearded man with a hammer and anvil, representing the elemental forces of fire and creation.\",\n",
      "      \"kind\": \"assistant\"\n",
      "    },\n",
      "    {\n",
      "      \"metadata\": {\n",
      "        \"id\": \"16c521e1-eebe-4e31-a5c5-e17f1aa45f38\",\n",
      "        \"prompt_id\": \"8e389dc7-a08b-4eb0-a5d9-330340f775cb\",\n",
      "        \"node\": \"MainNode\",\n",
      "        \"agent\": \"Agent\",\n",
      "        \"other\": {}\n",
      "      },\n",
      "      \"kind\": \"set_next_node\",\n",
      "      \"next_node\": 0\n",
      "    },\n",
      "    {\n",
      "      \"metadata\": {\n",
      "        \"id\": \"16c521e1-eebe-4e31-a5c5-e17f1aa45f38\",\n",
      "        \"prompt_id\": \"\",\n",
      "        \"node\": \"\",\n",
      "        \"agent\": \"\",\n",
      "        \"other\": {}\n",
      "      },\n",
      "      \"content\": \"No, I mean Vulcan the company\",\n",
      "      \"kind\": \"user\"\n",
      "    },\n",
      "    {\n",
      "      \"metadata\": {\n",
      "        \"id\": \"16c521e1-eebe-4e31-a5c5-e17f1aa45f38\",\n",
      "        \"prompt_id\": \"105f52c5-7271-4309-bfce-f2d0c41e60f6\",\n",
      "        \"node\": \"MainNode\",\n",
      "        \"agent\": \"Agent\",\n",
      "        \"other\": {}\n",
      "      },\n",
      "      \"content\": \"Vulcan, Inc. is a private company founded by billionaire entrepreneur and philanthropist Paul Allen in 1986, focusing on various sectors including technology, real estate, and the arts. The company has been involved in significant ventures such as the development of the Allen Institute for Brain Science and investments in innovative technology startups. Vulcan also collaborates on environmental initiatives and various philanthropic efforts aimed at addressing global challenges.\",\n",
      "      \"kind\": \"assistant\"\n",
      "    },\n",
      "    {\n",
      "      \"metadata\": {\n",
      "        \"id\": \"16c521e1-eebe-4e31-a5c5-e17f1aa45f38\",\n",
      "        \"prompt_id\": \"105f52c5-7271-4309-bfce-f2d0c41e60f6\",\n",
      "        \"node\": \"MainNode\",\n",
      "        \"agent\": \"Agent\",\n",
      "        \"other\": {}\n",
      "      },\n",
      "      \"kind\": \"set_next_node\",\n",
      "      \"next_node\": 0\n",
      "    }\n",
      "  ]\n",
      "}\n"
     ]
    }
   ],
   "source": [
    "tape_to_continue = final_tape + [UserStep(content=\"No, I mean Vulcan the company\")]\n",
    "continued_tape = agent.run(tape_to_continue).get_final_tape()\n",
    "print(continued_tape.model_dump_json(indent=2))\n"
   ]
  },
  {
   "cell_type": "markdown",
   "metadata": {},
   "source": [
    "Note, that the agent is able to continue talking to you thanks for `SetNextNode(next_node=0)` step that `generate_steps` produced. If you try to remove this step as an exercise, the agent will crash because there is only one node."
   ]
  },
  {
   "cell_type": "markdown",
   "metadata": {},
   "source": [
    "#### Tape rendering\n",
    "\n",
    "LLM agents create a lot of data that can be overwhelming to process. In TapeAgents we render the tape with the associated prompts and outputs into a more readable HTML for you. To make this work, we store prompts and outputs in an SQLite database every time you call `agent.run()`.\n",
    "\n",
    "Here's how to use tape rendering in the notebook:"
   ]
  },
  {
   "cell_type": "code",
   "execution_count": 12,
   "metadata": {
    "execution": {
     "iopub.execute_input": "2024-10-01T15:24:34.974531Z",
     "iopub.status.busy": "2024-10-01T15:24:34.974231Z",
     "iopub.status.idle": "2024-10-01T15:24:35.264136Z",
     "shell.execute_reply": "2024-10-01T15:24:35.263882Z"
    }
   },
   "outputs": [
    {
     "data": {
      "text/html": [
       "<style>.basic-renderer-box { margin: 4px; padding: 2px; background: lavender; white-space: pre-wrap; color: black;}.basic-prompt-box { margin: 4px; padding: 2px; background: lavender; color: black;}.episode-row { display: flex; align-items: end; }.agent-column { width: 50%; }.user-column { width: 25%; }.annotator-column { width: 25%; }.inner-tape-container { display: flex }.inner-tape-indent { width: 10%; }.inner-tape { width: 90%; }</style><style>.observation { background-color: #baffc9;; }.error_observation { background-color: #dd0000; }.action { background-color: #cccccc; }.thought { background-color: #ffffdb; }.call { background-color: #ffffff; }.respond { background-color: #ffffff; }.step-header { margin: 2pt 2pt 2pt 0 !important; }.step-text { font-size: 12px; white-space: pre-wrap; word-wrap: break-word;}</style><h3>Metadata</h3><details> <summary> Show / Hide </summary> <div class='basic-renderer-box'>author: Agent\n",
       "author_tape_id: null\n",
       "error: null\n",
       "id: c53e178c-9834-407b-9644-720c24f084d5\n",
       "n_added_steps: 2\n",
       "parent_id: 2b020654-a120-4186-be9c-06e427912dd5\n",
       "result: null\n",
       "</div> </details><h3>Steps</h3><div class='basic-renderer-box observation'><h4 class='step-header'>[0] User</h4><pre class='step-text'>kind: user\n",
       "\n",
       "Tell me about Vulcan in 3 sentences</pre></div><div class='basic-renderer-box action'><h4 class='step-header'>[1] Assistant</h4><pre class='step-text'>kind: assistant\n",
       "\n",
       "Vulcan is a Roman god associated with fire, metalworking, and craftsmanship, often considered the equivalent of the Greek god Hephaestus. He is known for his skill in crafting weapons and armor for the gods and heroes, and his forge is said to be located under Mount Etna, where volcanic activity symbolizes his fiery nature. Vulcan was also associated with volcanic eruptions and was often depicted as a bearded man with a hammer and anvil, representing the elemental forces of fire and creation.</pre></div><div class='basic-renderer-box thought'><h4 class='step-header'>[2] Thought: SetNextNode</h4><pre class='step-text'>kind: set_next_node\n",
       "next_node: 0\n",
       "</pre></div><div class='basic-renderer-box observation'><h4 class='step-header'>[3] User</h4><pre class='step-text'>kind: user\n",
       "\n",
       "No, I mean Vulcan the company</pre></div><div class='basic-renderer-box action'><h4 class='step-header'>[4] Assistant</h4><pre class='step-text'>kind: assistant\n",
       "\n",
       "Vulcan, Inc. is a private company founded by billionaire entrepreneur and philanthropist Paul Allen in 1986, focusing on various sectors including technology, real estate, and the arts. The company has been involved in significant ventures such as the development of the Allen Institute for Brain Science and investments in innovative technology startups. Vulcan also collaborates on environmental initiatives and various philanthropic efforts aimed at addressing global challenges.</pre></div><div class='basic-renderer-box thought'><h4 class='step-header'>[5] Thought: SetNextNode</h4><pre class='step-text'>kind: set_next_node\n",
       "next_node: 0\n",
       "</pre></div>"
      ],
      "text/plain": [
       "<IPython.core.display.HTML object>"
      ]
     },
     "execution_count": 12,
     "metadata": {},
     "output_type": "execute_result"
    }
   ],
   "source": [
    "from tapeagents.rendering import PrettyRenderer, render_tape_with_prompts\n",
    "from IPython.display import HTML\n",
    "\n",
    "HTML(render_tape_with_prompts(continued_tape, PrettyRenderer()))\n"
   ]
  },
  {
   "cell_type": "markdown",
   "metadata": {},
   "source": [
    "# 2. Your TapeAgent with planning and tools"
   ]
  },
  {
   "cell_type": "markdown",
   "metadata": {},
   "source": [
    "Let's build a TapeAgent that plans and acts. We will be using OpenAI function calling capabilities in this example."
   ]
  },
  {
   "cell_type": "code",
   "execution_count": 13,
   "metadata": {
    "execution": {
     "iopub.execute_input": "2024-10-01T15:24:35.265649Z",
     "iopub.status.busy": "2024-10-01T15:24:35.265531Z",
     "iopub.status.idle": "2024-10-01T15:24:45.605975Z",
     "shell.execute_reply": "2024-10-01T15:24:45.605443Z"
    }
   },
   "outputs": [
    {
     "name": "stdout",
     "output_type": "stream",
     "text": [
      "Run the agent!\n"
     ]
    },
    {
     "name": "stdout",
     "output_type": "stream",
     "text": [
      "{\n",
      "  \"metadata\": {\n",
      "    \"id\": \"16c521e1-eebe-4e31-a5c5-e17f1aa45f38\",\n",
      "    \"prompt_id\": \"40fcf6b0-c752-4017-8592-b926d8a77c55\",\n",
      "    \"node\": \"PlanNode\",\n",
      "    \"agent\": \"Agent\",\n",
      "    \"other\": {}\n",
      "  },\n",
      "  \"content\": \"To help the user learn about Vulcan's financials, I will follow these steps:\\n\\n1. Use the `functions.get_stock_ticker` tool to find the stock ticker symbol for Vulcan.\\n2. Once the stock ticker is obtained, use the `functions.get_stock_data` tool to retrieve the stock prices for Vulcan over a specified date range.\\n3. Present the gathered information to the user in a clear and concise manner.\",\n",
      "  \"kind\": \"assistant_thought\"\n",
      "}\n"
     ]
    },
    {
     "name": "stdout",
     "output_type": "stream",
     "text": [
      "{\n",
      "  \"metadata\": {\n",
      "    \"id\": \"16c521e1-eebe-4e31-a5c5-e17f1aa45f38\",\n",
      "    \"prompt_id\": \"70387ff9-edfc-4d29-8f3c-9ec953c9a49d\",\n",
      "    \"node\": \"ActNode\",\n",
      "    \"agent\": \"Agent\",\n",
      "    \"other\": {}\n",
      "  },\n",
      "  \"tool_calls\": [\n",
      "    {\n",
      "      \"function\": {\n",
      "        \"arguments\": \"{\\\"company_name\\\": \\\"Vulcan\\\"}\",\n",
      "        \"name\": \"get_stock_ticker\"\n",
      "      },\n",
      "      \"id\": \"call_brwgvaOnPOqHwtVRo3MKrtCz\",\n",
      "      \"type\": \"function\"\n",
      "    },\n",
      "    {\n",
      "      \"function\": {\n",
      "        \"arguments\": \"{\\\"company_name\\\": \\\"Vulcan Materials\\\"}\",\n",
      "        \"name\": \"get_stock_ticker\"\n",
      "      },\n",
      "      \"id\": \"call_MEAUnqRoKZuFUiihKIeg2It2\",\n",
      "      \"type\": \"function\"\n",
      "    }\n",
      "  ],\n",
      "  \"kind\": \"assistant\"\n",
      "}\n",
      "{\n",
      "  \"metadata\": {\n",
      "    \"id\": \"16c521e1-eebe-4e31-a5c5-e17f1aa45f38\",\n",
      "    \"prompt_id\": \"70387ff9-edfc-4d29-8f3c-9ec953c9a49d\",\n",
      "    \"node\": \"ActNode\",\n",
      "    \"agent\": \"Agent\",\n",
      "    \"other\": {}\n",
      "  },\n",
      "  \"kind\": \"set_next_node\",\n",
      "  \"next_node\": 1\n",
      "}\n"
     ]
    },
    {
     "name": "stdout",
     "output_type": "stream",
     "text": [
      "{\n",
      "  \"metadata\": {\n",
      "    \"id\": \"16c521e1-eebe-4e31-a5c5-e17f1aa45f38\",\n",
      "    \"prompt_id\": \"\",\n",
      "    \"node\": \"\",\n",
      "    \"agent\": \"\",\n",
      "    \"other\": {}\n",
      "  },\n",
      "  \"content\": \"VMC\",\n",
      "  \"tool_call_id\": \"call_brwgvaOnPOqHwtVRo3MKrtCz\",\n",
      "  \"kind\": \"tool\"\n",
      "}\n",
      "{\n",
      "  \"metadata\": {\n",
      "    \"id\": \"16c521e1-eebe-4e31-a5c5-e17f1aa45f38\",\n",
      "    \"prompt_id\": \"\",\n",
      "    \"node\": \"\",\n",
      "    \"agent\": \"\",\n",
      "    \"other\": {}\n",
      "  },\n",
      "  \"content\": \"VMC\",\n",
      "  \"tool_call_id\": \"call_MEAUnqRoKZuFUiihKIeg2It2\",\n",
      "  \"kind\": \"tool\"\n",
      "}\n"
     ]
    },
    {
     "name": "stdout",
     "output_type": "stream",
     "text": [
      "{\n",
      "  \"metadata\": {\n",
      "    \"id\": \"16c521e1-eebe-4e31-a5c5-e17f1aa45f38\",\n",
      "    \"prompt_id\": \"77b40fba-c599-4fab-a104-a79edf6dbb3f\",\n",
      "    \"node\": \"ActNode\",\n",
      "    \"agent\": \"Agent\",\n",
      "    \"other\": {}\n",
      "  },\n",
      "  \"tool_calls\": [\n",
      "    {\n",
      "      \"function\": {\n",
      "        \"arguments\": \"{\\\"symbol\\\":\\\"VMC\\\",\\\"start_date\\\":\\\"2024-01-01\\\",\\\"end_date\\\":\\\"2024-09-17\\\"}\",\n",
      "        \"name\": \"get_stock_data\"\n",
      "      },\n",
      "      \"id\": \"call_XixrZgyzMQpP65dlpT85ox4d\",\n",
      "      \"type\": \"function\"\n",
      "    }\n",
      "  ],\n",
      "  \"kind\": \"assistant\"\n",
      "}\n",
      "{\n",
      "  \"metadata\": {\n",
      "    \"id\": \"16c521e1-eebe-4e31-a5c5-e17f1aa45f38\",\n",
      "    \"prompt_id\": \"77b40fba-c599-4fab-a104-a79edf6dbb3f\",\n",
      "    \"node\": \"ActNode\",\n",
      "    \"agent\": \"Agent\",\n",
      "    \"other\": {}\n",
      "  },\n",
      "  \"kind\": \"set_next_node\",\n",
      "  \"next_node\": 1\n",
      "}\n"
     ]
    },
    {
     "name": "stdout",
     "output_type": "stream",
     "text": [
      "{\n",
      "  \"metadata\": {\n",
      "    \"id\": \"16c521e1-eebe-4e31-a5c5-e17f1aa45f38\",\n",
      "    \"prompt_id\": \"\",\n",
      "    \"node\": \"\",\n",
      "    \"agent\": \"\",\n",
      "    \"other\": {}\n",
      "  },\n",
      "  \"content\": \"[('2024-01-02', 223.60000610351562), ('2024-01-04', 220.67999267578125), ('2024-01-08', 224.0), ('2024-01-10', 226.11000061035156), ('2024-01-12', 223.9600067138672), ('2024-01-17', 221.25999450683594), ('2024-01-19', 226.0800018310547), ('2024-01-23', 222.8000030517578), ('2024-01-25', 223.41000366210938), ('2024-01-29', 229.3699951171875), ('2024-01-31', 226.00999450683594), ('2024-02-02', 234.44000244140625), ('2024-02-06', 231.5800018310547), ('2024-02-08', 238.44000244140625), ('2024-02-12', 240.1300048828125), ('2024-02-14', 241.10000610351562), ('2024-02-16', 255.14999389648438), ('2024-02-21', 253.42999267578125), ('2024-02-23', 257.2300109863281), ('2024-02-27', 263.55999755859375), ('2024-02-29', 265.8500061035156), ('2024-03-04', 267.8500061035156), ('2024-03-06', 267.3399963378906), ('2024-03-08', 266.70001220703125), ('2024-03-12', 269.5799865722656), ('2024-03-14', 270.7300109863281), ('2024-03-18', 269.4200134277344), ('2024-03-20', 271.739990234375), ('2024-03-22', 274.3599853515625), ('2024-03-26', 273.8699951171875), ('2024-03-28', 272.9200134277344), ('2024-04-02', 266.25), ('2024-04-04', 265.8900146484375), ('2024-04-08', 269.7200012207031), ('2024-04-10', 264.55999755859375), ('2024-04-12', 262.7799987792969), ('2024-04-16', 258.5400085449219), ('2024-04-18', 255.07000732421875), ('2024-04-22', 254.47999572753906), ('2024-04-24', 256.3999938964844), ('2024-04-26', 261.239990234375), ('2024-04-30', 257.6300048828125), ('2024-05-02', 264.4100036621094), ('2024-05-06', 266.6099853515625), ('2024-05-08', 267.92999267578125), ('2024-05-10', 272.07000732421875), ('2024-05-14', 267.75), ('2024-05-16', 260.0), ('2024-05-20', 260.2099914550781), ('2024-05-22', 260.8699951171875), ('2024-05-24', 259.25), ('2024-05-29', 251.91000366210938), ('2024-05-31', 255.77000427246094), ('2024-06-04', 250.4600067138672), ('2024-06-06', 248.5800018310547), ('2024-06-10', 247.80999755859375), ('2024-06-12', 249.1199951171875), ('2024-06-14', 252.63999938964844), ('2024-06-18', 255.61000061035156), ('2024-06-21', 247.80999755859375), ('2024-06-25', 246.14999389648438), ('2024-06-27', 247.75999450683594), ('2024-07-01', 243.72000122070312), ('2024-07-03', 243.9199981689453), ('2024-07-08', 241.97000122070312), ('2024-07-10', 247.72000122070312), ('2024-07-12', 252.50999450683594), ('2024-07-16', 262.80999755859375), ('2024-07-18', 256.0899963378906), ('2024-07-22', 260.6099853515625), ('2024-07-24', 250.50999450683594), ('2024-07-26', 261.7099914550781), ('2024-07-30', 270.0), ('2024-08-01', 271.1300048828125), ('2024-08-05', 257.42999267578125), ('2024-08-07', 241.22000122070312), ('2024-08-09', 244.33999633789062), ('2024-08-13', 243.83999633789062), ('2024-08-15', 246.57000732421875), ('2024-08-19', 244.2899932861328), ('2024-08-21', 247.83999633789062), ('2024-08-23', 254.88999938964844), ('2024-08-27', 240.41000366210938), ('2024-08-29', 241.27999877929688), ('2024-09-03', 239.02000427246094), ('2024-09-05', 232.16000366210938), ('2024-09-09', 231.8300018310547), ('2024-09-11', 232.9499969482422), ('2024-09-13', 237.47000122070312)]\",\n",
      "  \"tool_call_id\": \"call_XixrZgyzMQpP65dlpT85ox4d\",\n",
      "  \"kind\": \"tool\"\n",
      "}\n"
     ]
    },
    {
     "name": "stdout",
     "output_type": "stream",
     "text": [
      "{\n",
      "  \"metadata\": {\n",
      "    \"id\": \"16c521e1-eebe-4e31-a5c5-e17f1aa45f38\",\n",
      "    \"prompt_id\": \"1849ce17-7d23-461d-8262-9e80936868fb\",\n",
      "    \"node\": \"ActNode\",\n",
      "    \"agent\": \"Agent\",\n",
      "    \"other\": {}\n",
      "  },\n",
      "  \"content\": \"Vulcan Materials Company, trading under the ticker symbol VMC, is a major producer of construction aggregates, primarily crushed stone, sand, and gravel. Over the course of 2024, its stock price has shown significant fluctuations, starting at around $223.60 in early January and reaching highs of over $270 in late July, before settling around $237.47 in mid-September. This performance reflects the company's market dynamics and investor sentiment throughout the year.\",\n",
      "  \"kind\": \"assistant\"\n",
      "}\n",
      "{\n",
      "  \"metadata\": {\n",
      "    \"id\": \"16c521e1-eebe-4e31-a5c5-e17f1aa45f38\",\n",
      "    \"prompt_id\": \"1849ce17-7d23-461d-8262-9e80936868fb\",\n",
      "    \"node\": \"ActNode\",\n",
      "    \"agent\": \"Agent\",\n",
      "    \"other\": {}\n",
      "  },\n",
      "  \"kind\": \"set_next_node\",\n",
      "  \"next_node\": 0\n",
      "}\n",
      "Final tape:\n"
     ]
    },
    {
     "data": {
      "text/html": [
       "<style>.basic-renderer-box { margin: 4px; padding: 2px; background: lavender; white-space: pre-wrap; color: black;}.basic-prompt-box { margin: 4px; padding: 2px; background: lavender; color: black;}.episode-row { display: flex; align-items: end; }.agent-column { width: 50%; }.user-column { width: 25%; }.annotator-column { width: 25%; }.inner-tape-container { display: flex }.inner-tape-indent { width: 10%; }.inner-tape { width: 90%; }</style><style>.observation { background-color: #baffc9;; }.error_observation { background-color: #dd0000; }.action { background-color: #cccccc; }.thought { background-color: #ffffdb; }.call { background-color: #ffffff; }.respond { background-color: #ffffff; }.step-header { margin: 2pt 2pt 2pt 0 !important; }.step-text { font-size: 12px; white-space: pre-wrap; word-wrap: break-word;}</style><h3>Metadata</h3><details> <summary> Show / Hide </summary> <div class='basic-renderer-box'>author: Agent\n",
       "author_tape_id: null\n",
       "error: null\n",
       "id: 7b414a4d-68c4-482a-80c2-cfefafb80460\n",
       "n_added_steps: 2\n",
       "parent_id: 5c33c4f4-d54f-4c62-983c-ba644c8d720b\n",
       "result: null\n",
       "</div> </details><h3>Steps</h3><div class='basic-renderer-box observation'><h4 class='step-header'>[0] User</h4><pre class='step-text'>kind: user\n",
       "\n",
       "Tell me about Vulcan in 3 sentences</pre></div><div class='basic-renderer-box thought'><h4 class='step-header'>[1] Thought: AssistantThought</h4><pre class='step-text'>kind: assistant_thought\n",
       "\n",
       "To help the user learn about Vulcan's financials, I will follow these steps:\n",
       "\n",
       "1. Use the `functions.get_stock_ticker` tool to find the stock ticker symbol for Vulcan.\n",
       "2. Once the stock ticker is obtained, use the `functions.get_stock_data` tool to retrieve the stock prices for Vulcan over a specified date range.\n",
       "3. Present the gathered information to the user in a clear and concise manner.</pre></div><div class='basic-renderer-box action'><h4 class='step-header'>[2] Action: ToolCalls</h4><pre class='step-text'>tool_calls:\n",
       "- function:\n",
       "    arguments: '{\"company_name\": \"Vulcan\"}'\n",
       "    name: get_stock_ticker\n",
       "  id: call_brwgvaOnPOqHwtVRo3MKrtCz\n",
       "  type: function\n",
       "- function:\n",
       "    arguments: '{\"company_name\": \"Vulcan Materials\"}'\n",
       "    name: get_stock_ticker\n",
       "  id: call_MEAUnqRoKZuFUiihKIeg2It2\n",
       "  type: function\n",
       "kind: assistant\n",
       "</pre></div><div class='basic-renderer-box thought'><h4 class='step-header'>[3] Thought: SetNextNode</h4><pre class='step-text'>kind: set_next_node\n",
       "next_node: 1\n",
       "</pre></div><div class='basic-renderer-box observation'><h4 class='step-header'>[4] Observation: ToolResult</h4><pre class='step-text'>tool_call_id: call_brwgvaOnPOqHwtVRo3MKrtCz\n",
       "kind: tool\n",
       "\n",
       "VMC</pre></div><div class='basic-renderer-box observation'><h4 class='step-header'>[5] Observation: ToolResult</h4><pre class='step-text'>tool_call_id: call_MEAUnqRoKZuFUiihKIeg2It2\n",
       "kind: tool\n",
       "\n",
       "VMC</pre></div><div class='basic-renderer-box action'><h4 class='step-header'>[6] Action: ToolCalls</h4><pre class='step-text'>tool_calls:\n",
       "- function:\n",
       "    arguments: '{\"symbol\":\"VMC\",\"start_date\":\"2024-01-01\",\"end_date\":\"2024-09-17\"}'\n",
       "    name: get_stock_data\n",
       "  id: call_XixrZgyzMQpP65dlpT85ox4d\n",
       "  type: function\n",
       "kind: assistant\n",
       "</pre></div><div class='basic-renderer-box thought'><h4 class='step-header'>[7] Thought: SetNextNode</h4><pre class='step-text'>kind: set_next_node\n",
       "next_node: 1\n",
       "</pre></div><div class='basic-renderer-box observation'><h4 class='step-header'>[8] Observation: ToolResult</h4><pre class='step-text'>tool_call_id: call_XixrZgyzMQpP65dlpT85ox4d\n",
       "kind: tool\n",
       "\n",
       "<details><summary>3088 characters ...</summary>[('2024-01-02', 223.60000610351562), ('2024-01-04', 220.67999267578125), ('2024-01-08', 224.0), ('2024-01-10', 226.11000061035156), ('2024-01-12', 223.9600067138672), ('2024-01-17', 221.25999450683594), ('2024-01-19', 226.0800018310547), ('2024-01-23', 222.8000030517578), ('2024-01-25', 223.41000366210938), ('2024-01-29', 229.3699951171875), ('2024-01-31', 226.00999450683594), ('2024-02-02', 234.44000244140625), ('2024-02-06', 231.5800018310547), ('2024-02-08', 238.44000244140625), ('2024-02-12', 240.1300048828125), ('2024-02-14', 241.10000610351562), ('2024-02-16', 255.14999389648438), ('2024-02-21', 253.42999267578125), ('2024-02-23', 257.2300109863281), ('2024-02-27', 263.55999755859375), ('2024-02-29', 265.8500061035156), ('2024-03-04', 267.8500061035156), ('2024-03-06', 267.3399963378906), ('2024-03-08', 266.70001220703125), ('2024-03-12', 269.5799865722656), ('2024-03-14', 270.7300109863281), ('2024-03-18', 269.4200134277344), ('2024-03-20', 271.739990234375), ('2024-03-22', 274.3599853515625), ('2024-03-26', 273.8699951171875), ('2024-03-28', 272.9200134277344), ('2024-04-02', 266.25), ('2024-04-04', 265.8900146484375), ('2024-04-08', 269.7200012207031), ('2024-04-10', 264.55999755859375), ('2024-04-12', 262.7799987792969), ('2024-04-16', 258.5400085449219), ('2024-04-18', 255.07000732421875), ('2024-04-22', 254.47999572753906), ('2024-04-24', 256.3999938964844), ('2024-04-26', 261.239990234375), ('2024-04-30', 257.6300048828125), ('2024-05-02', 264.4100036621094), ('2024-05-06', 266.6099853515625), ('2024-05-08', 267.92999267578125), ('2024-05-10', 272.07000732421875), ('2024-05-14', 267.75), ('2024-05-16', 260.0), ('2024-05-20', 260.2099914550781), ('2024-05-22', 260.8699951171875), ('2024-05-24', 259.25), ('2024-05-29', 251.91000366210938), ('2024-05-31', 255.77000427246094), ('2024-06-04', 250.4600067138672), ('2024-06-06', 248.5800018310547), ('2024-06-10', 247.80999755859375), ('2024-06-12', 249.1199951171875), ('2024-06-14', 252.63999938964844), ('2024-06-18', 255.61000061035156), ('2024-06-21', 247.80999755859375), ('2024-06-25', 246.14999389648438), ('2024-06-27', 247.75999450683594), ('2024-07-01', 243.72000122070312), ('2024-07-03', 243.9199981689453), ('2024-07-08', 241.97000122070312), ('2024-07-10', 247.72000122070312), ('2024-07-12', 252.50999450683594), ('2024-07-16', 262.80999755859375), ('2024-07-18', 256.0899963378906), ('2024-07-22', 260.6099853515625), ('2024-07-24', 250.50999450683594), ('2024-07-26', 261.7099914550781), ('2024-07-30', 270.0), ('2024-08-01', 271.1300048828125), ('2024-08-05', 257.42999267578125), ('2024-08-07', 241.22000122070312), ('2024-08-09', 244.33999633789062), ('2024-08-13', 243.83999633789062), ('2024-08-15', 246.57000732421875), ('2024-08-19', 244.2899932861328), ('2024-08-21', 247.83999633789062), ('2024-08-23', 254.88999938964844), ('2024-08-27', 240.41000366210938), ('2024-08-29', 241.27999877929688), ('2024-09-03', 239.02000427246094), ('2024-09-05', 232.16000366210938), ('2024-09-09', 231.8300018310547), ('2024-09-11', 232.9499969482422), ('2024-09-13', 237.47000122070312)]</details></pre></div><div class='basic-renderer-box action'><h4 class='step-header'>[9] Assistant</h4><pre class='step-text'>kind: assistant\n",
       "\n",
       "Vulcan Materials Company, trading under the ticker symbol VMC, is a major producer of construction aggregates, primarily crushed stone, sand, and gravel. Over the course of 2024, its stock price has shown significant fluctuations, starting at around $223.60 in early January and reaching highs of over $270 in late July, before settling around $237.47 in mid-September. This performance reflects the company's market dynamics and investor sentiment throughout the year.</pre></div><div class='basic-renderer-box thought'><h4 class='step-header'>[10] Thought: SetNextNode</h4><pre class='step-text'>kind: set_next_node\n",
       "next_node: 0\n",
       "</pre></div>"
      ],
      "text/plain": [
       "<IPython.core.display.HTML object>"
      ]
     },
     "execution_count": 13,
     "metadata": {},
     "output_type": "execute_result"
    }
   ],
   "source": [
    "from tapeagents.core import SetNextNode\n",
    "from tapeagents.dialog_tape import AssistantThought, ToolCalls\n",
    "from tapeagents.environment import ToolEnvironment\n",
    "from tapeagents.runtime import main_loop\n",
    "from examples.intro_tools import get_stock_ticker, get_stock_data\n",
    "\n",
    "system_instruction = f\"\"\"\n",
    "You will help the user to learn about financials of companies.\n",
    "Use as many relevant tools as possible to include more details and facts in your responses.\n",
    "Today is {today}.\n",
    "\"\"\"\n",
    "system_message = {\"role\": \"system\", \"content\": system_instruction}\n",
    "\n",
    "env = ToolEnvironment([get_stock_ticker, get_stock_data])\n",
    "\n",
    "\n",
    "class PlanNode(Node):\n",
    "    def make_prompt(self, agent, tape: DialogTape) -> Prompt:\n",
    "        guidance = \"Write a natural language plan on how to use tools help the user. Output a list of numbered items, like 1., 2., 3., etc.\"\n",
    "        guidance_message = {\"role\": \"user\", \"content\": guidance}\n",
    "        return Prompt(\n",
    "            messages=[system_message] + tape_to_messages(tape) + [guidance_message], tools=env.get_tool_schema_dicts()\n",
    "        )\n",
    "\n",
    "    def generate_steps(self, agent, tape, llm_stream: LLMStream):\n",
    "        if content := llm_stream.get_message().content:\n",
    "            yield AssistantThought(content=content)\n",
    "        else:\n",
    "            raise ValueError()\n",
    "\n",
    "\n",
    "class ActNode(Node):\n",
    "    def make_prompt(self, agent, tape: DialogTape) -> Prompt:\n",
    "        guidance = \"Follow the plan you created to earlier. When you are done, respond to the user.\"\n",
    "        guidance_message = {\"role\": \"user\", \"content\": guidance}\n",
    "        return Prompt(\n",
    "            messages=[system_message] + tape_to_messages(tape) + [guidance_message], tools=env.get_tool_schema_dicts()\n",
    "        )\n",
    "\n",
    "    def generate_steps(self, agent, tape, llm_stream: LLMStream):\n",
    "        m = llm_stream.get_message()\n",
    "        if m.content:\n",
    "            yield AssistantStep(content=m.content)\n",
    "            yield SetNextNode(next_node=0)\n",
    "        elif m.tool_calls:\n",
    "            yield ToolCalls(tool_calls=m.tool_calls)\n",
    "            yield SetNextNode(next_node=1)\n",
    "        else:\n",
    "            raise ValueError()\n",
    "\n",
    "\n",
    "agent1 = Agent.create(LiteLLM(model_name=\"gpt-4o\", parameters={\"temperature\": 0.1}), nodes=[PlanNode(), ActNode()])\n",
    "\n",
    "print(\"Run the agent!\")\n",
    "final_tape1 = None\n",
    "for event in main_loop(agent1, DialogTape() + [UserStep(content=\"Tell me about Vulcan in 3 sentences\")], env):\n",
    "    if ae := event.agent_event:\n",
    "        if ae.step:\n",
    "            print(ae.step.model_dump_json(indent=2))\n",
    "        if ae.final_tape:\n",
    "            final_tape1 = ae.final_tape\n",
    "    if event.observation:\n",
    "        print(event.observation.model_dump_json(indent=2))\n",
    "assert final_tape1\n",
    "print(\"Final tape:\")\n",
    "HTML(render_tape_with_prompts(final_tape1, PrettyRenderer()))\n"
   ]
  },
  {
   "cell_type": "markdown",
   "metadata": {},
   "source": [
    "The main new thing in this example is the environment. In TapeAgents framework the environment responds to the agent `Action` steps with `Observation` steps. We expect you to use the environment to encapsulate tool use, retrieval, code execution: everything that is non-deterministic, non-stationary, or computationally heavy. On the contrary, we encourage you to implements the agent's deterministic decision-making in `make_prompt` and `generate_steps` methods.\n",
    "\n",
    "Here we use a pre-defined `main_loop` orchestrator to run the agent and the environment. `main_loop` is a generator of events that you can use as you wish. You are free to implement your own orchestration paradigm with a fine-grained control over what actions get to be executed."
   ]
  },
  {
   "cell_type": "markdown",
   "metadata": {},
   "source": [
    "# 3. Agent configuration, resumption"
   ]
  },
  {
   "cell_type": "markdown",
   "metadata": {},
   "source": [
    "Let's try building a similar agent with an open-weights LLAMA3 70B models. Conveniently, [Together AI](together.ai) offers API endpoints. You can create an account and get API key with some free quota."
   ]
  },
  {
   "cell_type": "markdown",
   "metadata": {},
   "source": [
    "#### Access to Hugging Face Gated Models\n",
    "Make sure you have access to each model we are going to use (read more [here](https://huggingface.co/docs/hub/en/models-gated#access-gated-models-as-a-user)):\n",
    "- https://huggingface.co/meta-llama/Meta-Llama-3-70B-Instruct\n",
    "\n",
    "##### Troubleshoot\n",
    "- If you receive a 401 error, it means the authentication failed.\n",
    "- If you receive a 403 error, it means you are authenticated but not authorized to access the specific model."
   ]
  },
  {
   "cell_type": "code",
   "execution_count": 14,
   "metadata": {
    "execution": {
     "iopub.execute_input": "2024-10-01T15:24:45.608973Z",
     "iopub.status.busy": "2024-10-01T15:24:45.608756Z",
     "iopub.status.idle": "2024-10-01T15:24:45.611712Z",
     "shell.execute_reply": "2024-10-01T15:24:45.611303Z"
    }
   },
   "outputs": [],
   "source": [
    "if \"TAPEAGENTS_LLM_TOKEN\" not in os.environ:\n",
    "    os.environ[\"TAPEAGENTS_LLM_TOKEN\"] = \"<your-together-ai-api-key>\"\n",
    "\n",
    "if \"HF_TOKEN\" not in os.environ:\n",
    "    # We need this to acces the model's tokenizer\n",
    "    os.environ[\"HF_TOKEN\"] = \"<your-hugging-face-api-key>\"\n"
   ]
  },
  {
   "cell_type": "markdown",
   "metadata": {},
   "source": [
    "## 3.1. Setup your Agents\n",
    "\n",
    "We've found that LLAMA3 function-calling is not yet battle-ready. We will use the structured output approach to make it call tools instead. We are also making this agent trainable by adding `make_llm_output` methods to each node. `Node.make_llm_output` defines how a node can reconstruct the LLM completion message that would be required to make the steps from the given tape at the given index. You can think of `Node.make_llm_output` as the inverse of `Node.generate_steps`.\n",
    "\n",
    "When you run the code below, you might see a different behavior every time. Often the LLAMA-based agent gets stuck in a loop. We will look into how TapeAgents supports you in addressing this issue by\n",
    "- tuning the prompt and resuming the agent exactly where it got stuck \n",
    "- producing training text from a different agent's tape "
   ]
  },
  {
   "cell_type": "code",
   "execution_count": 15,
   "metadata": {
    "execution": {
     "iopub.execute_input": "2024-10-01T15:24:45.613775Z",
     "iopub.status.busy": "2024-10-01T15:24:45.613612Z",
     "iopub.status.idle": "2024-10-01T15:24:45.630650Z",
     "shell.execute_reply": "2024-10-01T15:24:45.630358Z"
    }
   },
   "outputs": [],
   "source": [
    "import json\n",
    "from tapeagents.llms import TrainableLLM\n",
    "from litellm.utils import ChatCompletionMessageToolCall\n",
    "from litellm.utils import Function\n",
    "\n",
    "from tapeagents.prompting import step_to_message\n",
    "\n",
    "env = ToolEnvironment([get_stock_ticker, get_stock_data])\n",
    "\n",
    "system_instruction = f\"\"\"\n",
    "You will help the user to learn about financials of companies.\n",
    "Use as many relevant tools as possible to include more details and facts in your responses.\n",
    "Today is {today}.\n",
    "\n",
    "You have access to the following tools: {env.get_tool_schema_dicts()}\"\"\"\n",
    "\n",
    "planning_guidance = \"Write a natural language plan on how to use tools help the user. Output a list of numbered items, like 1., 2., 3., etc.\"\n",
    "\n",
    "call_or_respond_guidance = \"\"\"\n",
    "Follow the plan you created earlier. When you are done, respond to the user.\n",
    "If you want to call a or several tools, output JSON like this\n",
    "{\"kind\": \"tool_call\", \"tool_name\": \"...\", \"parameters\": \"... unquoted parameters json ...\"}\n",
    "If you have called all the tools in the plan, respond to the user with the JSON of the form\n",
    "{\"kind\": \"response\", \"content\": \"... you response ... \"}.\n",
    "Output ONE JSON OBJECT ONLY PER LINE ONLY AND NOTHING ELSE.\n",
    "\"\"\"\n",
    "\n",
    "\n",
    "class PlanNode(Node):\n",
    "    def make_prompt(self, agent, tape: DialogTape) -> Prompt:\n",
    "        system_message = {\"role\": \"system\", \"content\": system_instruction}\n",
    "        guidance_message = {\"role\": \"user\", \"content\": agent.templates[\"planning\"]}\n",
    "        return Prompt(messages=[system_message] + tape_to_messages(tape) + [guidance_message])\n",
    "\n",
    "    def generate_steps(self, agent, tape, llm_stream: LLMStream):\n",
    "        if content := getattr(llm_stream.get_message(), \"content\", None):\n",
    "            yield AssistantThought(content=content)\n",
    "        else:\n",
    "            raise ValueError()\n",
    "\n",
    "    def make_llm_output(self, agent, tape: DialogTape, index: int) -> LLMOutput:\n",
    "        if not isinstance(current := tape[index], AssistantThought):\n",
    "            raise ValueError()\n",
    "        return LLMOutput(role=\"assistant\", content=current.content)\n",
    "\n",
    "\n",
    "class ActNode(Node):\n",
    "    def make_prompt(self, agent, tape: DialogTape) -> Prompt:\n",
    "        system_message = {\"role\": \"system\", \"content\": system_instruction}\n",
    "        guidance_message = {\"role\": \"user\", \"content\": agent.templates[\"call_or_respond\"]}\n",
    "        messages = [system_message]\n",
    "        for step in tape:\n",
    "            if isinstance(step, (ToolCalls)):\n",
    "                messages.append({\"role\": \"assistant\", \"content\": _llm_message_content(step)})\n",
    "            elif not isinstance(step, SetNextNode):\n",
    "                messages.append(step_to_message(step))\n",
    "        messages += [guidance_message]\n",
    "        return Prompt(messages=messages)\n",
    "\n",
    "    def generate_steps(self, agent, tape, llm_stream: LLMStream):\n",
    "        m = llm_stream.get_message()\n",
    "        try:\n",
    "            assert m.content\n",
    "            tool_calls = []\n",
    "            response = None\n",
    "            for line in m.content.split(\"\\n\"):\n",
    "                data = json.loads(line)\n",
    "                if data.get(\"kind\") == \"response\":\n",
    "                    response = data[\"content\"]\n",
    "                elif data.get(\"kind\") == \"tool_call\":\n",
    "                    tool_call = ChatCompletionMessageToolCall(\n",
    "                        function=Function(name=data[\"tool_name\"], arguments=json.dumps(data[\"parameters\"])),\n",
    "                        # tool call must be a unique string, it helps to make it something deterministic\n",
    "                        id=f\"tool_call_{len(tool_calls)}_node_starts_at_{len(tape)}\",\n",
    "                    )\n",
    "                    tool_calls.append(tool_call)\n",
    "                else:\n",
    "                    yield AssistantStep(content=\"Invalid LLM output: kind field must be 'response' or 'tool_call'\")\n",
    "            if response and tool_calls:\n",
    "                yield AssistantStep(content=\"Invalid LLM output: response and tool_call cannot be in the same message\")\n",
    "            if response:\n",
    "                yield AssistantStep(content=response)\n",
    "                yield SetNextNode(next_node=0)\n",
    "            if tool_calls:\n",
    "                yield ToolCalls(tool_calls=tool_calls)\n",
    "                yield SetNextNode(next_node=1)\n",
    "        except Exception as e:\n",
    "            yield AssistantStep(content=\"Invalid JSON object: \" + str(e))\n",
    "\n",
    "    def make_llm_output(self, agent, tape: DialogTape, index: int) -> LLMOutput:\n",
    "        if not isinstance(step := tape[index], AssistantStep | ToolCalls):\n",
    "            raise ValueError()\n",
    "        content = _llm_message_content(step)\n",
    "        return LLMOutput(role=\"assistant\", content=content)\n",
    "\n",
    "\n",
    "def _llm_message_content(step: AssistantStep | ToolCalls):\n",
    "    \"\"\"Helper function to make both the prompt and the target completion\"\"\"\n",
    "    match step:\n",
    "        case AssistantStep():\n",
    "            return json.dumps({\"kind\": \"response\", \"content\": step.content})\n",
    "        case ToolCalls():\n",
    "            content = \"\"\n",
    "            for tool_call in step.tool_calls:\n",
    "                if content:\n",
    "                    content += \"\\n\"\n",
    "                content += json.dumps(\n",
    "                    {\n",
    "                        \"kind\": \"tool_call\",\n",
    "                        \"tool_name\": tool_call.function.name,\n",
    "                        \"parameters\": json.loads(tool_call.function.arguments),\n",
    "                    }\n",
    "                )\n",
    "            return content\n",
    "        case _:\n",
    "            raise ValueError()\n",
    "\n",
    "\n",
    "agent2 = Agent.create(\n",
    "    TrainableLLM(\n",
    "        base_url=\"https://api.together.xyz\",\n",
    "        model_name=\"meta-llama/Meta-Llama-3-70B-Instruct-Turbo\",\n",
    "        tokenizer_name=\"meta-llama/Meta-Llama-3-70B-Instruct\",\n",
    "        parameters=dict(temperature=0.01),\n",
    "    ),\n",
    "    templates={\n",
    "        \"system\": system_instruction,\n",
    "        \"planning\": planning_guidance,\n",
    "        \"call_or_respond\": call_or_respond_guidance,\n",
    "    },\n",
    "    nodes=[PlanNode(), ActNode()],\n",
    ")\n"
   ]
  },
  {
   "cell_type": "markdown",
   "metadata": {},
   "source": [
    "## 3.2. Run your Agent"
   ]
  },
  {
   "cell_type": "code",
   "execution_count": 16,
   "metadata": {
    "execution": {
     "iopub.execute_input": "2024-10-01T15:24:45.632309Z",
     "iopub.status.busy": "2024-10-01T15:24:45.632195Z",
     "iopub.status.idle": "2024-10-01T15:24:54.226140Z",
     "shell.execute_reply": "2024-10-01T15:24:54.225392Z"
    }
   },
   "outputs": [
    {
     "name": "stdout",
     "output_type": "stream",
     "text": [
      "Run LLAMA agent!\n"
     ]
    },
    {
     "name": "stdout",
     "output_type": "stream",
     "text": [
      "{\n",
      "  \"metadata\": {\n",
      "    \"id\": \"16c521e1-eebe-4e31-a5c5-e17f1aa45f38\",\n",
      "    \"prompt_id\": \"ddfe0f2a-5b28-434b-b72a-95b3dd53b08e\",\n",
      "    \"node\": \"PlanNode\",\n",
      "    \"agent\": \"Agent\",\n",
      "    \"other\": {}\n",
      "  },\n",
      "  \"content\": \"Here's a plan on how to use the tools to help the user learn about Vulcan Materials:\\n\\n1. **Get the stock ticker symbol**: Use the `get_stock_ticker` function to retrieve the stock ticker symbol for Vulcan Materials by passing \\\"Vulcan Materials\\\" as the company name.\\n2. **Explain the company overview**: Provide a brief overview of Vulcan Materials, including its industry, products, and services.\\n3. **Get historical stock data**: Use the `get_stock_data` function to retrieve the historical stock prices for Vulcan Materials over a specific time period (e.g., the last year) by passing the obtained ticker symbol, start date, and end date as arguments.\\n4. **Analyze and present the data**: Analyze the historical stock data and present it in a concise and easy-to-understand format, highlighting key trends, patterns, and insights.\\n5. **Provide additional relevant information**: Research and provide additional relevant information about Vulcan Materials, such as its financial performance, leadership, competitors, and recent news or announcements.\\n6. **Summarize and conclude**: Summarize the key findings and insights about Vulcan Materials and provide a concise conclusion.\\n\\nLet's execute this plan!\",\n",
      "  \"kind\": \"assistant_thought\"\n",
      "}\n"
     ]
    },
    {
     "name": "stdout",
     "output_type": "stream",
     "text": [
      "{\n",
      "  \"metadata\": {\n",
      "    \"id\": \"16c521e1-eebe-4e31-a5c5-e17f1aa45f38\",\n",
      "    \"prompt_id\": \"3a82c673-a9c8-4f7d-b3bd-dd2ed2d818b6\",\n",
      "    \"node\": \"ActNode\",\n",
      "    \"agent\": \"Agent\",\n",
      "    \"other\": {}\n",
      "  },\n",
      "  \"tool_calls\": [\n",
      "    {\n",
      "      \"function\": {\n",
      "        \"arguments\": \"{\\\"company_name\\\": \\\"Vulcan Materials\\\"}\",\n",
      "        \"name\": \"get_stock_ticker\"\n",
      "      },\n",
      "      \"id\": \"tool_call_0_node_starts_at_2\",\n",
      "      \"type\": \"function\"\n",
      "    }\n",
      "  ],\n",
      "  \"kind\": \"assistant\"\n",
      "}\n",
      "{\n",
      "  \"metadata\": {\n",
      "    \"id\": \"16c521e1-eebe-4e31-a5c5-e17f1aa45f38\",\n",
      "    \"prompt_id\": \"3a82c673-a9c8-4f7d-b3bd-dd2ed2d818b6\",\n",
      "    \"node\": \"ActNode\",\n",
      "    \"agent\": \"Agent\",\n",
      "    \"other\": {}\n",
      "  },\n",
      "  \"kind\": \"set_next_node\",\n",
      "  \"next_node\": 1\n",
      "}\n"
     ]
    },
    {
     "name": "stdout",
     "output_type": "stream",
     "text": [
      "{\n",
      "  \"metadata\": {\n",
      "    \"id\": \"16c521e1-eebe-4e31-a5c5-e17f1aa45f38\",\n",
      "    \"prompt_id\": \"\",\n",
      "    \"node\": \"\",\n",
      "    \"agent\": \"\",\n",
      "    \"other\": {}\n",
      "  },\n",
      "  \"content\": \"VMC\",\n",
      "  \"tool_call_id\": \"tool_call_0_node_starts_at_2\",\n",
      "  \"kind\": \"tool\"\n",
      "}\n"
     ]
    },
    {
     "name": "stdout",
     "output_type": "stream",
     "text": [
      "{\n",
      "  \"metadata\": {\n",
      "    \"id\": \"16c521e1-eebe-4e31-a5c5-e17f1aa45f38\",\n",
      "    \"prompt_id\": \"f178a4d1-5e8d-49a4-83f4-4fdfd24ff7f4\",\n",
      "    \"node\": \"ActNode\",\n",
      "    \"agent\": \"Agent\",\n",
      "    \"other\": {}\n",
      "  },\n",
      "  \"tool_calls\": [\n",
      "    {\n",
      "      \"function\": {\n",
      "        \"arguments\": \"{\\\"symbol\\\": \\\"VMC\\\", \\\"start_date\\\": \\\"2023-09-17\\\", \\\"end_date\\\": \\\"2024-09-17\\\"}\",\n",
      "        \"name\": \"get_stock_data\"\n",
      "      },\n",
      "      \"id\": \"tool_call_0_node_starts_at_5\",\n",
      "      \"type\": \"function\"\n",
      "    }\n",
      "  ],\n",
      "  \"kind\": \"assistant\"\n",
      "}\n",
      "{\n",
      "  \"metadata\": {\n",
      "    \"id\": \"16c521e1-eebe-4e31-a5c5-e17f1aa45f38\",\n",
      "    \"prompt_id\": \"f178a4d1-5e8d-49a4-83f4-4fdfd24ff7f4\",\n",
      "    \"node\": \"ActNode\",\n",
      "    \"agent\": \"Agent\",\n",
      "    \"other\": {}\n",
      "  },\n",
      "  \"kind\": \"set_next_node\",\n",
      "  \"next_node\": 1\n",
      "}\n"
     ]
    },
    {
     "name": "stdout",
     "output_type": "stream",
     "text": [
      "{\n",
      "  \"metadata\": {\n",
      "    \"id\": \"16c521e1-eebe-4e31-a5c5-e17f1aa45f38\",\n",
      "    \"prompt_id\": \"\",\n",
      "    \"node\": \"\",\n",
      "    \"agent\": \"\",\n",
      "    \"other\": {}\n",
      "  },\n",
      "  \"content\": \"[('2023-09-18', 211.69000244140625), ('2023-09-22', 200.6199951171875), ('2023-09-28', 205.02999877929688), ('2023-10-04', 205.02999877929688), ('2023-10-10', 211.0), ('2023-10-16', 213.0399932861328), ('2023-10-20', 201.5500030517578), ('2023-10-26', 193.97000122070312), ('2023-11-01', 203.8000030517578), ('2023-11-07', 207.2100067138672), ('2023-11-13', 210.49000549316406), ('2023-11-17', 212.35000610351562), ('2023-11-24', 211.67999267578125), ('2023-11-30', 213.55999755859375), ('2023-12-06', 211.92999267578125), ('2023-12-12', 220.89999389648438), ('2023-12-18', 222.6999969482422), ('2023-12-22', 224.92999267578125), ('2023-12-29', 227.00999450683594), ('2024-01-05', 221.6199951171875), ('2024-01-11', 224.36000061035156), ('2024-01-18', 225.1199951171875), ('2024-01-24', 219.8000030517578), ('2024-01-30', 231.0500030517578), ('2024-02-05', 229.64999389648438), ('2024-02-09', 240.0), ('2024-02-15', 242.4600067138672), ('2024-02-22', 256.94000244140625), ('2024-02-28', 262.29998779296875), ('2024-03-05', 264.9800109863281), ('2024-03-11', 264.95001220703125), ('2024-03-15', 266.8599853515625), ('2024-03-21', 275.5899963378906), ('2024-03-27', 272.7900085449219), ('2024-04-03', 268.7699890136719), ('2024-04-09', 265.6199951171875), ('2024-04-15', 260.4700012207031), ('2024-04-19', 252.05999755859375), ('2024-04-25', 258.5400085449219), ('2024-05-01', 259.7300109863281), ('2024-05-07', 268.3500061035156), ('2024-05-13', 270.0899963378906), ('2024-05-17', 259.1000061035156), ('2024-05-23', 257.2099914550781), ('2024-05-30', 254.0800018310547), ('2024-06-05', 251.17999267578125), ('2024-06-11', 244.63999938964844), ('2024-06-17', 256.3500061035156), ('2024-06-24', 247.5800018310547), ('2024-06-28', 248.67999267578125), ('2024-07-05', 244.2100067138672), ('2024-07-11', 254.69000244140625), ('2024-07-17', 255.8000030517578), ('2024-07-23', 260.1499938964844), ('2024-07-29', 264.5299987792969), ('2024-08-02', 266.3399963378906), ('2024-08-08', 246.3300018310547), ('2024-08-14', 242.5), ('2024-08-20', 245.60000610351562), ('2024-08-26', 250.67999267578125), ('2024-08-30', 245.2100067138672), ('2024-09-06', 231.97000122070312), ('2024-09-12', 236.27000427246094)]\",\n",
      "  \"tool_call_id\": \"tool_call_0_node_starts_at_5\",\n",
      "  \"kind\": \"tool\"\n",
      "}\n"
     ]
    },
    {
     "name": "stdout",
     "output_type": "stream",
     "text": [
      "{\n",
      "  \"metadata\": {\n",
      "    \"id\": \"16c521e1-eebe-4e31-a5c5-e17f1aa45f38\",\n",
      "    \"prompt_id\": \"44ab1eec-78a3-4947-9b85-c138c94d5c7f\",\n",
      "    \"node\": \"ActNode\",\n",
      "    \"agent\": \"Agent\",\n",
      "    \"other\": {}\n",
      "  },\n",
      "  \"tool_calls\": [\n",
      "    {\n",
      "      \"function\": {\n",
      "        \"arguments\": \"{\\\"company_name\\\": \\\"Vulcan Materials\\\"}\",\n",
      "        \"name\": \"get_stock_ticker\"\n",
      "      },\n",
      "      \"id\": \"tool_call_0_node_starts_at_8\",\n",
      "      \"type\": \"function\"\n",
      "    }\n",
      "  ],\n",
      "  \"kind\": \"assistant\"\n",
      "}\n",
      "{\n",
      "  \"metadata\": {\n",
      "    \"id\": \"16c521e1-eebe-4e31-a5c5-e17f1aa45f38\",\n",
      "    \"prompt_id\": \"44ab1eec-78a3-4947-9b85-c138c94d5c7f\",\n",
      "    \"node\": \"ActNode\",\n",
      "    \"agent\": \"Agent\",\n",
      "    \"other\": {}\n",
      "  },\n",
      "  \"kind\": \"set_next_node\",\n",
      "  \"next_node\": 1\n",
      "}\n"
     ]
    },
    {
     "name": "stdout",
     "output_type": "stream",
     "text": [
      "{\n",
      "  \"metadata\": {\n",
      "    \"id\": \"16c521e1-eebe-4e31-a5c5-e17f1aa45f38\",\n",
      "    \"prompt_id\": \"\",\n",
      "    \"node\": \"\",\n",
      "    \"agent\": \"\",\n",
      "    \"other\": {}\n",
      "  },\n",
      "  \"content\": \"VMC\",\n",
      "  \"tool_call_id\": \"tool_call_0_node_starts_at_8\",\n",
      "  \"kind\": \"tool\"\n",
      "}\n",
      "Final tape:\n"
     ]
    },
    {
     "data": {
      "text/html": [
       "<style>.basic-renderer-box { margin: 4px; padding: 2px; background: lavender; white-space: pre-wrap; color: black;}.basic-prompt-box { margin: 4px; padding: 2px; background: lavender; color: black;}.episode-row { display: flex; align-items: end; }.agent-column { width: 50%; }.user-column { width: 25%; }.annotator-column { width: 25%; }.inner-tape-container { display: flex }.inner-tape-indent { width: 10%; }.inner-tape { width: 90%; }</style><style>.observation { background-color: #baffc9;; }.error_observation { background-color: #dd0000; }.action { background-color: #cccccc; }.thought { background-color: #ffffdb; }.call { background-color: #ffffff; }.respond { background-color: #ffffff; }.step-header { margin: 2pt 2pt 2pt 0 !important; }.step-text { font-size: 12px; white-space: pre-wrap; word-wrap: break-word;}</style><h3>Metadata</h3><details> <summary> Show / Hide </summary> <div class='basic-renderer-box'>author: Agent\n",
       "author_tape_id: null\n",
       "error: null\n",
       "id: 96804f07-de7a-4c2b-a873-19700cd6e435\n",
       "n_added_steps: 2\n",
       "parent_id: 4bce85f7-edda-40ad-8c30-d190f3d9a157\n",
       "result: null\n",
       "</div> </details><h3>Steps</h3><div class='basic-renderer-box observation'><h4 class='step-header'>[0] User</h4><pre class='step-text'>kind: user\n",
       "\n",
       "Tell me about Vulcan Materials in 3 sentences</pre></div><div class='basic-renderer-box thought'><h4 class='step-header'>[1] Thought: AssistantThought</h4><pre class='step-text'>kind: assistant_thought\n",
       "\n",
       "<details><summary>1205 characters ...</summary>Here's a plan on how to use the tools to help the user learn about Vulcan Materials:\n",
       "\n",
       "1. **Get the stock ticker symbol**: Use the `get_stock_ticker` function to retrieve the stock ticker symbol for Vulcan Materials by passing \"Vulcan Materials\" as the company name.\n",
       "2. **Explain the company overview**: Provide a brief overview of Vulcan Materials, including its industry, products, and services.\n",
       "3. **Get historical stock data**: Use the `get_stock_data` function to retrieve the historical stock prices for Vulcan Materials over a specific time period (e.g., the last year) by passing the obtained ticker symbol, start date, and end date as arguments.\n",
       "4. **Analyze and present the data**: Analyze the historical stock data and present it in a concise and easy-to-understand format, highlighting key trends, patterns, and insights.\n",
       "5. **Provide additional relevant information**: Research and provide additional relevant information about Vulcan Materials, such as its financial performance, leadership, competitors, and recent news or announcements.\n",
       "6. **Summarize and conclude**: Summarize the key findings and insights about Vulcan Materials and provide a concise conclusion.\n",
       "\n",
       "Let's execute this plan!</details></pre></div><div class='basic-renderer-box action'><h4 class='step-header'>[2] Action: ToolCalls</h4><pre class='step-text'>tool_calls:\n",
       "- function:\n",
       "    arguments: '{\"company_name\": \"Vulcan Materials\"}'\n",
       "    name: get_stock_ticker\n",
       "  id: tool_call_0_node_starts_at_2\n",
       "  type: function\n",
       "kind: assistant\n",
       "</pre></div><div class='basic-renderer-box thought'><h4 class='step-header'>[3] Thought: SetNextNode</h4><pre class='step-text'>kind: set_next_node\n",
       "next_node: 1\n",
       "</pre></div><div class='basic-renderer-box observation'><h4 class='step-header'>[4] Observation: ToolResult</h4><pre class='step-text'>tool_call_id: tool_call_0_node_starts_at_2\n",
       "kind: tool\n",
       "\n",
       "VMC</pre></div><div class='basic-renderer-box action'><h4 class='step-header'>[5] Action: ToolCalls</h4><pre class='step-text'>tool_calls:\n",
       "- function:\n",
       "    arguments: '{\"symbol\": \"VMC\", \"start_date\": \"2023-09-17\", \"end_date\": \"2024-09-17\"}'\n",
       "    name: get_stock_data\n",
       "  id: tool_call_0_node_starts_at_5\n",
       "  type: function\n",
       "kind: assistant\n",
       "</pre></div><div class='basic-renderer-box thought'><h4 class='step-header'>[6] Thought: SetNextNode</h4><pre class='step-text'>kind: set_next_node\n",
       "next_node: 1\n",
       "</pre></div><div class='basic-renderer-box observation'><h4 class='step-header'>[7] Observation: ToolResult</h4><pre class='step-text'>tool_call_id: tool_call_0_node_starts_at_5\n",
       "kind: tool\n",
       "\n",
       "<details><summary>2195 characters ...</summary>[('2023-09-18', 211.69000244140625), ('2023-09-22', 200.6199951171875), ('2023-09-28', 205.02999877929688), ('2023-10-04', 205.02999877929688), ('2023-10-10', 211.0), ('2023-10-16', 213.0399932861328), ('2023-10-20', 201.5500030517578), ('2023-10-26', 193.97000122070312), ('2023-11-01', 203.8000030517578), ('2023-11-07', 207.2100067138672), ('2023-11-13', 210.49000549316406), ('2023-11-17', 212.35000610351562), ('2023-11-24', 211.67999267578125), ('2023-11-30', 213.55999755859375), ('2023-12-06', 211.92999267578125), ('2023-12-12', 220.89999389648438), ('2023-12-18', 222.6999969482422), ('2023-12-22', 224.92999267578125), ('2023-12-29', 227.00999450683594), ('2024-01-05', 221.6199951171875), ('2024-01-11', 224.36000061035156), ('2024-01-18', 225.1199951171875), ('2024-01-24', 219.8000030517578), ('2024-01-30', 231.0500030517578), ('2024-02-05', 229.64999389648438), ('2024-02-09', 240.0), ('2024-02-15', 242.4600067138672), ('2024-02-22', 256.94000244140625), ('2024-02-28', 262.29998779296875), ('2024-03-05', 264.9800109863281), ('2024-03-11', 264.95001220703125), ('2024-03-15', 266.8599853515625), ('2024-03-21', 275.5899963378906), ('2024-03-27', 272.7900085449219), ('2024-04-03', 268.7699890136719), ('2024-04-09', 265.6199951171875), ('2024-04-15', 260.4700012207031), ('2024-04-19', 252.05999755859375), ('2024-04-25', 258.5400085449219), ('2024-05-01', 259.7300109863281), ('2024-05-07', 268.3500061035156), ('2024-05-13', 270.0899963378906), ('2024-05-17', 259.1000061035156), ('2024-05-23', 257.2099914550781), ('2024-05-30', 254.0800018310547), ('2024-06-05', 251.17999267578125), ('2024-06-11', 244.63999938964844), ('2024-06-17', 256.3500061035156), ('2024-06-24', 247.5800018310547), ('2024-06-28', 248.67999267578125), ('2024-07-05', 244.2100067138672), ('2024-07-11', 254.69000244140625), ('2024-07-17', 255.8000030517578), ('2024-07-23', 260.1499938964844), ('2024-07-29', 264.5299987792969), ('2024-08-02', 266.3399963378906), ('2024-08-08', 246.3300018310547), ('2024-08-14', 242.5), ('2024-08-20', 245.60000610351562), ('2024-08-26', 250.67999267578125), ('2024-08-30', 245.2100067138672), ('2024-09-06', 231.97000122070312), ('2024-09-12', 236.27000427246094)]</details></pre></div><div class='basic-renderer-box action'><h4 class='step-header'>[8] Action: ToolCalls</h4><pre class='step-text'>tool_calls:\n",
       "- function:\n",
       "    arguments: '{\"company_name\": \"Vulcan Materials\"}'\n",
       "    name: get_stock_ticker\n",
       "  id: tool_call_0_node_starts_at_8\n",
       "  type: function\n",
       "kind: assistant\n",
       "</pre></div><div class='basic-renderer-box thought'><h4 class='step-header'>[9] Thought: SetNextNode</h4><pre class='step-text'>kind: set_next_node\n",
       "next_node: 1\n",
       "</pre></div>"
      ],
      "text/plain": [
       "<IPython.core.display.HTML object>"
      ]
     },
     "execution_count": 16,
     "metadata": {},
     "output_type": "execute_result"
    }
   ],
   "source": [
    "final_tape2 = None\n",
    "print(\"Run LLAMA agent!\")\n",
    "for event in main_loop(\n",
    "    agent2, DialogTape() + [UserStep(content=\"Tell me about Vulcan Materials in 3 sentences\")], env, max_loops=3\n",
    "):\n",
    "    if ae := event.agent_event:\n",
    "        if ae.step:\n",
    "            print(ae.step.model_dump_json(indent=2))\n",
    "        if ae.final_tape:\n",
    "            final_tape2 = ae.final_tape\n",
    "    if event.observation:\n",
    "        print(event.observation.model_dump_json(indent=2))\n",
    "assert final_tape2 is not None\n",
    "print(\"Final tape:\")\n",
    "HTML(render_tape_with_prompts(final_tape2, PrettyRenderer()))\n"
   ]
  },
  {
   "cell_type": "markdown",
   "metadata": {},
   "source": [
    "Sometimes the above agent works well, but quite likely you are seeing that the LLAMA-based agent is having trouble. Let's try to help it. For reproducibility, we'll use a pre-recorded failed tape."
   ]
  },
  {
   "cell_type": "code",
   "execution_count": 17,
   "metadata": {
    "execution": {
     "iopub.execute_input": "2024-10-01T15:24:54.229336Z",
     "iopub.status.busy": "2024-10-01T15:24:54.228899Z",
     "iopub.status.idle": "2024-10-01T15:24:57.230503Z",
     "shell.execute_reply": "2024-10-01T15:24:57.229754Z"
    }
   },
   "outputs": [
    {
     "data": {
      "text/html": [
       "<style>.basic-renderer-box { margin: 4px; padding: 2px; background: lavender; white-space: pre-wrap; color: black;}.basic-prompt-box { margin: 4px; padding: 2px; background: lavender; color: black;}.episode-row { display: flex; align-items: end; }.agent-column { width: 50%; }.user-column { width: 25%; }.annotator-column { width: 25%; }.inner-tape-container { display: flex }.inner-tape-indent { width: 10%; }.inner-tape { width: 90%; }</style><style>.observation { background-color: #baffc9;; }.error_observation { background-color: #dd0000; }.action { background-color: #cccccc; }.thought { background-color: #ffffdb; }.call { background-color: #ffffff; }.respond { background-color: #ffffff; }.step-header { margin: 2pt 2pt 2pt 0 !important; }.step-text { font-size: 12px; white-space: pre-wrap; word-wrap: break-word;}</style><h3>Metadata</h3><details> <summary> Show / Hide </summary> <div class='basic-renderer-box'>author: Agent\n",
       "author_tape_id: null\n",
       "error: null\n",
       "id: 65e3938e-0381-462b-9e38-8cbab4e731b7\n",
       "n_added_steps: 2\n",
       "parent_id: 4ff338b3-398f-4bf6-b7be-f43376b0f5b3\n",
       "result: null\n",
       "</div> </details><h3>Steps</h3><div class='basic-renderer-box observation'><h4 class='step-header'>[0] User</h4><pre class='step-text'>kind: user\n",
       "\n",
       "Tell me about Vulcan Materials in 3 sentences</pre></div><div class='basic-renderer-box thought'><h4 class='step-header'>[1] Thought: AssistantThought</h4><pre class='step-text'>kind: assistant_thought\n",
       "\n",
       "<details><summary>1206 characters ...</summary>Here's a plan to help the user learn about Vulcan Materials using the available tools:\n",
       "\n",
       "1. **Get the stock ticker symbol**: Use the `get_stock_ticker` function to retrieve the stock ticker symbol for Vulcan Materials by passing 'Vulcan Materials' as the `company_name` parameter. This will give us the ticker symbol, which we'll use for further research.\n",
       "\n",
       "2. **Get historical stock data**: Use the `get_stock_data` function to retrieve the historical stock prices for Vulcan Materials. We'll pass the obtained ticker symbol, a start date (e.g., '2020-01-01'), and an end date (e.g., '2024-09-17') as parameters to get the stock prices over the specified period.\n",
       "\n",
       "3. **Analyze the stock data**: Examine the obtained stock prices to identify trends, patterns, and correlations. We can calculate key metrics such as the average stock price, highest and lowest prices, and the overall stock performance over the specified period.\n",
       "\n",
       "4. **Provide an overview of Vulcan Materials**: Combine the obtained data with additional information about Vulcan Materials, such as its industry, sector, market capitalization, and major competitors, to provide a comprehensive overview of the company.\n",
       "\n",
       "Let's execute this plan!</details></pre></div><div class='basic-renderer-box action'><h4 class='step-header'>[2] Action: ToolCalls</h4><pre class='step-text'>tool_calls:\n",
       "- function:\n",
       "    arguments: '{\"company_name\": \"Vulcan Materials\"}'\n",
       "    name: get_stock_ticker\n",
       "  id: tool_call_0_node_starts_at_2\n",
       "  type: function\n",
       "kind: assistant\n",
       "</pre></div><div class='basic-renderer-box thought'><h4 class='step-header'>[3] Thought: SetNextNode</h4><pre class='step-text'>kind: set_next_node\n",
       "next_node: 1\n",
       "</pre></div><div class='basic-renderer-box observation'><h4 class='step-header'>[4] Observation: ToolResult</h4><pre class='step-text'>tool_call_id: tool_call_0_node_starts_at_2\n",
       "kind: tool\n",
       "\n",
       "VMC</pre></div><div class='basic-renderer-box action'><h4 class='step-header'>[5] Action: ToolCalls</h4><pre class='step-text'>tool_calls:\n",
       "- function:\n",
       "    arguments: '{\"symbol\": \"VMC\", \"start_date\": \"2020-01-01\", \"end_date\": \"2024-09-17\"}'\n",
       "    name: get_stock_data\n",
       "  id: tool_call_0_node_starts_at_5\n",
       "  type: function\n",
       "kind: assistant\n",
       "</pre></div><div class='basic-renderer-box thought'><h4 class='step-header'>[6] Thought: SetNextNode</h4><pre class='step-text'>kind: set_next_node\n",
       "next_node: 1\n",
       "</pre></div><div class='basic-renderer-box observation'><h4 class='step-header'>[7] Observation: ToolResult</h4><pre class='step-text'>tool_call_id: tool_call_0_node_starts_at_5\n",
       "kind: tool\n",
       "\n",
       "<details><summary>2615 characters ...</summary>[('2020-01-02', 142.72000122070312), ('2020-01-27', 138.8800048828125), ('2020-02-19', 135.39999389648438), ('2020-03-12', 107.12000274658203), ('2020-04-03', 99.20999908447266), ('2020-04-28', 110.7699966430664), ('2020-05-20', 101.47000122070312), ('2020-06-12', 112.08999633789062), ('2020-07-07', 122.66999816894531), ('2020-07-29', 121.08000183105469), ('2020-08-20', 126.11000061035156), ('2020-09-14', 130.33999633789062), ('2020-10-06', 141.30999755859375), ('2020-10-28', 137.47999572753906), ('2020-11-19', 140.11000061035156), ('2020-12-14', 135.44000244140625), ('2021-01-07', 162.00999450683594), ('2021-02-01', 152.0), ('2021-02-24', 174.14999389648438), ('2021-03-18', 168.0500030517578), ('2021-04-12', 174.35000610351562), ('2021-05-04', 189.2100067138672), ('2021-05-26', 183.92999267578125), ('2021-06-18', 165.83999633789062), ('2021-07-13', 173.52999877929688), ('2021-08-04', 179.66000366210938), ('2021-08-26', 187.52999877929688), ('2021-09-20', 169.4199981689453), ('2021-10-12', 170.8300018310547), ('2021-11-03', 195.0), ('2021-11-26', 197.4499969482422), ('2021-12-20', 198.77999877929688), ('2022-01-12', 202.8800048828125), ('2022-02-04', 184.0399932861328), ('2022-03-01', 174.44000244140625), ('2022-03-23', 177.33999633789062), ('2022-04-14', 174.77000427246094), ('2022-05-09', 162.9499969482422), ('2022-06-01', 164.5399932861328), ('2022-06-24', 145.82000732421875), ('2022-07-19', 152.57000732421875), ('2022-08-10', 174.52000427246094), ('2022-09-01', 166.22000122070312), ('2022-09-26', 153.9499969482422), ('2022-10-18', 158.77999877929688), ('2022-11-09', 168.94000244140625), ('2022-12-02', 184.49000549316406), ('2022-12-27', 175.67999267578125), ('2023-01-20', 178.88999938964844), ('2023-02-13', 186.05999755859375), ('2023-03-08', 178.9199981689453), ('2023-03-30', 170.13999938964844), ('2023-04-24', 171.41000366210938), ('2023-05-16', 195.00999450683594), ('2023-06-08', 206.17999267578125), ('2023-07-03', 223.33999633789062), ('2023-07-26', 223.4600067138672), ('2023-08-17', 213.3300018310547), ('2023-09-11', 216.58999633789062), ('2023-10-03', 199.99000549316406), ('2023-10-25', 203.3699951171875), ('2023-11-16', 212.27000427246094), ('2023-12-11', 218.86000061035156), ('2024-01-04', 220.67999267578125), ('2024-01-29', 229.3699951171875), ('2024-02-21', 253.42999267578125), ('2024-03-14', 270.7300109863281), ('2024-04-08', 269.7200012207031), ('2024-04-30', 257.6300048828125), ('2024-05-22', 260.8699951171875), ('2024-06-14', 252.63999938964844), ('2024-07-10', 247.72000122070312), ('2024-08-01', 271.1300048828125), ('2024-08-23', 254.88999938964844)]</details></pre></div><div class='basic-renderer-box action'><h4 class='step-header'>[8] Assistant</h4><pre class='step-text'>kind: assistant\n",
       "\n",
       "Vulcan Materials, a leading producer of construction materials, has a ticker symbol of VMC. Its historical stock prices from 2020-01-01 to 2024-09-17 show an overall increasing trend, with some fluctuations. The average stock price over this period is around 172.78. The highest price was 271.13 on 2024-08-01, and the lowest was 99.21 on 2020-04-03. Vulcan Materials operates in the basic materials sector, and its major competitors include Martin Marietta Materials, CRH plc, and Cemex SAB de CV. The company's market capitalization is around 23.6 billion USD.</pre></div><div class='basic-renderer-box thought'><h4 class='step-header'>[9] Thought: SetNextNode</h4><pre class='step-text'>kind: set_next_node\n",
       "next_node: 0\n",
       "</pre></div>"
      ],
      "text/plain": [
       "<IPython.core.display.HTML object>"
      ]
     },
     "execution_count": 17,
     "metadata": {},
     "output_type": "execute_result"
    }
   ],
   "source": [
    "with open(\"assets/failed_tape.json\") as src:\n",
    "    failed_tape = DialogTape.model_validate(json.load(src))\n",
    "agent2b = agent2.model_copy(deep=True)\n",
    "agent2b.templates[\"call_or_respond\"] += (\n",
    "    \"REMEMBER: check what tool calls you have already made. Do not do the same call again!\"\n",
    ")\n",
    "resume_from_step8 = agent2b.run(failed_tape[:8]).get_final_tape()\n",
    "HTML(render_tape_with_prompts(resume_from_step8, PrettyRenderer()))\n"
   ]
  },
  {
   "cell_type": "markdown",
   "metadata": {},
   "source": [
    "We found that this helpful hint often gets LLAMA-based agent unstuck. Note how easy it was to test it thanks to the ability of the agent to resume from step 8!"
   ]
  },
  {
   "cell_type": "markdown",
   "metadata": {},
   "source": [
    "# 4. Tape reuse and training data"
   ]
  },
  {
   "cell_type": "markdown",
   "metadata": {},
   "source": [
    "\n",
    "Another way to help this agent (or one with an even smaller LLM) is to finetune the LLM. And the most important step towards finetuning is making the training data!\n",
    "\n",
    "There are two ways to make training data in TapeAgents:\n",
    "- the basic one: use the `LLMCall` structures that the agent created when it produced the tape. You can retrieve them from the SQLite storage and convert into training text.\n",
    "- the much powerful one: call `agent.reuse` to reconstructed the prompts and outputs **and** to validate that with the reconstructed LLMCalls the agent would indeed create the given tape\n",
    "\n",
    "The big advantage of the second approach is that it allows you to use the tape from a teacher agent (think slower and more expensive) to train a student agent (think faster and cheaper). Or to train an agent on its own revised tapes.\n",
    "\n",
    "Of course, restrictions apply: the tape by agent A may not be reusable by agent B directly. You might have to add/remove some steps. But at least `agent.reuse` verifies if your tape modifications led to creation of a tape that the agent B can indeed produce."
   ]
  },
  {
   "cell_type": "markdown",
   "metadata": {},
   "source": [
    "#### Make training data from the past LLM calls"
   ]
  },
  {
   "cell_type": "code",
   "execution_count": 18,
   "metadata": {
    "execution": {
     "iopub.execute_input": "2024-10-01T15:24:57.233733Z",
     "iopub.status.busy": "2024-10-01T15:24:57.233516Z",
     "iopub.status.idle": "2024-10-01T15:24:57.240526Z",
     "shell.execute_reply": "2024-10-01T15:24:57.240147Z"
    }
   },
   "outputs": [
    {
     "name": "stdout",
     "output_type": "stream",
     "text": [
      "Retrieved 4 LLM calls from the tape.\n",
      "From the first retrieved LLM call, the LLM will be trained to predict this text:\n",
      "---\n",
      "<|start_header_id|>assistant<|end_header_id|>\n",
      "\n",
      "Here's a plan on how to use the tools to help the user learn about Vulcan Materials:\n",
      "\n",
      "1. **Get the stock ticker symbol**: Use the `get_stock_ticker` function to retrieve the stock ticker symbol for Vulcan Materials by passing \"Vulcan Materials\" as the company name.\n",
      "2. **Explain the company overview**: Provide a brief overview of Vulcan Materials, including its industry, products, and services.\n",
      "3. **Get historical stock data**: Use the `get_stock_data` function to retrieve the historical stock prices for Vulcan Materials over a specific time period (e.g., the last year) by passing the obtained ticker symbol, start date, and end date as arguments.\n",
      "4. **Analyze and present the data**: Analyze the historical stock data and present it in a concise and easy-to-understand format, highlighting key trends, patterns, and insights.\n",
      "5. **Provide additional relevant information**: Research and provide additional relevant information about Vulcan Materials, such as its financial performance, leadership, competitors, and recent news or announcements.\n",
      "6. **Summarize and conclude**: Summarize the key findings and insights about Vulcan Materials and provide a concise conclusion.\n",
      "\n",
      "Let's execute this plan!<|eot_id|>\n"
     ]
    }
   ],
   "source": [
    "from tapeagents.observe import retrieve_tape_llm_calls\n",
    "\n",
    "llm_calls = retrieve_tape_llm_calls(final_tape2)\n",
    "print(f\"Retrieved {len(llm_calls)} LLM calls from the tape.\")\n",
    "# under the hood agent2 will route this request to its llm\n",
    "example_text = agent2.make_training_text(list(llm_calls.values())[0])\n",
    "print(\"From the first retrieved LLM call, the LLM will be trained to predict this text:\")\n",
    "print(\"---\")\n",
    "print(example_text.output_text)\n"
   ]
  },
  {
   "cell_type": "markdown",
   "metadata": {},
   "source": [
    "#### Make training data by reusing a tape"
   ]
  },
  {
   "cell_type": "markdown",
   "metadata": {},
   "source": [
    "Note how `agent2` reuses the tape by `agent1`, even though they have very different prompt and output formats! \n",
    "\n",
    "You can inspect the reused tape below and see that the steps are the same as before, but the prompts and outputs are different."
   ]
  },
  {
   "cell_type": "code",
   "execution_count": 19,
   "metadata": {
    "execution": {
     "iopub.execute_input": "2024-10-01T15:24:57.242668Z",
     "iopub.status.busy": "2024-10-01T15:24:57.242501Z",
     "iopub.status.idle": "2024-10-01T15:24:57.262486Z",
     "shell.execute_reply": "2024-10-01T15:24:57.262151Z"
    }
   },
   "outputs": [
    {
     "data": {
      "text/html": [
       "<style>.basic-renderer-box { margin: 4px; padding: 2px; background: lavender; white-space: pre-wrap; color: black;}.basic-prompt-box { margin: 4px; padding: 2px; background: lavender; color: black;}.episode-row { display: flex; align-items: end; }.agent-column { width: 50%; }.user-column { width: 25%; }.annotator-column { width: 25%; }.inner-tape-container { display: flex }.inner-tape-indent { width: 10%; }.inner-tape { width: 90%; }</style><style>.observation { background-color: #baffc9;; }.error_observation { background-color: #dd0000; }.action { background-color: #cccccc; }.thought { background-color: #ffffdb; }.call { background-color: #ffffff; }.respond { background-color: #ffffff; }.step-header { margin: 2pt 2pt 2pt 0 !important; }.step-text { font-size: 12px; white-space: pre-wrap; word-wrap: break-word;}</style><h3>Metadata</h3><details> <summary> Show / Hide </summary> <div class='basic-renderer-box'>author: null\n",
       "author_tape_id: null\n",
       "error: null\n",
       "id: 7773721e-7aae-4dfb-913e-b78e996e9285\n",
       "n_added_steps: 0\n",
       "parent_id: null\n",
       "result: null\n",
       "</div> </details><h3>Steps</h3><div class='basic-renderer-box observation'><h4 class='step-header'>[0] User</h4><pre class='step-text'>kind: user\n",
       "\n",
       "Tell me about Vulcan in 3 sentences</pre></div><div class='basic-renderer-box thought'><h4 class='step-header'>[1] Thought: AssistantThought</h4><pre class='step-text'>kind: assistant_thought\n",
       "\n",
       "To help the user learn about Vulcan's financials, I will follow these steps:\n",
       "\n",
       "1. Use the `functions.get_stock_ticker` tool to find the stock ticker symbol for Vulcan.\n",
       "2. Once the stock ticker is obtained, use the `functions.get_stock_data` tool to retrieve the stock prices for Vulcan over a specified date range.\n",
       "3. Present the gathered information to the user in a clear and concise manner.</pre></div><div class='basic-renderer-box action'><h4 class='step-header'>[2] Action: ToolCalls</h4><pre class='step-text'>tool_calls:\n",
       "- function:\n",
       "    arguments: '{\"company_name\": \"Vulcan\"}'\n",
       "    name: get_stock_ticker\n",
       "  id: tool_call_0_node_starts_at_2\n",
       "  type: function\n",
       "- function:\n",
       "    arguments: '{\"company_name\": \"Vulcan Materials\"}'\n",
       "    name: get_stock_ticker\n",
       "  id: tool_call_1_node_starts_at_2\n",
       "  type: function\n",
       "kind: assistant\n",
       "</pre></div><div class='basic-renderer-box thought'><h4 class='step-header'>[3] Thought: SetNextNode</h4><pre class='step-text'>kind: set_next_node\n",
       "next_node: 1\n",
       "</pre></div><div class='basic-renderer-box observation'><h4 class='step-header'>[4] Observation: ToolResult</h4><pre class='step-text'>tool_call_id: call_brwgvaOnPOqHwtVRo3MKrtCz\n",
       "kind: tool\n",
       "\n",
       "VMC</pre></div><div class='basic-renderer-box observation'><h4 class='step-header'>[5] Observation: ToolResult</h4><pre class='step-text'>tool_call_id: call_MEAUnqRoKZuFUiihKIeg2It2\n",
       "kind: tool\n",
       "\n",
       "VMC</pre></div><div class='basic-renderer-box action'><h4 class='step-header'>[6] Action: ToolCalls</h4><pre class='step-text'>tool_calls:\n",
       "- function:\n",
       "    arguments: '{\"symbol\": \"VMC\", \"start_date\": \"2024-01-01\", \"end_date\": \"2024-09-17\"}'\n",
       "    name: get_stock_data\n",
       "  id: tool_call_0_node_starts_at_6\n",
       "  type: function\n",
       "kind: assistant\n",
       "</pre></div><div class='basic-renderer-box thought'><h4 class='step-header'>[7] Thought: SetNextNode</h4><pre class='step-text'>kind: set_next_node\n",
       "next_node: 1\n",
       "</pre></div><div class='basic-renderer-box observation'><h4 class='step-header'>[8] Observation: ToolResult</h4><pre class='step-text'>tool_call_id: call_XixrZgyzMQpP65dlpT85ox4d\n",
       "kind: tool\n",
       "\n",
       "<details><summary>3088 characters ...</summary>[('2024-01-02', 223.60000610351562), ('2024-01-04', 220.67999267578125), ('2024-01-08', 224.0), ('2024-01-10', 226.11000061035156), ('2024-01-12', 223.9600067138672), ('2024-01-17', 221.25999450683594), ('2024-01-19', 226.0800018310547), ('2024-01-23', 222.8000030517578), ('2024-01-25', 223.41000366210938), ('2024-01-29', 229.3699951171875), ('2024-01-31', 226.00999450683594), ('2024-02-02', 234.44000244140625), ('2024-02-06', 231.5800018310547), ('2024-02-08', 238.44000244140625), ('2024-02-12', 240.1300048828125), ('2024-02-14', 241.10000610351562), ('2024-02-16', 255.14999389648438), ('2024-02-21', 253.42999267578125), ('2024-02-23', 257.2300109863281), ('2024-02-27', 263.55999755859375), ('2024-02-29', 265.8500061035156), ('2024-03-04', 267.8500061035156), ('2024-03-06', 267.3399963378906), ('2024-03-08', 266.70001220703125), ('2024-03-12', 269.5799865722656), ('2024-03-14', 270.7300109863281), ('2024-03-18', 269.4200134277344), ('2024-03-20', 271.739990234375), ('2024-03-22', 274.3599853515625), ('2024-03-26', 273.8699951171875), ('2024-03-28', 272.9200134277344), ('2024-04-02', 266.25), ('2024-04-04', 265.8900146484375), ('2024-04-08', 269.7200012207031), ('2024-04-10', 264.55999755859375), ('2024-04-12', 262.7799987792969), ('2024-04-16', 258.5400085449219), ('2024-04-18', 255.07000732421875), ('2024-04-22', 254.47999572753906), ('2024-04-24', 256.3999938964844), ('2024-04-26', 261.239990234375), ('2024-04-30', 257.6300048828125), ('2024-05-02', 264.4100036621094), ('2024-05-06', 266.6099853515625), ('2024-05-08', 267.92999267578125), ('2024-05-10', 272.07000732421875), ('2024-05-14', 267.75), ('2024-05-16', 260.0), ('2024-05-20', 260.2099914550781), ('2024-05-22', 260.8699951171875), ('2024-05-24', 259.25), ('2024-05-29', 251.91000366210938), ('2024-05-31', 255.77000427246094), ('2024-06-04', 250.4600067138672), ('2024-06-06', 248.5800018310547), ('2024-06-10', 247.80999755859375), ('2024-06-12', 249.1199951171875), ('2024-06-14', 252.63999938964844), ('2024-06-18', 255.61000061035156), ('2024-06-21', 247.80999755859375), ('2024-06-25', 246.14999389648438), ('2024-06-27', 247.75999450683594), ('2024-07-01', 243.72000122070312), ('2024-07-03', 243.9199981689453), ('2024-07-08', 241.97000122070312), ('2024-07-10', 247.72000122070312), ('2024-07-12', 252.50999450683594), ('2024-07-16', 262.80999755859375), ('2024-07-18', 256.0899963378906), ('2024-07-22', 260.6099853515625), ('2024-07-24', 250.50999450683594), ('2024-07-26', 261.7099914550781), ('2024-07-30', 270.0), ('2024-08-01', 271.1300048828125), ('2024-08-05', 257.42999267578125), ('2024-08-07', 241.22000122070312), ('2024-08-09', 244.33999633789062), ('2024-08-13', 243.83999633789062), ('2024-08-15', 246.57000732421875), ('2024-08-19', 244.2899932861328), ('2024-08-21', 247.83999633789062), ('2024-08-23', 254.88999938964844), ('2024-08-27', 240.41000366210938), ('2024-08-29', 241.27999877929688), ('2024-09-03', 239.02000427246094), ('2024-09-05', 232.16000366210938), ('2024-09-09', 231.8300018310547), ('2024-09-11', 232.9499969482422), ('2024-09-13', 237.47000122070312)]</details></pre></div><div class='basic-renderer-box action'><h4 class='step-header'>[9] Assistant</h4><pre class='step-text'>kind: assistant\n",
       "\n",
       "Vulcan Materials Company, trading under the ticker symbol VMC, is a major producer of construction aggregates, primarily crushed stone, sand, and gravel. Over the course of 2024, its stock price has shown significant fluctuations, starting at around $223.60 in early January and reaching highs of over $270 in late July, before settling around $237.47 in mid-September. This performance reflects the company's market dynamics and investor sentiment throughout the year.</pre></div><div class='basic-renderer-box thought'><h4 class='step-header'>[10] Thought: SetNextNode</h4><pre class='step-text'>kind: set_next_node\n",
       "next_node: 0\n",
       "</pre></div>"
      ],
      "text/plain": [
       "<IPython.core.display.HTML object>"
      ]
     },
     "execution_count": 19,
     "metadata": {},
     "output_type": "execute_result"
    }
   ],
   "source": [
    "reused_tape, _ = agent2.reuse(final_tape1)\n",
    "HTML(render_tape_with_prompts(reused_tape, PrettyRenderer()))\n"
   ]
  },
  {
   "cell_type": "markdown",
   "metadata": {},
   "source": [
    "We offer a quick way to harness the tape reuse to make training data. "
   ]
  },
  {
   "cell_type": "code",
   "execution_count": 20,
   "metadata": {
    "execution": {
     "iopub.execute_input": "2024-10-01T15:24:57.264186Z",
     "iopub.status.busy": "2024-10-01T15:24:57.264049Z",
     "iopub.status.idle": "2024-10-01T15:24:57.276024Z",
     "shell.execute_reply": "2024-10-01T15:24:57.275709Z"
    }
   },
   "outputs": [
    {
     "name": "stdout",
     "output_type": "stream",
     "text": [
      "<|start_header_id|>assistant<|end_header_id|>\n",
      "\n",
      "To help the user learn about Vulcan's financials, I will follow these steps:\n",
      "\n",
      "1. Use the `functions.get_stock_ticker` tool to find the stock ticker symbol for Vulcan.\n",
      "2. Once the stock ticker is obtained, use the `functions.get_stock_data` tool to retrieve the stock prices for Vulcan over a specified date range.\n",
      "3. Present the gathered information to the user in a clear and concise manner.<|eot_id|>\n"
     ]
    }
   ],
   "source": [
    "training_data = agent2.make_training_data(final_tape1)\n",
    "print(training_data[0].output_text)\n"
   ]
  },
  {
   "cell_type": "markdown",
   "metadata": {},
   "source": [
    "What could be simpler than that?!\n",
    "We're only scratching the surface of what TapeAgents can do. We invite you to explore the other tutorials and examples to learn more about the TapeAgents framework."
   ]
  },
  {
   "cell_type": "markdown",
   "metadata": {},
   "source": [
    "# 5. Multi-agent teams, deeper dive into view stack"
   ]
  },
  {
   "cell_type": "markdown",
   "metadata": {},
   "source": [
    "Let's add a colleague to our agent that will help it search the internet! \n",
    "\n",
    "First thing, we need to give this colleague some tools. In TapeAgents, the agents do not use the environment directly, their interaction with the environment is mediated by in orchestrator such as you application. But the agents should know what tools they can call. And if you are using `main_loop` as the orchestrator, it requires one environment that contains tools of all the agents. \n",
    "\n",
    "Let's go ahead and define environments:\n",
    "- the environments of the root agent\n",
    "- the one of its internet search specialist colleague\n",
    "- the environment that contains all the tools.\n",
    "\n",
    "Note that we won't use the first two environments to produce observations, we'll use them only to generate tool schemas for agent."
   ]
  },
  {
   "cell_type": "code",
   "execution_count": 21,
   "metadata": {
    "execution": {
     "iopub.execute_input": "2024-10-01T15:24:57.277647Z",
     "iopub.status.busy": "2024-10-01T15:24:57.277518Z",
     "iopub.status.idle": "2024-10-01T15:24:57.291379Z",
     "shell.execute_reply": "2024-10-01T15:24:57.291092Z"
    }
   },
   "outputs": [],
   "source": [
    "from tapeagents.tools.simple_browser import SimpleTextBrowser\n",
    "\n",
    "browser = SimpleTextBrowser()\n",
    "search_agent_env = ToolEnvironment([browser.get_search_results, browser.get_page, browser.get_next_page])\n",
    "\n",
    "\n",
    "# We will use the tool choice mechanism to let the main agent call its search specialist agent.\n",
    "# To this end, we create a mock tool that represents calling the search agent.\n",
    "def call_search_agent(query: str):\n",
    "    \"\"\"Use this tool to ask a fellow AI agent to search for information on the web.\"\"\"\n",
    "    pass\n",
    "\n",
    "\n",
    "main_agent_env = ToolEnvironment([get_stock_ticker, get_stock_data, call_search_agent])\n",
    "whole_env = ToolEnvironment(\n",
    "    [get_stock_ticker, get_stock_data, browser.get_search_results, browser.get_page, browser.get_next_page]\n",
    ")\n"
   ]
  },
  {
   "cell_type": "markdown",
   "metadata": {},
   "source": [
    "Before we implement the subagent, let's review the way we do multi-agent communication in TapeAgents:\n",
    "- when the root agent wants to call its subagent \"xyz\", it puts `Call(agent_name=\"xyz\")` step on the tape\n",
    "- at the next iteration, the root agent will compute `TapeViewStack` and delegate to the currently active agent. Right after `Call(agent_name=\"B\")` on top of the stack there will be a new view associated with Agent \"xyz\". The root agent will delegate to \"xyz\" to make the prompt and to generate the steps from \"xyz\"'s current node.\n",
    "- when \"xyz\" is done it will put `Respond()` step on the tape. At the next iteration the view stack won't have \"xyz\"'s view on the top any more. \n",
    "\n",
    "A reader familiar with the concept of a call stack will find the `TapeViewStack` concept very similar...\n",
    "\n",
    "Note that for the purpose of computing the view stack the root agent's name is not known. It's view will be signed as \"root\".\n",
    "\n",
    "Let's explore the way `Call` and `Respond` works with a minimal example.\n"
   ]
  },
  {
   "cell_type": "code",
   "execution_count": 22,
   "metadata": {
    "execution": {
     "iopub.execute_input": "2024-10-01T15:24:57.292963Z",
     "iopub.status.busy": "2024-10-01T15:24:57.292861Z",
     "iopub.status.idle": "2024-10-01T15:24:57.296127Z",
     "shell.execute_reply": "2024-10-01T15:24:57.295884Z"
    }
   },
   "outputs": [
    {
     "name": "stdout",
     "output_type": "stream",
     "text": [
      "View stack after step 0\n",
      "-- root: UserStep\n",
      "View stack after step 1\n",
      "-- root: UserStep, Call\n",
      "-- root/xyz: Call\n",
      "View stack after step 2\n",
      "-- root: UserStep, Call\n",
      "-- root/xyz: Call, AssistantThought\n",
      "View stack after step 3\n",
      "-- root: UserStep, Call, Respond\n"
     ]
    }
   ],
   "source": [
    "from tapeagents.core import Call, Respond\n",
    "\n",
    "tape = DialogTape(\n",
    "    steps=[\n",
    "        UserStep(content=\"Compute 2 + 2\"),\n",
    "        Call(agent_name=\"xyz\", content=\"what is 2 + 2, dear xyz\"),\n",
    "        AssistantThought(content=\"deep thinking by agent xyz\"),\n",
    "        Respond(content=\"I heard it is 4\"),\n",
    "    ]\n",
    ")\n",
    "# We will print a brief summary of view stack after each step\n",
    "for i in range(0, len(tape)):\n",
    "    print(f\"View stack after step {i}\")\n",
    "    view_stack = TapeViewStack.compute(tape[: i + 1])\n",
    "    for view in view_stack.stack:\n",
    "        step_summary = \", \".join([step.__class__.__name__ for step in view.steps])\n",
    "        print(f\"-- {view.agent_full_name}: {step_summary}\")\n",
    "# Note how \"root/xyz\" view appears after step 1 and disappears after step 3.\n",
    "# Also note how \"root\" does not see private thoughts of \"xyz\" (step 2), and \"xyz\"\n",
    "# does not see the initial observation of root (step 0)\n"
   ]
  },
  {
   "cell_type": "markdown",
   "metadata": {},
   "source": [
    "We are now ready to proceed to the implementation of the internet search agent!"
   ]
  },
  {
   "cell_type": "code",
   "execution_count": 23,
   "metadata": {
    "execution": {
     "iopub.execute_input": "2024-10-01T15:24:57.297660Z",
     "iopub.status.busy": "2024-10-01T15:24:57.297557Z",
     "iopub.status.idle": "2024-10-01T15:25:06.817554Z",
     "shell.execute_reply": "2024-10-01T15:25:06.817215Z"
    }
   },
   "outputs": [
    {
     "data": {
      "text/html": [
       "<style>.basic-renderer-box { margin: 4px; padding: 2px; background: lavender; white-space: pre-wrap; color: black;}.basic-prompt-box { margin: 4px; padding: 2px; background: lavender; color: black;}.episode-row { display: flex; align-items: end; }.agent-column { width: 50%; }.user-column { width: 25%; }.annotator-column { width: 25%; }.inner-tape-container { display: flex }.inner-tape-indent { width: 10%; }.inner-tape { width: 90%; }</style><style>.observation { background-color: #baffc9;; }.error_observation { background-color: #dd0000; }.action { background-color: #cccccc; }.thought { background-color: #ffffdb; }.call { background-color: #ffffff; }.respond { background-color: #ffffff; }.step-header { margin: 2pt 2pt 2pt 0 !important; }.step-text { font-size: 12px; white-space: pre-wrap; word-wrap: break-word;}</style><h3>Metadata</h3><details> <summary> Show / Hide </summary> <div class='basic-renderer-box'>author: null\n",
       "author_tape_id: null\n",
       "error: null\n",
       "id: f675707c-d5f1-4613-9a38-b9d9a5c3cc5e\n",
       "n_added_steps: 1\n",
       "parent_id: null\n",
       "result: null\n",
       "</div> </details><h3>Steps</h3><div class='basic-renderer-box call'><h4 class='step-header'>[0] Agent calls search_agent</h4><pre class='step-text'>kind: call\n",
       "agent_name: search_agent\n",
       "\n",
       "What influenced Nvidia stock price in late 2022?</pre></div><div class='basic-renderer-box action'><h4 class='step-header'>[1] Action: ToolCalls</h4><pre class='step-text'>tool_calls:\n",
       "- function:\n",
       "    arguments: '{\"query\":\"Nvidia stock price influences late 2022\",\"max_results\":5}'\n",
       "    name: get_search_results\n",
       "  id: call_iwWsjkpfxgM1Yjp8JoZb3AxE\n",
       "  type: function\n",
       "kind: assistant\n",
       "</pre></div><div class='basic-renderer-box thought'><h4 class='step-header'>[2] Thought: SetNextNode</h4><pre class='step-text'>kind: set_next_node\n",
       "next_node: 0\n",
       "</pre></div><div class='basic-renderer-box observation'><h4 class='step-header'>[3] Observation: ToolResult</h4><pre class='step-text'>tool_call_id: call_iwWsjkpfxgM1Yjp8JoZb3AxE\n",
       "kind: tool\n",
       "\n",
       "<details><summary>1753 characters ...</summary>[{'title': 'NVIDIA Corporation - Stock Info - Historical Price Lookup', 'url': 'https://investor.nvidia.com/stock-info/historical-price-lookup/default.aspx', 'content': 'Stock quote & chart, historical price lookup, investment calculator, fundamentals, analyst coverage, financial info, financial reports, SEC filings, quarterly\\xa0...'}, {'title': 'Nvidia Falls As Another AI Stock Splits; Is Nvidia A Buy ...', 'url': 'https://www.investors.com/research/nvda-stock-is-nvidia-a-buy-2/', 'content': \"Nvidia stock rose as AI server maker SMCI's 10-for-1 stock split went into effect on Tuesday. Shares are above the 50-day moving average.\"}, {'title': \"Nvidia's stock chart shows how bulls are using the recent ...\", 'url': 'https://www.morningstar.com/news/marketwatch/20240927301/nvidias-stock-chart-shows-how-bulls-are-using-the-recent-pause-to-get-refreshed', 'content': '4 days ago — A check of history shows that the late 2018 downtrend that followed a three-year rally took the stock down 56%, and the late-2021 to late-2022\\xa0...'}, {'title': \"What's going on with Nvidia stock and the booming AI ...\", 'url': 'https://www.techtarget.com/whatis/feature/Whats-going-on-with-Nvidia-stock-and-the-booming-AI-market', 'content': \"4 Sept 2024 — The rise of generative AI is one of the key factors of Nvidia's rise. However, there are some other reasons Nvidia stock increased significantly\\xa0...\"}, {'title': 'Analytical NVIDIA Stock Forecast for 2024, 2025 - FXOpen UK', 'url': 'https://fxopen.com/blog/en/analytical-nvidia-stock-forecast-for-2024-2025-2030-and-beyond/', 'content': '27 May 2024 — While rising interest rates and restrictive financial conditions drove NVDA lower in 2022, to a low of $108.13, the debut of ChatGPT in late\\xa0...'}]</details></pre></div><div class='basic-renderer-box action'><h4 class='step-header'>[4] Action: ToolCalls</h4><pre class='step-text'>tool_calls:\n",
       "- function:\n",
       "    arguments: '{\"url\": \"https://www.investors.com/research/nvda-stock-is-nvidia-a-buy-2/\"}'\n",
       "    name: get_page\n",
       "  id: call_zPy86Yq1PZgBlgM5sbCBnVfz\n",
       "  type: function\n",
       "- function:\n",
       "    arguments: '{\"url\": \"https://www.morningstar.com/news/marketwatch/20240927301/nvidias-stock-chart-shows-how-bulls-are-using-the-recent-pause-to-get-refreshed\"}'\n",
       "    name: get_page\n",
       "  id: call_OcYFowuXV2Av7kZ7y4Vawjwd\n",
       "  type: function\n",
       "- function:\n",
       "    arguments: '{\"url\": \"https://www.techtarget.com/whatis/feature/Whats-going-on-with-Nvidia-stock-and-the-booming-AI-market\"}'\n",
       "    name: get_page\n",
       "  id: call_veA3HLU4QQEOVkefb2i6aoJT\n",
       "  type: function\n",
       "- function:\n",
       "    arguments: '{\"url\": \"https://fxopen.com/blog/en/analytical-nvidia-stock-forecast-for-2024-2025-2030-and-beyond/\"}'\n",
       "    name: get_page\n",
       "  id: call_zNJC5XFjeAjvB9b7a1zkhbLu\n",
       "  type: function\n",
       "kind: assistant\n",
       "</pre></div><div class='basic-renderer-box thought'><h4 class='step-header'>[5] Thought: SetNextNode</h4><pre class='step-text'>kind: set_next_node\n",
       "next_node: 0\n",
       "</pre></div><div class='basic-renderer-box observation'><h4 class='step-header'>[6] Observation: ToolResult</h4><pre class='step-text'>tool_call_id: call_zPy86Yq1PZgBlgM5sbCBnVfz\n",
       "kind: tool\n",
       "\n",
       "<details><summary>32891 characters ...</summary>('Title: Nvidia Falls Amid SMCI Stock Split; Is Nvidia A Buy Now?Investor\\'s Business Daily\\n=======================\\n![](https://www.queryly.com/images/whitesearchicon.png)\\n\\n* [Market Trend](https://research.investors.com/markettrend.aspx)\\n\\t+ [Market Trend](https://research.investors.com/markettrend.aspx)\\n\\t\\t- [The Big Picture](https://www.investors.com/category/market-trend/the-big-picture/)\\n\\t\\t- [Stock Market Data](https://www.investors.com/research/stock-market-data-dow-jones-sp-500-nasdaq-spdr-etfs/)\\n\\t\\t- [Stock Market Today](https://www.investors.com/news/stock-market-today-stock-market-news/)\\n\\t\\t- [New? Start Here](https://get.investors.com/getting-started/?src=A00332A&intcode=EditorialTests_GettingStarted_MarketTrend)\\n\\t\\t- [ETF Market Strategy](https://www.investors.com/market-trend/ibds-etf-market-strategy/ibds-etf-market-strategy/)\\n\\t\\t- [IBD Digital: 2 Months for $20](https://get.investors.com/ibd/?intcode=gnvb%7Cgnvb%7Cevgr%7C2021%7C08%7Cibdd%7Cna%7C%7C115458&src=AKCAGE)\\n\\t\\t- [Psychological Indicators](https://research.investors.com/psychological-market-indicators/)\\n* [Stock Lists](https://www.investors.com/stock-lists/stocks-to-watch-top-rated-ipos-big-caps-and-growth-stocks/)\\n\\t+ [Stock Lists](https://www.investors.com/stock-lists/stocks-to-watch-top-rated-ipos-big-caps-and-growth-stocks/)\\n\\t\\t- [**IBD 50**](https://research.investors.com/stock-lists/ibd-50/)\\n\\t\\t- [My Stock Lists](https://myibd.investors.com/my-ibd/portfolio.aspx)\\n\\t\\t- [Stocks Near A Buy Zone](https://www.investors.com/category/stock-lists/stocks-near-a-buy-zone/)\\n\\t\\t- [IBD ETF Indexes](https://www.investors.com/ibd-indexes/ibd-etf-indexes-ibd-50-etf-leaders-breakout-stocks-etf-ffty-ldrs-bout/)\\n\\t\\t- [**IBD Sector Leaders**](https://research.investors.com/stock-lists/sector-leaders)\\n\\t\\t- [Stock Lists Update](https://www.investors.com/stock-lists/best-growth-stocks-buy-watch-ibd-stock-lists/)\\n\\t\\t- [Relative Strength at New High](https://research.investors.com/stock-lists/relative-strength-at-new-high/)\\n\\t\\t- [IBD Data Tables](https://www.investors.com/ibd-data-tables/)\\n\\t\\t- [**IBD Big Cap 20**](https://research.investors.com/stock-lists/big-cap-20/)\\n\\t\\t- [Stocks On The Move](https://research.investors.com/stocksonthemove.aspx)\\n\\t\\t- [Rising Profit Estimates](https://research.investors.com/stock-lists/rising-profit-estimates/)\\n\\t\\t- [IBD Digital: 2 Months for $20](https://get.investors.com/ibd/?intcode=gnvb%7Cgnvb%7Cevgr%7C2021%7C08%7Cibdd%7Cna%7C%7C115458&src=AKCAGE)\\n\\t\\t- [**IBD Long\\\\-Term Leaders**](https://www.investors.com/research/best-stocks-to-buy-now-long-term-stocks-ibd-long-term-leaders-list/)\\n\\t\\t- [New Highs](https://research.investors.com/stock-lists/new-highs/)\\n\\t\\t- [Stocks Funds Are Buying](https://research.investors.com/stock-lists/stocks-that-funds-are-buying/)\\n\\t\\t- [New? Start Here](https://shop.investors.com/offer/splashresponsive.aspx?id=gettingstarted&src=A00332A&intcode=EditorialTests_GettingStarted_StockLists)\\n\\t\\t- [**IPO Leaders**](https://research.investors.com/stock-lists/ipo-leaders/)\\n\\t\\t- [Stock Spotlight](https://research.investors.com/stock-lists/stock-spotlight/)\\n\\t\\t- [Your Weekly Review](https://research.investors.com/stock-lists/your-weekly-review/)\\n* [Research](https://research.investors.com)\\n\\t+ [Stock Research](https://research.investors.com)\\n\\t\\t- [IBD Stock Checkup](https://research.investors.com/stock-checkup/)\\n\\t\\t- [Investing Action Plan](https://www.investors.com/category/research/investing-action-plan/)\\n\\t\\t- [The Income Investor](https://www.investors.com/category/research/the-income-investor/)\\n\\t\\t- [Stock Of The Day](https://www.investors.com/research/ibd-stock-of-the-day/)\\n\\t\\t- [Earnings Preview](https://www.investors.com/category/research/earnings-preview/)\\n\\t\\t- [IBD Stock Analysis](https://www.investors.com/category/research/ibd-stock-analysis/)\\n\\t\\t- [Screen Of The Day](https://www.investors.com/research/best-stocks-to-buy-watch-ibd-screen-of-the-day/)\\n\\t\\t- [Earnings Calendar](https://www.investors.com/research/earnings-calendar-analyst-estimates-stocks-to-watch/)\\n\\t\\t- [Industry Snapshot](https://www.investors.com/category/research/industry-snapshot/)\\n\\t\\t- [IBD Charts](https://research.investors.com/stock-charts/nasdaq-nasdaq-composite-0ndqc.htm?cht=pvc&type=daily)\\n\\t\\t- [Industry Themes](https://www.investors.com/category/research/ibd-industry-themes/)\\n\\t\\t- [IBD 50 Stocks To Watch](https://www.investors.com/research/ibd-50-growth-stocks-to-watch/)\\n\\t\\t- [Stock Screener](https://ibdstockscreener.investors.com)\\n\\t\\t- [The New America](https://www.investors.com/category/research/the-new-america/)\\n\\t\\t- [IBD Data Stories](https://www.investors.com/ibd-data-stories/build-your-investing-watch-list-with-stock-ratings-buy-zones-earnings/)\\n\\t\\t- [Swing Trading](https://www.investors.com/category/research/swing-trading/)\\n\\t\\t- [Best ETFs](https://www.investors.com/etfs-and-funds/etfs/best-etfs-exchange-traded-funds/)\\n\\t\\t- [IBD Digital: 2 Months for $20](https://get.investors.com/ibd/?intcode=gnvb%7Cgnvb%7Cevgr%7C2021%7C08%7Cibdd%7Cna%7C%7C115458&src=AKCAGE)\\n\\t\\t- [Options](https://www.investors.com/category/research/options/)\\n\\t\\t- [Best Mutual Funds](https://www.investors.com/etfs-and-funds/mutual-funds/best-mutual-funds-news-performance-reports-investing-ideas/)\\n\\t+ [Premium Investing Tools](https://research.investors.com)\\n\\t\\t- [MarketSurge](https://marketsurge.investors.com/)\\n\\t\\t- [IBD Live](https://research.investors.com/ibdlive)\\n\\t\\t- [Leaderboard](https://leaderboard.investors.com/)\\n\\t\\t- [SwingTrader](https://swingtrader.investors.com)\\n\\t\\t- [MarketDiem](https://get.investors.com/marketdiem/?intcode=lgnv%7Clgnv%7Cprdmcst%7C2022%7C10%7Cmkdm%7Cna%7C%7C832881&src=A00653)\\n* [NEWS](https://www.investors.com/tag/all-news-and-stock-ideas/)\\n\\t+ [NEWS](https://www.investors.com/tag/all-news-and-stock-ideas/)\\n\\t\\t- [*e*IBD](https://research.investors.com/eIBD)\\n\\t\\t- [Cryptocurrency](https://www.investors.com/news/cryptocurrency-prices-news/)\\n\\t\\t- [Technology](https://www.investors.com/technology/)\\n\\t\\t- [Retirement](https://www.investors.com/category/etfs-and-funds/retirement/)\\n\\t\\t- [Magnificent Seven Stocks](https://www.investors.com/research/magnificent-seven-stocks-latest-news-market-cap-weighting/)\\n\\t\\t- [Management](https://www.investors.com/management/)\\n\\t\\t- [Personal Finance](https://www.investors.com/category/etfs-and-funds/personal-finance/)\\n\\t\\t- [Industry News Pages](https://www.investors.com/news/industry-news-and-stocks-to-watch/)\\n\\t\\t- [Special Reports](https://www.investors.com/special-reports/)\\n\\t+ [ECONOMY](https://www.investors.com/economic-news-president-job-approval/)\\n\\t\\t- [Economic Calendar](https://research.investors.com/economic-calendar/)\\n\\t\\t- [IBD Digital: 2 Months for $20](https://get.investors.com/ibd/?intcode=gnvb%7Cgnvb%7Cevgr%7C2021%7C08%7Cibdd%7Cna%7C%7C115458&src=AKCAGE)\\n\\t\\t- [Economic News](https://www.investors.com/category/news/economy/)\\n* [Videos](https://www.investors.com/ibd-videos/)\\n\\t+ [VIDEOS \\\\& PODCASTS](https://www.investors.com/ibd-videos/)\\n\\t\\t- [IBD Live](https://research.investors.com/ibdlive)\\n\\t\\t- [Investing With IBD Podcast](https://www.investors.com/podcast)\\n\\t\\t- [How To Invest Videos](https://www.investors.com/ibd-videos/category/how-to-invest-videos)\\n\\t\\t- [Growth Stories Podcast](https://get.investors.com/growth-stories-podcast/)\\n\\t\\t- [Options Videos](https://www.investors.com/ibd-videos/category/options-ibd-videos?archive=1)\\n\\t\\t- [Online Courses](https://get.investors.com/online-courses/?src=A00272A)\\n\\t\\t- [Webinars](https://www.investors.com/ibd-videos/category/webinars)\\n\\t\\t- [IBD Digital: 2 Months for $20](https://get.investors.com/ibd/?intcode=gnvb%7Cgnvb%7Cevgr%7C2021%7C08%7Cibdd%7Cna%7C%7C115458&src=AKCAGE)\\n* [Learn](https://www.investors.com/how-to-invest/how-to-invest-rules-for-when-buy-and-sell-stocks-in-bull-and-bear-markets/)\\n\\t+ [How To Invest](https://www.investors.com/how-to-invest/how-to-invest-rules-for-when-buy-and-sell-stocks-in-bull-and-bear-markets/)\\n\\t\\t- [How To Invest In Stocks](https://www.investors.com/how-to-invest/how-to-invest-in-stocks-investing-for-beginners/)\\n\\t\\t- [When To Sell Stocks](https://www.investors.com/how-to-invest/when-to-sell-stocks/)\\n\\t\\t- [3 Keys To Stock Investing](https://www.investors.com/how-to-invest/stock-investing-how-to-make-money-in-stock-3-key-factors/)\\n\\t\\t- [Short Selling](https://www.investors.com/category/research/the-short-side/)\\n\\t\\t- [Stock Market Timing](https://www.investors.com/how-to-invest/stock-market-timing-how-to-invest-in-stocks-tracking-bull-markets-bear-markets-stock-market-trends/)\\n\\t\\t- [Swing Trading](https://www.investors.com/research/swing-trading/swing-trading-strategies/)\\n\\t\\t- [Tracking Stock Market Trends](https://www.investors.com/how-to-invest/how-to-handle-changing-stock-market-trends/)\\n\\t\\t- [What Is Crypto](https://www.investors.com/how-to-invest/cryptocurrency-what-is-crypto/)\\n\\t\\t- [How To Read Stock Charts](https://www.investors.com/how-to-invest/how-to-read-stock-charts-understanding-technical-analysis/)\\n\\t\\t- [Premium Online Courses](https://get.investors.com/online-courses/?src=A00272A)\\n\\t\\t- [How To Buy Stocks](https://www.investors.com/how-to-invest/how-to-buy-stocks-using-stock-lists-stock-ratings-stock-screener/)\\n\\t+ Educational Resources\\n\\t\\t- [New To IBD](https://get.investors.com/getting-started/)\\n\\t\\t- [Online Investing Courses](https://get.investors.com/online-courses/?src=APA1BQ)\\n\\t\\t- [Investor\\'s Corner](https://www.investors.com/category/how-to-invest/investors-corner/)\\n\\t\\t- [12 Days Of Learning](https://get.investors.com/ibd/12-days-of-learning/)\\n\\t\\t- [Investing With IBD Podcast](https://www.investors.com/podcast)\\n\\t\\t- [Investing Infographics](https://get.investors.com/infographics/)\\n\\t\\t- [Events \\\\& Webinars](https://get.investors.com/events/)\\n\\t\\t- [Chart School](https://workshops.investors.com/)\\n\\t\\t- [**IBD Moneyworks**](https://get.investors.com/moneyworks/)\\n* [MarketSurge](https://marketsurge.investors.com/?intcode=lgnv%7Clgnv%7CMarketSmith%7C2023%7C06%7Cmsp%7Cna%7C%7C725068&src=A00653)\\n* [IBD Live](https://research.investors.com/ibdlive?id=IBD-Live&src=A00582A)\\n* [Leaderboard](https://leaderboard.investors.com)\\n* [SwingTrader](https://swingtrader.investors.com)\\n* [MarketDiem](https://get.investors.com/marketdiem/?intcode=lgnv%7Clgnv%7Cprdmcst%7C2022%7C10%7Cmkdm%7Cna%7C%7C832881&src=A00653)\\n* [Store](https://get.investors.com/?src=APA1BQ)\\n\\n**BREAKING: [Several China EV Makers Report Record Sales](https://www.investors.com/news/nio-stock-soaring-tesla-rival-model-y-nvidia-ai-chip-brain/)**\\n\\n[![Election Season Offer](https://www.investors.com/wp-content/uploads/2024/09/bc-election2024-alt-750x80-1.png)](https://get.investors.com/ibd/ibd-digital-2-for-12/?src=A00627&utm_source=i.com&utm_medium=NHPBroad&utm_campaign=ELECTION+2024&utm_id=ELECTION24)\\n\\n[![Investor\\'s Business Daily](https://www.investors.com/wp-content/themes/ibd/dist/images/ibd-logo.svg)](https://www.investors.com)\\n\\n Shopping Cart\\n\\n Your cart is currently empty.\\n Visit the [IBD Store](https://shop.investors.com) to get started.\\n\\n![](https://www.queryly.com/images/whitesearchicon.png)\\n\\n* [Market Trend](https://research.investors.com/markettrend.aspx)\\n\\t+ [Market Trend](https://research.investors.com/markettrend.aspx)\\n\\t\\t- [The Big Picture](https://www.investors.com/category/market-trend/the-big-picture/)\\n\\t\\t- [Stock Market Data](https://www.investors.com/research/stock-market-data-dow-jones-sp-500-nasdaq-spdr-etfs/)\\n\\t\\t- [Stock Market Today](https://www.investors.com/news/stock-market-today-stock-market-news/)\\n\\t\\t- [New? Start Here](https://get.investors.com/getting-started/?src=A00332A&intcode=EditorialTests_GettingStarted_MarketTrend)\\n\\t\\t- [ETF Market Strategy](https://www.investors.com/market-trend/ibds-etf-market-strategy/ibds-etf-market-strategy/)\\n\\t\\t- [IBD Digital: 2 Months for $20](https://get.investors.com/ibd/?intcode=gnvb%7Cgnvb%7Cevgr%7C2021%7C08%7Cibdd%7Cna%7C%7C115458&src=AKCAGE)\\n\\t\\t- [Psychological Indicators](https://research.investors.com/psychological-market-indicators/)\\n* [Stock Lists](https://www.investors.com/stock-lists/stocks-to-watch-top-rated-ipos-big-caps-and-growth-stocks/)\\n\\t+ [Stock Lists](https://www.investors.com/stock-lists/stocks-to-watch-top-rated-ipos-big-caps-and-growth-stocks/)\\n\\t\\t- [**IBD 50**](https://research.investors.com/stock-lists/ibd-50/)\\n\\t\\t- [My Stock Lists](https://myibd.investors.com/my-ibd/portfolio.aspx)\\n\\t\\t- [Stocks Near A Buy Zone](https://www.investors.com/category/stock-lists/stocks-near-a-buy-zone/)\\n\\t\\t- [IBD ETF Indexes](https://www.investors.com/ibd-indexes/ibd-etf-indexes-ibd-50-etf-leaders-breakout-stocks-etf-ffty-ldrs-bout/)\\n\\t\\t- [**IBD Sector Leaders**](https://research.investors.com/stock-lists/sector-leaders)\\n\\t\\t- [Stock Lists Update](https://www.investors.com/stock-lists/best-growth-stocks-buy-watch-ibd-stock-lists/)\\n\\t\\t- [Relative Strength at New High](https://research.investors.com/stock-lists/relative-strength-at-new-high/)\\n\\t\\t- [IBD Data Tables](https://www.investors.com/ibd-data-tables/)\\n\\t\\t- [**IBD Big Cap 20**](https://research.investors.com/stock-lists/big-cap-20/)\\n\\t\\t- [Stocks On The Move](https://research.investors.com/stocksonthemove.aspx)\\n\\t\\t- [Rising Profit Estimates](https://research.investors.com/stock-lists/rising-profit-estimates/)\\n\\t\\t- [IBD Digital: 2 Months for $20](https://get.investors.com/ibd/?intcode=gnvb%7Cgnvb%7Cevgr%7C2021%7C08%7Cibdd%7Cna%7C%7C115458&src=AKCAGE)\\n\\t\\t- [**IBD Long\\\\-Term Leaders**](https://www.investors.com/research/best-stocks-to-buy-now-long-term-stocks-ibd-long-term-leaders-list/)\\n\\t\\t- [New Highs](https://research.investors.com/stock-lists/new-highs/)\\n\\t\\t- [Stocks Funds Are Buying](https://research.investors.com/stock-lists/stocks-that-funds-are-buying/)\\n\\t\\t- [New? Start Here](https://shop.investors.com/offer/splashresponsive.aspx?id=gettingstarted&src=A00332A&intcode=EditorialTests_GettingStarted_StockLists)\\n\\t\\t- [**IPO Leaders**](https://research.investors.com/stock-lists/ipo-leaders/)\\n\\t\\t- [Stock Spotlight](https://research.investors.com/stock-lists/stock-spotlight/)\\n\\t\\t- [Your Weekly Review](https://research.investors.com/stock-lists/your-weekly-review/)\\n* [Research](https://research.investors.com)\\n\\t+ [Stock Research](https://research.investors.com)\\n\\t\\t- [IBD Stock Checkup](https://research.investors.com/stock-checkup/)\\n\\t\\t- [Investing Action Plan](https://www.investors.com/category/research/investing-action-plan/)\\n\\t\\t- [The Income Investor](https://www.investors.com/category/research/the-income-investor/)\\n\\t\\t- [Stock Of The Day](https://www.investors.com/research/ibd-stock-of-the-day/)\\n\\t\\t- [Earnings Preview](https://www.investors.com/category/research/earnings-preview/)\\n\\t\\t- [IBD Stock Analysis](https://www.investors.com/category/research/ibd-stock-analysis/)\\n\\t\\t- [Screen Of The Day](https://www.investors.com/research/best-stocks-to-buy-watch-ibd-screen-of-the-day/)\\n\\t\\t- [Earnings Calendar](https://www.investors.com/research/earnings-calendar-analyst-estimates-stocks-to-watch/)\\n\\t\\t- [Industry Snapshot](https://www.investors.com/category/research/industry-snapshot/)\\n\\t\\t- [IBD Charts](https://research.investors.com/stock-charts/nasdaq-nasdaq-composite-0ndqc.htm?cht=pvc&type=daily)\\n\\t\\t- [Industry Themes](https://www.investors.com/category/research/ibd-industry-themes/)\\n\\t\\t- [IBD 50 Stocks To Watch](https://www.investors.com/research/ibd-50-growth-stocks-to-watch/)\\n\\t\\t- [Stock Screener](https://ibdstockscreener.investors.com)\\n\\t\\t- [The New America](https://www.investors.com/category/research/the-new-america/)\\n\\t\\t- [IBD Data Stories](https://www.investors.com/ibd-data-stories/build-your-investing-watch-list-with-stock-ratings-buy-zones-earnings/)\\n\\t\\t- [Swing Trading](https://www.investors.com/category/research/swing-trading/)\\n\\t\\t- [Best ETFs](https://www.investors.com/etfs-and-funds/etfs/best-etfs-exchange-traded-funds/)\\n\\t\\t- [IBD Digital: 2 Months for $20](https://get.investors.com/ibd/?intcode=gnvb%7Cgnvb%7Cevgr%7C2021%7C08%7Cibdd%7Cna%7C%7C115458&src=AKCAGE)\\n\\t\\t- [Options](https://www.investors.com/category/research/options/)\\n\\t\\t- [Best Mutual Funds](https://www.investors.com/etfs-and-funds/mutual-funds/best-mutual-funds-news-performance-reports-investing-ideas/)\\n\\t+ [Premium Investing Tools](https://research.investors.com)\\n\\t\\t- [MarketSurge](https://marketsurge.investors.com/)\\n\\t\\t- [IBD Live](https://research.investors.com/ibdlive)\\n\\t\\t- [Leaderboard](https://leaderboard.investors.com/)\\n\\t\\t- [SwingTrader](https://swingtrader.investors.com)\\n\\t\\t- [MarketDiem](https://get.investors.com/marketdiem/?intcode=lgnv%7Clgnv%7Cprdmcst%7C2022%7C10%7Cmkdm%7Cna%7C%7C832881&src=A00653)\\n* [NEWS](https://www.investors.com/tag/all-news-and-stock-ideas/)\\n\\t+ [NEWS](https://www.investors.com/tag/all-news-and-stock-ideas/)\\n\\t\\t- [*e*IBD](https://research.investors.com/eIBD)\\n\\t\\t- [Cryptocurrency](https://www.investors.com/news/cryptocurrency-prices-news/)\\n\\t\\t- [Technology](https://www.investors.com/technology/)\\n\\t\\t- [Retirement](https://www.investors.com/category/etfs-and-funds/retirement/)\\n\\t\\t- [Magnificent Seven Stocks](https://www.investors.com/research/magnificent-seven-stocks-latest-news-market-cap-weighting/)\\n\\t\\t- [Management](https://www.investors.com/management/)\\n\\t\\t- [Personal Finance](https://www.investors.com/category/etfs-and-funds/personal-finance/)\\n\\t\\t- [Industry News Pages](https://www.investors.com/news/industry-news-and-stocks-to-watch/)\\n\\t\\t- [Special Reports](https://www.investors.com/special-reports/)\\n\\t+ [ECONOMY](https://www.investors.com/economic-news-president-job-approval/)\\n\\t\\t- [Economic Calendar](https://research.investors.com/economic-calendar/)\\n\\t\\t- [IBD Digital: 2 Months for $20](https://get.investors.com/ibd/?intcode=gnvb%7Cgnvb%7Cevgr%7C2021%7C08%7Cibdd%7Cna%7C%7C115458&src=AKCAGE)\\n\\t\\t- [Economic News](https://www.investors.com/category/news/economy/)\\n* [Videos](https://www.investors.com/ibd-videos/)\\n\\t+ [VIDEOS \\\\& PODCASTS](https://www.investors.com/ibd-videos/)\\n\\t\\t- [IBD Live](https://research.investors.com/ibdlive)\\n\\t\\t- [Investing With IBD Podcast](https://www.investors.com/podcast)\\n\\t\\t- [How To Invest Videos](https://www.investors.com/ibd-videos/category/how-to-invest-videos)\\n\\t\\t- [Growth Stories Podcast](https://get.investors.com/growth-stories-podcast/)\\n\\t\\t- [Options Videos](https://www.investors.com/ibd-videos/category/options-ibd-videos?archive=1)\\n\\t\\t- [Online Courses](https://get.investors.com/online-courses/?src=A00272A)\\n\\t\\t- [Webinars](https://www.investors.com/ibd-videos/category/webinars)\\n\\t\\t- [IBD Digital: 2 Months for $20](https://get.investors.com/ibd/?intcode=gnvb%7Cgnvb%7Cevgr%7C2021%7C08%7Cibdd%7Cna%7C%7C115458&src=AKCAGE)\\n* [Learn](https://www.investors.com/how-to-invest/how-to-invest-rules-for-when-buy-and-sell-stocks-in-bull-and-bear-markets/)\\n\\t+ [How To Invest](https://www.investors.com/how-to-invest/how-to-invest-rules-for-when-buy-and-sell-stocks-in-bull-and-bear-markets/)\\n\\t\\t- [How To Invest In Stocks](https://www.investors.com/how-to-invest/how-to-invest-in-stocks-investing-for-beginners/)\\n\\t\\t- [When To Sell Stocks](https://www.investors.com/how-to-invest/when-to-sell-stocks/)\\n\\t\\t- [3 Keys To Stock Investing](https://www.investors.com/how-to-invest/stock-investing-how-to-make-money-in-stock-3-key-factors/)\\n\\t\\t- [Short Selling](https://www.investors.com/category/research/the-short-side/)\\n\\t\\t- [Stock Market Timing](https://www.investors.com/how-to-invest/stock-market-timing-how-to-invest-in-stocks-tracking-bull-markets-bear-markets-stock-market-trends/)\\n\\t\\t- [Swing Trading](https://www.investors.com/research/swing-trading/swing-trading-strategies/)\\n\\t\\t- [Tracking Stock Market Trends](https://www.investors.com/how-to-invest/how-to-handle-changing-stock-market-trends/)\\n\\t\\t- [What Is Crypto](https://www.investors.com/how-to-invest/cryptocurrency-what-is-crypto/)\\n\\t\\t- [How To Read Stock Charts](https://www.investors.com/how-to-invest/how-to-read-stock-charts-understanding-technical-analysis/)\\n\\t\\t- [Premium Online Courses](https://get.investors.com/online-courses/?src=A00272A)\\n\\t\\t- [How To Buy Stocks](https://www.investors.com/how-to-invest/how-to-buy-stocks-using-stock-lists-stock-ratings-stock-screener/)\\n\\t+ Educational Resources\\n\\t\\t- [New To IBD](https://get.investors.com/getting-started/)\\n\\t\\t- [Online Investing Courses](https://get.investors.com/online-courses/?src=APA1BQ)\\n\\t\\t- [Investor\\'s Corner](https://www.investors.com/category/how-to-invest/investors-corner/)\\n\\t\\t- [12 Days Of Learning](https://get.investors.com/ibd/12-days-of-learning/)\\n\\t\\t- [Investing With IBD Podcast](https://www.investors.com/podcast)\\n\\t\\t- [Investing Infographics](https://get.investors.com/infographics/)\\n\\t\\t- [Events \\\\& Webinars](https://get.investors.com/events/)\\n\\t\\t- [Chart School](https://workshops.investors.com/)\\n\\t\\t- [**IBD Moneyworks**](https://get.investors.com/moneyworks/)\\n* [MarketSurge](https://marketsurge.investors.com/?intcode=lgnv%7Clgnv%7CMarketSmith%7C2023%7C06%7Cmsp%7Cna%7C%7C725068&src=A00653)\\n* [IBD Live](https://research.investors.com/ibdlive?id=IBD-Live&src=A00582A)\\n* [Leaderboard](https://leaderboard.investors.com)\\n* [SwingTrader](https://swingtrader.investors.com)\\n* [MarketDiem](https://get.investors.com/marketdiem/?intcode=lgnv%7Clgnv%7Cprdmcst%7C2022%7C10%7Cmkdm%7Cna%7C%7C832881&src=A00653)\\n* [Store](https://get.investors.com/?src=APA1BQ)\\n* Shopping CartYour cart is currently empty.\\n Visit the [IBD Store](https://shop.investors.com) to get started.\\n*\\n\\nHi\\n\\n[MY IBD](https://myibd.investors.com)\\n[SIGN OUT](https://myibd.investors.com/logout.aspx)\\n\\n+ [My Products](#)\\n+ [My Favorites](#)\\n+ [My Stock Lists](#)\\n\\n[Edit Favorites](https://myibd.investors.com/edit-favorites/)\\n\\n* [Sign In](https://myibd.investors.com/secure/signin.aspx?eurl=) or [Subscribe](https://get.investors.com/ibd/?intcode=hpsubbutton%7Chpsubbutton%7Cna%7Cna%7Cna%7Cna%7Cna%7C%7C144112&src=A00544)\\n\\n---\\n\\n* [Research](https://www.investors.com/category/research/)\\n\\n Nvidia Falls Amid SMCI Stock Split; Is Nvidia A Buy Now?\\n========================================================\\n\\n[![Facebook](/wp-content/themes/ibd/dist/images/share-icons/facebook.png)](https://www.addtoany.com/add_to/facebook?linkurl=https%3A%2F%2Fwww.investors.com%2Fresearch%2Fnvda-stock-is-nvidia-a-buy-2%2F&linkname=Nvidia%20Falls%20Amid%20SMCI%20Stock%20Split%3B%20Is%20Nvidia%20A%20Buy%20Now%3F \"Facebook\")[![X](/wp-content/themes/ibd/dist/images/share-icons/x.png)](https://www.addtoany.com/add_to/x?linkurl=https%3A%2F%2Fwww.investors.com%2Fresearch%2Fnvda-stock-is-nvidia-a-buy-2%2F&linkname=Nvidia%20Falls%20Amid%20SMCI%20Stock%20Split%3B%20Is%20Nvidia%20A%20Buy%20Now%3F \"X\")[![LinkedIn](/wp-content/themes/ibd/dist/images/share-icons/linkedin.png)](https://www.addtoany.com/add_to/linkedin?linkurl=https%3A%2F%2Fwww.investors.com%2Fresearch%2Fnvda-stock-is-nvidia-a-buy-2%2F&linkname=Nvidia%20Falls%20Amid%20SMCI%20Stock%20Split%3B%20Is%20Nvidia%20A%20Buy%20Now%3F \"LinkedIn\")[![Share](/wp-content/themes/ibd/dist/images/share-icons/email.png)](https://www.addtoany.com/share) [Licensing](https://www.ibdlicensing.com)\\n\\n* [VIDYA RAMAKRISHNAN](https://www.investors.com/author/ramakrishnanv/ \"Posts by VIDYA RAMAKRISHNAN\")\\n* 10:54 AM ET 10/01/2024\\n\\nWhen a stock pulls back, it is [best not to panic](https://www.investors.com/how-to-invest/how-to-invest-in-stocks-investing-for-beginners/). Check its recent action and [chart patterns](https://www.investors.com/how-to-invest/how-to-read-stock-charts-understanding-technical-analysis/) to see if it is anything to worry about.\\n\\n↑\\nX\\n\\n[How Nvidia Is Injecting AI Into The Health Care Industry](https://www.investors.com/ibd-videos/videos/nvidia-injecting-ai-health-care-industry)\\n\\n[See All Videos](https://www.investors.com/ibd-videos)\\n\\nNOW PLAYING\\nHow Nvidia Is Injecting AI Into The Health Care Industry\\n\\n**Nvidia** ([NVDA](https://research.investors.com/quote.aspx?symbol=NVDA)) fell 2% on Friday and was unchanged on Monday after reports from [Barron\\'s](https://www.barrons.com/articles/nvidia-stock-china-chips-broadcom-243f6f9d?mod=article_inline) that China was trying to boost local AI chip makers and urging local companies to avoid Nvidia chipes. China accounted for 11% of Nvidia sales in the first half the fiscal year ending in January.\\n\\nNvidia stock cleared multiple [trendline](https://www.investors.com/how-to-invest/investors-corner/looking-for-an-earlier-entry-in-a-stock-learn-how-to-do-this/?refcode=BBB-04262022-2-B-9:04:2022:2Q:NewsLetter:Email:BBB-04262022:na:na:na:na:26:10:2:B:9&j=1566189&sfmc_sub=172274927&l=222_HTML&u=20328680&mid=100016628&jb=1) entries last week. The stock is 5% above its [50\\\\-day moving average.](https://www.investors.com/how-to-invest/investors-corner/what-is-the-50-day-moving-average-when-to-buy-or-sell-growth-stocks/) Shares are 14% below their split\\\\-adjusted all\\\\-time high of 140\\\\.76 after rising more than 4\\\\.6% last week. But should you be [buying Nvidia stock now](https://www.investors.com/ibd-university/how-to-buy/common-patterns-1/)?\\n\\n[Timing your stock purchases](https://www.investors.com/how-to-invest/investors-corner/stock-market-investing-ibd-methodology/) can surely improve gains. Yet even with an obvious market leader like Nvidia, it\\'s not easy to tell whether you should [buy or sell the stock now](https://www.investors.com/how-to-invest/how-to-buy-stocks-using-stock-lists-stock-ratings-stock-screener/). [Chart signals](https://www.investors.com/how-to-invest/how-to-read-stock-charts-understanding-technical-analysis/) and checking [technical measures](https://www.investors.com/how-to-invest/how-to-buy-stocks-using-stock-lists-stock-ratings-stock-screener/) can help investors assess [whether Nvidia stock is a buy now](https://www.investors.com/how-to-invest/how-to-buy-stocks-using-stock-lists-stock-ratings-stock-screener/).\\n\\nOn Tuesday, AI server provider **Super Micro Computer** ([SMCI](https://research.investors.com/quote.aspx?symbol=SMCI)) started trading on a split\\\\-adjusted basis. The company announced the 10\\\\-for\\\\-1 stock split in its fourth\\\\-quarter earnings report in August. Stock splits increase the number of shares outstanding but do not change the market capitalization of the stock.\\n\\nAI\\'s Total Addressable Market\\n-----------------------------\\n\\nOn Wednesday, shares rose after consulting firm Bain said the total addressable market for artificial intelligence hardware and software will grow 40% to 55% for [at least next three years](https://www.marketwatch.com/articles/nvidia-stock-price-ai-chip-demand-95760797?mod=search_headline). Demand for Nvidia\\'s next generation graphic processing units GB200 is expected to reach 3 million in 2026 vs. 1\\\\.5 million for its H100 units in 2023\\\\.\\n\\nAccording to [Barron\\'s](https://www.barrons.com/articles/nvidia-stock-price-top-performers-d0484c61?siteid=yhoof2), Nvidia last week lost its place as the best performing S\\\\&P 500 stock so far this year. **Vistra** ([VST](https://research.investors.com/quote.aspx?symbol=VST)) had gained 190% year to date as of Monday\\'s closing price last week, whereas Nvidia was up 135%.\\n\\nBut Nvidia stock rose last Monday after news that China e\\\\-commerce behemoth **Alibaba** ([BABA](https://research.investors.com/quote.aspx?symbol=BABA)) will collaborate with Nvidia to improve autonomous driving technology for Chinese EV manufacturers, several of which are rivals to **Tesla** ([TSLA](https://research.investors.com/quote.aspx?symbol=TSLA)). Alibaba\\'s portfolio of large\\\\-language models are now integrated with Nvidia\\'s drive platform for autonomous vehicles.\\n\\nOn [Monday last week](https://www.barrons.com/articles/nvidia-stock-price-top-performers-d0484c61), analysts at Melius Research gave the stock a price target of 165 with a buy rating as the company ramps up its Blackwell chip production in the fourth quarter.\\n\\nWhite House Meeting\\n-------------------\\n\\nIn September, shares climbed above the 50\\\\-day moving average amid news that Nvidia and OpenAI chief executive officers, Jensen Huang and Sam Altman, met officials at the White House to discuss AI infrastructure spending. According to [reports](https://www.yahoo.com/news/openai-nvidia-executives-discuss-ai-232621359.html?fr=yhssrp_catchall), **Alphabet** ([GOOGL](https://research.investors.com/quote.aspx?symbol=GOOGL)), **Amazon.com** ([AMZN](https://research.investors.com/quote.aspx?symbol=AMZN)) and **Microsoft** ([MSFT](https://research.investors.com/quote.aspx?symbol=MSFT)) executives were also present. The White House announced an interagency task force to accelerate permissions for setting up data centers.\\n\\nHowever, news that companies may be diversifying and looking for other chips besides Nvidia\\'s likely weighed on Nvidia stock. According to [Barron\\'s](https://www.barrons.com/articles/nvidia-stock-price-buy-sell-d10180d0?siteid=yhoof2), Saudi oil behemoth Aramco is planning on using chips made by a startup Groq to offer \"AI computing power to local companies.\"\\n\\nThe news followed [Huang remarks](https://www.marketwatch.com/story/nvidia-ceo-jensen-huang-addresses-the-big-question-on-investors-minds-3699b564?&mod=article_inline) that the return on investment for artificial intelligence infrastructure plays like Nvidia remained strong since \"infrastructure players like ourselves and all the cloud service providers put the infrastructure in the cloud, so that developers could use these machines to train the models, fine\\\\-tune the models, guardrail the models, and so forth.\"\\n\\nAnalysts at Bernstein said that after its phenomenal growth, sustainability is the main question Nvidia faces, but the \"[time to worry is clearly not now](https://www.marketwatch.com/story/nvidias-stock-set-to-extend-gains-the-time-to-worry-is-clearly-not-now-9425d38d).\"\\n\\nOn Sept. 3, Nvidia fell sharply below the [50\\\\-day moving average](https://www.investors.com/how-to-invest/investors-corner/what-is-the-50-day-moving-average-when-to-buy-or-sell-growth-stocks/) and saw its largest one\\\\-day market cap loss for any U.S. company, according to Dow Jones Markets Data.\\n\\nEarnings From AI Giants\\n-----------------------\\n\\nResults from other AI leading companies have influenced the stock. Last week, memory chip maker **Micron** ([MU](https://research.investors.com/quote.aspx?symbol=MU)) cited robust AI demand, which gave Nvidia stock a lift.\\n\\n**Oracle** ([ORCL](https://research.investors.com/quote.aspx?symbol=ORCL)) results showed strong demand for AI chips. According to the Chairman and Chief Technology Officer Larry Ellison, Oracle is building a data center with \"[acres of Nvidia GPU clusters for training large language scale AI models](https://www.investors.com/news/technology/oracle-stock-orcl-q1-report-cloudworld-ai-cloud/).\"\\n\\nEarlier, results from**Broadcom** ([AVGO](https://research.investors.com/quote.aspx?symbol=AVGO)) weighed on Nvidia stock. Broadcom\\'s [sales and earnings beat estimates](https://www.investors.com/news/technology/avgo-stock-broadcom-earnings-fiscal-q3-2024/) but its sales outlook disappointed. Broadcom\\'s outlook has implications for demand for AI chips.\\n\\n\\xa0Shares also came under pressure amid news that the Department of Justice was investigating antitrust regulations concerning the artificial intelligence chip company.\\xa0According to reports, [the DOJ originally sent questionnaires to the company](https://www.reuters.com/legal/nvidia-hit-with-subpoena-us-justice-department-bloomberg-news-reports-2024-09-03/). But it has now sent subpoenas.\\n\\nShares fell 6\\\\.4% after earnings on Aug. 28 even though Nvidia beat analyst estimates.\\n\\nNvidia\\'s Second\\\\-Quarter Results\\n--------------------------------\\n\\nIn August, Nvidia reported earnings that beat Wall Street views. Sales of $30\\\\.04 billion were higher than $28\\\\.7 billion analysts expected and came in 122% ahead of the year\\\\-earlier quarter. Earnings also came in above views of 65 cents at 68 cents per share and were 152% higher than the prior year. The artificial intelligence chip leader also guided higher for the current quarter with [sales of $32\\\\.5 billion vs. views of $31\\\\.7 billion](https://www.investors.com/news/technology/nvidia-stock-fiscal-q2-2025-earnings-nvda-stock/).\\n\\nEarnings have moved Nvidia stock in 2023 and 2024 and that is shining proof of why [fundamental performance](https://www.investors.com/how-to-invest/investors-corner/stock-market-investing-ibd-methodology/) is one of the pillars of the', 1, 2)</details></pre></div><div class='basic-renderer-box observation'><h4 class='step-header'>[7] Observation: ToolResult</h4><pre class='step-text'>tool_call_id: call_OcYFowuXV2Av7kZ7y4Vawjwd\n",
       "kind: tool\n",
       "\n",
       "<details><summary>12576 characters ...</summary>('Title: Nvidia\\'s stock chart shows how bulls are using the recent pause to get refreshed | Morningstar\\n=======================\\nMorningstar brands and products\\n\\n Company\\n\\n     [![Morningstar](/assets/img/morningstar.d826858.svg)](/)\\n\\n      * [Portfolio](/tools/portfolio)\\n* Tools\\n * Sections\\n* Markets\\n* [Funds](/funds)\\n* [ETFs](/topics/etfs)\\n* [Stocks](/stocks)\\n* [Bonds](/bonds)\\n * Investing Ideas\\n\\n     * [Home](/)\\n * Tools\\n\\t+ [Portfolio](/tools/portfolio)\\n\\t+ [Watchlists](/tools/watchlists)\\n\\t+ [Screener](/tools/screener)\\n\\t+ [Chart](/tools/chart)\\n\\t+ [Rating Changes](/tools/rating-changes)\\n * Sections\\n* Markets\\n* [Funds](/funds)\\n* [ETFs](/topics/etfs)\\n* [Stocks](/stocks)\\n* [Bonds](/bonds)\\n * Investing Ideas\\n * [Help](/help-center)\\n* [What’s New](/whats-new)\\n * Products for Investors\\n* [All Products and Services](/business)\\n       [MarketWatch](/news/marketwatch)  Nvidia\\'s stock chart shows how bulls are using the recent pause to get refreshed\\n================================================================================\\n\\n ![](/assets/img/marketwatch.dad5abb.png)\\n Provided by\\n Dow Jones  Sep 27, 2024 5:52pm\\n By Tomi Kilgore\\n\\n Stock is building a multi\\\\-month \\'pennant\\' chart pattern, which often lead to continuations of previous trend\\n\\n Nvidia Corp.\\'s stock has been in a holding pattern the past few months, leading some on Wall Street to wonder if the nearly two\\\\-year\\\\-long torrid rally, fueled by the artificial intelligence boom, has ended.\\n\\n But bulls don\\'t need to worry just yet, and may even have reason to feel cheerful. Because that holding pattern is looking a lot like a \"pennant,\" which many Wall Street chart watchers see as a sign suggesting the previous uptrend will eventually reassert itself.\\n\\n Nvidia\\'s stock (NVDA) fell 3% in afternoon trading, to pull back from a three\\\\-month\\\\-long descending trendline. It was essentially trading where it was in early June.\\n\\n The semiconductor maker and AI play\\'s stock has lost 11\\\\.2% since it closed at a record $135\\\\.58 on June 18, at which time it had posted a year\\\\-to\\\\-date gain of 173\\\\.8%. But the stock has also rallied 21\\\\.7% since it closed at a 21/2 \\\\-month low of $98\\\\.91 on Aug. 7, and has been following an ascending trendline for the past several months.\\n\\n The chart below, is what a pennant continuation pattern looks like:\\n\\n Like BTIG technical analyst Jonathan Krinsky said, while the stock\\'s gains this week was \"rejected\" at the downtrend line, the recent trading pattern looks like \"the pause that refreshes.\"\\n\\n So while there could still be some volatility in the stock, while the trending resistance and support lines continue to converge, pennants tend to be resolved in the direction of the previous trend, which was up.\\n\\n The support line currently extends to about $104\\\\.75, while the resistance line would extend to about $125\\\\.80 on Monday.\\n\\n Don\\'t miss: Nvidia investors don\\'t need to worry \\\\- unless the stock falls below these prices.\\n\\n Also read: Nvidia investors just got a $1 trillion reason to be even more bullish.\\n\\n What happens after the uptrend resumes is up for some debate, as there are different ways to calculate a \"measured move\" continuation.\\n\\n Some will take the widest part of the pennant, then add it to the breakout point to get an upside target. For Nvidia, that would mean the $46\\\\.83 rally from the May 9 closing low to the record high would be added to the point where the stock crosses above the top of the pennant.\\n\\n If the breakout occurs on Monday, then the measured move target would be around $172\\\\.63, or about 43% above current levels.\\n\\n Others see the pennant as sitting in the middle of a rally, so they will take the length of the \"flagpole,\" or the entire rally, and add that to the breakout point.\\n\\n For Nvidia, the current flagpole is about $88 tall. So a breakout on Monday would target about $213\\\\.80, or 77% above current levels.\\n\\n Of course, a break of the support line could lead to a full retracement, which is about 60% below current levels.\\n\\n A check of history shows that the late 2018 downtrend that followed a three\\\\-year rally took the stock down 56%, and the late\\\\-2021 to late\\\\-2022 downtrend that also followed a three\\\\-year rally saw the stock lose 66%.\\n\\n The current rally has only lasted two years.\\n\\n \\\\-Tomi Kilgore\\n\\n This content was created by MarketWatch, which is operated by Dow Jones \\\\& Co. MarketWatch is published independently from Dow Jones Newswires and The Wall Street Journal.\\n\\n```\\n\\n```\\n\\n (END) Dow Jones Newswires\\n\\n 09\\\\-27\\\\-24 1352ET\\n\\nCopyright (c) 2024 Dow Jones \\\\& Company, Inc.  Market Updates\\n--------------\\n\\n  [More Market Updates](/markets) * [5 Stocks to Buy Instead of Overpriced US Equities\\n-------------------------------------------------\\n\\n    David Sekera, CFA Sep 30, 2024](/markets/5-stocks-buy-instead-overpriced-us-equities)\\n* [Q4 Stock Market Outlook: Where We See Opportunities for Investors\\n-----------------------------------------------------------------\\n\\n    David Sekera, CFA Sep 27, 2024](/markets/q4-stock-market-outlook-where-we-see-opportunities-investors)\\n* [Markets Brief: Non\\\\-Farm Payrolls in the Spotlight Again\\n--------------------------------------------------------\\n\\n    Dan Kemp Sep 26, 2024](/markets/markets-brief-non-farm-payrolls-spotlight-again)\\n* [6 Top\\\\-Performing Large\\\\-Growth Funds\\n-------------------------------------\\n\\n    Frank Lee Sep 27, 2024](/markets/6-top-performing-large-growth-funds-2)\\n* [What’s the Difference Between the CPI and PCE Indexes?\\n------------------------------------------------------\\n\\n    Sarah Hansen Apr 23, 2024](/markets/whats-difference-between-cpi-pce)\\n* [Micron Earnings: Great Guidance but Stock Now Looks Fairly Valued\\n-----------------------------------------------------------------\\n\\n    William Kerwin, CFA Sep 26, 2024](/markets/micron-earnings-great-guidance-stock-now-looks-fairly-valued)\\n* [August PCE Report Forecasts Show More Good News on Inflation\\n------------------------------------------------------------\\n\\n    Frank Lee Sep 25, 2024](/markets/august-pce-report-forecasts-show-more-good-news-inflation)\\n* [AI Stocks May Be Down, but Don’t Count Them Out\\n-----------------------------------------------\\n\\n    Bella Albrecht Sep 23, 2024](/markets/ai-stocks-may-be-down-dont-count-them-out)\\n   Stock Picks\\n-----------\\n\\n  [More Stock Picks](/stocks) * [Top Stocks to Own From the Best Fund Managers\\n---------------------------------------------\\n\\n    Susan Dziubinski Aug 6, 2024](/stocks/top-stocks-own-best-fund-managers)\\n* [2 Cheap Stocks Top Managers Have Been Buying\\n--------------------------------------------\\n\\n    Susan Dziubinski Sep 26, 2024](/stocks/2-cheap-stocks-top-managers-have-been-buying-2)\\n* [The 10 Best Companies to Invest in Now\\n--------------------------------------\\n\\n    Margaret Giles May 2, 2022](/stocks/10-best-companies-invest-now)\\n* [New 4\\\\-Star Stocks\\n------------------\\n\\n    Bella Albrecht Sep 30, 2024](/stocks/new-4-star-stocks-6)\\n* [Morningstar’s Guide to Investing in Stocks\\n------------------------------------------\\n\\n    Emelia Fredlick Nov 23, 2021](/stocks/morningstars-guide-investing-stocks)\\n* [Our Top Pick for Investing in US Renewable Energy\\n-------------------------------------------------\\n\\n    Brett Castelli Mar 25, 2024](/stocks/investment-opportunities-us-renewable-energy)\\n* [How to Measure a Stock’s Uncertainty\\n------------------------------------\\n\\n    Emelia Fredlick Sep 26, 2024](/stocks/how-measure-stocks-uncertainty)\\n* [How to Determine Whether a Stock Is Cheap, Expensive, or Fairly Valued\\n----------------------------------------------------------------------\\n\\n    Emelia Fredlick Sep 25, 2024](/stocks/how-determine-whether-stock-is-cheap-expensive-or-fairly-valued)\\n        Sponsor Center\\n--------------\\n\\n          ![](https://images.contentstack.io/v3/assets/blt4eb669caa7dc65b2/blt39ce1d6a5e7be3d0/60809fdf6371c75a11ada75c/transparency.svg)\\n Transparency is our policy. Learn how it impacts everything we do\\n\\n Read More\\n\\n Transparency is how we protect the integrity of our work and keep\\n empowering investors to achieve their goals and dreams. And we have\\n unwavering standards for how we keep that integrity intact, from our\\n research and data to our policies on content and your personal data.\\n\\n We’d like to share more about how we work and what drives our day\\\\-to\\\\-day business.\\n\\n  ![](https://images.contentstack.io/v3/assets/blt4eb669caa7dc65b2/blt3bce7cffbeb60a42/60809fdf26fd84453c018424/make-money.svg) ### How we make money\\n\\n We sell different types of products and services to both investment professionals\\n and individual investors. These products and services are usually sold through\\n license agreements or subscriptions. Our investment management business generates\\n asset\\\\-based fees, which are calculated as a percentage of assets under management.\\n We also sell both admissions and sponsorship packages for our investment conferences\\n and advertising on our websites and newsletters.\\n\\n   ![](https://images.contentstack.io/v3/assets/blt4eb669caa7dc65b2/blt218bb7805fb32c9a/60809fdfb35a7a3c69a379ff/personal-data.svg) ### How we use your personal data\\n\\n How we use your information depends on the product and service that you use and your relationship with us. We may use it to:\\n\\n * Verify your identity, personalize the content you receive, or create and administer your account.\\n* Provide specific products and services to you, such as portfolio management or data aggregation.\\n* Develop and improve features of our offerings.\\n* Gear advertisements and other marketing efforts towards your interests.\\n\\n To learn more about how we handle and protect your data, visit our [privacy center](/company/privacy-center).\\n\\n  ![](https://images.contentstack.io/v3/assets/blt4eb669caa7dc65b2/blta8bf8e458b569f88/60809fdf03ce953dac756a01/editorial-content.svg) ### How we approach editorial content\\n\\n Maintaining independence and editorial freedom is essential to our mission of\\n empowering investor success. We provide a platform for our authors to report on\\n investments fairly, accurately, and from the investor’s point of view. We also\\n respect individual opinions––they represent the unvarnished thinking of our people\\n and exacting analysis of our research processes. Our authors can publish views that\\n we may or may not agree with, but they show their work, distinguish facts from\\n opinions, and make sure their analysis is clear and in no way misleading or deceptive.\\n\\n To further protect the integrity of our editorial content, we keep a strict separation\\n between our sales teams and authors to remove any pressure or influence on our analyses\\n and research.\\n\\n Read our [editorial policy](/editorial-policy) to learn more about our process.\\n\\n       Site Index [![Morningstar](/assets/img/morningstar-70px.0ea2b33.svg)](/)       ##### What We Do\\n\\n* [All Products \\\\& Services](/products)\\n* [Our Signature Methodologies](/research/signature)\\n* [Morningstar Investment Conference](/events/mic)\\n ##### Company\\n\\n* [About Us](/company/about-us)\\n* [Careers](/careers)\\n* [Diversity, Equity, \\\\& Inclusion](/company/diversity)\\n* [Corporate Sustainability](/company/corporate-sustainability)\\n* [Newsroom](https://newsroom.morningstar.com)\\n* [Investor Relations](https://shareholders.morningstar.com)\\n ##### Get Help\\n\\n* [Advertising Opportunities](/company/media-kit)\\n* [Feedback](#)\\n* [Reprints](mailto:reprints@morningstar.com)\\n* [Global Contacts](/company/global-contacts)\\n* [Affiliate Program](/products/investor-affiliate-program)\\n\\n---\\n\\n [![United States Flag](/assets/img/us_flag_20x20.34273bf.svg)\\n United States](/company/location)\\n © Copyright 2024 Morningstar, Inc. All rights reserved.\\n Dow Jones Industrial Average, S\\\\&P 500, Nasdaq, and Morningstar Index (Market Barometer) quotes are real\\\\-time.\\n\\n * [Terms and Conditions](https://www.morningstar.com/company/terms-and-conditions)\\n* [Privacy Center](https://www.morningstar.com/company/privacy-center)\\n* [Disclosures](https://www.morningstar.com/company/disclosures)\\n* [Member User Agreement](/user-agreement)\\n* [Corrections](https://www.morningstar.com/corrections)\\n* [Do Not Sell or Share My Personal Information](https://www.morningstar.com/company/privacy-policy/california#resident-rights)\\n* [Accessibility](https://www.morningstar.com/company/accessibility)', 1, 1)</details></pre></div><div class='basic-renderer-box observation'><h4 class='step-header'>[8] Observation: ToolResult</h4><pre class='step-text'>tool_call_id: call_veA3HLU4QQEOVkefb2i6aoJT\n",
       "kind: tool\n",
       "\n",
       "<details><summary>27433 characters ...</summary>(\"Title: What's going on with Nvidia stock and the booming AI market?\\n=======================\\n[WhatIs](https://www.techtarget.com/whatis/)\\n\\nSearch the TechTarget Network\\n\\nBrowse Definitions\\n:\\n* [A](https://www.techtarget.com/whatis/definitions/A)\\n* [B](https://www.techtarget.com/whatis/definitions/B)\\n* [C](https://www.techtarget.com/whatis/definitions/C)\\n* [D](https://www.techtarget.com/whatis/definitions/D)\\n* [E](https://www.techtarget.com/whatis/definitions/E)\\n* [F](https://www.techtarget.com/whatis/definitions/F)\\n* [G](https://www.techtarget.com/whatis/definitions/G)\\n* [H](https://www.techtarget.com/whatis/definitions/H)\\n* [I](https://www.techtarget.com/whatis/definitions/I)\\n* [J](https://www.techtarget.com/whatis/definitions/J)\\n* [K](https://www.techtarget.com/whatis/definitions/K)\\n* [L](https://www.techtarget.com/whatis/definitions/L)\\n* [M](https://www.techtarget.com/whatis/definitions/M)\\n* [N](https://www.techtarget.com/whatis/definitions/N)\\n* [O](https://www.techtarget.com/whatis/definitions/O)\\n* [P](https://www.techtarget.com/whatis/definitions/P)\\n* [Q](https://www.techtarget.com/whatis/definitions/Q)\\n* [R](https://www.techtarget.com/whatis/definitions/R)\\n* [S](https://www.techtarget.com/whatis/definitions/S)\\n* [T](https://www.techtarget.com/whatis/definitions/T)\\n* [U](https://www.techtarget.com/whatis/definitions/U)\\n* [V](https://www.techtarget.com/whatis/definitions/V)\\n* [W](https://www.techtarget.com/whatis/definitions/W)\\n* [X](https://www.techtarget.com/whatis/definitions/X)\\n* [Y](https://www.techtarget.com/whatis/definitions/Y)\\n* [Z](https://www.techtarget.com/whatis/definitions/Z)\\n* [\\\\#](https://www.techtarget.com/whatis/definitions/0)\\n\\n[Login](https://www.techtarget.com/login)\\n[Register](https://www.techtarget.com/register)\\n\\n* [TechTarget Network](https://www.techtarget.com/network/)\\n* [Tech Accelerator](https://www.techtarget.com/whatis/techaccelerators)\\n* [News](https://www.techtarget.com/news/)\\n* [2023 IT Salary Survey Results](https://www.bitpipe.com/detail/RES/1690984393_581.html?Offer=2023SalaryandCareers)\\n\\n[RSS](https://www.techtarget.com/whatis/rss)\\n\\n* [WhatIs](https://www.techtarget.com/whatis/)\\n* [Browse Definitions\\n\\nArtificial intelligence](https://www.techtarget.com/whatis/glossary/Artificial-intelligence)\\n\\n[Data analytics and AI](https://www.techtarget.com/whatis/glossary/Business-intelligence-business-analytics)\\nView All\\n\\n\\t+ [Algorithms](https://www.techtarget.com/whatis/glossary/Algorithms)\\n\\t+ [Data and data management](https://www.techtarget.com/whatis/glossary/Data-and-Data-Management)\\n\\t+ [Database management](https://www.techtarget.com/whatis/glossary/Database)\\n\\n[Business software](https://www.techtarget.com/whatis/glossary/Enterprise-Business-Software)\\nView All\\n\\n\\t+ [ERP](https://www.techtarget.com/whatis/glossary/Business-and-ERP)\\n\\t+ [HR management](https://www.techtarget.com/whatis/glossary/HR-management)\\n\\t+ [Marketing and CX](https://www.techtarget.com/whatis/glossary/Marketing-and-customer-experience)\\n\\t+ [Microsoft](https://www.techtarget.com/whatis/glossary/Microsoft)\\n\\t+ [Software applications](https://www.techtarget.com/whatis/glossary/Software-Applications)\\n\\n[Cloud computing](https://www.techtarget.com/whatis/glossary/Cloud-computing)\\nView All\\n\\n\\t+ [Internet applications](https://www.techtarget.com/whatis/glossary/Internet-applications)\\n\\t+ [Internet of Things](https://www.techtarget.com/whatis/glossary/Internet-of-Things)\\n\\t+ [Web services](https://www.techtarget.com/whatis/glossary/Web-services-SOA)\\n\\n[Computer science](https://www.techtarget.com/whatis/glossary/Computer-Science)\\nView All\\n\\n\\t+ [Electronics](https://www.techtarget.com/whatis/glossary/Electronics)\\n\\t+ [Internet technologies](https://www.techtarget.com/whatis/glossary/Internet-Technologies)\\n\\t+ [IT standards and organizations](https://www.techtarget.com/whatis/glossary/IT-Standards-Organizations)\\n\\t+ [Microprocessors](https://www.techtarget.com/whatis/glossary/Microprocessors)\\n\\t+ [Robotics](https://www.techtarget.com/whatis/glossary/Robotics)\\n\\n[Data analytics and AI](https://www.techtarget.com/whatis/glossary/Business-intelligence-business-analytics)\\nView All\\n\\n\\t+ [Algorithms](https://www.techtarget.com/whatis/glossary/Algorithms)\\n\\t+ [Artificial intelligence](https://www.techtarget.com/whatis/glossary/Artificial-intelligence)\\n\\t+ [Data and data management](https://www.techtarget.com/whatis/glossary/Data-and-Data-Management)\\n\\t+ [Database management](https://www.techtarget.com/whatis/glossary/Database)\\n\\n[Data centers](https://www.techtarget.com/whatis/glossary/Data-centers)\\nView All\\n\\n\\t+ [Data backup and disaster recovery](https://www.techtarget.com/whatis/glossary/Backup-and-Recovery)\\n\\t+ [Data center management](https://www.techtarget.com/whatis/glossary/Data-center-management)\\n\\t+ [Linux](https://www.techtarget.com/whatis/glossary/Linux)\\n\\t+ [Operating systems](https://www.techtarget.com/whatis/glossary/Operating-Systems)\\n\\t+ [Storage Admin](https://www.techtarget.com/whatis/glossary/Storage-Management)\\n\\t+ [Storage and Data Mgmt](https://www.techtarget.com/whatis/glossary/Storage-and-Data-Management)\\n\\t+ [Virtualization](https://www.techtarget.com/whatis/glossary/Virtualization)\\n\\n[IT management](https://www.techtarget.com/whatis/glossary/IT-Management)\\nView All\\n\\n\\t+ [Certifications](https://www.techtarget.com/whatis/glossary/IT-Certifications)\\n\\t+ [IT career paths](https://www.techtarget.com/whatis/glossary/Career-Paths)\\n\\t+ [IT Operations](https://www.techtarget.com/whatis/glossary/IT-Operations)\\n\\t+ [Personal computing](https://www.techtarget.com/whatis/glossary/Personal-Computing)\\n\\t+ [Project management](https://www.techtarget.com/whatis/glossary/Project-Management)\\n\\t+ [Technical support](https://www.techtarget.com/whatis/glossary/Computing-Fundamentals)\\n\\n[Networking](https://www.techtarget.com/whatis/glossary/Networking)\\nView All\\n\\n\\t+ [High\\\\-speed networks](https://www.techtarget.com/whatis/glossary/High-Speed-Networks)\\n\\t+ [Network Admin](https://www.techtarget.com/whatis/glossary/Network-Administration)\\n\\t+ [Network hardware](https://www.techtarget.com/whatis/glossary/Network-Hardware)\\n\\t+ [Networking and communications](https://www.techtarget.com/whatis/glossary/Networking-and-Communications)\\n\\t+ [Wireless and mobile](https://www.techtarget.com/whatis/glossary/Wireless-Mobile)\\n\\n[Security](https://www.techtarget.com/whatis/glossary/Security)\\nView All\\n\\n\\t+ [Authentication and access control](https://www.techtarget.com/whatis/glossary/Authentication)\\n\\t+ [Compliance, risk and governance](https://www.techtarget.com/whatis/glossary/Compliance)\\n\\t+ [Network security](https://www.techtarget.com/whatis/glossary/Network-Security)\\n\\t+ [Security Admin](https://www.techtarget.com/whatis/glossary/Security-Management)\\n\\t+ [Threat management](https://www.techtarget.com/whatis/glossary/Security-Threats-and-Countermeasures)\\n\\n[Software development](https://www.techtarget.com/whatis/glossary/Software-Development)\\nView All\\n\\n\\t+ [Agile software development](https://www.techtarget.com/whatis/glossary/Agile-Scrum-XP-Programming)\\n\\t+ [AppDev](https://www.techtarget.com/whatis/glossary/Application-Development)\\n\\t+ [DevOps](https://www.techtarget.com/whatis/glossary/DevOps)\\n\\t+ [Programming](https://www.techtarget.com/whatis/glossary/Programming)\\n\\nPlease select a category\\n\\n\\t+ Business software\\n\\t+ Cloud computing\\n\\t+ Computer science\\n\\t+ Data analytics and AI\\n\\t+ Data centers\\n\\t+ IT management\\n\\t+ Networking\\n\\t+ Security\\n\\t+ Software development\\n\\n* [Browse Features\\nResources](https://www.techtarget.com/whatis/resources)\\n\\n\\t+ [Business strategies](https://www.techtarget.com/whatis/resources/Business-Strategies)\\n\\t+ [Career resources](https://www.techtarget.com/whatis/resources/Career-Resources)\\n\\t+ [Emerging tech](https://www.techtarget.com/whatis/resources/Emerging-Tech)\\n\\t+ [Tech explainers](https://www.techtarget.com/whatis/resources/Tech-Explainers)\\n\\n* Follow:\\n*\\n*\\n*\\n*\\n*\\n\\n* [Home](https://www.techtarget.com/whatis/)\\n* [Artificial intelligence](https://www.techtarget.com/whatis/glossary/Artificial-intelligence)\\n\\n![](https://www.techtarget.com/rms/onlineimages/toolGearArrow_g140057613_searchsitetablet_520X173.jpg)\\nGetty Images/iStockphoto\\n\\n[Feature](https://www.techtarget.com/whatis/features)\\n\\nWhat's going on with Nvidia stock and the booming AI market?\\n============================================================\\n\\nNvidia's market value surpassed $3 trillion in 2024, fueled by the generative AI boom, rebounding tech sector and 154% stock growth in 2024\\\\. However, there are questions if AI will sustain the hype cycle.\\n-------------------------------------------------------------------------------------------------------------------------------------------------------------------------------------------------------------\\n\\n* Share this item with your network:\\n*\\n*\\n*\\n*\\n*\\n\\n*\\n*\\n* +\\n\\t+\\n\\t+\\n\\t+\\n\\n![Amanda Hetler](https://cdn.ttgtmedia.com/rms/onlineimages/hetler_amanda.jpg)\\nBy\\n* [Amanda Hetler,](https://www.techtarget.com/contributor/Amanda-Hetler)\\nSenior Editor\\n\\nPublished: 04 Sep 2024\\n\\nNvidia continues to grow as it surpassed the $3 trillion mark on June 18, 2024, before dipping just below $3 trillion at the end of August 2024\\\\. Nvidia is now the third largest\\\\-listed U.S. company based on market capitalization value behind Apple and Microsoft. In the middle of 2023, Nvidia passed the $1 trillion mark and was more valuable than Amazon and Alphabet, Google's parent company. In just nine months, the company's market worth increased from $1 trillion to $2 trillion in February 2024, and it took only three months to reach $3 trillion in June 2024\\\\. However, even with impressive growth, [Nvidia stock](https://www.nasdaq.com/market-activity/stocks/nvda) was down as much as 5% after its 2024 second\\\\-quarter earnings report.\\n\\nThe rise of [Nvidia](https://www.techtarget.com/whatis/definition/NVIDIA) took some time. The tech sector faced a rough 2022\\\\. It started to rebound in 2023 despite [tech layoffs](https://www.techtarget.com/whatis/feature/Tech-sector-layoffs-explained-What-you-need-to-know). [Generative AI](https://www.techtarget.com/searchenterpriseai/definition/generative-AI) is one of the main drivers of its rebound, and the stock market is showing signs of this rebound. The Nasdaq index is heavy in tech stocks and finished 2023 up [43%](https://www.nasdaq.com/articles/2023-in-review:-key-stock-trends-and-sector-shifts-unveiled). The rise of generative AI led to a tech bull market, which is a time of expansion in the stock exchange.\\n\\nThe top\\\\-tier group of tech stocks is known as the Magnificent Seven and includes Alphabet, Amazon, Apple, Meta, Microsoft, Nvidia and Tesla. The Magnificent Seven company stocks were up an average of 111% in 2023, and Nvidia was up 239% in 2023\\\\.\\n\\nOn June 7, 2024, Nvidia stock completed a 10\\\\-for\\\\-1 stock split, which will make its stock price approximately $120 from $1,200\\\\. The shares will begin trading at the split\\\\-adjusted rates on June 10, 2024\\\\. Nvidia is splitting its stock to make it more accessible to employees and investors. This split will not change the overall value of the company. This means any stockholder who owned a share of stock before the split will receive nine more shares after the split. Over time, this lower stock price makes it easier for investors to access shares.\\n\\nEven with the daily ups and downs of the stock market, investors are taking notice of this growth and wondering how much the AI demand may drive the tech market in 2024\\\\.\\n\\nThe rise of Nvidia\\n------------------\\n\\nNvidia is one of the world's largest producers of [GPUs](https://www.techtarget.com/searchvirtualdesktop/definition/GPU-graphics-processing-unit). GPUs are computer chips or semiconductors that use math operations to produce visuals and images. The GPU manages and speeds up graphic workloads and displays visual content on a device such as PC or smartphone.\\n\\nEach of Nvidia's earnings reports exceeded expectations throughout 2023 as AI started gaining momentum and attention. Nvidia's advanced chips can use and process the massive amounts needed to train generative AI programs, such as [ChatGPT](https://www.techtarget.com/whatis/definition/ChatGPT) and Gemini. Since Nvidia dominated this market before the increasing need for AI, Nvidia only grew larger as demand soared.\\n\\n[Nvidia reported](https://nvidianews.nvidia.com/news/nvidia-announces-financial-results-for-second-quarter-fiscal-2025) revenue of $30 billion for its fiscal second quarter ending July 28, 2024\\\\. This revenue was up 15% from the previous quarter and up 152% from one year prior. The company earned record quarterly data center revenue of $26\\\\.3 billion, which increased 16% from the previous quarter and was up 154% from the previous year.\\n\\nTo put it in perspective, companies \\\\-\\\\- such as Apple and Microsoft \\\\-\\\\- are spending money on AI, and Nvidia is making money on AI as it produces the chips to run the technology.\\n\\nBusinesses need hardware to support high amounts of energy with the AI wave, but these advanced chips are also needed for the [metaverse](https://www.techtarget.com/whatis/feature/The-metaverse-explained-Everything-you-need-to-know), gaming and [spatial computing](https://www.techtarget.com/searchcio/definition/spatial-computing). Nvidia also makes chips for cars as technology continues to advance.\\n\\nThe core reasons for the rise of Nvidia stock\\n---------------------------------------------\\n\\nThe rise of generative AI is one of the key factors of Nvidia's rise. However, there are some other reasons Nvidia stock increased significantly.\\n\\n### 1\\\\. The rise of supercomputers\\n\\nNvidia's chips power supercomputers because of the large amounts of data needed for this advanced technology. Supercomputing technology is used by companies, such as Meta for its AI Research SuperCluster computer, to train complex AI models. Tesla is also starting to build an AI\\\\-focused supercomputer for its vehicles.\\n\\n### 2\\\\. Demand for generative AI\\n\\nWith no signs of the demand for generative AI slowing down, Nvidia is poised to grow as each new system is adopted. The AI industry is expected to grow at a compound annual growth rate of 42% in the next 10 years, according to [Bloomberg Intelligence](https://www.bloomberg.com/company/press/generative-ai-to-become-a-1-3-trillion-market-by-2032-research-finds/). The demand for generative AI products could make the generative [AI market](https://www.techtarget.com/searchenterpriseai/feature/AI-hardware-vendors-band-together-to-challenge-Nvidia) worth $1\\\\.3 trillion by 2032\\\\.\\n\\nNvidia's A100 GPU chips are used in training the model for [ChatGPT](https://www.techtarget.com/whatis/definition/ChatGPT). Companies, such as OpenAI, that use large amounts of data for tasks such as training [large language models](https://www.techtarget.com/whatis/definition/large-language-model-LLM) evolve quickly and need more accelerated computing. The demand for GPUs will only grow as these systems train and evolve with more data.\\n\\n### 3\\\\. The changing world of the metaverse and XR\\n\\nNvidia has played a role in the metaverse and the [virtual and augmented reality landscape](https://www.techtarget.com/searcherp/feature/AR-vs-VR-vs-MR-Differences-similarities-and-manufacturing-uses) with its Omniverse platform. Nvidia offers 3D modeling programs to help stream extended reality (XR) content efficiently. As the metaverse evolves, so does the demand for Nvidia chips to run the metaverse. Companies are turning to [XR programs](https://www.computerweekly.com/feature/XRs-wide-range-of-interface-technologies-achieving-total-immersiveness) to create virtual environments for training.\\n\\nThe gaming world is also a large customer of Nvidia's graphics division. Video games need stronger cards to run the high\\\\-resolution images, especially as more games move to the cloud and away from the console. Nvidia's gaming GPUs, such as [GeForce RTX 4070](https://www.nvidia.com/en-us/geforce/news/gfecnt/20234/geforce-rtx-4070/), help power video games at a higher resolution and quicker speed.\\n\\n### 4\\\\. Strategic placement\\n\\nNvidia is a large part of the cryptocurrency world. Miners use its cards for [mining tokens](https://www.techtarget.com/whatis/feature/Blockchain-terminology-A-glossary-for-beginners), which requires a great deal of power. There was an unprecedented demand for Nvidia's cards as cryptocurrency took off.\\n\\nFuture of Nvidia\\n----------------\\n\\nWhile Nvidia's processors run most of the data centers that power generative AI, there are still some possible challenges ahead, including competition from tech giants to make their own AI chips, economic uncertainty and a rise in competition.\\n\\nThe generative AI market is expected to continue growing, but more rules and regulations are going to be introduced that could affect Nvidia's AI chips. The U.S. trade restrictions on China's advanced semiconductors are also impacting Nvidia's growth, as Chinese sales were a large part of Nvidia's data center sales.\\n\\nWith Nvidia's noticeable growth, other competitors are offering similar chips, such as AMD's Instinct MI200 family of GPU accelerators. Intel also launched a set of fifth\\\\-generation Intel Xeon processors for data centers. Companies may not want to rely on one company and will start exploring these other vendors, which could hurt Nvidia's growth.\\n\\nIt's hard to predict whether Nvidia will continue its growth at its current pace. Nvidia has built a solid foundation in the AI market, and if the generative AI market grows as predicted, its revenue will continue to grow. But it's unknown how much of the market Nvidia's competitors will take. Nvidia still has a strong share in the face of rising competition as it recently announced its H200 computing platform. Cloud providers such as Amazon, Google and Microsoft have developed AI processors, but they work with Nvidia chips.\\n\\nThe market is evolving quickly. Enterprises are looking to adopt generative AI, leading to the creation of new vendors to meet business needs. New areas such as security and compliance will also change the generative AI market in the business world.\\n\\nNvidia’s data center business is a leading driver of success and has a demand for AI infrastructure. Data center sales made up nearly 87% of Nvidia’s revenue. Other Big Tech companies \\\\-\\\\- such as Google, Microsoft and Meta \\\\-\\\\- continue to invest in AI and announced increased AI spending in their earnings reports. This shows that even if Nvidia’s stock doesn’t grow as rapidly as it once did, it doesn’t mean the company is performing poorly. It’s still growing and the need for its products remains strong.\\n\\n*Learn more about other [companies on the stock exchange innovating in AI](https://www.techtarget.com/whatis/feature/18-companies-on-stock-exchange-innovating-in-AI).*\\n\\n*Amanda Hetler is senior editor and writer for WhatIs, where she writes technology explainer articles and works with freelancers.*\\n\\n#### Next Steps\\n\\n[Infrastructure for machine learning, AI requirements, examples](https://www.techtarget.com/searchdatacenter/feature/Infrastructure-for-machine-learning-AI-requirements-examples)\\n\\n\\xa0[How to choose the best GPUs for AI projects](https://www.techtarget.com/searchenterpriseai/tip/How-to-choose-the-best-GPUs-for-AI-projects)\\n\\n#### Related Resources\\n\\n* How AI Will Fully Automate the Lawn Mowing Business\\n–Webinar\\n* Top Five Cybersecurity Predictions for 2025\\n–Webinar\\n* Top Five Cybersecurity Predictions for 2025\\n–Webinar\\n* Top Five Cybersecurity Predictions for 2025\\n–Webinar\\n\\n#### Dig Deeper on Artificial intelligence\\n\\n* [![]()\\n##### AI model training drives up demand for high\\\\-bandwidth memory\\n\\n![AdamArmstrong](https://cdn.ttgtmedia.com/rms/onlineimages/armstrong_adam.jpg)\\n\\nBy: Adam\\xa0Armstrong](https://www.techtarget.com/searchstorage/feature/AI-model-training-drives-up-demand-for-high-bandwidth-memory)\\n* [![]()\\n##### 10 top AI hardware and chip\\\\-making companies in 2024\\n\\n![DevinPartida](https://cdn.ttgtmedia.com/rms/onlineimages/partida_devin.jpg)\\n\\nBy: Devin\\xa0Partida](https://www.techtarget.com/searchdatacenter/tip/Top-AI-hardware-companies)\\n* [![]()\\n##### Explaining an AI bubble burst and what it could mean\\n\\n![SeanKerner](https://cdn.ttgtmedia.com/rms/onlineImages/kerner_sean.jpg)\\n\\nBy: Sean\\xa0Kerner](https://www.techtarget.com/whatis/feature/Explaining-an-AI-bubble-burst-and-what-it-could-mean)\\n* [![]()\\n##### SK Hynix's $75B investment in AI chips shows a growing trend\\n\\n![EstherAjao](https://cdn.ttgtmedia.com/rms/onlineimages/ajao_esther.jpg)\\n\\nBy: Esther\\xa0Ajao](https://www.techtarget.com/searchenterpriseai/news/366592414/SK-Hynix-75B-investment-in-AI-chips-shows-a-growing-trend)\\n\\nSponsored News\\n* [The Future of Private AI: How Industries Take Advantage of AI](https://www.techtarget.com/searchenterpriseai/PrivateAI/The-Future-of-Private-AI-How-Industries-Take-Advantage-of-AI)\\n–Equinix\\n* [Flexible IT: When Performance and Security Can’t Be Compromised](https://www.techtarget.com/searchcio/MulticloudbyDesign/Flexible-IT-When-Performance-and-Security-Cant-Be-Compromised)\\n–Dell Technologies\\n* [Private AI Demystified](https://www.techtarget.com/searchenterpriseai/PrivateAI/Private-AI-Demystified)\\n–Equinix\\n\\nRelated Content\\n* [AMD, Intel and Nvidia's latest moves in the AI PC ...](https://www.techtarget.com/searchenterpriseai/news/366587752/AMD-Intel-and-Nvidias-latest-moves-in-the-AI-PC-chip-race)\\n– Enterprise AI\\n* [Explaining an AI bubble burst and what it could mean](https://www.techtarget.com/whatis/feature/Explaining-an-AI-bubble-burst-and-what-it-could-mean)\\n– WhatIs\\n* [18 companies on stock exchange innovating in AI](https://www.techtarget.com/whatis/feature/18-companies-on-stock-exchange-innovating-in-AI)\\n– WhatIs\\n\\nLatest TechTarget resources\\n* [Networking](#)\\n* [Security](#)\\n* [CIO](#)\\n* [HR Software](#)\\n* [Customer Experience](#)\\n\\n[Networking](https://www.techtarget.com/searchnetworking/)\\n\\n* [What is TCP/IP?](https://www.techtarget.com/searchnetworking/definition/TCP-IP)\\nTCP/IP stands for Transmission Control Protocol/Internet Protocol and is a suite of communication protocols used to interconnect ...\\n* [What is ICMP (Internet Control Message Protocol)?](https://www.techtarget.com/searchnetworking/definition/ICMP)\\nICMP (Internet Control Message Protocol) is a network layer error\\\\-reporting protocol that's used to communicate data transmission...\\n* [What is asynchronous?](https://www.techtarget.com/searchnetworking/definition/asynchronous)\\nIn general, asynchronous \\\\-\\\\- from Greek asyn\\\\- ('not with/together') and chronos ('time') \\\\-\\\\- describes objects or events not ...\\n\\n[Security](https://www.techtarget.com/searchsecurity/)\\n\\n* [What is WPA3 (Wi\\\\-Fi Protected Access 3\\\\)?](https://www.techtarget.com/searchsecurity/definition/WPA3)\\nWPA3, also known as Wi\\\\-Fi Protected Access 3, is the third iteration of a security certification standard developed by the Wi\\\\-Fi ...\\n* [What is email spam and how to fight it?](https://www.techtarget.com/searchsecurity/definition/spam)\\nEmail spam, also known as 'junk email,' refers to unsolicited email messages, usually sent in bulk to a large list of recipients....\\n* [What is threat detection and response (TDR)? Complete guide](https://www.techtarget.com/searchsecurity/definition/threat-detection-and-response-TDR)\\nThreat detection and response (TDR) is the process of recognizing potential cyberthreats and reacting to them before harm can be ...\\n\\n[CIO](https://www.techtarget.com/searchcio/)\\n\\n* [What are leadership skills?](https://www.techtarget.com/searchcio/definition/leadership-skills)\\nLeadership skills are the strengths and abilities individuals demonstrate that help to oversee processes, guide initiatives and ...\\n* [What is a decision support system (DSS)?](https://www.techtarget.com/searchcio/definition/decision-support-system)\\nA decision support system (DSS) is a computer program used to improve a company's decision\\\\-making capabilities.\\n* [What is an entrepreneur (entrepreneurship)?](https://www.techtarget.com/searchcio/definition/entrepreneur)\\nAn entrepreneur is an individual who identifies a need in the marketplace and works to fulfill it.\\n\\n[HRSoftware](https://www.techtarget.com/searchhrsoftware/)\\n\\n* [What is employee self\\\\-service (ESS)?](https://www.techtarget.com/searchhrsoftware/definition/employee-self-service)\\nEmployee self\\\\-service (ESS) is a widely used human resources technology that enables employees to perform many job\\\\-related ...\\n* [What is DEI? Diversity, equity and inclusion explained](https://www.techtarget.com/searchhrsoftware/definition/diversity-equity-and-inclusion-DEI)\\nDiversity, equity and inclusion is a term used to describe policies and programs that promote the representation and ...\\n* [What is payroll software?](https://www.techtarget.com/searchhrsoftware/definition/payroll-software)\\nPayroll software automates the process of paying salaried, hourly and contingent employees.\\n\\n[Customer Experience](https://www.techtarget.com/searchcustomerexperience/)\\n\\n* [What is a call center? Everything you need to know](https://www.techtarget.com/searchcustomerexperience/definition/Call-Center)\\nA call center is a centralized department of customer service professionals who handle inbound and outbound calls from current ...\\n* [What is lead scoring?](https://www.techtarget.com/searchcustomerexperience/definition/lead-scoring)\\nLead scoring is a methodology sales and marketing departments use to determine the worthiness of leads, or potential customers, ...\\n* [What is CPQ software (configure price quote software)?](https://www.techtarget.com/searchcustomerexperience/definition/CPQ-software-configure-price-quote-software)\\nCPQ (configure, price, quote) is programming that helps sales representatives and self\\\\-service customers quickly generate ...\\n\\n* [Browse by Topic](https://www.techtarget.com/whatis/glossaries)\\n* [Browse Resources](https://www.techtarget.com/whatis/resources)\\n\\n* [About Us](https://www.techtarget.com/editorial/)\\n* [Meet The Editors](https://www.techtarget.com/whatis/about/Meet-the-Editors)\\n* [Editorial Ethics Policy](https://www.techtarget.com/techtarget-editorial-ethics-policy/)\\n* [Contact Us](https://www.techtarget.com/contact-us/)\\n* [Advertisers](https://www.techtarget.com/for-advertisers/)\\n* [Business Partners](https://www.techtarget.com/partner-with-us/)\\n* [Events](https://www.brighttalk.com/summits)\\n* [Media Kit](https://www.techtarget.com/wp-content/uploads/2023/09/TechTarget-Media-Kit-Handout-with-product-descriptions.pdf)\\n* [Corporate Site](https://www.techtarget.com)\\n* [Reprints](https://licensing.ygsgroup.com/ygspublishersolutions/)\\n\\nAll Rights Reserved,\\n[Copyright 1999 \\\\- 2024](https://www.techtarget.com/whatis/about/copyright), TechTarget\\n\\n[Privacy Policy](https://www.techtarget.com/privacy-policy/)\\n\\n[Cookie Preferences](#)\\n\\n[Cookie Preferences](#)\\n\\n[Do Not Sell or Share My Personal Information](https://techtarget.zendesk.com/hc/en-us/requests/new?ticket_form_id=360004852434)\\n\\nClose\", 1, 1)</details></pre></div><div class='basic-renderer-box observation'><h4 class='step-header'>[9] Observation: ToolResult</h4><pre class='step-text'>tool_call_id: call_zNJC5XFjeAjvB9b7a1zkhbLu\n",
       "kind: tool\n",
       "\n",
       "<details><summary>24112 characters ...</summary>(\"Title: Analytical NVIDIA Stock Forecast for 2024, 2025 – 2030, and Beyond | Market Pulse\\n=======================\\n* [Personal]([@site.url]/)\\n* [Pro]([@site.url]/pro/)\\n* [Institutional](https://uk.fxopenprime.com/)\\n\\n*\\n* English (en)\\n\\n* [![English](/blog/en/assets/images/flags/en.svg?v=4d5d06ee50)\\n### English (EN)](#)\\n* [![Ru](/blog/en/assets/images/flags/ru.svg?v=4d5d06ee50)\\n### Русский (RU)](/blog/ru/)\\n* [![Ar](/blog/en/assets/images/flags/ar.svg?v=4d5d06ee50)\\n### العربية](/blog/ar/)\\n* [![De](/blog/en/assets/images/flags/de.svg?v=4d5d06ee50)\\n### Deutsch (DE)](/blog/de/)\\n\\nEnglish (en)\\n\\n[Login]([@site.url])\\n[Sign Up]([@site.url]/open-account/)\\n\\n[News \\\\& Analysis](https://fxopen.com/blog/en)\\n/\\n/ Analytical NVIDIA Stock Forecast for 2024, 2025 – 2030, and Beyond\\n\\nTrader’s Tools\\n\\nAnalytical NVIDIA Stock Forecast for 2024, 2025 – 2030, and Beyond\\n\\nFXOpen\\n\\n27 May 2024, 07:56\\n\\n![](/blog/en/content/images/2024/05/main2705_01.jpg)\\n\\nNVIDIA's stock has seen remarkable growth, driven by advancements in AI, data centres, and emerging technologies. This article provides a comprehensive analysis of NVIDIA’s stock outlook for 2024, 2025, and the next decade. Join us as we explore detailed insights into the company’s financial performance, strategic initiatives, and potential in new markets like autonomous driving and the Internet of Things (IoT).\\n\\nNVIDIA’s Recent Price History\\n-----------------------------\\n\\nNVIDIA Corporation, founded in 1993, went public in 1999 with an initial share price of $12\\\\. Note that, adjusted for the multiple splits NVDA has undergone, this is equivalent to $0\\\\.4375—we’ll refer to the split\\\\-adjusted price from here.\\n\\nThe company quickly made a name for itself in the graphics processing unit (GPU) market, and its stock saw steady growth through the early 2000s.\\n\\nIndicative pricing only\\n\\n### Early 2000s to 2015: Building the Foundation\\n\\nThroughout the 2000s, NVIDIA expanded its product line, targeting both gaming and professional markets. Significant milestones included the release of the GeForce 256 in 1999, often considered the world's first GPU.\\n\\nThe company's stock price rallied in the dot\\\\-com bubble, cresting $6 in 2001\\\\. After sinking to a low of $0\\\\.60 in 2002, NVDA began a long uptrend, peaking at $9\\\\.92 in 2007, just before the 2008 financial crisis sent it plummeting back to $1\\\\.44\\\\. Continuing to expand its presence in the GPU arena over the years, NVIDIA’s stock rebounded, closing 2015 at $8\\\\.24\\\\.\\n\\n### 2016\\\\-2017: The Boom Begins\\n\\nThe period from 2016 onwards marked a dramatic shift for NVIDIA. Driven by the increasing demand for GPUs in gaming, data centres, and the burgeoning field of artificial intelligence (AI), NVIDIA's stock price began to soar.\\n\\nBy mid\\\\-2016, NVIDIA had introduced the Pascal architecture, which significantly improved performance and efficiency. This innovation, coupled with strong financial results, saw the stock price surge to a high of $29\\\\.98 by the end of 2016, while by the end of 2017, the stock had been trading near $50\\\\.\\n\\n### 2018\\\\-2020: Volatility and Growth\\n\\nIn 2018, NVIDIA’s stock experienced volatility due to a slowdown in cryptocurrency mining, which had previously driven GPU sales. The stock price peaked at around $73\\\\.19 in October 2018 but closed the year at $33\\\\.38\\\\. Despite this, NVIDIA's long\\\\-term prospects remained strong, bolstered by continued advancements in AI and data centre applications. By early 2020, the stock price had rebounded to above $70\\\\.\\n\\n### 2020\\\\-Present: Surging Ahead\\n\\nWhile the COVID\\\\-19 pandemic caused a brief blip in NVDA’s price, the event actually further accelerated demand for NVIDIA’s products as more people turned to gaming and remote work. NVIDIA's willingness to acquire Arm Holdings in September 2020 for $40 billion highlighted its strategic expansion.\\n\\nThe stock price broke the $125 mark in mid\\\\-2020, closing 2021 at $294\\\\.11\\\\. While rising interest rates and restrictive financial conditions drove NVDA lower in 2022, to a low of $108\\\\.13, the debut of ChatGPT in late 2022 and the resulting surge in AI adoption marked a watershed moment for NVIDIA.\\n\\nNVIDIA quickly became one of the world’s most valuable companies in 2023 thanks to exploding demand for its products. In May 2023, it crossed the $1 trillion market cap threshold and peaked at $502\\\\.66 in August.\\n\\nNVIDIA continues to dominate the GPU and AI computing space in 2024, recently reaching an all\\\\-time high of $974 in March 2024\\\\. Notably, it almost reached a $2 trillion market cap faster than both Microsoft and Apple. NVDA is currently worth around $950 at the time of writing in late May.\\n\\nWant to keep up to date with the latest NVDA price movements? Head over to FXOpen’s free [TickTrader](https://fxopen.com/ticktrader/?ref=fxopen.com) platform to explore live NVDA CFD charts.\\n\\nAnalytical NVIDIA Company Outlook for 2024\\n------------------------------------------\\n\\nNVIDIA is poised for significant advancements in 2024, driven by its robust position in the AI and data centre markets. Analysts expect the company to leverage its strong portfolio in AI chips and data centre solutions, potentially driving substantial revenue growth.\\n\\nThe company's financial performance in 2023 set a strong foundation, with NVIDIA reporting record total revenue for the full fiscal year of 2024 of $60\\\\.9 billion, a 126% increase from the previous year. This growth was largely fueled by the data centre segment, which saw a 409% YoY increase in revenue in the fourth quarter of the 2024 fiscal year, underscoring the rising demand for AI\\\\-driven technologies\\u200b.\\n\\nIn 2024, NVIDIA aims to continue its trajectory by focusing on expanding its AI ecosystem. Key initiatives include the development of new AI chips and the expansion of its software and services portfolio. The company plans to enhance its offerings in generative AI, which has become a critical area for growth and innovation\\u200b. This includes leveraging its partnerships and customer base to drive further adoption of its AI solutions.\\n\\nFurthermore, NVIDIA's strategic investments in autonomous driving and the automotive sector are expected to bear fruit. The company has made significant strides with its NVIDIA DRIVE platform, collaborating with major automotive manufacturers like Great Wall Motors, ZEEKR, and Xiaomi to integrate its AI\\\\-powered driving systems.\\n\\nAnalysts are particularly optimistic about NVIDIA's ability to generate substantial free cash flow. Projections suggest that NVIDIA could achieve $100 billion in free cash flow over the next two years, providing ample resources for strategic acquisitions and further R\\\\&D investments\\u200b.\\n\\nAnalytical NVIDIA Price Prediction for 2024\\n-------------------------------------------\\n\\nNVIDIA's target prices in 2024 remain elevated, driven by several key factors. Analysts project strong growth due to the relentless demand for AI technologies, which NVIDIA is well\\\\-positioned to capitalise on.\\n\\nThe company's financial performance in 2023 laid a solid foundation, with significant gains in revenue and net income, particularly in the data centre segment. NVIDIA's Q3 2023 results showed a three\\\\-fold increase in data centre revenue year\\\\-over\\\\-year, reaching $14\\\\.51 billion\\u200b\\u200b.\\n\\nAnalysts emphasise that NVIDIA's stock is not just about hardware sales but the entire AI ecosystem it has built. This comprehensive approach is expected to drive substantial recurring revenue, bolstering the company's financial stability and growth prospects.\\n\\nDespite a 230%\\\\+ gain in 2023, NVIDIA's fundamentals have improved, supporting the stock's valuation. The company's earnings per share (EPS) forecasts for fiscal 2024 have increased, reflecting growing investor confidence.\\n\\nMoreover, NVIDIA's strategic investments in AI and data centre technologies are anticipated to yield significant returns. The ongoing integration of AI capabilities in various sectors presents a long runway for growth. Companies are increasingly adopting NVIDIA's AI solutions to enhance productivity and operational efficiency, further driving demand for NVIDIA's products.\\n\\nOverall, NVIDIA's robust position in the AI market, combined with its strategic initiatives and strong financial performance, is seen as likely to push NVDA to its price targets in 2024\\\\.\\n\\n### NVIDIA Stock Prediction for 2024\\n\\n![](https://lh7-us.googleusercontent.com/jqXH60zwKr288NOIKHMgGcAMEfIPbDeQPIbrMDyOW2HSo2yz_gj1z-1jXPu3ib-E3GFazesg8eZlrcSOYlLPe705trsPxkinIpBFvodeEqT5L9UGBxG88VZPJF-uyHgMJpbPX8GKNy8N_ISxDhCs2Xs)Mid\\\\-Year 2024:\\n\\n* Most Bullish Projection: 1179\\\\.74 (StockScan)\\n* Most Bearish Projection: 993\\\\.57 (WalletInvestor)\\n\\nEnd\\\\-of\\\\-Year 2024:\\n\\n* Most Bullish Projection: 2493\\\\.52 (StockScan)\\n* Most Bearish Projection: 1235\\\\.89 (WalletInvestor)\\n\\nAnalytical NVDA Stock Forecast for 2025\\n---------------------------------------\\n\\nAnalysts have high expectations for NVIDIA stock price targets in 2025, driven by strong financial performance and strategic growth initiatives. Analysts forecast NVIDIA's full\\\\-year revenue to reach approximately $111\\\\.3 billion in 2025, a significant increase from the $26\\\\.97 billion reported in 2023\\\\. Earnings per share (EPS) are projected to rise correspondingly, reflecting the company's continued profitability and operational efficiency.\\n\\n### AI and Data Center Dominance\\n\\nNVIDIA's leadership in AI and data centre technologies is a key driver of its stock performance. The company's AI chips are integral to the growth of AI applications across various industries, and its data centre segment continues to see exponential growth. In 2023, NVIDIA's data centre revenue surged by 409%, and this upward trend is expected to continue into 2025 as more companies adopt AI\\\\-driven solutions to enhance productivity and operational efficiency\\u200b.\\n\\n### Expansion in Autonomous Vehicles and Edge Computing\\n\\nBeyond AI and data centres, NVIDIA is making significant strides in the autonomous vehicle market. The NVIDIA DRIVE platform is increasingly being adopted by major automotive manufacturers, which is expected to contribute to revenue growth in the coming years.\\n\\nAdditionally, NVIDIA's investments in edge computing technologies are set to bolster its market position, enabling the processing of data closer to the source and enhancing real\\\\-time decision\\\\-making capabilities.\\n\\n### Strategic Acquisitions and Partnerships\\n\\nAnalysts also highlight NVIDIA's potential for strategic acquisitions and partnerships as a growth catalyst. The company's strong free cash flow provides the financial flexibility to pursue acquisitions that can enhance its technological capabilities and market reach. This strategic approach is anticipated to support long\\\\-term growth and sustain its competitive edge\\u200b.\\n\\n### Market Sentiment and Analyst Upgrades\\n\\nMarket sentiment towards NVIDIA remains positive, with numerous analyst upgrades reflecting confidence in the company's growth prospects. Despite some concerns about overvaluation, the consensus is that NVIDIA's strong fundamentals and leading position in key technological areas justify its high stock price. The stock's performance in 2025 is expected to take advantage of continued innovation and execution of its strategic initiatives\\u200b.\\n\\n### NVIDIA Stock Prediction 2025\\n\\n![](https://lh7-us.googleusercontent.com/y9wdbJ9FGfC4XjJyUWY1E1mEMngiPBNUhO2Mz15o1Q3dvLCkLJiqbUlIDOzXREUUTJtbobqM1dLwIXLcxWLUBFuWuJfIgIh2I6YvpgrEpflBqdjILnmrr19sTZjXYknV5L5hRELZqEUrOHl9-XI1big)Mid\\\\-Year 2025:\\n\\n* Most Bullish Projection: 3827\\\\.17 (StockScan)\\n* Most Bearish Projection: 1364\\\\.44 (Traders Union)\\n\\nEnd\\\\-of\\\\-Year 2025:\\n\\n* Most Bullish Projection: 5219\\\\.46 (StockScan)\\n* Most Bearish Projection: 1484\\\\.36 (Traders Union)\\n\\nAnalytical NVIDIA Stock Price Forecast for 2026 to 2030 and Beyond\\n------------------------------------------------------------------\\n\\nNVIDIA is expected to maintain its technological leadership and expand its market presence from 2026 to 2030\\\\. Analysts anticipate the company will continue to dominate the AI and data centre sectors, driving robust revenue growth. NVIDIA's innovative products, particularly its AI chips, are poised to see increasing adoption across various industries, contributing significantly to its revenue streams.\\n\\n### Revenue and Earnings Growth\\n\\nNVIDIA's financial outlook is strong, with projected substantial increases in revenue and earnings. By 2026, UBS Securities analysts estimate NVIDIA’s revenue could reach approximately $146\\\\.87 billion, reflecting a significant rise from its 2023 revenue of $26\\\\.97 billion. This growth is expected to be driven by the continued demand for AI solutions and the expansion of NVIDIA’s data centre capabilities.\\n\\n### Emerging Markets\\n\\nNVIDIA's expansion into emerging markets such as autonomous driving, Internet of Things (IoT), and blockchain technology is expected to drive significant growth from 2026 to 2030\\\\.\\n\\n#### Autonomous Driving\\n\\nNVIDIA's DRIVE platform is becoming a cornerstone for autonomous vehicle development. Major automotive manufacturers are incorporating NVIDIA’s AI technology to enhance vehicle safety and efficiency. The autonomous vehicle market is projected to grow substantially, and NVIDIA's technology will be integral to this growth, providing substantial revenue opportunities.\\n\\n#### Internet of Things (IoT)\\n\\nNVIDIA is also making strides in the IoT sector, where its edge computing solutions enable real\\\\-time data processing for various applications. The proliferation of IoT devices across industries such as healthcare, manufacturing, and smart cities will drive demand for NVIDIA's powerful GPUs and AI solutions, contributing to long\\\\-term revenue growth.\\n\\n#### Blockchain and Cryptocurrencies\\\\*\\n\\nWhile blockchain and cryptocurrency\\\\* markets can be volatile, NVIDIA's GPUs are crucial for mining operations. The company’s products are highly sought after for their efficiency and performance in processing complex algorithms. As the blockchain industry evolves, NVIDIA’s technology will continue to play a vital role, offering another revenue stream.\\n\\n### Market Challenges and Competitive Landscape\\n\\nWhile NVIDIA's outlook is positive, the company faces challenges from competitors such as AMD, Intel, and emerging startups. Maintaining its technological edge and market leadership will require continuous innovation and effective execution of strategic initiatives. NVIDIA's proprietary technologies, like the Cuda programming language, provide a competitive advantage, but competitors are also advancing rapidly, which will require NVIDIA to stay ahead in the innovation curve.\\n\\n### NVIDIA Stock Prediction 2026\\n\\n![](https://lh7-us.googleusercontent.com/5Y9YdnEktBtXWY2SERrz0AmOBa0y4RGyZ91CmpdMe2SxmEI3fqNI7N9n7fDXggI11YQA7GczzfdCVS0lmSbM8up3gKmfB1kea_2AL_e6CAq4wXK8-pjx-lO6lqQCeK9T5g7H9BDc6_bRvNUTyyp2F70)Mid\\\\-Year 2026:\\n\\n* Most Bullish Projection: 6489\\\\.84 (StockScan)\\n* Most Bearish Projection: 1614\\\\.28 (Traders Union)\\n\\nEnd\\\\-of\\\\-Year 2026\\n\\n* Most Bullish Projection: 7904\\\\.84 (StockScan)\\n* Most Bearish Projection: 1769\\\\.12 (Traders Union)\\n\\n### NVIDIA Stock Prediction 2027\\n\\n![](https://lh7-us.googleusercontent.com/EQuJXaU11MqkMUbJPQpAy0tXKMK-5AUsu92aQrvGoFeuMPK-Y5VC3Jm0XwSxdP-LWydUd3cbFbaQ9b4CIQEj6DMJSelT_BiixcV64Yx5tkyBnz1QXGXGahoOxpi7scv3c1dmqOTx-riIr4tyWXrondg)Mid\\\\-Year 2027:\\n\\n* Most Bullish Projection: 9228\\\\.85 (StockScan)\\n* Most Bearish Projection: 2293\\\\.05 (Traders Union)\\n\\nEnd\\\\-of\\\\-Year 2027:\\n\\n* Most Bullish Projection: 10448\\\\.37 (StockScan)\\n* Most Bearish Projection: 2513 (Traders Union)\\n\\n### NVIDIA Stock Prediction 2028\\n\\n![](https://lh7-us.googleusercontent.com/y9QXUBgrM9iqU7CXp-C4ERo_smRyyO4fQb1zr7GiqwJNUqqtixJ3Cpd25vpdAt-JA60R7oYBLqZFaPYKYxgYtHMyMMkaEXf70fpBRScgEv_HiPdBrwiKGaDImic1LHD2l1Py7MUYAIbD_XOyfTF69iI)Mid\\\\-Year 2028:\\n\\n* Most Bullish Projection: 11781\\\\.45 (StockScan)\\n* Most Bearish Projection: 2732\\\\.92 (Traders Union)\\n\\nEnd\\\\-of\\\\-Year 2028:\\n\\n* Most Bullish Projection: 13327\\\\.87 (StockScan)\\n* Most Bearish Projection: 2995\\\\.10 (Traders Union)\\n\\n### NVIDIA Stock Prediction 2029\\n\\n![](https://lh7-us.googleusercontent.com/m0dGH_1Q0cCy2oJLflqw0pe-vg-94nGWsW9D9zd9opscaxgkDuHcO1Ln07iefbsXGPmfCye5WXQ1CV2YMdv1mHNnXc6SuXtQdwTFj3Dcq7HxkbGZ87j6pM5bU2XQVo60f2v9RH2zkissChggoJt63Ek)Mid\\\\-Year 2029:\\n\\n* Most Bullish Projection: 14674\\\\.29 (StockScan)\\n* Most Bearish Projection: 3257\\\\.24 (Traders Union)\\n\\nEnd\\\\-of\\\\-Year 2029:\\n\\n* Most Bullish Projection: 18140 (CoinCodex)\\n* Most Bearish Projection: 3569\\\\.68 (Traders Union)\\n\\n### NVIDIA Stock Price Prediction 2030\\n\\n![](https://lh7-us.googleusercontent.com/RTLEJnpF2sEJ08escCA-CJI4JPDFMUIKzX02PZmjGOh50GKN8NqdVx8HWezDKzXHqpZHOoN3ynhmfOv9eIeqN4jykFaXQdlilNf-GsS2LeTvTN8c_6L2IALMLb-l2D4VOj3vw7OpJ4-VC3OiYI5SRME)### NVIDIA Price Prediction 2030 Onwards\\n\\nWhile NVIDIA stock projections beyond 2030 are uncertain, a few sources offer forecasts.\\n\\n![](https://lh7-us.googleusercontent.com/bPHZenzBPHYTxVAtluF0heDX1lYRtQa0Vh_fRTEBHLXfJwbDqisGqebaqBxYryk8VUgnMzxahTJOXlbD16Ole_DNYrjcYaAc2fn9RCfOfUSEfU0fAvsjLNTvXCoHUVT8GWQcFpGtg2h310gOIuG8sOI)The Bottom Line\\n---------------\\n\\nNVIDIA’s future looks promising with continued growth in AI, data centres, and emerging technologies. Price outlooks are bold, and NVIDIA will certainly remain an interesting player to watch in the coming years. For those interested in capitalising on these opportunities, consider [opening an FXOpen account](https://fxopen.com/open-account/?ref=fxopen.com) to start trading NVIDIA and other stocks via CFDs.\\n\\nFAQs\\n----\\n\\n### What Will NVIDIA Stock Be Worth in 2025?\\n\\nIn 2025, NVIDIA's stock price projections vary widely. Some estimates suggest a range from $1,300 up to around $5,200\\\\. However, many analysts predict the stock will be between $1,500 and $2,000, reflecting strong growth driven by continued advancements in AI and data centres.\\n\\n### Where Will NVIDIA Stock Be in 5 Years Prediction?\\n\\nIn five years, NVIDIA's stock is expected to be worth at least $3,000\\\\. Some analysts believe it could be worth significantly more, depending on the company's performance in emerging markets like AI, autonomous driving, and the Internet of Things (IoT).\\n\\n\\\\*At FXOpen UK and FXOpen AU, Cryptocurrency CFDs are only available for trading by those clients categorised as [**Professional clients**](https://pro.fxopen.co.uk/?ref=fxopen.com) under FCA Rules and [**Professional clients**](https://fxopen.com/en-au/pro/?ref=fxopen.com) under ASIC Rules, respectively. They are not available for trading by Retail clients.\\n\\n*This article represents the opinion of the Companies operating under the FXOpen brand only. It is not to be construed as an offer, solicitation, or recommendation with respect to products and services provided by the Companies operating under the FXOpen brand, nor is it to be considered financial advice.*\\n\\nStay ahead of the market!\\n-------------------------\\n\\nSubscribe now to our mailing list and receive the latest market news and insights delivered directly to your inbox.\\n\\nPlease correct the marked field(s) below.\\n\\n1,true,6,Contact Email,2\\n\\n1,false,1,First Name,2\\n\\n1,false,1,Country,2\\n\\n![](https://campaigns.zoho.eu/images/refresh_icon.png)\\n\\n![](https://fxop-zcmp.maillist-manage.eu/images/spacer.gif)\\n\\n![](https://fxop-zcmp.maillist-manage.eu/images/videoclose.png)\\n\\n### Latest from Trader’s Tools\\n\\n[Analytical ADA Price Forecasts: What Will It Be Worth in 2024–2050?](/blog/en/analytical-ada-price-forecasts-what-will-it-be-worth-in-2024-2050/)\\n[The Quasimodo Pattern: Meaning and Trading Rules](/blog/en/quasimodo-trading-pattern/)\\n[5 Most Popular Momentum Indicators to Use in Trading in 2024](/blog/en/5-best-momentum-indicators-for-trading/)\\n[What Is a Diamond Chart Pattern, and How Can You Trade It?](/blog/en/how-to-trade-the-diamond-chart-pattern/)\\n[The Wyckoff Method: What It Is and How You Can Trade It](/blog/en/the-wyckoff-trading-method/)\\n\\nLatest articles\\n---------------\\n\\n[![](/blog/en/content/images/2024/10/eur.png)](/blog/en/oa-eur-usd-rate-accelerates-decline-following-european-inflation-news/)\\n\\nForex Analysis\\n\\n[### EUR/USD Rate Accelerates Decline Following European Inflation News](/blog/en/oa-eur-usd-rate-accelerates-decline-following-european-inflation-news/)\\nAccording to the Eurostat data released today:\\n→ Core CPI Flash Estimate (YoY): actual \\\\= 2\\\\.7%, expected \\\\= 2\\\\.7%, previous \\\\= 2\\\\.8%;\\n→ CPI Flash Estimate (YoY): actual \\\\= 1\\\\.8%, expected \\\\= 1\\\\.8%, previous \\\\= 2\\\\.2%.\\n\\nThis news, coupled with yesterday’s\\n\\n[![](/blog/en/content/images/2024/10/silver.png)](/blog/en/oa-xag-usd-analysis-silver-price-fails-to-hold-at-11-year-high/)\\n\\nCommodities\\n\\n[### XAG/USD Analysis: Silver Price Fails to Hold at 11\\\\-Year High](/blog/en/oa-xag-usd-analysis-silver-price-fails-to-hold-at-11-year-high/)\\nAs shown on the XAG/USD chart, during the trading session on 26th September, the price of silver surpassed the previous 2024 high (set in July), reaching levels last seen in December 2012\\\\.\\n\\nKey drivers of silver’s price include\\n\\n[![](/blog/en/content/images/2024/10/main-0110_001.jpg)](/blog/en/analytical-ada-price-forecasts-what-will-it-be-worth-in-2024-2050/)\\n\\nTrader’s Tools\\n\\n[### Analytical ADA Price Forecasts: What Will It Be Worth in 2024–2050?](/blog/en/analytical-ada-price-forecasts-what-will-it-be-worth-in-2024-2050/)\\nCardano (ADA) has gained significant attention in the cryptocurrency market for its innovative approach and robust ecosystem. This article provides an in\\\\-depth analysis of Cardano's price forecasts from 2024 to 2050, examining historical trends, key insights, and potential developments to\\n\\n© FXOpen. All rights reserved. Various trademarks held by their respective owners.\\n\\n[FXOpen UK]([@site.url]/) is a trading name of FXOpen Ltd a company registered in England and Wales under company number 07273392 and is authorised and regulated by the [Financial Conduct Authority](https://www.fca.org.uk/) under FCA firm reference number [579202](https://register.fca.org.uk/s/firm?id=001b000000NMhfLAAT). Registered address at 3rd Floor Waverley House, 7\\\\-12 Noel Street, London, United Kingdom, W1F 8GQ.\\n\\n**RISK WARNING:** CFDs are complex instruments and come with a high risk of losing money rapidly due to leverage. 60% of retail investor accounts lose money when trading CFDs with this provider. You should consider whether you understand how CFDs work, and whether you can afford to take the high risk of losing your money. Professional clients can lose more than they deposit. All trading involves risk.\\n\\nThe information on this site is not directed at residents of the United States, Belgium or any particular country outside the UK and is not intended for distribution to, or use by, any person in any country or jurisdiction where such distribution or use would be contrary to local law or regulation.\\n\\nBefore performing any transaction with FXOpen UK, please read the [Terms and Conditions](https://my.fxopen.co.uk/Download?name=FXOL_Terms_v1.3.pdf) and [Disclaimers and Risk Warning](https://my.fxopen.co.uk/Download?name=Disclaimers_and_Risk_Warning.pdf) which may be downloaded from this site or obtained in hard copy by contacting our office.\\n\\n[Privacy](https://fxopen.com/blog/en/privacy/)\\n[Terms (Documents)](https://fxopen.com/blog/en/policy/)\\n[AML](https://fxopen.com/blog/en/aml/)\\n\\nCFDs are complex instruments and come with a high risk of losing money rapidly due to leverage.\\n\\nCFDs are complex instruments and come with a high risk of losing money rapidly due to leverage.\\n **60% of retail investor accounts lose money when trading CFDs with this provider.**\\nYou should consider whether you understand how CFDs work, and whether you can afford to take the high risk of losing your money.\", 1, 1)</details></pre></div><div class='basic-renderer-box respond'><h4 class='step-header'>[10] search_agent responds to Agent</h4><pre class='step-text'>kind: respond\n",
       "copy_output: false\n",
       "\n",
       "<details><summary>2189 characters ...</summary>In late 2022, several factors influenced Nvidia's stock price:\n",
       "\n",
       "1. **Rising Interest Rates and Financial Conditions**: The broader economic environment, including rising interest rates and restrictive financial conditions, negatively impacted Nvidia's stock price. This was a common trend affecting many tech stocks during that period.\n",
       "\n",
       "2. **AI and Data Center Demand**: Despite the broader economic challenges, Nvidia continued to benefit from strong demand for AI and data center technologies. The debut of ChatGPT and the resulting surge in AI adoption marked a significant moment for Nvidia, driving demand for its products.\n",
       "\n",
       "3. **China's Market Dynamics**: Nvidia faced challenges in the Chinese market, which accounted for a significant portion of its sales. Reports indicated that China was boosting local AI chip makers and urging local companies to avoid Nvidia chips, which impacted Nvidia's stock.\n",
       "\n",
       "4. **Stock Splits and Market Reactions**: Nvidia's stock was influenced by market reactions to stock splits and other corporate actions. For instance, the 10-for-1 stock split by AI server provider Super Micro Computer (SMCI) had an impact on Nvidia's stock.\n",
       "\n",
       "5. **Earnings Reports and Analyst Ratings**: Nvidia's earnings reports and analyst ratings played a crucial role. Despite beating analyst estimates in some quarters, the stock experienced volatility due to mixed reactions to its financial performance and future guidance.\n",
       "\n",
       "6. **Technological Advancements and Strategic Initiatives**: Nvidia's advancements in AI, data centers, and emerging technologies like autonomous driving and the Internet of Things (IoT) continued to drive investor interest. Strategic investments and partnerships also contributed to the stock's performance.\n",
       "\n",
       "7. **Regulatory and Competitive Landscape**: Nvidia faced regulatory scrutiny and competition from other tech giants and startups. The Department of Justice's investigation into antitrust regulations concerning Nvidia's AI chip business added to the uncertainty.\n",
       "\n",
       "Overall, Nvidia's stock price in late 2022 was influenced by a combination of macroeconomic factors, market dynamics, technological advancements, and regulatory challenges.</details></pre></div>"
      ],
      "text/plain": [
       "<IPython.core.display.HTML object>"
      ]
     },
     "execution_count": 23,
     "metadata": {},
     "output_type": "execute_result"
    }
   ],
   "source": [
    "from tapeagents.core import Respond\n",
    "from tapeagents.prompting import view_to_messages\n",
    "\n",
    "search_system_instruction = f\"\"\"Use at most 5 tool calls to search the request info on on the web.\"\"\"\n",
    "search_system_message = {\"role\": \"system\", \"content\": search_system_instruction}\n",
    "\n",
    "\n",
    "class SearchAgentMainNode(Node):\n",
    "    def make_prompt(self, agent, tape: DialogTape) -> Prompt:\n",
    "        view = agent.compute_view(tape)\n",
    "        return Prompt(messages=view_to_messages(view.top, agent), tools=search_agent_env.get_tool_schema_dicts())\n",
    "\n",
    "    def generate_steps(self, agent, tape, llm_stream: LLMStream):\n",
    "        m = llm_stream.get_message()\n",
    "        if m.content:\n",
    "            # if the LLM responds, yield Respond(..) as your last step\n",
    "            yield Respond(content=m.content)\n",
    "        elif m.tool_calls:\n",
    "            # while the LLM suggests tool calls, yield them as action steps\n",
    "            yield ToolCalls(tool_calls=m.tool_calls)\n",
    "            yield SetNextNode(next_node=0)\n",
    "        else:\n",
    "            raise ValueError()\n",
    "\n",
    "\n",
    "search_agent = Agent.create(\n",
    "    name=\"search_agent\",\n",
    "    llms=LiteLLM(model_name=\"gpt-4o\", parameters={\"temperature\": 0.1}),\n",
    "    nodes=[SearchAgentMainNode()],\n",
    ")\n",
    "# To test the subagent, we'll make a mock root agent that immediately calls \"search_agent\"\n",
    "call_step = Call(agent_name=\"search_agent\", content=\"What influenced Nvidia stock price in late 2022?\")\n",
    "test_root_agent = Agent.create(subagents=[search_agent], nodes=[Node().with_fixed_steps([call_step])])\n",
    "start_tape = DialogTape()\n",
    "final_tape = None\n",
    "for event in main_loop(test_root_agent, start_tape, search_agent_env):\n",
    "    # We need to stop the loop when \"search_agent\" responds,\n",
    "    # otherwise the code will crash because `test_root_agent` only has one node.\n",
    "    if (ae := event.agent_event) and isinstance(ae.step, Respond):\n",
    "        final_tape = ae.partial_tape\n",
    "        break\n",
    "assert final_tape\n",
    "HTML(render_tape_with_prompts(final_tape, PrettyRenderer()))\n"
   ]
  },
  {
   "cell_type": "markdown",
   "metadata": {},
   "source": [
    "Finally, let's add the search subagent to a financial analyst agent like the ones in earlier examples. We need to give the root agent a way to use the LLM to decide whether to call the search specialist, and if yes, what query to pass to it. We will abuse the tool calling mechanism for this purpose to make the example simpler."
   ]
  },
  {
   "cell_type": "code",
   "execution_count": 24,
   "metadata": {
    "execution": {
     "iopub.execute_input": "2024-10-01T15:25:06.819973Z",
     "iopub.status.busy": "2024-10-01T15:25:06.819808Z",
     "iopub.status.idle": "2024-10-01T15:25:30.443583Z",
     "shell.execute_reply": "2024-10-01T15:25:30.443089Z"
    }
   },
   "outputs": [
    {
     "data": {
      "text/html": [
       "<style>.basic-renderer-box { margin: 4px; padding: 2px; background: lavender; white-space: pre-wrap; color: black;}.basic-prompt-box { margin: 4px; padding: 2px; background: lavender; color: black;}.episode-row { display: flex; align-items: end; }.agent-column { width: 50%; }.user-column { width: 25%; }.annotator-column { width: 25%; }.inner-tape-container { display: flex }.inner-tape-indent { width: 10%; }.inner-tape { width: 90%; }</style><style>.observation { background-color: #baffc9;; }.error_observation { background-color: #dd0000; }.action { background-color: #cccccc; }.thought { background-color: #ffffdb; }.call { background-color: #ffffff; }.respond { background-color: #ffffff; }.step-header { margin: 2pt 2pt 2pt 0 !important; }.step-text { font-size: 12px; white-space: pre-wrap; word-wrap: break-word;}</style><h3>Metadata</h3><details> <summary> Show / Hide </summary> <div class='basic-renderer-box'>author: analyst\n",
       "author_tape_id: null\n",
       "error: null\n",
       "id: 3adab118-aa91-49e4-afdd-7c477707c049\n",
       "n_added_steps: 3\n",
       "parent_id: b4d0e13d-c64c-4ef4-a98e-ef869ffe48e4\n",
       "result: null\n",
       "</div> </details><h3>Steps</h3><div class='basic-renderer-box observation'><h4 class='step-header'>[0] User</h4><pre class='step-text'>kind: user\n",
       "\n",
       "Tell me about Vulcan in 3 sentences</pre></div><div class='basic-renderer-box thought'><h4 class='step-header'>[1] Thought: AssistantThought</h4><pre class='step-text'>kind: assistant_thought\n",
       "\n",
       "1. Use the `functions.get_stock_ticker` tool to obtain the stock ticker symbol for Vulcan.\n",
       "2. Use the `functions.get_stock_data` tool to retrieve the stock price changes for Vulcan over the last year, using the obtained stock ticker symbol.\n",
       "3. Use the `functions.call_search_agent` tool to gather general information about Vulcan, including its business operations and any notable recent events.\n",
       "4. Compile the stock price changes and general information into a concise summary for the user.</pre></div><div class='basic-renderer-box thought'><h4 class='step-header'>[2] Thought: SetNextNode</h4><pre class='step-text'>kind: set_next_node\n",
       "next_node: 1\n",
       "</pre></div><div class='basic-renderer-box action'><h4 class='step-header'>[3] Action: ToolCalls</h4><pre class='step-text'>tool_calls:\n",
       "- function:\n",
       "    arguments: '{\"company_name\": \"Vulcan\"}'\n",
       "    name: get_stock_ticker\n",
       "  id: call_JTpMkvwDNE08nR7Rswiy1HeD\n",
       "  type: function\n",
       "kind: assistant\n",
       "</pre></div><div class='basic-renderer-box observation'><h4 class='step-header'>[4] Observation: ToolResult</h4><pre class='step-text'>tool_call_id: call_JTpMkvwDNE08nR7Rswiy1HeD\n",
       "kind: tool\n",
       "\n",
       "VMC</pre></div><div class='basic-renderer-box thought'><h4 class='step-header'>[5] Thought: SetNextNode</h4><pre class='step-text'>kind: set_next_node\n",
       "next_node: 1\n",
       "</pre></div><div class='basic-renderer-box action'><h4 class='step-header'>[6] Action: ToolCalls</h4><pre class='step-text'>tool_calls:\n",
       "- function:\n",
       "    arguments: '{\"symbol\": \"VMC\", \"start_date\": \"2023-09-17\", \"end_date\": \"2024-09-17\"}'\n",
       "    name: get_stock_data\n",
       "  id: call_qwSlLGDawzHPKOTTbSDlLmOZ\n",
       "  type: function\n",
       "kind: assistant\n",
       "</pre></div><div class='basic-renderer-box observation'><h4 class='step-header'>[7] Observation: ToolResult</h4><pre class='step-text'>tool_call_id: call_qwSlLGDawzHPKOTTbSDlLmOZ\n",
       "kind: tool\n",
       "\n",
       "<details><summary>2195 characters ...</summary>[('2023-09-18', 211.69000244140625), ('2023-09-22', 200.6199951171875), ('2023-09-28', 205.02999877929688), ('2023-10-04', 205.02999877929688), ('2023-10-10', 211.0), ('2023-10-16', 213.0399932861328), ('2023-10-20', 201.5500030517578), ('2023-10-26', 193.97000122070312), ('2023-11-01', 203.8000030517578), ('2023-11-07', 207.2100067138672), ('2023-11-13', 210.49000549316406), ('2023-11-17', 212.35000610351562), ('2023-11-24', 211.67999267578125), ('2023-11-30', 213.55999755859375), ('2023-12-06', 211.92999267578125), ('2023-12-12', 220.89999389648438), ('2023-12-18', 222.6999969482422), ('2023-12-22', 224.92999267578125), ('2023-12-29', 227.00999450683594), ('2024-01-05', 221.6199951171875), ('2024-01-11', 224.36000061035156), ('2024-01-18', 225.1199951171875), ('2024-01-24', 219.8000030517578), ('2024-01-30', 231.0500030517578), ('2024-02-05', 229.64999389648438), ('2024-02-09', 240.0), ('2024-02-15', 242.4600067138672), ('2024-02-22', 256.94000244140625), ('2024-02-28', 262.29998779296875), ('2024-03-05', 264.9800109863281), ('2024-03-11', 264.95001220703125), ('2024-03-15', 266.8599853515625), ('2024-03-21', 275.5899963378906), ('2024-03-27', 272.7900085449219), ('2024-04-03', 268.7699890136719), ('2024-04-09', 265.6199951171875), ('2024-04-15', 260.4700012207031), ('2024-04-19', 252.05999755859375), ('2024-04-25', 258.5400085449219), ('2024-05-01', 259.7300109863281), ('2024-05-07', 268.3500061035156), ('2024-05-13', 270.0899963378906), ('2024-05-17', 259.1000061035156), ('2024-05-23', 257.2099914550781), ('2024-05-30', 254.0800018310547), ('2024-06-05', 251.17999267578125), ('2024-06-11', 244.63999938964844), ('2024-06-17', 256.3500061035156), ('2024-06-24', 247.5800018310547), ('2024-06-28', 248.67999267578125), ('2024-07-05', 244.2100067138672), ('2024-07-11', 254.69000244140625), ('2024-07-17', 255.8000030517578), ('2024-07-23', 260.1499938964844), ('2024-07-29', 264.5299987792969), ('2024-08-02', 266.3399963378906), ('2024-08-08', 246.3300018310547), ('2024-08-14', 242.5), ('2024-08-20', 245.60000610351562), ('2024-08-26', 250.67999267578125), ('2024-08-30', 245.2100067138672), ('2024-09-06', 231.97000122070312), ('2024-09-12', 236.27000427246094)]</details></pre></div><div class='basic-renderer-box thought'><h4 class='step-header'>[8] Thought: SetNextNode</h4><pre class='step-text'>kind: set_next_node\n",
       "next_node: 1\n",
       "</pre></div><div class='basic-renderer-box call'><h4 class='step-header'>[9] analyst calls search_agent</h4><pre class='step-text'>kind: call\n",
       "agent_name: search_agent\n",
       "\n",
       "Vulcan company profile</pre></div><div class='basic-renderer-box action'><h4 class='step-header'>[10] Action: ToolCalls</h4><pre class='step-text'>tool_calls:\n",
       "- function:\n",
       "    arguments: '{\"query\":\"Vulcan company profile\"}'\n",
       "    name: get_search_results\n",
       "  id: call_6ezHqHtRZZ4cFyFBTDegsWe7\n",
       "  type: function\n",
       "kind: assistant\n",
       "</pre></div><div class='basic-renderer-box thought'><h4 class='step-header'>[11] Thought: SetNextNode</h4><pre class='step-text'>kind: set_next_node\n",
       "next_node: 0\n",
       "</pre></div><div class='basic-renderer-box observation'><h4 class='step-header'>[12] Observation: ToolResult</h4><pre class='step-text'>tool_call_id: call_6ezHqHtRZZ4cFyFBTDegsWe7\n",
       "kind: tool\n",
       "\n",
       "<details><summary>1320 characters ...</summary>[{'title': 'Vulcan Materials Co - Company Profile', 'url': 'https://www.globaldata.com/company-profile/vulcan-materials-company/', 'content': 'Vulcan Materials Co (Vulcan) is a manufacturer of construction materials. It sells crushed stone, sand, gravel and aggregates-based building materials. The\\xa0...'}, {'title': 'About Vulcan', 'url': 'https://www.vulcanmaterials.com/about-vulcan', 'content': \"Vulcan Materials Company is the nation's largest producer of construction aggregates—primarily crushed stone, sand and gravel—and a major producer of\\xa0...\"}, {'title': 'About Vulcan', 'url': 'https://v-er.eu/about-vulcan/', 'content': 'Vulcan aims to be the largest, preferred, strategic producer and supplier of lithium chemicals and renewable energy from Europe for Europe.'}, {'title': 'Vulcan Materials Company', 'url': 'https://www.vulcanmaterials.com/', 'content': \"Vulcan Materials Company is the nation's largest producer of construction aggregates—primarily crushed stone, sand and gravel\\xa0...\"}, {'title': 'Vulcan Materials Company (VMC) Company Profile & Facts', 'url': 'https://ca.finance.yahoo.com/quote/VMC/profile/', 'content': 'Vulcan Materials Company, together with its subsidiaries, produces and supplies construction aggregates primarily in the United States. It operates through four\\xa0...'}]</details></pre></div><div class='basic-renderer-box action'><h4 class='step-header'>[13] Action: ToolCalls</h4><pre class='step-text'>tool_calls:\n",
       "- function:\n",
       "    arguments: '{\"url\": \"https://www.globaldata.com/company-profile/vulcan-materials-company/\"}'\n",
       "    name: get_page\n",
       "  id: call_1u0aMkdvvQ8Ooqpx9QseuKNG\n",
       "  type: function\n",
       "- function:\n",
       "    arguments: '{\"url\": \"https://www.vulcanmaterials.com/about-vulcan\"}'\n",
       "    name: get_page\n",
       "  id: call_0aaZsZq8Vgl2WzCUFk4k3qGo\n",
       "  type: function\n",
       "kind: assistant\n",
       "</pre></div><div class='basic-renderer-box thought'><h4 class='step-header'>[14] Thought: SetNextNode</h4><pre class='step-text'>kind: set_next_node\n",
       "next_node: 0\n",
       "</pre></div><div class='basic-renderer-box observation'><h4 class='step-header'>[15] Observation: ToolResult</h4><pre class='step-text'>tool_call_id: call_1u0aMkdvvQ8Ooqpx9QseuKNG\n",
       "kind: tool\n",
       "\n",
       "<details><summary>15988 characters ...</summary>('Title: Vulcan Materials Company Company Profile - Vulcan Materials Company  Overview - GlobalData\\n=======================\\n[![vertical_menu_area_bottom_logo](https://assets.globaldata.com/gdcom/assets/img/logo/gd_blue-3-1-1.webp)](/)\\n\\n* [Visit Corporate Site](/)\\n\\n[Sign in](https://login.globaldata.com/login/index/gdcom?returnUrl=/company-profile/vulcan-materials-company/)\\n\\nSearch\\n\\nMenu\\n\\n* [Sign In](https://login.globaldata.com/login/index/gdcom?returnUrl=/company-profile/vulcan-materials-company/)\\n* [Who We Are](#)\\n\\t+ Who We Are\\n\\t----------\\n\\n\\t![](https://assets.globaldata.com/gdcom/assets/img/bg/site/bg-number-fade.webp)\\n\\t![](https://assets.globaldata.com/gdcom/assets/img/bg/site/bg-target.webp)\\n\\n\\tYour powerful market insights platform.\\n\\t[Book a demo](https://www.globaldata.com/industries-we-cover/globaldata-intelligence-centers/#requestdemo?utm_source=gd_website&utm_medium=top_navigation&utm_campaign=top_nav_ic_banner&utm_content=book_demo)\\n\\n\\t\\t- [Mission \\\\& Values](/who-we-are/mission-and-values/)\\n\\t\\t- [Clients](/who-we-are/clients/)\\n\\t\\t- [Media](/media/)\\n\\t\\t- [People](/who-we-are/people/)\\n\\t\\t- [Why GlobalData](/who-we-are/why-globaldata/)\\n\\t\\t- [Resource Center](/resourcecenter/)\\n\\t\\t- [CSR](/who-we-are/corporate-social-responsibility/)\\n\\t\\t- [Partners](/who-we-are/partners/)\\n\\t\\t- [Careers](https://careers.globaldata.com/)\\n\\t\\t- [History](/who-we-are/who-we-are-history/)\\n\\t\\t- [Investors](https://investors.globaldata.com/)\\n* [Industries We Cover](#)\\n\\t+ Industries We Cover\\n\\t-------------------\\n\\n\\t![](https://assets.globaldata.com/gdcom/assets/img/bg/site/newsletterIntro.webp)\\n\\tYour curated industry news round\\\\-up.\\n\\t[Subscribe now](https://www.globaldata.com/newsletter-subscription/?utm_source=gd_website&utm_medium=top_navigation&utm_campaign=nav_menu_ns_banner&utm_content=subscribe)\\n\\n\\t\\t- [Aerospace, Defense \\\\& Security](/industries-we-cover/aerospace-defense-and-security/)\\n\\t\\t- [Agribusiness](/industries-we-cover/agribusiness/)\\n\\t\\t- [Apparel](/industries-we-cover/apparel/)\\n\\t\\t- [Automotive](/industries-we-cover/automotive/)\\n\\t\\t- [Banking \\\\& Payments](/industries-we-cover/banking-and-payments/)\\n\\t\\t- [Construction](/industries-we-cover/construction/)\\n\\t\\t- [Consumer](/industries-we-cover/consumer/)\\n\\t\\t- [Foodservice](/industries-we-cover/foodservice/)\\n\\t\\t- [Healthcare](/industries-we-cover/healthcare/)\\n\\t\\t- [Insurance](/industries-we-cover/insurance/)\\n\\t\\t- [Medical Devices](/industries-we-cover/medical-devices/)\\n\\t\\t- [Mining](/industries-we-cover/mining/)\\n\\t\\t- [Oil \\\\& Gas](/industries-we-cover/oil-gas/)\\n\\t\\t- [Packaging](/industries-we-cover/packaging/)\\n\\t\\t- [Pharmaceutical](/industries-we-cover/pharmaceutical/)\\n\\t\\t- [Power](/industries-we-cover/power/)\\n\\t\\t- [Public Sector](/industries-we-cover/public-sector/)\\n\\t\\t- [Retail](/industries-we-cover/retail/)\\n\\t\\t- [Technology](/industries-we-cover/technology/)\\n\\t\\t- [Travel \\\\& Tourism](/industries-we-cover/travel-tourism/)\\n\\t\\t- [Sport](/industries-we-cover/sport/)\\n\\t\\t-\\n* [Who We Serve](#)\\n\\t+ Who We Serve\\n\\t------------\\n\\n\\t![](https://assets.globaldata.com/gdcom/assets/img/bg/site/bg-report-singular-dark.webp)\\n\\tBuild your customized intelligence tool.\\n\\t[Book consultation](https://www.globaldata.com/custom-solutions/?utm_source=gd_website&utm_medium=top_navigation&utm_campaign= nav_menu_custom_banner&utm_content=book_consultation )\\n\\n\\t##### Corporates\\n\\n\\t\\t- [C\\\\-Suite](/who-we-serve/c-suite-solution/)\\n\\t\\t- [Innovation and R\\\\&D](/who-we-serve/innovation-and-rd-solution/)\\n\\t\\t- [Market and Competitive Intelligence](/who-we-serve/market-competitive-intelligence-solution/)\\n\\t\\t- [Strategic Planning \\\\& M\\\\&A](/who-we-serve/strategic-planning-ma-solution/)\\n\\t\\t- [Marketing](/who-we-serve/marketing-solution/)\\n\\t\\t- [Business Development](/who-we-serve/business-development-solution/)\\n\\n\\t##### Financial Institutions\\n\\n\\t\\t- [Investment Banking](/who-we-serve/investment-banking-solution/)\\n\\t\\t- [Equity Research](/who-we-serve/equity-research-solution/)\\n\\t\\t- [Investment Management](/who-we-serve/investment-management-solution/)\\n\\t\\t- [Private Equity \\\\& Venture Capital](/who-we-serve/private-equity-venture-capital-solution/)\\n\\n\\t##### Professional Services\\n\\n\\t\\t- [Management Consulting](/who-we-serve/management-consulting-solution/)\\n\\t\\t- [Legal \\\\& Accounting](/who-we-serve/legal-accounting-solution/)\\n\\n\\t##### Other\\n\\n\\t\\t- [Academia](/who-we-serve/academia-solution/)\\n\\t\\t- [Government](/who-we-serve/government-solution/)\\n\\t\\t- [Media \\\\& Advertising](/who-we-serve/media-advertising-solution/)\\n* [What We Offer](#)\\n\\t+ What We Offer\\n\\t-------------\\n\\n\\t![](https://assets.globaldata.com/gdcom/assets/img/bg/site/peak.webp)\\n\\tActionable sector insights \\\\& forecasts.\\n\\t[Browse reports](https://www.globaldata.com/store/?utm_source=gd_website&utm_medium=top_navigation&utm_campaign=nav_menu_report_banner&utm_content=browse_reports)\\n\\n\\t##### Intelligence Centers\\n\\n\\t\\t- [Market Intelligence](https://www.globaldata.com/what-we-offer/intelligence-centers/)\\n\\t\\t- [Thematic Intelligence](https://www.globaldata.com/themes/)\\n\\n\\t##### Consultancy\\n\\n\\t\\t- [Custom Solutions](/custom-solutions/)\\n\\n\\t##### Marketplace\\n\\n\\t\\t- [Report Store](https://www.globaldata.com/store/)\\n\\t\\t- [Company Profiles](/companies/)\\n\\t\\t- [Direct Data Services](/marketplace/)\\n\\t\\t- [Newsletters](/newsletter?utm_source=website&utm_medium=top_navigation)\\n\\t\\t- [Free Intelligence](/data)\\n\\nSearch our premium data\\n-----------------------\\n\\n×\\n\\nVulcan Materials Co \\\\- Company Profile\\n======================================\\n\\nPowered by ![GD logo](../../../../assets/img/logo/gd_blue.png)\\n\\nAll the sales intelligence you need on Vulcan Materials Co in one solution.\\n\\n$395\\n$295\\n\\n[Register your interest](https://www.globaldata.com/store/request-sales-intelligence-demo/?report=3254907)\\n[Learn more](https://www.globaldata.com/store/?cdmsid=1093486)\\n\\n* Save hours of research time with a comprehensive\\nSales Intelligence Solution.\\n* Understand how Vulcan Materials Co fits into your total\\naddressable market and Ideal Customer Profile.\\n* Gain competitive edge with triggers that tell you\\n when and how to engage with Vulcan Materials Co.\\n\\nBack to companies\\n\\n* [Home](/data/)\\n* [All Companies](/companies/listing/search/)\\n* Current: Vulcan Materials Co\\n\\nVulcan Materials Co: Overview\\n=============================\\n\\nShare\\n\\n* Share on Twitter\\n* Share on LinkedIn\\n\\nGet in touch about GlobalData Company reports\\n---------------------------------------------\\n\\nContact the team or request a demo to find out how our data can drive your business forward\\n\\n×\\n\\nSelect Item\\n\\n* [Overview](/company-profile/vulcan-materials-company/)\\n* [Segment Analysis](/company-profile/vulcan-materials-company/analysis/)\\n* [Financials](/company-profile/vulcan-materials-company/financials/)\\n* [Executives](/company-profile/vulcan-materials-company/executives/)\\n* [SWOT Analysis](/company-profile/vulcan-materials-company/swot-analysis/)\\n* [Locations](/company-profile/vulcan-materials-company/locations/)\\n* [Competitors](/company-profile/vulcan-materials-company/competitors/)\\n* [Deals](/company-profile/vulcan-materials-company/deals/)\\n* [Filing Analytics](/company-profile/vulcan-materials-company/filing-analytics/)\\n* [Patents](/company-profile/vulcan-materials-company/patents/)\\n* [Theme Exposure](/company-profile/vulcan-materials-company/theme-exposure/)\\n* [Media](/company-profile/vulcan-materials-company/media/)\\n* [Premium Data](#)\\n\\t+ [Construction Projects](/company-profile/vulcan-materials-company/premium-data/construction-projects/)\\n\\t+ [ICT Spend \\\\& Tech Priorities](/company-profile/vulcan-materials-company/premium-data/ict-spend-tech-priorities/)\\n\\n#### Related keylists\\n\\n* [Top 10 Mining Companies in the World in 2021 by Number of Operating Mines](/companies/top-companies-by-sector/mining/global-companies-by-no-of-operating-mines/ \"Top 10 Mining Companies in the World in 2021 by Number of Operating Mines\")\\n* [Top 10 Cement Companies in the World in 2021 by Revenue](/companies/top-companies-by-sector/construction/global-cement-companies-by-revenue/ \"Top 10 Cement Companies in the World in 2021 by Revenue\")\\n* [Top 10 Mining Companies in the World in 2021 by Total ROM](/companies/top-companies-by-sector/mining/global-companies-by-total-rom/ \"Top 10 Mining Companies in the World in 2021 by Total ROM\")\\n\\nVulcan Materials Co (Vulcan) is a manufacturer of construction materials. It sells crushed stone, sand, gravel and aggregates\\\\-based building materials. The company offers asphalt paving materials such as, construction aggregates, additives, and modifiers. It also sells ready\\\\-mix concrete such as fine aggregates, cementitious binders, coarse aggregates and water, and railroad ballast and other track materials. Vulcan offers recycled materials, and agricultural, chemical and industrial materials. These products find application in the construction of roads, bridges, parking lots, houses and apartments, commercial buildings, power plants, schools, hospitals, retail space, sewer systems, and airports and runways. Vulcan is headquartered in Birmingham, Alabama, the US.\\n\\n Gain a 360\\\\-degree view of Vulcan Materials Co and make more informed decisions for your business\\n\\n Gain a 360\\\\-degree view of Vulcan Materials Co and make more informed decisions for your business\\n\\n[Learn more](https://www.globaldata.com/store/?cdmsid=1093486)\\n\\nHeadquarters\\nUnited States of America\\n\\n---\\n\\nAddress\\n1200 Urban Center Dr, Birmingham, Alabama, 35242\\n\\n---\\n\\nWebsite\\n\\n[www.vulcanmaterials.com](http://www.vulcanmaterials.com)\\n\\n---\\n\\nTelephone\\n1 205 2983000\\n\\n---\\n\\nNo of Employees\\n10,382\\n\\n---\\n\\nIndustry\\nConstruction\\n\\n---\\n\\nTicker Symbol \\\\& Exchange\\nVMC (NYSE)\\n\\n---\\n\\nRevenue (2022\\\\)\\n$7\\\\.8B\\n\\n 6\\\\.4%\\n\\n(2022 vs 2021\\\\)\\n\\n---\\n\\nEPS\\nXYZ\\n\\n---\\n\\nNet Income (2022\\\\)\\nXYZ\\n\\n 62\\\\.1%\\n\\n(2022 vs 2021\\\\)\\n\\n---\\n\\nMarket Cap\\\\*\\n$32\\\\.1B\\n\\n---\\n\\nNet Profit Margin (2022\\\\)\\nXYZ\\n\\n 52\\\\.4%\\n\\n(2022 vs 2021\\\\)\\n\\n---\\n\\n \\\\* As of  and is in US$\\n\\n[View Vulcan Materials Co financials](/company-profile/vulcan-materials-company/financials/)\\n\\n Gain access to our premium signals and make informed decisions for your business\\n\\n Gain access to our premium signals and make informed decisions for your business\\n\\n[Learn more](https://www.globaldata.com/store/?cdmsid=1093486)\\n\\nVulcan Materials Co premium industry data and analytics\\n-------------------------------------------------------\\n\\n6\\n-\\n\\n#### [Construction Projects](/company-profile/vulcan-materials-company/premium-data/construction-projects/)\\n\\nAccess new construction projects and identify projects matching key criteria such as location, stage, sector, size, funding\\xa0 and many others.\\n\\n1\\n-\\n\\n#### [ICT Spend \\\\& Tech Priorities](/company-profile/vulcan-materials-company/premium-data/ict-spend-tech-priorities/)\\n\\nIT Client Prospector provides intelligence on Vulcan Materials Co’s likely spend across technology areas enabling you to understand the digital strategy.\\n\\nProducts and Services\\n---------------------\\n\\n| Products |\\n| --- |\\n| Aggregates: |\\n| Asphalt |\\n| Ready\\\\-Mix Concrete |\\n| XYZ |\\n| XYZ |\\n| XYZ |\\n\\n Understand Vulcan Materials Co portfolio and identify potential areas for collaboration\\n\\n Understand Vulcan Materials Co portfolio and identify potential areas for collaboration\\n\\n[Learn more](https://www.globaldata.com/store/?cdmsid=1093486)\\n\\nHistory\\n-------\\n\\nHistory section provides information on new products, mergers, acquisitions, expansions, approvals, and many more key events.\\n\\n| Year | Event | Description |\\n| --- | --- | --- |\\n| 2024 | Contracts/Agreements | In September, the company entered into an agreement to acquire WAKE STONE CORPORATION. |\\n| 2024 | Acquisitions/Mergers/Takeovers | In May, the company acquired Whitaker Contracting Corp. |\\n| 2022 | Acquisitions/Mergers/Takeovers | In August, the company acquired Syar Industries Inc., a construction materials producer. |\\n\\n Dive into past operations, including product releases, deals, acquisitions \\\\& more\\n\\n Dive into past operations, including product releases, deals, acquisitions \\\\& more\\n\\n[Learn more](https://www.globaldata.com/store/?cdmsid=1093486)\\n\\n![Image for loader](https://assets.globaldata.com/gdcom/assets/img/ajax-loadernew.gif)\\n\\nCompetitor Comparison\\n---------------------\\n\\n| **Key Parameters** | Vulcan Materials Co | CRH Plc | Holcim Ltd | Heidelberg Materials AG | CEMEX SAB de CV |\\n| --- | --- | --- | --- | --- | --- |\\n| Headquarters | United States of America | Ireland | Switzerland | Germany | Mexico |\\n| City | Birmingham | Dublin | Zug | Heidelberg | San Pedro Garza Garcia |\\n| State/Province | Alabama | Dublin | \\\\- | Baden\\\\-Wurttemberg | Nuevo Leon |\\n| No. of Employees | 10,382 | 78,500 | 63,448 | 51,726 | 46,134 |\\n| Entity Type | Public | Public | Public | Public | Public |\\n\\n Benchmark the company against the market with exclusive information on key competitors\\n\\n Benchmark the company against the market with exclusive information on key competitors\\n\\n[Learn more](https://www.globaldata.com/store/?cdmsid=1093486)\\n\\nKey Financial Charts\\n--------------------\\n\\nSales Growth\\n------------\\n\\nShare\\n\\n* Share on Twitter\\n* Share on LinkedIn\\n\\n![Image for loader](https://assets.globaldata.com/gdcom/assets/img/ajax-loadernew.gif)\\n\\nNet Income Growth\\n-----------------\\n\\nShare\\n\\n* Share on Twitter\\n* Share on LinkedIn\\n\\n![Image for loader](https://assets.globaldata.com/gdcom/assets/img/ajax-loadernew.gif)\\n\\n Chart Financial activity with access to more key stats\\n\\n Chart Financial activity with access to more key stats\\n\\n[Learn more](https://www.globaldata.com/store/?cdmsid=1093486)\\n\\n##### Executives\\n\\n| Name | Position | Board | Since | Age |\\n| --- | --- | --- | --- | --- |\\n| J. Thomas Hill | Chief Executive Officer; Chairman | Executive Board | 2015 | 65 |\\n| Mary Andrews Carlisle | Senior Vice President; Chief Financial Officer | Senior Management | 2022 | 43 |\\n| Ronnie A. Pruitt | Chief Operating Officer | Senior Management | 2023 | 53 |\\n| Stanley G. Bass | Chief Strategy Officer | Senior Management | 2021 | 62 |\\n| Krzysztof Soltan | Chief Information Officer | Senior Management | 2022 | \\\\- |\\n| Non Dignissim Eros | Proin vel | Convallis | 2024 | XY |\\n| Non Dignissim Eros | Proin vel | Convallis | 2024 | XY |\\n| Non Dignissim Eros | Proin vel | Convallis | 2024 | XY |\\n\\n Gain insight into Vulcan Materials Co key executives to enhance your sales strategy\\n\\n Gain insight into Vulcan Materials Co key executives to enhance your sales strategy\\n\\n[Learn more](https://www.globaldata.com/store/?cdmsid=1093486)\\n\\nStill looking?\\n\\nHave you found what you were looking for? From start\\\\-ups to market leaders, uncover what they do and\\u202fhow they do it.\\n\\n[Search companies](/companies/listing/search/)\\nContinue on page\\n\\n×\\n\\nExplorer\\n\\nAccess more premium companies when you subscribe to Explorer\\n\\n[Find out more](/industries-we-cover/globaldata-explorer/)\\n[Close](javascript:void(0))\\n\\n×\\n\\n![vertical_menu_area_bottom_logo](https://assets.globaldata.com/gdcom/assets/img/logo/gd_blue-3-1-1.webp)\\n\\n---\\n\\n* [Hot Topics](https://hot-topics.globaldata.com/)\\n* [Terms \\\\& Conditions](https://www.globaldata.com/terms-conditions/)\\n* [Privacy Policy](https://www.globaldata.com/privacy-policy/)\\n* [Contact Us](https://www.globaldata.com/contact-us/)\\n* [Sitemap](https://www.globaldata.com/sitemap/)\\n* [Modern Slavery Statement](https://www.globaldata.com/wp-content/uploads/2021/03/FY2122-Modern-Slavery-FINAL.pdf)\\n\\n---\\n\\n[Top of page](#pg-top)\\n\\n© GlobalData Plc 2024 \\\\| Registered Office: John Carpenter House, John Carpenter Street, London, EC4Y 0AN, UK \\\\| Registered in England No. 03925319', 1, 1)</details></pre></div><div class='basic-renderer-box observation'><h4 class='step-header'>[16] Observation: ToolResult</h4><pre class='step-text'>tool_call_id: call_0aaZsZq8Vgl2WzCUFk4k3qGo\n",
       "kind: tool\n",
       "\n",
       "<details><summary>11812 characters ...</summary>('Title: \\n\\tAbout Vulcan\\n\\n=======================\\n[![Vulcan Materials Company](https://vulcanmaterials.azureedge.net/content-v2/images/default-source/default-album/vulcan-materials-logo.png?sfvrsn=c2926ad1_1 \"Vulcan Materials Company\")](https://www.vulcanmaterials.com/)\\n\\n* [Careers](/careers)\\n* [News Releases](http://ir.vulcanmaterials.com/investor-relations/news-releases/default.aspx)\\n* [Employees](https://vul.onelogin.com)\\n* [Contact](/contact)\\n\\n| [Vulcan\\'s Statement on Inclusion \\\\& Diversity](https://csr.vulcanmaterials.com/2020/07/diversity-statement/) [Website Accessibility Statement](/accessibility-statement) |\\n| --- |\\n\\n[![Facebook](https://vulcanmaterials.azureedge.net/content-v2/images/default-source/default-album/f_logo_rgb-hex-blue_512.png?sfvrsn=effc00bb_1)](https://www.facebook.com/VulcanMaterialsCompany/)\\xa0\\xa0[![Instagram](https://vulcanmaterials.azureedge.net/content-v2/images/default-source/default-album/instagram_appicon_aug2017.png?sfvrsn=b5c79c26_1)](https://www.instagram.com/vulcanmaterialscompany/)\\xa0\\xa0[![YouTube](https://vulcanmaterials.azureedge.net/content-v2/images/default-source/default-album/youtube-35px.png?sfvrsn=4dffab8d_1)](https://www.youtube.com/user/VulcanCorporate/videos)\\xa0\\xa0[![LinkedIn](https://vulcanmaterials.azureedge.net/content-v2/images/default-source/default-album/linkedin-35px.png?sfvrsn=c4e982b3_1)](https://www.linkedin.com/company/vulcan-materials-company/)\\n\\n* [About Vulcan](https://www.vulcanmaterials.com/about-vulcan)\\n\\n![](https://vulcanmaterials.azureedge.net/content-v2/images/default-source/navigation-images/about-vulcan.png?sfvrsn=bb5ab483_1)\\n\\n\\t+ [History](https://www.vulcanmaterials.com/about-vulcan/history)\\n\\t+ [Mission and Values](https://www.vulcanmaterials.com/about-vulcan/mission-and-values)\\n\\t+ [Executive Management](https://www.vulcanmaterials.com/about-vulcan/executive-management)\\n\\t+ [Corporate Office](https://www.vulcanmaterials.com/about-vulcan/corporate-office)\\n\\t+ [Industry Links](https://www.vulcanmaterials.com/about-vulcan/industry-links)\\n\\t+ [Careers](https://www.vulcanmaterials.com/about-vulcan/careers)\\n* [Construction Materials](https://www.vulcanmaterials.com/construction-materials)\\n\\n![](https://vulcanmaterials.azureedge.net/content-v2/images/default-source/navigation-images/construction-materials.png?sfvrsn=e2b2e8f0_1)\\n\\n\\t+ [MyVulcan](https://www.vulcanmaterials.com/construction-materials/myvulcan)\\n\\t+ [Product Sales](https://www.vulcanmaterials.com/construction-materials/product-sales)\\n\\t+ [Products and Services](https://www.vulcanmaterials.com/construction-materials/products-and-services)\\n\\t+ [Suppliers](https://www.vulcanmaterials.com/construction-materials/suppliers)\\n\\t+ [Facilities Map](https://www.vulcanmaterials.com/construction-materials/facilities-map)\\n\\t+ [Operating Groups](https://www.vulcanmaterials.com/construction-materials/operating-groups)\\n\\t+ [Product Calculators](https://www.vulcanmaterials.com/construction-materials/product-calculators)\\n\\t+ [Credit Applications](https://www.vulcanmaterials.com/construction-materials/credit-applications)\\n\\t+ [Safety Data Sheets](https://www.vulcanmaterials.com/construction-materials/safety-data-sheets)\\n\\t+ [Product Declaration](https://www.vulcanmaterials.com/construction-materials/product-declaration)\\n\\t+ [Facilities](https://www.vulcanmaterials.com/construction-materials/facilities)\\n* [Investor Relations](https://www.vulcanmaterials.com/investor-relations)\\n\\n![](https://vulcanmaterials.azureedge.net/content-v2/images/default-source/navigation-images/thmb-overview.jpg?sfvrsn=bfa2dc74_1)\\n\\n\\t+ [Overview](https://www.vulcanmaterials.com/investor-relations/overview)\\n\\t+ [Why Invest](https://www.vulcanmaterials.com/investor-relations/why-invest)\\n\\t+ [News](https://www.vulcanmaterials.com/investor-relations/news)\\n\\t+ [Events \\\\& Presentations](https://www.vulcanmaterials.com/investor-relations/events-presentations)\\n\\t+ [Stock Info](https://www.vulcanmaterials.com/investor-relations/stock-info)\\n\\t+ [Financials](https://www.vulcanmaterials.com/investor-relations/financials)\\n\\t+ [Governance](https://www.vulcanmaterials.com/investor-relations/governance)\\n\\t+ [Link to Earnings Call](https://www.vulcanmaterials.com/investor-relations/link-to-earnings-call)\\n\\t+ [Link to 2022 Investor Day](https://www.vulcanmaterials.com/investor-relations/link-to-2022-investor-day)\\n* [Social Responsibility](https://www.vulcanmaterials.com/social-responsibility)\\n\\n![](https://vulcanmaterials.azureedge.net/content-v2/images/default-source/navigation-images/social-responsibility.jpg?sfvrsn=189cf41b_1)\\n\\n\\t+ [2023 Sustainability Report](https://www.vulcanmaterials.com/social-responsibility/2023-sustainability-report)\\n\\t+ [Safety \\\\& Health](https://www.vulcanmaterials.com/social-responsibility/safety-health)\\n\\t+ [Environmental Stewardship](https://www.vulcanmaterials.com/social-responsibility/environmental-stewardship)\\n\\t+ [People](https://www.vulcanmaterials.com/social-responsibility/people)\\n\\t+ [Community](https://www.vulcanmaterials.com/social-responsibility/community)\\n\\t+ [Governance](https://www.vulcanmaterials.com/social-responsibility/governance)\\n\\t+ [Teacher Center](https://www.vulcanmaterials.com/social-responsibility/teacher-center)\\n\\t+ [Vulcan Foundation](https://www.vulcanmaterials.com/social-responsibility/vulcan-foundation)\\n\\nAbout Vulcan\\n============\\n\\n* [About Vulcan](https://www.vulcanmaterials.com/about-vulcan)\\n\\n\\t+ [History](https://www.vulcanmaterials.com/about-vulcan/history)\\n\\t+ [Mission and Values](https://www.vulcanmaterials.com/about-vulcan/mission-and-values)\\n\\t+ [Executive Management](https://www.vulcanmaterials.com/about-vulcan/executive-management)\\n\\t+ [Corporate Office](https://www.vulcanmaterials.com/about-vulcan/corporate-office)\\n\\t+ [Industry Links](https://www.vulcanmaterials.com/about-vulcan/industry-links)\\n\\t+ [Careers](https://www.vulcanmaterials.com/about-vulcan/careers)\\n\\n* [Home](https://www.vulcanmaterials.com/)\\n\\\\>\\n* About Vulcan\\n\\nOur business is built on essentials. What we mine and sell—aggregates—are indispensable to infrastructure and growth. How we run our company also comes down to essentials. We run our business with great discipline and integrity. We maintain a great place to work and grow. We take care of the land through the entire cycle of productive use from mining to restoration and re\\\\-use. We serve our customers and communities well. Always with the long view in mind. This is how we sustain success.\\n\\nWe are Vulcan. And we deliver value.\\n\\n![About Vulcan](https://vulcanmaterials.azureedge.net/content-v2/images/default-source/about-vulcan/aboutlanding_body.png?sfvrsn=c96e2a2f_1)\\n\\nVulcan Materials Company is the nation’s largest producer of construction aggregates—primarily crushed stone, sand and gravel—and a major producer of aggregates\\\\-based construction materials including asphalt and ready\\\\-mixed concrete. Our coast\\\\-to\\\\-coast footprint and strategic distribution network align with and serve the nation’s growth centers. We are headquartered in Birmingham, Alabama.\\n\\nVulcan has over\\xa0404\\\\*\\xa0active aggregates facilities, and\\xa071\\\\*\\xa0asphalt facilities and\\xa0142\\\\*\\xa0concrete facilities, which also consume aggregates.\\xa0Most\\xa0are located in the U.S. except for our quarries and marine terminals on Vancouver Island in British Columbia, Canada,\\xa0Honduras\\xa0and Mexico’s Yucatán Peninsula.\\n\\nWhat we produce is used in nearly all forms of construction. In particular, large quantities of aggregates are used to build and repair valuable infrastructure such as roads, bridges, waterworks and ports, and to construct buildings both residential and nonresidential, such as manufacturing facilities, office buildings, schools, hospitals and churches.\\n\\n\\xa0\\\\* Data from 2022 10k and Annual Report\\n\\n[Meet Vulcan\\'s Leadership](https://ir.vulcanmaterials.com/governance/executive-management/default.aspx)\\n\\n[Vulcan Corporate Office](/about-vulcan/corporate-office)\\n\\n[Vulcan History](/about-vulcan/history)\\n\\n[Industry Links](/about-vulcan/industry-links)\\n\\n### [Contact](/contact)\\n\\n**Vulcan Materials Company**\\nCorporate Office\\n1200 Urban Center Drive\\nBirmingham, AL 35242\\nTel: (205\\\\) 298\\\\-3000\\n\\nPlease follow the hyperlinks to review the [Business Conduct Policy](https://s3.us-east-2.amazonaws.com/files.vulcanmaterials.com/vmc/Business-Conduct-Policy.pdf) or to report [concerns](https://secure.ethicspoint.com/domain/media/en/gui/16082/index.html).\\n\\nSiga los hipervínculos para revisar la\\xa0[Política de Conducta Empresarial](https://s3.us-east-2.amazonaws.com/files.vulcanmaterials.com/vmc/VMC-Business_Conduct_Policy_Spanish-2021.pdf)\\xa0o para reportar algún\\xa0[problema](https://secure.ethicspoint.com/domain/media/es/gui/16082/index.html).\\n\\nContact us for\\xa0[Product Sales](/construction-materials/product-sales).\\n\\n![](https://vulcanmaterials.azureedge.net/content-v2/images/default-source/default-album/footer_aboutvulcan.png?sfvrsn=a4a41105_1)\\n\\n![](https://vulcanmaterials.azureedge.net/content-v2/images/default-source/default-album/footer_constructionmaterials.png?sfvrsn=c59fead5_1)\\n\\n![](https://vulcanmaterials.azureedge.net/content-v2/images/default-source/default-album/footer_investorrelations.png?sfvrsn=3d684e71_1)\\n\\n![](https://vulcanmaterials.azureedge.net/content-v2/images/default-source/default-album/social-responsibility-footer.jpg?sfvrsn=c6651106_1)\\n\\nAbout Vulcan\\n\\n* [History](/about-vulcan/history)\\n* [Mission and Values](/about-vulcan/mission-and-values)\\n* [Executive Management](/about-vulcan/executive-management)\\n* [Corporate Office](/about-vulcan/corporate-office)\\n* [Industry Links](/about-vulcan/industry-links)\\n* [Careers](/about-vulcan/careers)\\n\\nConstruction Materials\\n\\n* [MyVulcan](/construction-materials/myvulcan)\\n* [Product Sales](/construction-materials/product-sales)\\n* [Products and Services](/construction-materials/products-and-services)\\n* [Suppliers](/construction-materials/suppliers)\\n* [Facilities Map](/construction-materials/facilities-map)\\n* [Operating Groups](/construction-materials/operating-groups)\\n* [Product Calculators](/construction-materials/product-calculators)\\n* [Credit Applications](/construction-materials/credit-applications)\\n* [Safety Data Sheets](/construction-materials/safety-data-sheets)\\n* [Product Declaration](/construction-materials/product-declaration)\\n* [Facilities](/construction-materials/facilities)\\n\\nInvestor Relations\\n\\n* [Overview](/investor-relations/overview)\\n* [Why Invest](/investor-relations/why-invest)\\n* [News](/investor-relations/news)\\n* [Events \\\\& Presentations](/investor-relations/events-presentations)\\n* [Stock Info](/investor-relations/stock-info)\\n* [Financials](/investor-relations/financials)\\n* [Governance](/investor-relations/governance)\\n* [Link to Earnings Call](/investor-relations/link-to-earnings-call)\\n* [Link to 2022 Investor Day](/investor-relations/link-to-2022-investor-day)\\n\\nSocial Responsibility\\n\\n* [2023 Sustainability Report](/social-responsibility/2023-sustainability-report)\\n* [Safety \\\\& Health](/social-responsibility/safety-health)\\n* [Environmental Stewardship](/social-responsibility/environmental-stewardship)\\n* [People](/social-responsibility/people)\\n* [Community](/social-responsibility/community)\\n* [Governance](/social-responsibility/governance)\\n* [Teacher Center](/social-responsibility/teacher-center)\\n* [Vulcan Foundation](/social-responsibility/vulcan-foundation)\\n\\n* [Site Map](/site-map)\\n* [Terms of Use](/terms-of-use)\\n* [Privacy Policy](/privacy-policy)\\n* [California Residents\\' Privacy Notice](/california-privacy-notice)\\n* [Contact Us About Our Site](/contact)\\n© 2024 Vulcan Materials Company', 1, 1)</details></pre></div><div class='basic-renderer-box respond'><h4 class='step-header'>[17] search_agent responds to analyst</h4><pre class='step-text'>kind: respond\n",
       "copy_output: false\n",
       "\n",
       "<details><summary>2978 characters ...</summary>### Vulcan Materials Company Profile\n",
       "\n",
       "#### Overview\n",
       "Vulcan Materials Company is the largest producer of construction aggregates in the United States, primarily dealing in crushed stone, sand, and gravel. The company also produces aggregates-based construction materials, including asphalt and ready-mixed concrete. Vulcan's operations are strategically aligned with the nation's growth centers, and the company is headquartered in Birmingham, Alabama.\n",
       "\n",
       "#### Key Facts\n",
       "- **Headquarters:** Birmingham, Alabama, USA\n",
       "- **Industry:** Construction\n",
       "- **Ticker Symbol & Exchange:** VMC (NYSE)\n",
       "- **Revenue (2022):** $7.8 billion\n",
       "- **Number of Employees:** 10,382\n",
       "- **Market Cap:** $32.1 billion (as of the latest available data)\n",
       "- **Website:** [Vulcan Materials](http://www.vulcanmaterials.com)\n",
       "\n",
       "#### Products and Services\n",
       "- **Aggregates:** Crushed stone, sand, gravel\n",
       "- **Asphalt:** Paving materials, construction aggregates, additives, and modifiers\n",
       "- **Ready-Mix Concrete:** Fine aggregates, cementitious binders, coarse aggregates, and water\n",
       "- **Recycled Materials:** Agricultural, chemical, and industrial materials\n",
       "- **Other Products:** Railroad ballast and other track materials\n",
       "\n",
       "#### Applications\n",
       "Vulcan's products are used in various construction projects, including:\n",
       "- Roads and bridges\n",
       "- Parking lots\n",
       "- Residential and commercial buildings\n",
       "- Power plants\n",
       "- Schools and hospitals\n",
       "- Sewer systems\n",
       "- Airports and runways\n",
       "\n",
       "#### Facilities\n",
       "- **Aggregates Facilities:** 404 active facilities\n",
       "- **Asphalt Facilities:** 71 facilities\n",
       "- **Concrete Facilities:** 142 facilities\n",
       "- **International Operations:** Quarries and marine terminals in British Columbia, Canada, Honduras, and Mexico’s Yucatán Peninsula\n",
       "\n",
       "#### Financial Performance\n",
       "- **Revenue Growth (2022 vs 2021):** 6.4%\n",
       "- **Net Income Growth (2022 vs 2021):** 62.1%\n",
       "- **Net Profit Margin (2022):** 52.4%\n",
       "\n",
       "#### Executive Management\n",
       "- **J. Thomas Hill:** Chief Executive Officer and Chairman\n",
       "- **Mary Andrews Carlisle:** Senior Vice President and Chief Financial Officer\n",
       "- **Ronnie A. Pruitt:** Chief Operating Officer\n",
       "- **Stanley G. Bass:** Chief Strategy Officer\n",
       "- **Krzysztof Soltan:** Chief Information Officer\n",
       "\n",
       "#### Social Responsibility\n",
       "Vulcan Materials Company emphasizes sustainability and social responsibility through various initiatives:\n",
       "- **Safety & Health:** Ensuring the safety and health of employees and communities\n",
       "- **Environmental Stewardship:** Commitment to environmental protection and sustainable practices\n",
       "- **Community Engagement:** Active participation in community development and support\n",
       "- **Governance:** Adherence to high standards of corporate governance\n",
       "\n",
       "#### Contact Information\n",
       "- **Corporate Office:** 1200 Urban Center Drive, Birmingham, AL 35242\n",
       "- **Telephone:** 1 205 298-3000\n",
       "\n",
       "For more detailed information, you can visit their [official website](http://www.vulcanmaterials.com) or their [company profile on GlobalData](https://www.globaldata.com/company-profile/vulcan-materials-company/).</details></pre></div><div class='basic-renderer-box thought'><h4 class='step-header'>[18] Thought: SetNextNode</h4><pre class='step-text'>kind: set_next_node\n",
       "next_node: 0\n",
       "</pre></div><div class='basic-renderer-box action'><h4 class='step-header'>[19] Assistant</h4><pre class='step-text'>kind: assistant\n",
       "\n",
       "Vulcan Materials Company (NYSE: VMC) is the largest producer of construction aggregates in the United States, specializing in crushed stone, sand, and gravel. Over the past year, Vulcan's stock price has seen significant fluctuations, starting at approximately $211.69 in September 2023 and reaching a high of around $275.59 in March 2024, before settling at $236.27 in September 2024. Headquartered in Birmingham, Alabama, Vulcan also produces asphalt and ready-mixed concrete, and operates numerous facilities across the U.S. and internationally.</pre></div>"
      ],
      "text/plain": [
       "<IPython.core.display.HTML object>"
      ]
     },
     "metadata": {},
     "output_type": "display_data"
    }
   ],
   "source": [
    "from tapeagents.core import SetNextNode\n",
    "from tapeagents.dialog_tape import AssistantThought, ToolCalls\n",
    "from tapeagents.prompting import view_to_messages\n",
    "from tapeagents.runtime import MainLoopStatus, main_loop\n",
    "from tapeagents.view import Call\n",
    "from IPython.display import clear_output\n",
    "\n",
    "system_instruction = f\"\"\"\n",
    "You will help the user to learn about financials of companies. \n",
    "For general user queries, include some info about stock price changes during the last year, as well as some general information on the company.\n",
    "Today is {today}.\n",
    "\"\"\"\n",
    "system_message = {\"role\": \"system\", \"content\": system_instruction}\n",
    "\n",
    "\n",
    "class PlanNode(Node):\n",
    "    def make_prompt(self, agent, tape) -> Prompt:\n",
    "        view = agent.compute_view(tape)\n",
    "        guidance = \"Write a natural language plan on how to use tools help the user. Output a list of numbered items, like 1., 2., 3., etc.\"\n",
    "        guidance_message = {\"role\": \"user\", \"content\": guidance}\n",
    "        return Prompt(\n",
    "            messages=[system_message] + view_to_messages(view.top, agent) + [guidance_message],\n",
    "            tools=main_agent_env.get_tool_schema_dicts(),\n",
    "        )\n",
    "\n",
    "    def generate_steps(self, agent, dialog, llm_stream: LLMStream):\n",
    "        if content := llm_stream.get_message().content:\n",
    "            yield AssistantThought(content=content)\n",
    "        else:\n",
    "            raise ValueError()\n",
    "\n",
    "\n",
    "class ActNode(Node):\n",
    "    def make_prompt(self, agent, tape: DialogTape) -> Prompt:\n",
    "        view = agent.compute_view(tape)\n",
    "        guidance = \"Follow the plan you created to earlier. When you are done, respond to the user.\"\n",
    "        guidance_message = {\"role\": \"user\", \"content\": guidance}\n",
    "        return Prompt(\n",
    "            messages=[system_message] + view_to_messages(view.top, agent) + [guidance_message],\n",
    "            tools=main_agent_env.get_tool_schema_dicts(),\n",
    "        )\n",
    "\n",
    "    def generate_steps(self, agent, dialog, llm_stream: LLMStream):\n",
    "        m = llm_stream.get_message()\n",
    "        if m.content:\n",
    "            yield SetNextNode(next_node=0)\n",
    "            yield AssistantStep(content=m.content)\n",
    "        elif m.tool_calls:\n",
    "            yield SetNextNode(next_node=1)\n",
    "            # only keep the tool calls before the call to another agent\n",
    "            tool_calls = []\n",
    "            for tc in m.tool_calls:\n",
    "                if tc.function.name == \"call_search_agent\":\n",
    "                    break\n",
    "                else:\n",
    "                    tool_calls.append(tc)\n",
    "            # either produce the ToolCalls action OR call another agent\n",
    "            if tool_calls:\n",
    "                yield ToolCalls(tool_calls=tool_calls)\n",
    "            else:\n",
    "                tc = m.tool_calls[0]\n",
    "                assert tc.function.name == \"call_search_agent\"\n",
    "                yield Call(agent_name=\"search_agent\", content=json.loads(m.tool_calls[0].function.arguments)[\"query\"])\n",
    "\n",
    "        else:\n",
    "            raise ValueError()\n",
    "\n",
    "\n",
    "multi_agent_analyst = Agent.create(\n",
    "    name=\"analyst\",\n",
    "    subagents=[search_agent.clone()],\n",
    "    llms=LiteLLM(model_name=\"gpt-4o\", parameters={\"temperature\": 0.1}),\n",
    "    nodes=[PlanNode(), ActNode()],\n",
    ")\n",
    "\n",
    "print(\"Run the agent!\")\n",
    "start_tape = DialogTape(steps=[UserStep(content=\"Tell me about Vulcan in 3 sentences\")])\n",
    "for event in main_loop(multi_agent_analyst, start_tape, whole_env):\n",
    "    # This agent runs for a while, so we will show you a fresh render every time\n",
    "    # when the environment finishes reacting with new actions\n",
    "    if new_tape := event.agent_tape or event.env_tape:\n",
    "        clear_output()\n",
    "        display(HTML(render_tape_with_prompts(new_tape, PrettyRenderer())))\n",
    "    # Uncomment this if you want to pause after every loop\n",
    "    # if event.env_tape:\n",
    "    #     input(\"Press Enter the run the next iteration of the main loop\")\n",
    "    if event.status == MainLoopStatus.EXTERNAL_INPUT_NEEDED:\n",
    "        break\n"
   ]
  },
  {
   "cell_type": "markdown",
   "metadata": {},
   "source": [
    "Look at this rather long tape and note how \"analyst\" calls \"search_agent\", and how the latter then responds to \"analyst\". Congratulations, you now know how to build a multi-agent TapeAgent!"
   ]
  }
 ],
 "metadata": {
  "kernelspec": {
   "display_name": "tapeagents",
   "language": "python",
   "name": "python3"
  },
  "language_info": {
   "codemirror_mode": {
    "name": "ipython",
    "version": 3
   },
   "file_extension": ".py",
   "mimetype": "text/x-python",
   "name": "python",
   "nbconvert_exporter": "python",
   "pygments_lexer": "ipython3",
   "version": "3.10.14"
  }
 },
 "nbformat": 4,
 "nbformat_minor": 2
}
