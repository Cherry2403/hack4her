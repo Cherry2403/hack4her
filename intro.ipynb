{
 "cells": [
  {
   "cell_type": "markdown",
   "metadata": {},
   "source": [
    "# Welcome to TapeAgents!"
   ]
  },
  {
   "cell_type": "markdown",
   "metadata": {},
   "source": [
    "\n",
    "**TapeAgents** is a framework to build, debug, serve and optimize your AI agent. It takes a holistic view of the agent lifecycle and aims to support you at all stages. The main distinguishing feature of the framework is that by design a **TapeAgent** creates its  \n",
    "**Tape**: a compherensive semantic log of the agent's session that greatly facilitates audit, debugging, finetuning, agent optimization, etc.\n",
    "\n",
    "In this tutorial you will learn:\n",
    "- how to create TapeAgents using the low-level API\n",
    "- run and resume TapeAgents\n",
    "- have one TapeAgent reuse another TapeAgent's tape as training data\n",
    "\n",
    "In upcoming versions of this tutorial you will also learn: \n",
    "- how to make a team TapeAgent with subagents\n",
    "- how to build TapeAgents using available high-level APIs\n",
    "- how to build a TapeAgent that streams partial steps\n",
    "\n",
    "Other tutorials and examples will cover:\n",
    "- code execution and browser use\n",
    "- finetuning\n",
    "- the TapeAgents apps (Studio and Browser)"
   ]
  },
  {
   "cell_type": "markdown",
   "metadata": {},
   "source": [
    "# 0. Setup your TapeAgents environment"
   ]
  },
  {
   "cell_type": "markdown",
   "metadata": {},
   "source": [
    "You have outputs in all cells in this notebook, so you can just scroll through! If you want to run it, here are the steps."
   ]
  },
  {
   "cell_type": "markdown",
   "metadata": {},
   "source": [
    "#### 0.1. Install conda\n",
    "https://conda.io/projects/conda/en/latest/user-guide/install/index.html\n",
    "\n",
    "#### 0.2. All commands assume execution from the tapeagents directory.\n",
    "```bash\n",
    "cd tapeagents/\n",
    "```\n",
    "\n",
    "#### 0.3. Create a conda environment named `tapeagents`, install `tapeagents` in editable mode and its dependencies:\n",
    "```bash\n",
    "make setup\n",
    "```\n",
    "\n",
    "#### 0.4 Set Jupyter Notebook kernel to your newly created `tapeagents` conda environment\n",
    "https://code.visualstudio.com/docs/datascience/jupyter-notebooks#_create-or-open-a-jupyter-notebook"
   ]
  },
  {
   "cell_type": "markdown",
   "metadata": {},
   "source": [
    "#### 0.5. Set some configurations"
   ]
  },
  {
   "cell_type": "code",
   "execution_count": 1,
   "metadata": {
    "execution": {
     "iopub.execute_input": "2024-09-27T21:41:15.484392Z",
     "iopub.status.busy": "2024-09-27T21:41:15.483862Z",
     "iopub.status.idle": "2024-09-27T21:41:15.492733Z",
     "shell.execute_reply": "2024-09-27T21:41:15.492155Z"
    }
   },
   "outputs": [],
   "source": [
    "import os\n",
    "\n",
    "os.environ[\"TRANSFORMERS_NO_ADVISORY_WARNINGS\"] = \"1\"\n",
    "today = \"2024-09-17\"  # fixed date for reproducible tests"
   ]
  },
  {
   "cell_type": "markdown",
   "metadata": {},
   "source": [
    "#### 5. Set your LLM API keys"
   ]
  },
  {
   "cell_type": "markdown",
   "metadata": {},
   "source": [
    "In a `.env` file at the root of `TapeAgents` repository:\n",
    "\n",
    "```bash\n",
    "# .env file\n",
    "OPENAI_API_KEY=\"\" # put your https://platform.openai.com/ key here\n",
    "# OPENAI_ORGANIZATION=\"\" # optional if you use your personal key\n",
    "```\n",
    "\n",
    "Then run the next block to set environment variable"
   ]
  },
  {
   "cell_type": "code",
   "execution_count": 2,
   "metadata": {
    "execution": {
     "iopub.execute_input": "2024-09-27T21:41:15.495186Z",
     "iopub.status.busy": "2024-09-27T21:41:15.494968Z",
     "iopub.status.idle": "2024-09-27T21:41:15.505310Z",
     "shell.execute_reply": "2024-09-27T21:41:15.504931Z"
    }
   },
   "outputs": [
    {
     "data": {
      "text/plain": [
       "False"
      ]
     },
     "execution_count": 2,
     "metadata": {},
     "output_type": "execute_result"
    }
   ],
   "source": [
    "import dotenv\n",
    "\n",
    "env_file = \".env\"\n",
    "dotenv.load_dotenv(env_file, override=True)"
   ]
  },
  {
   "cell_type": "code",
   "execution_count": 3,
   "metadata": {
    "execution": {
     "iopub.execute_input": "2024-09-27T21:41:15.529880Z",
     "iopub.status.busy": "2024-09-27T21:41:15.529736Z",
     "iopub.status.idle": "2024-09-27T21:41:15.531442Z",
     "shell.execute_reply": "2024-09-27T21:41:15.531134Z"
    }
   },
   "outputs": [],
   "source": [
    "# You could also set them directly here\n",
    "\n",
    "# os.environ[\"OPENAI_API_KEY\"] = \"\"\n",
    "# os.environ[\"OPENAI_ORGANIZATION\"] = \"\" # optional if you use your personal key"
   ]
  },
  {
   "cell_type": "markdown",
   "metadata": {},
   "source": [
    "# 1. Your first TapeAgent"
   ]
  },
  {
   "cell_type": "markdown",
   "metadata": {},
   "source": [
    "In this section we will build the simplest possible \"hello world\" agent. We will then go through all the new concepts that you need to know to understand the code. This section is quite long, but with the solid foundation you acquire here other TapeAgent tutorials will be easy to process.\n",
    "\n",
    "Without further ado, here's the code!"
   ]
  },
  {
   "cell_type": "code",
   "execution_count": 4,
   "metadata": {
    "execution": {
     "iopub.execute_input": "2024-09-27T21:41:15.532828Z",
     "iopub.status.busy": "2024-09-27T21:41:15.532713Z",
     "iopub.status.idle": "2024-09-27T21:41:19.077157Z",
     "shell.execute_reply": "2024-09-27T21:41:19.076796Z"
    }
   },
   "outputs": [
    {
     "name": "stdout",
     "output_type": "stream",
     "text": [
      "{\n",
      "  \"metadata\": {\n",
      "    \"id\": \"98f1f96e-43f5-4235-83a2-484714e0564f\",\n",
      "    \"parent_id\": \"f9793dcb-3aba-4644-8904-be0eee3e1d0f\",\n",
      "    \"author\": \"\",\n",
      "    \"author_tape_id\": null,\n",
      "    \"n_added_steps\": 2,\n",
      "    \"error\": null,\n",
      "    \"result\": null\n",
      "  },\n",
      "  \"context\": null,\n",
      "  \"steps\": [\n",
      "    {\n",
      "      \"metadata\": {\n",
      "        \"id\": \"88eed541-c4b2-443e-99ab-345047270144\",\n",
      "        \"prompt_id\": \"\",\n",
      "        \"node\": \"\",\n",
      "        \"agent\": \"\",\n",
      "        \"other\": {}\n",
      "      },\n",
      "      \"content\": \"Tell me about Vulcan in 3 sentences\",\n",
      "      \"kind\": \"user\"\n",
      "    },\n",
      "    {\n",
      "      \"metadata\": {\n",
      "        \"id\": \"88eed541-c4b2-443e-99ab-345047270144\",\n",
      "        \"prompt_id\": \"7eb6c1a9-5d78-48b4-bea2-b2e3c7d01d5b\",\n",
      "        \"node\": \"\",\n",
      "        \"agent\": \"Agent\",\n",
      "        \"other\": {}\n",
      "      },\n",
      "      \"content\": \"Vulcan is a fictional planet in the Star Trek universe, known as the homeworld of the Vulcan species, including the iconic character Spock. Known for their logical minds and deep commitment to reason, Vulcans practice emotional suppression and are renowned for their advanced technology and rich culture. The planet features a harsh desert environment with vast mountain ranges and is central to many of the franchise's themes of logic and emotional balance.\",\n",
      "      \"kind\": \"assistant\"\n",
      "    },\n",
      "    {\n",
      "      \"metadata\": {\n",
      "        \"id\": \"88eed541-c4b2-443e-99ab-345047270144\",\n",
      "        \"prompt_id\": \"7eb6c1a9-5d78-48b4-bea2-b2e3c7d01d5b\",\n",
      "        \"node\": \"\",\n",
      "        \"agent\": \"Agent\",\n",
      "        \"other\": {}\n",
      "      },\n",
      "      \"kind\": \"set_next_node\",\n",
      "      \"next_node\": 0\n",
      "    }\n",
      "  ]\n",
      "}\n"
     ]
    }
   ],
   "source": [
    "from tapeagents.agent import Agent, Node\n",
    "from tapeagents.core import Prompt, SetNextNode\n",
    "from tapeagents.dialog_tape import AssistantStep, UserStep, DialogTape\n",
    "from tapeagents.llms import LLMStream, LiteLLM\n",
    "from tapeagents.prompting import tape_to_messages\n",
    "\n",
    "llm = LiteLLM(model_name=\"gpt-4o-mini\")\n",
    "\n",
    "\n",
    "class MainNode(Node):\n",
    "    def make_prompt(self, agent: Agent, tape: DialogTape) -> Prompt:\n",
    "        return Prompt(messages=tape_to_messages(tape))\n",
    "\n",
    "    def generate_steps(self, agent: Agent, tape: DialogTape, llm_stream: LLMStream):\n",
    "        \"\"\"\n",
    "        llm_stream contains the text of the LLM model response\n",
    "        \"\"\"\n",
    "        yield AssistantStep(content=llm_stream.get_text())\n",
    "        yield SetNextNode(next_node=0)  # Which node to execute next, more on that later\n",
    "\n",
    "\n",
    "nodes = [MainNode()]\n",
    "agent = Agent[DialogTape].create(llm, nodes=nodes)\n",
    "start_tape = DialogTape(steps=[UserStep(content=\"Tell me about Vulcan in 3 sentences\")])\n",
    "final_tape = agent.run(start_tape).get_final_tape()\n",
    "print(final_tape.model_dump_json(indent=2))"
   ]
  },
  {
   "cell_type": "markdown",
   "metadata": {},
   "source": [
    "Now let's learn about tapes, steps, prompts, llm streams, nodes and agents."
   ]
  },
  {
   "cell_type": "markdown",
   "metadata": {},
   "source": [
    "### Tape\n",
    "\n",
    "The fundamental concept of the TapeAgents is the `Tape`, a comprehensive semantic level log of the agent's session. A `Tape` contains a context and a sequence of `Step` objects. As you can see, a TapeAgent runs by adding steps (such as `UserStep` or `AssistantStep`) to the _tape_. This example uses the `DialogTape` tape, which is a basic tape for user-assistant conversations. Let's see what are the possible steps in a `DialogTape`."
   ]
  },
  {
   "cell_type": "code",
   "execution_count": 5,
   "metadata": {
    "execution": {
     "iopub.execute_input": "2024-09-27T21:41:19.078642Z",
     "iopub.status.busy": "2024-09-27T21:41:19.078522Z",
     "iopub.status.idle": "2024-09-27T21:41:19.080911Z",
     "shell.execute_reply": "2024-09-27T21:41:19.080635Z"
    }
   },
   "outputs": [
    {
     "data": {
      "text/plain": [
       "tapeagents.core.Tape[Union[DialogContext, NoneType], Union[UserStep, ToolResult, SystemStep, AssistantThought, SetNextNode, Pass, Call, Respond, FinalStep, AssistantStep, ToolCalls]]"
      ]
     },
     "execution_count": 5,
     "metadata": {},
     "output_type": "execute_result"
    }
   ],
   "source": [
    "# We use Python generics to instantiate many different Tape types by\n",
    "# specifying different Context and Step types. In the output of this cell,\n",
    "# look at Union[UserStep, AssistantStep, ...]\n",
    "# for the list of possible step types in the DialogTape.\n",
    "DialogTape"
   ]
  },
  {
   "cell_type": "markdown",
   "metadata": {},
   "source": [
    "Some of these steps should be familiar to you. `UserStep`, `AssistantStep`, `SystemStep` and `ToolResult` correspond to `role=user`, `role=assistant`, `role=system` and `role=tool` LLM API messages respectively. `ToolCalls` and `AssistantThought` correspond to assistant messages where the LLM requests a tool call or produces an intermediate thought that is not meant to be shown to the user. `SetNextNode` and `Pass` are TapeAgent's internal step to control which node it should run at the next iteration (more on this below)."
   ]
  },
  {
   "cell_type": "markdown",
   "metadata": {},
   "source": [
    "### Prompt format; LLMs"
   ]
  },
  {
   "cell_type": "markdown",
   "metadata": {},
   "source": [
    "We use the industry-standard \"chat.completions\" prompt format in TapeAgents: a list of user/assistant/system/tool messages plus tool schemas."
   ]
  },
  {
   "cell_type": "code",
   "execution_count": 6,
   "metadata": {
    "execution": {
     "iopub.execute_input": "2024-09-27T21:41:19.082237Z",
     "iopub.status.busy": "2024-09-27T21:41:19.082115Z",
     "iopub.status.idle": "2024-09-27T21:41:19.084356Z",
     "shell.execute_reply": "2024-09-27T21:41:19.084078Z"
    }
   },
   "outputs": [
    {
     "data": {
      "text/plain": [
       "{'id': FieldInfo(annotation=str, required=False, default_factory=<lambda>),\n",
       " 'tools': FieldInfo(annotation=Union[list[dict], NoneType], required=False, default=None),\n",
       " 'messages': FieldInfo(annotation=list[dict], required=False, default=[])}"
      ]
     },
     "execution_count": 6,
     "metadata": {},
     "output_type": "execute_result"
    }
   ],
   "source": [
    "# Almost all classes in TapeAgents are Pydantic base models.\n",
    "# This allows easy validation, serialization and instrospection. For example,\n",
    "# here we are able to list all the fields in the Prompt model.\n",
    "Prompt.model_fields"
   ]
  },
  {
   "cell_type": "markdown",
   "metadata": {},
   "source": [
    "The LLMs in TapeAgent take `Prompt` and return an `LLMStream` object. The `LLMStream` object can be used both to fast-forward to the complete response text and to stream partial outputs step by step."
   ]
  },
  {
   "cell_type": "code",
   "execution_count": 7,
   "metadata": {
    "execution": {
     "iopub.execute_input": "2024-09-27T21:41:19.085591Z",
     "iopub.status.busy": "2024-09-27T21:41:19.085420Z",
     "iopub.status.idle": "2024-09-27T21:41:24.002101Z",
     "shell.execute_reply": "2024-09-27T21:41:24.001599Z"
    }
   },
   "outputs": [
    {
     "name": "stdout",
     "output_type": "stream",
     "text": [
      "Certainly! Here's a simple \"Hello, World!\" program in Java:\n",
      "\n",
      "```java"
     ]
    },
    {
     "name": "stdout",
     "output_type": "stream",
     "text": [
      "\n",
      "public class Hello"
     ]
    },
    {
     "name": "stdout",
     "output_type": "stream",
     "text": [
      "World {\n",
      "    public static void main(String[] args) {\n",
      "        System.out.println(\"Hello, World!\");\n",
      "    }\n",
      "}\n",
      "```\n",
      "\n",
      "To run the program:\n",
      "\n",
      "1. Save the code in a file named `HelloWorld.java`.\n",
      "2. Open your command line or terminal.\n",
      "3. Navigate to the"
     ]
    },
    {
     "name": "stdout",
     "output_type": "stream",
     "text": [
      " directory where the file is saved.\n",
      "4. Compile the program using the command:\n",
      "   ```\n",
      "   javac HelloWorld.java\n",
      "   ```\n",
      "5. Run the compiled"
     ]
    },
    {
     "name": "stdout",
     "output_type": "stream",
     "text": [
      " program using the command:\n",
      "  "
     ]
    },
    {
     "name": "stdout",
     "output_type": "stream",
     "text": [
      " ```\n",
      "   java HelloWorld\n",
      "   ```\n",
      "\n",
      "You"
     ]
    },
    {
     "name": "stdout",
     "output_type": "stream",
     "text": [
      " should see the output:\n",
      "```\n",
      "Hello, World!\n",
      "```None\n",
      "------------------------------\n"
     ]
    },
    {
     "name": "stdout",
     "output_type": "stream",
     "text": [
      "Certainly! Here is a simple C program that prints \"Hello, World!\" to the console:\n",
      "\n",
      "```c\n",
      "#include <stdio.h>\n",
      "\n",
      "int main() {\n",
      "    printf(\"Hello, World!\\n\");\n",
      "    return 0;\n",
      "}\n",
      "```\n",
      "\n",
      "To compile and run this program:\n",
      "\n",
      "1. Save the code to a file named `hello.c`.\n",
      "2. Open a terminal (command prompt).\n",
      "3. Navigate to the directory where the file is saved.\n",
      "4. Compile the program using a C compiler, such as `gcc`:\n",
      "\n",
      "   ```bash\n",
      "   gcc hello.c -o hello\n",
      "   ```\n",
      "\n",
      "5. Run the compiled program:\n",
      "\n",
      "   ```bash\n",
      "   ./hello\n",
      "   ```\n",
      "\n",
      "You should see `Hello, World!` printed on the screen.\n"
     ]
    }
   ],
   "source": [
    "llm_stream = LiteLLM(model_name=\"gpt-4o-mini-2024-07-18\", stream=True)\n",
    "\n",
    "# Streaming\n",
    "prompt = Prompt(messages=[{\"role\": \"user\", \"content\": \"Write hello world in Java\"}])\n",
    "for event in llm_stream.generate(prompt):\n",
    "    print(event.chunk, end=\"\")\n",
    "\n",
    "# No streaming\n",
    "# (note: you can not use Prompt object for more than 1 LLM call in TapeAgents)\n",
    "prompt = Prompt(messages=[{\"role\": \"user\", \"content\": \"Write hello world in C\"}])\n",
    "print(\"\\n\" + \"-\" * 30)\n",
    "print(llm_stream.generate(prompt).get_text())"
   ]
  },
  {
   "cell_type": "markdown",
   "metadata": {},
   "source": [
    "In the example above we use the easiest way to create a prompt from the tapes: `tape_to_messages`. Under the hood this method uses `step.llm_dict()` method of all non-control steps in the tape to create the prompt:"
   ]
  },
  {
   "cell_type": "code",
   "execution_count": 8,
   "metadata": {
    "execution": {
     "iopub.execute_input": "2024-09-27T21:41:24.004588Z",
     "iopub.status.busy": "2024-09-27T21:41:24.004362Z",
     "iopub.status.idle": "2024-09-27T21:41:24.008186Z",
     "shell.execute_reply": "2024-09-27T21:41:24.007748Z"
    }
   },
   "outputs": [
    {
     "name": "stdout",
     "output_type": "stream",
     "text": [
      "{'content': 'hi AI!', 'kind': 'user'}\n",
      "{'content': 'hello human', 'kind': 'assistant'}\n",
      "[{'role': 'user', 'content': 'hi AI!'}, {'role': 'assistant', 'content': 'hello human'}]\n"
     ]
    }
   ],
   "source": [
    "print((user := UserStep(content=\"hi AI!\")).llm_dict())\n",
    "print((assistant := AssistantStep(content=\"hello human\")).llm_dict())\n",
    "print(tape_to_messages(DialogTape(steps=[user, assistant])))"
   ]
  },
  {
   "cell_type": "markdown",
   "metadata": {},
   "source": [
    "A key priority in TapeAgents is making use of the data that running the agent generates. To make this possible, some TapeAgent LLMs know how to make their finetuning data:"
   ]
  },
  {
   "cell_type": "code",
   "execution_count": 9,
   "metadata": {
    "execution": {
     "iopub.execute_input": "2024-09-27T21:41:24.010161Z",
     "iopub.status.busy": "2024-09-27T21:41:24.010002Z",
     "iopub.status.idle": "2024-09-27T21:41:25.381400Z",
     "shell.execute_reply": "2024-09-27T21:41:25.381115Z"
    }
   },
   "outputs": [
    {
     "name": "stdout",
     "output_type": "stream",
     "text": [
      "--- ALL TEXT ---\n",
      "<|user|>\n",
      "Say bla 3 times and foo 2 times<|end|>\n",
      "<|endoftext|><|assistant|>\n",
      "Sure! Let me say bla bla bla foo foo<|end|>\n",
      "<|endoftext|>\n",
      "--- PREDICTED CHARACTERS ---\n",
      "<|assistant|>\n",
      "Sure! Let me say bla bla bla foo foo<|end|>\n",
      "<|endoftext|>\n"
     ]
    }
   ],
   "source": [
    "from tapeagents.core import LLMOutput\n",
    "from tapeagents.llms import TrainableLLM\n",
    "\n",
    "trainable_llm = TrainableLLM(\n",
    "    base_url=\"\",  # we only use the tokenizer from the model here, no need for a base_url for inference\n",
    "    model_name=\"microsoft/Phi-3.5-MoE-instruct\",\n",
    "    tokenizer_name=\"microsoft/Phi-3.5-MoE-instruct\",\n",
    ")\n",
    "\n",
    "simple_tape = DialogTape(\n",
    "    steps=[\n",
    "        UserStep(content=\"Say bla 3 times and foo 2 times\"),\n",
    "        AssistantStep(content=\"Sure! Let me say bla bla bla foo foo\"),\n",
    "    ]\n",
    ")\n",
    "\n",
    "prompt = Prompt(messages=tape_to_messages(simple_tape[:1]))\n",
    "output = agent.make_llm_output(simple_tape, index=1)\n",
    "text = trainable_llm.make_training_text(prompt=prompt, output=output)\n",
    "print(\"--- ALL TEXT ---\")\n",
    "print(text.text)\n",
    "print(\"--- PREDICTED CHARACTERS ---\")\n",
    "print(text.output_text)"
   ]
  },
  {
   "cell_type": "markdown",
   "metadata": {},
   "source": [
    "### Node"
   ]
  },
  {
   "cell_type": "markdown",
   "metadata": {},
   "source": [
    "A node represents an uninterruptible atom of TapeAgent's computation. When TapeAgents runs a node, it uses its two main functions: `make_prompt` to create LLM Prompt from the tape and `generate_steps` to create new steps from the LLM output. To build a node, you can subclass `Node` and override these functions. Note that `generate_steps` must be a generator, a design choice we made to make TapeAgents a streaming-friendly framework. \n",
    "\n",
    "Let's see what the node from the above example can do."
   ]
  },
  {
   "cell_type": "code",
   "execution_count": 10,
   "metadata": {
    "execution": {
     "iopub.execute_input": "2024-09-27T21:41:25.382757Z",
     "iopub.status.busy": "2024-09-27T21:41:25.382609Z",
     "iopub.status.idle": "2024-09-27T21:41:25.906637Z",
     "shell.execute_reply": "2024-09-27T21:41:25.906120Z"
    }
   },
   "outputs": [
    {
     "name": "stdout",
     "output_type": "stream",
     "text": [
      "Raw node prompt:\n",
      "id='b0e44a0d-f323-41cb-9f52-a42635b5e2ce' tools=None messages=[{'role': 'user', 'content': 'Hi, AI!'}]\n",
      "\n",
      "Steps produced by node's generator:\n",
      "[AssistantStep(metadata=StepMetadata(id='88eed541-c4b2-443e-99ab-345047270144', prompt_id='', node='', agent='', other={}), content='Hello, human!', kind='assistant'), SetNextNode(metadata=StepMetadata(id='88eed541-c4b2-443e-99ab-345047270144', prompt_id='', node='', agent='', other={}), kind='set_next_node', next_node=0)]\n",
      "\n",
      "Produced Steps:\n"
     ]
    },
    {
     "name": "stdout",
     "output_type": "stream",
     "text": [
      "{\n",
      "  \"metadata\": {\n",
      "    \"id\": \"88eed541-c4b2-443e-99ab-345047270144\",\n",
      "    \"prompt_id\": \"\",\n",
      "    \"node\": \"\",\n",
      "    \"agent\": \"\",\n",
      "    \"other\": {}\n",
      "  },\n",
      "  \"content\": \"Hello! How can I assist you today?\",\n",
      "  \"kind\": \"assistant\"\n",
      "}\n",
      "{\n",
      "  \"metadata\": {\n",
      "    \"id\": \"88eed541-c4b2-443e-99ab-345047270144\",\n",
      "    \"prompt_id\": \"\",\n",
      "    \"node\": \"\",\n",
      "    \"agent\": \"\",\n",
      "    \"other\": {}\n",
      "  },\n",
      "  \"kind\": \"set_next_node\",\n",
      "  \"next_node\": 0\n",
      "}\n"
     ]
    }
   ],
   "source": [
    "from tapeagents.llms import LLMEvent\n",
    "\n",
    "\n",
    "class MainNode(Node):\n",
    "    def make_prompt(self, agent, tape: DialogTape) -> Prompt:\n",
    "        return Prompt(messages=tape_to_messages(tape))\n",
    "\n",
    "    def generate_steps(self, agent, tape, llm_stream: LLMStream):\n",
    "        yield AssistantStep(content=llm_stream.get_text())\n",
    "        yield SetNextNode(next_node=0)  # Continue to the same first node\n",
    "\n",
    "\n",
    "node = MainNode()\n",
    "\n",
    "# Let's run \"make_prompt\" in isolation.\n",
    "prompt = node.make_prompt(agent=None, tape=DialogTape(steps=[UserStep(content=\"Hi, AI!\")]))\n",
    "print(f\"Raw node prompt:\\n{prompt}\\n\")\n",
    "\n",
    "\n",
    "# Now, let's run \"generate_steps\" in isolation.\n",
    "# We need to construct a fake LLMStream to do that.\n",
    "def _generator():\n",
    "    yield LLMEvent(output=LLMOutput(content=\"Hello, human!\"))\n",
    "\n",
    "\n",
    "stream = LLMStream(_generator(), Prompt())\n",
    "step_stream = node.generate_steps(agent=None, tape=DialogTape(), llm_stream=stream)\n",
    "print(f\"Steps produced by node's generator:\\n{list(step_stream)}\\n\")\n",
    "\n",
    "# When the agent runs a node, it is a equivalent to the following three steps:\n",
    "# Step 1: make a prompt\n",
    "start_tape = DialogTape(steps=[UserStep(content=\"Hi, AI!\")])\n",
    "prompt = node.make_prompt(agent, start_tape)\n",
    "# Step 2: construct the LLMStream from the prompt (happens inside the agent)\n",
    "stream = llm.generate(prompt)\n",
    "# Step 3: generate steps that the agent will then add to the tape\n",
    "print(\"Produced Steps:\")\n",
    "for step in node.generate_steps(agent, start_tape, stream):\n",
    "    print(step.model_dump_json(indent=2))"
   ]
  },
  {
   "cell_type": "markdown",
   "metadata": {},
   "source": [
    "### Agent and its nodes"
   ]
  },
  {
   "cell_type": "markdown",
   "metadata": {},
   "source": [
    "The TapeAgent agent iteratively runs the nodes and appends the steps generated by each node to the tape. To select which next node to run, internally a TapeAgent computes the **tape view** object. The Tape remains the only **state** that the agent uses, the view only represents its content in a way that is convenient for the agent to use.\n"
   ]
  },
  {
   "cell_type": "code",
   "execution_count": 11,
   "metadata": {
    "execution": {
     "iopub.execute_input": "2024-09-27T21:41:25.909181Z",
     "iopub.status.busy": "2024-09-27T21:41:25.908959Z",
     "iopub.status.idle": "2024-09-27T21:41:25.914645Z",
     "shell.execute_reply": "2024-09-27T21:41:25.914205Z"
    }
   },
   "outputs": [
    {
     "name": "stdout",
     "output_type": "stream",
     "text": [
      "0\n",
      "1\n",
      "0\n"
     ]
    }
   ],
   "source": [
    "from tapeagents.view import TapeViewStack\n",
    "from tapeagents.core import StepMetadata\n",
    "\n",
    "# The \"top\" view in the tape view stack is the view of current agent. Initially `top.next_node` is 0\".\n",
    "tape1 = DialogTape(steps=[UserStep(content=\"Hi, AI!\")])\n",
    "next_node1 = TapeViewStack.compute(tape1).top.next_node\n",
    "print(next_node1)\n",
    "assert next_node1 == 0\n",
    "\n",
    "\n",
    "# When the agent computes the view, it bumps up `top.next_node` every time it encounters a step with a new `prompt_id``.\n",
    "# The new prompt_id on the tape signals to the agent the current node has run.\n",
    "tape2 = DialogTape(\n",
    "    steps=[UserStep(content=\"Hi, AI!\"), AssistantStep(metadata=StepMetadata(prompt_id=\"123\"), content=\"AI here, how I can help?\")]\n",
    ")\n",
    "next_node2 = TapeViewStack.compute(tape2).top.next_node\n",
    "print(next_node2)\n",
    "assert next_node2 == 1\n",
    "\n",
    "# The SetNextNode step on the tape changes `top.next_node` to the value of the `next_node` field in the SetNextNode step.\n",
    "tape3 = DialogTape(\n",
    "    steps=[\n",
    "        UserStep(content=\"Hi, AI!\"),\n",
    "        AssistantStep(metadata=StepMetadata(prompt_id=\"123\"), content=\"AI here, how I can help?\"),\n",
    "        SetNextNode(next_node=0),\n",
    "    ]\n",
    ")\n",
    "next_node3 = TapeViewStack.compute(tape3).top.next_node\n",
    "print(next_node3)\n",
    "assert next_node3 == 0"
   ]
  },
  {
   "cell_type": "markdown",
   "metadata": {},
   "source": [
    "By default the agent stops after the last node has produced an `Action` step. The action steps are the step by which the agent requests information from the environment. For example, `AssistantStep` is an `Action` as it indicates the agent awaits the user response, `ToolCalls` is an action requesting tool call results. Let's look at all possible steps in `DialogTape` tape and see which of them are actions, observations and thoughts."
   ]
  },
  {
   "cell_type": "code",
   "execution_count": 12,
   "metadata": {
    "execution": {
     "iopub.execute_input": "2024-09-27T21:41:25.916686Z",
     "iopub.status.busy": "2024-09-27T21:41:25.916481Z",
     "iopub.status.idle": "2024-09-27T21:41:25.919707Z",
     "shell.execute_reply": "2024-09-27T21:41:25.919303Z"
    }
   },
   "outputs": [],
   "source": [
    "from tapeagents.core import Action, Pass, Thought, Observation\n",
    "from tapeagents.dialog_tape import AssistantThought, ToolCalls, ToolResult\n",
    "\n",
    "assert all([issubclass(step_class, Action) for step_class in [AssistantStep, ToolCalls]])\n",
    "assert all([issubclass(step_class, Thought) for step_class in [AssistantThought, SetNextNode, Pass]])\n",
    "assert all([issubclass(step_class, Observation) for step_class in [UserStep, ToolResult]])"
   ]
  },
  {
   "cell_type": "markdown",
   "metadata": {},
   "source": [
    "Now we are ready to look at a simplified summary of the corner-stone `agent.run` algorithm.\n",
    "\n",
    "1. Compute the new tape view\n",
    "2. Choose the active agent (more on multi-agent TapeAgents later)\n",
    "3. Choose the active node\n",
    "4. Run the node and add steps on the tape\n",
    "5. If the last node yielded an action, then stop, else repeat.\n",
    "\n",
    "`agent.run` returns an `AgentStream` object which allows iterating through the agent's steps (or partial steps when streaming) and fast-forwardin to the complete new tape with `get_final_tape`."
   ]
  },
  {
   "cell_type": "markdown",
   "metadata": {},
   "source": [
    "#### Converse with a TapeAgent"
   ]
  },
  {
   "cell_type": "markdown",
   "metadata": {},
   "source": [
    "Lets continue conversation with the agent that previously responded to us with the Vulcan definition from the StarTrek.\n",
    "Remember, the session stored in the tape **final_tape**."
   ]
  },
  {
   "cell_type": "code",
   "execution_count": 13,
   "metadata": {
    "execution": {
     "iopub.execute_input": "2024-09-27T21:41:25.921406Z",
     "iopub.status.busy": "2024-09-27T21:41:25.921262Z",
     "iopub.status.idle": "2024-09-27T21:41:27.422914Z",
     "shell.execute_reply": "2024-09-27T21:41:27.421662Z"
    }
   },
   "outputs": [
    {
     "name": "stdout",
     "output_type": "stream",
     "text": [
      "{\n",
      "  \"metadata\": {\n",
      "    \"id\": \"a1263a1f-9622-4506-940a-1243248c20f8\",\n",
      "    \"parent_id\": \"07e97a1e-5305-409e-82f9-5a28aa3d747b\",\n",
      "    \"author\": \"\",\n",
      "    \"author_tape_id\": null,\n",
      "    \"n_added_steps\": 2,\n",
      "    \"error\": null,\n",
      "    \"result\": null\n",
      "  },\n",
      "  \"context\": null,\n",
      "  \"steps\": [\n",
      "    {\n",
      "      \"metadata\": {\n",
      "        \"id\": \"88eed541-c4b2-443e-99ab-345047270144\",\n",
      "        \"prompt_id\": \"\",\n",
      "        \"node\": \"\",\n",
      "        \"agent\": \"\",\n",
      "        \"other\": {}\n",
      "      },\n",
      "      \"content\": \"Tell me about Vulcan in 3 sentences\",\n",
      "      \"kind\": \"user\"\n",
      "    },\n",
      "    {\n",
      "      \"metadata\": {\n",
      "        \"id\": \"88eed541-c4b2-443e-99ab-345047270144\",\n",
      "        \"prompt_id\": \"7eb6c1a9-5d78-48b4-bea2-b2e3c7d01d5b\",\n",
      "        \"node\": \"\",\n",
      "        \"agent\": \"Agent\",\n",
      "        \"other\": {}\n",
      "      },\n",
      "      \"content\": \"Vulcan is a fictional planet in the Star Trek universe, known as the homeworld of the Vulcan species, including the iconic character Spock. Known for their logical minds and deep commitment to reason, Vulcans practice emotional suppression and are renowned for their advanced technology and rich culture. The planet features a harsh desert environment with vast mountain ranges and is central to many of the franchise's themes of logic and emotional balance.\",\n",
      "      \"kind\": \"assistant\"\n",
      "    },\n",
      "    {\n",
      "      \"metadata\": {\n",
      "        \"id\": \"88eed541-c4b2-443e-99ab-345047270144\",\n",
      "        \"prompt_id\": \"7eb6c1a9-5d78-48b4-bea2-b2e3c7d01d5b\",\n",
      "        \"node\": \"\",\n",
      "        \"agent\": \"Agent\",\n",
      "        \"other\": {}\n",
      "      },\n",
      "      \"kind\": \"set_next_node\",\n",
      "      \"next_node\": 0\n",
      "    },\n",
      "    {\n",
      "      \"metadata\": {\n",
      "        \"id\": \"88eed541-c4b2-443e-99ab-345047270144\",\n",
      "        \"prompt_id\": \"\",\n",
      "        \"node\": \"\",\n",
      "        \"agent\": \"\",\n",
      "        \"other\": {}\n",
      "      },\n",
      "      \"content\": \"No, I mean Vulcan the company\",\n",
      "      \"kind\": \"user\"\n",
      "    },\n",
      "    {\n",
      "      \"metadata\": {\n",
      "        \"id\": \"88eed541-c4b2-443e-99ab-345047270144\",\n",
      "        \"prompt_id\": \"49574d29-7fbb-488a-a6dc-eca1512721dc\",\n",
      "        \"node\": \"\",\n",
      "        \"agent\": \"Agent\",\n",
      "        \"other\": {}\n",
      "      },\n",
      "      \"content\": \"Vulcan Inc. is a private company founded by the late Paul Allen, co-founder of Microsoft, and is focused on a range of initiatives including technology, science, and philanthropy. The company supports efforts in various fields such as artificial intelligence, climate change solutions, wildlife conservation, and basic scientific research. Through its diverse investments and projects, Vulcan aims to drive innovation and positive social impact globally.\",\n",
      "      \"kind\": \"assistant\"\n",
      "    },\n",
      "    {\n",
      "      \"metadata\": {\n",
      "        \"id\": \"88eed541-c4b2-443e-99ab-345047270144\",\n",
      "        \"prompt_id\": \"49574d29-7fbb-488a-a6dc-eca1512721dc\",\n",
      "        \"node\": \"\",\n",
      "        \"agent\": \"Agent\",\n",
      "        \"other\": {}\n",
      "      },\n",
      "      \"kind\": \"set_next_node\",\n",
      "      \"next_node\": 0\n",
      "    }\n",
      "  ]\n",
      "}\n"
     ]
    }
   ],
   "source": [
    "tape_to_continue = final_tape + [UserStep(content=\"No, I mean Vulcan the company\")]\n",
    "continued_tape = agent.run(tape_to_continue).get_final_tape()\n",
    "print(continued_tape.model_dump_json(indent=2))"
   ]
  },
  {
   "cell_type": "markdown",
   "metadata": {},
   "source": [
    "Note, that the agent is able to continue talking to you thanks for `SetNextNode(next_node=0)` step that `generate_steps` produced. If you try to remove this step as an exercise, the agent will crash because there is only one node."
   ]
  },
  {
   "cell_type": "markdown",
   "metadata": {},
   "source": [
    "#### Tape rendering\n",
    "\n",
    "LLM agents create a lot of data that can be overwhelming to process. In TapeAgents we render the tape with the associated prompts and outputs into a more readable HTML for you. To make this work, we store prompts and outputs in an SQLite database every time you call `agent.run()`.\n",
    "\n",
    "Here's how to use tape rendering in the notebook:"
   ]
  },
  {
   "cell_type": "code",
   "execution_count": 14,
   "metadata": {
    "execution": {
     "iopub.execute_input": "2024-09-27T21:41:27.426021Z",
     "iopub.status.busy": "2024-09-27T21:41:27.425763Z",
     "iopub.status.idle": "2024-09-27T21:41:27.598793Z",
     "shell.execute_reply": "2024-09-27T21:41:27.598544Z"
    }
   },
   "outputs": [
    {
     "data": {
      "text/html": [
       "<style>.basic-renderer-box { margin: 4px; padding: 2px; background: lavender; white-space: pre-wrap; color: black;}.basic-prompt-box { margin: 4px; padding: 2px; background: lavender; color: black;}.episode-row { display: flex; align-items: end; }.agent-column { width: 50%; }.user-column { width: 25%; }.annotator-column { width: 25%; }.inner-tape-container { display: flex }.inner-tape-indent { width: 10%; }.inner-tape { width: 90%; }</style><style>.observation { background-color: #baffc9;; }.error_observation { background-color: #dd0000; }.action { background-color: #cccccc; }.thought { background-color: #ffffdb; }.call { background-color: #ffffff; }.respond { background-color: #ffffff; }.step-header { margin: 2pt 2pt 2pt 0 !important; }.step-text { font-size: 12px; white-space: pre-wrap; word-wrap: break-word;}</style><h3>Metadata</h3><details> <summary> Show / Hide </summary> <div class='basic-renderer-box'>author: ''\n",
       "author_tape_id: null\n",
       "error: null\n",
       "id: a1263a1f-9622-4506-940a-1243248c20f8\n",
       "n_added_steps: 2\n",
       "parent_id: 07e97a1e-5305-409e-82f9-5a28aa3d747b\n",
       "result: null\n",
       "</div> </details><h3>Steps</h3><div class='basic-renderer-box observation'><h4 class='step-header'>[0] User</h4><pre class='step-text'>kind: user\n",
       "\n",
       "Tell me about Vulcan in 3 sentences</pre></div><div class='basic-renderer-box action'><h4 class='step-header'>[1] Assistant</h4><pre class='step-text'>kind: assistant\n",
       "\n",
       "Vulcan is a fictional planet in the Star Trek universe, known as the homeworld of the Vulcan species, including the iconic character Spock. Known for their logical minds and deep commitment to reason, Vulcans practice emotional suppression and are renowned for their advanced technology and rich culture. The planet features a harsh desert environment with vast mountain ranges and is central to many of the franchise's themes of logic and emotional balance.</pre></div><div class='basic-renderer-box thought'><h4 class='step-header'>[2] Thought: SetNextNode</h4><pre class='step-text'>kind: set_next_node\n",
       "next_node: 0\n",
       "</pre></div><div class='basic-renderer-box observation'><h4 class='step-header'>[3] User</h4><pre class='step-text'>kind: user\n",
       "\n",
       "No, I mean Vulcan the company</pre></div><div class='basic-renderer-box action'><h4 class='step-header'>[4] Assistant</h4><pre class='step-text'>kind: assistant\n",
       "\n",
       "Vulcan Inc. is a private company founded by the late Paul Allen, co-founder of Microsoft, and is focused on a range of initiatives including technology, science, and philanthropy. The company supports efforts in various fields such as artificial intelligence, climate change solutions, wildlife conservation, and basic scientific research. Through its diverse investments and projects, Vulcan aims to drive innovation and positive social impact globally.</pre></div><div class='basic-renderer-box thought'><h4 class='step-header'>[5] Thought: SetNextNode</h4><pre class='step-text'>kind: set_next_node\n",
       "next_node: 0\n",
       "</pre></div>"
      ],
      "text/plain": [
       "<IPython.core.display.HTML object>"
      ]
     },
     "execution_count": 14,
     "metadata": {},
     "output_type": "execute_result"
    }
   ],
   "source": [
    "from tapeagents.rendering import PrettyRenderer, render_tape_with_prompts\n",
    "from IPython.display import HTML\n",
    "\n",
    "HTML(render_tape_with_prompts(continued_tape, PrettyRenderer()))"
   ]
  },
  {
   "cell_type": "markdown",
   "metadata": {},
   "source": [
    "# 2. Your TapeAgent with planning and tools"
   ]
  },
  {
   "cell_type": "markdown",
   "metadata": {},
   "source": [
    "Let's build a TapeAgent that plans and acts. We will be using OpenAI function calling capabilities in this example."
   ]
  },
  {
   "cell_type": "code",
   "execution_count": 15,
   "metadata": {
    "execution": {
     "iopub.execute_input": "2024-09-27T21:41:27.600004Z",
     "iopub.status.busy": "2024-09-27T21:41:27.599914Z",
     "iopub.status.idle": "2024-09-27T21:41:34.350602Z",
     "shell.execute_reply": "2024-09-27T21:41:34.350073Z"
    }
   },
   "outputs": [
    {
     "name": "stdout",
     "output_type": "stream",
     "text": [
      "Run the agent!\n"
     ]
    },
    {
     "name": "stdout",
     "output_type": "stream",
     "text": [
      "{\n",
      "  \"metadata\": {\n",
      "    \"id\": \"88eed541-c4b2-443e-99ab-345047270144\",\n",
      "    \"prompt_id\": \"9f797385-df1c-4a8a-9d51-64ed9f7c07c8\",\n",
      "    \"node\": \"\",\n",
      "    \"agent\": \"Agent\",\n",
      "    \"other\": {}\n",
      "  },\n",
      "  \"content\": \"To help the user learn about Vulcan's financials, I will follow these steps:\\n\\n1. **Get Stock Ticker**: Use the `functions.get_stock_ticker` tool to find the stock ticker symbol for Vulcan.\\n2. **Get Stock Data**: Use the `functions.get_stock_data` tool to retrieve Vulcan's stock prices for a specified date range.\\n3. **Analyze and Summarize**: Analyze the retrieved stock data and provide a summary of Vulcan's financial performance based on the stock prices.\\n\\nLet's start with step 1.\",\n",
      "  \"kind\": \"assistant_thought\"\n",
      "}\n"
     ]
    },
    {
     "name": "stdout",
     "output_type": "stream",
     "text": [
      "{\n",
      "  \"metadata\": {\n",
      "    \"id\": \"88eed541-c4b2-443e-99ab-345047270144\",\n",
      "    \"prompt_id\": \"118c05e2-a1ae-4079-af2c-4e41518296a4\",\n",
      "    \"node\": \"\",\n",
      "    \"agent\": \"Agent\",\n",
      "    \"other\": {}\n",
      "  },\n",
      "  \"tool_calls\": [\n",
      "    {\n",
      "      \"function\": {\n",
      "        \"arguments\": \"{\\\"company_name\\\":\\\"Vulcan\\\"}\",\n",
      "        \"name\": \"get_stock_ticker\"\n",
      "      },\n",
      "      \"id\": \"call_ylWnOdlrmXwpPQ4SRO0iVjPD\",\n",
      "      \"type\": \"function\"\n",
      "    }\n",
      "  ],\n",
      "  \"kind\": \"assistant\"\n",
      "}\n",
      "{\n",
      "  \"metadata\": {\n",
      "    \"id\": \"88eed541-c4b2-443e-99ab-345047270144\",\n",
      "    \"prompt_id\": \"118c05e2-a1ae-4079-af2c-4e41518296a4\",\n",
      "    \"node\": \"\",\n",
      "    \"agent\": \"Agent\",\n",
      "    \"other\": {}\n",
      "  },\n",
      "  \"kind\": \"set_next_node\",\n",
      "  \"next_node\": 1\n",
      "}\n"
     ]
    },
    {
     "name": "stdout",
     "output_type": "stream",
     "text": [
      "{\n",
      "  \"metadata\": {\n",
      "    \"id\": \"88eed541-c4b2-443e-99ab-345047270144\",\n",
      "    \"prompt_id\": \"\",\n",
      "    \"node\": \"\",\n",
      "    \"agent\": \"\",\n",
      "    \"other\": {}\n",
      "  },\n",
      "  \"content\": \"VMC\",\n",
      "  \"tool_call_id\": \"call_ylWnOdlrmXwpPQ4SRO0iVjPD\",\n",
      "  \"kind\": \"tool\"\n",
      "}\n"
     ]
    },
    {
     "name": "stdout",
     "output_type": "stream",
     "text": [
      "{\n",
      "  \"metadata\": {\n",
      "    \"id\": \"88eed541-c4b2-443e-99ab-345047270144\",\n",
      "    \"prompt_id\": \"0389da64-9e00-4e96-b004-373b60150576\",\n",
      "    \"node\": \"\",\n",
      "    \"agent\": \"Agent\",\n",
      "    \"other\": {}\n",
      "  },\n",
      "  \"tool_calls\": [\n",
      "    {\n",
      "      \"function\": {\n",
      "        \"arguments\": \"{\\\"symbol\\\":\\\"VMC\\\",\\\"start_date\\\":\\\"2024-01-01\\\",\\\"end_date\\\":\\\"2024-09-16\\\"}\",\n",
      "        \"name\": \"get_stock_data\"\n",
      "      },\n",
      "      \"id\": \"call_aUP6C1f6bqbNOXA8oXvh1wj6\",\n",
      "      \"type\": \"function\"\n",
      "    }\n",
      "  ],\n",
      "  \"kind\": \"assistant\"\n",
      "}\n",
      "{\n",
      "  \"metadata\": {\n",
      "    \"id\": \"88eed541-c4b2-443e-99ab-345047270144\",\n",
      "    \"prompt_id\": \"0389da64-9e00-4e96-b004-373b60150576\",\n",
      "    \"node\": \"\",\n",
      "    \"agent\": \"Agent\",\n",
      "    \"other\": {}\n",
      "  },\n",
      "  \"kind\": \"set_next_node\",\n",
      "  \"next_node\": 1\n",
      "}\n"
     ]
    },
    {
     "name": "stdout",
     "output_type": "stream",
     "text": [
      "{\n",
      "  \"metadata\": {\n",
      "    \"id\": \"88eed541-c4b2-443e-99ab-345047270144\",\n",
      "    \"prompt_id\": \"\",\n",
      "    \"node\": \"\",\n",
      "    \"agent\": \"\",\n",
      "    \"other\": {}\n",
      "  },\n",
      "  \"content\": \"[('2024-01-02', 223.60000610351562), ('2024-01-04', 220.67999267578125), ('2024-01-08', 224.0), ('2024-01-10', 226.11000061035156), ('2024-01-12', 223.9600067138672), ('2024-01-17', 221.25999450683594), ('2024-01-19', 226.0800018310547), ('2024-01-23', 222.8000030517578), ('2024-01-25', 223.41000366210938), ('2024-01-29', 229.3699951171875), ('2024-01-31', 226.00999450683594), ('2024-02-02', 234.44000244140625), ('2024-02-06', 231.5800018310547), ('2024-02-08', 238.44000244140625), ('2024-02-12', 240.1300048828125), ('2024-02-14', 241.10000610351562), ('2024-02-16', 255.14999389648438), ('2024-02-21', 253.42999267578125), ('2024-02-23', 257.2300109863281), ('2024-02-27', 263.55999755859375), ('2024-02-29', 265.8500061035156), ('2024-03-04', 267.8500061035156), ('2024-03-06', 267.3399963378906), ('2024-03-08', 266.70001220703125), ('2024-03-12', 269.5799865722656), ('2024-03-14', 270.7300109863281), ('2024-03-18', 269.4200134277344), ('2024-03-20', 271.739990234375), ('2024-03-22', 274.3599853515625), ('2024-03-26', 273.8699951171875), ('2024-03-28', 272.9200134277344), ('2024-04-02', 266.25), ('2024-04-04', 265.8900146484375), ('2024-04-08', 269.7200012207031), ('2024-04-10', 264.55999755859375), ('2024-04-12', 262.7799987792969), ('2024-04-16', 258.5400085449219), ('2024-04-18', 255.07000732421875), ('2024-04-22', 254.47999572753906), ('2024-04-24', 256.3999938964844), ('2024-04-26', 261.239990234375), ('2024-04-30', 257.6300048828125), ('2024-05-02', 264.4100036621094), ('2024-05-06', 266.6099853515625), ('2024-05-08', 267.92999267578125), ('2024-05-10', 272.07000732421875), ('2024-05-14', 267.75), ('2024-05-16', 260.0), ('2024-05-20', 260.2099914550781), ('2024-05-22', 260.8699951171875), ('2024-05-24', 259.25), ('2024-05-29', 251.91000366210938), ('2024-05-31', 255.77000427246094), ('2024-06-04', 250.4600067138672), ('2024-06-06', 248.5800018310547), ('2024-06-10', 247.80999755859375), ('2024-06-12', 249.1199951171875), ('2024-06-14', 252.63999938964844), ('2024-06-18', 255.61000061035156), ('2024-06-21', 247.80999755859375), ('2024-06-25', 246.14999389648438), ('2024-06-27', 247.75999450683594), ('2024-07-01', 243.72000122070312), ('2024-07-03', 243.9199981689453), ('2024-07-08', 241.97000122070312), ('2024-07-10', 247.72000122070312), ('2024-07-12', 252.50999450683594), ('2024-07-16', 262.80999755859375), ('2024-07-18', 256.0899963378906), ('2024-07-22', 260.6099853515625), ('2024-07-24', 250.50999450683594), ('2024-07-26', 261.7099914550781), ('2024-07-30', 270.0), ('2024-08-01', 271.1300048828125), ('2024-08-05', 257.42999267578125), ('2024-08-07', 241.22000122070312), ('2024-08-09', 244.33999633789062), ('2024-08-13', 243.83999633789062), ('2024-08-15', 246.57000732421875), ('2024-08-19', 244.2899932861328), ('2024-08-21', 247.83999633789062), ('2024-08-23', 254.88999938964844), ('2024-08-27', 240.41000366210938), ('2024-08-29', 241.27999877929688), ('2024-09-03', 239.02000427246094), ('2024-09-05', 232.16000366210938), ('2024-09-09', 231.8300018310547), ('2024-09-11', 232.9499969482422), ('2024-09-13', 237.47000122070312)]\",\n",
      "  \"tool_call_id\": \"call_aUP6C1f6bqbNOXA8oXvh1wj6\",\n",
      "  \"kind\": \"tool\"\n",
      "}\n"
     ]
    },
    {
     "name": "stdout",
     "output_type": "stream",
     "text": [
      "{\n",
      "  \"metadata\": {\n",
      "    \"id\": \"88eed541-c4b2-443e-99ab-345047270144\",\n",
      "    \"prompt_id\": \"84c7cfa9-1601-4c4b-9c35-df1d2ced9b22\",\n",
      "    \"node\": \"\",\n",
      "    \"agent\": \"Agent\",\n",
      "    \"other\": {}\n",
      "  },\n",
      "  \"content\": \"Vulcan Materials Company (VMC) is a leading producer of construction aggregates, primarily crushed stone, sand, and gravel, and a major producer of asphalt and ready-mixed concrete. Over the course of 2024, Vulcan's stock price has shown significant fluctuations, starting at approximately $223.60 in early January and reaching a peak of around $274.36 in late March, before experiencing a decline to about $237.47 by mid-September. This volatility reflects the broader market conditions and the company's operational performance throughout the year.\",\n",
      "  \"kind\": \"assistant\"\n",
      "}\n",
      "{\n",
      "  \"metadata\": {\n",
      "    \"id\": \"88eed541-c4b2-443e-99ab-345047270144\",\n",
      "    \"prompt_id\": \"84c7cfa9-1601-4c4b-9c35-df1d2ced9b22\",\n",
      "    \"node\": \"\",\n",
      "    \"agent\": \"Agent\",\n",
      "    \"other\": {}\n",
      "  },\n",
      "  \"kind\": \"set_next_node\",\n",
      "  \"next_node\": 0\n",
      "}\n",
      "Final tape:\n"
     ]
    },
    {
     "data": {
      "text/html": [
       "<style>.basic-renderer-box { margin: 4px; padding: 2px; background: lavender; white-space: pre-wrap; color: black;}.basic-prompt-box { margin: 4px; padding: 2px; background: lavender; color: black;}.episode-row { display: flex; align-items: end; }.agent-column { width: 50%; }.user-column { width: 25%; }.annotator-column { width: 25%; }.inner-tape-container { display: flex }.inner-tape-indent { width: 10%; }.inner-tape { width: 90%; }</style><style>.observation { background-color: #baffc9;; }.error_observation { background-color: #dd0000; }.action { background-color: #cccccc; }.thought { background-color: #ffffdb; }.call { background-color: #ffffff; }.respond { background-color: #ffffff; }.step-header { margin: 2pt 2pt 2pt 0 !important; }.step-text { font-size: 12px; white-space: pre-wrap; word-wrap: break-word;}</style><h3>Metadata</h3><details> <summary> Show / Hide </summary> <div class='basic-renderer-box'>author: ''\n",
       "author_tape_id: null\n",
       "error: null\n",
       "id: 7a26eca8-466f-4dd6-9337-c1144a5e17fb\n",
       "n_added_steps: 2\n",
       "parent_id: 5ed47f57-8ccf-4fdd-aaa1-457b81f257e1\n",
       "result: null\n",
       "</div> </details><h3>Steps</h3><div class='basic-renderer-box observation'><h4 class='step-header'>[0] User</h4><pre class='step-text'>kind: user\n",
       "\n",
       "Tell me about Vulcan in 3 sentences</pre></div><div class='basic-renderer-box thought'><h4 class='step-header'>[1] Thought: AssistantThought</h4><pre class='step-text'>kind: assistant_thought\n",
       "\n",
       "To help the user learn about Vulcan's financials, I will follow these steps:\n",
       "\n",
       "1. **Get Stock Ticker**: Use the `functions.get_stock_ticker` tool to find the stock ticker symbol for Vulcan.\n",
       "2. **Get Stock Data**: Use the `functions.get_stock_data` tool to retrieve Vulcan's stock prices for a specified date range.\n",
       "3. **Analyze and Summarize**: Analyze the retrieved stock data and provide a summary of Vulcan's financial performance based on the stock prices.\n",
       "\n",
       "Let's start with step 1.</pre></div><div class='basic-renderer-box action'><h4 class='step-header'>[2] Action: ToolCalls</h4><pre class='step-text'>tool_calls:\n",
       "- function:\n",
       "    arguments: '{\"company_name\":\"Vulcan\"}'\n",
       "    name: get_stock_ticker\n",
       "  id: call_ylWnOdlrmXwpPQ4SRO0iVjPD\n",
       "  type: function\n",
       "kind: assistant\n",
       "</pre></div><div class='basic-renderer-box thought'><h4 class='step-header'>[3] Thought: SetNextNode</h4><pre class='step-text'>kind: set_next_node\n",
       "next_node: 1\n",
       "</pre></div><div class='basic-renderer-box observation'><h4 class='step-header'>[4] Observation: ToolResult</h4><pre class='step-text'>tool_call_id: call_ylWnOdlrmXwpPQ4SRO0iVjPD\n",
       "kind: tool\n",
       "\n",
       "VMC</pre></div><div class='basic-renderer-box action'><h4 class='step-header'>[5] Action: ToolCalls</h4><pre class='step-text'>tool_calls:\n",
       "- function:\n",
       "    arguments: '{\"symbol\":\"VMC\",\"start_date\":\"2024-01-01\",\"end_date\":\"2024-09-16\"}'\n",
       "    name: get_stock_data\n",
       "  id: call_aUP6C1f6bqbNOXA8oXvh1wj6\n",
       "  type: function\n",
       "kind: assistant\n",
       "</pre></div><div class='basic-renderer-box thought'><h4 class='step-header'>[6] Thought: SetNextNode</h4><pre class='step-text'>kind: set_next_node\n",
       "next_node: 1\n",
       "</pre></div><div class='basic-renderer-box observation'><h4 class='step-header'>[7] Observation: ToolResult</h4><pre class='step-text'>tool_call_id: call_aUP6C1f6bqbNOXA8oXvh1wj6\n",
       "kind: tool\n",
       "\n",
       "<details><summary>3088 characters ...</summary>[('2024-01-02', 223.60000610351562), ('2024-01-04', 220.67999267578125), ('2024-01-08', 224.0), ('2024-01-10', 226.11000061035156), ('2024-01-12', 223.9600067138672), ('2024-01-17', 221.25999450683594), ('2024-01-19', 226.0800018310547), ('2024-01-23', 222.8000030517578), ('2024-01-25', 223.41000366210938), ('2024-01-29', 229.3699951171875), ('2024-01-31', 226.00999450683594), ('2024-02-02', 234.44000244140625), ('2024-02-06', 231.5800018310547), ('2024-02-08', 238.44000244140625), ('2024-02-12', 240.1300048828125), ('2024-02-14', 241.10000610351562), ('2024-02-16', 255.14999389648438), ('2024-02-21', 253.42999267578125), ('2024-02-23', 257.2300109863281), ('2024-02-27', 263.55999755859375), ('2024-02-29', 265.8500061035156), ('2024-03-04', 267.8500061035156), ('2024-03-06', 267.3399963378906), ('2024-03-08', 266.70001220703125), ('2024-03-12', 269.5799865722656), ('2024-03-14', 270.7300109863281), ('2024-03-18', 269.4200134277344), ('2024-03-20', 271.739990234375), ('2024-03-22', 274.3599853515625), ('2024-03-26', 273.8699951171875), ('2024-03-28', 272.9200134277344), ('2024-04-02', 266.25), ('2024-04-04', 265.8900146484375), ('2024-04-08', 269.7200012207031), ('2024-04-10', 264.55999755859375), ('2024-04-12', 262.7799987792969), ('2024-04-16', 258.5400085449219), ('2024-04-18', 255.07000732421875), ('2024-04-22', 254.47999572753906), ('2024-04-24', 256.3999938964844), ('2024-04-26', 261.239990234375), ('2024-04-30', 257.6300048828125), ('2024-05-02', 264.4100036621094), ('2024-05-06', 266.6099853515625), ('2024-05-08', 267.92999267578125), ('2024-05-10', 272.07000732421875), ('2024-05-14', 267.75), ('2024-05-16', 260.0), ('2024-05-20', 260.2099914550781), ('2024-05-22', 260.8699951171875), ('2024-05-24', 259.25), ('2024-05-29', 251.91000366210938), ('2024-05-31', 255.77000427246094), ('2024-06-04', 250.4600067138672), ('2024-06-06', 248.5800018310547), ('2024-06-10', 247.80999755859375), ('2024-06-12', 249.1199951171875), ('2024-06-14', 252.63999938964844), ('2024-06-18', 255.61000061035156), ('2024-06-21', 247.80999755859375), ('2024-06-25', 246.14999389648438), ('2024-06-27', 247.75999450683594), ('2024-07-01', 243.72000122070312), ('2024-07-03', 243.9199981689453), ('2024-07-08', 241.97000122070312), ('2024-07-10', 247.72000122070312), ('2024-07-12', 252.50999450683594), ('2024-07-16', 262.80999755859375), ('2024-07-18', 256.0899963378906), ('2024-07-22', 260.6099853515625), ('2024-07-24', 250.50999450683594), ('2024-07-26', 261.7099914550781), ('2024-07-30', 270.0), ('2024-08-01', 271.1300048828125), ('2024-08-05', 257.42999267578125), ('2024-08-07', 241.22000122070312), ('2024-08-09', 244.33999633789062), ('2024-08-13', 243.83999633789062), ('2024-08-15', 246.57000732421875), ('2024-08-19', 244.2899932861328), ('2024-08-21', 247.83999633789062), ('2024-08-23', 254.88999938964844), ('2024-08-27', 240.41000366210938), ('2024-08-29', 241.27999877929688), ('2024-09-03', 239.02000427246094), ('2024-09-05', 232.16000366210938), ('2024-09-09', 231.8300018310547), ('2024-09-11', 232.9499969482422), ('2024-09-13', 237.47000122070312)]</details></pre></div><div class='basic-renderer-box action'><h4 class='step-header'>[8] Assistant</h4><pre class='step-text'>kind: assistant\n",
       "\n",
       "Vulcan Materials Company (VMC) is a leading producer of construction aggregates, primarily crushed stone, sand, and gravel, and a major producer of asphalt and ready-mixed concrete. Over the course of 2024, Vulcan's stock price has shown significant fluctuations, starting at approximately $223.60 in early January and reaching a peak of around $274.36 in late March, before experiencing a decline to about $237.47 by mid-September. This volatility reflects the broader market conditions and the company's operational performance throughout the year.</pre></div><div class='basic-renderer-box thought'><h4 class='step-header'>[9] Thought: SetNextNode</h4><pre class='step-text'>kind: set_next_node\n",
       "next_node: 0\n",
       "</pre></div>"
      ],
      "text/plain": [
       "<IPython.core.display.HTML object>"
      ]
     },
     "execution_count": 15,
     "metadata": {},
     "output_type": "execute_result"
    }
   ],
   "source": [
    "from tapeagents.core import SetNextNode\n",
    "from tapeagents.dialog_tape import AssistantThought, ToolCalls\n",
    "from tapeagents.environment import ToolEnvironment\n",
    "from tapeagents.runtime import main_loop\n",
    "from examples.intro_tools import get_stock_ticker, get_stock_data\n",
    "\n",
    "system_instruction = f\"\"\"\n",
    "You will help the user to learn about financials of companies.\n",
    "Use as many relevant tools as possible to include more details and facts in your responses.\n",
    "Today is {today}.\n",
    "\"\"\"\n",
    "system_message = {\"role\": \"system\", \"content\": system_instruction}\n",
    "\n",
    "env = ToolEnvironment([get_stock_ticker, get_stock_data])\n",
    "\n",
    "\n",
    "class PlanNode(Node):\n",
    "    def make_prompt(self, agent, tape: DialogTape) -> Prompt:\n",
    "        guidance = \"Write a natural language plan on how to use tools help the user. Output a list of numbered items, like 1., 2., 3., etc.\"\n",
    "        guidance_message = {\"role\": \"user\", \"content\": guidance}\n",
    "        return Prompt(\n",
    "            messages=[system_message] + tape_to_messages(tape) + [guidance_message], tools=env.get_tool_schema_dicts()\n",
    "        )\n",
    "\n",
    "    def generate_steps(self, agent, tape, llm_stream: LLMStream):\n",
    "        if content := llm_stream.get_message().content:\n",
    "            yield AssistantThought(content=content)\n",
    "        else:\n",
    "            raise ValueError()\n",
    "\n",
    "\n",
    "class ActNode(Node):\n",
    "    def make_prompt(self, agent, tape: DialogTape) -> Prompt:\n",
    "        guidance = \"Follow the plan you created to earlier. When you are done, respond to the user.\"\n",
    "        guidance_message = {\"role\": \"user\", \"content\": guidance}\n",
    "        return Prompt(\n",
    "            messages=[system_message] + tape_to_messages(tape) + [guidance_message], tools=env.get_tool_schema_dicts()\n",
    "        )\n",
    "\n",
    "    def generate_steps(self, agent, tape, llm_stream: LLMStream):\n",
    "        m = llm_stream.get_message()\n",
    "        if m.content:\n",
    "            yield AssistantStep(content=m.content)\n",
    "            yield SetNextNode(next_node=0)\n",
    "        elif m.tool_calls:\n",
    "            yield ToolCalls(tool_calls=m.tool_calls)\n",
    "            yield SetNextNode(next_node=1)\n",
    "        else:\n",
    "            raise ValueError()\n",
    "\n",
    "\n",
    "agent1 = Agent.create(LiteLLM(model_name=\"gpt-4o\", parameters={\"temperature\": 0.1}), nodes=[PlanNode(), ActNode()])\n",
    "\n",
    "print(\"Run the agent!\")\n",
    "final_tape1 = None\n",
    "for event in main_loop(agent1, DialogTape() + [UserStep(content=\"Tell me about Vulcan in 3 sentences\")], env):\n",
    "    if ae := event.agent_event:\n",
    "        if ae.step:\n",
    "            print(ae.step.model_dump_json(indent=2))\n",
    "        if ae.final_tape:\n",
    "            final_tape1 = ae.final_tape\n",
    "    if event.observation:\n",
    "        print(event.observation.model_dump_json(indent=2))\n",
    "assert final_tape1\n",
    "print(\"Final tape:\")\n",
    "HTML(render_tape_with_prompts(final_tape1, PrettyRenderer()))"
   ]
  },
  {
   "cell_type": "markdown",
   "metadata": {},
   "source": [
    "The main new thing in this example is the environment. In TapeAgents framework the environment responds to the agent `Action` steps with `Observation` steps. We expect you to use the environment to encapsulate tool use, retrieval, code execution: everything that is non-deterministic, non-stationary, or computationally heavy. On the contrary, we encourage you to implements the agent's deterministic decision-making in `make_prompt` and `generate_steps` methods.\n",
    "\n",
    "Here we use a pre-defined `main_loop` orchestrator to run the agent and the environment. `main_loop` is a generator of events that you can use as you wish. You are free to implement your own orchestration paradigm with a fine-grained control over what actions get to be executed."
   ]
  },
  {
   "cell_type": "markdown",
   "metadata": {},
   "source": [
    "# 3. Agent configuration, resumption"
   ]
  },
  {
   "cell_type": "markdown",
   "metadata": {},
   "source": [
    "Let's try building a similar agent with an open-weights LLAMA3.1 70B models. Conveniently, [Together AI](together.ai) offers API endpoints. You can create an account and get API key with some free quota."
   ]
  },
  {
   "cell_type": "markdown",
   "metadata": {},
   "source": [
    "## 0. Setup your LLM key"
   ]
  },
  {
   "cell_type": "code",
   "execution_count": 16,
   "metadata": {
    "execution": {
     "iopub.execute_input": "2024-09-27T21:41:34.352919Z",
     "iopub.status.busy": "2024-09-27T21:41:34.352570Z",
     "iopub.status.idle": "2024-09-27T21:41:34.355216Z",
     "shell.execute_reply": "2024-09-27T21:41:34.354874Z"
    }
   },
   "outputs": [],
   "source": [
    "# Set more environment variables in the .env file or set them here\n",
    "# os.environ[\"TOGETHER_API_KEY\"] = \"\" # put your https://together.ai/ key here\n",
    "# os.environ[\"HF_TOKEN\"] = \"\" # put your huggingface token here\n",
    "\n",
    "os.environ[\"TAPEAGENTS_LLM_TOKEN\"] = os.getenv(\"TOGETHER_API_KEY\", \"\")  # Use Together API Key for llms.TrainableLLM"
   ]
  },
  {
   "cell_type": "code",
   "execution_count": 17,
   "metadata": {
    "execution": {
     "iopub.execute_input": "2024-09-27T21:41:34.356919Z",
     "iopub.status.busy": "2024-09-27T21:41:34.356760Z",
     "iopub.status.idle": "2024-09-27T21:41:34.418674Z",
     "shell.execute_reply": "2024-09-27T21:41:34.418196Z"
    }
   },
   "outputs": [
    {
     "name": "stdout",
     "output_type": "stream",
     "text": [
      "The token has not been saved to the git credentials helper. Pass `add_to_git_credential=True` in this function directly or `--add-to-git-credential` if using via `huggingface-cli` if you want to set the git credential as well.\n",
      "Token is valid (permission: read).\n",
      "Your token has been saved to /Users/jordanprince.t/.cache/huggingface/token\n",
      "Login successful\n"
     ]
    }
   ],
   "source": [
    "# Login to Hugging Face Hub\n",
    "if \"PYTEST_CURRENT_TEST\" not in os.environ:  # skip login during tests\n",
    "    from huggingface_hub import login\n",
    "\n",
    "    login(token=os.environ.get(\"HF_TOKEN\"))"
   ]
  },
  {
   "cell_type": "markdown",
   "metadata": {},
   "source": [
    "#### Access to Hugging Face Gated Models\n",
    "Make sure you have access to each model we are going to use (read more [here](https://huggingface.co/docs/hub/en/models-gated#access-gated-models-as-a-user)):\n",
    "- https://huggingface.co/meta-llama/Meta-Llama-3-70B-Instruct\n",
    "\n",
    "##### Troubleshoot\n",
    "- If you receive a 401 error, it means the authentication failed.\n",
    "- If you receive a 403 error, it means you are authenticated but not authorized to access the specific model."
   ]
  },
  {
   "cell_type": "markdown",
   "metadata": {},
   "source": [
    "## 1 Setup your Agents\n",
    "\n",
    "We've found that LLAMA3 function-calling is not yet battle-ready. We will use the structured output approach to make it call tools instead. We are also making this agent trainable by adding `make_llm_output` methods to each node. `Node.make_llm_output` defines how a node can reconstruct the LLM completion message that would be required to make the steps from the given tape at the given index. You can think of `Node.make_llm_output` as the inverse of `Node.generate_steps`.\n",
    "\n",
    "When you run the code below, you might see a different behavior every time. Often the LLAMA-based agent gets stuck in a loop. We will look into how TapeAgents supports you in addressing this issue by\n",
    "- tuning the prompt and resuming the agent exactly where it got stuck \n",
    "- producing training text from a different agent's tape "
   ]
  },
  {
   "cell_type": "code",
   "execution_count": 18,
   "metadata": {
    "execution": {
     "iopub.execute_input": "2024-09-27T21:41:34.420845Z",
     "iopub.status.busy": "2024-09-27T21:41:34.420627Z",
     "iopub.status.idle": "2024-09-27T21:41:34.438520Z",
     "shell.execute_reply": "2024-09-27T21:41:34.438176Z"
    }
   },
   "outputs": [],
   "source": [
    "import json\n",
    "from tapeagents.core import LLMOutput\n",
    "from tapeagents.llms import TrainableLLM\n",
    "from litellm.utils import ChatCompletionMessageToolCall\n",
    "from litellm.utils import Function\n",
    "\n",
    "from tapeagents.prompting import step_to_message\n",
    "\n",
    "env = ToolEnvironment([get_stock_ticker, get_stock_data])\n",
    "\n",
    "system_instruction = f\"\"\"\n",
    "You will help the user to learn about financials of companies.\n",
    "Use as many relevant tools as possible to include more details and facts in your responses.\n",
    "Today is {today}.\n",
    "\n",
    "You have access to the following tools: {env.get_tool_schema_dicts()}\"\"\"\n",
    "\n",
    "planning_guidance = \"Write a natural language plan on how to use tools help the user. Output a list of numbered items, like 1., 2., 3., etc.\"\n",
    "\n",
    "call_or_respond_guidance = \"\"\"\n",
    "Follow the plan you created earlier. When you are done, respond to the user.\n",
    "If you want to call a or several tools, output JSON like this\n",
    "{\"kind\": \"tool_call\", \"tool_name\": \"...\", \"parameters\": \"... unquoted parameters json ...\"}\n",
    "If you have called all the tools in the plan, respond to the user with the JSON of the form\n",
    "{\"kind\": \"response\", \"content\": \"... you response ... \"}.\n",
    "Output ONE JSON OBJECT ONLY PER LINE ONLY AND NOTHING ELSE.\n",
    "\"\"\"\n",
    "\n",
    "\n",
    "class PlanNode(Node):\n",
    "    def make_prompt(self, agent, tape: DialogTape) -> Prompt:\n",
    "        system_message = {\"role\": \"system\", \"content\": system_instruction}\n",
    "        guidance_message = {\"role\": \"user\", \"content\": agent.templates[\"planning\"]}\n",
    "        return Prompt(messages=[system_message] + tape_to_messages(tape) + [guidance_message])\n",
    "\n",
    "    def generate_steps(self, agent, tape, llm_stream: LLMStream):\n",
    "        if content := getattr(llm_stream.get_message(), \"content\", None):\n",
    "            yield AssistantThought(content=content)\n",
    "        else:\n",
    "            raise ValueError()\n",
    "\n",
    "    def make_llm_output(self, agent, tape: DialogTape, index: int) -> LLMOutput:\n",
    "        if not isinstance(current := tape[index], AssistantThought):\n",
    "            raise ValueError()\n",
    "        return LLMOutput(role=\"assistant\", content=current.content)\n",
    "\n",
    "\n",
    "class ActNode(Node):\n",
    "    def make_prompt(self, agent, tape: DialogTape) -> Prompt:\n",
    "        system_message = {\"role\": \"system\", \"content\": system_instruction}\n",
    "        guidance_message = {\"role\": \"user\", \"content\": agent.templates[\"call_or_respond\"]}\n",
    "        messages = [system_message]\n",
    "        for step in tape:\n",
    "            if isinstance(step, (ToolCalls)):\n",
    "                messages.append({\"role\": \"assistant\", \"content\": _llm_message_content(step)})\n",
    "            elif not isinstance(step, SetNextNode):\n",
    "                messages.append(step_to_message(step))\n",
    "        messages += [guidance_message]\n",
    "        return Prompt(messages=messages)\n",
    "\n",
    "    def generate_steps(self, agent, tape, llm_stream: LLMStream):\n",
    "        m = llm_stream.get_message()\n",
    "        try:\n",
    "            assert m.content\n",
    "            tool_calls = []\n",
    "            response = None\n",
    "            for line in m.content.split(\"\\n\"):\n",
    "                data = json.loads(line)\n",
    "                if data.get(\"kind\") == \"response\":\n",
    "                    response = data[\"content\"]\n",
    "                elif data.get(\"kind\") == \"tool_call\":\n",
    "                    tool_call = ChatCompletionMessageToolCall(\n",
    "                        function=Function(name=data[\"tool_name\"], arguments=json.dumps(data[\"parameters\"])),\n",
    "                        # tool call must be a unique string, it helps to make it something deterministic\n",
    "                        id=f\"tool_call_{len(tool_calls)}_node_starts_at_{len(tape)}\",\n",
    "                    )\n",
    "                    tool_calls.append(tool_call)\n",
    "                else:\n",
    "                    yield AssistantStep(content=\"Invalid LLM output: kind field must be 'response' or 'tool_call'\")\n",
    "            if response and tool_calls:\n",
    "                yield AssistantStep(content=\"Invalid LLM output: response and tool_call cannot be in the same message\")\n",
    "            if response:\n",
    "                yield AssistantStep(content=response)\n",
    "                yield SetNextNode(next_node=0)\n",
    "            if tool_calls:\n",
    "                yield ToolCalls(tool_calls=tool_calls)\n",
    "                yield SetNextNode(next_node=1)\n",
    "        except Exception as e:\n",
    "            yield AssistantStep(content=\"Invalid JSON object: \" + str(e))\n",
    "\n",
    "    def make_llm_output(self, agent, tape: DialogTape, index: int) -> LLMOutput:\n",
    "        if not isinstance(step := tape[index], AssistantStep | ToolCalls):\n",
    "            raise ValueError()\n",
    "        content = _llm_message_content(step)\n",
    "        return LLMOutput(role=\"assistant\", content=content)\n",
    "\n",
    "\n",
    "def _llm_message_content(step: AssistantStep | ToolCalls):\n",
    "    \"\"\"Helper function to make both the prompt and the target completion\"\"\"\n",
    "    match step:\n",
    "        case AssistantStep():\n",
    "            return json.dumps({\"kind\": \"response\", \"content\": step.content})\n",
    "        case ToolCalls():\n",
    "            content = \"\"\n",
    "            for tool_call in step.tool_calls:\n",
    "                if content:\n",
    "                    content += \"\\n\"\n",
    "                content += json.dumps(\n",
    "                    {\n",
    "                        \"kind\": \"tool_call\",\n",
    "                        \"tool_name\": tool_call.function.name,\n",
    "                        \"parameters\": json.loads(tool_call.function.arguments),\n",
    "                    }\n",
    "                )\n",
    "            return content\n",
    "        case _:\n",
    "            raise ValueError()\n",
    "\n",
    "\n",
    "agent2 = Agent.create(\n",
    "    TrainableLLM(\n",
    "        base_url=\"https://api.together.xyz\",\n",
    "        model_name=\"meta-llama/Meta-Llama-3-70B-Instruct-Turbo\",\n",
    "        tokenizer_name=\"meta-llama/Meta-Llama-3-70B-Instruct\",\n",
    "        parameters=dict(temperature=0.01),\n",
    "    ),\n",
    "    templates={\n",
    "        \"system\": system_instruction,\n",
    "        \"planning\": planning_guidance,\n",
    "        \"call_or_respond\": call_or_respond_guidance,\n",
    "    },\n",
    "    nodes=[PlanNode(), ActNode()],\n",
    ")"
   ]
  },
  {
   "cell_type": "markdown",
   "metadata": {},
   "source": [
    "## 2 Run your Agent"
   ]
  },
  {
   "cell_type": "code",
   "execution_count": 19,
   "metadata": {
    "execution": {
     "iopub.execute_input": "2024-09-27T21:41:34.440049Z",
     "iopub.status.busy": "2024-09-27T21:41:34.439936Z",
     "iopub.status.idle": "2024-09-27T21:41:41.854142Z",
     "shell.execute_reply": "2024-09-27T21:41:41.853625Z"
    }
   },
   "outputs": [
    {
     "name": "stdout",
     "output_type": "stream",
     "text": [
      "Run LLAMA agent!\n"
     ]
    },
    {
     "name": "stdout",
     "output_type": "stream",
     "text": [
      "{\n",
      "  \"metadata\": {\n",
      "    \"id\": \"88eed541-c4b2-443e-99ab-345047270144\",\n",
      "    \"prompt_id\": \"2d06af36-91d4-410c-9f2e-0ed5d36375ad\",\n",
      "    \"node\": \"\",\n",
      "    \"agent\": \"Agent\",\n",
      "    \"other\": {}\n",
      "  },\n",
      "  \"content\": \"Here is a plan on how to use the available tools to provide information about Vulcan Materials:\\n\\n1. **Get the stock ticker**: Use the `get_stock_ticker` function to retrieve the stock ticker symbol for Vulcan Materials by passing the company name as an argument, `get_stock_ticker(\\\"Vulcan Materials\\\")`. This will provide the stock ticker symbol, for example, \\\"VMC\\\".\\n\\n2. **Retrieve stock data**: Use the `get_stock_data` function to retrieve the stock prices for Vulcan Materials over a specified time period. For example, we can retrieve the stock prices for the last year by calling `get_stock_data(\\\"VMC\\\", \\\"2023-09-17\\\", \\\"2024-09-17\\\")`. This will provide a list of tuples containing the date and corresponding stock price.\\n\\n3. **Analyze the stock data**: Analyze the retrieved stock data to provide relevant information about Vulcan Materials, such as its current stock price, price trends, and historical performance. This analysis can be used to generate a 3-sentence summary of the company.\\n\\nBy following these steps, we can provide a concise and informative summary of Vulcan Materials using the available tools.\",\n",
      "  \"kind\": \"assistant_thought\"\n",
      "}\n"
     ]
    },
    {
     "name": "stdout",
     "output_type": "stream",
     "text": [
      "{\n",
      "  \"metadata\": {\n",
      "    \"id\": \"88eed541-c4b2-443e-99ab-345047270144\",\n",
      "    \"prompt_id\": \"71196cb7-2d1d-4503-9550-817c0e13aa62\",\n",
      "    \"node\": \"\",\n",
      "    \"agent\": \"Agent\",\n",
      "    \"other\": {}\n",
      "  },\n",
      "  \"tool_calls\": [\n",
      "    {\n",
      "      \"function\": {\n",
      "        \"arguments\": \"{\\\"company_name\\\": \\\"Vulcan Materials\\\"}\",\n",
      "        \"name\": \"get_stock_ticker\"\n",
      "      },\n",
      "      \"id\": \"tool_call_0_node_starts_at_2\",\n",
      "      \"type\": \"function\"\n",
      "    }\n",
      "  ],\n",
      "  \"kind\": \"assistant\"\n",
      "}\n",
      "{\n",
      "  \"metadata\": {\n",
      "    \"id\": \"88eed541-c4b2-443e-99ab-345047270144\",\n",
      "    \"prompt_id\": \"71196cb7-2d1d-4503-9550-817c0e13aa62\",\n",
      "    \"node\": \"\",\n",
      "    \"agent\": \"Agent\",\n",
      "    \"other\": {}\n",
      "  },\n",
      "  \"kind\": \"set_next_node\",\n",
      "  \"next_node\": 1\n",
      "}\n"
     ]
    },
    {
     "name": "stdout",
     "output_type": "stream",
     "text": [
      "{\n",
      "  \"metadata\": {\n",
      "    \"id\": \"88eed541-c4b2-443e-99ab-345047270144\",\n",
      "    \"prompt_id\": \"\",\n",
      "    \"node\": \"\",\n",
      "    \"agent\": \"\",\n",
      "    \"other\": {}\n",
      "  },\n",
      "  \"content\": \"VMC\",\n",
      "  \"tool_call_id\": \"tool_call_0_node_starts_at_2\",\n",
      "  \"kind\": \"tool\"\n",
      "}\n"
     ]
    },
    {
     "name": "stdout",
     "output_type": "stream",
     "text": [
      "{\n",
      "  \"metadata\": {\n",
      "    \"id\": \"88eed541-c4b2-443e-99ab-345047270144\",\n",
      "    \"prompt_id\": \"5ed96cbd-e1c2-4b37-a07f-e8c0496650ee\",\n",
      "    \"node\": \"\",\n",
      "    \"agent\": \"Agent\",\n",
      "    \"other\": {}\n",
      "  },\n",
      "  \"tool_calls\": [\n",
      "    {\n",
      "      \"function\": {\n",
      "        \"arguments\": \"{\\\"symbol\\\": \\\"VMC\\\", \\\"start_date\\\": \\\"2023-09-17\\\", \\\"end_date\\\": \\\"2024-09-17\\\"}\",\n",
      "        \"name\": \"get_stock_data\"\n",
      "      },\n",
      "      \"id\": \"tool_call_0_node_starts_at_5\",\n",
      "      \"type\": \"function\"\n",
      "    }\n",
      "  ],\n",
      "  \"kind\": \"assistant\"\n",
      "}\n",
      "{\n",
      "  \"metadata\": {\n",
      "    \"id\": \"88eed541-c4b2-443e-99ab-345047270144\",\n",
      "    \"prompt_id\": \"5ed96cbd-e1c2-4b37-a07f-e8c0496650ee\",\n",
      "    \"node\": \"\",\n",
      "    \"agent\": \"Agent\",\n",
      "    \"other\": {}\n",
      "  },\n",
      "  \"kind\": \"set_next_node\",\n",
      "  \"next_node\": 1\n",
      "}\n"
     ]
    },
    {
     "name": "stdout",
     "output_type": "stream",
     "text": [
      "{\n",
      "  \"metadata\": {\n",
      "    \"id\": \"88eed541-c4b2-443e-99ab-345047270144\",\n",
      "    \"prompt_id\": \"\",\n",
      "    \"node\": \"\",\n",
      "    \"agent\": \"\",\n",
      "    \"other\": {}\n",
      "  },\n",
      "  \"content\": \"[('2023-09-18', 211.69000244140625), ('2023-09-22', 200.6199951171875), ('2023-09-28', 205.02999877929688), ('2023-10-04', 205.02999877929688), ('2023-10-10', 211.0), ('2023-10-16', 213.0399932861328), ('2023-10-20', 201.5500030517578), ('2023-10-26', 193.97000122070312), ('2023-11-01', 203.8000030517578), ('2023-11-07', 207.2100067138672), ('2023-11-13', 210.49000549316406), ('2023-11-17', 212.35000610351562), ('2023-11-24', 211.67999267578125), ('2023-11-30', 213.55999755859375), ('2023-12-06', 211.92999267578125), ('2023-12-12', 220.89999389648438), ('2023-12-18', 222.6999969482422), ('2023-12-22', 224.92999267578125), ('2023-12-29', 227.00999450683594), ('2024-01-05', 221.6199951171875), ('2024-01-11', 224.36000061035156), ('2024-01-18', 225.1199951171875), ('2024-01-24', 219.8000030517578), ('2024-01-30', 231.0500030517578), ('2024-02-05', 229.64999389648438), ('2024-02-09', 240.0), ('2024-02-15', 242.4600067138672), ('2024-02-22', 256.94000244140625), ('2024-02-28', 262.29998779296875), ('2024-03-05', 264.9800109863281), ('2024-03-11', 264.95001220703125), ('2024-03-15', 266.8599853515625), ('2024-03-21', 275.5899963378906), ('2024-03-27', 272.7900085449219), ('2024-04-03', 268.7699890136719), ('2024-04-09', 265.6199951171875), ('2024-04-15', 260.4700012207031), ('2024-04-19', 252.05999755859375), ('2024-04-25', 258.5400085449219), ('2024-05-01', 259.7300109863281), ('2024-05-07', 268.3500061035156), ('2024-05-13', 270.0899963378906), ('2024-05-17', 259.1000061035156), ('2024-05-23', 257.2099914550781), ('2024-05-30', 254.0800018310547), ('2024-06-05', 251.17999267578125), ('2024-06-11', 244.63999938964844), ('2024-06-17', 256.3500061035156), ('2024-06-24', 247.5800018310547), ('2024-06-28', 248.67999267578125), ('2024-07-05', 244.2100067138672), ('2024-07-11', 254.69000244140625), ('2024-07-17', 255.8000030517578), ('2024-07-23', 260.1499938964844), ('2024-07-29', 264.5299987792969), ('2024-08-02', 266.3399963378906), ('2024-08-08', 246.3300018310547), ('2024-08-14', 242.5), ('2024-08-20', 245.60000610351562), ('2024-08-26', 250.67999267578125), ('2024-08-30', 245.2100067138672), ('2024-09-06', 231.97000122070312), ('2024-09-12', 236.27000427246094)]\",\n",
      "  \"tool_call_id\": \"tool_call_0_node_starts_at_5\",\n",
      "  \"kind\": \"tool\"\n",
      "}\n"
     ]
    },
    {
     "name": "stdout",
     "output_type": "stream",
     "text": [
      "{\n",
      "  \"metadata\": {\n",
      "    \"id\": \"88eed541-c4b2-443e-99ab-345047270144\",\n",
      "    \"prompt_id\": \"4869852d-b47a-46d8-b7c1-2867831020a3\",\n",
      "    \"node\": \"\",\n",
      "    \"agent\": \"Agent\",\n",
      "    \"other\": {}\n",
      "  },\n",
      "  \"content\": \"Vulcan Materials Company, a leading producer of construction materials, has its stock listed under the ticker symbol VMC. As of 2024-09-17, the stock price is around 236.27. Over the past year, the stock has experienced fluctuations, with a highest price of 275.59 and a lowest price of 193.97, suggesting a relatively volatile market.\",\n",
      "  \"kind\": \"assistant\"\n",
      "}\n",
      "{\n",
      "  \"metadata\": {\n",
      "    \"id\": \"88eed541-c4b2-443e-99ab-345047270144\",\n",
      "    \"prompt_id\": \"4869852d-b47a-46d8-b7c1-2867831020a3\",\n",
      "    \"node\": \"\",\n",
      "    \"agent\": \"Agent\",\n",
      "    \"other\": {}\n",
      "  },\n",
      "  \"kind\": \"set_next_node\",\n",
      "  \"next_node\": 0\n",
      "}\n",
      "Final tape:\n"
     ]
    },
    {
     "data": {
      "text/html": [
       "<style>.basic-renderer-box { margin: 4px; padding: 2px; background: lavender; white-space: pre-wrap; color: black;}.basic-prompt-box { margin: 4px; padding: 2px; background: lavender; color: black;}.episode-row { display: flex; align-items: end; }.agent-column { width: 50%; }.user-column { width: 25%; }.annotator-column { width: 25%; }.inner-tape-container { display: flex }.inner-tape-indent { width: 10%; }.inner-tape { width: 90%; }</style><style>.observation { background-color: #baffc9;; }.error_observation { background-color: #dd0000; }.action { background-color: #cccccc; }.thought { background-color: #ffffdb; }.call { background-color: #ffffff; }.respond { background-color: #ffffff; }.step-header { margin: 2pt 2pt 2pt 0 !important; }.step-text { font-size: 12px; white-space: pre-wrap; word-wrap: break-word;}</style><h3>Metadata</h3><details> <summary> Show / Hide </summary> <div class='basic-renderer-box'>author: ''\n",
       "author_tape_id: null\n",
       "error: null\n",
       "id: 894171da-a1b3-4b50-aeea-15eb6c77a9dc\n",
       "n_added_steps: 2\n",
       "parent_id: 4298e6e7-5679-4139-be2d-e5d2a01db0f8\n",
       "result: null\n",
       "</div> </details><h3>Steps</h3><div class='basic-renderer-box observation'><h4 class='step-header'>[0] User</h4><pre class='step-text'>kind: user\n",
       "\n",
       "Tell me about Vulcan Materials in 3 sentences</pre></div><div class='basic-renderer-box thought'><h4 class='step-header'>[1] Thought: AssistantThought</h4><pre class='step-text'>kind: assistant_thought\n",
       "\n",
       "<details><summary>1116 characters ...</summary>Here is a plan on how to use the available tools to provide information about Vulcan Materials:\n",
       "\n",
       "1. **Get the stock ticker**: Use the `get_stock_ticker` function to retrieve the stock ticker symbol for Vulcan Materials by passing the company name as an argument, `get_stock_ticker(\"Vulcan Materials\")`. This will provide the stock ticker symbol, for example, \"VMC\".\n",
       "\n",
       "2. **Retrieve stock data**: Use the `get_stock_data` function to retrieve the stock prices for Vulcan Materials over a specified time period. For example, we can retrieve the stock prices for the last year by calling `get_stock_data(\"VMC\", \"2023-09-17\", \"2024-09-17\")`. This will provide a list of tuples containing the date and corresponding stock price.\n",
       "\n",
       "3. **Analyze the stock data**: Analyze the retrieved stock data to provide relevant information about Vulcan Materials, such as its current stock price, price trends, and historical performance. This analysis can be used to generate a 3-sentence summary of the company.\n",
       "\n",
       "By following these steps, we can provide a concise and informative summary of Vulcan Materials using the available tools.</details></pre></div><div class='basic-renderer-box action'><h4 class='step-header'>[2] Action: ToolCalls</h4><pre class='step-text'>tool_calls:\n",
       "- function:\n",
       "    arguments: '{\"company_name\": \"Vulcan Materials\"}'\n",
       "    name: get_stock_ticker\n",
       "  id: tool_call_0_node_starts_at_2\n",
       "  type: function\n",
       "kind: assistant\n",
       "</pre></div><div class='basic-renderer-box thought'><h4 class='step-header'>[3] Thought: SetNextNode</h4><pre class='step-text'>kind: set_next_node\n",
       "next_node: 1\n",
       "</pre></div><div class='basic-renderer-box observation'><h4 class='step-header'>[4] Observation: ToolResult</h4><pre class='step-text'>tool_call_id: tool_call_0_node_starts_at_2\n",
       "kind: tool\n",
       "\n",
       "VMC</pre></div><div class='basic-renderer-box action'><h4 class='step-header'>[5] Action: ToolCalls</h4><pre class='step-text'>tool_calls:\n",
       "- function:\n",
       "    arguments: '{\"symbol\": \"VMC\", \"start_date\": \"2023-09-17\", \"end_date\": \"2024-09-17\"}'\n",
       "    name: get_stock_data\n",
       "  id: tool_call_0_node_starts_at_5\n",
       "  type: function\n",
       "kind: assistant\n",
       "</pre></div><div class='basic-renderer-box thought'><h4 class='step-header'>[6] Thought: SetNextNode</h4><pre class='step-text'>kind: set_next_node\n",
       "next_node: 1\n",
       "</pre></div><div class='basic-renderer-box observation'><h4 class='step-header'>[7] Observation: ToolResult</h4><pre class='step-text'>tool_call_id: tool_call_0_node_starts_at_5\n",
       "kind: tool\n",
       "\n",
       "<details><summary>2195 characters ...</summary>[('2023-09-18', 211.69000244140625), ('2023-09-22', 200.6199951171875), ('2023-09-28', 205.02999877929688), ('2023-10-04', 205.02999877929688), ('2023-10-10', 211.0), ('2023-10-16', 213.0399932861328), ('2023-10-20', 201.5500030517578), ('2023-10-26', 193.97000122070312), ('2023-11-01', 203.8000030517578), ('2023-11-07', 207.2100067138672), ('2023-11-13', 210.49000549316406), ('2023-11-17', 212.35000610351562), ('2023-11-24', 211.67999267578125), ('2023-11-30', 213.55999755859375), ('2023-12-06', 211.92999267578125), ('2023-12-12', 220.89999389648438), ('2023-12-18', 222.6999969482422), ('2023-12-22', 224.92999267578125), ('2023-12-29', 227.00999450683594), ('2024-01-05', 221.6199951171875), ('2024-01-11', 224.36000061035156), ('2024-01-18', 225.1199951171875), ('2024-01-24', 219.8000030517578), ('2024-01-30', 231.0500030517578), ('2024-02-05', 229.64999389648438), ('2024-02-09', 240.0), ('2024-02-15', 242.4600067138672), ('2024-02-22', 256.94000244140625), ('2024-02-28', 262.29998779296875), ('2024-03-05', 264.9800109863281), ('2024-03-11', 264.95001220703125), ('2024-03-15', 266.8599853515625), ('2024-03-21', 275.5899963378906), ('2024-03-27', 272.7900085449219), ('2024-04-03', 268.7699890136719), ('2024-04-09', 265.6199951171875), ('2024-04-15', 260.4700012207031), ('2024-04-19', 252.05999755859375), ('2024-04-25', 258.5400085449219), ('2024-05-01', 259.7300109863281), ('2024-05-07', 268.3500061035156), ('2024-05-13', 270.0899963378906), ('2024-05-17', 259.1000061035156), ('2024-05-23', 257.2099914550781), ('2024-05-30', 254.0800018310547), ('2024-06-05', 251.17999267578125), ('2024-06-11', 244.63999938964844), ('2024-06-17', 256.3500061035156), ('2024-06-24', 247.5800018310547), ('2024-06-28', 248.67999267578125), ('2024-07-05', 244.2100067138672), ('2024-07-11', 254.69000244140625), ('2024-07-17', 255.8000030517578), ('2024-07-23', 260.1499938964844), ('2024-07-29', 264.5299987792969), ('2024-08-02', 266.3399963378906), ('2024-08-08', 246.3300018310547), ('2024-08-14', 242.5), ('2024-08-20', 245.60000610351562), ('2024-08-26', 250.67999267578125), ('2024-08-30', 245.2100067138672), ('2024-09-06', 231.97000122070312), ('2024-09-12', 236.27000427246094)]</details></pre></div><div class='basic-renderer-box action'><h4 class='step-header'>[8] Assistant</h4><pre class='step-text'>kind: assistant\n",
       "\n",
       "Vulcan Materials Company, a leading producer of construction materials, has its stock listed under the ticker symbol VMC. As of 2024-09-17, the stock price is around 236.27. Over the past year, the stock has experienced fluctuations, with a highest price of 275.59 and a lowest price of 193.97, suggesting a relatively volatile market.</pre></div><div class='basic-renderer-box thought'><h4 class='step-header'>[9] Thought: SetNextNode</h4><pre class='step-text'>kind: set_next_node\n",
       "next_node: 0\n",
       "</pre></div>"
      ],
      "text/plain": [
       "<IPython.core.display.HTML object>"
      ]
     },
     "execution_count": 19,
     "metadata": {},
     "output_type": "execute_result"
    }
   ],
   "source": [
    "final_tape2 = None\n",
    "print(\"Run LLAMA agent!\")\n",
    "for event in main_loop(\n",
    "    agent2, DialogTape() + [UserStep(content=\"Tell me about Vulcan Materials in 3 sentences\")], env, max_loops=3\n",
    "):\n",
    "    if ae := event.agent_event:\n",
    "        if ae.step:\n",
    "            print(ae.step.model_dump_json(indent=2))\n",
    "        if ae.final_tape:\n",
    "            final_tape2 = ae.final_tape\n",
    "    if event.observation:\n",
    "        print(event.observation.model_dump_json(indent=2))\n",
    "assert final_tape2 is not None\n",
    "print(\"Final tape:\")\n",
    "HTML(render_tape_with_prompts(final_tape2, PrettyRenderer()))"
   ]
  },
  {
   "cell_type": "markdown",
   "metadata": {},
   "source": [
    "Sometimes the above agent works well, but quite likely you are seeing that the LLAMA-based agent is having trouble. Let's try to help it. For reproducibility, we'll use a pre-recorded failed tape."
   ]
  },
  {
   "cell_type": "code",
   "execution_count": 20,
   "metadata": {
    "execution": {
     "iopub.execute_input": "2024-09-27T21:41:41.856298Z",
     "iopub.status.busy": "2024-09-27T21:41:41.856101Z",
     "iopub.status.idle": "2024-09-27T21:41:46.266978Z",
     "shell.execute_reply": "2024-09-27T21:41:46.266494Z"
    }
   },
   "outputs": [
    {
     "data": {
      "text/html": [
       "<style>.basic-renderer-box { margin: 4px; padding: 2px; background: lavender; white-space: pre-wrap; color: black;}.basic-prompt-box { margin: 4px; padding: 2px; background: lavender; color: black;}.episode-row { display: flex; align-items: end; }.agent-column { width: 50%; }.user-column { width: 25%; }.annotator-column { width: 25%; }.inner-tape-container { display: flex }.inner-tape-indent { width: 10%; }.inner-tape { width: 90%; }</style><style>.observation { background-color: #baffc9;; }.error_observation { background-color: #dd0000; }.action { background-color: #cccccc; }.thought { background-color: #ffffdb; }.call { background-color: #ffffff; }.respond { background-color: #ffffff; }.step-header { margin: 2pt 2pt 2pt 0 !important; }.step-text { font-size: 12px; white-space: pre-wrap; word-wrap: break-word;}</style><h3>Metadata</h3><details> <summary> Show / Hide </summary> <div class='basic-renderer-box'>author: ''\n",
       "author_tape_id: null\n",
       "error: null\n",
       "id: aca6eb08-8ae1-4758-a94a-2147dfc9775d\n",
       "n_added_steps: 2\n",
       "parent_id: 6005ef2e-caf8-458b-a378-c7f75a5a3cff\n",
       "result: null\n",
       "</div> </details><h3>Steps</h3><div class='basic-renderer-box observation'><h4 class='step-header'>[0] User</h4><pre class='step-text'>kind: user\n",
       "\n",
       "Tell me about Vulcan Materials in 3 sentences</pre></div><div class='basic-renderer-box thought'><h4 class='step-header'>[1] Thought: AssistantThought</h4><pre class='step-text'>kind: assistant_thought\n",
       "\n",
       "<details><summary>1206 characters ...</summary>Here's a plan to help the user learn about Vulcan Materials using the available tools:\n",
       "\n",
       "1. **Get the stock ticker symbol**: Use the `get_stock_ticker` function to retrieve the stock ticker symbol for Vulcan Materials by passing 'Vulcan Materials' as the `company_name` parameter. This will give us the ticker symbol, which we'll use for further research.\n",
       "\n",
       "2. **Get historical stock data**: Use the `get_stock_data` function to retrieve the historical stock prices for Vulcan Materials. We'll pass the obtained ticker symbol, a start date (e.g., '2020-01-01'), and an end date (e.g., '2024-09-17') as parameters to get the stock prices over the specified period.\n",
       "\n",
       "3. **Analyze the stock data**: Examine the obtained stock prices to identify trends, patterns, and correlations. We can calculate key metrics such as the average stock price, highest and lowest prices, and the overall stock performance over the specified period.\n",
       "\n",
       "4. **Provide an overview of Vulcan Materials**: Combine the obtained data with additional information about Vulcan Materials, such as its industry, sector, market capitalization, and major competitors, to provide a comprehensive overview of the company.\n",
       "\n",
       "Let's execute this plan!</details></pre></div><div class='basic-renderer-box action'><h4 class='step-header'>[2] Action: ToolCalls</h4><pre class='step-text'>tool_calls:\n",
       "- function:\n",
       "    arguments: '{\"company_name\": \"Vulcan Materials\"}'\n",
       "    name: get_stock_ticker\n",
       "  id: tool_call_0_node_starts_at_2\n",
       "  type: function\n",
       "kind: assistant\n",
       "</pre></div><div class='basic-renderer-box thought'><h4 class='step-header'>[3] Thought: SetNextNode</h4><pre class='step-text'>kind: set_next_node\n",
       "next_node: 1\n",
       "</pre></div><div class='basic-renderer-box observation'><h4 class='step-header'>[4] Observation: ToolResult</h4><pre class='step-text'>tool_call_id: tool_call_0_node_starts_at_2\n",
       "kind: tool\n",
       "\n",
       "VMC</pre></div><div class='basic-renderer-box action'><h4 class='step-header'>[5] Action: ToolCalls</h4><pre class='step-text'>tool_calls:\n",
       "- function:\n",
       "    arguments: '{\"symbol\": \"VMC\", \"start_date\": \"2020-01-01\", \"end_date\": \"2024-09-17\"}'\n",
       "    name: get_stock_data\n",
       "  id: tool_call_0_node_starts_at_5\n",
       "  type: function\n",
       "kind: assistant\n",
       "</pre></div><div class='basic-renderer-box thought'><h4 class='step-header'>[6] Thought: SetNextNode</h4><pre class='step-text'>kind: set_next_node\n",
       "next_node: 1\n",
       "</pre></div><div class='basic-renderer-box observation'><h4 class='step-header'>[7] Observation: ToolResult</h4><pre class='step-text'>tool_call_id: tool_call_0_node_starts_at_5\n",
       "kind: tool\n",
       "\n",
       "<details><summary>2615 characters ...</summary>[('2020-01-02', 142.72000122070312), ('2020-01-27', 138.8800048828125), ('2020-02-19', 135.39999389648438), ('2020-03-12', 107.12000274658203), ('2020-04-03', 99.20999908447266), ('2020-04-28', 110.7699966430664), ('2020-05-20', 101.47000122070312), ('2020-06-12', 112.08999633789062), ('2020-07-07', 122.66999816894531), ('2020-07-29', 121.08000183105469), ('2020-08-20', 126.11000061035156), ('2020-09-14', 130.33999633789062), ('2020-10-06', 141.30999755859375), ('2020-10-28', 137.47999572753906), ('2020-11-19', 140.11000061035156), ('2020-12-14', 135.44000244140625), ('2021-01-07', 162.00999450683594), ('2021-02-01', 152.0), ('2021-02-24', 174.14999389648438), ('2021-03-18', 168.0500030517578), ('2021-04-12', 174.35000610351562), ('2021-05-04', 189.2100067138672), ('2021-05-26', 183.92999267578125), ('2021-06-18', 165.83999633789062), ('2021-07-13', 173.52999877929688), ('2021-08-04', 179.66000366210938), ('2021-08-26', 187.52999877929688), ('2021-09-20', 169.4199981689453), ('2021-10-12', 170.8300018310547), ('2021-11-03', 195.0), ('2021-11-26', 197.4499969482422), ('2021-12-20', 198.77999877929688), ('2022-01-12', 202.8800048828125), ('2022-02-04', 184.0399932861328), ('2022-03-01', 174.44000244140625), ('2022-03-23', 177.33999633789062), ('2022-04-14', 174.77000427246094), ('2022-05-09', 162.9499969482422), ('2022-06-01', 164.5399932861328), ('2022-06-24', 145.82000732421875), ('2022-07-19', 152.57000732421875), ('2022-08-10', 174.52000427246094), ('2022-09-01', 166.22000122070312), ('2022-09-26', 153.9499969482422), ('2022-10-18', 158.77999877929688), ('2022-11-09', 168.94000244140625), ('2022-12-02', 184.49000549316406), ('2022-12-27', 175.67999267578125), ('2023-01-20', 178.88999938964844), ('2023-02-13', 186.05999755859375), ('2023-03-08', 178.9199981689453), ('2023-03-30', 170.13999938964844), ('2023-04-24', 171.41000366210938), ('2023-05-16', 195.00999450683594), ('2023-06-08', 206.17999267578125), ('2023-07-03', 223.33999633789062), ('2023-07-26', 223.4600067138672), ('2023-08-17', 213.3300018310547), ('2023-09-11', 216.58999633789062), ('2023-10-03', 199.99000549316406), ('2023-10-25', 203.3699951171875), ('2023-11-16', 212.27000427246094), ('2023-12-11', 218.86000061035156), ('2024-01-04', 220.67999267578125), ('2024-01-29', 229.3699951171875), ('2024-02-21', 253.42999267578125), ('2024-03-14', 270.7300109863281), ('2024-04-08', 269.7200012207031), ('2024-04-30', 257.6300048828125), ('2024-05-22', 260.8699951171875), ('2024-06-14', 252.63999938964844), ('2024-07-10', 247.72000122070312), ('2024-08-01', 271.1300048828125), ('2024-08-23', 254.88999938964844)]</details></pre></div><div class='basic-renderer-box action'><h4 class='step-header'>[8] Assistant</h4><pre class='step-text'>kind: assistant\n",
       "\n",
       "Vulcan Materials is a leading producer of construction materials, including crushed stone, sand, and gravel. The company's stock ticker symbol is VMC. Based on the historical stock data from 2020-01-01 to 2024-09-17, the average stock price is around 174.45. The highest stock price was 271.13 on 2024-08-01, and the lowest was 99.21 on 2020-04-03. Overall, the stock has shown an upward trend over the specified period, with some fluctuations. Vulcan Materials operates in the basic materials sector and has a market capitalization of around 24.6 billion USD.</pre></div><div class='basic-renderer-box thought'><h4 class='step-header'>[9] Thought: SetNextNode</h4><pre class='step-text'>kind: set_next_node\n",
       "next_node: 0\n",
       "</pre></div>"
      ],
      "text/plain": [
       "<IPython.core.display.HTML object>"
      ]
     },
     "execution_count": 20,
     "metadata": {},
     "output_type": "execute_result"
    }
   ],
   "source": [
    "with open(\"assets/failed_tape.json\") as src:\n",
    "    failed_tape = DialogTape.model_validate(json.load(src))\n",
    "agent2b = agent2.model_copy(deep=True)\n",
    "agent2b.templates[\"call_or_respond\"] += (\n",
    "    \"REMEMBER: check what tool calls you have already made. Do not do the same call again!\"\n",
    ")\n",
    "resume_from_step8 = agent2b.run(failed_tape[:8]).get_final_tape()\n",
    "HTML(render_tape_with_prompts(resume_from_step8, PrettyRenderer()))"
   ]
  },
  {
   "cell_type": "markdown",
   "metadata": {},
   "source": [
    "We found that this helpful hint often gets LLAMA-based agent unstuck. Note how easy it was to test it thanks to the ability of the agent to resume from step 8!"
   ]
  },
  {
   "cell_type": "markdown",
   "metadata": {},
   "source": [
    "# 4. Tape reuse and training data"
   ]
  },
  {
   "cell_type": "markdown",
   "metadata": {},
   "source": [
    "\n",
    "Another way to help this agent (or one with an even smaller LLM) is to finetune the LLM. And the most important step towards finetuning is making the training data!\n",
    "\n",
    "There are two ways to make training data in TapeAgents:\n",
    "- the basic one: use the `LLMCall` structures that the agent created when it produced the tape. You can retrieve them from the SQLite storage and convert into training text.\n",
    "- the much powerful one: call `agent.reuse` to reconstructed the prompts and outputs **and** to validate that with the reconstructed LLMCalls the agent would indeed create the given tape\n",
    "\n",
    "The big advantage of the second approach is that it allows you to use the tape from a teacher agent (think slower and more expensive) to train a student agent (think faster and cheaper). Or to train an agent on its own revised tapes.\n",
    "\n",
    "Of course, restrictions apply: the tape by agent A may not be reusable by agent B directly. You might have to add/remove some steps. But at least `agent.reuse` verifies if your tape modifications led to creation of a tape that the agent B can indeed produce."
   ]
  },
  {
   "cell_type": "markdown",
   "metadata": {},
   "source": [
    "#### Make training data from the past LLM calls"
   ]
  },
  {
   "cell_type": "code",
   "execution_count": 21,
   "metadata": {
    "execution": {
     "iopub.execute_input": "2024-09-27T21:41:46.269219Z",
     "iopub.status.busy": "2024-09-27T21:41:46.268924Z",
     "iopub.status.idle": "2024-09-27T21:41:46.275269Z",
     "shell.execute_reply": "2024-09-27T21:41:46.274937Z"
    }
   },
   "outputs": [
    {
     "name": "stdout",
     "output_type": "stream",
     "text": [
      "Retrieved 4 LLM calls from the tape.\n",
      "From the first retrieved LLM call, the LLM will be trained to predict this text:\n",
      "---\n",
      "<|start_header_id|>assistant<|end_header_id|>\n",
      "\n",
      "Here is a plan on how to use the available tools to provide information about Vulcan Materials:\n",
      "\n",
      "1. **Get the stock ticker**: Use the `get_stock_ticker` function to retrieve the stock ticker symbol for Vulcan Materials by passing the company name as an argument, `get_stock_ticker(\"Vulcan Materials\")`. This will provide the stock ticker symbol, for example, \"VMC\".\n",
      "\n",
      "2. **Retrieve stock data**: Use the `get_stock_data` function to retrieve the stock prices for Vulcan Materials over a specified time period. For example, we can retrieve the stock prices for the last year by calling `get_stock_data(\"VMC\", \"2023-09-17\", \"2024-09-17\")`. This will provide a list of tuples containing the date and corresponding stock price.\n",
      "\n",
      "3. **Analyze the stock data**: Analyze the retrieved stock data to provide relevant information about Vulcan Materials, such as its current stock price, price trends, and historical performance. This analysis can be used to generate a 3-sentence summary of the company.\n",
      "\n",
      "By following these steps, we can provide a concise and informative summary of Vulcan Materials using the available tools.<|eot_id|>\n"
     ]
    }
   ],
   "source": [
    "from tapeagents.observe import retrieve_tape_llm_calls\n",
    "\n",
    "llm_calls = retrieve_tape_llm_calls(final_tape2)\n",
    "print(f\"Retrieved {len(llm_calls)} LLM calls from the tape.\")\n",
    "# under the hood agent2 will route this request to its llm\n",
    "example_text = agent2.make_training_text(list(llm_calls.values())[0])\n",
    "print(\"From the first retrieved LLM call, the LLM will be trained to predict this text:\")\n",
    "print(\"---\")\n",
    "print(example_text.output_text)"
   ]
  },
  {
   "cell_type": "markdown",
   "metadata": {},
   "source": [
    "#### Make training data by reusing a tape"
   ]
  },
  {
   "cell_type": "markdown",
   "metadata": {},
   "source": [
    "Note how `agent2` reuses the tape by `agent1`, even though they have very different prompt and output formats! \n",
    "\n",
    "You can inspect the reused tape below and see that the steps are the same as before, but the prompts and outputs are different."
   ]
  },
  {
   "cell_type": "code",
   "execution_count": 22,
   "metadata": {
    "execution": {
     "iopub.execute_input": "2024-09-27T21:41:46.276848Z",
     "iopub.status.busy": "2024-09-27T21:41:46.276713Z",
     "iopub.status.idle": "2024-09-27T21:41:46.291862Z",
     "shell.execute_reply": "2024-09-27T21:41:46.291483Z"
    }
   },
   "outputs": [
    {
     "data": {
      "text/html": [
       "<style>.basic-renderer-box { margin: 4px; padding: 2px; background: lavender; white-space: pre-wrap; color: black;}.basic-prompt-box { margin: 4px; padding: 2px; background: lavender; color: black;}.episode-row { display: flex; align-items: end; }.agent-column { width: 50%; }.user-column { width: 25%; }.annotator-column { width: 25%; }.inner-tape-container { display: flex }.inner-tape-indent { width: 10%; }.inner-tape { width: 90%; }</style><style>.observation { background-color: #baffc9;; }.error_observation { background-color: #dd0000; }.action { background-color: #cccccc; }.thought { background-color: #ffffdb; }.call { background-color: #ffffff; }.respond { background-color: #ffffff; }.step-header { margin: 2pt 2pt 2pt 0 !important; }.step-text { font-size: 12px; white-space: pre-wrap; word-wrap: break-word;}</style><h3>Metadata</h3><details> <summary> Show / Hide </summary> <div class='basic-renderer-box'>author: null\n",
       "author_tape_id: null\n",
       "error: null\n",
       "id: e36f712b-6a3e-4207-a0b8-71d77057d794\n",
       "n_added_steps: 0\n",
       "parent_id: null\n",
       "result: null\n",
       "</div> </details><h3>Steps</h3><div class='basic-renderer-box observation'><h4 class='step-header'>[0] User</h4><pre class='step-text'>kind: user\n",
       "\n",
       "Tell me about Vulcan in 3 sentences</pre></div><div class='basic-renderer-box thought'><h4 class='step-header'>[1] Thought: AssistantThought</h4><pre class='step-text'>kind: assistant_thought\n",
       "\n",
       "To help the user learn about Vulcan's financials, I will follow these steps:\n",
       "\n",
       "1. **Get Stock Ticker**: Use the `functions.get_stock_ticker` tool to find the stock ticker symbol for Vulcan.\n",
       "2. **Get Stock Data**: Use the `functions.get_stock_data` tool to retrieve Vulcan's stock prices for a specified date range.\n",
       "3. **Analyze and Summarize**: Analyze the retrieved stock data and provide a summary of Vulcan's financial performance based on the stock prices.\n",
       "\n",
       "Let's start with step 1.</pre></div><div class='basic-renderer-box action'><h4 class='step-header'>[2] Action: ToolCalls</h4><pre class='step-text'>tool_calls:\n",
       "- function:\n",
       "    arguments: '{\"company_name\": \"Vulcan\"}'\n",
       "    name: get_stock_ticker\n",
       "  id: tool_call_0_node_starts_at_2\n",
       "  type: function\n",
       "kind: assistant\n",
       "</pre></div><div class='basic-renderer-box thought'><h4 class='step-header'>[3] Thought: SetNextNode</h4><pre class='step-text'>kind: set_next_node\n",
       "next_node: 1\n",
       "</pre></div><div class='basic-renderer-box observation'><h4 class='step-header'>[4] Observation: ToolResult</h4><pre class='step-text'>tool_call_id: call_ylWnOdlrmXwpPQ4SRO0iVjPD\n",
       "kind: tool\n",
       "\n",
       "VMC</pre></div><div class='basic-renderer-box action'><h4 class='step-header'>[5] Action: ToolCalls</h4><pre class='step-text'>tool_calls:\n",
       "- function:\n",
       "    arguments: '{\"symbol\": \"VMC\", \"start_date\": \"2024-01-01\", \"end_date\": \"2024-09-16\"}'\n",
       "    name: get_stock_data\n",
       "  id: tool_call_0_node_starts_at_5\n",
       "  type: function\n",
       "kind: assistant\n",
       "</pre></div><div class='basic-renderer-box thought'><h4 class='step-header'>[6] Thought: SetNextNode</h4><pre class='step-text'>kind: set_next_node\n",
       "next_node: 1\n",
       "</pre></div><div class='basic-renderer-box observation'><h4 class='step-header'>[7] Observation: ToolResult</h4><pre class='step-text'>tool_call_id: call_aUP6C1f6bqbNOXA8oXvh1wj6\n",
       "kind: tool\n",
       "\n",
       "<details><summary>3088 characters ...</summary>[('2024-01-02', 223.60000610351562), ('2024-01-04', 220.67999267578125), ('2024-01-08', 224.0), ('2024-01-10', 226.11000061035156), ('2024-01-12', 223.9600067138672), ('2024-01-17', 221.25999450683594), ('2024-01-19', 226.0800018310547), ('2024-01-23', 222.8000030517578), ('2024-01-25', 223.41000366210938), ('2024-01-29', 229.3699951171875), ('2024-01-31', 226.00999450683594), ('2024-02-02', 234.44000244140625), ('2024-02-06', 231.5800018310547), ('2024-02-08', 238.44000244140625), ('2024-02-12', 240.1300048828125), ('2024-02-14', 241.10000610351562), ('2024-02-16', 255.14999389648438), ('2024-02-21', 253.42999267578125), ('2024-02-23', 257.2300109863281), ('2024-02-27', 263.55999755859375), ('2024-02-29', 265.8500061035156), ('2024-03-04', 267.8500061035156), ('2024-03-06', 267.3399963378906), ('2024-03-08', 266.70001220703125), ('2024-03-12', 269.5799865722656), ('2024-03-14', 270.7300109863281), ('2024-03-18', 269.4200134277344), ('2024-03-20', 271.739990234375), ('2024-03-22', 274.3599853515625), ('2024-03-26', 273.8699951171875), ('2024-03-28', 272.9200134277344), ('2024-04-02', 266.25), ('2024-04-04', 265.8900146484375), ('2024-04-08', 269.7200012207031), ('2024-04-10', 264.55999755859375), ('2024-04-12', 262.7799987792969), ('2024-04-16', 258.5400085449219), ('2024-04-18', 255.07000732421875), ('2024-04-22', 254.47999572753906), ('2024-04-24', 256.3999938964844), ('2024-04-26', 261.239990234375), ('2024-04-30', 257.6300048828125), ('2024-05-02', 264.4100036621094), ('2024-05-06', 266.6099853515625), ('2024-05-08', 267.92999267578125), ('2024-05-10', 272.07000732421875), ('2024-05-14', 267.75), ('2024-05-16', 260.0), ('2024-05-20', 260.2099914550781), ('2024-05-22', 260.8699951171875), ('2024-05-24', 259.25), ('2024-05-29', 251.91000366210938), ('2024-05-31', 255.77000427246094), ('2024-06-04', 250.4600067138672), ('2024-06-06', 248.5800018310547), ('2024-06-10', 247.80999755859375), ('2024-06-12', 249.1199951171875), ('2024-06-14', 252.63999938964844), ('2024-06-18', 255.61000061035156), ('2024-06-21', 247.80999755859375), ('2024-06-25', 246.14999389648438), ('2024-06-27', 247.75999450683594), ('2024-07-01', 243.72000122070312), ('2024-07-03', 243.9199981689453), ('2024-07-08', 241.97000122070312), ('2024-07-10', 247.72000122070312), ('2024-07-12', 252.50999450683594), ('2024-07-16', 262.80999755859375), ('2024-07-18', 256.0899963378906), ('2024-07-22', 260.6099853515625), ('2024-07-24', 250.50999450683594), ('2024-07-26', 261.7099914550781), ('2024-07-30', 270.0), ('2024-08-01', 271.1300048828125), ('2024-08-05', 257.42999267578125), ('2024-08-07', 241.22000122070312), ('2024-08-09', 244.33999633789062), ('2024-08-13', 243.83999633789062), ('2024-08-15', 246.57000732421875), ('2024-08-19', 244.2899932861328), ('2024-08-21', 247.83999633789062), ('2024-08-23', 254.88999938964844), ('2024-08-27', 240.41000366210938), ('2024-08-29', 241.27999877929688), ('2024-09-03', 239.02000427246094), ('2024-09-05', 232.16000366210938), ('2024-09-09', 231.8300018310547), ('2024-09-11', 232.9499969482422), ('2024-09-13', 237.47000122070312)]</details></pre></div><div class='basic-renderer-box action'><h4 class='step-header'>[8] Assistant</h4><pre class='step-text'>kind: assistant\n",
       "\n",
       "Vulcan Materials Company (VMC) is a leading producer of construction aggregates, primarily crushed stone, sand, and gravel, and a major producer of asphalt and ready-mixed concrete. Over the course of 2024, Vulcan's stock price has shown significant fluctuations, starting at approximately $223.60 in early January and reaching a peak of around $274.36 in late March, before experiencing a decline to about $237.47 by mid-September. This volatility reflects the broader market conditions and the company's operational performance throughout the year.</pre></div><div class='basic-renderer-box thought'><h4 class='step-header'>[9] Thought: SetNextNode</h4><pre class='step-text'>kind: set_next_node\n",
       "next_node: 0\n",
       "</pre></div>"
      ],
      "text/plain": [
       "<IPython.core.display.HTML object>"
      ]
     },
     "execution_count": 22,
     "metadata": {},
     "output_type": "execute_result"
    }
   ],
   "source": [
    "reused_tape, _ = agent2.reuse(final_tape1)\n",
    "HTML(render_tape_with_prompts(reused_tape, PrettyRenderer()))"
   ]
  },
  {
   "cell_type": "markdown",
   "metadata": {},
   "source": [
    "We offer a quick way to harness the tape reuse to make training data. "
   ]
  },
  {
   "cell_type": "code",
   "execution_count": 23,
   "metadata": {
    "execution": {
     "iopub.execute_input": "2024-09-27T21:41:46.293165Z",
     "iopub.status.busy": "2024-09-27T21:41:46.293048Z",
     "iopub.status.idle": "2024-09-27T21:41:46.300555Z",
     "shell.execute_reply": "2024-09-27T21:41:46.300302Z"
    }
   },
   "outputs": [
    {
     "name": "stdout",
     "output_type": "stream",
     "text": [
      "<|start_header_id|>assistant<|end_header_id|>\n",
      "\n",
      "To help the user learn about Vulcan's financials, I will follow these steps:\n",
      "\n",
      "1. **Get Stock Ticker**: Use the `functions.get_stock_ticker` tool to find the stock ticker symbol for Vulcan.\n",
      "2. **Get Stock Data**: Use the `functions.get_stock_data` tool to retrieve Vulcan's stock prices for a specified date range.\n",
      "3. **Analyze and Summarize**: Analyze the retrieved stock data and provide a summary of Vulcan's financial performance based on the stock prices.\n",
      "\n",
      "Let's start with step 1.<|eot_id|>\n"
     ]
    }
   ],
   "source": [
    "training_data = agent2.make_training_data(final_tape1)\n",
    "print(training_data[0].output_text)"
   ]
  },
  {
   "cell_type": "markdown",
   "metadata": {},
   "source": [
    "What could be simpler than that?!\n",
    "We're only scratching the surface of what TapeAgents can do. We invite you to explore the other tutorials and examples to learn more about the TapeAgents framework."
   ]
  },
  {
   "cell_type": "markdown",
   "metadata": {},
   "source": [
    "# 5. Multi-agent teams, deeper dive into view stack"
   ]
  },
  {
   "cell_type": "markdown",
   "metadata": {},
   "source": [
    "Let's add a colleague to our agent that will help it search the internet! \n",
    "\n",
    "First thing, we need to give this colleague some tools. In TapeAgents, the agents do not use the environment directly, their interaction with the environment is mediated by in orchestrator such as you application. But the agents should know what tools they can call. And if you are using `main_loop` as the orchestrator, it requires one environment that contains tools of all the agents. \n",
    "\n",
    "Let's go ahead and define environments:\n",
    "- the environments of the root agent\n",
    "- the one of its internet search specialist colleague\n",
    "- the environment that contains all the tools.\n",
    "\n",
    "Note that we won't use the first two environments to produce observations, we'll use them only to generate tool schemas for agent."
   ]
  },
  {
   "cell_type": "code",
   "execution_count": 24,
   "metadata": {
    "execution": {
     "iopub.execute_input": "2024-09-27T21:41:46.301827Z",
     "iopub.status.busy": "2024-09-27T21:41:46.301722Z",
     "iopub.status.idle": "2024-09-27T21:41:46.313167Z",
     "shell.execute_reply": "2024-09-27T21:41:46.312930Z"
    }
   },
   "outputs": [],
   "source": [
    "from tapeagents.tools.simple_browser import SimpleTextBrowser\n",
    "\n",
    "browser = SimpleTextBrowser()\n",
    "search_agent_env = ToolEnvironment([browser.get_search_results, browser.get_page, browser.get_next_page])\n",
    "\n",
    "\n",
    "# We will use the tool choice mechanism to let the main agent call its search specialist agent.\n",
    "# To this end, we create a mock tool that represents calling the search agent.\n",
    "def call_search_agent(query: str):\n",
    "    \"\"\"Use this tool to ask a fellow AI agent to search for information on the web.\"\"\"\n",
    "    pass\n",
    "\n",
    "\n",
    "main_agent_env = ToolEnvironment([get_stock_ticker, get_stock_data, call_search_agent])\n",
    "whole_env = ToolEnvironment(\n",
    "    [get_stock_ticker, get_stock_data, browser.get_search_results, browser.get_page, browser.get_next_page]\n",
    ")"
   ]
  },
  {
   "cell_type": "markdown",
   "metadata": {},
   "source": [
    "Before we implement the subagent, let's review the way we do multi-agent communication in TapeAgents:\n",
    "- when the root agent wants to call its subagent \"xyz\", it puts `Call(agent_name=\"xyz\")` step on the tape\n",
    "- at the next iteration, the root agent will compute `TapeViewStack` and delegate to the currently active agent. Right after `Call(agent_name=\"B\")` on top of the stack there will be a new view associated with Agent \"xyz\". The root agent will delegate to \"xyz\" to make the prompt and to generate the steps from \"xyz\"'s current node.\n",
    "- when \"xyz\" is done it will put `Respond()` step on the tape. At the next iteration the view stack won't have \"xyz\"'s view on the top any more. \n",
    "\n",
    "A reader familiar with the concept of a call stack will find the `TapeViewStack` concept very similar...\n",
    "\n",
    "Note that for the purpose of computing the view stack the root agent's name is not known. It's view will be signed as \"root\".\n",
    "\n",
    "Let's explore the way `Call` and `Respond` works with a minimal example.\n"
   ]
  },
  {
   "cell_type": "code",
   "execution_count": 25,
   "metadata": {
    "execution": {
     "iopub.execute_input": "2024-09-27T21:41:46.314386Z",
     "iopub.status.busy": "2024-09-27T21:41:46.314285Z",
     "iopub.status.idle": "2024-09-27T21:41:46.317346Z",
     "shell.execute_reply": "2024-09-27T21:41:46.317093Z"
    }
   },
   "outputs": [
    {
     "name": "stdout",
     "output_type": "stream",
     "text": [
      "View stack after step 0\n",
      "-- root: UserStep\n",
      "View stack after step 1\n",
      "-- root: UserStep, Call\n",
      "-- root/xyz: Call\n",
      "View stack after step 2\n",
      "-- root: UserStep, Call\n",
      "-- root/xyz: Call, AssistantThought\n",
      "View stack after step 3\n",
      "-- root: UserStep, Call, Respond\n"
     ]
    }
   ],
   "source": [
    "from tapeagents.core import Call, Respond\n",
    "\n",
    "tape = DialogTape(\n",
    "    steps=[\n",
    "        UserStep(content=\"Compute 2 + 2\"),\n",
    "        Call(agent_name=\"xyz\", content=\"what is 2 + 2, dear xyz\"),\n",
    "        AssistantThought(content=\"deep thinking by agent xyz\"),\n",
    "        Respond(content=\"I heard it is 4\"),\n",
    "    ]\n",
    ")\n",
    "# We will print a brief summary of view stack after each step\n",
    "for i in range(0, len(tape)):\n",
    "    print(f\"View stack after step {i}\")\n",
    "    view_stack = TapeViewStack.compute(tape[: i + 1])\n",
    "    for view in view_stack.stack:\n",
    "        step_summary = \", \".join([step.__class__.__name__ for step in view.steps])\n",
    "        print(f\"-- {view.agent_full_name}: {step_summary}\")\n",
    "# Note how \"root/xyz\" view appears after step 1 and disappears after step 3.\n",
    "# Also note how \"root\" does not see private thoughts of \"xyz\" (step 2), and \"xyz\"\n",
    "# does not see the initial observation of root (step 0)"
   ]
  },
  {
   "cell_type": "markdown",
   "metadata": {},
   "source": [
    "We are now ready to proceed to the implementation of the internet search agent!"
   ]
  },
  {
   "cell_type": "code",
   "execution_count": 26,
   "metadata": {
    "execution": {
     "iopub.execute_input": "2024-09-27T21:41:46.318628Z",
     "iopub.status.busy": "2024-09-27T21:41:46.318537Z",
     "iopub.status.idle": "2024-09-27T21:41:56.681419Z",
     "shell.execute_reply": "2024-09-27T21:41:56.680257Z"
    }
   },
   "outputs": [
    {
     "data": {
      "text/html": [
       "<style>.basic-renderer-box { margin: 4px; padding: 2px; background: lavender; white-space: pre-wrap; color: black;}.basic-prompt-box { margin: 4px; padding: 2px; background: lavender; color: black;}.episode-row { display: flex; align-items: end; }.agent-column { width: 50%; }.user-column { width: 25%; }.annotator-column { width: 25%; }.inner-tape-container { display: flex }.inner-tape-indent { width: 10%; }.inner-tape { width: 90%; }</style><style>.observation { background-color: #baffc9;; }.error_observation { background-color: #dd0000; }.action { background-color: #cccccc; }.thought { background-color: #ffffdb; }.call { background-color: #ffffff; }.respond { background-color: #ffffff; }.step-header { margin: 2pt 2pt 2pt 0 !important; }.step-text { font-size: 12px; white-space: pre-wrap; word-wrap: break-word;}</style><h3>Metadata</h3><details> <summary> Show / Hide </summary> <div class='basic-renderer-box'>author: null\n",
       "author_tape_id: null\n",
       "error: null\n",
       "id: e6c7d16c-ec5e-431c-9bf8-65b305ee0f3c\n",
       "n_added_steps: 1\n",
       "parent_id: null\n",
       "result: null\n",
       "</div> </details><h3>Steps</h3><div class='basic-renderer-box call'><h4 class='step-header'>[0] Agent calls search_agent</h4><pre class='step-text'>kind: call\n",
       "agent_name: search_agent\n",
       "\n",
       "What influenced Nvidia stock price in late 2022?</pre></div><div class='basic-renderer-box action'><h4 class='step-header'>[1] Action: ToolCalls</h4><pre class='step-text'>tool_calls:\n",
       "- function:\n",
       "    arguments: '{\"query\":\"Nvidia stock price influences late 2022\",\"max_results\":5}'\n",
       "    name: get_search_results\n",
       "  id: call_vRsGhdLUtYAMfnlYEv0u5789\n",
       "  type: function\n",
       "kind: assistant\n",
       "</pre></div><div class='basic-renderer-box thought'><h4 class='step-header'>[2] Thought: SetNextNode</h4><pre class='step-text'>kind: set_next_node\n",
       "next_node: 0\n",
       "</pre></div><div class='basic-renderer-box observation'><h4 class='step-header'>[3] Observation: ToolResult</h4><pre class='step-text'>tool_call_id: call_vRsGhdLUtYAMfnlYEv0u5789\n",
       "kind: tool\n",
       "\n",
       "<details><summary>1834 characters ...</summary>[{'title': \"Nvidia's stock chart shows how bulls are using the recent ...\", 'url': 'https://www.morningstar.com/news/marketwatch/20240927301/nvidias-stock-chart-shows-how-bulls-are-using-the-recent-pause-to-get-refreshed', 'content': '2 hours ago — A check of history shows that the late 2018 downtrend that followed a three-year rally took the stock down 56%, and the late-2021 to late-2022\\xa0...'}, {'title': 'NVIDIA Corporation - Stock Info - Historical Price Lookup', 'url': 'https://investor.nvidia.com/stock-info/historical-price-lookup/default.aspx', 'content': 'Stock quote & chart, historical price lookup, investment calculator, fundamentals, analyst coverage, financial info, financial reports, SEC filings, quarterly\\xa0...'}, {'title': 'Nvidia Stock Eyes All-Time High Amid Rebound', 'url': 'https://www.investors.com/research/nvda-stock-is-nvidia-a-buy-2/', 'content': '6 hours ago — It reported three quarters of declining year-over-year sales and four quarters of tapering earnings in late 2022 and early 2023. But then\\xa0...'}, {'title': 'Is Nvidia Stock Recession-Proof? The Answer Might ...', 'url': 'https://www.theglobeandmail.com/investing/markets/stocks/NVDA/pressreleases/28539286/is-nvidia-stock-recession-proof-the-answer-might-surprise-you/', 'content': \"Sep 14, 2024 — Nvidia is sensitive to the economy's direction, and fears of a recession have threatened the stock in recent months as the unemployment rate is rising and\\xa0...\"}, {'title': 'Is Nvidia Stock In A Bubble Or Is It Justified By AI Growth?', 'url': 'https://www.forbes.com/sites/garthfriesen/2024/06/23/is-nvidia-stock-in-a-bubble-or-justified-by-ai-growth/', 'content': 'Jun 23, 2024 — Nvidia is no exception. Its shares fell by 66% at one point in 2022 and have had four drawdowns of approximately 15% or more in the last year\\xa0...'}]</details></pre></div><div class='basic-renderer-box action'><h4 class='step-header'>[4] Action: ToolCalls</h4><pre class='step-text'>tool_calls:\n",
       "- function:\n",
       "    arguments: '{\"url\":\"https://www.investors.com/research/nvda-stock-is-nvidia-a-buy-2/\"}'\n",
       "    name: get_page\n",
       "  id: call_ltXd0yOKoJ8RMD9S2xFLusJc\n",
       "  type: function\n",
       "kind: assistant\n",
       "</pre></div><div class='basic-renderer-box thought'><h4 class='step-header'>[5] Thought: SetNextNode</h4><pre class='step-text'>kind: set_next_node\n",
       "next_node: 0\n",
       "</pre></div><div class='basic-renderer-box observation'><h4 class='step-header'>[6] Observation: ToolResult</h4><pre class='step-text'>tool_call_id: call_ltXd0yOKoJ8RMD9S2xFLusJc\n",
       "kind: tool\n",
       "\n",
       "<details><summary>32986 characters ...</summary>('Title: Nvidia Stock Eyes All-Time High Amid Rebound; Is Nvidia A Buy Now?Investor\\'s Business Daily\\n=======================\\n![](https://www.queryly.com/images/whitesearchicon.png)\\n\\n* [Market Trend](https://research.investors.com/markettrend.aspx)\\n\\t+ [Market Trend](https://research.investors.com/markettrend.aspx)\\n\\t\\t- [The Big Picture](https://www.investors.com/category/market-trend/the-big-picture/)\\n\\t\\t- [Stock Market Data](https://www.investors.com/research/stock-market-data-dow-jones-sp-500-nasdaq-spdr-etfs/)\\n\\t\\t- [Stock Market Today](https://www.investors.com/news/stock-market-today-stock-market-news/)\\n\\t\\t- [New? Start Here](https://get.investors.com/getting-started/?src=A00332A&intcode=EditorialTests_GettingStarted_MarketTrend)\\n\\t\\t- [ETF Market Strategy](https://www.investors.com/market-trend/ibds-etf-market-strategy/ibds-etf-market-strategy/)\\n\\t\\t- [IBD Digital: 2 Months for $20](https://get.investors.com/ibd/?intcode=gnvb%7Cgnvb%7Cevgr%7C2021%7C08%7Cibdd%7Cna%7C%7C115458&src=AKCAGE)\\n\\t\\t- [Psychological Indicators](https://research.investors.com/psychological-market-indicators/)\\n* [Stock Lists](https://www.investors.com/stock-lists/stocks-to-watch-top-rated-ipos-big-caps-and-growth-stocks/)\\n\\t+ [Stock Lists](https://www.investors.com/stock-lists/stocks-to-watch-top-rated-ipos-big-caps-and-growth-stocks/)\\n\\t\\t- [**IBD 50**](https://research.investors.com/stock-lists/ibd-50/)\\n\\t\\t- [My Stock Lists](https://myibd.investors.com/my-ibd/portfolio.aspx)\\n\\t\\t- [Stocks Near A Buy Zone](https://www.investors.com/category/stock-lists/stocks-near-a-buy-zone/)\\n\\t\\t- [IBD ETF Indexes](https://www.investors.com/ibd-indexes/ibd-etf-indexes-ibd-50-etf-leaders-breakout-stocks-etf-ffty-ldrs-bout/)\\n\\t\\t- [**IBD Sector Leaders**](https://research.investors.com/stock-lists/sector-leaders)\\n\\t\\t- [Stock Lists Update](https://www.investors.com/stock-lists/best-growth-stocks-buy-watch-ibd-stock-lists/)\\n\\t\\t- [Relative Strength at New High](https://research.investors.com/stock-lists/relative-strength-at-new-high/)\\n\\t\\t- [IBD Data Tables](https://www.investors.com/ibd-data-tables/)\\n\\t\\t- [**IBD Big Cap 20**](https://research.investors.com/stock-lists/big-cap-20/)\\n\\t\\t- [Stocks On The Move](https://research.investors.com/stocksonthemove.aspx)\\n\\t\\t- [Rising Profit Estimates](https://research.investors.com/stock-lists/rising-profit-estimates/)\\n\\t\\t- [IBD Digital: 2 Months for $20](https://get.investors.com/ibd/?intcode=gnvb%7Cgnvb%7Cevgr%7C2021%7C08%7Cibdd%7Cna%7C%7C115458&src=AKCAGE)\\n\\t\\t- [**IBD Long\\\\-Term Leaders**](https://www.investors.com/research/best-stocks-to-buy-now-long-term-stocks-ibd-long-term-leaders-list/)\\n\\t\\t- [New Highs](https://research.investors.com/stock-lists/new-highs/)\\n\\t\\t- [Stocks Funds Are Buying](https://research.investors.com/stock-lists/stocks-that-funds-are-buying/)\\n\\t\\t- [New? Start Here](https://shop.investors.com/offer/splashresponsive.aspx?id=gettingstarted&src=A00332A&intcode=EditorialTests_GettingStarted_StockLists)\\n\\t\\t- [**IPO Leaders**](https://research.investors.com/stock-lists/ipo-leaders/)\\n\\t\\t- [Stock Spotlight](https://research.investors.com/stock-lists/stock-spotlight/)\\n\\t\\t- [Your Weekly Review](https://research.investors.com/stock-lists/your-weekly-review/)\\n* [Research](https://research.investors.com)\\n\\t+ [Stock Research](https://research.investors.com)\\n\\t\\t- [IBD Stock Checkup](https://research.investors.com/stock-checkup/)\\n\\t\\t- [Investing Action Plan](https://www.investors.com/category/research/investing-action-plan/)\\n\\t\\t- [The Income Investor](https://www.investors.com/category/research/the-income-investor/)\\n\\t\\t- [Stock Of The Day](https://www.investors.com/research/ibd-stock-of-the-day/)\\n\\t\\t- [Earnings Preview](https://www.investors.com/category/research/earnings-preview/)\\n\\t\\t- [IBD Stock Analysis](https://www.investors.com/category/research/ibd-stock-analysis/)\\n\\t\\t- [Screen Of The Day](https://www.investors.com/research/best-stocks-to-buy-watch-ibd-screen-of-the-day/)\\n\\t\\t- [Earnings Calendar](https://www.investors.com/research/earnings-calendar-analyst-estimates-stocks-to-watch/)\\n\\t\\t- [Industry Snapshot](https://www.investors.com/category/research/industry-snapshot/)\\n\\t\\t- [IBD Charts](https://research.investors.com/stock-charts/nasdaq-nasdaq-composite-0ndqc.htm?cht=pvc&type=daily)\\n\\t\\t- [Industry Themes](https://www.investors.com/category/research/ibd-industry-themes/)\\n\\t\\t- [IBD 50 Stocks To Watch](https://www.investors.com/research/ibd-50-growth-stocks-to-watch/)\\n\\t\\t- [Stock Screener](https://ibdstockscreener.investors.com)\\n\\t\\t- [The New America](https://www.investors.com/category/research/the-new-america/)\\n\\t\\t- [IBD Data Stories](https://www.investors.com/ibd-data-stories/build-your-investing-watch-list-with-stock-ratings-buy-zones-earnings/)\\n\\t\\t- [Swing Trading](https://www.investors.com/category/research/swing-trading/)\\n\\t\\t- [Best ETFs](https://www.investors.com/etfs-and-funds/etfs/best-etfs-exchange-traded-funds/)\\n\\t\\t- [IBD Digital: 2 Months for $20](https://get.investors.com/ibd/?intcode=gnvb%7Cgnvb%7Cevgr%7C2021%7C08%7Cibdd%7Cna%7C%7C115458&src=AKCAGE)\\n\\t\\t- [Options](https://www.investors.com/category/research/options/)\\n\\t\\t- [Best Mutual Funds](https://www.investors.com/etfs-and-funds/mutual-funds/best-mutual-funds-news-performance-reports-investing-ideas/)\\n\\t+ [Premium Investing Tools](https://research.investors.com)\\n\\t\\t- [MarketSurge](https://marketsurge.investors.com/)\\n\\t\\t- [IBD Live](https://research.investors.com/ibdlive)\\n\\t\\t- [Leaderboard](https://leaderboard.investors.com/)\\n\\t\\t- [SwingTrader](https://swingtrader.investors.com)\\n\\t\\t- [MarketDiem](https://get.investors.com/marketdiem/?intcode=lgnv%7Clgnv%7Cprdmcst%7C2022%7C10%7Cmkdm%7Cna%7C%7C832881&src=A00653)\\n* [NEWS](https://www.investors.com/tag/all-news-and-stock-ideas/)\\n\\t+ [NEWS](https://www.investors.com/tag/all-news-and-stock-ideas/)\\n\\t\\t- [*e*IBD](https://research.investors.com/eIBD)\\n\\t\\t- [Cryptocurrency](https://www.investors.com/news/cryptocurrency-prices-news/)\\n\\t\\t- [Technology](https://www.investors.com/technology/)\\n\\t\\t- [Retirement](https://www.investors.com/category/etfs-and-funds/retirement/)\\n\\t\\t- [Magnificent Seven Stocks](https://www.investors.com/research/magnificent-seven-stocks-latest-news-market-cap-weighting/)\\n\\t\\t- [Management](https://www.investors.com/management/)\\n\\t\\t- [Personal Finance](https://www.investors.com/category/etfs-and-funds/personal-finance/)\\n\\t\\t- [Industry News Pages](https://www.investors.com/news/industry-news-and-stocks-to-watch/)\\n\\t\\t- [Special Reports](https://www.investors.com/special-reports/)\\n\\t+ [ECONOMY](https://www.investors.com/economic-news-president-job-approval/)\\n\\t\\t- [Economic Calendar](https://research.investors.com/economic-calendar/)\\n\\t\\t- [IBD Digital: 2 Months for $20](https://get.investors.com/ibd/?intcode=gnvb%7Cgnvb%7Cevgr%7C2021%7C08%7Cibdd%7Cna%7C%7C115458&src=AKCAGE)\\n\\t\\t- [Economic News](https://www.investors.com/category/news/economy/)\\n* [Videos](https://www.investors.com/ibd-videos/)\\n\\t+ [VIDEOS \\\\& PODCASTS](https://www.investors.com/ibd-videos/)\\n\\t\\t- [IBD Live](https://research.investors.com/ibdlive)\\n\\t\\t- [Investing With IBD Podcast](https://www.investors.com/podcast)\\n\\t\\t- [How To Invest Videos](https://www.investors.com/ibd-videos/category/how-to-invest-videos)\\n\\t\\t- [Growth Stories Podcast](https://get.investors.com/growth-stories-podcast/)\\n\\t\\t- [Options Videos](https://www.investors.com/ibd-videos/category/options-ibd-videos?archive=1)\\n\\t\\t- [Online Courses](https://get.investors.com/online-courses/?src=A00272A)\\n\\t\\t- [Webinars](https://www.investors.com/ibd-videos/category/webinars)\\n\\t\\t- [IBD Digital: 2 Months for $20](https://get.investors.com/ibd/?intcode=gnvb%7Cgnvb%7Cevgr%7C2021%7C08%7Cibdd%7Cna%7C%7C115458&src=AKCAGE)\\n* [Learn](https://www.investors.com/how-to-invest/how-to-invest-rules-for-when-buy-and-sell-stocks-in-bull-and-bear-markets/)\\n\\t+ [How To Invest](https://www.investors.com/how-to-invest/how-to-invest-rules-for-when-buy-and-sell-stocks-in-bull-and-bear-markets/)\\n\\t\\t- [How To Invest In Stocks](https://www.investors.com/how-to-invest/how-to-invest-in-stocks-investing-for-beginners/)\\n\\t\\t- [When To Sell Stocks](https://www.investors.com/how-to-invest/when-to-sell-stocks/)\\n\\t\\t- [3 Keys To Stock Investing](https://www.investors.com/how-to-invest/stock-investing-how-to-make-money-in-stock-3-key-factors/)\\n\\t\\t- [Short Selling](https://www.investors.com/category/research/the-short-side/)\\n\\t\\t- [Stock Market Timing](https://www.investors.com/how-to-invest/stock-market-timing-how-to-invest-in-stocks-tracking-bull-markets-bear-markets-stock-market-trends/)\\n\\t\\t- [Swing Trading](https://www.investors.com/research/swing-trading/swing-trading-strategies/)\\n\\t\\t- [Tracking Stock Market Trends](https://www.investors.com/how-to-invest/how-to-handle-changing-stock-market-trends/)\\n\\t\\t- [What Is Crypto](https://www.investors.com/how-to-invest/cryptocurrency-what-is-crypto/)\\n\\t\\t- [How To Read Stock Charts](https://www.investors.com/how-to-invest/how-to-read-stock-charts-understanding-technical-analysis/)\\n\\t\\t- [Premium Online Courses](https://get.investors.com/online-courses/?src=A00272A)\\n\\t\\t- [How To Buy Stocks](https://www.investors.com/how-to-invest/how-to-buy-stocks-using-stock-lists-stock-ratings-stock-screener/)\\n\\t+ Educational Resources\\n\\t\\t- [New To IBD](https://get.investors.com/getting-started/)\\n\\t\\t- [Online Investing Courses](https://get.investors.com/online-courses/?src=APA1BQ)\\n\\t\\t- [Investor\\'s Corner](https://www.investors.com/category/how-to-invest/investors-corner/)\\n\\t\\t- [12 Days Of Learning](https://get.investors.com/ibd/12-days-of-learning/)\\n\\t\\t- [Investing With IBD Podcast](https://www.investors.com/podcast)\\n\\t\\t- [Investing Infographics](https://get.investors.com/infographics/)\\n\\t\\t- [Events \\\\& Webinars](https://get.investors.com/events/)\\n\\t\\t- [Chart School](https://workshops.investors.com/)\\n\\t\\t- [**IBD Moneyworks**](https://get.investors.com/moneyworks/)\\n* [MarketSurge](https://marketsurge.investors.com/?intcode=lgnv%7Clgnv%7CMarketSmith%7C2023%7C06%7Cmsp%7Cna%7C%7C725068&src=A00653)\\n* [IBD Live](https://research.investors.com/ibdlive?id=IBD-Live&src=A00582A)\\n* [Leaderboard](https://leaderboard.investors.com)\\n* [SwingTrader](https://swingtrader.investors.com)\\n* [MarketDiem](https://get.investors.com/marketdiem/?intcode=lgnv%7Clgnv%7Cprdmcst%7C2022%7C10%7Cmkdm%7Cna%7C%7C832881&src=A00653)\\n* [Store](https://get.investors.com/?src=APA1BQ)\\n\\n**BREAKING: [Core PCE Inflation Tame, Keeps Big Fed Rate Cut In Play](https://www.investors.com/news/economy/fed-inflation-report-core-price-index-tame-big-rate-cut-sp-500/)**\\n\\n[![Election Season Offer](https://www.investors.com/wp-content/uploads/2024/09/bc-election2024-alt-750x80-1.png)](https://get.investors.com/ibd/ibd-digital-2-for-12/?src=A00627&utm_source=i.com&utm_medium=NHPBroad&utm_campaign=ELECTION+2024&utm_id=ELECTION24)\\n\\n[![Investor\\'s Business Daily](https://www.investors.com/wp-content/themes/ibd/dist/images/ibd-logo.svg)](https://www.investors.com)\\n\\n Shopping Cart\\n\\n Your cart is currently empty.\\n Visit the [IBD Store](https://shop.investors.com) to get started.\\n\\n![](https://www.queryly.com/images/whitesearchicon.png)\\n\\n* [Market Trend](https://research.investors.com/markettrend.aspx)\\n\\t+ [Market Trend](https://research.investors.com/markettrend.aspx)\\n\\t\\t- [The Big Picture](https://www.investors.com/category/market-trend/the-big-picture/)\\n\\t\\t- [Stock Market Data](https://www.investors.com/research/stock-market-data-dow-jones-sp-500-nasdaq-spdr-etfs/)\\n\\t\\t- [Stock Market Today](https://www.investors.com/news/stock-market-today-stock-market-news/)\\n\\t\\t- [New? Start Here](https://get.investors.com/getting-started/?src=A00332A&intcode=EditorialTests_GettingStarted_MarketTrend)\\n\\t\\t- [ETF Market Strategy](https://www.investors.com/market-trend/ibds-etf-market-strategy/ibds-etf-market-strategy/)\\n\\t\\t- [IBD Digital: 2 Months for $20](https://get.investors.com/ibd/?intcode=gnvb%7Cgnvb%7Cevgr%7C2021%7C08%7Cibdd%7Cna%7C%7C115458&src=AKCAGE)\\n\\t\\t- [Psychological Indicators](https://research.investors.com/psychological-market-indicators/)\\n* [Stock Lists](https://www.investors.com/stock-lists/stocks-to-watch-top-rated-ipos-big-caps-and-growth-stocks/)\\n\\t+ [Stock Lists](https://www.investors.com/stock-lists/stocks-to-watch-top-rated-ipos-big-caps-and-growth-stocks/)\\n\\t\\t- [**IBD 50**](https://research.investors.com/stock-lists/ibd-50/)\\n\\t\\t- [My Stock Lists](https://myibd.investors.com/my-ibd/portfolio.aspx)\\n\\t\\t- [Stocks Near A Buy Zone](https://www.investors.com/category/stock-lists/stocks-near-a-buy-zone/)\\n\\t\\t- [IBD ETF Indexes](https://www.investors.com/ibd-indexes/ibd-etf-indexes-ibd-50-etf-leaders-breakout-stocks-etf-ffty-ldrs-bout/)\\n\\t\\t- [**IBD Sector Leaders**](https://research.investors.com/stock-lists/sector-leaders)\\n\\t\\t- [Stock Lists Update](https://www.investors.com/stock-lists/best-growth-stocks-buy-watch-ibd-stock-lists/)\\n\\t\\t- [Relative Strength at New High](https://research.investors.com/stock-lists/relative-strength-at-new-high/)\\n\\t\\t- [IBD Data Tables](https://www.investors.com/ibd-data-tables/)\\n\\t\\t- [**IBD Big Cap 20**](https://research.investors.com/stock-lists/big-cap-20/)\\n\\t\\t- [Stocks On The Move](https://research.investors.com/stocksonthemove.aspx)\\n\\t\\t- [Rising Profit Estimates](https://research.investors.com/stock-lists/rising-profit-estimates/)\\n\\t\\t- [IBD Digital: 2 Months for $20](https://get.investors.com/ibd/?intcode=gnvb%7Cgnvb%7Cevgr%7C2021%7C08%7Cibdd%7Cna%7C%7C115458&src=AKCAGE)\\n\\t\\t- [**IBD Long\\\\-Term Leaders**](https://www.investors.com/research/best-stocks-to-buy-now-long-term-stocks-ibd-long-term-leaders-list/)\\n\\t\\t- [New Highs](https://research.investors.com/stock-lists/new-highs/)\\n\\t\\t- [Stocks Funds Are Buying](https://research.investors.com/stock-lists/stocks-that-funds-are-buying/)\\n\\t\\t- [New? Start Here](https://shop.investors.com/offer/splashresponsive.aspx?id=gettingstarted&src=A00332A&intcode=EditorialTests_GettingStarted_StockLists)\\n\\t\\t- [**IPO Leaders**](https://research.investors.com/stock-lists/ipo-leaders/)\\n\\t\\t- [Stock Spotlight](https://research.investors.com/stock-lists/stock-spotlight/)\\n\\t\\t- [Your Weekly Review](https://research.investors.com/stock-lists/your-weekly-review/)\\n* [Research](https://research.investors.com)\\n\\t+ [Stock Research](https://research.investors.com)\\n\\t\\t- [IBD Stock Checkup](https://research.investors.com/stock-checkup/)\\n\\t\\t- [Investing Action Plan](https://www.investors.com/category/research/investing-action-plan/)\\n\\t\\t- [The Income Investor](https://www.investors.com/category/research/the-income-investor/)\\n\\t\\t- [Stock Of The Day](https://www.investors.com/research/ibd-stock-of-the-day/)\\n\\t\\t- [Earnings Preview](https://www.investors.com/category/research/earnings-preview/)\\n\\t\\t- [IBD Stock Analysis](https://www.investors.com/category/research/ibd-stock-analysis/)\\n\\t\\t- [Screen Of The Day](https://www.investors.com/research/best-stocks-to-buy-watch-ibd-screen-of-the-day/)\\n\\t\\t- [Earnings Calendar](https://www.investors.com/research/earnings-calendar-analyst-estimates-stocks-to-watch/)\\n\\t\\t- [Industry Snapshot](https://www.investors.com/category/research/industry-snapshot/)\\n\\t\\t- [IBD Charts](https://research.investors.com/stock-charts/nasdaq-nasdaq-composite-0ndqc.htm?cht=pvc&type=daily)\\n\\t\\t- [Industry Themes](https://www.investors.com/category/research/ibd-industry-themes/)\\n\\t\\t- [IBD 50 Stocks To Watch](https://www.investors.com/research/ibd-50-growth-stocks-to-watch/)\\n\\t\\t- [Stock Screener](https://ibdstockscreener.investors.com)\\n\\t\\t- [The New America](https://www.investors.com/category/research/the-new-america/)\\n\\t\\t- [IBD Data Stories](https://www.investors.com/ibd-data-stories/build-your-investing-watch-list-with-stock-ratings-buy-zones-earnings/)\\n\\t\\t- [Swing Trading](https://www.investors.com/category/research/swing-trading/)\\n\\t\\t- [Best ETFs](https://www.investors.com/etfs-and-funds/etfs/best-etfs-exchange-traded-funds/)\\n\\t\\t- [IBD Digital: 2 Months for $20](https://get.investors.com/ibd/?intcode=gnvb%7Cgnvb%7Cevgr%7C2021%7C08%7Cibdd%7Cna%7C%7C115458&src=AKCAGE)\\n\\t\\t- [Options](https://www.investors.com/category/research/options/)\\n\\t\\t- [Best Mutual Funds](https://www.investors.com/etfs-and-funds/mutual-funds/best-mutual-funds-news-performance-reports-investing-ideas/)\\n\\t+ [Premium Investing Tools](https://research.investors.com)\\n\\t\\t- [MarketSurge](https://marketsurge.investors.com/)\\n\\t\\t- [IBD Live](https://research.investors.com/ibdlive)\\n\\t\\t- [Leaderboard](https://leaderboard.investors.com/)\\n\\t\\t- [SwingTrader](https://swingtrader.investors.com)\\n\\t\\t- [MarketDiem](https://get.investors.com/marketdiem/?intcode=lgnv%7Clgnv%7Cprdmcst%7C2022%7C10%7Cmkdm%7Cna%7C%7C832881&src=A00653)\\n* [NEWS](https://www.investors.com/tag/all-news-and-stock-ideas/)\\n\\t+ [NEWS](https://www.investors.com/tag/all-news-and-stock-ideas/)\\n\\t\\t- [*e*IBD](https://research.investors.com/eIBD)\\n\\t\\t- [Cryptocurrency](https://www.investors.com/news/cryptocurrency-prices-news/)\\n\\t\\t- [Technology](https://www.investors.com/technology/)\\n\\t\\t- [Retirement](https://www.investors.com/category/etfs-and-funds/retirement/)\\n\\t\\t- [Magnificent Seven Stocks](https://www.investors.com/research/magnificent-seven-stocks-latest-news-market-cap-weighting/)\\n\\t\\t- [Management](https://www.investors.com/management/)\\n\\t\\t- [Personal Finance](https://www.investors.com/category/etfs-and-funds/personal-finance/)\\n\\t\\t- [Industry News Pages](https://www.investors.com/news/industry-news-and-stocks-to-watch/)\\n\\t\\t- [Special Reports](https://www.investors.com/special-reports/)\\n\\t+ [ECONOMY](https://www.investors.com/economic-news-president-job-approval/)\\n\\t\\t- [Economic Calendar](https://research.investors.com/economic-calendar/)\\n\\t\\t- [IBD Digital: 2 Months for $20](https://get.investors.com/ibd/?intcode=gnvb%7Cgnvb%7Cevgr%7C2021%7C08%7Cibdd%7Cna%7C%7C115458&src=AKCAGE)\\n\\t\\t- [Economic News](https://www.investors.com/category/news/economy/)\\n* [Videos](https://www.investors.com/ibd-videos/)\\n\\t+ [VIDEOS \\\\& PODCASTS](https://www.investors.com/ibd-videos/)\\n\\t\\t- [IBD Live](https://research.investors.com/ibdlive)\\n\\t\\t- [Investing With IBD Podcast](https://www.investors.com/podcast)\\n\\t\\t- [How To Invest Videos](https://www.investors.com/ibd-videos/category/how-to-invest-videos)\\n\\t\\t- [Growth Stories Podcast](https://get.investors.com/growth-stories-podcast/)\\n\\t\\t- [Options Videos](https://www.investors.com/ibd-videos/category/options-ibd-videos?archive=1)\\n\\t\\t- [Online Courses](https://get.investors.com/online-courses/?src=A00272A)\\n\\t\\t- [Webinars](https://www.investors.com/ibd-videos/category/webinars)\\n\\t\\t- [IBD Digital: 2 Months for $20](https://get.investors.com/ibd/?intcode=gnvb%7Cgnvb%7Cevgr%7C2021%7C08%7Cibdd%7Cna%7C%7C115458&src=AKCAGE)\\n* [Learn](https://www.investors.com/how-to-invest/how-to-invest-rules-for-when-buy-and-sell-stocks-in-bull-and-bear-markets/)\\n\\t+ [How To Invest](https://www.investors.com/how-to-invest/how-to-invest-rules-for-when-buy-and-sell-stocks-in-bull-and-bear-markets/)\\n\\t\\t- [How To Invest In Stocks](https://www.investors.com/how-to-invest/how-to-invest-in-stocks-investing-for-beginners/)\\n\\t\\t- [When To Sell Stocks](https://www.investors.com/how-to-invest/when-to-sell-stocks/)\\n\\t\\t- [3 Keys To Stock Investing](https://www.investors.com/how-to-invest/stock-investing-how-to-make-money-in-stock-3-key-factors/)\\n\\t\\t- [Short Selling](https://www.investors.com/category/research/the-short-side/)\\n\\t\\t- [Stock Market Timing](https://www.investors.com/how-to-invest/stock-market-timing-how-to-invest-in-stocks-tracking-bull-markets-bear-markets-stock-market-trends/)\\n\\t\\t- [Swing Trading](https://www.investors.com/research/swing-trading/swing-trading-strategies/)\\n\\t\\t- [Tracking Stock Market Trends](https://www.investors.com/how-to-invest/how-to-handle-changing-stock-market-trends/)\\n\\t\\t- [What Is Crypto](https://www.investors.com/how-to-invest/cryptocurrency-what-is-crypto/)\\n\\t\\t- [How To Read Stock Charts](https://www.investors.com/how-to-invest/how-to-read-stock-charts-understanding-technical-analysis/)\\n\\t\\t- [Premium Online Courses](https://get.investors.com/online-courses/?src=A00272A)\\n\\t\\t- [How To Buy Stocks](https://www.investors.com/how-to-invest/how-to-buy-stocks-using-stock-lists-stock-ratings-stock-screener/)\\n\\t+ Educational Resources\\n\\t\\t- [New To IBD](https://get.investors.com/getting-started/)\\n\\t\\t- [Online Investing Courses](https://get.investors.com/online-courses/?src=APA1BQ)\\n\\t\\t- [Investor\\'s Corner](https://www.investors.com/category/how-to-invest/investors-corner/)\\n\\t\\t- [12 Days Of Learning](https://get.investors.com/ibd/12-days-of-learning/)\\n\\t\\t- [Investing With IBD Podcast](https://www.investors.com/podcast)\\n\\t\\t- [Investing Infographics](https://get.investors.com/infographics/)\\n\\t\\t- [Events \\\\& Webinars](https://get.investors.com/events/)\\n\\t\\t- [Chart School](https://workshops.investors.com/)\\n\\t\\t- [**IBD Moneyworks**](https://get.investors.com/moneyworks/)\\n* [MarketSurge](https://marketsurge.investors.com/?intcode=lgnv%7Clgnv%7CMarketSmith%7C2023%7C06%7Cmsp%7Cna%7C%7C725068&src=A00653)\\n* [IBD Live](https://research.investors.com/ibdlive?id=IBD-Live&src=A00582A)\\n* [Leaderboard](https://leaderboard.investors.com)\\n* [SwingTrader](https://swingtrader.investors.com)\\n* [MarketDiem](https://get.investors.com/marketdiem/?intcode=lgnv%7Clgnv%7Cprdmcst%7C2022%7C10%7Cmkdm%7Cna%7C%7C832881&src=A00653)\\n* [Store](https://get.investors.com/?src=APA1BQ)\\n* Shopping CartYour cart is currently empty.\\n Visit the [IBD Store](https://shop.investors.com) to get started.\\n*\\n\\nHi\\n\\n[MY IBD](https://myibd.investors.com)\\n[SIGN OUT](https://myibd.investors.com/logout.aspx)\\n\\n+ [My Products](#)\\n+ [My Favorites](#)\\n+ [My Stock Lists](#)\\n\\n[Edit Favorites](https://myibd.investors.com/edit-favorites/)\\n\\n* [Sign In](https://myibd.investors.com/secure/signin.aspx?eurl=) or [Subscribe](https://get.investors.com/ibd/?intcode=hpsubbutton%7Chpsubbutton%7Cna%7Cna%7Cna%7Cna%7Cna%7C%7C144112&src=A00544)\\n\\n---\\n\\n* [Research](https://www.investors.com/category/research/)\\n\\n Nvidia Eyes All\\\\-Time High Amid Rebound, AI Demand; Is Nvidia A Buy Now?\\n========================================================================\\n\\n[![Facebook](/wp-content/themes/ibd/dist/images/share-icons/facebook.png)](https://www.addtoany.com/add_to/facebook?linkurl=https%3A%2F%2Fwww.investors.com%2Fresearch%2Fnvda-stock-is-nvidia-a-buy-2%2F&linkname=Nvidia%20Eyes%20All-Time%20High%20Amid%20Rebound%2C%20AI%20Demand%3B%20Is%20Nvidia%20A%20Buy%20Now%3F \"Facebook\")[![X](/wp-content/themes/ibd/dist/images/share-icons/x.png)](https://www.addtoany.com/add_to/x?linkurl=https%3A%2F%2Fwww.investors.com%2Fresearch%2Fnvda-stock-is-nvidia-a-buy-2%2F&linkname=Nvidia%20Eyes%20All-Time%20High%20Amid%20Rebound%2C%20AI%20Demand%3B%20Is%20Nvidia%20A%20Buy%20Now%3F \"X\")[![LinkedIn](/wp-content/themes/ibd/dist/images/share-icons/linkedin.png)](https://www.addtoany.com/add_to/linkedin?linkurl=https%3A%2F%2Fwww.investors.com%2Fresearch%2Fnvda-stock-is-nvidia-a-buy-2%2F&linkname=Nvidia%20Eyes%20All-Time%20High%20Amid%20Rebound%2C%20AI%20Demand%3B%20Is%20Nvidia%20A%20Buy%20Now%3F \"LinkedIn\")[![Share](/wp-content/themes/ibd/dist/images/share-icons/email.png)](https://www.addtoany.com/share) [Licensing](https://www.ibdlicensing.com)\\n\\n* [VIDYA RAMAKRISHNAN](https://www.investors.com/author/ramakrishnanv/ \"Posts by VIDYA RAMAKRISHNAN\")\\n* 09:57 AM ET 09/27/2024\\n\\nWhen a stock pulls back, it is [best not to panic](https://www.investors.com/how-to-invest/how-to-invest-in-stocks-investing-for-beginners/). **Nvidia** ([NVDA](https://research.investors.com/quote.aspx?symbol=NVDA))\\xa0traded slightly lower early Friday after a strong rebound earlier this week. That is normal action. [Volume](https://www.investors.com/how-to-invest/investors-corner/stock-chart-analysis-study-volume-in-bases/) was lighter and suggested that the stock is just taking a breather after its recent run.\\n\\n↑\\nX\\n\\n[How Nvidia Is Injecting AI Into The Health Care Industry](https://www.investors.com/ibd-videos/videos/nvidia-injecting-ai-health-care-industry)\\n\\n[See All Videos](https://www.investors.com/ibd-videos)\\n\\nNOW PLAYING\\nHow Nvidia Is Injecting AI Into The Health Care Industry\\n\\nNvidia stock has cleared multiple [trendline](https://www.investors.com/how-to-invest/investors-corner/looking-for-an-earlier-entry-in-a-stock-learn-how-to-do-this/?refcode=BBB-04262022-2-B-9:04:2022:2Q:NewsLetter:Email:BBB-04262022:na:na:na:na:26:10:2:B:9&j=1566189&sfmc_sub=172274927&l=222_HTML&u=20328680&mid=100016628&jb=1) entries this week. In just over one week, the stock has gone from being 3% below to 6% above its [50\\\\-day moving average.](https://www.investors.com/how-to-invest/investors-corner/what-is-the-50-day-moving-average-when-to-buy-or-sell-growth-stocks/)\\n\\nShares are just 13% below their split\\\\-adjusted all\\\\-time high of 140\\\\.76 after a weekly gain of 7% as of Thursday\\'s closing price.\\n\\nNvidia stock has also rejoined the $3 trillion market cap club after memory chip maker **Micron** ([MU](https://research.investors.com/quote.aspx?symbol=MU)) reported results and cited robust AI demand. The news boosted the chip sector.\\n\\nBut should you be [buying Nvidia stock now](https://www.investors.com/ibd-university/how-to-buy/common-patterns-1/)?\\n\\n [Timing your stock purchases](https://www.investors.com/how-to-invest/investors-corner/stock-market-investing-ibd-methodology/) can surely improve gains. Yet even with an obvious market leader like Nvidia, it\\'s not easy to tell whether you should [buy or sell the stock now](https://www.investors.com/how-to-invest/how-to-buy-stocks-using-stock-lists-stock-ratings-stock-screener/). [Chart signals](https://www.investors.com/how-to-invest/how-to-read-stock-charts-understanding-technical-analysis/) and checking [several technical measures](https://www.investors.com/how-to-invest/how-to-buy-stocks-using-stock-lists-stock-ratings-stock-screener/) can help investors assess [whether Nvidia stock is a buy now](https://www.investors.com/how-to-invest/how-to-buy-stocks-using-stock-lists-stock-ratings-stock-screener/).\\n\\nAI\\'s Total Addressable Market\\n-----------------------------\\n\\nOn Wednesday, shares rose after consulting firm Bain said the total addressable market for artificial intelligence hardware and software will grow 40% to 55% for [at least next three years](https://www.marketwatch.com/articles/nvidia-stock-price-ai-chip-demand-95760797?mod=search_headline). Demand for Nvidia\\'s next generation graphic processing units GB200 is expected to reach 3 million in 2026 vs. 1\\\\.5 million for its H100 units in 2023\\\\.\\n\\nShares are recovering from last week\\'s minor fall. According to [Barron\\'s](https://www.barrons.com/articles/nvidia-stock-price-top-performers-d0484c61?siteid=yhoof2), Nvidia last week lost its place as the best performing S\\\\&P 500 stock so far this year. **Vistra** ([VST](https://research.investors.com/quote.aspx?symbol=VST)) had gained 190% year to date as of Monday\\'s closing price, whereas Nvidia was up 135%. Also on Tuesday, analysts at Melius Research gave the stock a price target of 165 with a buy rating as the company ramps up its Blackwell chip production in the fourth quarter.\\n\\nNvidia stock rose Monday after news that China e\\\\-commerce behemoth **Alibaba** ([BABA](https://research.investors.com/quote.aspx?symbol=BABA)) will collaborate with Nvidia to improve autonomous driving technology for Chinese EV manufacturers, several of which are rivals to **Tesla** ([TSLA](https://research.investors.com/quote.aspx?symbol=TSLA)). Alibaba\\'s portfolio of large\\\\-language models are now integrated with Nvidia\\'s drive platform for autonomous vehicles.\\n\\nWhite House Meeting\\n-------------------\\n\\nEarlier this month, shares climbed above the 50\\\\-day moving average amid news that Nvidia and OpenAI chief executive officers, Jensen Huang and Sam Altman, met officials at the White House to discuss AI infrastructure spending. According to [reports](https://www.yahoo.com/news/openai-nvidia-executives-discuss-ai-232621359.html?fr=yhssrp_catchall), **Alphabet** ([GOOGL](https://research.investors.com/quote.aspx?symbol=GOOGL)), **Amazon.com** ([AMZN](https://research.investors.com/quote.aspx?symbol=AMZN)) and **Microsoft** ([MSFT](https://research.investors.com/quote.aspx?symbol=MSFT)) executives were also present. The White House announced an interagency task force to accelerate permissions for setting up data centers.\\n\\nHowever, news that companies may be diversifying and looking for other chips besides Nvidia\\'s likely weighed on Nvidia stock. According to [Barron\\'s](https://www.barrons.com/articles/nvidia-stock-price-buy-sell-d10180d0?siteid=yhoof2), Saudi oil behemoth Aramco is planning on using chips made by a startup Groq to offer \"AI computing power to local companies.\"\\n\\nThe news followed [Huang remarks](https://www.marketwatch.com/story/nvidia-ceo-jensen-huang-addresses-the-big-question-on-investors-minds-3699b564?&mod=article_inline) that the return on investment for artificial intelligence infrastructure plays like Nvidia remained strong since \"infrastructure players like ourselves and all the cloud service providers put the infrastructure in the cloud, so that developers could use these machines to train the models, fine\\\\-tune the models, guardrail the models, and so forth.\"\\n\\nAnalysts at Bernstein said that after its phenomenal growth, sustainability is the main question Nvidia faces, but the \"[time to worry is clearly not now](https://www.marketwatch.com/story/nvidias-stock-set-to-extend-gains-the-time-to-worry-is-clearly-not-now-9425d38d).\"\\n\\nOn Sept. 3, Nvidia fell sharply below the [50\\\\-day moving average](https://www.investors.com/how-to-invest/investors-corner/what-is-the-50-day-moving-average-when-to-buy-or-sell-growth-stocks/) and saw its largest one\\\\-day market cap loss for any U.S. company, according to Dow Jones Markets Data.\\n\\nEarnings From AI Giants\\n-----------------------\\n\\nResults from other AI leaders have influenced the stock. **Oracle** ([ORCL](https://research.investors.com/quote.aspx?symbol=ORCL)) results showed strong demand for AI chips. According to the Chairman and Chief Technology Officer Larry Ellison, Oracle is building a data center with \"[acres of Nvidia GPU clusters for training large language scale AI models](https://www.investors.com/news/technology/oracle-stock-orcl-q1-report-cloudworld-ai-cloud/).\"\\n\\nEarlier, results from**Broadcom** ([AVGO](https://research.investors.com/quote.aspx?symbol=AVGO)) weighed on Nvidia stock. Broadcom\\'s [sales and earnings beat estimates](https://www.investors.com/news/technology/avgo-stock-broadcom-earnings-fiscal-q3-2024/) but its sales outlook disappointed. Broadcom\\'s outlook has implications for demand for AI chips.\\n\\n\\xa0Shares also came under pressure amid news that the Department of Justice was investigating antitrust regulations concerning the artificial intelligence chip company.\\xa0According to reports, [the DOJ originally sent questionnaires to the company](https://www.reuters.com/legal/nvidia-hit-with-subpoena-us-justice-department-bloomberg-news-reports-2024-09-03/). But it has now sent subpoenas.\\n\\nShares fell 6\\\\.4% after earnings on Aug. 28 even though Nvidia beat analyst estimates.\\n\\nNvidia\\'s Second\\\\-Quarter Results\\n--------------------------------\\n\\nIn August, Nvidia reported earnings that beat Wall Street views. Sales of $30\\\\.04 billion were higher than $28\\\\.7 billion analysts expected and came in 122% ahead of the year\\\\-earlier quarter. Earnings also came in above views of 65 cents at 68 cents per share and were 152% higher than the prior year. The artificial intelligence chip leader also guided higher for the current quarter with [sales of $32\\\\.5 billion vs. views of $31\\\\.7 billion](https://www.investors.com/news/technology/nvidia-stock-fiscal-q2-2025-earnings-nvda-stock/).\\n\\nEarnings have moved Nvidia stock in 2023 and 2024 and that is shining proof of why [fundamental performance](https://www.investors.com/how-to-invest/investors-corner/stock-market-investing-ibd-methodology/) is one of the pillars of the Investor\\'s Business Daily methodology. In 2023, Nvidia had a huge 239% run.\\n\\nAfter losing 5\\\\.3% in July, the stock gained 2% in August. It is trading 4% higher so far this month and is up\\xa0 150% so far this year.\\n\\nFundamentals make up just one of four IBD pillars of investing — the others are a stock\\'s technical strength, which indicates the stock\\'s performance vs. other stocks, the [market direction](https://www.investors.com/news/stock-market-today-stock-market-news/)', 1, 2)</details></pre></div><div class='basic-renderer-box respond'><h4 class='step-header'>[7] search_agent responds to Agent</h4><pre class='step-text'>kind: respond\n",
       "copy_output: false\n",
       "\n",
       "<details><summary>1747 characters ...</summary>In late 2022, several factors influenced Nvidia's stock price:\n",
       "\n",
       "1. **Declining Sales and Earnings**: Nvidia reported three quarters of declining year-over-year sales and four quarters of tapering earnings during late 2022 and early 2023.\n",
       "\n",
       "2. **AI Demand**: Despite the declines, there was a strong rebound in Nvidia's stock price due to increasing demand for AI hardware and software. Consulting firm Bain projected a 40% to 55% growth in the total addressable market for AI hardware and software over the next three years.\n",
       "\n",
       "3. **Market Reactions**: Nvidia's stock was affected by broader market trends and news from other companies in the AI and semiconductor sectors. For example, results from companies like Oracle and Broadcom, which showed strong demand for AI chips, influenced Nvidia's stock.\n",
       "\n",
       "4. **Regulatory Concerns**: Nvidia faced pressure from news about the Department of Justice investigating antitrust regulations concerning the AI chip company.\n",
       "\n",
       "5. **Earnings Reports**: Nvidia's earnings reports played a significant role. In August 2022, Nvidia reported earnings that beat Wall Street views, with sales significantly higher than expected. This positive performance helped boost the stock.\n",
       "\n",
       "6. **Collaborations and Partnerships**: Collaborations with companies like Alibaba to improve autonomous driving technology also positively impacted Nvidia's stock.\n",
       "\n",
       "7. **White House Meetings**: Meetings between Nvidia's CEO and White House officials to discuss AI infrastructure spending also influenced the stock.\n",
       "\n",
       "Overall, a combination of declining sales, strong AI demand, market reactions, regulatory concerns, positive earnings reports, strategic collaborations, and high-level meetings influenced Nvidia's stock price in late 2022.</details></pre></div>"
      ],
      "text/plain": [
       "<IPython.core.display.HTML object>"
      ]
     },
     "execution_count": 26,
     "metadata": {},
     "output_type": "execute_result"
    }
   ],
   "source": [
    "from tapeagents.core import Respond\n",
    "from tapeagents.prompting import view_to_messages\n",
    "\n",
    "search_system_instruction = f\"\"\"Use at most 5 tool calls to search the request info on on the web.\"\"\"\n",
    "search_system_message = {\"role\": \"system\", \"content\": search_system_instruction}\n",
    "\n",
    "\n",
    "class SearchAgentMainNode(Node):\n",
    "    def make_prompt(self, agent, tape: DialogTape) -> Prompt:\n",
    "        view = agent.compute_view(tape)\n",
    "        return Prompt(messages=view_to_messages(view.top, agent), tools=search_agent_env.get_tool_schema_dicts())\n",
    "\n",
    "    def generate_steps(self, agent, tape, llm_stream: LLMStream):\n",
    "        m = llm_stream.get_message()\n",
    "        if m.content:\n",
    "            # if the LLM responds, yield Respond(..) as your last step\n",
    "            yield Respond(content=m.content)\n",
    "        elif m.tool_calls:\n",
    "            # while the LLM suggests tool calls, yield them as action steps\n",
    "            yield ToolCalls(tool_calls=m.tool_calls)\n",
    "            yield SetNextNode(next_node=0)\n",
    "        else:\n",
    "            raise ValueError()\n",
    "\n",
    "\n",
    "search_agent = Agent.create(\n",
    "    name=\"search_agent\",\n",
    "    llms=LiteLLM(model_name=\"gpt-4o\", parameters={\"temperature\": 0.1}),\n",
    "    nodes=[SearchAgentMainNode()],\n",
    ")\n",
    "# To test the subagent, we'll make a mock root agent that immediately calls \"search_agent\"\n",
    "call_step = Call(agent_name=\"search_agent\", content=\"What influenced Nvidia stock price in late 2022?\")\n",
    "test_root_agent = Agent.create(subagents=[search_agent], nodes=[Node().with_fixed_steps([call_step])])\n",
    "start_tape = DialogTape()\n",
    "final_tape = None\n",
    "for event in main_loop(test_root_agent, start_tape, search_agent_env):\n",
    "    # We need to stop the loop when \"search_agent\" responds,\n",
    "    # otherwise the code will crash because `test_root_agent` only has one node.\n",
    "    if (ae := event.agent_event) and isinstance(ae.step, Respond):\n",
    "        final_tape = ae.partial_tape\n",
    "        break\n",
    "assert final_tape\n",
    "HTML(render_tape_with_prompts(final_tape, PrettyRenderer()))"
   ]
  },
  {
   "cell_type": "markdown",
   "metadata": {},
   "source": [
    "Finally, let's add the search subagent to a financial analyst agent like the ones in earlier examples. We need to give the root agent a way to use the LLM to decide whether to call the search specialist, and if yes, what query to pass to it. We will abuse the tool calling mechanism for this purpose to make the example simpler."
   ]
  },
  {
   "cell_type": "code",
   "execution_count": 27,
   "metadata": {
    "execution": {
     "iopub.execute_input": "2024-09-27T21:41:56.684209Z",
     "iopub.status.busy": "2024-09-27T21:41:56.683975Z",
     "iopub.status.idle": "2024-09-27T21:42:25.236431Z",
     "shell.execute_reply": "2024-09-27T21:42:25.235931Z"
    }
   },
   "outputs": [
    {
     "data": {
      "text/html": [
       "<style>.basic-renderer-box { margin: 4px; padding: 2px; background: lavender; white-space: pre-wrap; color: black;}.basic-prompt-box { margin: 4px; padding: 2px; background: lavender; color: black;}.episode-row { display: flex; align-items: end; }.agent-column { width: 50%; }.user-column { width: 25%; }.annotator-column { width: 25%; }.inner-tape-container { display: flex }.inner-tape-indent { width: 10%; }.inner-tape { width: 90%; }</style><style>.observation { background-color: #baffc9;; }.error_observation { background-color: #dd0000; }.action { background-color: #cccccc; }.thought { background-color: #ffffdb; }.call { background-color: #ffffff; }.respond { background-color: #ffffff; }.step-header { margin: 2pt 2pt 2pt 0 !important; }.step-text { font-size: 12px; white-space: pre-wrap; word-wrap: break-word;}</style><h3>Metadata</h3><details> <summary> Show / Hide </summary> <div class='basic-renderer-box'>author: ''\n",
       "author_tape_id: null\n",
       "error: null\n",
       "id: af72fb12-3645-46c8-ba88-df4fbe8a52ae\n",
       "n_added_steps: 3\n",
       "parent_id: b2dd170e-0928-4b2c-b8e8-53161d2afbad\n",
       "result: null\n",
       "</div> </details><h3>Steps</h3><div class='basic-renderer-box observation'><h4 class='step-header'>[0] User</h4><pre class='step-text'>kind: user\n",
       "\n",
       "Tell me about Vulcan in 3 sentences</pre></div><div class='basic-renderer-box thought'><h4 class='step-header'>[1] Thought: AssistantThought</h4><pre class='step-text'>kind: assistant_thought\n",
       "\n",
       "1. Use the `functions.get_stock_ticker` tool to find the stock ticker symbol for Vulcan.\n",
       "2. Use the `functions.get_stock_data` tool to retrieve the stock price changes for Vulcan over the last year.\n",
       "3. Use the `functions.call_search_agent` tool to gather general information about Vulcan, including its business operations and recent news.\n",
       "4. Compile the information from the stock data and general information to provide a comprehensive summary of Vulcan in three sentences.</pre></div><div class='basic-renderer-box thought'><h4 class='step-header'>[2] Thought: SetNextNode</h4><pre class='step-text'>kind: set_next_node\n",
       "next_node: 1\n",
       "</pre></div><div class='basic-renderer-box action'><h4 class='step-header'>[3] Action: ToolCalls</h4><pre class='step-text'>tool_calls:\n",
       "- function:\n",
       "    arguments: '{\"company_name\": \"Vulcan\"}'\n",
       "    name: get_stock_ticker\n",
       "  id: call_bwFbC0frl16MW0UK3JROcxxp\n",
       "  type: function\n",
       "kind: assistant\n",
       "</pre></div><div class='basic-renderer-box observation'><h4 class='step-header'>[4] Observation: ToolResult</h4><pre class='step-text'>tool_call_id: call_bwFbC0frl16MW0UK3JROcxxp\n",
       "kind: tool\n",
       "\n",
       "VMC</pre></div><div class='basic-renderer-box thought'><h4 class='step-header'>[5] Thought: SetNextNode</h4><pre class='step-text'>kind: set_next_node\n",
       "next_node: 1\n",
       "</pre></div><div class='basic-renderer-box action'><h4 class='step-header'>[6] Action: ToolCalls</h4><pre class='step-text'>tool_calls:\n",
       "- function:\n",
       "    arguments: '{\"symbol\": \"VMC\", \"start_date\": \"2023-09-17\", \"end_date\": \"2024-09-17\"}'\n",
       "    name: get_stock_data\n",
       "  id: call_F0l7BBtnxIeqRaAXwuxjPgfU\n",
       "  type: function\n",
       "kind: assistant\n",
       "</pre></div><div class='basic-renderer-box observation'><h4 class='step-header'>[7] Observation: ToolResult</h4><pre class='step-text'>tool_call_id: call_F0l7BBtnxIeqRaAXwuxjPgfU\n",
       "kind: tool\n",
       "\n",
       "<details><summary>2195 characters ...</summary>[('2023-09-18', 211.69000244140625), ('2023-09-22', 200.6199951171875), ('2023-09-28', 205.02999877929688), ('2023-10-04', 205.02999877929688), ('2023-10-10', 211.0), ('2023-10-16', 213.0399932861328), ('2023-10-20', 201.5500030517578), ('2023-10-26', 193.97000122070312), ('2023-11-01', 203.8000030517578), ('2023-11-07', 207.2100067138672), ('2023-11-13', 210.49000549316406), ('2023-11-17', 212.35000610351562), ('2023-11-24', 211.67999267578125), ('2023-11-30', 213.55999755859375), ('2023-12-06', 211.92999267578125), ('2023-12-12', 220.89999389648438), ('2023-12-18', 222.6999969482422), ('2023-12-22', 224.92999267578125), ('2023-12-29', 227.00999450683594), ('2024-01-05', 221.6199951171875), ('2024-01-11', 224.36000061035156), ('2024-01-18', 225.1199951171875), ('2024-01-24', 219.8000030517578), ('2024-01-30', 231.0500030517578), ('2024-02-05', 229.64999389648438), ('2024-02-09', 240.0), ('2024-02-15', 242.4600067138672), ('2024-02-22', 256.94000244140625), ('2024-02-28', 262.29998779296875), ('2024-03-05', 264.9800109863281), ('2024-03-11', 264.95001220703125), ('2024-03-15', 266.8599853515625), ('2024-03-21', 275.5899963378906), ('2024-03-27', 272.7900085449219), ('2024-04-03', 268.7699890136719), ('2024-04-09', 265.6199951171875), ('2024-04-15', 260.4700012207031), ('2024-04-19', 252.05999755859375), ('2024-04-25', 258.5400085449219), ('2024-05-01', 259.7300109863281), ('2024-05-07', 268.3500061035156), ('2024-05-13', 270.0899963378906), ('2024-05-17', 259.1000061035156), ('2024-05-23', 257.2099914550781), ('2024-05-30', 254.0800018310547), ('2024-06-05', 251.17999267578125), ('2024-06-11', 244.63999938964844), ('2024-06-17', 256.3500061035156), ('2024-06-24', 247.5800018310547), ('2024-06-28', 248.67999267578125), ('2024-07-05', 244.2100067138672), ('2024-07-11', 254.69000244140625), ('2024-07-17', 255.8000030517578), ('2024-07-23', 260.1499938964844), ('2024-07-29', 264.5299987792969), ('2024-08-02', 266.3399963378906), ('2024-08-08', 246.3300018310547), ('2024-08-14', 242.5), ('2024-08-20', 245.60000610351562), ('2024-08-26', 250.67999267578125), ('2024-08-30', 245.2100067138672), ('2024-09-06', 231.97000122070312), ('2024-09-12', 236.27000427246094)]</details></pre></div><div class='basic-renderer-box thought'><h4 class='step-header'>[8] Thought: SetNextNode</h4><pre class='step-text'>kind: set_next_node\n",
       "next_node: 1\n",
       "</pre></div><div class='basic-renderer-box call'><h4 class='step-header'>[9] analyst calls search_agent</h4><pre class='step-text'>kind: call\n",
       "agent_name: search_agent\n",
       "\n",
       "Vulcan company overview 2024</pre></div><div class='basic-renderer-box action'><h4 class='step-header'>[10] Action: ToolCalls</h4><pre class='step-text'>tool_calls:\n",
       "- function:\n",
       "    arguments: '{\"query\":\"Vulcan company overview 2024\"}'\n",
       "    name: get_search_results\n",
       "  id: call_CXbZsKyAx2Q4lUETB7d4f4jy\n",
       "  type: function\n",
       "kind: assistant\n",
       "</pre></div><div class='basic-renderer-box thought'><h4 class='step-header'>[11] Thought: SetNextNode</h4><pre class='step-text'>kind: set_next_node\n",
       "next_node: 0\n",
       "</pre></div><div class='basic-renderer-box observation'><h4 class='step-header'>[12] Observation: ToolResult</h4><pre class='step-text'>tool_call_id: call_CXbZsKyAx2Q4lUETB7d4f4jy\n",
       "kind: tool\n",
       "\n",
       "<details><summary>1674 characters ...</summary>[{'title': 'VULCAN REPORTS SECOND QUARTER 2024 RESULTS', 'url': 'https://ir.vulcanmaterials.com/news/news-details/2024/VULCAN-REPORTS-SECOND-QUARTER-2024-RESULTS/default.aspx', 'content': 'Aug 6, 2024 — VULCAN REPORTS SECOND QUARTER 2024 RESULTS · Total shipments down 4 to 7 percent (234.3 million tons in 2023) · Freight-adjusted price improvement\\xa0...'}, {'title': 'Vulcan - Valuation, Funding & Investors', 'url': 'https://pitchbook.com/profiles/company/229155-13', 'content': 'Information on valuation, funding, cap tables, investors, and executives for Vulcan. Use the PitchBook Platform to explore the full profile.'}, {'title': 'VULCAN REPORTS SECOND QUARTER 2024 RESULTS', 'url': 'https://www.prnewswire.com/news-releases/vulcan-reports-second-quarter-2024-results-302214823.html', 'content': 'Aug 6, 2024 — Vulcan Materials Company (NYSE: VMC) will host its second quarter 2024 earnings conference call on Tuesday, August 6, 2024 at 10:00 a.m. CT (11:\\xa0...'}, {'title': 'Vulcan Materials Company - Investor Relations', 'url': 'https://ir.vulcanmaterials.com/overview/default.aspx', 'content': \"Vulcan is the leading supplier of aggregates in the United States, with unmatched, easily accessed reserves within a footprint that includes the nation's high-\\xa0...\"}, {'title': \"Vulcan's Ratings and Outlook Unaffected by Proposed ...\", 'url': 'https://www.fitchratings.com/research/corporate-finance/vulcans-ratings-outlook-unaffected-by-proposed-wake-stone-acquisition-27-09-2024', 'content': \"4 hours ago — Vulcan's EBITDA leverage was 1.7x for the LTM ended June 30, 2024, below the positive rating sensitivity of 2.3x. The company had $111.0 million\\xa0...\"}]</details></pre></div><div class='basic-renderer-box action'><h4 class='step-header'>[13] Action: ToolCalls</h4><pre class='step-text'>tool_calls:\n",
       "- function:\n",
       "    arguments: '{\"url\": \"https://ir.vulcanmaterials.com/overview/default.aspx\"}'\n",
       "    name: get_page\n",
       "  id: call_ktFZFvOR8rPOyLwVQ4fd87JS\n",
       "  type: function\n",
       "- function:\n",
       "    arguments: '{\"url\": \"https://pitchbook.com/profiles/company/229155-13\"}'\n",
       "    name: get_page\n",
       "  id: call_4NtiFht1H0t0OVn4J7COaT0Q\n",
       "  type: function\n",
       "kind: assistant\n",
       "</pre></div><div class='basic-renderer-box thought'><h4 class='step-header'>[14] Thought: SetNextNode</h4><pre class='step-text'>kind: set_next_node\n",
       "next_node: 0\n",
       "</pre></div><div class='basic-renderer-box observation'><h4 class='step-header'>[15] Observation: ToolResult</h4><pre class='step-text'>tool_call_id: call_ktFZFvOR8rPOyLwVQ4fd87JS\n",
       "kind: tool\n",
       "\n",
       "<details><summary>10627 characters ...</summary>('Title: \\n\\tVulcan Materials Company - Investor Relations\\n\\n=======================\\nir@vmcmail.com\\n(205\\\\) 298\\\\-3220\\n\\n* [Overview](https://ir.vulcanmaterials.com/overview/default.aspx)\\n\\t+ [Why Invest](https://ir.vulcanmaterials.com/why-invest/default.aspx)\\n\\t+ [News](https://ir.vulcanmaterials.com/news/default.aspx)\\n\\t+ [Events \\\\& Presentations](https://ir.vulcanmaterials.com/events-and-presentations/default.aspx)\\n\\t+ [Stock Info](https://ir.vulcanmaterials.com/stock-info/default.aspx)\\n\\t\\t- [Stock Quote](/stock-info/default.aspx#stock-quote)\\n\\t\\t- [Stock Chart](/stock-info/default.aspx#stock-chart)\\n\\t\\t- [Historical Stock Quote](/stock-info/default.aspx#stock-historical)\\n\\t\\t- [Investment Calculator](/stock-info/default.aspx#calculator)\\n\\t\\t- [Transfer Agent](https://ir.vulcanmaterials.com/stock-info/Transfer-Agent/default.aspx)\\n\\t\\t- [Analyst Coverage](https://ir.vulcanmaterials.com/stock-info/analyst-coverage/default.aspx)\\n\\t+ [Financials](https://ir.vulcanmaterials.com/financials/quarterly-results/default.aspx)\\n\\t\\t- [Quarterly Results](https://ir.vulcanmaterials.com/financials/quarterly-results/default.aspx)\\n\\t\\t- [Annual Reports](https://ir.vulcanmaterials.com/financials/annual-reports/default.aspx)\\n\\t\\t- [SEC Filings](https://ir.vulcanmaterials.com/financials/sec-filings/default.aspx)\\n\\t+ [Governance](https://ir.vulcanmaterials.com/governance/governance-documents/default.aspx)\\n\\t\\t- [Governance Documents](https://ir.vulcanmaterials.com/governance/governance-documents/default.aspx)\\n\\t\\t- [Executive Management](https://ir.vulcanmaterials.com/governance/executive-management/default.aspx)\\n\\t\\t- [Board of Directors](https://ir.vulcanmaterials.com/governance/board-of-directors/default.aspx)\\n\\t\\t- [Committee Composition](https://ir.vulcanmaterials.com/governance/committee-composition/default.aspx)\\n\\t\\t- [Contact the Board](https://ir.vulcanmaterials.com/governance/contact-the-board/default.aspx)\\n\\t+ [Resources](https://ir.vulcanmaterials.com/resources/investor-faqs/default.aspx)\\n\\t\\t- [Investor FAQs](https://ir.vulcanmaterials.com/resources/investor-faqs/default.aspx)\\n\\t\\t- [Information Request Form](https://ir.vulcanmaterials.com/resources/information-request-form/default.aspx)\\n\\t\\t- [Investor Email Alerts](https://ir.vulcanmaterials.com/resources/investor-email-alerts/default.aspx)\\n\\t\\t- [Investor Contacts](https://ir.vulcanmaterials.com/resources/investor-contacts/default.aspx)\\n\\n[Skip to main content](#maincontent)\\n\\n[![Vulcan Company Logo](//s201.q4cdn.com/142563501/files/design/vulcan-logo.png)](https://www.vulcanmaterials.com/)\\n\\n* [About Vulcan](https://www.vulcanmaterials.com/about-vulcan)\\n\\n\\t+ [History](https://www.vulcanmaterials.com/about-vulcan/history)\\n\\t+ [Mission and Values](https://www.vulcanmaterials.com/about-vulcan/mission-and-values)\\n\\t+ [Executive Management](/governance/executive-management/default.aspx)\\n\\t+ [Corporate Office](https://www.vulcanmaterials.com/about-vulcan/corporate-office)\\n\\t+ [Industry Links](https://www.vulcanmaterials.com/about-vulcan/industry-links)\\n\\t+ [Careers](https://www.vulcanmaterials.com/careers)\\n* Construction Materials\\n\\n\\t+ [Product Sales](https://www.vulcanmaterials.com/construction-materials/product-sales)\\n\\t+ [Products and Services](https://www.vulcanmaterials.com/construction-materials/products-and-services)\\n\\t+ [Suppliers](https://www.vulcanmaterials.com/construction-materials/suppliers)\\n\\t+ [Facilities Map](https://www.vulcanmaterials.com/construction-materials/facilities-map)\\n\\t+ [Operating Groups](https://www.vulcanmaterials.com/construction-materials/operating-groups)\\n\\t+ [Product Calculators](https://www.vulcanmaterials.com/construction-materials/product-calculators)\\n\\t+ [Credit Applications](https://www.vulcanmaterials.com/construction-materials/credit-applications)\\n\\t+ [Safety Data Sheets](https://www.vulcanmaterials.com/construction-materials/safety-data-sheets)\\n\\t+ [Product Declaration](https://www.vulcanmaterials.com/construction-materials/product-declaration)\\n\\t+ [Facilities](https://www.vulcanmaterials.com/construction-materials/facilities)\\n* [Investor Relations](/overview)\\n* [Social Responsibility](https://csr.vulcanmaterials.com/)\\n\\n\\t+ [2023 Sustainability Report](https://csr.vulcanmaterials.com)\\n\\t+ [Safety \\\\& Health](https://www.vulcanmaterials.com/social-responsibility/safety-health)\\n\\t+ [Environmental Stewardship](https://www.vulcanmaterials.com/social-responsibility/environmental-stewardship)\\n\\t+ [People](https://www.vulcanmaterials.com/social-responsibility/people)\\n\\t+ [Community](https://www.vulcanmaterials.com/social-responsibility/community)\\n\\t+ [Governance](https://www.vulcanmaterials.com/social-responsibility/governance)\\n\\t+ [Teacher Center](https://www.vulcanmaterials.com/social-responsibility/teacher-center)\\n\\t+ [Vulcan Foundation](https://www.vulcanmaterials.com/social-responsibility/vulcan-foundation)\\n\\nInvestor Relations\\n==================\\n\\n* [Overview](https://ir.vulcanmaterials.com/overview/default.aspx)\\n\\t+ [Why Invest](https://ir.vulcanmaterials.com/why-invest/default.aspx)\\n\\t+ [News](https://ir.vulcanmaterials.com/news/default.aspx)\\n\\t+ [Events \\\\& Presentations](https://ir.vulcanmaterials.com/events-and-presentations/default.aspx)\\n\\t+ [Stock Info](https://ir.vulcanmaterials.com/stock-info/default.aspx)\\n\\t\\t- [Stock Quote](/stock-info/default.aspx#stock-quote)\\n\\t\\t- [Stock Chart](/stock-info/default.aspx#stock-chart)\\n\\t\\t- [Historical Stock Quote](/stock-info/default.aspx#stock-historical)\\n\\t\\t- [Investment Calculator](/stock-info/default.aspx#calculator)\\n\\t\\t- [Transfer Agent](https://ir.vulcanmaterials.com/stock-info/Transfer-Agent/default.aspx)\\n\\t\\t- [Analyst Coverage](https://ir.vulcanmaterials.com/stock-info/analyst-coverage/default.aspx)\\n\\t+ [Financials](https://ir.vulcanmaterials.com/financials/quarterly-results/default.aspx)\\n\\t\\t- [Quarterly Results](https://ir.vulcanmaterials.com/financials/quarterly-results/default.aspx)\\n\\t\\t- [Annual Reports](https://ir.vulcanmaterials.com/financials/annual-reports/default.aspx)\\n\\t\\t- [SEC Filings](https://ir.vulcanmaterials.com/financials/sec-filings/default.aspx)\\n\\t+ [Governance](https://ir.vulcanmaterials.com/governance/governance-documents/default.aspx)\\n\\t\\t- [Governance Documents](https://ir.vulcanmaterials.com/governance/governance-documents/default.aspx)\\n\\t\\t- [Executive Management](https://ir.vulcanmaterials.com/governance/executive-management/default.aspx)\\n\\t\\t- [Board of Directors](https://ir.vulcanmaterials.com/governance/board-of-directors/default.aspx)\\n\\t\\t- [Committee Composition](https://ir.vulcanmaterials.com/governance/committee-composition/default.aspx)\\n\\t\\t- [Contact the Board](https://ir.vulcanmaterials.com/governance/contact-the-board/default.aspx)\\n\\t+ [Resources](https://ir.vulcanmaterials.com/resources/investor-faqs/default.aspx)\\n\\t\\t- [Investor FAQs](https://ir.vulcanmaterials.com/resources/investor-faqs/default.aspx)\\n\\t\\t- [Information Request Form](https://ir.vulcanmaterials.com/resources/information-request-form/default.aspx)\\n\\t\\t- [Investor Email Alerts](https://ir.vulcanmaterials.com/resources/investor-email-alerts/default.aspx)\\n\\t\\t- [Investor Contacts](https://ir.vulcanmaterials.com/resources/investor-contacts/default.aspx)\\n\\nCorporate Overview\\n------------------\\n\\nAggregates are essential to infrastructure, construction and growth. Vulcan is the leading supplier of aggregates in the United States, with unmatched, easily accessed reserves within a footprint that includes the nation’s high\\\\-growth markets. With superior operations and distribution systems, strong operating leverage and proven expertise, we offer favorable prospects for growth and value creation going forward.\\n\\n[Learn more](/why-invest/default.aspx)\\n\\nLatest News\\n-----------\\n\\n[View all news](/news)\\n\\nLatest Events\\n-------------\\n\\n[View all events](/events-and-presentations)\\n\\nLatest Financial Results \\\\| Q2 2024\\n-----------------------------------\\n\\n[View all financial reports](/financials/quarterly-results/default.aspx)\\n\\n[SEC/SEDAR Filings](/financials/sec-filings)\\n\\n[Corporate Governance](/governance/governance-documents)\\n\\n[Investor Resources](/resources/investor-faqs)\\n\\n[![footer logo](//s201.q4cdn.com/142563501/files/design/vulcan-logo.png)](https://www.vulcanmaterials.com/)\\n### Investor Contacts\\n\\n[(205\\\\) 298\\\\-3220](tel:(205) 298-3220)\\n\\n[ir@vmcmail.com](mailto:ir@vmcmail.com)\\n\\n### Quick Links\\n\\n* [Quarterly Reports](https://ir.vulcanmaterials.com/financials/quarterly-results/default.aspx)\\n* [SEC Filings](https://ir.vulcanmaterials.com/financials/sec-filings/default.aspx)\\n* [Board of Directors](https://ir.vulcanmaterials.com/governance/board-of-directors/default.aspx)\\n* [Analyst Coverage](https://ir.vulcanmaterials.com/stock-info/analyst-coverage/default.aspx)\\n\\nEmail Alerts\\n------------\\n\\nTo opt\\\\-in for investor email alerts, please enter your email address in the field below and select at least one alert option. After submitting your request, you will receive an activation email to the requested email address. You must click the activation link in order to complete your subscription. You can sign up for additional alert options at any time.\\n\\nAt Vulcan, we promise to treat your data with respect and will not share your information with any third party. You can unsubscribe to any of the investor alerts you are subscribed to by visiting the ‘unsubscribe’ section below. If you experience any issues with this process, please contact us for further assistance.\\n\\n**By providing your email address below, you are providing consent to Vulcan to send you the requested Investor Email Alert updates.**\\n\\n\\\\* Required\\n\\n| Email Address \\\\* |\\n| --- |\\n\\nInvestor Alert Options\\n\\n| Investor Alert Options \\\\* |\\n| --- |\\n| | News | | --- | | Quarterly Reports | | Annual Reports | | SEC Filings | | End of Day Stock Quote | | Events \\\\& Presentations | |\\n\\n[Unsubscribe](/resources/investor-email-alerts/#unsubscribe)\\n\\nEmail Alert Sign Up Confirmation\\n--------------------------------\\n\\n* [Facebook](https://www.facebook.com/VulcanMaterialsCompany/)\\n* [Instagram](https://www.instagram.com/vulcanmaterialscompany/)\\n* [LinkedIn](https://www.linkedin.com/company/vulcan-materials-company/)\\n* [YouTube](https://www.youtube.com/user/VulcanCorporate/videos)\\n\\n* [Privacy Policy](https://www.vulcanmaterials.com/privacy-policy)\\n* [Cookies Policy](https://ir.vulcanmaterials.com/cookies-policy/default.aspx)\\n* [Terms of Use](https://www.vulcanmaterials.com/terms-of-use)', 1, 1)</details></pre></div><div class='basic-renderer-box observation'><h4 class='step-header'>[16] Observation: ToolResult</h4><pre class='step-text'>tool_call_id: call_4NtiFht1H0t0OVn4J7COaT0Q\n",
       "kind: tool\n",
       "\n",
       "('Failed to load page, HTTP Error 403\\n=======================\\n## Error 403\\n\\nEnable JavaScript and cookies to continue', 1, 1)</pre></div><div class='basic-renderer-box respond'><h4 class='step-header'>[17] search_agent responds to analyst</h4><pre class='step-text'>kind: respond\n",
       "copy_output: false\n",
       "\n",
       "<details><summary>3732 characters ...</summary>### Vulcan Materials Company Overview 2024\n",
       "\n",
       "#### Corporate Overview\n",
       "Vulcan Materials Company is the leading supplier of aggregates in the United States. Aggregates are essential to infrastructure, construction, and growth. Vulcan boasts unmatched, easily accessed reserves within a footprint that includes the nation’s high-growth markets. With superior operations and distribution systems, strong operating leverage, and proven expertise, Vulcan offers favorable prospects for growth and value creation going forward.\n",
       "\n",
       "#### Key Sections and Resources\n",
       "- **About Vulcan**\n",
       "  - [History](https://www.vulcanmaterials.com/about-vulcan/history)\n",
       "  - [Mission and Values](https://www.vulcanmaterials.com/about-vulcan/mission-and-values)\n",
       "  - [Executive Management](https://ir.vulcanmaterials.com/governance/executive-management/default.aspx)\n",
       "  - [Corporate Office](https://www.vulcanmaterials.com/about-vulcan/corporate-office)\n",
       "  - [Industry Links](https://www.vulcanmaterials.com/about-vulcan/industry-links)\n",
       "  - [Careers](https://www.vulcanmaterials.com/careers)\n",
       "\n",
       "- **Construction Materials**\n",
       "  - [Product Sales](https://www.vulcanmaterials.com/construction-materials/product-sales)\n",
       "  - [Products and Services](https://www.vulcanmaterials.com/construction-materials/products-and-services)\n",
       "  - [Suppliers](https://www.vulcanmaterials.com/construction-materials/suppliers)\n",
       "  - [Facilities Map](https://www.vulcanmaterials.com/construction-materials/facilities-map)\n",
       "  - [Operating Groups](https://www.vulcanmaterials.com/construction-materials/operating-groups)\n",
       "  - [Product Calculators](https://www.vulcanmaterials.com/construction-materials/product-calculators)\n",
       "  - [Credit Applications](https://www.vulcanmaterials.com/construction-materials/credit-applications)\n",
       "  - [Safety Data Sheets](https://www.vulcanmaterials.com/construction-materials/safety-data-sheets)\n",
       "  - [Product Declaration](https://www.vulcanmaterials.com/construction-materials/product-declaration)\n",
       "  - [Facilities](https://www.vulcanmaterials.com/construction-materials/facilities)\n",
       "\n",
       "- **Investor Relations**\n",
       "  - [Overview](https://ir.vulcanmaterials.com/overview/default.aspx)\n",
       "  - [Why Invest](https://ir.vulcanmaterials.com/why-invest/default.aspx)\n",
       "  - [News](https://ir.vulcanmaterials.com/news/default.aspx)\n",
       "  - [Events & Presentations](https://ir.vulcanmaterials.com/events-and-presentations/default.aspx)\n",
       "  - [Stock Info](https://ir.vulcanmaterials.com/stock-info/default.aspx)\n",
       "  - [Financials](https://ir.vulcanmaterials.com/financials/quarterly-results/default.aspx)\n",
       "  - [Governance](https://ir.vulcanmaterials.com/governance/governance-documents/default.aspx)\n",
       "  - [Resources](https://ir.vulcanmaterials.com/resources/investor-faqs/default.aspx)\n",
       "\n",
       "- **Social Responsibility**\n",
       "  - [2023 Sustainability Report](https://csr.vulcanmaterials.com)\n",
       "  - [Safety & Health](https://www.vulcanmaterials.com/social-responsibility/safety-health)\n",
       "  - [Environmental Stewardship](https://www.vulcanmaterials.com/social-responsibility/environmental-stewardship)\n",
       "  - [People](https://www.vulcanmaterials.com/social-responsibility/people)\n",
       "  - [Community](https://www.vulcanmaterials.com/social-responsibility/community)\n",
       "  - [Governance](https://www.vulcanmaterials.com/social-responsibility/governance)\n",
       "  - [Teacher Center](https://www.vulcanmaterials.com/social-responsibility/teacher-center)\n",
       "  - [Vulcan Foundation](https://www.vulcanmaterials.com/social-responsibility/vulcan-foundation)\n",
       "\n",
       "#### Contact Information\n",
       "- **Investor Relations Contact**: \n",
       "  - Email: [ir@vmcmail.com](mailto:ir@vmcmail.com)\n",
       "  - Phone: (205) 298-3220\n",
       "\n",
       "For more detailed information, you can visit the [Vulcan Materials Company Investor Relations page](https://ir.vulcanmaterials.com/overview/default.aspx).</details></pre></div><div class='basic-renderer-box thought'><h4 class='step-header'>[18] Thought: SetNextNode</h4><pre class='step-text'>kind: set_next_node\n",
       "next_node: 0\n",
       "</pre></div><div class='basic-renderer-box action'><h4 class='step-header'>[19] Assistant</h4><pre class='step-text'>kind: assistant\n",
       "\n",
       "Vulcan Materials Company (NYSE: VMC) is the largest supplier of construction aggregates in the United States, providing essential materials for infrastructure and construction projects. Over the past year, Vulcan's stock price has experienced significant fluctuations, starting at around $211 in September 2023 and reaching a peak of approximately $275 in March 2024, before settling at around $236 in mid-September 2024. With a strong presence in high-growth markets and a robust distribution network, Vulcan continues to leverage its extensive reserves and operational expertise to drive growth and value creation.</pre></div>"
      ],
      "text/plain": [
       "<IPython.core.display.HTML object>"
      ]
     },
     "metadata": {},
     "output_type": "display_data"
    }
   ],
   "source": [
    "from tapeagents.core import SetNextNode\n",
    "from tapeagents.dialog_tape import AssistantThought, ToolCalls\n",
    "from tapeagents.prompting import view_to_messages\n",
    "from tapeagents.runtime import MainLoopStatus, main_loop\n",
    "from tapeagents.view import Call\n",
    "from IPython.display import clear_output\n",
    "\n",
    "system_instruction = f\"\"\"\n",
    "You will help the user to learn about financials of companies. \n",
    "For general user queries, include some info about stock price changes during the last year, as well as some general information on the company.\n",
    "Today is {today}.\n",
    "\"\"\"\n",
    "system_message = {\"role\": \"system\", \"content\": system_instruction}\n",
    "\n",
    "\n",
    "class PlanNode(Node):\n",
    "    def make_prompt(self, agent, tape) -> Prompt:\n",
    "        view = agent.compute_view(tape)\n",
    "        guidance = \"Write a natural language plan on how to use tools help the user. Output a list of numbered items, like 1., 2., 3., etc.\"\n",
    "        guidance_message = {\"role\": \"user\", \"content\": guidance}\n",
    "        return Prompt(\n",
    "            messages=[system_message] + view_to_messages(view.top, agent) + [guidance_message],\n",
    "            tools=main_agent_env.get_tool_schema_dicts(),\n",
    "        )\n",
    "\n",
    "    def generate_steps(self, agent, dialog, llm_stream: LLMStream):\n",
    "        if content := llm_stream.get_message().content:\n",
    "            yield AssistantThought(content=content)\n",
    "        else:\n",
    "            raise ValueError()\n",
    "\n",
    "\n",
    "class ActNode(Node):\n",
    "    def make_prompt(self, agent, tape: DialogTape) -> Prompt:\n",
    "        view = agent.compute_view(tape)\n",
    "        guidance = \"Follow the plan you created to earlier. When you are done, respond to the user.\"\n",
    "        guidance_message = {\"role\": \"user\", \"content\": guidance}\n",
    "        return Prompt(\n",
    "            messages=[system_message] + view_to_messages(view.top, agent) + [guidance_message],\n",
    "            tools=main_agent_env.get_tool_schema_dicts(),\n",
    "        )\n",
    "\n",
    "    def generate_steps(self, agent, dialog, llm_stream: LLMStream):\n",
    "        m = llm_stream.get_message()\n",
    "        if m.content:\n",
    "            yield SetNextNode(next_node=0)\n",
    "            yield AssistantStep(content=m.content)\n",
    "        elif m.tool_calls:\n",
    "            yield SetNextNode(next_node=1)\n",
    "            # only keep the tool calls before the call to another agent\n",
    "            tool_calls = []\n",
    "            for tc in m.tool_calls:\n",
    "                if tc.function.name == \"call_search_agent\":\n",
    "                    break\n",
    "                else:\n",
    "                    tool_calls.append(tc)\n",
    "            # either produce the ToolCalls action OR call another agent\n",
    "            if tool_calls:\n",
    "                yield ToolCalls(tool_calls=tool_calls)\n",
    "            else:\n",
    "                tc = m.tool_calls[0]\n",
    "                assert tc.function.name == \"call_search_agent\"\n",
    "                yield Call(agent_name=\"search_agent\", content=json.loads(m.tool_calls[0].function.arguments)[\"query\"])\n",
    "\n",
    "        else:\n",
    "            raise ValueError()\n",
    "\n",
    "\n",
    "multi_agent_analyst = Agent.create(\n",
    "    name=\"analyst\",\n",
    "    subagents=[search_agent.clone()],\n",
    "    llms=LiteLLM(model_name=\"gpt-4o\", parameters={\"temperature\": 0.1}),\n",
    "    nodes=[PlanNode(), ActNode()],\n",
    ")\n",
    "\n",
    "print(\"Run the agent!\")\n",
    "start_tape = DialogTape(steps=[UserStep(content=\"Tell me about Vulcan in 3 sentences\")])\n",
    "for event in main_loop(multi_agent_analyst, start_tape, whole_env):\n",
    "    # This agent runs for a while, so we will show you a fresh render every time\n",
    "    # when the environment finishes reacting with new actions\n",
    "    if new_tape := event.agent_tape or event.env_tape:\n",
    "        clear_output()\n",
    "        display(HTML(render_tape_with_prompts(new_tape, PrettyRenderer())))\n",
    "    # Uncomment this if you want to pause after every loop\n",
    "    # if event.env_tape:\n",
    "    #     input(\"Press Enter the run the next iteration of the main loop\")\n",
    "    if event.status == MainLoopStatus.EXTERNAL_INPUT_NEEDED:\n",
    "        break"
   ]
  },
  {
   "cell_type": "markdown",
   "metadata": {},
   "source": [
    "Look at this rather long tape and note how \"analyst\" calls \"search_agent\", and how the latter then responds to \"analyst\". Congratulations, you now know how to build a multi-agent TapeAgent!"
   ]
  }
 ],
 "metadata": {
  "language_info": {
   "codemirror_mode": {
    "name": "ipython",
    "version": 3
   },
   "file_extension": ".py",
   "mimetype": "text/x-python",
   "name": "python",
   "nbconvert_exporter": "python",
   "pygments_lexer": "ipython3",
   "version": "3.10.14"
  }
 },
 "nbformat": 4,
 "nbformat_minor": 2
}
