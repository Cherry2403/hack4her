{
 "cells": [
  {
   "cell_type": "markdown",
   "metadata": {},
   "source": [
    "# Welcome to TapeAgents!"
   ]
  },
  {
   "cell_type": "markdown",
   "metadata": {},
   "source": [
    "\n",
    "**TapeAgents** is a framework to build, debug, serve and optimize your AI agent. It takes a holistic view of the agent lifecycle and aims to support you at all stages. The main distinguishing feature of the framework is that by design a **TapeAgent** creates its  \n",
    "**Tape**: a compherensive semantic log of the agent's session that greatly facilitates audit, debugging, finetuning, agent optimization, etc.\n",
    "\n",
    "In this tutorial you will learn:\n",
    "- how to create TapeAgents using the low-level API\n",
    "- run and resume TapeAgents\n",
    "- have one TapeAgent reuse another TapeAgent's tape as training data\n",
    "\n",
    "In upcoming versions of this tutorial you will also learn: \n",
    "- how to make a team TapeAgent with subagents\n",
    "- how to build TapeAgents using available high-level APIs\n",
    "- how to build a TapeAgent that streams partial steps\n",
    "\n",
    "Other tutorials and examples will cover:\n",
    "- code execution and browser use\n",
    "- finetuning\n",
    "- the TapeAgents apps (Studio and Browser)"
   ]
  },
  {
   "cell_type": "markdown",
   "metadata": {},
   "source": [
    "# 0. Setup your TapeAgents environment"
   ]
  },
  {
   "cell_type": "markdown",
   "metadata": {},
   "source": [
    "You have outputs in all cells in this notebook, so you can just scroll through! If you want to run it, here are the steps."
   ]
  },
  {
   "cell_type": "markdown",
   "metadata": {},
   "source": [
    "#### 0.1. Install conda\n",
    "https://conda.io/projects/conda/en/latest/user-guide/install/index.html\n",
    "\n",
    "#### 0.2. All commands assume execution from the tapeagents directory.\n",
    "```bash\n",
    "cd tapeagents/\n",
    "```\n",
    "\n",
    "#### 0.3. Create a conda environment named `tapeagents`, install `tapeagents` in editable mode and its dependencies:\n",
    "```bash\n",
    "make setup\n",
    "```\n",
    "\n",
    "#### 0.4 Set Jupyter Notebook kernel to your newly created `tapeagents` conda environment\n",
    "https://code.visualstudio.com/docs/datascience/jupyter-notebooks#_create-or-open-a-jupyter-notebook"
   ]
  },
  {
   "cell_type": "markdown",
   "metadata": {},
   "source": [
    "#### 0.5. Set some configurations"
   ]
  },
  {
   "cell_type": "code",
   "execution_count": 1,
   "metadata": {
    "execution": {
     "iopub.execute_input": "2024-09-28T05:58:28.278567Z",
     "iopub.status.busy": "2024-09-28T05:58:28.278286Z",
     "iopub.status.idle": "2024-09-28T05:58:28.290143Z",
     "shell.execute_reply": "2024-09-28T05:58:28.289592Z"
    }
   },
   "outputs": [],
   "source": [
    "import os\n",
    "\n",
    "os.environ[\"TRANSFORMERS_NO_ADVISORY_WARNINGS\"] = \"1\"\n",
    "today = \"2024-09-17\"  # fixed date for reproducible tests"
   ]
  },
  {
   "cell_type": "markdown",
   "metadata": {},
   "source": [
    "#### 0.6. Set your LLM API keys"
   ]
  },
  {
   "cell_type": "markdown",
   "metadata": {},
   "source": [
    "Set environement variable in a `.env` file at the root of `TapeAgents` repository or set them below\n",
    "\n",
    "```bash\n",
    "# .env file\n",
    "OPENAI_API_KEY=\"\" # put your https://platform.openai.com/ key here\n",
    "# OPENAI_ORGANIZATION=\"\" # optional if you use your personal key\n",
    "```"
   ]
  },
  {
   "cell_type": "code",
   "execution_count": 2,
   "metadata": {
    "execution": {
     "iopub.execute_input": "2024-09-28T05:58:28.292989Z",
     "iopub.status.busy": "2024-09-28T05:58:28.292496Z",
     "iopub.status.idle": "2024-09-28T05:58:28.304698Z",
     "shell.execute_reply": "2024-09-28T05:58:28.304270Z"
    }
   },
   "outputs": [
    {
     "data": {
      "text/plain": [
       "True"
      ]
     },
     "execution_count": 2,
     "metadata": {},
     "output_type": "execute_result"
    }
   ],
   "source": [
    "import dotenv\n",
    "\n",
    "env_file = \".env\"\n",
    "dotenv.load_dotenv(env_file, override=True)\n",
    "\n",
    "# os.environ[\"OPENAI_API_KEY\"] = \"\"\n",
    "# os.environ[\"OPENAI_ORGANIZATION\"] = \"\" # optional if you use your personal key"
   ]
  },
  {
   "cell_type": "markdown",
   "metadata": {},
   "source": [
    "# 1. Your first TapeAgent"
   ]
  },
  {
   "cell_type": "markdown",
   "metadata": {},
   "source": [
    "In this section we will build the simplest possible \"hello world\" agent. We will then go through all the new concepts that you need to know to understand the code. This section is quite long, but with the solid foundation you acquire here other TapeAgent tutorials will be easy to process.\n",
    "\n",
    "Without further ado, here's the code!"
   ]
  },
  {
   "cell_type": "code",
   "execution_count": 3,
   "metadata": {
    "execution": {
     "iopub.execute_input": "2024-09-28T05:58:28.328802Z",
     "iopub.status.busy": "2024-09-28T05:58:28.328668Z",
     "iopub.status.idle": "2024-09-28T05:58:32.911781Z",
     "shell.execute_reply": "2024-09-28T05:58:32.911293Z"
    }
   },
   "outputs": [
    {
     "name": "stdout",
     "output_type": "stream",
     "text": [
      "{\n",
      "  \"metadata\": {\n",
      "    \"id\": \"22515bbf-be55-45fb-b210-a6ca2af99b19\",\n",
      "    \"parent_id\": \"483361cf-e464-4a4d-b61c-de3a5ca0dd67\",\n",
      "    \"author\": \"\",\n",
      "    \"author_tape_id\": null,\n",
      "    \"n_added_steps\": 2,\n",
      "    \"error\": null,\n",
      "    \"result\": null\n",
      "  },\n",
      "  \"context\": null,\n",
      "  \"steps\": [\n",
      "    {\n",
      "      \"metadata\": {\n",
      "        \"id\": \"91442152-ddea-43a7-9630-7f18b46caa9a\",\n",
      "        \"prompt_id\": \"\",\n",
      "        \"node\": \"\",\n",
      "        \"agent\": \"\",\n",
      "        \"other\": {}\n",
      "      },\n",
      "      \"content\": \"Tell me about Vulcan in 3 sentences\",\n",
      "      \"kind\": \"user\"\n",
      "    },\n",
      "    {\n",
      "      \"metadata\": {\n",
      "        \"id\": \"91442152-ddea-43a7-9630-7f18b46caa9a\",\n",
      "        \"prompt_id\": \"927e2727-f2a3-4b3d-853c-8248a7ce9bdf\",\n",
      "        \"node\": \"\",\n",
      "        \"agent\": \"Agent\",\n",
      "        \"other\": {}\n",
      "      },\n",
      "      \"content\": \"Vulcan is a fictional planet in the \\\"Star Trek\\\" universe, primarily known as the home world of the Vulcan species, including the iconic character Spock. The planet is characterized by its arid and mountainous terrain, as well as its rich cultural history emphasizing logic, peace, and emotional control, which are fundamental to Vulcan philosophy. As a prominent civilization in the Federation, Vulcan plays a crucial role in intergalactic diplomacy and exploration, showcasing advanced science and technology.\",\n",
      "      \"kind\": \"assistant\"\n",
      "    },\n",
      "    {\n",
      "      \"metadata\": {\n",
      "        \"id\": \"91442152-ddea-43a7-9630-7f18b46caa9a\",\n",
      "        \"prompt_id\": \"927e2727-f2a3-4b3d-853c-8248a7ce9bdf\",\n",
      "        \"node\": \"\",\n",
      "        \"agent\": \"Agent\",\n",
      "        \"other\": {}\n",
      "      },\n",
      "      \"kind\": \"set_next_node\",\n",
      "      \"next_node\": 0\n",
      "    }\n",
      "  ]\n",
      "}\n"
     ]
    }
   ],
   "source": [
    "from tapeagents.agent import Agent, Node\n",
    "from tapeagents.core import Prompt, SetNextNode\n",
    "from tapeagents.dialog_tape import AssistantStep, UserStep, DialogTape\n",
    "from tapeagents.llms import LLMStream, LiteLLM\n",
    "from tapeagents.prompting import tape_to_messages\n",
    "\n",
    "llm = LiteLLM(model_name=\"gpt-4o-mini\")\n",
    "\n",
    "\n",
    "class MainNode(Node):\n",
    "    def make_prompt(self, agent: Agent, tape: DialogTape) -> Prompt:\n",
    "        return Prompt(messages=tape_to_messages(tape))\n",
    "\n",
    "    def generate_steps(self, agent: Agent, tape: DialogTape, llm_stream: LLMStream):\n",
    "        \"\"\"\n",
    "        llm_stream contains the text of the LLM model response\n",
    "        \"\"\"\n",
    "        yield AssistantStep(content=llm_stream.get_text())\n",
    "        yield SetNextNode(next_node=0)  # Which node to execute next, more on that later\n",
    "\n",
    "\n",
    "nodes = [MainNode()]\n",
    "agent = Agent[DialogTape].create(llm, nodes=nodes)\n",
    "start_tape = DialogTape(steps=[UserStep(content=\"Tell me about Vulcan in 3 sentences\")])\n",
    "final_tape = agent.run(start_tape).get_final_tape()\n",
    "print(final_tape.model_dump_json(indent=2))"
   ]
  },
  {
   "cell_type": "markdown",
   "metadata": {},
   "source": [
    "Now let's learn about tapes, steps, prompts, llm streams, nodes and agents."
   ]
  },
  {
   "cell_type": "markdown",
   "metadata": {},
   "source": [
    "### Tape\n",
    "\n",
    "The fundamental concept of the TapeAgents is the `Tape`, a comprehensive semantic level log of the agent's session. A `Tape` contains a context and a sequence of `Step` objects. As you can see, a TapeAgent runs by adding steps (such as `UserStep` or `AssistantStep`) to the _tape_. This example uses the `DialogTape` tape, which is a basic tape for user-assistant conversations. Let's see what are the possible steps in a `DialogTape`."
   ]
  },
  {
   "cell_type": "code",
   "execution_count": 4,
   "metadata": {
    "execution": {
     "iopub.execute_input": "2024-09-28T05:58:32.914203Z",
     "iopub.status.busy": "2024-09-28T05:58:32.913973Z",
     "iopub.status.idle": "2024-09-28T05:58:32.917292Z",
     "shell.execute_reply": "2024-09-28T05:58:32.916773Z"
    }
   },
   "outputs": [
    {
     "data": {
      "text/plain": [
       "tapeagents.core.Tape[Union[DialogContext, NoneType], Union[UserStep, ToolResult, SystemStep, AssistantThought, SetNextNode, Pass, Call, Respond, FinalStep, AssistantStep, ToolCalls]]"
      ]
     },
     "execution_count": 4,
     "metadata": {},
     "output_type": "execute_result"
    }
   ],
   "source": [
    "# We use Python generics to instantiate many different Tape types by\n",
    "# specifying different Context and Step types. In the output of this cell,\n",
    "# look at Union[UserStep, AssistantStep, ...]\n",
    "# for the list of possible step types in the DialogTape.\n",
    "DialogTape"
   ]
  },
  {
   "cell_type": "markdown",
   "metadata": {},
   "source": [
    "Some of these steps should be familiar to you. `UserStep`, `AssistantStep`, `SystemStep` and `ToolResult` correspond to `role=user`, `role=assistant`, `role=system` and `role=tool` LLM API messages respectively. `ToolCalls` and `AssistantThought` correspond to assistant messages where the LLM requests a tool call or produces an intermediate thought that is not meant to be shown to the user. `SetNextNode` and `Pass` are TapeAgent's internal step to control which node it should run at the next iteration (more on this below)."
   ]
  },
  {
   "cell_type": "markdown",
   "metadata": {},
   "source": [
    "### Prompt format; LLMs"
   ]
  },
  {
   "cell_type": "markdown",
   "metadata": {},
   "source": [
    "We use the industry-standard \"chat.completions\" prompt format in TapeAgents: a list of user/assistant/system/tool messages plus tool schemas."
   ]
  },
  {
   "cell_type": "code",
   "execution_count": 5,
   "metadata": {
    "execution": {
     "iopub.execute_input": "2024-09-28T05:58:32.919015Z",
     "iopub.status.busy": "2024-09-28T05:58:32.918883Z",
     "iopub.status.idle": "2024-09-28T05:58:32.921803Z",
     "shell.execute_reply": "2024-09-28T05:58:32.921457Z"
    }
   },
   "outputs": [
    {
     "data": {
      "text/plain": [
       "{'id': FieldInfo(annotation=str, required=False, default_factory=<lambda>),\n",
       " 'tools': FieldInfo(annotation=Union[list[dict], NoneType], required=False, default=None),\n",
       " 'messages': FieldInfo(annotation=list[dict], required=False, default=[])}"
      ]
     },
     "execution_count": 5,
     "metadata": {},
     "output_type": "execute_result"
    }
   ],
   "source": [
    "# Almost all classes in TapeAgents are Pydantic base models.\n",
    "# This allows easy validation, serialization and instrospection. For example,\n",
    "# here we are able to list all the fields in the Prompt model.\n",
    "Prompt.model_fields"
   ]
  },
  {
   "cell_type": "markdown",
   "metadata": {},
   "source": [
    "The LLMs in TapeAgent take `Prompt` and return an `LLMStream` object. The `LLMStream` object can be used both to fast-forward to the complete response text and to stream partial outputs step by step."
   ]
  },
  {
   "cell_type": "code",
   "execution_count": 6,
   "metadata": {
    "execution": {
     "iopub.execute_input": "2024-09-28T05:58:32.923397Z",
     "iopub.status.busy": "2024-09-28T05:58:32.923244Z",
     "iopub.status.idle": "2024-09-28T05:58:37.969735Z",
     "shell.execute_reply": "2024-09-28T05:58:37.969420Z"
    }
   },
   "outputs": [
    {
     "name": "stdout",
     "output_type": "stream",
     "text": [
      "Certainly! Here is a simple \"Hello, World!\""
     ]
    },
    {
     "name": "stdout",
     "output_type": "stream",
     "text": [
      " program in Java:\n",
      "\n",
      "```java\n"
     ]
    },
    {
     "name": "stdout",
     "output_type": "stream",
     "text": [
      "public class HelloWorld {\n",
      "    public static void main(String[] args) {\n",
      "        System.out.println(\"Hello, World!\");\n",
      "    }\n",
      "}\n",
      "```\n",
      "\n",
      "### Steps to Run the Program:\n",
      "\n",
      "1"
     ]
    },
    {
     "name": "stdout",
     "output_type": "stream",
     "text": [
      ". **Create a file**: Save the code in a file named `"
     ]
    },
    {
     "name": "stdout",
     "output_type": "stream",
     "text": [
      "HelloWorld.java`.\n",
      "2. **Compile the program**: Open a terminal or command prompt"
     ]
    },
    {
     "name": "stdout",
     "output_type": "stream",
     "text": [
      ", navigate to the directory where the file is saved, and run:\n",
      "   ```\n"
     ]
    },
    {
     "name": "stdout",
     "output_type": "stream",
     "text": [
      "   javac HelloWorld.java\n",
      "   ```\n",
      "3. **"
     ]
    },
    {
     "name": "stdout",
     "output_type": "stream",
     "text": [
      "Run the program**: After compiling, you can run the program with:\n",
      "  "
     ]
    },
    {
     "name": "stdout",
     "output_type": "stream",
     "text": [
      " ```\n",
      "   java HelloWorld\n",
      "   ```\n",
      "\n",
      "You should see the output:\n",
      "``"
     ]
    },
    {
     "name": "stdout",
     "output_type": "stream",
     "text": [
      "`\n",
      "Hello, World!\n",
      "```None\n",
      "------------------------------\n"
     ]
    },
    {
     "name": "stdout",
     "output_type": "stream",
     "text": [
      "Certainly! Here is a simple program that prints \"Hello, World!\" in C:\n",
      "\n",
      "```c\n",
      "#include <stdio.h>\n",
      "\n",
      "int main() {\n",
      "    printf(\"Hello, World!\\n\");\n",
      "    return 0;\n",
      "}\n",
      "```\n",
      "\n",
      "### Explanation:\n",
      "- `#include <stdio.h>`: This line includes the standard input/output library, which is necessary for using the `printf` function.\n",
      "- `int main()`: This defines the main function where the program execution starts.\n",
      "- `printf(\"Hello, World!\\n\");`: This line prints \"Hello, World!\" to the console, followed by a new line (`\\n`).\n",
      "- `return 0;`: This indicates that the program finished successfully.\n",
      "\n",
      "### To compile and run the program:\n",
      "1. Save the code to a file named `hello.c`.\n",
      "2. Open a terminal (or command prompt) and navigate to the directory where the file is saved.\n",
      "3. Compile the program using a C compiler, for example, if using GCC:\n",
      "   ```sh\n",
      "   gcc hello.c -o hello\n",
      "   ```\n",
      "4. Run the compiled program:\n",
      "   ```sh\n",
      "   ./hello\n",
      "   ```\n",
      "\n",
      "You should see the output:\n",
      "```\n",
      "Hello, World!\n",
      "```\n"
     ]
    }
   ],
   "source": [
    "llm_stream = LiteLLM(model_name=\"gpt-4o-mini-2024-07-18\", stream=True)\n",
    "\n",
    "# Streaming\n",
    "prompt = Prompt(messages=[{\"role\": \"user\", \"content\": \"Write hello world in Java\"}])\n",
    "for event in llm_stream.generate(prompt):\n",
    "    print(event.chunk, end=\"\")\n",
    "\n",
    "# No streaming\n",
    "# (note: you can not use Prompt object for more than 1 LLM call in TapeAgents)\n",
    "prompt = Prompt(messages=[{\"role\": \"user\", \"content\": \"Write hello world in C\"}])\n",
    "print(\"\\n\" + \"-\" * 30)\n",
    "print(llm_stream.generate(prompt).get_text())"
   ]
  },
  {
   "cell_type": "markdown",
   "metadata": {},
   "source": [
    "In the example above we use the easiest way to create a prompt from the tapes: `tape_to_messages`. Under the hood this method uses `step.llm_dict()` method of all non-control steps in the tape to create the prompt:"
   ]
  },
  {
   "cell_type": "code",
   "execution_count": 7,
   "metadata": {
    "execution": {
     "iopub.execute_input": "2024-09-28T05:58:37.971243Z",
     "iopub.status.busy": "2024-09-28T05:58:37.971119Z",
     "iopub.status.idle": "2024-09-28T05:58:37.973575Z",
     "shell.execute_reply": "2024-09-28T05:58:37.973328Z"
    }
   },
   "outputs": [
    {
     "name": "stdout",
     "output_type": "stream",
     "text": [
      "{'content': 'hi AI!', 'kind': 'user'}\n",
      "{'content': 'hello human', 'kind': 'assistant'}\n",
      "[{'role': 'user', 'content': 'hi AI!'}, {'role': 'assistant', 'content': 'hello human'}]\n"
     ]
    }
   ],
   "source": [
    "print((user := UserStep(content=\"hi AI!\")).llm_dict())\n",
    "print((assistant := AssistantStep(content=\"hello human\")).llm_dict())\n",
    "print(tape_to_messages(DialogTape(steps=[user, assistant])))"
   ]
  },
  {
   "cell_type": "markdown",
   "metadata": {},
   "source": [
    "A key priority in TapeAgents is making use of the data that running the agent generates. To make this possible, some TapeAgent LLMs know how to make their finetuning data:"
   ]
  },
  {
   "cell_type": "code",
   "execution_count": 8,
   "metadata": {
    "execution": {
     "iopub.execute_input": "2024-09-28T05:58:37.974863Z",
     "iopub.status.busy": "2024-09-28T05:58:37.974675Z",
     "iopub.status.idle": "2024-09-28T05:58:39.404604Z",
     "shell.execute_reply": "2024-09-28T05:58:39.404268Z"
    }
   },
   "outputs": [
    {
     "name": "stdout",
     "output_type": "stream",
     "text": [
      "--- ALL TEXT ---\n",
      "<|user|>\n",
      "Say bla 3 times and foo 2 times<|end|>\n",
      "<|endoftext|><|assistant|>\n",
      "Sure! Let me say bla bla bla foo foo<|end|>\n",
      "<|endoftext|>\n",
      "--- PREDICTED CHARACTERS ---\n",
      "<|assistant|>\n",
      "Sure! Let me say bla bla bla foo foo<|end|>\n",
      "<|endoftext|>\n"
     ]
    }
   ],
   "source": [
    "from tapeagents.core import LLMOutput\n",
    "from tapeagents.llms import TrainableLLM\n",
    "\n",
    "trainable_llm = TrainableLLM(\n",
    "    base_url=\"\",  # we only use the tokenizer from the model here, no need for a base_url for inference\n",
    "    model_name=\"microsoft/Phi-3.5-MoE-instruct\",\n",
    "    tokenizer_name=\"microsoft/Phi-3.5-MoE-instruct\",\n",
    ")\n",
    "\n",
    "simple_tape = DialogTape(\n",
    "    steps=[\n",
    "        UserStep(content=\"Say bla 3 times and foo 2 times\"),\n",
    "        AssistantStep(content=\"Sure! Let me say bla bla bla foo foo\"),\n",
    "    ]\n",
    ")\n",
    "\n",
    "prompt = Prompt(messages=tape_to_messages(simple_tape[:1]))\n",
    "output = agent.make_llm_output(simple_tape, index=1)\n",
    "text = trainable_llm.make_training_text(prompt=prompt, output=output)\n",
    "print(\"--- ALL TEXT ---\")\n",
    "print(text.text)\n",
    "print(\"--- PREDICTED CHARACTERS ---\")\n",
    "print(text.output_text)"
   ]
  },
  {
   "cell_type": "markdown",
   "metadata": {},
   "source": [
    "### Node"
   ]
  },
  {
   "cell_type": "markdown",
   "metadata": {},
   "source": [
    "A node represents an uninterruptible atom of TapeAgent's computation. When TapeAgents runs a node, it uses its two main functions: `make_prompt` to create LLM Prompt from the tape and `generate_steps` to create new steps from the LLM output. To build a node, you can subclass `Node` and override these functions. Note that `generate_steps` must be a generator, a design choice we made to make TapeAgents a streaming-friendly framework. \n",
    "\n",
    "Let's see what the node from the above example can do."
   ]
  },
  {
   "cell_type": "code",
   "execution_count": 9,
   "metadata": {
    "execution": {
     "iopub.execute_input": "2024-09-28T05:58:39.406260Z",
     "iopub.status.busy": "2024-09-28T05:58:39.406072Z",
     "iopub.status.idle": "2024-09-28T05:58:42.232598Z",
     "shell.execute_reply": "2024-09-28T05:58:42.231897Z"
    }
   },
   "outputs": [
    {
     "name": "stdout",
     "output_type": "stream",
     "text": [
      "Raw node prompt:\n",
      "id='b0fb6cc2-5aa2-49dd-89bc-62a41b18f6c7' tools=None messages=[{'role': 'user', 'content': 'Hi, AI!'}]\n",
      "\n",
      "Steps produced by node's generator:\n",
      "[AssistantStep(metadata=StepMetadata(id='91442152-ddea-43a7-9630-7f18b46caa9a', prompt_id='', node='', agent='', other={}), content='Hello, human!', kind='assistant'), SetNextNode(metadata=StepMetadata(id='91442152-ddea-43a7-9630-7f18b46caa9a', prompt_id='', node='', agent='', other={}), kind='set_next_node', next_node=0)]\n",
      "\n",
      "Produced Steps:\n"
     ]
    },
    {
     "name": "stdout",
     "output_type": "stream",
     "text": [
      "{\n",
      "  \"metadata\": {\n",
      "    \"id\": \"91442152-ddea-43a7-9630-7f18b46caa9a\",\n",
      "    \"prompt_id\": \"\",\n",
      "    \"node\": \"\",\n",
      "    \"agent\": \"\",\n",
      "    \"other\": {}\n",
      "  },\n",
      "  \"content\": \"Hello! How can I assist you today?\",\n",
      "  \"kind\": \"assistant\"\n",
      "}\n",
      "{\n",
      "  \"metadata\": {\n",
      "    \"id\": \"91442152-ddea-43a7-9630-7f18b46caa9a\",\n",
      "    \"prompt_id\": \"\",\n",
      "    \"node\": \"\",\n",
      "    \"agent\": \"\",\n",
      "    \"other\": {}\n",
      "  },\n",
      "  \"kind\": \"set_next_node\",\n",
      "  \"next_node\": 0\n",
      "}\n"
     ]
    }
   ],
   "source": [
    "from tapeagents.llms import LLMEvent\n",
    "\n",
    "\n",
    "class MainNode(Node):\n",
    "    def make_prompt(self, agent, tape: DialogTape) -> Prompt:\n",
    "        return Prompt(messages=tape_to_messages(tape))\n",
    "\n",
    "    def generate_steps(self, agent, tape, llm_stream: LLMStream):\n",
    "        yield AssistantStep(content=llm_stream.get_text())\n",
    "        yield SetNextNode(next_node=0)  # Continue to the same first node\n",
    "\n",
    "\n",
    "node = MainNode()\n",
    "\n",
    "# Let's run \"make_prompt\" in isolation.\n",
    "prompt = node.make_prompt(agent=None, tape=DialogTape(steps=[UserStep(content=\"Hi, AI!\")]))\n",
    "print(f\"Raw node prompt:\\n{prompt}\\n\")\n",
    "\n",
    "\n",
    "# Now, let's run \"generate_steps\" in isolation.\n",
    "# We need to construct a fake LLMStream to do that.\n",
    "def _generator():\n",
    "    yield LLMEvent(output=LLMOutput(content=\"Hello, human!\"))\n",
    "\n",
    "\n",
    "stream = LLMStream(_generator(), Prompt())\n",
    "step_stream = node.generate_steps(agent=None, tape=DialogTape(), llm_stream=stream)\n",
    "print(f\"Steps produced by node's generator:\\n{list(step_stream)}\\n\")\n",
    "\n",
    "# When the agent runs a node, it is a equivalent to the following three steps:\n",
    "# Step 1: make a prompt\n",
    "start_tape = DialogTape(steps=[UserStep(content=\"Hi, AI!\")])\n",
    "prompt = node.make_prompt(agent, start_tape)\n",
    "# Step 2: construct the LLMStream from the prompt (happens inside the agent)\n",
    "stream = llm.generate(prompt)\n",
    "# Step 3: generate steps that the agent will then add to the tape\n",
    "print(\"Produced Steps:\")\n",
    "for step in node.generate_steps(agent, start_tape, stream):\n",
    "    print(step.model_dump_json(indent=2))"
   ]
  },
  {
   "cell_type": "markdown",
   "metadata": {},
   "source": [
    "### Agent and its nodes"
   ]
  },
  {
   "cell_type": "markdown",
   "metadata": {},
   "source": [
    "The TapeAgent agent iteratively runs the nodes and appends the steps generated by each node to the tape. To select which next node to run, internally a TapeAgent computes the **tape view** object. The Tape remains the only **state** that the agent uses, the view only represents its content in a way that is convenient for the agent to use.\n"
   ]
  },
  {
   "cell_type": "code",
   "execution_count": 10,
   "metadata": {
    "execution": {
     "iopub.execute_input": "2024-09-28T05:58:42.235113Z",
     "iopub.status.busy": "2024-09-28T05:58:42.234866Z",
     "iopub.status.idle": "2024-09-28T05:58:42.241070Z",
     "shell.execute_reply": "2024-09-28T05:58:42.240628Z"
    }
   },
   "outputs": [
    {
     "name": "stdout",
     "output_type": "stream",
     "text": [
      "0\n",
      "1\n",
      "0\n"
     ]
    }
   ],
   "source": [
    "from tapeagents.view import TapeViewStack\n",
    "from tapeagents.core import StepMetadata\n",
    "\n",
    "# The \"top\" view in the tape view stack is the view of current agent. Initially `top.next_node` is 0\".\n",
    "tape1 = DialogTape(steps=[UserStep(content=\"Hi, AI!\")])\n",
    "next_node1 = TapeViewStack.compute(tape1).top.next_node\n",
    "print(next_node1)\n",
    "assert next_node1 == 0\n",
    "\n",
    "\n",
    "# When the agent computes the view, it bumps up `top.next_node` every time it encounters a step with a new `prompt_id``.\n",
    "# The new prompt_id on the tape signals to the agent the current node has run.\n",
    "tape2 = DialogTape(\n",
    "    steps=[\n",
    "        UserStep(content=\"Hi, AI!\"),\n",
    "        AssistantStep(metadata=StepMetadata(prompt_id=\"123\"), content=\"AI here, how I can help?\"),\n",
    "    ]\n",
    ")\n",
    "next_node2 = TapeViewStack.compute(tape2).top.next_node\n",
    "print(next_node2)\n",
    "assert next_node2 == 1\n",
    "\n",
    "# The SetNextNode step on the tape changes `top.next_node` to the value of the `next_node` field in the SetNextNode step.\n",
    "tape3 = DialogTape(\n",
    "    steps=[\n",
    "        UserStep(content=\"Hi, AI!\"),\n",
    "        AssistantStep(metadata=StepMetadata(prompt_id=\"123\"), content=\"AI here, how I can help?\"),\n",
    "        SetNextNode(next_node=0),\n",
    "    ]\n",
    ")\n",
    "next_node3 = TapeViewStack.compute(tape3).top.next_node\n",
    "print(next_node3)\n",
    "assert next_node3 == 0"
   ]
  },
  {
   "cell_type": "markdown",
   "metadata": {},
   "source": [
    "By default the agent stops after the last node has produced an `Action` step. The action steps are the step by which the agent requests information from the environment. For example, `AssistantStep` is an `Action` as it indicates the agent awaits the user response, `ToolCalls` is an action requesting tool call results. Let's look at all possible steps in `DialogTape` tape and see which of them are actions, observations and thoughts."
   ]
  },
  {
   "cell_type": "code",
   "execution_count": 11,
   "metadata": {
    "execution": {
     "iopub.execute_input": "2024-09-28T05:58:42.243116Z",
     "iopub.status.busy": "2024-09-28T05:58:42.242789Z",
     "iopub.status.idle": "2024-09-28T05:58:42.246142Z",
     "shell.execute_reply": "2024-09-28T05:58:42.245673Z"
    }
   },
   "outputs": [],
   "source": [
    "from tapeagents.core import Action, Pass, Thought, Observation\n",
    "from tapeagents.dialog_tape import AssistantThought, ToolCalls, ToolResult\n",
    "\n",
    "assert all([issubclass(step_class, Action) for step_class in [AssistantStep, ToolCalls]])\n",
    "assert all([issubclass(step_class, Thought) for step_class in [AssistantThought, SetNextNode, Pass]])\n",
    "assert all([issubclass(step_class, Observation) for step_class in [UserStep, ToolResult]])"
   ]
  },
  {
   "cell_type": "markdown",
   "metadata": {},
   "source": [
    "Now we are ready to look at a simplified summary of the corner-stone `agent.run` algorithm.\n",
    "\n",
    "1. Compute the new tape view\n",
    "2. Choose the active agent (more on multi-agent TapeAgents later)\n",
    "3. Choose the active node\n",
    "4. Run the node and add steps on the tape\n",
    "5. If the last node yielded an action, then stop, else repeat.\n",
    "\n",
    "`agent.run` returns an `AgentStream` object which allows iterating through the agent's steps (or partial steps when streaming) and fast-forwardin to the complete new tape with `get_final_tape`."
   ]
  },
  {
   "cell_type": "markdown",
   "metadata": {},
   "source": [
    "#### Converse with a TapeAgent"
   ]
  },
  {
   "cell_type": "markdown",
   "metadata": {},
   "source": [
    "Lets continue conversation with the agent that previously responded to us with the Vulcan definition from the StarTrek.\n",
    "Remember, the session stored in the tape **final_tape**."
   ]
  },
  {
   "cell_type": "code",
   "execution_count": 12,
   "metadata": {
    "execution": {
     "iopub.execute_input": "2024-09-28T05:58:42.247858Z",
     "iopub.status.busy": "2024-09-28T05:58:42.247728Z",
     "iopub.status.idle": "2024-09-28T05:58:43.550232Z",
     "shell.execute_reply": "2024-09-28T05:58:43.549351Z"
    }
   },
   "outputs": [
    {
     "name": "stdout",
     "output_type": "stream",
     "text": [
      "{\n",
      "  \"metadata\": {\n",
      "    \"id\": \"96e5db2a-62fd-4d62-887c-6eeb876fb88d\",\n",
      "    \"parent_id\": \"364c7ab1-c271-4bb9-83ee-12b2a3cdd8e0\",\n",
      "    \"author\": \"\",\n",
      "    \"author_tape_id\": null,\n",
      "    \"n_added_steps\": 2,\n",
      "    \"error\": null,\n",
      "    \"result\": null\n",
      "  },\n",
      "  \"context\": null,\n",
      "  \"steps\": [\n",
      "    {\n",
      "      \"metadata\": {\n",
      "        \"id\": \"91442152-ddea-43a7-9630-7f18b46caa9a\",\n",
      "        \"prompt_id\": \"\",\n",
      "        \"node\": \"\",\n",
      "        \"agent\": \"\",\n",
      "        \"other\": {}\n",
      "      },\n",
      "      \"content\": \"Tell me about Vulcan in 3 sentences\",\n",
      "      \"kind\": \"user\"\n",
      "    },\n",
      "    {\n",
      "      \"metadata\": {\n",
      "        \"id\": \"91442152-ddea-43a7-9630-7f18b46caa9a\",\n",
      "        \"prompt_id\": \"927e2727-f2a3-4b3d-853c-8248a7ce9bdf\",\n",
      "        \"node\": \"\",\n",
      "        \"agent\": \"Agent\",\n",
      "        \"other\": {}\n",
      "      },\n",
      "      \"content\": \"Vulcan is a fictional planet in the \\\"Star Trek\\\" universe, primarily known as the home world of the Vulcan species, including the iconic character Spock. The planet is characterized by its arid and mountainous terrain, as well as its rich cultural history emphasizing logic, peace, and emotional control, which are fundamental to Vulcan philosophy. As a prominent civilization in the Federation, Vulcan plays a crucial role in intergalactic diplomacy and exploration, showcasing advanced science and technology.\",\n",
      "      \"kind\": \"assistant\"\n",
      "    },\n",
      "    {\n",
      "      \"metadata\": {\n",
      "        \"id\": \"91442152-ddea-43a7-9630-7f18b46caa9a\",\n",
      "        \"prompt_id\": \"927e2727-f2a3-4b3d-853c-8248a7ce9bdf\",\n",
      "        \"node\": \"\",\n",
      "        \"agent\": \"Agent\",\n",
      "        \"other\": {}\n",
      "      },\n",
      "      \"kind\": \"set_next_node\",\n",
      "      \"next_node\": 0\n",
      "    },\n",
      "    {\n",
      "      \"metadata\": {\n",
      "        \"id\": \"91442152-ddea-43a7-9630-7f18b46caa9a\",\n",
      "        \"prompt_id\": \"\",\n",
      "        \"node\": \"\",\n",
      "        \"agent\": \"\",\n",
      "        \"other\": {}\n",
      "      },\n",
      "      \"content\": \"No, I mean Vulcan the company\",\n",
      "      \"kind\": \"user\"\n",
      "    },\n",
      "    {\n",
      "      \"metadata\": {\n",
      "        \"id\": \"91442152-ddea-43a7-9630-7f18b46caa9a\",\n",
      "        \"prompt_id\": \"299d8373-3d3b-49ff-9e0f-1b4e638b01a1\",\n",
      "        \"node\": \"\",\n",
      "        \"agent\": \"Agent\",\n",
      "        \"other\": {}\n",
      "      },\n",
      "      \"content\": \"Vulcan Inc. is a company founded by Paul Allen, co-founder of Microsoft, that focuses on various initiatives in technology, science, and philanthropy. The company is involved in diverse sectors, including real estate, investments in innovative technology companies, and environmental conservation efforts, such as climate change mitigation and wildlife protection. Vulcan aims to make a positive impact on society by leveraging technology and investing in projects that promote sustainability and social good.\",\n",
      "      \"kind\": \"assistant\"\n",
      "    },\n",
      "    {\n",
      "      \"metadata\": {\n",
      "        \"id\": \"91442152-ddea-43a7-9630-7f18b46caa9a\",\n",
      "        \"prompt_id\": \"299d8373-3d3b-49ff-9e0f-1b4e638b01a1\",\n",
      "        \"node\": \"\",\n",
      "        \"agent\": \"Agent\",\n",
      "        \"other\": {}\n",
      "      },\n",
      "      \"kind\": \"set_next_node\",\n",
      "      \"next_node\": 0\n",
      "    }\n",
      "  ]\n",
      "}\n"
     ]
    }
   ],
   "source": [
    "tape_to_continue = final_tape + [UserStep(content=\"No, I mean Vulcan the company\")]\n",
    "continued_tape = agent.run(tape_to_continue).get_final_tape()\n",
    "print(continued_tape.model_dump_json(indent=2))"
   ]
  },
  {
   "cell_type": "markdown",
   "metadata": {},
   "source": [
    "Note, that the agent is able to continue talking to you thanks for `SetNextNode(next_node=0)` step that `generate_steps` produced. If you try to remove this step as an exercise, the agent will crash because there is only one node."
   ]
  },
  {
   "cell_type": "markdown",
   "metadata": {},
   "source": [
    "#### Tape rendering\n",
    "\n",
    "LLM agents create a lot of data that can be overwhelming to process. In TapeAgents we render the tape with the associated prompts and outputs into a more readable HTML for you. To make this work, we store prompts and outputs in an SQLite database every time you call `agent.run()`.\n",
    "\n",
    "Here's how to use tape rendering in the notebook:"
   ]
  },
  {
   "cell_type": "code",
   "execution_count": 13,
   "metadata": {
    "execution": {
     "iopub.execute_input": "2024-09-28T05:58:43.553199Z",
     "iopub.status.busy": "2024-09-28T05:58:43.552982Z",
     "iopub.status.idle": "2024-09-28T05:58:43.726999Z",
     "shell.execute_reply": "2024-09-28T05:58:43.726735Z"
    }
   },
   "outputs": [
    {
     "data": {
      "text/html": [
       "<style>.basic-renderer-box { margin: 4px; padding: 2px; background: lavender; white-space: pre-wrap; color: black;}.basic-prompt-box { margin: 4px; padding: 2px; background: lavender; color: black;}.episode-row { display: flex; align-items: end; }.agent-column { width: 50%; }.user-column { width: 25%; }.annotator-column { width: 25%; }.inner-tape-container { display: flex }.inner-tape-indent { width: 10%; }.inner-tape { width: 90%; }</style><style>.observation { background-color: #baffc9;; }.error_observation { background-color: #dd0000; }.action { background-color: #cccccc; }.thought { background-color: #ffffdb; }.call { background-color: #ffffff; }.respond { background-color: #ffffff; }.step-header { margin: 2pt 2pt 2pt 0 !important; }.step-text { font-size: 12px; white-space: pre-wrap; word-wrap: break-word;}</style><h3>Metadata</h3><details> <summary> Show / Hide </summary> <div class='basic-renderer-box'>author: ''\n",
       "author_tape_id: null\n",
       "error: null\n",
       "id: 96e5db2a-62fd-4d62-887c-6eeb876fb88d\n",
       "n_added_steps: 2\n",
       "parent_id: 364c7ab1-c271-4bb9-83ee-12b2a3cdd8e0\n",
       "result: null\n",
       "</div> </details><h3>Steps</h3><div class='basic-renderer-box observation'><h4 class='step-header'>[0] User</h4><pre class='step-text'>kind: user\n",
       "\n",
       "Tell me about Vulcan in 3 sentences</pre></div><div class='basic-renderer-box action'><h4 class='step-header'>[1] Assistant</h4><pre class='step-text'>kind: assistant\n",
       "\n",
       "Vulcan is a fictional planet in the \"Star Trek\" universe, primarily known as the home world of the Vulcan species, including the iconic character Spock. The planet is characterized by its arid and mountainous terrain, as well as its rich cultural history emphasizing logic, peace, and emotional control, which are fundamental to Vulcan philosophy. As a prominent civilization in the Federation, Vulcan plays a crucial role in intergalactic diplomacy and exploration, showcasing advanced science and technology.</pre></div><div class='basic-renderer-box thought'><h4 class='step-header'>[2] Thought: SetNextNode</h4><pre class='step-text'>kind: set_next_node\n",
       "next_node: 0\n",
       "</pre></div><div class='basic-renderer-box observation'><h4 class='step-header'>[3] User</h4><pre class='step-text'>kind: user\n",
       "\n",
       "No, I mean Vulcan the company</pre></div><div class='basic-renderer-box action'><h4 class='step-header'>[4] Assistant</h4><pre class='step-text'>kind: assistant\n",
       "\n",
       "Vulcan Inc. is a company founded by Paul Allen, co-founder of Microsoft, that focuses on various initiatives in technology, science, and philanthropy. The company is involved in diverse sectors, including real estate, investments in innovative technology companies, and environmental conservation efforts, such as climate change mitigation and wildlife protection. Vulcan aims to make a positive impact on society by leveraging technology and investing in projects that promote sustainability and social good.</pre></div><div class='basic-renderer-box thought'><h4 class='step-header'>[5] Thought: SetNextNode</h4><pre class='step-text'>kind: set_next_node\n",
       "next_node: 0\n",
       "</pre></div>"
      ],
      "text/plain": [
       "<IPython.core.display.HTML object>"
      ]
     },
     "execution_count": 13,
     "metadata": {},
     "output_type": "execute_result"
    }
   ],
   "source": [
    "from tapeagents.rendering import PrettyRenderer, render_tape_with_prompts\n",
    "from IPython.display import HTML\n",
    "\n",
    "HTML(render_tape_with_prompts(continued_tape, PrettyRenderer()))"
   ]
  },
  {
   "cell_type": "markdown",
   "metadata": {},
   "source": [
    "# 2. Your TapeAgent with planning and tools"
   ]
  },
  {
   "cell_type": "markdown",
   "metadata": {},
   "source": [
    "Let's build a TapeAgent that plans and acts. We will be using OpenAI function calling capabilities in this example."
   ]
  },
  {
   "cell_type": "code",
   "execution_count": 14,
   "metadata": {
    "execution": {
     "iopub.execute_input": "2024-09-28T05:58:43.728241Z",
     "iopub.status.busy": "2024-09-28T05:58:43.728124Z",
     "iopub.status.idle": "2024-09-28T05:58:48.953071Z",
     "shell.execute_reply": "2024-09-28T05:58:48.952539Z"
    }
   },
   "outputs": [
    {
     "name": "stdout",
     "output_type": "stream",
     "text": [
      "Run the agent!\n"
     ]
    },
    {
     "name": "stdout",
     "output_type": "stream",
     "text": [
      "{\n",
      "  \"metadata\": {\n",
      "    \"id\": \"91442152-ddea-43a7-9630-7f18b46caa9a\",\n",
      "    \"prompt_id\": \"215ded85-b5e9-439a-868c-df1321da18cc\",\n",
      "    \"node\": \"\",\n",
      "    \"agent\": \"Agent\",\n",
      "    \"other\": {}\n",
      "  },\n",
      "  \"content\": \"To help the user learn about Vulcan's financials, I will follow these steps:\\n\\n1. Use the `get_stock_ticker` function to find the stock ticker symbol for Vulcan.\\n2. Use the `get_stock_data` function to retrieve recent stock price data for Vulcan using the obtained ticker symbol.\\n3. Summarize the financial information and stock performance of Vulcan based on the retrieved data.\\n\\nLet's start with step 1.\",\n",
      "  \"kind\": \"assistant_thought\"\n",
      "}\n"
     ]
    },
    {
     "name": "stdout",
     "output_type": "stream",
     "text": [
      "{\n",
      "  \"metadata\": {\n",
      "    \"id\": \"91442152-ddea-43a7-9630-7f18b46caa9a\",\n",
      "    \"prompt_id\": \"67203041-9bbf-4494-8233-4bf26d52b27a\",\n",
      "    \"node\": \"\",\n",
      "    \"agent\": \"Agent\",\n",
      "    \"other\": {}\n",
      "  },\n",
      "  \"tool_calls\": [\n",
      "    {\n",
      "      \"function\": {\n",
      "        \"arguments\": \"{\\\"company_name\\\":\\\"Vulcan\\\"}\",\n",
      "        \"name\": \"get_stock_ticker\"\n",
      "      },\n",
      "      \"id\": \"call_ulmiHQvlQ2N7zZ1TJet02RJo\",\n",
      "      \"type\": \"function\"\n",
      "    }\n",
      "  ],\n",
      "  \"kind\": \"assistant\"\n",
      "}\n",
      "{\n",
      "  \"metadata\": {\n",
      "    \"id\": \"91442152-ddea-43a7-9630-7f18b46caa9a\",\n",
      "    \"prompt_id\": \"67203041-9bbf-4494-8233-4bf26d52b27a\",\n",
      "    \"node\": \"\",\n",
      "    \"agent\": \"Agent\",\n",
      "    \"other\": {}\n",
      "  },\n",
      "  \"kind\": \"set_next_node\",\n",
      "  \"next_node\": 1\n",
      "}\n"
     ]
    },
    {
     "name": "stdout",
     "output_type": "stream",
     "text": [
      "{\n",
      "  \"metadata\": {\n",
      "    \"id\": \"91442152-ddea-43a7-9630-7f18b46caa9a\",\n",
      "    \"prompt_id\": \"\",\n",
      "    \"node\": \"\",\n",
      "    \"agent\": \"\",\n",
      "    \"other\": {}\n",
      "  },\n",
      "  \"content\": \"VMC\",\n",
      "  \"tool_call_id\": \"call_ulmiHQvlQ2N7zZ1TJet02RJo\",\n",
      "  \"kind\": \"tool\"\n",
      "}\n"
     ]
    },
    {
     "name": "stdout",
     "output_type": "stream",
     "text": [
      "{\n",
      "  \"metadata\": {\n",
      "    \"id\": \"91442152-ddea-43a7-9630-7f18b46caa9a\",\n",
      "    \"prompt_id\": \"7e1edd33-ebf9-44dc-b71c-8ef2291fecb1\",\n",
      "    \"node\": \"\",\n",
      "    \"agent\": \"Agent\",\n",
      "    \"other\": {}\n",
      "  },\n",
      "  \"tool_calls\": [\n",
      "    {\n",
      "      \"function\": {\n",
      "        \"arguments\": \"{\\\"symbol\\\":\\\"VMC\\\",\\\"start_date\\\":\\\"2024-01-01\\\",\\\"end_date\\\":\\\"2024-09-16\\\"}\",\n",
      "        \"name\": \"get_stock_data\"\n",
      "      },\n",
      "      \"id\": \"call_CH708SYdZsqFf3vgKNTplOub\",\n",
      "      \"type\": \"function\"\n",
      "    }\n",
      "  ],\n",
      "  \"kind\": \"assistant\"\n",
      "}\n",
      "{\n",
      "  \"metadata\": {\n",
      "    \"id\": \"91442152-ddea-43a7-9630-7f18b46caa9a\",\n",
      "    \"prompt_id\": \"7e1edd33-ebf9-44dc-b71c-8ef2291fecb1\",\n",
      "    \"node\": \"\",\n",
      "    \"agent\": \"Agent\",\n",
      "    \"other\": {}\n",
      "  },\n",
      "  \"kind\": \"set_next_node\",\n",
      "  \"next_node\": 1\n",
      "}\n"
     ]
    },
    {
     "name": "stdout",
     "output_type": "stream",
     "text": [
      "{\n",
      "  \"metadata\": {\n",
      "    \"id\": \"91442152-ddea-43a7-9630-7f18b46caa9a\",\n",
      "    \"prompt_id\": \"\",\n",
      "    \"node\": \"\",\n",
      "    \"agent\": \"\",\n",
      "    \"other\": {}\n",
      "  },\n",
      "  \"content\": \"[('2024-01-02', 223.60000610351562), ('2024-01-04', 220.67999267578125), ('2024-01-08', 224.0), ('2024-01-10', 226.11000061035156), ('2024-01-12', 223.9600067138672), ('2024-01-17', 221.25999450683594), ('2024-01-19', 226.0800018310547), ('2024-01-23', 222.8000030517578), ('2024-01-25', 223.41000366210938), ('2024-01-29', 229.3699951171875), ('2024-01-31', 226.00999450683594), ('2024-02-02', 234.44000244140625), ('2024-02-06', 231.5800018310547), ('2024-02-08', 238.44000244140625), ('2024-02-12', 240.1300048828125), ('2024-02-14', 241.10000610351562), ('2024-02-16', 255.14999389648438), ('2024-02-21', 253.42999267578125), ('2024-02-23', 257.2300109863281), ('2024-02-27', 263.55999755859375), ('2024-02-29', 265.8500061035156), ('2024-03-04', 267.8500061035156), ('2024-03-06', 267.3399963378906), ('2024-03-08', 266.70001220703125), ('2024-03-12', 269.5799865722656), ('2024-03-14', 270.7300109863281), ('2024-03-18', 269.4200134277344), ('2024-03-20', 271.739990234375), ('2024-03-22', 274.3599853515625), ('2024-03-26', 273.8699951171875), ('2024-03-28', 272.9200134277344), ('2024-04-02', 266.25), ('2024-04-04', 265.8900146484375), ('2024-04-08', 269.7200012207031), ('2024-04-10', 264.55999755859375), ('2024-04-12', 262.7799987792969), ('2024-04-16', 258.5400085449219), ('2024-04-18', 255.07000732421875), ('2024-04-22', 254.47999572753906), ('2024-04-24', 256.3999938964844), ('2024-04-26', 261.239990234375), ('2024-04-30', 257.6300048828125), ('2024-05-02', 264.4100036621094), ('2024-05-06', 266.6099853515625), ('2024-05-08', 267.92999267578125), ('2024-05-10', 272.07000732421875), ('2024-05-14', 267.75), ('2024-05-16', 260.0), ('2024-05-20', 260.2099914550781), ('2024-05-22', 260.8699951171875), ('2024-05-24', 259.25), ('2024-05-29', 251.91000366210938), ('2024-05-31', 255.77000427246094), ('2024-06-04', 250.4600067138672), ('2024-06-06', 248.5800018310547), ('2024-06-10', 247.80999755859375), ('2024-06-12', 249.1199951171875), ('2024-06-14', 252.63999938964844), ('2024-06-18', 255.61000061035156), ('2024-06-21', 247.80999755859375), ('2024-06-25', 246.14999389648438), ('2024-06-27', 247.75999450683594), ('2024-07-01', 243.72000122070312), ('2024-07-03', 243.9199981689453), ('2024-07-08', 241.97000122070312), ('2024-07-10', 247.72000122070312), ('2024-07-12', 252.50999450683594), ('2024-07-16', 262.80999755859375), ('2024-07-18', 256.0899963378906), ('2024-07-22', 260.6099853515625), ('2024-07-24', 250.50999450683594), ('2024-07-26', 261.7099914550781), ('2024-07-30', 270.0), ('2024-08-01', 271.1300048828125), ('2024-08-05', 257.42999267578125), ('2024-08-07', 241.22000122070312), ('2024-08-09', 244.33999633789062), ('2024-08-13', 243.83999633789062), ('2024-08-15', 246.57000732421875), ('2024-08-19', 244.2899932861328), ('2024-08-21', 247.83999633789062), ('2024-08-23', 254.88999938964844), ('2024-08-27', 240.41000366210938), ('2024-08-29', 241.27999877929688), ('2024-09-03', 239.02000427246094), ('2024-09-05', 232.16000366210938), ('2024-09-09', 231.8300018310547), ('2024-09-11', 232.9499969482422), ('2024-09-13', 237.47000122070312)]\",\n",
      "  \"tool_call_id\": \"call_CH708SYdZsqFf3vgKNTplOub\",\n",
      "  \"kind\": \"tool\"\n",
      "}\n"
     ]
    },
    {
     "name": "stdout",
     "output_type": "stream",
     "text": [
      "{\n",
      "  \"metadata\": {\n",
      "    \"id\": \"91442152-ddea-43a7-9630-7f18b46caa9a\",\n",
      "    \"prompt_id\": \"db4c698b-efd0-4d36-993e-e03210bf28fb\",\n",
      "    \"node\": \"\",\n",
      "    \"agent\": \"Agent\",\n",
      "    \"other\": {}\n",
      "  },\n",
      "  \"content\": \"Vulcan Materials Company, trading under the ticker symbol VMC, is a major producer of construction aggregates, primarily crushed stone, sand, and gravel. Over the course of 2024, Vulcan's stock price has shown significant fluctuations, starting at approximately $223.60 in early January and reaching a high of around $274.36 in late March, before experiencing a decline to about $237.47 by mid-September. This performance reflects the company's market dynamics and the broader economic conditions impacting the construction and materials sector.\",\n",
      "  \"kind\": \"assistant\"\n",
      "}\n",
      "{\n",
      "  \"metadata\": {\n",
      "    \"id\": \"91442152-ddea-43a7-9630-7f18b46caa9a\",\n",
      "    \"prompt_id\": \"db4c698b-efd0-4d36-993e-e03210bf28fb\",\n",
      "    \"node\": \"\",\n",
      "    \"agent\": \"Agent\",\n",
      "    \"other\": {}\n",
      "  },\n",
      "  \"kind\": \"set_next_node\",\n",
      "  \"next_node\": 0\n",
      "}\n",
      "Final tape:\n"
     ]
    },
    {
     "data": {
      "text/html": [
       "<style>.basic-renderer-box { margin: 4px; padding: 2px; background: lavender; white-space: pre-wrap; color: black;}.basic-prompt-box { margin: 4px; padding: 2px; background: lavender; color: black;}.episode-row { display: flex; align-items: end; }.agent-column { width: 50%; }.user-column { width: 25%; }.annotator-column { width: 25%; }.inner-tape-container { display: flex }.inner-tape-indent { width: 10%; }.inner-tape { width: 90%; }</style><style>.observation { background-color: #baffc9;; }.error_observation { background-color: #dd0000; }.action { background-color: #cccccc; }.thought { background-color: #ffffdb; }.call { background-color: #ffffff; }.respond { background-color: #ffffff; }.step-header { margin: 2pt 2pt 2pt 0 !important; }.step-text { font-size: 12px; white-space: pre-wrap; word-wrap: break-word;}</style><h3>Metadata</h3><details> <summary> Show / Hide </summary> <div class='basic-renderer-box'>author: ''\n",
       "author_tape_id: null\n",
       "error: null\n",
       "id: 51dbf27c-4bc8-4263-a3b3-84f15093f497\n",
       "n_added_steps: 2\n",
       "parent_id: c0b88308-8ca7-49fe-ada6-cf9dd29937f0\n",
       "result: null\n",
       "</div> </details><h3>Steps</h3><div class='basic-renderer-box observation'><h4 class='step-header'>[0] User</h4><pre class='step-text'>kind: user\n",
       "\n",
       "Tell me about Vulcan in 3 sentences</pre></div><div class='basic-renderer-box thought'><h4 class='step-header'>[1] Thought: AssistantThought</h4><pre class='step-text'>kind: assistant_thought\n",
       "\n",
       "To help the user learn about Vulcan's financials, I will follow these steps:\n",
       "\n",
       "1. Use the `get_stock_ticker` function to find the stock ticker symbol for Vulcan.\n",
       "2. Use the `get_stock_data` function to retrieve recent stock price data for Vulcan using the obtained ticker symbol.\n",
       "3. Summarize the financial information and stock performance of Vulcan based on the retrieved data.\n",
       "\n",
       "Let's start with step 1.</pre></div><div class='basic-renderer-box action'><h4 class='step-header'>[2] Action: ToolCalls</h4><pre class='step-text'>tool_calls:\n",
       "- function:\n",
       "    arguments: '{\"company_name\":\"Vulcan\"}'\n",
       "    name: get_stock_ticker\n",
       "  id: call_ulmiHQvlQ2N7zZ1TJet02RJo\n",
       "  type: function\n",
       "kind: assistant\n",
       "</pre></div><div class='basic-renderer-box thought'><h4 class='step-header'>[3] Thought: SetNextNode</h4><pre class='step-text'>kind: set_next_node\n",
       "next_node: 1\n",
       "</pre></div><div class='basic-renderer-box observation'><h4 class='step-header'>[4] Observation: ToolResult</h4><pre class='step-text'>tool_call_id: call_ulmiHQvlQ2N7zZ1TJet02RJo\n",
       "kind: tool\n",
       "\n",
       "VMC</pre></div><div class='basic-renderer-box action'><h4 class='step-header'>[5] Action: ToolCalls</h4><pre class='step-text'>tool_calls:\n",
       "- function:\n",
       "    arguments: '{\"symbol\":\"VMC\",\"start_date\":\"2024-01-01\",\"end_date\":\"2024-09-16\"}'\n",
       "    name: get_stock_data\n",
       "  id: call_CH708SYdZsqFf3vgKNTplOub\n",
       "  type: function\n",
       "kind: assistant\n",
       "</pre></div><div class='basic-renderer-box thought'><h4 class='step-header'>[6] Thought: SetNextNode</h4><pre class='step-text'>kind: set_next_node\n",
       "next_node: 1\n",
       "</pre></div><div class='basic-renderer-box observation'><h4 class='step-header'>[7] Observation: ToolResult</h4><pre class='step-text'>tool_call_id: call_CH708SYdZsqFf3vgKNTplOub\n",
       "kind: tool\n",
       "\n",
       "<details><summary>3088 characters ...</summary>[('2024-01-02', 223.60000610351562), ('2024-01-04', 220.67999267578125), ('2024-01-08', 224.0), ('2024-01-10', 226.11000061035156), ('2024-01-12', 223.9600067138672), ('2024-01-17', 221.25999450683594), ('2024-01-19', 226.0800018310547), ('2024-01-23', 222.8000030517578), ('2024-01-25', 223.41000366210938), ('2024-01-29', 229.3699951171875), ('2024-01-31', 226.00999450683594), ('2024-02-02', 234.44000244140625), ('2024-02-06', 231.5800018310547), ('2024-02-08', 238.44000244140625), ('2024-02-12', 240.1300048828125), ('2024-02-14', 241.10000610351562), ('2024-02-16', 255.14999389648438), ('2024-02-21', 253.42999267578125), ('2024-02-23', 257.2300109863281), ('2024-02-27', 263.55999755859375), ('2024-02-29', 265.8500061035156), ('2024-03-04', 267.8500061035156), ('2024-03-06', 267.3399963378906), ('2024-03-08', 266.70001220703125), ('2024-03-12', 269.5799865722656), ('2024-03-14', 270.7300109863281), ('2024-03-18', 269.4200134277344), ('2024-03-20', 271.739990234375), ('2024-03-22', 274.3599853515625), ('2024-03-26', 273.8699951171875), ('2024-03-28', 272.9200134277344), ('2024-04-02', 266.25), ('2024-04-04', 265.8900146484375), ('2024-04-08', 269.7200012207031), ('2024-04-10', 264.55999755859375), ('2024-04-12', 262.7799987792969), ('2024-04-16', 258.5400085449219), ('2024-04-18', 255.07000732421875), ('2024-04-22', 254.47999572753906), ('2024-04-24', 256.3999938964844), ('2024-04-26', 261.239990234375), ('2024-04-30', 257.6300048828125), ('2024-05-02', 264.4100036621094), ('2024-05-06', 266.6099853515625), ('2024-05-08', 267.92999267578125), ('2024-05-10', 272.07000732421875), ('2024-05-14', 267.75), ('2024-05-16', 260.0), ('2024-05-20', 260.2099914550781), ('2024-05-22', 260.8699951171875), ('2024-05-24', 259.25), ('2024-05-29', 251.91000366210938), ('2024-05-31', 255.77000427246094), ('2024-06-04', 250.4600067138672), ('2024-06-06', 248.5800018310547), ('2024-06-10', 247.80999755859375), ('2024-06-12', 249.1199951171875), ('2024-06-14', 252.63999938964844), ('2024-06-18', 255.61000061035156), ('2024-06-21', 247.80999755859375), ('2024-06-25', 246.14999389648438), ('2024-06-27', 247.75999450683594), ('2024-07-01', 243.72000122070312), ('2024-07-03', 243.9199981689453), ('2024-07-08', 241.97000122070312), ('2024-07-10', 247.72000122070312), ('2024-07-12', 252.50999450683594), ('2024-07-16', 262.80999755859375), ('2024-07-18', 256.0899963378906), ('2024-07-22', 260.6099853515625), ('2024-07-24', 250.50999450683594), ('2024-07-26', 261.7099914550781), ('2024-07-30', 270.0), ('2024-08-01', 271.1300048828125), ('2024-08-05', 257.42999267578125), ('2024-08-07', 241.22000122070312), ('2024-08-09', 244.33999633789062), ('2024-08-13', 243.83999633789062), ('2024-08-15', 246.57000732421875), ('2024-08-19', 244.2899932861328), ('2024-08-21', 247.83999633789062), ('2024-08-23', 254.88999938964844), ('2024-08-27', 240.41000366210938), ('2024-08-29', 241.27999877929688), ('2024-09-03', 239.02000427246094), ('2024-09-05', 232.16000366210938), ('2024-09-09', 231.8300018310547), ('2024-09-11', 232.9499969482422), ('2024-09-13', 237.47000122070312)]</details></pre></div><div class='basic-renderer-box action'><h4 class='step-header'>[8] Assistant</h4><pre class='step-text'>kind: assistant\n",
       "\n",
       "Vulcan Materials Company, trading under the ticker symbol VMC, is a major producer of construction aggregates, primarily crushed stone, sand, and gravel. Over the course of 2024, Vulcan's stock price has shown significant fluctuations, starting at approximately $223.60 in early January and reaching a high of around $274.36 in late March, before experiencing a decline to about $237.47 by mid-September. This performance reflects the company's market dynamics and the broader economic conditions impacting the construction and materials sector.</pre></div><div class='basic-renderer-box thought'><h4 class='step-header'>[9] Thought: SetNextNode</h4><pre class='step-text'>kind: set_next_node\n",
       "next_node: 0\n",
       "</pre></div>"
      ],
      "text/plain": [
       "<IPython.core.display.HTML object>"
      ]
     },
     "execution_count": 14,
     "metadata": {},
     "output_type": "execute_result"
    }
   ],
   "source": [
    "from tapeagents.core import SetNextNode\n",
    "from tapeagents.dialog_tape import AssistantThought, ToolCalls\n",
    "from tapeagents.environment import ToolEnvironment\n",
    "from tapeagents.runtime import main_loop\n",
    "from examples.intro_tools import get_stock_ticker, get_stock_data\n",
    "\n",
    "system_instruction = f\"\"\"\n",
    "You will help the user to learn about financials of companies.\n",
    "Use as many relevant tools as possible to include more details and facts in your responses.\n",
    "Today is {today}.\n",
    "\"\"\"\n",
    "system_message = {\"role\": \"system\", \"content\": system_instruction}\n",
    "\n",
    "env = ToolEnvironment([get_stock_ticker, get_stock_data])\n",
    "\n",
    "\n",
    "class PlanNode(Node):\n",
    "    def make_prompt(self, agent, tape: DialogTape) -> Prompt:\n",
    "        guidance = \"Write a natural language plan on how to use tools help the user. Output a list of numbered items, like 1., 2., 3., etc.\"\n",
    "        guidance_message = {\"role\": \"user\", \"content\": guidance}\n",
    "        return Prompt(\n",
    "            messages=[system_message] + tape_to_messages(tape) + [guidance_message], tools=env.get_tool_schema_dicts()\n",
    "        )\n",
    "\n",
    "    def generate_steps(self, agent, tape, llm_stream: LLMStream):\n",
    "        if content := llm_stream.get_message().content:\n",
    "            yield AssistantThought(content=content)\n",
    "        else:\n",
    "            raise ValueError()\n",
    "\n",
    "\n",
    "class ActNode(Node):\n",
    "    def make_prompt(self, agent, tape: DialogTape) -> Prompt:\n",
    "        guidance = \"Follow the plan you created to earlier. When you are done, respond to the user.\"\n",
    "        guidance_message = {\"role\": \"user\", \"content\": guidance}\n",
    "        return Prompt(\n",
    "            messages=[system_message] + tape_to_messages(tape) + [guidance_message], tools=env.get_tool_schema_dicts()\n",
    "        )\n",
    "\n",
    "    def generate_steps(self, agent, tape, llm_stream: LLMStream):\n",
    "        m = llm_stream.get_message()\n",
    "        if m.content:\n",
    "            yield AssistantStep(content=m.content)\n",
    "            yield SetNextNode(next_node=0)\n",
    "        elif m.tool_calls:\n",
    "            yield ToolCalls(tool_calls=m.tool_calls)\n",
    "            yield SetNextNode(next_node=1)\n",
    "        else:\n",
    "            raise ValueError()\n",
    "\n",
    "\n",
    "agent1 = Agent.create(LiteLLM(model_name=\"gpt-4o\", parameters={\"temperature\": 0.1}), nodes=[PlanNode(), ActNode()])\n",
    "\n",
    "print(\"Run the agent!\")\n",
    "final_tape1 = None\n",
    "for event in main_loop(agent1, DialogTape() + [UserStep(content=\"Tell me about Vulcan in 3 sentences\")], env):\n",
    "    if ae := event.agent_event:\n",
    "        if ae.step:\n",
    "            print(ae.step.model_dump_json(indent=2))\n",
    "        if ae.final_tape:\n",
    "            final_tape1 = ae.final_tape\n",
    "    if event.observation:\n",
    "        print(event.observation.model_dump_json(indent=2))\n",
    "assert final_tape1\n",
    "print(\"Final tape:\")\n",
    "HTML(render_tape_with_prompts(final_tape1, PrettyRenderer()))"
   ]
  },
  {
   "cell_type": "markdown",
   "metadata": {},
   "source": [
    "The main new thing in this example is the environment. In TapeAgents framework the environment responds to the agent `Action` steps with `Observation` steps. We expect you to use the environment to encapsulate tool use, retrieval, code execution: everything that is non-deterministic, non-stationary, or computationally heavy. On the contrary, we encourage you to implements the agent's deterministic decision-making in `make_prompt` and `generate_steps` methods.\n",
    "\n",
    "Here we use a pre-defined `main_loop` orchestrator to run the agent and the environment. `main_loop` is a generator of events that you can use as you wish. You are free to implement your own orchestration paradigm with a fine-grained control over what actions get to be executed."
   ]
  },
  {
   "cell_type": "markdown",
   "metadata": {},
   "source": [
    "# 3. Agent configuration, resumption"
   ]
  },
  {
   "cell_type": "markdown",
   "metadata": {},
   "source": [
    "Let's try building a similar agent with an open-weights LLAMA3.1 70B models. Conveniently, [Together AI](together.ai) offers API endpoints. You can create an account and get API key with some free quota."
   ]
  },
  {
   "cell_type": "markdown",
   "metadata": {},
   "source": [
    "## 3.0. Setup your LLM key"
   ]
  },
  {
   "cell_type": "code",
   "execution_count": 15,
   "metadata": {
    "execution": {
     "iopub.execute_input": "2024-09-28T05:58:48.955376Z",
     "iopub.status.busy": "2024-09-28T05:58:48.955161Z",
     "iopub.status.idle": "2024-09-28T05:58:48.958706Z",
     "shell.execute_reply": "2024-09-28T05:58:48.958356Z"
    }
   },
   "outputs": [],
   "source": [
    "# Set more environment variables in the .env file or set them below\n",
    "\n",
    "dotenv.load_dotenv(env_file, override=True)\n",
    "\n",
    "# os.environ[\"TOGETHER_API_KEY\"] = \"\" # put your https://together.ai/ key here\n",
    "# os.environ[\"HF_TOKEN\"] = \"\" # put your huggingface token here\n",
    "\n",
    "os.environ[\"TAPEAGENTS_LLM_TOKEN\"] = os.getenv(\"TOGETHER_API_KEY\", \"\")  # Use Together API Key for llms.TrainableLLM"
   ]
  },
  {
   "cell_type": "code",
   "execution_count": 16,
   "metadata": {
    "execution": {
     "iopub.execute_input": "2024-09-28T05:58:48.960418Z",
     "iopub.status.busy": "2024-09-28T05:58:48.960282Z",
     "iopub.status.idle": "2024-09-28T05:58:49.033340Z",
     "shell.execute_reply": "2024-09-28T05:58:49.032807Z"
    }
   },
   "outputs": [
    {
     "name": "stdout",
     "output_type": "stream",
     "text": [
      "The token has not been saved to the git credentials helper. Pass `add_to_git_credential=True` in this function directly or `--add-to-git-credential` if using via `huggingface-cli` if you want to set the git credential as well.\n",
      "Token is valid (permission: read).\n",
      "Your token has been saved to /Users/jordanprince.t/.cache/huggingface/token\n",
      "Login successful\n"
     ]
    }
   ],
   "source": [
    "# Login to Hugging Face Hub\n",
    "if \"PYTEST_CURRENT_TEST\" not in os.environ:  # skip login during tests\n",
    "    from huggingface_hub import login\n",
    "\n",
    "    login(token=os.environ.get(\"HF_TOKEN\"))"
   ]
  },
  {
   "cell_type": "markdown",
   "metadata": {},
   "source": [
    "#### Access to Hugging Face Gated Models\n",
    "Make sure you have access to each model we are going to use (read more [here](https://huggingface.co/docs/hub/en/models-gated#access-gated-models-as-a-user)):\n",
    "- https://huggingface.co/meta-llama/Meta-Llama-3-70B-Instruct\n",
    "\n",
    "##### Troubleshoot\n",
    "- If you receive a 401 error, it means the authentication failed.\n",
    "- If you receive a 403 error, it means you are authenticated but not authorized to access the specific model."
   ]
  },
  {
   "cell_type": "markdown",
   "metadata": {},
   "source": [
    "## 3.1. Setup your Agents\n",
    "\n",
    "We've found that LLAMA3 function-calling is not yet battle-ready. We will use the structured output approach to make it call tools instead. We are also making this agent trainable by adding `make_llm_output` methods to each node. `Node.make_llm_output` defines how a node can reconstruct the LLM completion message that would be required to make the steps from the given tape at the given index. You can think of `Node.make_llm_output` as the inverse of `Node.generate_steps`.\n",
    "\n",
    "When you run the code below, you might see a different behavior every time. Often the LLAMA-based agent gets stuck in a loop. We will look into how TapeAgents supports you in addressing this issue by\n",
    "- tuning the prompt and resuming the agent exactly where it got stuck \n",
    "- producing training text from a different agent's tape "
   ]
  },
  {
   "cell_type": "code",
   "execution_count": 17,
   "metadata": {
    "execution": {
     "iopub.execute_input": "2024-09-28T05:58:49.035858Z",
     "iopub.status.busy": "2024-09-28T05:58:49.035632Z",
     "iopub.status.idle": "2024-09-28T05:58:49.058806Z",
     "shell.execute_reply": "2024-09-28T05:58:49.058465Z"
    }
   },
   "outputs": [],
   "source": [
    "import json\n",
    "from tapeagents.core import LLMOutput\n",
    "from tapeagents.llms import TrainableLLM\n",
    "from litellm.utils import ChatCompletionMessageToolCall\n",
    "from litellm.utils import Function\n",
    "\n",
    "from tapeagents.prompting import step_to_message\n",
    "\n",
    "env = ToolEnvironment([get_stock_ticker, get_stock_data])\n",
    "\n",
    "system_instruction = f\"\"\"\n",
    "You will help the user to learn about financials of companies.\n",
    "Use as many relevant tools as possible to include more details and facts in your responses.\n",
    "Today is {today}.\n",
    "\n",
    "You have access to the following tools: {env.get_tool_schema_dicts()}\"\"\"\n",
    "\n",
    "planning_guidance = \"Write a natural language plan on how to use tools help the user. Output a list of numbered items, like 1., 2., 3., etc.\"\n",
    "\n",
    "call_or_respond_guidance = \"\"\"\n",
    "Follow the plan you created earlier. When you are done, respond to the user.\n",
    "If you want to call a or several tools, output JSON like this\n",
    "{\"kind\": \"tool_call\", \"tool_name\": \"...\", \"parameters\": \"... unquoted parameters json ...\"}\n",
    "If you have called all the tools in the plan, respond to the user with the JSON of the form\n",
    "{\"kind\": \"response\", \"content\": \"... you response ... \"}.\n",
    "Output ONE JSON OBJECT ONLY PER LINE ONLY AND NOTHING ELSE.\n",
    "\"\"\"\n",
    "\n",
    "\n",
    "class PlanNode(Node):\n",
    "    def make_prompt(self, agent, tape: DialogTape) -> Prompt:\n",
    "        system_message = {\"role\": \"system\", \"content\": system_instruction}\n",
    "        guidance_message = {\"role\": \"user\", \"content\": agent.templates[\"planning\"]}\n",
    "        return Prompt(messages=[system_message] + tape_to_messages(tape) + [guidance_message])\n",
    "\n",
    "    def generate_steps(self, agent, tape, llm_stream: LLMStream):\n",
    "        if content := getattr(llm_stream.get_message(), \"content\", None):\n",
    "            yield AssistantThought(content=content)\n",
    "        else:\n",
    "            raise ValueError()\n",
    "\n",
    "    def make_llm_output(self, agent, tape: DialogTape, index: int) -> LLMOutput:\n",
    "        if not isinstance(current := tape[index], AssistantThought):\n",
    "            raise ValueError()\n",
    "        return LLMOutput(role=\"assistant\", content=current.content)\n",
    "\n",
    "\n",
    "class ActNode(Node):\n",
    "    def make_prompt(self, agent, tape: DialogTape) -> Prompt:\n",
    "        system_message = {\"role\": \"system\", \"content\": system_instruction}\n",
    "        guidance_message = {\"role\": \"user\", \"content\": agent.templates[\"call_or_respond\"]}\n",
    "        messages = [system_message]\n",
    "        for step in tape:\n",
    "            if isinstance(step, (ToolCalls)):\n",
    "                messages.append({\"role\": \"assistant\", \"content\": _llm_message_content(step)})\n",
    "            elif not isinstance(step, SetNextNode):\n",
    "                messages.append(step_to_message(step))\n",
    "        messages += [guidance_message]\n",
    "        return Prompt(messages=messages)\n",
    "\n",
    "    def generate_steps(self, agent, tape, llm_stream: LLMStream):\n",
    "        m = llm_stream.get_message()\n",
    "        try:\n",
    "            assert m.content\n",
    "            tool_calls = []\n",
    "            response = None\n",
    "            for line in m.content.split(\"\\n\"):\n",
    "                data = json.loads(line)\n",
    "                if data.get(\"kind\") == \"response\":\n",
    "                    response = data[\"content\"]\n",
    "                elif data.get(\"kind\") == \"tool_call\":\n",
    "                    tool_call = ChatCompletionMessageToolCall(\n",
    "                        function=Function(name=data[\"tool_name\"], arguments=json.dumps(data[\"parameters\"])),\n",
    "                        # tool call must be a unique string, it helps to make it something deterministic\n",
    "                        id=f\"tool_call_{len(tool_calls)}_node_starts_at_{len(tape)}\",\n",
    "                    )\n",
    "                    tool_calls.append(tool_call)\n",
    "                else:\n",
    "                    yield AssistantStep(content=\"Invalid LLM output: kind field must be 'response' or 'tool_call'\")\n",
    "            if response and tool_calls:\n",
    "                yield AssistantStep(content=\"Invalid LLM output: response and tool_call cannot be in the same message\")\n",
    "            if response:\n",
    "                yield AssistantStep(content=response)\n",
    "                yield SetNextNode(next_node=0)\n",
    "            if tool_calls:\n",
    "                yield ToolCalls(tool_calls=tool_calls)\n",
    "                yield SetNextNode(next_node=1)\n",
    "        except Exception as e:\n",
    "            yield AssistantStep(content=\"Invalid JSON object: \" + str(e))\n",
    "\n",
    "    def make_llm_output(self, agent, tape: DialogTape, index: int) -> LLMOutput:\n",
    "        if not isinstance(step := tape[index], AssistantStep | ToolCalls):\n",
    "            raise ValueError()\n",
    "        content = _llm_message_content(step)\n",
    "        return LLMOutput(role=\"assistant\", content=content)\n",
    "\n",
    "\n",
    "def _llm_message_content(step: AssistantStep | ToolCalls):\n",
    "    \"\"\"Helper function to make both the prompt and the target completion\"\"\"\n",
    "    match step:\n",
    "        case AssistantStep():\n",
    "            return json.dumps({\"kind\": \"response\", \"content\": step.content})\n",
    "        case ToolCalls():\n",
    "            content = \"\"\n",
    "            for tool_call in step.tool_calls:\n",
    "                if content:\n",
    "                    content += \"\\n\"\n",
    "                content += json.dumps(\n",
    "                    {\n",
    "                        \"kind\": \"tool_call\",\n",
    "                        \"tool_name\": tool_call.function.name,\n",
    "                        \"parameters\": json.loads(tool_call.function.arguments),\n",
    "                    }\n",
    "                )\n",
    "            return content\n",
    "        case _:\n",
    "            raise ValueError()\n",
    "\n",
    "\n",
    "agent2 = Agent.create(\n",
    "    TrainableLLM(\n",
    "        base_url=\"https://api.together.xyz\",\n",
    "        model_name=\"meta-llama/Meta-Llama-3-70B-Instruct-Turbo\",\n",
    "        tokenizer_name=\"meta-llama/Meta-Llama-3-70B-Instruct\",\n",
    "        parameters=dict(temperature=0.01),\n",
    "    ),\n",
    "    templates={\n",
    "        \"system\": system_instruction,\n",
    "        \"planning\": planning_guidance,\n",
    "        \"call_or_respond\": call_or_respond_guidance,\n",
    "    },\n",
    "    nodes=[PlanNode(), ActNode()],\n",
    ")"
   ]
  },
  {
   "cell_type": "markdown",
   "metadata": {},
   "source": [
    "## 3.2. Run your Agent"
   ]
  },
  {
   "cell_type": "code",
   "execution_count": 18,
   "metadata": {
    "execution": {
     "iopub.execute_input": "2024-09-28T05:58:49.060357Z",
     "iopub.status.busy": "2024-09-28T05:58:49.060232Z",
     "iopub.status.idle": "2024-09-28T05:58:56.276527Z",
     "shell.execute_reply": "2024-09-28T05:58:56.276048Z"
    }
   },
   "outputs": [
    {
     "name": "stdout",
     "output_type": "stream",
     "text": [
      "Run LLAMA agent!\n"
     ]
    },
    {
     "name": "stdout",
     "output_type": "stream",
     "text": [
      "{\n",
      "  \"metadata\": {\n",
      "    \"id\": \"91442152-ddea-43a7-9630-7f18b46caa9a\",\n",
      "    \"prompt_id\": \"012ff58e-0b57-4e95-9777-e122e9c18dd8\",\n",
      "    \"node\": \"\",\n",
      "    \"agent\": \"Agent\",\n",
      "    \"other\": {}\n",
      "  },\n",
      "  \"content\": \"Here's a plan to help the user learn about Vulcan Materials using the provided tools:\\n\\n1. First, I'll use the `get_stock_ticker` function to get the stock ticker symbol for Vulcan Materials. I'll input \\\"Vulcan Materials\\\" as the company name and retrieve the corresponding ticker symbol.\\n\\n2. Once I have the ticker symbol, I'll use the `get_stock_data` function to retrieve the stock prices for Vulcan Materials over a specified date range. For example, I might choose a start date of 2020-01-01 and an end date of 2024-09-17 to get a recent 4-year history of the company's stock performance.\\n\\n3. With the stock price data, I can provide the user with a brief overview of Vulcan Materials' financial performance, including any notable trends or fluctuations in the stock price over the specified period.\\n\\n4. If desired, I can also use the `get_stock_data` function to compare Vulcan Materials' stock performance to that of its industry peers or the broader market, providing a more comprehensive picture of the company's financial health.\\n\\n5. Finally, I can use the gathered data to answer any specific questions the user may have about Vulcan Materials, such as its current stock price, market capitalization, or dividend yield.\",\n",
      "  \"kind\": \"assistant_thought\"\n",
      "}\n"
     ]
    },
    {
     "name": "stdout",
     "output_type": "stream",
     "text": [
      "{\n",
      "  \"metadata\": {\n",
      "    \"id\": \"91442152-ddea-43a7-9630-7f18b46caa9a\",\n",
      "    \"prompt_id\": \"2be08fbd-026a-482e-a789-a82248c1fce4\",\n",
      "    \"node\": \"\",\n",
      "    \"agent\": \"Agent\",\n",
      "    \"other\": {}\n",
      "  },\n",
      "  \"tool_calls\": [\n",
      "    {\n",
      "      \"function\": {\n",
      "        \"arguments\": \"{\\\"company_name\\\": \\\"Vulcan Materials\\\"}\",\n",
      "        \"name\": \"get_stock_ticker\"\n",
      "      },\n",
      "      \"id\": \"tool_call_0_node_starts_at_2\",\n",
      "      \"type\": \"function\"\n",
      "    }\n",
      "  ],\n",
      "  \"kind\": \"assistant\"\n",
      "}\n",
      "{\n",
      "  \"metadata\": {\n",
      "    \"id\": \"91442152-ddea-43a7-9630-7f18b46caa9a\",\n",
      "    \"prompt_id\": \"2be08fbd-026a-482e-a789-a82248c1fce4\",\n",
      "    \"node\": \"\",\n",
      "    \"agent\": \"Agent\",\n",
      "    \"other\": {}\n",
      "  },\n",
      "  \"kind\": \"set_next_node\",\n",
      "  \"next_node\": 1\n",
      "}\n"
     ]
    },
    {
     "name": "stdout",
     "output_type": "stream",
     "text": [
      "{\n",
      "  \"metadata\": {\n",
      "    \"id\": \"91442152-ddea-43a7-9630-7f18b46caa9a\",\n",
      "    \"prompt_id\": \"\",\n",
      "    \"node\": \"\",\n",
      "    \"agent\": \"\",\n",
      "    \"other\": {}\n",
      "  },\n",
      "  \"content\": \"VMC\",\n",
      "  \"tool_call_id\": \"tool_call_0_node_starts_at_2\",\n",
      "  \"kind\": \"tool\"\n",
      "}\n"
     ]
    },
    {
     "name": "stdout",
     "output_type": "stream",
     "text": [
      "{\n",
      "  \"metadata\": {\n",
      "    \"id\": \"91442152-ddea-43a7-9630-7f18b46caa9a\",\n",
      "    \"prompt_id\": \"d37356c4-a052-4447-b3fd-d8a76c920086\",\n",
      "    \"node\": \"\",\n",
      "    \"agent\": \"Agent\",\n",
      "    \"other\": {}\n",
      "  },\n",
      "  \"tool_calls\": [\n",
      "    {\n",
      "      \"function\": {\n",
      "        \"arguments\": \"{\\\"symbol\\\": \\\"VMC\\\", \\\"start_date\\\": \\\"2020-01-01\\\", \\\"end_date\\\": \\\"2024-09-17\\\"}\",\n",
      "        \"name\": \"get_stock_data\"\n",
      "      },\n",
      "      \"id\": \"tool_call_0_node_starts_at_5\",\n",
      "      \"type\": \"function\"\n",
      "    }\n",
      "  ],\n",
      "  \"kind\": \"assistant\"\n",
      "}\n",
      "{\n",
      "  \"metadata\": {\n",
      "    \"id\": \"91442152-ddea-43a7-9630-7f18b46caa9a\",\n",
      "    \"prompt_id\": \"d37356c4-a052-4447-b3fd-d8a76c920086\",\n",
      "    \"node\": \"\",\n",
      "    \"agent\": \"Agent\",\n",
      "    \"other\": {}\n",
      "  },\n",
      "  \"kind\": \"set_next_node\",\n",
      "  \"next_node\": 1\n",
      "}\n"
     ]
    },
    {
     "name": "stdout",
     "output_type": "stream",
     "text": [
      "{\n",
      "  \"metadata\": {\n",
      "    \"id\": \"91442152-ddea-43a7-9630-7f18b46caa9a\",\n",
      "    \"prompt_id\": \"\",\n",
      "    \"node\": \"\",\n",
      "    \"agent\": \"\",\n",
      "    \"other\": {}\n",
      "  },\n",
      "  \"content\": \"[('2020-01-02', 142.72000122070312), ('2020-01-27', 138.8800048828125), ('2020-02-19', 135.39999389648438), ('2020-03-12', 107.12000274658203), ('2020-04-03', 99.20999908447266), ('2020-04-28', 110.7699966430664), ('2020-05-20', 101.47000122070312), ('2020-06-12', 112.08999633789062), ('2020-07-07', 122.66999816894531), ('2020-07-29', 121.08000183105469), ('2020-08-20', 126.11000061035156), ('2020-09-14', 130.33999633789062), ('2020-10-06', 141.30999755859375), ('2020-10-28', 137.47999572753906), ('2020-11-19', 140.11000061035156), ('2020-12-14', 135.44000244140625), ('2021-01-07', 162.00999450683594), ('2021-02-01', 152.0), ('2021-02-24', 174.14999389648438), ('2021-03-18', 168.0500030517578), ('2021-04-12', 174.35000610351562), ('2021-05-04', 189.2100067138672), ('2021-05-26', 183.92999267578125), ('2021-06-18', 165.83999633789062), ('2021-07-13', 173.52999877929688), ('2021-08-04', 179.66000366210938), ('2021-08-26', 187.52999877929688), ('2021-09-20', 169.4199981689453), ('2021-10-12', 170.8300018310547), ('2021-11-03', 195.0), ('2021-11-26', 197.4499969482422), ('2021-12-20', 198.77999877929688), ('2022-01-12', 202.8800048828125), ('2022-02-04', 184.0399932861328), ('2022-03-01', 174.44000244140625), ('2022-03-23', 177.33999633789062), ('2022-04-14', 174.77000427246094), ('2022-05-09', 162.9499969482422), ('2022-06-01', 164.5399932861328), ('2022-06-24', 145.82000732421875), ('2022-07-19', 152.57000732421875), ('2022-08-10', 174.52000427246094), ('2022-09-01', 166.22000122070312), ('2022-09-26', 153.9499969482422), ('2022-10-18', 158.77999877929688), ('2022-11-09', 168.94000244140625), ('2022-12-02', 184.49000549316406), ('2022-12-27', 175.67999267578125), ('2023-01-20', 178.88999938964844), ('2023-02-13', 186.05999755859375), ('2023-03-08', 178.9199981689453), ('2023-03-30', 170.13999938964844), ('2023-04-24', 171.41000366210938), ('2023-05-16', 195.00999450683594), ('2023-06-08', 206.17999267578125), ('2023-07-03', 223.33999633789062), ('2023-07-26', 223.4600067138672), ('2023-08-17', 213.3300018310547), ('2023-09-11', 216.58999633789062), ('2023-10-03', 199.99000549316406), ('2023-10-25', 203.3699951171875), ('2023-11-16', 212.27000427246094), ('2023-12-11', 218.86000061035156), ('2024-01-04', 220.67999267578125), ('2024-01-29', 229.3699951171875), ('2024-02-21', 253.42999267578125), ('2024-03-14', 270.7300109863281), ('2024-04-08', 269.7200012207031), ('2024-04-30', 257.6300048828125), ('2024-05-22', 260.8699951171875), ('2024-06-14', 252.63999938964844), ('2024-07-10', 247.72000122070312), ('2024-08-01', 271.1300048828125), ('2024-08-23', 254.88999938964844)]\",\n",
      "  \"tool_call_id\": \"tool_call_0_node_starts_at_5\",\n",
      "  \"kind\": \"tool\"\n",
      "}\n"
     ]
    },
    {
     "name": "stdout",
     "output_type": "stream",
     "text": [
      "{\n",
      "  \"metadata\": {\n",
      "    \"id\": \"91442152-ddea-43a7-9630-7f18b46caa9a\",\n",
      "    \"prompt_id\": \"0fe79227-607b-41dc-9559-fa9b3f01b211\",\n",
      "    \"node\": \"\",\n",
      "    \"agent\": \"Agent\",\n",
      "    \"other\": {}\n",
      "  },\n",
      "  \"tool_calls\": [\n",
      "    {\n",
      "      \"function\": {\n",
      "        \"arguments\": \"{\\\"company_name\\\": \\\"Vulcan Materials\\\"}\",\n",
      "        \"name\": \"get_stock_ticker\"\n",
      "      },\n",
      "      \"id\": \"tool_call_0_node_starts_at_8\",\n",
      "      \"type\": \"function\"\n",
      "    }\n",
      "  ],\n",
      "  \"kind\": \"assistant\"\n",
      "}\n",
      "{\n",
      "  \"metadata\": {\n",
      "    \"id\": \"91442152-ddea-43a7-9630-7f18b46caa9a\",\n",
      "    \"prompt_id\": \"0fe79227-607b-41dc-9559-fa9b3f01b211\",\n",
      "    \"node\": \"\",\n",
      "    \"agent\": \"Agent\",\n",
      "    \"other\": {}\n",
      "  },\n",
      "  \"kind\": \"set_next_node\",\n",
      "  \"next_node\": 1\n",
      "}\n"
     ]
    },
    {
     "name": "stdout",
     "output_type": "stream",
     "text": [
      "{\n",
      "  \"metadata\": {\n",
      "    \"id\": \"91442152-ddea-43a7-9630-7f18b46caa9a\",\n",
      "    \"prompt_id\": \"\",\n",
      "    \"node\": \"\",\n",
      "    \"agent\": \"\",\n",
      "    \"other\": {}\n",
      "  },\n",
      "  \"content\": \"VMC\",\n",
      "  \"tool_call_id\": \"tool_call_0_node_starts_at_8\",\n",
      "  \"kind\": \"tool\"\n",
      "}\n",
      "Final tape:\n"
     ]
    },
    {
     "data": {
      "text/html": [
       "<style>.basic-renderer-box { margin: 4px; padding: 2px; background: lavender; white-space: pre-wrap; color: black;}.basic-prompt-box { margin: 4px; padding: 2px; background: lavender; color: black;}.episode-row { display: flex; align-items: end; }.agent-column { width: 50%; }.user-column { width: 25%; }.annotator-column { width: 25%; }.inner-tape-container { display: flex }.inner-tape-indent { width: 10%; }.inner-tape { width: 90%; }</style><style>.observation { background-color: #baffc9;; }.error_observation { background-color: #dd0000; }.action { background-color: #cccccc; }.thought { background-color: #ffffdb; }.call { background-color: #ffffff; }.respond { background-color: #ffffff; }.step-header { margin: 2pt 2pt 2pt 0 !important; }.step-text { font-size: 12px; white-space: pre-wrap; word-wrap: break-word;}</style><h3>Metadata</h3><details> <summary> Show / Hide </summary> <div class='basic-renderer-box'>author: ''\n",
       "author_tape_id: null\n",
       "error: null\n",
       "id: bf2c72c6-4e75-43c7-8685-f5209b1b92c9\n",
       "n_added_steps: 2\n",
       "parent_id: f9088d2e-f5c8-411c-adf2-bb0de9280f06\n",
       "result: null\n",
       "</div> </details><h3>Steps</h3><div class='basic-renderer-box observation'><h4 class='step-header'>[0] User</h4><pre class='step-text'>kind: user\n",
       "\n",
       "Tell me about Vulcan Materials in 3 sentences</pre></div><div class='basic-renderer-box thought'><h4 class='step-header'>[1] Thought: AssistantThought</h4><pre class='step-text'>kind: assistant_thought\n",
       "\n",
       "<details><summary>1228 characters ...</summary>Here's a plan to help the user learn about Vulcan Materials using the provided tools:\n",
       "\n",
       "1. First, I'll use the `get_stock_ticker` function to get the stock ticker symbol for Vulcan Materials. I'll input \"Vulcan Materials\" as the company name and retrieve the corresponding ticker symbol.\n",
       "\n",
       "2. Once I have the ticker symbol, I'll use the `get_stock_data` function to retrieve the stock prices for Vulcan Materials over a specified date range. For example, I might choose a start date of 2020-01-01 and an end date of 2024-09-17 to get a recent 4-year history of the company's stock performance.\n",
       "\n",
       "3. With the stock price data, I can provide the user with a brief overview of Vulcan Materials' financial performance, including any notable trends or fluctuations in the stock price over the specified period.\n",
       "\n",
       "4. If desired, I can also use the `get_stock_data` function to compare Vulcan Materials' stock performance to that of its industry peers or the broader market, providing a more comprehensive picture of the company's financial health.\n",
       "\n",
       "5. Finally, I can use the gathered data to answer any specific questions the user may have about Vulcan Materials, such as its current stock price, market capitalization, or dividend yield.</details></pre></div><div class='basic-renderer-box action'><h4 class='step-header'>[2] Action: ToolCalls</h4><pre class='step-text'>tool_calls:\n",
       "- function:\n",
       "    arguments: '{\"company_name\": \"Vulcan Materials\"}'\n",
       "    name: get_stock_ticker\n",
       "  id: tool_call_0_node_starts_at_2\n",
       "  type: function\n",
       "kind: assistant\n",
       "</pre></div><div class='basic-renderer-box thought'><h4 class='step-header'>[3] Thought: SetNextNode</h4><pre class='step-text'>kind: set_next_node\n",
       "next_node: 1\n",
       "</pre></div><div class='basic-renderer-box observation'><h4 class='step-header'>[4] Observation: ToolResult</h4><pre class='step-text'>tool_call_id: tool_call_0_node_starts_at_2\n",
       "kind: tool\n",
       "\n",
       "VMC</pre></div><div class='basic-renderer-box action'><h4 class='step-header'>[5] Action: ToolCalls</h4><pre class='step-text'>tool_calls:\n",
       "- function:\n",
       "    arguments: '{\"symbol\": \"VMC\", \"start_date\": \"2020-01-01\", \"end_date\": \"2024-09-17\"}'\n",
       "    name: get_stock_data\n",
       "  id: tool_call_0_node_starts_at_5\n",
       "  type: function\n",
       "kind: assistant\n",
       "</pre></div><div class='basic-renderer-box thought'><h4 class='step-header'>[6] Thought: SetNextNode</h4><pre class='step-text'>kind: set_next_node\n",
       "next_node: 1\n",
       "</pre></div><div class='basic-renderer-box observation'><h4 class='step-header'>[7] Observation: ToolResult</h4><pre class='step-text'>tool_call_id: tool_call_0_node_starts_at_5\n",
       "kind: tool\n",
       "\n",
       "<details><summary>2615 characters ...</summary>[('2020-01-02', 142.72000122070312), ('2020-01-27', 138.8800048828125), ('2020-02-19', 135.39999389648438), ('2020-03-12', 107.12000274658203), ('2020-04-03', 99.20999908447266), ('2020-04-28', 110.7699966430664), ('2020-05-20', 101.47000122070312), ('2020-06-12', 112.08999633789062), ('2020-07-07', 122.66999816894531), ('2020-07-29', 121.08000183105469), ('2020-08-20', 126.11000061035156), ('2020-09-14', 130.33999633789062), ('2020-10-06', 141.30999755859375), ('2020-10-28', 137.47999572753906), ('2020-11-19', 140.11000061035156), ('2020-12-14', 135.44000244140625), ('2021-01-07', 162.00999450683594), ('2021-02-01', 152.0), ('2021-02-24', 174.14999389648438), ('2021-03-18', 168.0500030517578), ('2021-04-12', 174.35000610351562), ('2021-05-04', 189.2100067138672), ('2021-05-26', 183.92999267578125), ('2021-06-18', 165.83999633789062), ('2021-07-13', 173.52999877929688), ('2021-08-04', 179.66000366210938), ('2021-08-26', 187.52999877929688), ('2021-09-20', 169.4199981689453), ('2021-10-12', 170.8300018310547), ('2021-11-03', 195.0), ('2021-11-26', 197.4499969482422), ('2021-12-20', 198.77999877929688), ('2022-01-12', 202.8800048828125), ('2022-02-04', 184.0399932861328), ('2022-03-01', 174.44000244140625), ('2022-03-23', 177.33999633789062), ('2022-04-14', 174.77000427246094), ('2022-05-09', 162.9499969482422), ('2022-06-01', 164.5399932861328), ('2022-06-24', 145.82000732421875), ('2022-07-19', 152.57000732421875), ('2022-08-10', 174.52000427246094), ('2022-09-01', 166.22000122070312), ('2022-09-26', 153.9499969482422), ('2022-10-18', 158.77999877929688), ('2022-11-09', 168.94000244140625), ('2022-12-02', 184.49000549316406), ('2022-12-27', 175.67999267578125), ('2023-01-20', 178.88999938964844), ('2023-02-13', 186.05999755859375), ('2023-03-08', 178.9199981689453), ('2023-03-30', 170.13999938964844), ('2023-04-24', 171.41000366210938), ('2023-05-16', 195.00999450683594), ('2023-06-08', 206.17999267578125), ('2023-07-03', 223.33999633789062), ('2023-07-26', 223.4600067138672), ('2023-08-17', 213.3300018310547), ('2023-09-11', 216.58999633789062), ('2023-10-03', 199.99000549316406), ('2023-10-25', 203.3699951171875), ('2023-11-16', 212.27000427246094), ('2023-12-11', 218.86000061035156), ('2024-01-04', 220.67999267578125), ('2024-01-29', 229.3699951171875), ('2024-02-21', 253.42999267578125), ('2024-03-14', 270.7300109863281), ('2024-04-08', 269.7200012207031), ('2024-04-30', 257.6300048828125), ('2024-05-22', 260.8699951171875), ('2024-06-14', 252.63999938964844), ('2024-07-10', 247.72000122070312), ('2024-08-01', 271.1300048828125), ('2024-08-23', 254.88999938964844)]</details></pre></div><div class='basic-renderer-box action'><h4 class='step-header'>[8] Action: ToolCalls</h4><pre class='step-text'>tool_calls:\n",
       "- function:\n",
       "    arguments: '{\"company_name\": \"Vulcan Materials\"}'\n",
       "    name: get_stock_ticker\n",
       "  id: tool_call_0_node_starts_at_8\n",
       "  type: function\n",
       "kind: assistant\n",
       "</pre></div><div class='basic-renderer-box thought'><h4 class='step-header'>[9] Thought: SetNextNode</h4><pre class='step-text'>kind: set_next_node\n",
       "next_node: 1\n",
       "</pre></div>"
      ],
      "text/plain": [
       "<IPython.core.display.HTML object>"
      ]
     },
     "execution_count": 18,
     "metadata": {},
     "output_type": "execute_result"
    }
   ],
   "source": [
    "final_tape2 = None\n",
    "print(\"Run LLAMA agent!\")\n",
    "for event in main_loop(\n",
    "    agent2, DialogTape() + [UserStep(content=\"Tell me about Vulcan Materials in 3 sentences\")], env, max_loops=3\n",
    "):\n",
    "    if ae := event.agent_event:\n",
    "        if ae.step:\n",
    "            print(ae.step.model_dump_json(indent=2))\n",
    "        if ae.final_tape:\n",
    "            final_tape2 = ae.final_tape\n",
    "    if event.observation:\n",
    "        print(event.observation.model_dump_json(indent=2))\n",
    "assert final_tape2 is not None\n",
    "print(\"Final tape:\")\n",
    "HTML(render_tape_with_prompts(final_tape2, PrettyRenderer()))"
   ]
  },
  {
   "cell_type": "markdown",
   "metadata": {},
   "source": [
    "Sometimes the above agent works well, but quite likely you are seeing that the LLAMA-based agent is having trouble. Let's try to help it. For reproducibility, we'll use a pre-recorded failed tape."
   ]
  },
  {
   "cell_type": "code",
   "execution_count": 19,
   "metadata": {
    "execution": {
     "iopub.execute_input": "2024-09-28T05:58:56.278833Z",
     "iopub.status.busy": "2024-09-28T05:58:56.278620Z",
     "iopub.status.idle": "2024-09-28T05:58:58.431687Z",
     "shell.execute_reply": "2024-09-28T05:58:58.431257Z"
    }
   },
   "outputs": [
    {
     "data": {
      "text/html": [
       "<style>.basic-renderer-box { margin: 4px; padding: 2px; background: lavender; white-space: pre-wrap; color: black;}.basic-prompt-box { margin: 4px; padding: 2px; background: lavender; color: black;}.episode-row { display: flex; align-items: end; }.agent-column { width: 50%; }.user-column { width: 25%; }.annotator-column { width: 25%; }.inner-tape-container { display: flex }.inner-tape-indent { width: 10%; }.inner-tape { width: 90%; }</style><style>.observation { background-color: #baffc9;; }.error_observation { background-color: #dd0000; }.action { background-color: #cccccc; }.thought { background-color: #ffffdb; }.call { background-color: #ffffff; }.respond { background-color: #ffffff; }.step-header { margin: 2pt 2pt 2pt 0 !important; }.step-text { font-size: 12px; white-space: pre-wrap; word-wrap: break-word;}</style><h3>Metadata</h3><details> <summary> Show / Hide </summary> <div class='basic-renderer-box'>author: ''\n",
       "author_tape_id: null\n",
       "error: null\n",
       "id: 7b869e78-3752-4cb2-b995-b9f1393d1860\n",
       "n_added_steps: 2\n",
       "parent_id: 1e4b20ab-3836-4eee-b71d-d9fccc5b2a48\n",
       "result: null\n",
       "</div> </details><h3>Steps</h3><div class='basic-renderer-box observation'><h4 class='step-header'>[0] User</h4><pre class='step-text'>kind: user\n",
       "\n",
       "Tell me about Vulcan Materials in 3 sentences</pre></div><div class='basic-renderer-box thought'><h4 class='step-header'>[1] Thought: AssistantThought</h4><pre class='step-text'>kind: assistant_thought\n",
       "\n",
       "<details><summary>1206 characters ...</summary>Here's a plan to help the user learn about Vulcan Materials using the available tools:\n",
       "\n",
       "1. **Get the stock ticker symbol**: Use the `get_stock_ticker` function to retrieve the stock ticker symbol for Vulcan Materials by passing 'Vulcan Materials' as the `company_name` parameter. This will give us the ticker symbol, which we'll use for further research.\n",
       "\n",
       "2. **Get historical stock data**: Use the `get_stock_data` function to retrieve the historical stock prices for Vulcan Materials. We'll pass the obtained ticker symbol, a start date (e.g., '2020-01-01'), and an end date (e.g., '2024-09-17') as parameters to get the stock prices over the specified period.\n",
       "\n",
       "3. **Analyze the stock data**: Examine the obtained stock prices to identify trends, patterns, and correlations. We can calculate key metrics such as the average stock price, highest and lowest prices, and the overall stock performance over the specified period.\n",
       "\n",
       "4. **Provide an overview of Vulcan Materials**: Combine the obtained data with additional information about Vulcan Materials, such as its industry, sector, market capitalization, and major competitors, to provide a comprehensive overview of the company.\n",
       "\n",
       "Let's execute this plan!</details></pre></div><div class='basic-renderer-box action'><h4 class='step-header'>[2] Action: ToolCalls</h4><pre class='step-text'>tool_calls:\n",
       "- function:\n",
       "    arguments: '{\"company_name\": \"Vulcan Materials\"}'\n",
       "    name: get_stock_ticker\n",
       "  id: tool_call_0_node_starts_at_2\n",
       "  type: function\n",
       "kind: assistant\n",
       "</pre></div><div class='basic-renderer-box thought'><h4 class='step-header'>[3] Thought: SetNextNode</h4><pre class='step-text'>kind: set_next_node\n",
       "next_node: 1\n",
       "</pre></div><div class='basic-renderer-box observation'><h4 class='step-header'>[4] Observation: ToolResult</h4><pre class='step-text'>tool_call_id: tool_call_0_node_starts_at_2\n",
       "kind: tool\n",
       "\n",
       "VMC</pre></div><div class='basic-renderer-box action'><h4 class='step-header'>[5] Action: ToolCalls</h4><pre class='step-text'>tool_calls:\n",
       "- function:\n",
       "    arguments: '{\"symbol\": \"VMC\", \"start_date\": \"2020-01-01\", \"end_date\": \"2024-09-17\"}'\n",
       "    name: get_stock_data\n",
       "  id: tool_call_0_node_starts_at_5\n",
       "  type: function\n",
       "kind: assistant\n",
       "</pre></div><div class='basic-renderer-box thought'><h4 class='step-header'>[6] Thought: SetNextNode</h4><pre class='step-text'>kind: set_next_node\n",
       "next_node: 1\n",
       "</pre></div><div class='basic-renderer-box observation'><h4 class='step-header'>[7] Observation: ToolResult</h4><pre class='step-text'>tool_call_id: tool_call_0_node_starts_at_5\n",
       "kind: tool\n",
       "\n",
       "<details><summary>2615 characters ...</summary>[('2020-01-02', 142.72000122070312), ('2020-01-27', 138.8800048828125), ('2020-02-19', 135.39999389648438), ('2020-03-12', 107.12000274658203), ('2020-04-03', 99.20999908447266), ('2020-04-28', 110.7699966430664), ('2020-05-20', 101.47000122070312), ('2020-06-12', 112.08999633789062), ('2020-07-07', 122.66999816894531), ('2020-07-29', 121.08000183105469), ('2020-08-20', 126.11000061035156), ('2020-09-14', 130.33999633789062), ('2020-10-06', 141.30999755859375), ('2020-10-28', 137.47999572753906), ('2020-11-19', 140.11000061035156), ('2020-12-14', 135.44000244140625), ('2021-01-07', 162.00999450683594), ('2021-02-01', 152.0), ('2021-02-24', 174.14999389648438), ('2021-03-18', 168.0500030517578), ('2021-04-12', 174.35000610351562), ('2021-05-04', 189.2100067138672), ('2021-05-26', 183.92999267578125), ('2021-06-18', 165.83999633789062), ('2021-07-13', 173.52999877929688), ('2021-08-04', 179.66000366210938), ('2021-08-26', 187.52999877929688), ('2021-09-20', 169.4199981689453), ('2021-10-12', 170.8300018310547), ('2021-11-03', 195.0), ('2021-11-26', 197.4499969482422), ('2021-12-20', 198.77999877929688), ('2022-01-12', 202.8800048828125), ('2022-02-04', 184.0399932861328), ('2022-03-01', 174.44000244140625), ('2022-03-23', 177.33999633789062), ('2022-04-14', 174.77000427246094), ('2022-05-09', 162.9499969482422), ('2022-06-01', 164.5399932861328), ('2022-06-24', 145.82000732421875), ('2022-07-19', 152.57000732421875), ('2022-08-10', 174.52000427246094), ('2022-09-01', 166.22000122070312), ('2022-09-26', 153.9499969482422), ('2022-10-18', 158.77999877929688), ('2022-11-09', 168.94000244140625), ('2022-12-02', 184.49000549316406), ('2022-12-27', 175.67999267578125), ('2023-01-20', 178.88999938964844), ('2023-02-13', 186.05999755859375), ('2023-03-08', 178.9199981689453), ('2023-03-30', 170.13999938964844), ('2023-04-24', 171.41000366210938), ('2023-05-16', 195.00999450683594), ('2023-06-08', 206.17999267578125), ('2023-07-03', 223.33999633789062), ('2023-07-26', 223.4600067138672), ('2023-08-17', 213.3300018310547), ('2023-09-11', 216.58999633789062), ('2023-10-03', 199.99000549316406), ('2023-10-25', 203.3699951171875), ('2023-11-16', 212.27000427246094), ('2023-12-11', 218.86000061035156), ('2024-01-04', 220.67999267578125), ('2024-01-29', 229.3699951171875), ('2024-02-21', 253.42999267578125), ('2024-03-14', 270.7300109863281), ('2024-04-08', 269.7200012207031), ('2024-04-30', 257.6300048828125), ('2024-05-22', 260.8699951171875), ('2024-06-14', 252.63999938964844), ('2024-07-10', 247.72000122070312), ('2024-08-01', 271.1300048828125), ('2024-08-23', 254.88999938964844)]</details></pre></div><div class='basic-renderer-box action'><h4 class='step-header'>[8] Assistant</h4><pre class='step-text'>kind: assistant\n",
       "\n",
       "Vulcan Materials, a leading American company, is a major producer of construction materials, primarily focused on aggregates, asphalt, and ready-mixed concrete. The company's ticker symbol is VMC. From 2020-01-01 to 2024-09-17, the stock price ranged from 99.21 to 271.13, with an average price of 169.45. The stock has shown an overall increasing trend over the specified period, with some fluctuations.</pre></div><div class='basic-renderer-box thought'><h4 class='step-header'>[9] Thought: SetNextNode</h4><pre class='step-text'>kind: set_next_node\n",
       "next_node: 0\n",
       "</pre></div>"
      ],
      "text/plain": [
       "<IPython.core.display.HTML object>"
      ]
     },
     "execution_count": 19,
     "metadata": {},
     "output_type": "execute_result"
    }
   ],
   "source": [
    "with open(\"assets/failed_tape.json\") as src:\n",
    "    failed_tape = DialogTape.model_validate(json.load(src))\n",
    "agent2b = agent2.model_copy(deep=True)\n",
    "agent2b.templates[\"call_or_respond\"] += (\n",
    "    \"REMEMBER: check what tool calls you have already made. Do not do the same call again!\"\n",
    ")\n",
    "resume_from_step8 = agent2b.run(failed_tape[:8]).get_final_tape()\n",
    "HTML(render_tape_with_prompts(resume_from_step8, PrettyRenderer()))"
   ]
  },
  {
   "cell_type": "markdown",
   "metadata": {},
   "source": [
    "We found that this helpful hint often gets LLAMA-based agent unstuck. Note how easy it was to test it thanks to the ability of the agent to resume from step 8!"
   ]
  },
  {
   "cell_type": "markdown",
   "metadata": {},
   "source": [
    "# 4. Tape reuse and training data"
   ]
  },
  {
   "cell_type": "markdown",
   "metadata": {},
   "source": [
    "\n",
    "Another way to help this agent (or one with an even smaller LLM) is to finetune the LLM. And the most important step towards finetuning is making the training data!\n",
    "\n",
    "There are two ways to make training data in TapeAgents:\n",
    "- the basic one: use the `LLMCall` structures that the agent created when it produced the tape. You can retrieve them from the SQLite storage and convert into training text.\n",
    "- the much powerful one: call `agent.reuse` to reconstructed the prompts and outputs **and** to validate that with the reconstructed LLMCalls the agent would indeed create the given tape\n",
    "\n",
    "The big advantage of the second approach is that it allows you to use the tape from a teacher agent (think slower and more expensive) to train a student agent (think faster and cheaper). Or to train an agent on its own revised tapes.\n",
    "\n",
    "Of course, restrictions apply: the tape by agent A may not be reusable by agent B directly. You might have to add/remove some steps. But at least `agent.reuse` verifies if your tape modifications led to creation of a tape that the agent B can indeed produce."
   ]
  },
  {
   "cell_type": "markdown",
   "metadata": {},
   "source": [
    "#### Make training data from the past LLM calls"
   ]
  },
  {
   "cell_type": "code",
   "execution_count": 20,
   "metadata": {
    "execution": {
     "iopub.execute_input": "2024-09-28T05:58:58.433419Z",
     "iopub.status.busy": "2024-09-28T05:58:58.433262Z",
     "iopub.status.idle": "2024-09-28T05:58:58.438661Z",
     "shell.execute_reply": "2024-09-28T05:58:58.438358Z"
    }
   },
   "outputs": [
    {
     "name": "stdout",
     "output_type": "stream",
     "text": [
      "Retrieved 4 LLM calls from the tape.\n",
      "From the first retrieved LLM call, the LLM will be trained to predict this text:\n",
      "---\n",
      "<|start_header_id|>assistant<|end_header_id|>\n",
      "\n",
      "Here's a plan to help the user learn about Vulcan Materials using the provided tools:\n",
      "\n",
      "1. First, I'll use the `get_stock_ticker` function to get the stock ticker symbol for Vulcan Materials. I'll input \"Vulcan Materials\" as the company name and retrieve the corresponding ticker symbol.\n",
      "\n",
      "2. Once I have the ticker symbol, I'll use the `get_stock_data` function to retrieve the stock prices for Vulcan Materials over a specified date range. For example, I might choose a start date of 2020-01-01 and an end date of 2024-09-17 to get a recent 4-year history of the company's stock performance.\n",
      "\n",
      "3. With the stock price data, I can provide the user with a brief overview of Vulcan Materials' financial performance, including any notable trends or fluctuations in the stock price over the specified period.\n",
      "\n",
      "4. If desired, I can also use the `get_stock_data` function to compare Vulcan Materials' stock performance to that of its industry peers or the broader market, providing a more comprehensive picture of the company's financial health.\n",
      "\n",
      "5. Finally, I can use the gathered data to answer any specific questions the user may have about Vulcan Materials, such as its current stock price, market capitalization, or dividend yield.<|eot_id|>\n"
     ]
    }
   ],
   "source": [
    "from tapeagents.observe import retrieve_tape_llm_calls\n",
    "\n",
    "llm_calls = retrieve_tape_llm_calls(final_tape2)\n",
    "print(f\"Retrieved {len(llm_calls)} LLM calls from the tape.\")\n",
    "# under the hood agent2 will route this request to its llm\n",
    "example_text = agent2.make_training_text(list(llm_calls.values())[0])\n",
    "print(\"From the first retrieved LLM call, the LLM will be trained to predict this text:\")\n",
    "print(\"---\")\n",
    "print(example_text.output_text)"
   ]
  },
  {
   "cell_type": "markdown",
   "metadata": {},
   "source": [
    "#### Make training data by reusing a tape"
   ]
  },
  {
   "cell_type": "markdown",
   "metadata": {},
   "source": [
    "Note how `agent2` reuses the tape by `agent1`, even though they have very different prompt and output formats! \n",
    "\n",
    "You can inspect the reused tape below and see that the steps are the same as before, but the prompts and outputs are different."
   ]
  },
  {
   "cell_type": "code",
   "execution_count": 21,
   "metadata": {
    "execution": {
     "iopub.execute_input": "2024-09-28T05:58:58.440386Z",
     "iopub.status.busy": "2024-09-28T05:58:58.440138Z",
     "iopub.status.idle": "2024-09-28T05:58:58.456350Z",
     "shell.execute_reply": "2024-09-28T05:58:58.456048Z"
    }
   },
   "outputs": [
    {
     "data": {
      "text/html": [
       "<style>.basic-renderer-box { margin: 4px; padding: 2px; background: lavender; white-space: pre-wrap; color: black;}.basic-prompt-box { margin: 4px; padding: 2px; background: lavender; color: black;}.episode-row { display: flex; align-items: end; }.agent-column { width: 50%; }.user-column { width: 25%; }.annotator-column { width: 25%; }.inner-tape-container { display: flex }.inner-tape-indent { width: 10%; }.inner-tape { width: 90%; }</style><style>.observation { background-color: #baffc9;; }.error_observation { background-color: #dd0000; }.action { background-color: #cccccc; }.thought { background-color: #ffffdb; }.call { background-color: #ffffff; }.respond { background-color: #ffffff; }.step-header { margin: 2pt 2pt 2pt 0 !important; }.step-text { font-size: 12px; white-space: pre-wrap; word-wrap: break-word;}</style><h3>Metadata</h3><details> <summary> Show / Hide </summary> <div class='basic-renderer-box'>author: null\n",
       "author_tape_id: null\n",
       "error: null\n",
       "id: 6e2ba87b-6d06-4632-9860-f7e3dcd6b5ce\n",
       "n_added_steps: 0\n",
       "parent_id: null\n",
       "result: null\n",
       "</div> </details><h3>Steps</h3><div class='basic-renderer-box observation'><h4 class='step-header'>[0] User</h4><pre class='step-text'>kind: user\n",
       "\n",
       "Tell me about Vulcan in 3 sentences</pre></div><div class='basic-renderer-box thought'><h4 class='step-header'>[1] Thought: AssistantThought</h4><pre class='step-text'>kind: assistant_thought\n",
       "\n",
       "To help the user learn about Vulcan's financials, I will follow these steps:\n",
       "\n",
       "1. Use the `get_stock_ticker` function to find the stock ticker symbol for Vulcan.\n",
       "2. Use the `get_stock_data` function to retrieve recent stock price data for Vulcan using the obtained ticker symbol.\n",
       "3. Summarize the financial information and stock performance of Vulcan based on the retrieved data.\n",
       "\n",
       "Let's start with step 1.</pre></div><div class='basic-renderer-box action'><h4 class='step-header'>[2] Action: ToolCalls</h4><pre class='step-text'>tool_calls:\n",
       "- function:\n",
       "    arguments: '{\"company_name\": \"Vulcan\"}'\n",
       "    name: get_stock_ticker\n",
       "  id: tool_call_0_node_starts_at_2\n",
       "  type: function\n",
       "kind: assistant\n",
       "</pre></div><div class='basic-renderer-box thought'><h4 class='step-header'>[3] Thought: SetNextNode</h4><pre class='step-text'>kind: set_next_node\n",
       "next_node: 1\n",
       "</pre></div><div class='basic-renderer-box observation'><h4 class='step-header'>[4] Observation: ToolResult</h4><pre class='step-text'>tool_call_id: call_ulmiHQvlQ2N7zZ1TJet02RJo\n",
       "kind: tool\n",
       "\n",
       "VMC</pre></div><div class='basic-renderer-box action'><h4 class='step-header'>[5] Action: ToolCalls</h4><pre class='step-text'>tool_calls:\n",
       "- function:\n",
       "    arguments: '{\"symbol\": \"VMC\", \"start_date\": \"2024-01-01\", \"end_date\": \"2024-09-16\"}'\n",
       "    name: get_stock_data\n",
       "  id: tool_call_0_node_starts_at_5\n",
       "  type: function\n",
       "kind: assistant\n",
       "</pre></div><div class='basic-renderer-box thought'><h4 class='step-header'>[6] Thought: SetNextNode</h4><pre class='step-text'>kind: set_next_node\n",
       "next_node: 1\n",
       "</pre></div><div class='basic-renderer-box observation'><h4 class='step-header'>[7] Observation: ToolResult</h4><pre class='step-text'>tool_call_id: call_CH708SYdZsqFf3vgKNTplOub\n",
       "kind: tool\n",
       "\n",
       "<details><summary>3088 characters ...</summary>[('2024-01-02', 223.60000610351562), ('2024-01-04', 220.67999267578125), ('2024-01-08', 224.0), ('2024-01-10', 226.11000061035156), ('2024-01-12', 223.9600067138672), ('2024-01-17', 221.25999450683594), ('2024-01-19', 226.0800018310547), ('2024-01-23', 222.8000030517578), ('2024-01-25', 223.41000366210938), ('2024-01-29', 229.3699951171875), ('2024-01-31', 226.00999450683594), ('2024-02-02', 234.44000244140625), ('2024-02-06', 231.5800018310547), ('2024-02-08', 238.44000244140625), ('2024-02-12', 240.1300048828125), ('2024-02-14', 241.10000610351562), ('2024-02-16', 255.14999389648438), ('2024-02-21', 253.42999267578125), ('2024-02-23', 257.2300109863281), ('2024-02-27', 263.55999755859375), ('2024-02-29', 265.8500061035156), ('2024-03-04', 267.8500061035156), ('2024-03-06', 267.3399963378906), ('2024-03-08', 266.70001220703125), ('2024-03-12', 269.5799865722656), ('2024-03-14', 270.7300109863281), ('2024-03-18', 269.4200134277344), ('2024-03-20', 271.739990234375), ('2024-03-22', 274.3599853515625), ('2024-03-26', 273.8699951171875), ('2024-03-28', 272.9200134277344), ('2024-04-02', 266.25), ('2024-04-04', 265.8900146484375), ('2024-04-08', 269.7200012207031), ('2024-04-10', 264.55999755859375), ('2024-04-12', 262.7799987792969), ('2024-04-16', 258.5400085449219), ('2024-04-18', 255.07000732421875), ('2024-04-22', 254.47999572753906), ('2024-04-24', 256.3999938964844), ('2024-04-26', 261.239990234375), ('2024-04-30', 257.6300048828125), ('2024-05-02', 264.4100036621094), ('2024-05-06', 266.6099853515625), ('2024-05-08', 267.92999267578125), ('2024-05-10', 272.07000732421875), ('2024-05-14', 267.75), ('2024-05-16', 260.0), ('2024-05-20', 260.2099914550781), ('2024-05-22', 260.8699951171875), ('2024-05-24', 259.25), ('2024-05-29', 251.91000366210938), ('2024-05-31', 255.77000427246094), ('2024-06-04', 250.4600067138672), ('2024-06-06', 248.5800018310547), ('2024-06-10', 247.80999755859375), ('2024-06-12', 249.1199951171875), ('2024-06-14', 252.63999938964844), ('2024-06-18', 255.61000061035156), ('2024-06-21', 247.80999755859375), ('2024-06-25', 246.14999389648438), ('2024-06-27', 247.75999450683594), ('2024-07-01', 243.72000122070312), ('2024-07-03', 243.9199981689453), ('2024-07-08', 241.97000122070312), ('2024-07-10', 247.72000122070312), ('2024-07-12', 252.50999450683594), ('2024-07-16', 262.80999755859375), ('2024-07-18', 256.0899963378906), ('2024-07-22', 260.6099853515625), ('2024-07-24', 250.50999450683594), ('2024-07-26', 261.7099914550781), ('2024-07-30', 270.0), ('2024-08-01', 271.1300048828125), ('2024-08-05', 257.42999267578125), ('2024-08-07', 241.22000122070312), ('2024-08-09', 244.33999633789062), ('2024-08-13', 243.83999633789062), ('2024-08-15', 246.57000732421875), ('2024-08-19', 244.2899932861328), ('2024-08-21', 247.83999633789062), ('2024-08-23', 254.88999938964844), ('2024-08-27', 240.41000366210938), ('2024-08-29', 241.27999877929688), ('2024-09-03', 239.02000427246094), ('2024-09-05', 232.16000366210938), ('2024-09-09', 231.8300018310547), ('2024-09-11', 232.9499969482422), ('2024-09-13', 237.47000122070312)]</details></pre></div><div class='basic-renderer-box action'><h4 class='step-header'>[8] Assistant</h4><pre class='step-text'>kind: assistant\n",
       "\n",
       "Vulcan Materials Company, trading under the ticker symbol VMC, is a major producer of construction aggregates, primarily crushed stone, sand, and gravel. Over the course of 2024, Vulcan's stock price has shown significant fluctuations, starting at approximately $223.60 in early January and reaching a high of around $274.36 in late March, before experiencing a decline to about $237.47 by mid-September. This performance reflects the company's market dynamics and the broader economic conditions impacting the construction and materials sector.</pre></div><div class='basic-renderer-box thought'><h4 class='step-header'>[9] Thought: SetNextNode</h4><pre class='step-text'>kind: set_next_node\n",
       "next_node: 0\n",
       "</pre></div>"
      ],
      "text/plain": [
       "<IPython.core.display.HTML object>"
      ]
     },
     "execution_count": 21,
     "metadata": {},
     "output_type": "execute_result"
    }
   ],
   "source": [
    "reused_tape, _ = agent2.reuse(final_tape1)\n",
    "HTML(render_tape_with_prompts(reused_tape, PrettyRenderer()))"
   ]
  },
  {
   "cell_type": "markdown",
   "metadata": {},
   "source": [
    "We offer a quick way to harness the tape reuse to make training data. "
   ]
  },
  {
   "cell_type": "code",
   "execution_count": 22,
   "metadata": {
    "execution": {
     "iopub.execute_input": "2024-09-28T05:58:58.457643Z",
     "iopub.status.busy": "2024-09-28T05:58:58.457538Z",
     "iopub.status.idle": "2024-09-28T05:58:58.466102Z",
     "shell.execute_reply": "2024-09-28T05:58:58.465863Z"
    }
   },
   "outputs": [
    {
     "name": "stdout",
     "output_type": "stream",
     "text": [
      "<|start_header_id|>assistant<|end_header_id|>\n",
      "\n",
      "To help the user learn about Vulcan's financials, I will follow these steps:\n",
      "\n",
      "1. Use the `get_stock_ticker` function to find the stock ticker symbol for Vulcan.\n",
      "2. Use the `get_stock_data` function to retrieve recent stock price data for Vulcan using the obtained ticker symbol.\n",
      "3. Summarize the financial information and stock performance of Vulcan based on the retrieved data.\n",
      "\n",
      "Let's start with step 1.<|eot_id|>\n"
     ]
    }
   ],
   "source": [
    "training_data = agent2.make_training_data(final_tape1)\n",
    "print(training_data[0].output_text)"
   ]
  },
  {
   "cell_type": "markdown",
   "metadata": {},
   "source": [
    "What could be simpler than that?!\n",
    "We're only scratching the surface of what TapeAgents can do. We invite you to explore the other tutorials and examples to learn more about the TapeAgents framework."
   ]
  },
  {
   "cell_type": "markdown",
   "metadata": {},
   "source": [
    "# 5. Multi-agent teams, deeper dive into view stack"
   ]
  },
  {
   "cell_type": "markdown",
   "metadata": {},
   "source": [
    "Let's add a colleague to our agent that will help it search the internet! \n",
    "\n",
    "First thing, we need to give this colleague some tools. In TapeAgents, the agents do not use the environment directly, their interaction with the environment is mediated by in orchestrator such as you application. But the agents should know what tools they can call. And if you are using `main_loop` as the orchestrator, it requires one environment that contains tools of all the agents. \n",
    "\n",
    "Let's go ahead and define environments:\n",
    "- the environments of the root agent\n",
    "- the one of its internet search specialist colleague\n",
    "- the environment that contains all the tools.\n",
    "\n",
    "Note that we won't use the first two environments to produce observations, we'll use them only to generate tool schemas for agent."
   ]
  },
  {
   "cell_type": "code",
   "execution_count": 23,
   "metadata": {
    "execution": {
     "iopub.execute_input": "2024-09-28T05:58:58.467436Z",
     "iopub.status.busy": "2024-09-28T05:58:58.467322Z",
     "iopub.status.idle": "2024-09-28T05:58:58.477422Z",
     "shell.execute_reply": "2024-09-28T05:58:58.477179Z"
    }
   },
   "outputs": [],
   "source": [
    "from tapeagents.tools.simple_browser import SimpleTextBrowser\n",
    "\n",
    "browser = SimpleTextBrowser()\n",
    "search_agent_env = ToolEnvironment([browser.get_search_results, browser.get_page, browser.get_next_page])\n",
    "\n",
    "\n",
    "# We will use the tool choice mechanism to let the main agent call its search specialist agent.\n",
    "# To this end, we create a mock tool that represents calling the search agent.\n",
    "def call_search_agent(query: str):\n",
    "    \"\"\"Use this tool to ask a fellow AI agent to search for information on the web.\"\"\"\n",
    "    pass\n",
    "\n",
    "\n",
    "main_agent_env = ToolEnvironment([get_stock_ticker, get_stock_data, call_search_agent])\n",
    "whole_env = ToolEnvironment(\n",
    "    [get_stock_ticker, get_stock_data, browser.get_search_results, browser.get_page, browser.get_next_page]\n",
    ")"
   ]
  },
  {
   "cell_type": "markdown",
   "metadata": {},
   "source": [
    "Before we implement the subagent, let's review the way we do multi-agent communication in TapeAgents:\n",
    "- when the root agent wants to call its subagent \"xyz\", it puts `Call(agent_name=\"xyz\")` step on the tape\n",
    "- at the next iteration, the root agent will compute `TapeViewStack` and delegate to the currently active agent. Right after `Call(agent_name=\"B\")` on top of the stack there will be a new view associated with Agent \"xyz\". The root agent will delegate to \"xyz\" to make the prompt and to generate the steps from \"xyz\"'s current node.\n",
    "- when \"xyz\" is done it will put `Respond()` step on the tape. At the next iteration the view stack won't have \"xyz\"'s view on the top any more. \n",
    "\n",
    "A reader familiar with the concept of a call stack will find the `TapeViewStack` concept very similar...\n",
    "\n",
    "Note that for the purpose of computing the view stack the root agent's name is not known. It's view will be signed as \"root\".\n",
    "\n",
    "Let's explore the way `Call` and `Respond` works with a minimal example.\n"
   ]
  },
  {
   "cell_type": "code",
   "execution_count": 24,
   "metadata": {
    "execution": {
     "iopub.execute_input": "2024-09-28T05:58:58.478537Z",
     "iopub.status.busy": "2024-09-28T05:58:58.478443Z",
     "iopub.status.idle": "2024-09-28T05:58:58.481118Z",
     "shell.execute_reply": "2024-09-28T05:58:58.480906Z"
    }
   },
   "outputs": [
    {
     "name": "stdout",
     "output_type": "stream",
     "text": [
      "View stack after step 0\n",
      "-- root: UserStep\n",
      "View stack after step 1\n",
      "-- root: UserStep, Call\n",
      "-- root/xyz: Call\n",
      "View stack after step 2\n",
      "-- root: UserStep, Call\n",
      "-- root/xyz: Call, AssistantThought\n",
      "View stack after step 3\n",
      "-- root: UserStep, Call, Respond\n"
     ]
    }
   ],
   "source": [
    "from tapeagents.core import Call, Respond\n",
    "\n",
    "tape = DialogTape(\n",
    "    steps=[\n",
    "        UserStep(content=\"Compute 2 + 2\"),\n",
    "        Call(agent_name=\"xyz\", content=\"what is 2 + 2, dear xyz\"),\n",
    "        AssistantThought(content=\"deep thinking by agent xyz\"),\n",
    "        Respond(content=\"I heard it is 4\"),\n",
    "    ]\n",
    ")\n",
    "# We will print a brief summary of view stack after each step\n",
    "for i in range(0, len(tape)):\n",
    "    print(f\"View stack after step {i}\")\n",
    "    view_stack = TapeViewStack.compute(tape[: i + 1])\n",
    "    for view in view_stack.stack:\n",
    "        step_summary = \", \".join([step.__class__.__name__ for step in view.steps])\n",
    "        print(f\"-- {view.agent_full_name}: {step_summary}\")\n",
    "# Note how \"root/xyz\" view appears after step 1 and disappears after step 3.\n",
    "# Also note how \"root\" does not see private thoughts of \"xyz\" (step 2), and \"xyz\"\n",
    "# does not see the initial observation of root (step 0)"
   ]
  },
  {
   "cell_type": "markdown",
   "metadata": {},
   "source": [
    "We are now ready to proceed to the implementation of the internet search agent!"
   ]
  },
  {
   "cell_type": "code",
   "execution_count": 25,
   "metadata": {
    "execution": {
     "iopub.execute_input": "2024-09-28T05:58:58.482288Z",
     "iopub.status.busy": "2024-09-28T05:58:58.482159Z",
     "iopub.status.idle": "2024-09-28T05:59:06.315624Z",
     "shell.execute_reply": "2024-09-28T05:59:06.315130Z"
    }
   },
   "outputs": [
    {
     "data": {
      "text/html": [
       "<style>.basic-renderer-box { margin: 4px; padding: 2px; background: lavender; white-space: pre-wrap; color: black;}.basic-prompt-box { margin: 4px; padding: 2px; background: lavender; color: black;}.episode-row { display: flex; align-items: end; }.agent-column { width: 50%; }.user-column { width: 25%; }.annotator-column { width: 25%; }.inner-tape-container { display: flex }.inner-tape-indent { width: 10%; }.inner-tape { width: 90%; }</style><style>.observation { background-color: #baffc9;; }.error_observation { background-color: #dd0000; }.action { background-color: #cccccc; }.thought { background-color: #ffffdb; }.call { background-color: #ffffff; }.respond { background-color: #ffffff; }.step-header { margin: 2pt 2pt 2pt 0 !important; }.step-text { font-size: 12px; white-space: pre-wrap; word-wrap: break-word;}</style><h3>Metadata</h3><details> <summary> Show / Hide </summary> <div class='basic-renderer-box'>author: null\n",
       "author_tape_id: null\n",
       "error: null\n",
       "id: c16a2fd7-fb64-4279-8800-87935c7e40ab\n",
       "n_added_steps: 1\n",
       "parent_id: null\n",
       "result: null\n",
       "</div> </details><h3>Steps</h3><div class='basic-renderer-box call'><h4 class='step-header'>[0] Agent calls search_agent</h4><pre class='step-text'>kind: call\n",
       "agent_name: search_agent\n",
       "\n",
       "What influenced Nvidia stock price in late 2022?</pre></div><div class='basic-renderer-box action'><h4 class='step-header'>[1] Action: ToolCalls</h4><pre class='step-text'>tool_calls:\n",
       "- function:\n",
       "    arguments: '{\"query\":\"Nvidia stock price influence late 2022\",\"max_results\":5}'\n",
       "    name: get_search_results\n",
       "  id: call_Z2hMQ3l4lXLdWoIRL3L8ZCoq\n",
       "  type: function\n",
       "kind: assistant\n",
       "</pre></div><div class='basic-renderer-box thought'><h4 class='step-header'>[2] Thought: SetNextNode</h4><pre class='step-text'>kind: set_next_node\n",
       "next_node: 0\n",
       "</pre></div><div class='basic-renderer-box observation'><h4 class='step-header'>[3] Observation: ToolResult</h4><pre class='step-text'>tool_call_id: call_Z2hMQ3l4lXLdWoIRL3L8ZCoq\n",
       "kind: tool\n",
       "\n",
       "<details><summary>1780 characters ...</summary>[{'title': 'Nvidia Stock Eyes All-Time High Amid Rebound', 'url': 'https://www.investors.com/research/nvda-stock-is-nvidia-a-buy-2/', 'content': '7 hours ago — It reported three quarters of declining year-over-year sales and four quarters of tapering earnings in late 2022 and early 2023. But then\\xa0...'}, {'title': 'NVIDIA Corporation - Stock Info - Historical Price Lookup', 'url': 'https://investor.nvidia.com/stock-info/historical-price-lookup/default.aspx', 'content': 'Stock quote & chart, historical price lookup, investment calculator, fundamentals, analyst coverage, financial info, financial reports, SEC filings, quarterly\\xa0...'}, {'title': \"Nvidia's stock chart shows how bulls are using the recent ...\", 'url': 'https://www.morningstar.com/news/marketwatch/20240927301/nvidias-stock-chart-shows-how-bulls-are-using-the-recent-pause-to-get-refreshed', 'content': '4 hours ago — A check of history shows that the late 2018 downtrend that followed a three-year rally took the stock down 56%, and the late-2021 to late-2022\\xa0...'}, {'title': \"What's going on with Nvidia stock and the booming AI ...\", 'url': 'https://www.techtarget.com/whatis/feature/Whats-going-on-with-Nvidia-stock-and-the-booming-AI-market', 'content': \"Sep 4, 2024 — Nvidia's market value surpassed $3 trillion in 2024, fueled by the generative AI boom, rebounding tech sector and 154% stock growth in 2024.\"}, {'title': 'Nvidia Stock Price at 52-Week Low After US Restricts ...', 'url': 'https://www.globaldata.com/data-insights/technology--media-and-telecom/nvidia-stock-price-at-52-week-low-after-us-restricts-sales-to-china/', 'content': 'The share price of Nvidia hit a 52-week low after the US restricted sales to China; In 2022, China accounted for over 27% of the total sales\\xa0...'}]</details></pre></div><div class='basic-renderer-box action'><h4 class='step-header'>[4] Action: ToolCalls</h4><pre class='step-text'>tool_calls:\n",
       "- function:\n",
       "    arguments: '{\"url\": \"https://www.investors.com/research/nvda-stock-is-nvidia-a-buy-2/\"}'\n",
       "    name: get_page\n",
       "  id: call_FxVcG8Z7DxKjh46mq5WBoi9V\n",
       "  type: function\n",
       "- function:\n",
       "    arguments: '{\"url\": \"https://www.morningstar.com/news/marketwatch/20240927301/nvidias-stock-chart-shows-how-bulls-are-using-the-recent-pause-to-get-refreshed\"}'\n",
       "    name: get_page\n",
       "  id: call_tSXwVXXt8mKkQyz647tX9FD9\n",
       "  type: function\n",
       "- function:\n",
       "    arguments: '{\"url\": \"https://www.globaldata.com/data-insights/technology--media-and-telecom/nvidia-stock-price-at-52-week-low-after-us-restricts-sales-to-china/\"}'\n",
       "    name: get_page\n",
       "  id: call_IQs92nhMwXLwUhq9SFNTS285\n",
       "  type: function\n",
       "kind: assistant\n",
       "</pre></div><div class='basic-renderer-box thought'><h4 class='step-header'>[5] Thought: SetNextNode</h4><pre class='step-text'>kind: set_next_node\n",
       "next_node: 0\n",
       "</pre></div><div class='basic-renderer-box observation'><h4 class='step-header'>[6] Observation: ToolResult</h4><pre class='step-text'>tool_call_id: call_FxVcG8Z7DxKjh46mq5WBoi9V\n",
       "kind: tool\n",
       "\n",
       "<details><summary>32986 characters ...</summary>('Title: Nvidia Stock Eyes All-Time High Amid Rebound; Is Nvidia A Buy Now?Investor\\'s Business Daily\\n=======================\\n![](https://www.queryly.com/images/whitesearchicon.png)\\n\\n* [Market Trend](https://research.investors.com/markettrend.aspx)\\n\\t+ [Market Trend](https://research.investors.com/markettrend.aspx)\\n\\t\\t- [The Big Picture](https://www.investors.com/category/market-trend/the-big-picture/)\\n\\t\\t- [Stock Market Data](https://www.investors.com/research/stock-market-data-dow-jones-sp-500-nasdaq-spdr-etfs/)\\n\\t\\t- [Stock Market Today](https://www.investors.com/news/stock-market-today-stock-market-news/)\\n\\t\\t- [New? Start Here](https://get.investors.com/getting-started/?src=A00332A&intcode=EditorialTests_GettingStarted_MarketTrend)\\n\\t\\t- [ETF Market Strategy](https://www.investors.com/market-trend/ibds-etf-market-strategy/ibds-etf-market-strategy/)\\n\\t\\t- [IBD Digital: 2 Months for $20](https://get.investors.com/ibd/?intcode=gnvb%7Cgnvb%7Cevgr%7C2021%7C08%7Cibdd%7Cna%7C%7C115458&src=AKCAGE)\\n\\t\\t- [Psychological Indicators](https://research.investors.com/psychological-market-indicators/)\\n* [Stock Lists](https://www.investors.com/stock-lists/stocks-to-watch-top-rated-ipos-big-caps-and-growth-stocks/)\\n\\t+ [Stock Lists](https://www.investors.com/stock-lists/stocks-to-watch-top-rated-ipos-big-caps-and-growth-stocks/)\\n\\t\\t- [**IBD 50**](https://research.investors.com/stock-lists/ibd-50/)\\n\\t\\t- [My Stock Lists](https://myibd.investors.com/my-ibd/portfolio.aspx)\\n\\t\\t- [Stocks Near A Buy Zone](https://www.investors.com/category/stock-lists/stocks-near-a-buy-zone/)\\n\\t\\t- [IBD ETF Indexes](https://www.investors.com/ibd-indexes/ibd-etf-indexes-ibd-50-etf-leaders-breakout-stocks-etf-ffty-ldrs-bout/)\\n\\t\\t- [**IBD Sector Leaders**](https://research.investors.com/stock-lists/sector-leaders)\\n\\t\\t- [Stock Lists Update](https://www.investors.com/stock-lists/best-growth-stocks-buy-watch-ibd-stock-lists/)\\n\\t\\t- [Relative Strength at New High](https://research.investors.com/stock-lists/relative-strength-at-new-high/)\\n\\t\\t- [IBD Data Tables](https://www.investors.com/ibd-data-tables/)\\n\\t\\t- [**IBD Big Cap 20**](https://research.investors.com/stock-lists/big-cap-20/)\\n\\t\\t- [Stocks On The Move](https://research.investors.com/stocksonthemove.aspx)\\n\\t\\t- [Rising Profit Estimates](https://research.investors.com/stock-lists/rising-profit-estimates/)\\n\\t\\t- [IBD Digital: 2 Months for $20](https://get.investors.com/ibd/?intcode=gnvb%7Cgnvb%7Cevgr%7C2021%7C08%7Cibdd%7Cna%7C%7C115458&src=AKCAGE)\\n\\t\\t- [**IBD Long\\\\-Term Leaders**](https://www.investors.com/research/best-stocks-to-buy-now-long-term-stocks-ibd-long-term-leaders-list/)\\n\\t\\t- [New Highs](https://research.investors.com/stock-lists/new-highs/)\\n\\t\\t- [Stocks Funds Are Buying](https://research.investors.com/stock-lists/stocks-that-funds-are-buying/)\\n\\t\\t- [New? Start Here](https://shop.investors.com/offer/splashresponsive.aspx?id=gettingstarted&src=A00332A&intcode=EditorialTests_GettingStarted_StockLists)\\n\\t\\t- [**IPO Leaders**](https://research.investors.com/stock-lists/ipo-leaders/)\\n\\t\\t- [Stock Spotlight](https://research.investors.com/stock-lists/stock-spotlight/)\\n\\t\\t- [Your Weekly Review](https://research.investors.com/stock-lists/your-weekly-review/)\\n* [Research](https://research.investors.com)\\n\\t+ [Stock Research](https://research.investors.com)\\n\\t\\t- [IBD Stock Checkup](https://research.investors.com/stock-checkup/)\\n\\t\\t- [Investing Action Plan](https://www.investors.com/category/research/investing-action-plan/)\\n\\t\\t- [The Income Investor](https://www.investors.com/category/research/the-income-investor/)\\n\\t\\t- [Stock Of The Day](https://www.investors.com/research/ibd-stock-of-the-day/)\\n\\t\\t- [Earnings Preview](https://www.investors.com/category/research/earnings-preview/)\\n\\t\\t- [IBD Stock Analysis](https://www.investors.com/category/research/ibd-stock-analysis/)\\n\\t\\t- [Screen Of The Day](https://www.investors.com/research/best-stocks-to-buy-watch-ibd-screen-of-the-day/)\\n\\t\\t- [Earnings Calendar](https://www.investors.com/research/earnings-calendar-analyst-estimates-stocks-to-watch/)\\n\\t\\t- [Industry Snapshot](https://www.investors.com/category/research/industry-snapshot/)\\n\\t\\t- [IBD Charts](https://research.investors.com/stock-charts/nasdaq-nasdaq-composite-0ndqc.htm?cht=pvc&type=daily)\\n\\t\\t- [Industry Themes](https://www.investors.com/category/research/ibd-industry-themes/)\\n\\t\\t- [IBD 50 Stocks To Watch](https://www.investors.com/research/ibd-50-growth-stocks-to-watch/)\\n\\t\\t- [Stock Screener](https://ibdstockscreener.investors.com)\\n\\t\\t- [The New America](https://www.investors.com/category/research/the-new-america/)\\n\\t\\t- [IBD Data Stories](https://www.investors.com/ibd-data-stories/build-your-investing-watch-list-with-stock-ratings-buy-zones-earnings/)\\n\\t\\t- [Swing Trading](https://www.investors.com/category/research/swing-trading/)\\n\\t\\t- [Best ETFs](https://www.investors.com/etfs-and-funds/etfs/best-etfs-exchange-traded-funds/)\\n\\t\\t- [IBD Digital: 2 Months for $20](https://get.investors.com/ibd/?intcode=gnvb%7Cgnvb%7Cevgr%7C2021%7C08%7Cibdd%7Cna%7C%7C115458&src=AKCAGE)\\n\\t\\t- [Options](https://www.investors.com/category/research/options/)\\n\\t\\t- [Best Mutual Funds](https://www.investors.com/etfs-and-funds/mutual-funds/best-mutual-funds-news-performance-reports-investing-ideas/)\\n\\t+ [Premium Investing Tools](https://research.investors.com)\\n\\t\\t- [MarketSurge](https://marketsurge.investors.com/)\\n\\t\\t- [IBD Live](https://research.investors.com/ibdlive)\\n\\t\\t- [Leaderboard](https://leaderboard.investors.com/)\\n\\t\\t- [SwingTrader](https://swingtrader.investors.com)\\n\\t\\t- [MarketDiem](https://get.investors.com/marketdiem/?intcode=lgnv%7Clgnv%7Cprdmcst%7C2022%7C10%7Cmkdm%7Cna%7C%7C832881&src=A00653)\\n* [NEWS](https://www.investors.com/tag/all-news-and-stock-ideas/)\\n\\t+ [NEWS](https://www.investors.com/tag/all-news-and-stock-ideas/)\\n\\t\\t- [*e*IBD](https://research.investors.com/eIBD)\\n\\t\\t- [Cryptocurrency](https://www.investors.com/news/cryptocurrency-prices-news/)\\n\\t\\t- [Technology](https://www.investors.com/technology/)\\n\\t\\t- [Retirement](https://www.investors.com/category/etfs-and-funds/retirement/)\\n\\t\\t- [Magnificent Seven Stocks](https://www.investors.com/research/magnificent-seven-stocks-latest-news-market-cap-weighting/)\\n\\t\\t- [Management](https://www.investors.com/management/)\\n\\t\\t- [Personal Finance](https://www.investors.com/category/etfs-and-funds/personal-finance/)\\n\\t\\t- [Industry News Pages](https://www.investors.com/news/industry-news-and-stocks-to-watch/)\\n\\t\\t- [Special Reports](https://www.investors.com/special-reports/)\\n\\t+ [ECONOMY](https://www.investors.com/economic-news-president-job-approval/)\\n\\t\\t- [Economic Calendar](https://research.investors.com/economic-calendar/)\\n\\t\\t- [IBD Digital: 2 Months for $20](https://get.investors.com/ibd/?intcode=gnvb%7Cgnvb%7Cevgr%7C2021%7C08%7Cibdd%7Cna%7C%7C115458&src=AKCAGE)\\n\\t\\t- [Economic News](https://www.investors.com/category/news/economy/)\\n* [Videos](https://www.investors.com/ibd-videos/)\\n\\t+ [VIDEOS \\\\& PODCASTS](https://www.investors.com/ibd-videos/)\\n\\t\\t- [IBD Live](https://research.investors.com/ibdlive)\\n\\t\\t- [Investing With IBD Podcast](https://www.investors.com/podcast)\\n\\t\\t- [How To Invest Videos](https://www.investors.com/ibd-videos/category/how-to-invest-videos)\\n\\t\\t- [Growth Stories Podcast](https://get.investors.com/growth-stories-podcast/)\\n\\t\\t- [Options Videos](https://www.investors.com/ibd-videos/category/options-ibd-videos?archive=1)\\n\\t\\t- [Online Courses](https://get.investors.com/online-courses/?src=A00272A)\\n\\t\\t- [Webinars](https://www.investors.com/ibd-videos/category/webinars)\\n\\t\\t- [IBD Digital: 2 Months for $20](https://get.investors.com/ibd/?intcode=gnvb%7Cgnvb%7Cevgr%7C2021%7C08%7Cibdd%7Cna%7C%7C115458&src=AKCAGE)\\n* [Learn](https://www.investors.com/how-to-invest/how-to-invest-rules-for-when-buy-and-sell-stocks-in-bull-and-bear-markets/)\\n\\t+ [How To Invest](https://www.investors.com/how-to-invest/how-to-invest-rules-for-when-buy-and-sell-stocks-in-bull-and-bear-markets/)\\n\\t\\t- [How To Invest In Stocks](https://www.investors.com/how-to-invest/how-to-invest-in-stocks-investing-for-beginners/)\\n\\t\\t- [When To Sell Stocks](https://www.investors.com/how-to-invest/when-to-sell-stocks/)\\n\\t\\t- [3 Keys To Stock Investing](https://www.investors.com/how-to-invest/stock-investing-how-to-make-money-in-stock-3-key-factors/)\\n\\t\\t- [Short Selling](https://www.investors.com/category/research/the-short-side/)\\n\\t\\t- [Stock Market Timing](https://www.investors.com/how-to-invest/stock-market-timing-how-to-invest-in-stocks-tracking-bull-markets-bear-markets-stock-market-trends/)\\n\\t\\t- [Swing Trading](https://www.investors.com/research/swing-trading/swing-trading-strategies/)\\n\\t\\t- [Tracking Stock Market Trends](https://www.investors.com/how-to-invest/how-to-handle-changing-stock-market-trends/)\\n\\t\\t- [What Is Crypto](https://www.investors.com/how-to-invest/cryptocurrency-what-is-crypto/)\\n\\t\\t- [How To Read Stock Charts](https://www.investors.com/how-to-invest/how-to-read-stock-charts-understanding-technical-analysis/)\\n\\t\\t- [Premium Online Courses](https://get.investors.com/online-courses/?src=A00272A)\\n\\t\\t- [How To Buy Stocks](https://www.investors.com/how-to-invest/how-to-buy-stocks-using-stock-lists-stock-ratings-stock-screener/)\\n\\t+ Educational Resources\\n\\t\\t- [New To IBD](https://get.investors.com/getting-started/)\\n\\t\\t- [Online Investing Courses](https://get.investors.com/online-courses/?src=APA1BQ)\\n\\t\\t- [Investor\\'s Corner](https://www.investors.com/category/how-to-invest/investors-corner/)\\n\\t\\t- [12 Days Of Learning](https://get.investors.com/ibd/12-days-of-learning/)\\n\\t\\t- [Investing With IBD Podcast](https://www.investors.com/podcast)\\n\\t\\t- [Investing Infographics](https://get.investors.com/infographics/)\\n\\t\\t- [Events \\\\& Webinars](https://get.investors.com/events/)\\n\\t\\t- [Chart School](https://workshops.investors.com/)\\n\\t\\t- [**IBD Moneyworks**](https://get.investors.com/moneyworks/)\\n* [MarketSurge](https://marketsurge.investors.com/?intcode=lgnv%7Clgnv%7CMarketSmith%7C2023%7C06%7Cmsp%7Cna%7C%7C725068&src=A00653)\\n* [IBD Live](https://research.investors.com/ibdlive?id=IBD-Live&src=A00582A)\\n* [Leaderboard](https://leaderboard.investors.com)\\n* [SwingTrader](https://swingtrader.investors.com)\\n* [MarketDiem](https://get.investors.com/marketdiem/?intcode=lgnv%7Clgnv%7Cprdmcst%7C2022%7C10%7Cmkdm%7Cna%7C%7C832881&src=A00653)\\n* [Store](https://get.investors.com/?src=APA1BQ)\\n\\n**BREAKING: [Core PCE Inflation Tame, Keeps Big Fed Rate Cut In Play](https://www.investors.com/news/economy/fed-inflation-report-core-price-index-tame-big-rate-cut-sp-500/)**\\n\\n[![Election Season Offer](https://www.investors.com/wp-content/uploads/2024/09/bc-election2024-alt-750x80-1.png)](https://get.investors.com/ibd/ibd-digital-2-for-12/?src=A00627&utm_source=i.com&utm_medium=NHPBroad&utm_campaign=ELECTION+2024&utm_id=ELECTION24)\\n\\n[![Investor\\'s Business Daily](https://www.investors.com/wp-content/themes/ibd/dist/images/ibd-logo.svg)](https://www.investors.com)\\n\\n Shopping Cart\\n\\n Your cart is currently empty.\\n Visit the [IBD Store](https://shop.investors.com) to get started.\\n\\n![](https://www.queryly.com/images/whitesearchicon.png)\\n\\n* [Market Trend](https://research.investors.com/markettrend.aspx)\\n\\t+ [Market Trend](https://research.investors.com/markettrend.aspx)\\n\\t\\t- [The Big Picture](https://www.investors.com/category/market-trend/the-big-picture/)\\n\\t\\t- [Stock Market Data](https://www.investors.com/research/stock-market-data-dow-jones-sp-500-nasdaq-spdr-etfs/)\\n\\t\\t- [Stock Market Today](https://www.investors.com/news/stock-market-today-stock-market-news/)\\n\\t\\t- [New? Start Here](https://get.investors.com/getting-started/?src=A00332A&intcode=EditorialTests_GettingStarted_MarketTrend)\\n\\t\\t- [ETF Market Strategy](https://www.investors.com/market-trend/ibds-etf-market-strategy/ibds-etf-market-strategy/)\\n\\t\\t- [IBD Digital: 2 Months for $20](https://get.investors.com/ibd/?intcode=gnvb%7Cgnvb%7Cevgr%7C2021%7C08%7Cibdd%7Cna%7C%7C115458&src=AKCAGE)\\n\\t\\t- [Psychological Indicators](https://research.investors.com/psychological-market-indicators/)\\n* [Stock Lists](https://www.investors.com/stock-lists/stocks-to-watch-top-rated-ipos-big-caps-and-growth-stocks/)\\n\\t+ [Stock Lists](https://www.investors.com/stock-lists/stocks-to-watch-top-rated-ipos-big-caps-and-growth-stocks/)\\n\\t\\t- [**IBD 50**](https://research.investors.com/stock-lists/ibd-50/)\\n\\t\\t- [My Stock Lists](https://myibd.investors.com/my-ibd/portfolio.aspx)\\n\\t\\t- [Stocks Near A Buy Zone](https://www.investors.com/category/stock-lists/stocks-near-a-buy-zone/)\\n\\t\\t- [IBD ETF Indexes](https://www.investors.com/ibd-indexes/ibd-etf-indexes-ibd-50-etf-leaders-breakout-stocks-etf-ffty-ldrs-bout/)\\n\\t\\t- [**IBD Sector Leaders**](https://research.investors.com/stock-lists/sector-leaders)\\n\\t\\t- [Stock Lists Update](https://www.investors.com/stock-lists/best-growth-stocks-buy-watch-ibd-stock-lists/)\\n\\t\\t- [Relative Strength at New High](https://research.investors.com/stock-lists/relative-strength-at-new-high/)\\n\\t\\t- [IBD Data Tables](https://www.investors.com/ibd-data-tables/)\\n\\t\\t- [**IBD Big Cap 20**](https://research.investors.com/stock-lists/big-cap-20/)\\n\\t\\t- [Stocks On The Move](https://research.investors.com/stocksonthemove.aspx)\\n\\t\\t- [Rising Profit Estimates](https://research.investors.com/stock-lists/rising-profit-estimates/)\\n\\t\\t- [IBD Digital: 2 Months for $20](https://get.investors.com/ibd/?intcode=gnvb%7Cgnvb%7Cevgr%7C2021%7C08%7Cibdd%7Cna%7C%7C115458&src=AKCAGE)\\n\\t\\t- [**IBD Long\\\\-Term Leaders**](https://www.investors.com/research/best-stocks-to-buy-now-long-term-stocks-ibd-long-term-leaders-list/)\\n\\t\\t- [New Highs](https://research.investors.com/stock-lists/new-highs/)\\n\\t\\t- [Stocks Funds Are Buying](https://research.investors.com/stock-lists/stocks-that-funds-are-buying/)\\n\\t\\t- [New? Start Here](https://shop.investors.com/offer/splashresponsive.aspx?id=gettingstarted&src=A00332A&intcode=EditorialTests_GettingStarted_StockLists)\\n\\t\\t- [**IPO Leaders**](https://research.investors.com/stock-lists/ipo-leaders/)\\n\\t\\t- [Stock Spotlight](https://research.investors.com/stock-lists/stock-spotlight/)\\n\\t\\t- [Your Weekly Review](https://research.investors.com/stock-lists/your-weekly-review/)\\n* [Research](https://research.investors.com)\\n\\t+ [Stock Research](https://research.investors.com)\\n\\t\\t- [IBD Stock Checkup](https://research.investors.com/stock-checkup/)\\n\\t\\t- [Investing Action Plan](https://www.investors.com/category/research/investing-action-plan/)\\n\\t\\t- [The Income Investor](https://www.investors.com/category/research/the-income-investor/)\\n\\t\\t- [Stock Of The Day](https://www.investors.com/research/ibd-stock-of-the-day/)\\n\\t\\t- [Earnings Preview](https://www.investors.com/category/research/earnings-preview/)\\n\\t\\t- [IBD Stock Analysis](https://www.investors.com/category/research/ibd-stock-analysis/)\\n\\t\\t- [Screen Of The Day](https://www.investors.com/research/best-stocks-to-buy-watch-ibd-screen-of-the-day/)\\n\\t\\t- [Earnings Calendar](https://www.investors.com/research/earnings-calendar-analyst-estimates-stocks-to-watch/)\\n\\t\\t- [Industry Snapshot](https://www.investors.com/category/research/industry-snapshot/)\\n\\t\\t- [IBD Charts](https://research.investors.com/stock-charts/nasdaq-nasdaq-composite-0ndqc.htm?cht=pvc&type=daily)\\n\\t\\t- [Industry Themes](https://www.investors.com/category/research/ibd-industry-themes/)\\n\\t\\t- [IBD 50 Stocks To Watch](https://www.investors.com/research/ibd-50-growth-stocks-to-watch/)\\n\\t\\t- [Stock Screener](https://ibdstockscreener.investors.com)\\n\\t\\t- [The New America](https://www.investors.com/category/research/the-new-america/)\\n\\t\\t- [IBD Data Stories](https://www.investors.com/ibd-data-stories/build-your-investing-watch-list-with-stock-ratings-buy-zones-earnings/)\\n\\t\\t- [Swing Trading](https://www.investors.com/category/research/swing-trading/)\\n\\t\\t- [Best ETFs](https://www.investors.com/etfs-and-funds/etfs/best-etfs-exchange-traded-funds/)\\n\\t\\t- [IBD Digital: 2 Months for $20](https://get.investors.com/ibd/?intcode=gnvb%7Cgnvb%7Cevgr%7C2021%7C08%7Cibdd%7Cna%7C%7C115458&src=AKCAGE)\\n\\t\\t- [Options](https://www.investors.com/category/research/options/)\\n\\t\\t- [Best Mutual Funds](https://www.investors.com/etfs-and-funds/mutual-funds/best-mutual-funds-news-performance-reports-investing-ideas/)\\n\\t+ [Premium Investing Tools](https://research.investors.com)\\n\\t\\t- [MarketSurge](https://marketsurge.investors.com/)\\n\\t\\t- [IBD Live](https://research.investors.com/ibdlive)\\n\\t\\t- [Leaderboard](https://leaderboard.investors.com/)\\n\\t\\t- [SwingTrader](https://swingtrader.investors.com)\\n\\t\\t- [MarketDiem](https://get.investors.com/marketdiem/?intcode=lgnv%7Clgnv%7Cprdmcst%7C2022%7C10%7Cmkdm%7Cna%7C%7C832881&src=A00653)\\n* [NEWS](https://www.investors.com/tag/all-news-and-stock-ideas/)\\n\\t+ [NEWS](https://www.investors.com/tag/all-news-and-stock-ideas/)\\n\\t\\t- [*e*IBD](https://research.investors.com/eIBD)\\n\\t\\t- [Cryptocurrency](https://www.investors.com/news/cryptocurrency-prices-news/)\\n\\t\\t- [Technology](https://www.investors.com/technology/)\\n\\t\\t- [Retirement](https://www.investors.com/category/etfs-and-funds/retirement/)\\n\\t\\t- [Magnificent Seven Stocks](https://www.investors.com/research/magnificent-seven-stocks-latest-news-market-cap-weighting/)\\n\\t\\t- [Management](https://www.investors.com/management/)\\n\\t\\t- [Personal Finance](https://www.investors.com/category/etfs-and-funds/personal-finance/)\\n\\t\\t- [Industry News Pages](https://www.investors.com/news/industry-news-and-stocks-to-watch/)\\n\\t\\t- [Special Reports](https://www.investors.com/special-reports/)\\n\\t+ [ECONOMY](https://www.investors.com/economic-news-president-job-approval/)\\n\\t\\t- [Economic Calendar](https://research.investors.com/economic-calendar/)\\n\\t\\t- [IBD Digital: 2 Months for $20](https://get.investors.com/ibd/?intcode=gnvb%7Cgnvb%7Cevgr%7C2021%7C08%7Cibdd%7Cna%7C%7C115458&src=AKCAGE)\\n\\t\\t- [Economic News](https://www.investors.com/category/news/economy/)\\n* [Videos](https://www.investors.com/ibd-videos/)\\n\\t+ [VIDEOS \\\\& PODCASTS](https://www.investors.com/ibd-videos/)\\n\\t\\t- [IBD Live](https://research.investors.com/ibdlive)\\n\\t\\t- [Investing With IBD Podcast](https://www.investors.com/podcast)\\n\\t\\t- [How To Invest Videos](https://www.investors.com/ibd-videos/category/how-to-invest-videos)\\n\\t\\t- [Growth Stories Podcast](https://get.investors.com/growth-stories-podcast/)\\n\\t\\t- [Options Videos](https://www.investors.com/ibd-videos/category/options-ibd-videos?archive=1)\\n\\t\\t- [Online Courses](https://get.investors.com/online-courses/?src=A00272A)\\n\\t\\t- [Webinars](https://www.investors.com/ibd-videos/category/webinars)\\n\\t\\t- [IBD Digital: 2 Months for $20](https://get.investors.com/ibd/?intcode=gnvb%7Cgnvb%7Cevgr%7C2021%7C08%7Cibdd%7Cna%7C%7C115458&src=AKCAGE)\\n* [Learn](https://www.investors.com/how-to-invest/how-to-invest-rules-for-when-buy-and-sell-stocks-in-bull-and-bear-markets/)\\n\\t+ [How To Invest](https://www.investors.com/how-to-invest/how-to-invest-rules-for-when-buy-and-sell-stocks-in-bull-and-bear-markets/)\\n\\t\\t- [How To Invest In Stocks](https://www.investors.com/how-to-invest/how-to-invest-in-stocks-investing-for-beginners/)\\n\\t\\t- [When To Sell Stocks](https://www.investors.com/how-to-invest/when-to-sell-stocks/)\\n\\t\\t- [3 Keys To Stock Investing](https://www.investors.com/how-to-invest/stock-investing-how-to-make-money-in-stock-3-key-factors/)\\n\\t\\t- [Short Selling](https://www.investors.com/category/research/the-short-side/)\\n\\t\\t- [Stock Market Timing](https://www.investors.com/how-to-invest/stock-market-timing-how-to-invest-in-stocks-tracking-bull-markets-bear-markets-stock-market-trends/)\\n\\t\\t- [Swing Trading](https://www.investors.com/research/swing-trading/swing-trading-strategies/)\\n\\t\\t- [Tracking Stock Market Trends](https://www.investors.com/how-to-invest/how-to-handle-changing-stock-market-trends/)\\n\\t\\t- [What Is Crypto](https://www.investors.com/how-to-invest/cryptocurrency-what-is-crypto/)\\n\\t\\t- [How To Read Stock Charts](https://www.investors.com/how-to-invest/how-to-read-stock-charts-understanding-technical-analysis/)\\n\\t\\t- [Premium Online Courses](https://get.investors.com/online-courses/?src=A00272A)\\n\\t\\t- [How To Buy Stocks](https://www.investors.com/how-to-invest/how-to-buy-stocks-using-stock-lists-stock-ratings-stock-screener/)\\n\\t+ Educational Resources\\n\\t\\t- [New To IBD](https://get.investors.com/getting-started/)\\n\\t\\t- [Online Investing Courses](https://get.investors.com/online-courses/?src=APA1BQ)\\n\\t\\t- [Investor\\'s Corner](https://www.investors.com/category/how-to-invest/investors-corner/)\\n\\t\\t- [12 Days Of Learning](https://get.investors.com/ibd/12-days-of-learning/)\\n\\t\\t- [Investing With IBD Podcast](https://www.investors.com/podcast)\\n\\t\\t- [Investing Infographics](https://get.investors.com/infographics/)\\n\\t\\t- [Events \\\\& Webinars](https://get.investors.com/events/)\\n\\t\\t- [Chart School](https://workshops.investors.com/)\\n\\t\\t- [**IBD Moneyworks**](https://get.investors.com/moneyworks/)\\n* [MarketSurge](https://marketsurge.investors.com/?intcode=lgnv%7Clgnv%7CMarketSmith%7C2023%7C06%7Cmsp%7Cna%7C%7C725068&src=A00653)\\n* [IBD Live](https://research.investors.com/ibdlive?id=IBD-Live&src=A00582A)\\n* [Leaderboard](https://leaderboard.investors.com)\\n* [SwingTrader](https://swingtrader.investors.com)\\n* [MarketDiem](https://get.investors.com/marketdiem/?intcode=lgnv%7Clgnv%7Cprdmcst%7C2022%7C10%7Cmkdm%7Cna%7C%7C832881&src=A00653)\\n* [Store](https://get.investors.com/?src=APA1BQ)\\n* Shopping CartYour cart is currently empty.\\n Visit the [IBD Store](https://shop.investors.com) to get started.\\n*\\n\\nHi\\n\\n[MY IBD](https://myibd.investors.com)\\n[SIGN OUT](https://myibd.investors.com/logout.aspx)\\n\\n+ [My Products](#)\\n+ [My Favorites](#)\\n+ [My Stock Lists](#)\\n\\n[Edit Favorites](https://myibd.investors.com/edit-favorites/)\\n\\n* [Sign In](https://myibd.investors.com/secure/signin.aspx?eurl=) or [Subscribe](https://get.investors.com/ibd/?intcode=hpsubbutton%7Chpsubbutton%7Cna%7Cna%7Cna%7Cna%7Cna%7C%7C144112&src=A00544)\\n\\n---\\n\\n* [Research](https://www.investors.com/category/research/)\\n\\n Nvidia Eyes All\\\\-Time High Amid Rebound, AI Demand; Is Nvidia A Buy Now?\\n========================================================================\\n\\n[![Facebook](/wp-content/themes/ibd/dist/images/share-icons/facebook.png)](https://www.addtoany.com/add_to/facebook?linkurl=https%3A%2F%2Fwww.investors.com%2Fresearch%2Fnvda-stock-is-nvidia-a-buy-2%2F&linkname=Nvidia%20Eyes%20All-Time%20High%20Amid%20Rebound%2C%20AI%20Demand%3B%20Is%20Nvidia%20A%20Buy%20Now%3F \"Facebook\")[![X](/wp-content/themes/ibd/dist/images/share-icons/x.png)](https://www.addtoany.com/add_to/x?linkurl=https%3A%2F%2Fwww.investors.com%2Fresearch%2Fnvda-stock-is-nvidia-a-buy-2%2F&linkname=Nvidia%20Eyes%20All-Time%20High%20Amid%20Rebound%2C%20AI%20Demand%3B%20Is%20Nvidia%20A%20Buy%20Now%3F \"X\")[![LinkedIn](/wp-content/themes/ibd/dist/images/share-icons/linkedin.png)](https://www.addtoany.com/add_to/linkedin?linkurl=https%3A%2F%2Fwww.investors.com%2Fresearch%2Fnvda-stock-is-nvidia-a-buy-2%2F&linkname=Nvidia%20Eyes%20All-Time%20High%20Amid%20Rebound%2C%20AI%20Demand%3B%20Is%20Nvidia%20A%20Buy%20Now%3F \"LinkedIn\")[![Share](/wp-content/themes/ibd/dist/images/share-icons/email.png)](https://www.addtoany.com/share) [Licensing](https://www.ibdlicensing.com)\\n\\n* [VIDYA RAMAKRISHNAN](https://www.investors.com/author/ramakrishnanv/ \"Posts by VIDYA RAMAKRISHNAN\")\\n* 09:57 AM ET 09/27/2024\\n\\nWhen a stock pulls back, it is [best not to panic](https://www.investors.com/how-to-invest/how-to-invest-in-stocks-investing-for-beginners/). **Nvidia** ([NVDA](https://research.investors.com/quote.aspx?symbol=NVDA))\\xa0traded slightly lower early Friday after a strong rebound earlier this week. That is normal action. [Volume](https://www.investors.com/how-to-invest/investors-corner/stock-chart-analysis-study-volume-in-bases/) was lighter and suggested that the stock is just taking a breather after its recent run.\\n\\n↑\\nX\\n\\n[How Nvidia Is Injecting AI Into The Health Care Industry](https://www.investors.com/ibd-videos/videos/nvidia-injecting-ai-health-care-industry)\\n\\n[See All Videos](https://www.investors.com/ibd-videos)\\n\\nNOW PLAYING\\nHow Nvidia Is Injecting AI Into The Health Care Industry\\n\\nNvidia stock has cleared multiple [trendline](https://www.investors.com/how-to-invest/investors-corner/looking-for-an-earlier-entry-in-a-stock-learn-how-to-do-this/?refcode=BBB-04262022-2-B-9:04:2022:2Q:NewsLetter:Email:BBB-04262022:na:na:na:na:26:10:2:B:9&j=1566189&sfmc_sub=172274927&l=222_HTML&u=20328680&mid=100016628&jb=1) entries this week. In just over one week, the stock has gone from being 3% below to 6% above its [50\\\\-day moving average.](https://www.investors.com/how-to-invest/investors-corner/what-is-the-50-day-moving-average-when-to-buy-or-sell-growth-stocks/)\\n\\nShares are just 13% below their split\\\\-adjusted all\\\\-time high of 140\\\\.76 after a weekly gain of 7% as of Thursday\\'s closing price.\\n\\nNvidia stock has also rejoined the $3 trillion market cap club after memory chip maker **Micron** ([MU](https://research.investors.com/quote.aspx?symbol=MU)) reported results and cited robust AI demand. The news boosted the chip sector.\\n\\nBut should you be [buying Nvidia stock now](https://www.investors.com/ibd-university/how-to-buy/common-patterns-1/)?\\n\\n [Timing your stock purchases](https://www.investors.com/how-to-invest/investors-corner/stock-market-investing-ibd-methodology/) can surely improve gains. Yet even with an obvious market leader like Nvidia, it\\'s not easy to tell whether you should [buy or sell the stock now](https://www.investors.com/how-to-invest/how-to-buy-stocks-using-stock-lists-stock-ratings-stock-screener/). [Chart signals](https://www.investors.com/how-to-invest/how-to-read-stock-charts-understanding-technical-analysis/) and checking [several technical measures](https://www.investors.com/how-to-invest/how-to-buy-stocks-using-stock-lists-stock-ratings-stock-screener/) can help investors assess [whether Nvidia stock is a buy now](https://www.investors.com/how-to-invest/how-to-buy-stocks-using-stock-lists-stock-ratings-stock-screener/).\\n\\nAI\\'s Total Addressable Market\\n-----------------------------\\n\\nOn Wednesday, shares rose after consulting firm Bain said the total addressable market for artificial intelligence hardware and software will grow 40% to 55% for [at least next three years](https://www.marketwatch.com/articles/nvidia-stock-price-ai-chip-demand-95760797?mod=search_headline). Demand for Nvidia\\'s next generation graphic processing units GB200 is expected to reach 3 million in 2026 vs. 1\\\\.5 million for its H100 units in 2023\\\\.\\n\\nShares are recovering from last week\\'s minor fall. According to [Barron\\'s](https://www.barrons.com/articles/nvidia-stock-price-top-performers-d0484c61?siteid=yhoof2), Nvidia last week lost its place as the best performing S\\\\&P 500 stock so far this year. **Vistra** ([VST](https://research.investors.com/quote.aspx?symbol=VST)) had gained 190% year to date as of Monday\\'s closing price, whereas Nvidia was up 135%. Also on Tuesday, analysts at Melius Research gave the stock a price target of 165 with a buy rating as the company ramps up its Blackwell chip production in the fourth quarter.\\n\\nNvidia stock rose Monday after news that China e\\\\-commerce behemoth **Alibaba** ([BABA](https://research.investors.com/quote.aspx?symbol=BABA)) will collaborate with Nvidia to improve autonomous driving technology for Chinese EV manufacturers, several of which are rivals to **Tesla** ([TSLA](https://research.investors.com/quote.aspx?symbol=TSLA)). Alibaba\\'s portfolio of large\\\\-language models are now integrated with Nvidia\\'s drive platform for autonomous vehicles.\\n\\nWhite House Meeting\\n-------------------\\n\\nEarlier this month, shares climbed above the 50\\\\-day moving average amid news that Nvidia and OpenAI chief executive officers, Jensen Huang and Sam Altman, met officials at the White House to discuss AI infrastructure spending. According to [reports](https://www.yahoo.com/news/openai-nvidia-executives-discuss-ai-232621359.html?fr=yhssrp_catchall), **Alphabet** ([GOOGL](https://research.investors.com/quote.aspx?symbol=GOOGL)), **Amazon.com** ([AMZN](https://research.investors.com/quote.aspx?symbol=AMZN)) and **Microsoft** ([MSFT](https://research.investors.com/quote.aspx?symbol=MSFT)) executives were also present. The White House announced an interagency task force to accelerate permissions for setting up data centers.\\n\\nHowever, news that companies may be diversifying and looking for other chips besides Nvidia\\'s likely weighed on Nvidia stock. According to [Barron\\'s](https://www.barrons.com/articles/nvidia-stock-price-buy-sell-d10180d0?siteid=yhoof2), Saudi oil behemoth Aramco is planning on using chips made by a startup Groq to offer \"AI computing power to local companies.\"\\n\\nThe news followed [Huang remarks](https://www.marketwatch.com/story/nvidia-ceo-jensen-huang-addresses-the-big-question-on-investors-minds-3699b564?&mod=article_inline) that the return on investment for artificial intelligence infrastructure plays like Nvidia remained strong since \"infrastructure players like ourselves and all the cloud service providers put the infrastructure in the cloud, so that developers could use these machines to train the models, fine\\\\-tune the models, guardrail the models, and so forth.\"\\n\\nAnalysts at Bernstein said that after its phenomenal growth, sustainability is the main question Nvidia faces, but the \"[time to worry is clearly not now](https://www.marketwatch.com/story/nvidias-stock-set-to-extend-gains-the-time-to-worry-is-clearly-not-now-9425d38d).\"\\n\\nOn Sept. 3, Nvidia fell sharply below the [50\\\\-day moving average](https://www.investors.com/how-to-invest/investors-corner/what-is-the-50-day-moving-average-when-to-buy-or-sell-growth-stocks/) and saw its largest one\\\\-day market cap loss for any U.S. company, according to Dow Jones Markets Data.\\n\\nEarnings From AI Giants\\n-----------------------\\n\\nResults from other AI leaders have influenced the stock. **Oracle** ([ORCL](https://research.investors.com/quote.aspx?symbol=ORCL)) results showed strong demand for AI chips. According to the Chairman and Chief Technology Officer Larry Ellison, Oracle is building a data center with \"[acres of Nvidia GPU clusters for training large language scale AI models](https://www.investors.com/news/technology/oracle-stock-orcl-q1-report-cloudworld-ai-cloud/).\"\\n\\nEarlier, results from**Broadcom** ([AVGO](https://research.investors.com/quote.aspx?symbol=AVGO)) weighed on Nvidia stock. Broadcom\\'s [sales and earnings beat estimates](https://www.investors.com/news/technology/avgo-stock-broadcom-earnings-fiscal-q3-2024/) but its sales outlook disappointed. Broadcom\\'s outlook has implications for demand for AI chips.\\n\\n\\xa0Shares also came under pressure amid news that the Department of Justice was investigating antitrust regulations concerning the artificial intelligence chip company.\\xa0According to reports, [the DOJ originally sent questionnaires to the company](https://www.reuters.com/legal/nvidia-hit-with-subpoena-us-justice-department-bloomberg-news-reports-2024-09-03/). But it has now sent subpoenas.\\n\\nShares fell 6\\\\.4% after earnings on Aug. 28 even though Nvidia beat analyst estimates.\\n\\nNvidia\\'s Second\\\\-Quarter Results\\n--------------------------------\\n\\nIn August, Nvidia reported earnings that beat Wall Street views. Sales of $30\\\\.04 billion were higher than $28\\\\.7 billion analysts expected and came in 122% ahead of the year\\\\-earlier quarter. Earnings also came in above views of 65 cents at 68 cents per share and were 152% higher than the prior year. The artificial intelligence chip leader also guided higher for the current quarter with [sales of $32\\\\.5 billion vs. views of $31\\\\.7 billion](https://www.investors.com/news/technology/nvidia-stock-fiscal-q2-2025-earnings-nvda-stock/).\\n\\nEarnings have moved Nvidia stock in 2023 and 2024 and that is shining proof of why [fundamental performance](https://www.investors.com/how-to-invest/investors-corner/stock-market-investing-ibd-methodology/) is one of the pillars of the Investor\\'s Business Daily methodology. In 2023, Nvidia had a huge 239% run.\\n\\nAfter losing 5\\\\.3% in July, the stock gained 2% in August. It is trading 4% higher so far this month and is up\\xa0 150% so far this year.\\n\\nFundamentals make up just one of four IBD pillars of investing — the others are a stock\\'s technical strength, which indicates the stock\\'s performance vs. other stocks, the [market direction](https://www.investors.com/news/stock-market-today-stock-market-news/)', 1, 2)</details></pre></div><div class='basic-renderer-box observation'><h4 class='step-header'>[7] Observation: ToolResult</h4><pre class='step-text'>tool_call_id: call_tSXwVXXt8mKkQyz647tX9FD9\n",
       "kind: tool\n",
       "\n",
       "<details><summary>12762 characters ...</summary>('Title: Nvidia\\'s stock chart shows how bulls are using the recent pause to get refreshed | Morningstar\\n=======================\\nMorningstar brands and products\\n\\n Company\\n\\n     [![Morningstar](/assets/img/morningstar.d826858.svg)](/)\\n\\n      * [Portfolio](/tools/portfolio)\\n* Tools\\n * Sections\\n* Markets\\n* [Funds](/funds)\\n* [ETFs](/topics/etfs)\\n* [Stocks](/stocks)\\n* [Bonds](/bonds)\\n * Investing Ideas\\n\\n     * [Home](/)\\n * Tools\\n\\t+ [Portfolio](/tools/portfolio)\\n\\t+ [Watchlists](/tools/watchlists)\\n\\t+ [Screener](/tools/screener)\\n\\t+ [Chart](/tools/chart)\\n\\t+ [Rating Changes](/tools/rating-changes)\\n * Sections\\n* Markets\\n* [Funds](/funds)\\n* [ETFs](/topics/etfs)\\n* [Stocks](/stocks)\\n* [Bonds](/bonds)\\n * Investing Ideas\\n * [Help](/help-center)\\n* [What’s New](/whats-new)\\n * Products for Investors\\n* [All Products and Services](/business)\\n       [MarketWatch](/news/marketwatch)  Nvidia\\'s stock chart shows how bulls are using the recent pause to get refreshed\\n================================================================================\\n\\n ![](/assets/img/marketwatch.dad5abb.png)\\n Provided by\\n Dow Jones  Sep 27, 2024 5:52pm\\n By Tomi Kilgore\\n\\n Stock is building a multi\\\\-month \\'pennant\\' chart pattern, which often lead to continuations of previous trend\\n\\n Nvidia Corp.\\'s stock has been in a holding pattern the past few months, leading some on Wall Street to wonder if the nearly two\\\\-year\\\\-long torrid rally, fueled by the artificial intelligence boom, has ended.\\n\\n But bulls don\\'t need to worry just yet, and may even have reason to feel cheerful. Because that holding pattern is looking a lot like a \"pennant,\" which many Wall Street chart watchers see as a sign suggesting the previous uptrend will eventually reassert itself.\\n\\n Nvidia\\'s stock (NVDA) fell 3% in afternoon trading, to pull back from a three\\\\-month\\\\-long descending trendline. It was essentially trading where it was in early June.\\n\\n The semiconductor maker and AI play\\'s stock has lost 11\\\\.2% since it closed at a record $135\\\\.58 on June 18, at which time it had posted a year\\\\-to\\\\-date gain of 173\\\\.8%. But the stock has also rallied 21\\\\.7% since it closed at a 21/2 \\\\-month low of $98\\\\.91 on Aug. 7, and has been following an ascending trendline for the past several months.\\n\\n The chart below, is what a pennant continuation pattern looks like:\\n\\n Like BTIG technical analyst Jonathan Krinsky said, while the stock\\'s gains this week was \"rejected\" at the downtrend line, the recent trading pattern looks like \"the pause that refreshes.\"\\n\\n So while there could still be some volatility in the stock, while the trending resistance and support lines continue to converge, pennants tend to be resolved in the direction of the previous trend, which was up.\\n\\n The support line currently extends to about $104\\\\.75, while the resistance line would extend to about $125\\\\.80 on Monday.\\n\\n Don\\'t miss: Nvidia investors don\\'t need to worry \\\\- unless the stock falls below these prices.\\n\\n Also read: Nvidia investors just got a $1 trillion reason to be even more bullish.\\n\\n What happens after the uptrend resumes is up for some debate, as there are different ways to calculate a \"measured move\" continuation.\\n\\n Some will take the widest part of the pennant, then add it to the breakout point to get an upside target. For Nvidia, that would mean the $46\\\\.83 rally from the May 9 closing low to the record high would be added to the point where the stock crosses above the top of the pennant.\\n\\n If the breakout occurs on Monday, then the measured move target would be around $172\\\\.63, or about 43% above current levels.\\n\\n Others see the pennant as sitting in the middle of a rally, so they will take the length of the \"flagpole,\" or the entire rally, and add that to the breakout point.\\n\\n For Nvidia, the current flagpole is about $88 tall. So a breakout on Monday would target about $213\\\\.80, or 77% above current levels.\\n\\n Of course, a break of the support line could lead to a full retracement, which is about 60% below current levels.\\n\\n A check of history shows that the late 2018 downtrend that followed a three\\\\-year rally took the stock down 56%, and the late\\\\-2021 to late\\\\-2022 downtrend that also followed a three\\\\-year rally saw the stock lose 66%.\\n\\n The current rally has only lasted two years.\\n\\n \\\\-Tomi Kilgore\\n\\n This content was created by MarketWatch, which is operated by Dow Jones \\\\& Co. MarketWatch is published independently from Dow Jones Newswires and The Wall Street Journal.\\n\\n```\\n\\n```\\n\\n (END) Dow Jones Newswires\\n\\n 09\\\\-27\\\\-24 1352ET\\n\\nCopyright (c) 2024 Dow Jones \\\\& Company, Inc.  Market Updates\\n--------------\\n\\n  [More Market Updates](/markets) * [What’s the Difference Between the CPI and PCE Indexes?\\n------------------------------------------------------\\n\\n    Sarah Hansen Apr 23, 2024](/markets/whats-difference-between-cpi-pce)\\n* [Micron Earnings: Great Guidance but Stock Now Looks Fairly Valued\\n-----------------------------------------------------------------\\n\\n    William Kerwin, CFA Sep 26, 2024](/markets/micron-earnings-great-guidance-stock-now-looks-fairly-valued)\\n* [August PCE Report Forecasts Show More Good News on Inflation\\n------------------------------------------------------------\\n\\n    Frank Lee Sep 25, 2024](/markets/august-pce-report-forecasts-show-more-good-news-inflation)\\n* [AI Stocks May Be Down, but Don’t Count Them Out\\n-----------------------------------------------\\n\\n    Bella Albrecht Sep 23, 2024](/markets/ai-stocks-may-be-down-dont-count-them-out)\\n* [4 Stocks to Buy as the Fed Cuts Interest Rates\\n----------------------------------------------\\n\\n    David Sekera, CFA Sep 23, 2024](/markets/4-stocks-buy-fed-cuts-interest-rates)\\n* [Markets Brief: The Uncertain Path to Neutral Interest Rates\\n-----------------------------------------------------------\\n\\n    Dan Kemp Sep 18, 2024](/markets/markets-brief-uncertain-path-neutral-rates)\\n* [What’s Happening in the Markets This Week\\n-----------------------------------------\\n\\n    Frank Lee Jul 20, 2023](/markets/weekly-markets-planner-economics-calendar-corporate-stock-earnings-more)\\n* [Where Top Stock Fund Managers Are Looking Next After the Fed Rate Cut\\n---------------------------------------------------------------------\\n\\n    Gabe Alpert Sep 20, 2024](/markets/where-top-stock-fund-managers-are-looking-next-after-fed-rate-cut)\\n   Stock Picks\\n-----------\\n\\n  [More Stock Picks](/stocks) * [Our Top Pick for Investing in US Renewable Energy\\n-------------------------------------------------\\n\\n    Brett Castelli Mar 25, 2024](/stocks/investment-opportunities-us-renewable-energy)\\n* [How to Measure a Stock’s Uncertainty\\n------------------------------------\\n\\n    Emelia Fredlick Sep 26, 2024](/stocks/how-measure-stocks-uncertainty)\\n* [How to Determine Whether a Stock Is Cheap, Expensive, or Fairly Valued\\n----------------------------------------------------------------------\\n\\n    Emelia Fredlick Sep 25, 2024](/stocks/how-determine-whether-stock-is-cheap-expensive-or-fairly-valued)\\n* [Why a Company’s Management and Capital Allocation Matter\\n--------------------------------------------------------\\n\\n    Emelia Fredlick Sep 25, 2024](/stocks/why-companys-management-capital-allocation-matter)\\n* [How to Determine What a Stock Is Worth\\n--------------------------------------\\n\\n    Susan Dziubinski Sep 25, 2024](/stocks/how-determine-what-stock-is-worth)\\n* [How to Measure a Company’s Competitive Advantage\\n------------------------------------------------\\n\\n    Emelia Fredlick Sep 24, 2024](/stocks/how-measure-companys-competitive-advantage)\\n* [How to Think Like a Stock Analyst\\n---------------------------------\\n\\n    Emelia Fredlick Sep 24, 2024](/stocks/how-think-like-stock-analyst)\\n* [How GLP\\\\-1 Drugs Like Ozempic Are Boosting Biopharma Stocks\\n-----------------------------------------------------------\\n\\n    Karen Andersen, CFA Sep 24, 2024](/stocks/how-glp-1-drugs-like-ozempic-are-boosting-biopharma-stocks-2)\\n        Sponsor Center\\n--------------\\n\\n          ![](https://images.contentstack.io/v3/assets/blt4eb669caa7dc65b2/blt39ce1d6a5e7be3d0/60809fdf6371c75a11ada75c/transparency.svg)\\n Transparency is our policy. Learn how it impacts everything we do\\n\\n Read More\\n\\n Transparency is how we protect the integrity of our work and keep\\n empowering investors to achieve their goals and dreams. And we have\\n unwavering standards for how we keep that integrity intact, from our\\n research and data to our policies on content and your personal data.\\n\\n We’d like to share more about how we work and what drives our day\\\\-to\\\\-day business.\\n\\n  ![](https://images.contentstack.io/v3/assets/blt4eb669caa7dc65b2/blt3bce7cffbeb60a42/60809fdf26fd84453c018424/make-money.svg) ### How we make money\\n\\n We sell different types of products and services to both investment professionals\\n and individual investors. These products and services are usually sold through\\n license agreements or subscriptions. Our investment management business generates\\n asset\\\\-based fees, which are calculated as a percentage of assets under management.\\n We also sell both admissions and sponsorship packages for our investment conferences\\n and advertising on our websites and newsletters.\\n\\n   ![](https://images.contentstack.io/v3/assets/blt4eb669caa7dc65b2/blt218bb7805fb32c9a/60809fdfb35a7a3c69a379ff/personal-data.svg) ### How we use your personal data\\n\\n How we use your information depends on the product and service that you use and your relationship with us. We may use it to:\\n\\n * Verify your identity, personalize the content you receive, or create and administer your account.\\n* Provide specific products and services to you, such as portfolio management or data aggregation.\\n* Develop and improve features of our offerings.\\n* Gear advertisements and other marketing efforts towards your interests.\\n\\n To learn more about how we handle and protect your data, visit our [privacy center](/company/privacy-center).\\n\\n  ![](https://images.contentstack.io/v3/assets/blt4eb669caa7dc65b2/blta8bf8e458b569f88/60809fdf03ce953dac756a01/editorial-content.svg) ### How we approach editorial content\\n\\n Maintaining independence and editorial freedom is essential to our mission of\\n empowering investor success. We provide a platform for our authors to report on\\n investments fairly, accurately, and from the investor’s point of view. We also\\n respect individual opinions––they represent the unvarnished thinking of our people\\n and exacting analysis of our research processes. Our authors can publish views that\\n we may or may not agree with, but they show their work, distinguish facts from\\n opinions, and make sure their analysis is clear and in no way misleading or deceptive.\\n\\n To further protect the integrity of our editorial content, we keep a strict separation\\n between our sales teams and authors to remove any pressure or influence on our analyses\\n and research.\\n\\n Read our [editorial policy](/editorial-policy) to learn more about our process.\\n\\n       Site Index [![Morningstar](/assets/img/morningstar-70px.0ea2b33.svg)](/)       ##### What We Do\\n\\n* [All Products \\\\& Services](/products)\\n* [Our Signature Methodologies](/research/signature)\\n* [Morningstar Investment Conference](/events/mic)\\n ##### Company\\n\\n* [About Us](/company/about-us)\\n* [Careers](/careers)\\n* [Diversity, Equity, \\\\& Inclusion](/company/diversity)\\n* [Corporate Sustainability](/company/corporate-sustainability)\\n* [Newsroom](https://newsroom.morningstar.com)\\n* [Investor Relations](https://shareholders.morningstar.com)\\n ##### Get Help\\n\\n* [Advertising Opportunities](/company/media-kit)\\n* [Feedback](#)\\n* [Reprints](mailto:reprints@morningstar.com)\\n* [Global Contacts](/company/global-contacts)\\n* [Affiliate Program](/products/investor-affiliate-program)\\n\\n---\\n\\n [![United States Flag](/assets/img/us_flag_20x20.34273bf.svg)\\n United States](/company/location)\\n © Copyright 2024 Morningstar, Inc. All rights reserved.\\n Dow Jones Industrial Average, S\\\\&P 500, Nasdaq, and Morningstar Index (Market Barometer) quotes are real\\\\-time.\\n\\n * [Terms and Conditions](https://www.morningstar.com/company/terms-and-conditions)\\n* [Privacy Center](https://www.morningstar.com/company/privacy-center)\\n* [Disclosures](https://www.morningstar.com/company/disclosures)\\n* [Member User Agreement](/user-agreement)\\n* [Corrections](https://www.morningstar.com/corrections)\\n* [Do Not Sell or Share My Personal Information](https://www.morningstar.com/company/privacy-policy/california#resident-rights)\\n* [Accessibility](https://www.morningstar.com/company/accessibility)', 1, 1)</details></pre></div><div class='basic-renderer-box observation'><h4 class='step-header'>[8] Observation: ToolResult</h4><pre class='step-text'>tool_call_id: call_IQs92nhMwXLwUhq9SFNTS285\n",
       "kind: tool\n",
       "\n",
       "<details><summary>13483 characters ...</summary>('Title: Nvidia Stock Price at 52-Week Low After US Restricts Sales to China - GlobalData\\n=======================\\n[![vertical_menu_area_bottom_logo](https://assets.globaldata.com/gdcom/assets/img/logo/gd_blue-3-1-1.webp)](/)\\n\\n* [Visit Corporate Site](/)\\n\\n[Sign in](https://login.globaldata.com/login/index/gdcom?returnUrl=/data-insights/technology--media-and-telecom/nvidia-stock-price-at-52-week-low-after-us-restricts-sales-to-china/)\\n\\nSearch\\n\\nMenu\\n\\n* [Sign In](https://login.globaldata.com/login/index/gdcom?returnUrl=/data-insights/technology--media-and-telecom/nvidia-stock-price-at-52-week-low-after-us-restricts-sales-to-china/)\\n* [Home](/data/)\\n\\n* [Data \\\\& Insights](/data-insights/)\\n\\t+ Data \\\\& Insights\\n\\t----------------\\n\\n\\t[View all Data \\\\& Insights](/data-insights/listing/search/)\\n\\t[Advanced Search](/data-insights/listing/search?IsExpandRefine=1)\\n\\n\\t### Insight by Sector\\n\\n\\t\\t- [Aerospace \\\\& Defense](/data-insights/aerospace-and-defence/)\\n\\t\\t- [Automotive](/data-insights/automotive/)\\n\\t\\t- [Agriculture \\\\& Forestry](/data-insights/agriculture-forestry/)\\n\\t\\t- [Business \\\\& Consumer Services](/data-insights/business-and-consumer-services/)\\n\\t\\t- [Construction](/data-insights/construction/)\\n\\t\\t- [Chemicals](/data-insights/chemicals/)\\n\\t\\t- [Consumer](/data-insights/consumer/)\\n\\t\\t- [Foodservice](/data-insights/foodservice/)\\n\\t\\t- [Financial Services](/data-insights/financial-services/)\\n\\t\\t- [Government \\\\& Non\\\\-profit Organisations](/data-insights/government-and-non-profit-organisations/)\\n\\t\\t- [Healthcare](/data-insights/healthcare/)\\n\\t\\t- [Industrial Goods \\\\& Machinery](/data-insights/industrial-goods-machinery/)\\n\\t\\t- [Mining](/data-insights/mining/)\\n\\t\\t- [Packaging](/data-insights/packaging/)\\n\\t\\t- [Oil \\\\& Gas](/data-insights/oil-gas/)\\n\\t\\t- [Power \\\\& Utilities](/data-insights/power-utilities/)\\n\\t\\t- [Retail \\\\& Wholesale](/data-insights/retail-wholesale/)\\n\\t\\t- [Real Estate](/data-insights/real-estate/)\\n\\t\\t- [Sports](/data-insights/sport/)\\n\\t\\t- [Transportation, Infrastructure \\\\& Logistics](/data-insights/transportation-infrastructure-and-logistics/)\\n\\t\\t- [Technology, Media \\\\& Telecom](/data-insights/technology-media-and-telecom/)\\n\\t\\t- [Travel \\\\& Tourism](/data-insights/travel-and-tourism/)\\n\\n\\t### Insight Type\\n\\n\\t\\t- [Company Performance](/data-insights/companyperformance/)\\n\\t\\t- [Macro economic](/data-insights/macroeconomic/)\\n\\t\\t- [Other Industry Indicators](/data-insights/other/)\\n\\t\\t- [Market Sizing \\\\& Shares](/data-insights/marketsizingshares/)\\n\\t\\t- [Product Indicators](/data-insights/productindicators/)\\n\\t\\t- [Thematic Indicators](/data-insights/thematicindicators/)\\n\\t\\t- [ESG](/data-insights/esg/)\\n* [Themes](/themes/)\\n\\t+ Themes\\n\\t------\\n\\n\\t[View all Themes](/themes/)\\n\\n\\t### Key Themes\\n\\n\\t\\t- [Artificial Intelligence](/themes/artificial-intelligence/)\\n\\t\\t- [Cloud](/themes/cloud/)\\n\\t\\t- [COVID\\\\-19](/themes/covid-19/)\\n\\t\\t- [Cybersecurity](/themes/cybersecurity/)\\n\\t\\t- [ESG \\\\- Environment](/esg/environment/overview)\\n\\n\\t\\t- [ESG \\\\- Governance](/esg/governance/overview)\\n\\t\\t- [ESG \\\\- Social](/esg/social/overview)\\n\\t\\t- [Internet of Things](/themes/internet-of-things/)\\n\\t\\t- [Robotics](/themes/robotics/)\\n\\n\\t What will the world look like in 2030?\\n\\t Anticipate the challenges and opportunities disrupting your industry.\\n\\n\\t[View Report](https://www.globaldata.com/store/report/tech-in-2030-theme-analysis/?utm_source=Advertisement&utm_medium=Display&utm_campaign=GD_RS_Advertisement_Tech_in_2030_Report_GDwebsite)\\n* [ESG](/esg/overview)\\n\\t+ ### ESG Factors\\n\\n\\t[ESG Overview](/esg/overview)\\n\\t[Environment](/esg/environment/overview)\\n\\t[Social](/esg/social/overview)\\n\\t[Governance](/esg/governance/overview)\\n\\n\\t##### ESG Trending Topics\\n\\n\\t\\t- [Electric Vehicles](/esg/impactinvestingstrategies/electric-vehicles)\\n\\t\\t- [Solar](/esg/impactinvestingstrategies/solar)\\n\\t\\t- [Food and Agritech](/esg/impactinvestingstrategies/food-and-agri-tech)\\n\\t\\t- [Hydrogen](/esg/impactinvestingstrategies/hydrogen)\\n\\t\\t- [Circular Plastic Economy](/esg/impactinvestingstrategies/circular-plastic-economy)\\n\\t\\t- [Edtech](/esg/impactinvestingstrategies/edtech)\\n\\t\\t- [Sustainable Healthcare](/esg/impactinvestingstrategies/sustainable-healthcare)\\n\\t\\t- [Microfinance](/esg/impactinvestingstrategies/microfinance)\\n\\t\\t- [Cybersecurity](/esg/impactinvestingstrategies/cybersecurity)\\n\\t\\t- [Risk Management](/esg/impactinvestingstrategies/risk-management)\\n\\n\\t##### Other Resources\\n\\n\\t\\t- [Signals](/esg/environment/socialmedia/signals)\\n\\t\\t- [Company Key Lists](/esg/companies)\\n\\t\\t- [Regulations](/esg/regulations)\\n\\t\\t- [Surveys and Polls](/esg/surveysandpolls)\\n\\n* Search\\n* [Media](https://www.globaldata.com/media/)\\n* [Investors](https://investors.globaldata.com/)\\n* [Careers](https://www.globaldata.com/careers/)\\n* [Contact Us](https://www.globaldata.com/contact-us/)\\n* [Request a Demo](https://www.globaldata.com/request-a-demo/)\\n\\nSearch our premium data\\n-----------------------\\n\\n×\\n\\n4 views left\\n[Get unlimited views with a free account](/account/register/)\\n\\nSubscribe to GlobalData Explorer\\n\\n Get a 360 degree view on a company powered by live data from the GlobalData Intelligence Center.\\n\\n[Explore Company Solutions](https://www.globaldata.com/companies/)\\n\\n* [Home](/data/)\\n* [Data \\\\& Insights](/data-insights/listing/search/)\\n* Current:  Other Industry Indicators\\n\\nNvidia Stock Price at 52\\\\-Week Low After US Restricts Sales to China\\n====================================================================\\n\\nShare\\n\\n* Share on Twitter\\n* Share on LinkedIn\\n\\n* Industry: Software\\n* Current: Other Industry Indicators\\n\\n* *The share price of Nvidia hit a 52\\\\-week low after the US restricted sales to China*\\n* *In 2022, China accounted for over 27% of the total sales*\\n* *Companies would be required to obtain a license from the US government before selling certain cutting\\\\-edge chips to China and Russia*\\n\\nThe stock price of [Nvidia](https://www.globaldata.com/company-profile/nvidia-corp/), one of the largest chipmakers in the US, fell to a 52\\\\-week low after the US imposed new restrictions on the export of the company’s artificial intelligence (AI) chips to China and Russia. [Advanced Micro Devices Inc.](https://www.globaldata.com/company-profile/advanced-micro-devices-inc/), another major chipmaker in the US, was also notified of the new licensing requirement, preventing it from exporting an advanced chip aimed at the AI and high\\\\-performance computing markets. However, AMD said that it does not expect a major impact on its business.\\n\\n**About the Restrictions**\\n\\nThe companies would be required to obtain a license from the US government before selling certain cutting\\\\-edge chips to China and Russia. The restrictions cover Nvidia’s A100 and the coming H100 integrated chips, which are expected to speed up machine learning tasks and any systems that include them. The new restrictions will address the potential risk that the technology/product could be used in, or diverted to, military end use or military end user in China and Russia.\\n\\n**Impact on Chipmakers**\\n\\nThe new restrictions could affect the earnings of the US chip manufacturers such as Nvidia and AMD as both companies have a large exposure to China and this move could result in a major impact in the future, especially if China chooses to retaliate. According to Nvidia, the company could lose as much as $400 million in quarterly sales after the US imposed new licensing requirements on shipments of some of its most advanced chips to China. The new licensing requirements come at a challenging time for chipmakers when demand for personal computers, video games, and smartphones, along with other electronic gadgets, decreased as a result of [high inflation and a bleak economic outlook](https://www.globaldata.com/data-insights/macroeconomic/recession-looms-large-over-the-us-amid-high-inflation/) that continues to affect the consumers’ capacity to spend.\\n\\n**Increasing Tensions Between the US and China**\\n\\nThis is not the first time the US cut the supply of semiconductors to companies in China. In 2020, the US restricted manufacturers from selling chips made using US technology to tech giant Huawei without a special license. Export restrictions by the US hindered the growth of major Chinese chip manufacturers, including Semiconductor Manufacturing International Corp, the largest chipmaker in the country. Without American processors from companies such as Nvidia and AMD, it could be challenging for Chinese companies to efficiently do the complex computation necessary for image and voice recognition, among other jobs.\\n\\n Get a 360 degree view on a company powered by live data from the GlobalData Intelligence Center.\\n\\n Get a 360 degree view on a company powered by live data from the GlobalData Intelligence Center.\\n\\n[Explore Company Solutions](https://www.globaldata.com/companies/)\\n\\n### Related Data \\\\& Insights\\n\\n[Workday: Gross Value of Intangible Assets (FY2018 – FY2022, $ Million)](/data-insights/technology-media-and-telecom/workday-gross-value-of-intangible-assets/)\\n\\n[United States of America](/data-insights/listing/search?location=100244)\\n\\n[New Relic: Gross Value of Intangible Assets (FY2018 – FY2022, $ Million)](/data-insights/technology-media-and-telecom/new-relic-gross-value-of-intangible-assets/)\\n\\n[United States of America](/data-insights/listing/search?location=100244)\\n\\n[Splunk Inc: Gross Value of Intangible Assets (FY2018 – FY2022, $ Million)](/data-insights/technology-media-and-telecom/splunk-inc-gross-value-of-intangible-assets/)\\n\\n[United States of America](/data-insights/listing/search?location=100244)\\n\\n[Paylocity Holding Corp: Gross Value of Intangible Assets (FY2018 – FY2022, $ Million)](/data-insights/technology-media-and-telecom/paylocity-holding-corp-gross-value-of-intangible-assets/)\\n\\n[United States of America](/data-insights/listing/search?location=100244)\\n\\n[ACI Worldwide: Gross Value of Intangible Assets (FY2017 – FY2021, $ Million)](/data-insights/technology-media-and-telecom/aci-worldwide-gross-value-of-intangible-assets/)\\n\\n[United States of America](/data-insights/listing/search?location=100244)\\n\\n[NVIDIA: Workforce Diversity and Inclusion in 2022](/data-insights/technology-media-and-telecom/nvidia-workforce-diversity-and-inclusion-2091182/)\\n\\n[United States of America](/data-insights/listing/search?location=100244)\\n\\n### Related Companies\\n\\n [Apple Inc](/company-profile/apple-inc/)\\n\\nUnited States of America\\n\\n[![Apple Inc](/Uploads/Company/1439305/logo.jpg)](/company-profile/apple-inc/)\\n\\n [Google LLC](/company-profile/google-llc/)\\n\\nUnited States of America\\n\\n[![Google LLC](/Uploads/Company/2633703/Google.jpg)](/company-profile/google-llc/)\\n\\n [Meta Platforms Inc](/company-profile/facebook-inc/)\\n\\nUnited States of America\\n\\n[![Meta Platforms Inc](/Uploads/Company/1536668/logo.PNG)](/company-profile/facebook-inc/)\\n\\n [Verizon Communications Inc](/company-profile/verizon-communications-inc/)\\n\\nUnited States of America\\n\\n[![Verizon Communications Inc](/Uploads/Company/1533980/logo.png)](/company-profile/verizon-communications-inc/)\\n\\n [AT\\\\&T Inc](/company-profile/att-inc/)\\n\\nUnited States of America\\n\\n[![AT&T Inc](/Uploads/Company/1105645/logo.jpg)](/company-profile/att-inc/)\\n\\n [Huawei Investment \\\\& Holding Co Ltd](/company-profile/huawei-investment-holding-co-ltd/)\\n\\nChina\\n\\n[![Huawei Investment & Holding Co Ltd](/Uploads/Company/1022609/1022609.jpeg)](/company-profile/huawei-investment-holding-co-ltd/)\\n\\n [Amazon Web Services Inc](/company-profile/amazon-web-services-inc/)\\n\\nUnited States of America\\n\\n[![Amazon Web Services Inc](/Uploads/Company/2580644/2580644.JPG)](/company-profile/amazon-web-services-inc/)\\n\\n [Sony Group Corp](/company-profile/sony-corp/)\\n\\nJapan\\n\\n[![Sony Group Corp](/Uploads/Company/1677320/Sony.PNG)](/company-profile/sony-corp/)\\n\\n [Tencent Holdings Ltd](/company-profile/tencent-holdings-ltd/)\\n\\nChina\\n\\n[![Tencent Holdings Ltd](/Uploads/Company/1684916/Tencent.PNG)](/company-profile/tencent-holdings-ltd/)\\n\\n [Hitachi Ltd](/company-profile/hitachi-ltd/)\\n\\nJapan\\n\\n[![Hitachi Ltd](/Uploads/Company/1507484/logo.jpg)](/company-profile/hitachi-ltd/)\\n\\nStill looking?\\n\\nDon’t wait \\\\- discover a universe of connected data \\\\& insights with your next search. Browse over 28M data points across 22 industries.\\n\\n[Click here](/data-insights/listing/search/)\\nContinue on page\\n\\n×\\n\\nExplorer\\n\\nAccess more premium companies when you subscribe to Explorer\\n\\n[Find out more](/industries-we-cover/globaldata-explorer/)\\n[Close](javascript:void(0))\\n\\n×\\n\\n![vertical_menu_area_bottom_logo](https://assets.globaldata.com/gdcom/assets/img/logo/gd_blue-3-1-1.webp)\\n\\n---\\n\\n* [Hot Topics](https://hot-topics.globaldata.com/)\\n* [Terms \\\\& Conditions](https://www.globaldata.com/terms-conditions/)\\n* [Privacy Policy](https://www.globaldata.com/privacy-policy/)\\n* [Contact Us](https://www.globaldata.com/contact-us/)\\n* [Sitemap](https://www.globaldata.com/sitemap/)\\n* [Modern Slavery Statement](https://www.globaldata.com/wp-content/uploads/2021/03/FY2122-Modern-Slavery-FINAL.pdf)\\n\\n---\\n\\n[Top of page](#pg-top)\\n\\n© GlobalData Plc 2024 \\\\| Registered Office: John Carpenter House, John Carpenter Street, London, EC4Y 0AN, UK \\\\| Registered in England No. 03925319', 1, 1)</details></pre></div><div class='basic-renderer-box respond'><h4 class='step-header'>[9] search_agent responds to Agent</h4><pre class='step-text'>kind: respond\n",
       "copy_output: false\n",
       "\n",
       "<details><summary>1614 characters ...</summary>In late 2022, several factors influenced Nvidia's stock price:\n",
       "\n",
       "1. **Declining Sales and Earnings**: Nvidia reported three quarters of declining year-over-year sales and four quarters of tapering earnings in late 2022 and early 2023. This negatively impacted investor sentiment and the stock price.\n",
       "\n",
       "2. **US-China Trade Restrictions**: The US government imposed new restrictions on the export of Nvidia's advanced AI chips to China and Russia. This move required Nvidia to obtain a license before selling certain cutting-edge chips, which significantly impacted its sales. China accounted for over 27% of Nvidia's total sales in 2022, and the restrictions led to a 52-week low in Nvidia's stock price.\n",
       "\n",
       "3. **Market Trends and Technical Patterns**: Nvidia's stock was in a holding pattern, forming a \"pennant\" chart pattern, which often leads to continuations of the previous trend. Despite some volatility, the stock was expected to resume its uptrend, influenced by the broader market trends and technical analysis.\n",
       "\n",
       "4. **Economic Conditions**: High inflation and a bleak economic outlook affected consumer spending on personal computers, video games, smartphones, and other electronic gadgets, which in turn impacted Nvidia's sales and stock price.\n",
       "\n",
       "5. **Geopolitical Tensions**: Increasing tensions between the US and China, including previous restrictions on semiconductor sales to Chinese companies like Huawei, added to the uncertainty and negatively affected Nvidia's stock.\n",
       "\n",
       "These factors combined to create a challenging environment for Nvidia, leading to fluctuations in its stock price during late 2022.</details></pre></div>"
      ],
      "text/plain": [
       "<IPython.core.display.HTML object>"
      ]
     },
     "execution_count": 25,
     "metadata": {},
     "output_type": "execute_result"
    }
   ],
   "source": [
    "from tapeagents.core import Respond\n",
    "from tapeagents.prompting import view_to_messages\n",
    "\n",
    "search_system_instruction = f\"\"\"Use at most 5 tool calls to search the request info on on the web.\"\"\"\n",
    "search_system_message = {\"role\": \"system\", \"content\": search_system_instruction}\n",
    "\n",
    "\n",
    "class SearchAgentMainNode(Node):\n",
    "    def make_prompt(self, agent, tape: DialogTape) -> Prompt:\n",
    "        view = agent.compute_view(tape)\n",
    "        return Prompt(messages=view_to_messages(view.top, agent), tools=search_agent_env.get_tool_schema_dicts())\n",
    "\n",
    "    def generate_steps(self, agent, tape, llm_stream: LLMStream):\n",
    "        m = llm_stream.get_message()\n",
    "        if m.content:\n",
    "            # if the LLM responds, yield Respond(..) as your last step\n",
    "            yield Respond(content=m.content)\n",
    "        elif m.tool_calls:\n",
    "            # while the LLM suggests tool calls, yield them as action steps\n",
    "            yield ToolCalls(tool_calls=m.tool_calls)\n",
    "            yield SetNextNode(next_node=0)\n",
    "        else:\n",
    "            raise ValueError()\n",
    "\n",
    "\n",
    "search_agent = Agent.create(\n",
    "    name=\"search_agent\",\n",
    "    llms=LiteLLM(model_name=\"gpt-4o\", parameters={\"temperature\": 0.1}),\n",
    "    nodes=[SearchAgentMainNode()],\n",
    ")\n",
    "# To test the subagent, we'll make a mock root agent that immediately calls \"search_agent\"\n",
    "call_step = Call(agent_name=\"search_agent\", content=\"What influenced Nvidia stock price in late 2022?\")\n",
    "test_root_agent = Agent.create(subagents=[search_agent], nodes=[Node().with_fixed_steps([call_step])])\n",
    "start_tape = DialogTape()\n",
    "final_tape = None\n",
    "for event in main_loop(test_root_agent, start_tape, search_agent_env):\n",
    "    # We need to stop the loop when \"search_agent\" responds,\n",
    "    # otherwise the code will crash because `test_root_agent` only has one node.\n",
    "    if (ae := event.agent_event) and isinstance(ae.step, Respond):\n",
    "        final_tape = ae.partial_tape\n",
    "        break\n",
    "assert final_tape\n",
    "HTML(render_tape_with_prompts(final_tape, PrettyRenderer()))"
   ]
  },
  {
   "cell_type": "markdown",
   "metadata": {},
   "source": [
    "Finally, let's add the search subagent to a financial analyst agent like the ones in earlier examples. We need to give the root agent a way to use the LLM to decide whether to call the search specialist, and if yes, what query to pass to it. We will abuse the tool calling mechanism for this purpose to make the example simpler."
   ]
  },
  {
   "cell_type": "code",
   "execution_count": 26,
   "metadata": {
    "execution": {
     "iopub.execute_input": "2024-09-28T05:59:06.317458Z",
     "iopub.status.busy": "2024-09-28T05:59:06.317284Z",
     "iopub.status.idle": "2024-09-28T05:59:19.926996Z",
     "shell.execute_reply": "2024-09-28T05:59:19.926482Z"
    }
   },
   "outputs": [
    {
     "data": {
      "text/html": [
       "<style>.basic-renderer-box { margin: 4px; padding: 2px; background: lavender; white-space: pre-wrap; color: black;}.basic-prompt-box { margin: 4px; padding: 2px; background: lavender; color: black;}.episode-row { display: flex; align-items: end; }.agent-column { width: 50%; }.user-column { width: 25%; }.annotator-column { width: 25%; }.inner-tape-container { display: flex }.inner-tape-indent { width: 10%; }.inner-tape { width: 90%; }</style><style>.observation { background-color: #baffc9;; }.error_observation { background-color: #dd0000; }.action { background-color: #cccccc; }.thought { background-color: #ffffdb; }.call { background-color: #ffffff; }.respond { background-color: #ffffff; }.step-header { margin: 2pt 2pt 2pt 0 !important; }.step-text { font-size: 12px; white-space: pre-wrap; word-wrap: break-word;}</style><h3>Metadata</h3><details> <summary> Show / Hide </summary> <div class='basic-renderer-box'>author: ''\n",
       "author_tape_id: null\n",
       "error: null\n",
       "id: fff54359-0124-44c8-9bfa-aae7362bdb7a\n",
       "n_added_steps: 3\n",
       "parent_id: e51ec2df-1192-4fcd-8ee5-157a2d906e2f\n",
       "result: null\n",
       "</div> </details><h3>Steps</h3><div class='basic-renderer-box observation'><h4 class='step-header'>[0] User</h4><pre class='step-text'>kind: user\n",
       "\n",
       "Tell me about Vulcan in 3 sentences</pre></div><div class='basic-renderer-box thought'><h4 class='step-header'>[1] Thought: AssistantThought</h4><pre class='step-text'>kind: assistant_thought\n",
       "\n",
       "1. Use the `functions.get_stock_ticker` tool to find the stock ticker symbol for Vulcan.\n",
       "2. Use the `functions.get_stock_data` tool to retrieve the stock price data for Vulcan over the past year, using the stock ticker obtained in step 1.\n",
       "3. Use the `functions.call_search_agent` tool to gather general information about Vulcan, including its business operations and any notable recent events.\n",
       "4. Summarize the stock price changes over the past year and provide the general information about the company in a concise manner.</pre></div><div class='basic-renderer-box thought'><h4 class='step-header'>[2] Thought: SetNextNode</h4><pre class='step-text'>kind: set_next_node\n",
       "next_node: 1\n",
       "</pre></div><div class='basic-renderer-box action'><h4 class='step-header'>[3] Action: ToolCalls</h4><pre class='step-text'>tool_calls:\n",
       "- function:\n",
       "    arguments: '{\"company_name\": \"Vulcan\"}'\n",
       "    name: get_stock_ticker\n",
       "  id: call_HHPuEdeQodwah3GJWIjXKc93\n",
       "  type: function\n",
       "kind: assistant\n",
       "</pre></div><div class='basic-renderer-box observation'><h4 class='step-header'>[4] Observation: ToolResult</h4><pre class='step-text'>tool_call_id: call_HHPuEdeQodwah3GJWIjXKc93\n",
       "kind: tool\n",
       "\n",
       "VMC</pre></div><div class='basic-renderer-box thought'><h4 class='step-header'>[5] Thought: SetNextNode</h4><pre class='step-text'>kind: set_next_node\n",
       "next_node: 1\n",
       "</pre></div><div class='basic-renderer-box action'><h4 class='step-header'>[6] Action: ToolCalls</h4><pre class='step-text'>tool_calls:\n",
       "- function:\n",
       "    arguments: '{\"symbol\": \"VMC\", \"start_date\": \"2023-09-17\", \"end_date\": \"2024-09-17\"}'\n",
       "    name: get_stock_data\n",
       "  id: call_tgIIDANiZNMWeY40VMsBjD4g\n",
       "  type: function\n",
       "kind: assistant\n",
       "</pre></div><div class='basic-renderer-box observation'><h4 class='step-header'>[7] Observation: ToolResult</h4><pre class='step-text'>tool_call_id: call_tgIIDANiZNMWeY40VMsBjD4g\n",
       "kind: tool\n",
       "\n",
       "<details><summary>2195 characters ...</summary>[('2023-09-18', 211.69000244140625), ('2023-09-22', 200.6199951171875), ('2023-09-28', 205.02999877929688), ('2023-10-04', 205.02999877929688), ('2023-10-10', 211.0), ('2023-10-16', 213.0399932861328), ('2023-10-20', 201.5500030517578), ('2023-10-26', 193.97000122070312), ('2023-11-01', 203.8000030517578), ('2023-11-07', 207.2100067138672), ('2023-11-13', 210.49000549316406), ('2023-11-17', 212.35000610351562), ('2023-11-24', 211.67999267578125), ('2023-11-30', 213.55999755859375), ('2023-12-06', 211.92999267578125), ('2023-12-12', 220.89999389648438), ('2023-12-18', 222.6999969482422), ('2023-12-22', 224.92999267578125), ('2023-12-29', 227.00999450683594), ('2024-01-05', 221.6199951171875), ('2024-01-11', 224.36000061035156), ('2024-01-18', 225.1199951171875), ('2024-01-24', 219.8000030517578), ('2024-01-30', 231.0500030517578), ('2024-02-05', 229.64999389648438), ('2024-02-09', 240.0), ('2024-02-15', 242.4600067138672), ('2024-02-22', 256.94000244140625), ('2024-02-28', 262.29998779296875), ('2024-03-05', 264.9800109863281), ('2024-03-11', 264.95001220703125), ('2024-03-15', 266.8599853515625), ('2024-03-21', 275.5899963378906), ('2024-03-27', 272.7900085449219), ('2024-04-03', 268.7699890136719), ('2024-04-09', 265.6199951171875), ('2024-04-15', 260.4700012207031), ('2024-04-19', 252.05999755859375), ('2024-04-25', 258.5400085449219), ('2024-05-01', 259.7300109863281), ('2024-05-07', 268.3500061035156), ('2024-05-13', 270.0899963378906), ('2024-05-17', 259.1000061035156), ('2024-05-23', 257.2099914550781), ('2024-05-30', 254.0800018310547), ('2024-06-05', 251.17999267578125), ('2024-06-11', 244.63999938964844), ('2024-06-17', 256.3500061035156), ('2024-06-24', 247.5800018310547), ('2024-06-28', 248.67999267578125), ('2024-07-05', 244.2100067138672), ('2024-07-11', 254.69000244140625), ('2024-07-17', 255.8000030517578), ('2024-07-23', 260.1499938964844), ('2024-07-29', 264.5299987792969), ('2024-08-02', 266.3399963378906), ('2024-08-08', 246.3300018310547), ('2024-08-14', 242.5), ('2024-08-20', 245.60000610351562), ('2024-08-26', 250.67999267578125), ('2024-08-30', 245.2100067138672), ('2024-09-06', 231.97000122070312), ('2024-09-12', 236.27000427246094)]</details></pre></div><div class='basic-renderer-box thought'><h4 class='step-header'>[8] Thought: SetNextNode</h4><pre class='step-text'>kind: set_next_node\n",
       "next_node: 1\n",
       "</pre></div><div class='basic-renderer-box call'><h4 class='step-header'>[9] analyst calls search_agent</h4><pre class='step-text'>kind: call\n",
       "agent_name: search_agent\n",
       "\n",
       "Vulcan company profile and recent news</pre></div><div class='basic-renderer-box action'><h4 class='step-header'>[10] Action: ToolCalls</h4><pre class='step-text'>tool_calls:\n",
       "- function:\n",
       "    arguments: '{\"query\": \"Vulcan company profile\"}'\n",
       "    name: get_search_results\n",
       "  id: call_XBXEF6ZzCgvZSshG6h0XfhX9\n",
       "  type: function\n",
       "- function:\n",
       "    arguments: '{\"query\": \"Vulcan company recent news\"}'\n",
       "    name: get_search_results\n",
       "  id: call_pm526Z3er0QRh4hOXADunFMP\n",
       "  type: function\n",
       "kind: assistant\n",
       "</pre></div><div class='basic-renderer-box thought'><h4 class='step-header'>[11] Thought: SetNextNode</h4><pre class='step-text'>kind: set_next_node\n",
       "next_node: 0\n",
       "</pre></div><div class='basic-renderer-box observation'><h4 class='step-header'>[12] Observation: ToolResult</h4><pre class='step-text'>tool_call_id: call_XBXEF6ZzCgvZSshG6h0XfhX9\n",
       "kind: tool\n",
       "\n",
       "<details><summary>1408 characters ...</summary>[{'title': 'Vulcan Materials Company (VMC) Company Profile & Facts', 'url': 'https://ca.finance.yahoo.com/quote/VMC/profile/', 'content': 'Vulcan Materials Company, together with its subsidiaries, produces and supplies construction aggregates primarily in the United States. It operates through four\\xa0...'}, {'title': 'Vulcan Materials Co - Company Profile', 'url': 'https://www.globaldata.com/company-profile/vulcan-materials-company/', 'content': 'Vulcan Materials Co (Vulcan) is a manufacturer of construction materials. It sells crushed stone, sand, gravel and aggregates-based building materials. The\\xa0...'}, {'title': 'Corporate Profile', 'url': 'https://www.vulcangroup.com/about-vulcan/corporate-profile/', 'content': 'Vulcan Engineering is the largest in-house engineering, manufacturing, and installation group in North America dedicated to the metalcasting and heavy\\xa0...'}, {'title': 'Vulcan Inc - Company Profile and News', 'url': 'https://www.bloomberg.com/profile/company/270128Z:US', 'content': 'Vulcan Inc. operates as an investment company. The Company invests in financial services, internet and technology, life sciences, media, transportation, retail\\xa0...'}, {'title': 'About Vulcan', 'url': 'https://v-er.eu/about-vulcan/', 'content': 'Vulcan aims to be the largest, preferred, strategic producer and supplier of lithium chemicals and renewable energy from Europe for Europe.'}]</details></pre></div><div class='basic-renderer-box observation'><h4 class='step-header'>[13] Observation: ToolResult</h4><pre class='step-text'>tool_call_id: call_pm526Z3er0QRh4hOXADunFMP\n",
       "kind: tool\n",
       "\n",
       "[{'title': 'News', 'url': 'https://ir.vulcanmaterials.com/news/default.aspx', 'content': 'News ; August 6, 2024. VULCAN REPORTS SECOND QUARTER 2024 RESULTS ; July 19, 2024. VULCAN ANNOUNCES SECOND QUARTER 2024 CONFERENCE CALL ; July 12, 2024. VULCAN\\xa0...'}, {'title': 'Vulcan News | Latest Local Headlines', 'url': 'https://www.vulcanadvocate.com/category/news/local-news/', 'content': \"4 days ago — Latest News Videos · Mark Carney gets Trudeau job just as his company asks Ottawa for $10 billion · Vulcan's council moves ahead with bylaw that\\xa0...\"}, {'title': 'Vulcan Advocate: Home', 'url': 'https://www.vulcanadvocate.com/', 'content': 'Mark Carney gets Trudeau job just as his company asks Ottawa for $10 billion · play video: Trudeau faces leadership questions after byelection blow in Montreal.'}]</pre></div><div class='basic-renderer-box respond'><h4 class='step-header'>[14] search_agent responds to analyst</h4><pre class='step-text'>kind: respond\n",
       "copy_output: false\n",
       "\n",
       "<details><summary>2022 characters ...</summary>### Vulcan Company Profile\n",
       "\n",
       "1. **[Vulcan Materials Company (VMC) Company Profile & Facts](https://ca.finance.yahoo.com/quote/VMC/profile/)**\n",
       "   - Vulcan Materials Company, together with its subsidiaries, produces and supplies construction aggregates primarily in the United States. It operates through four main segments.\n",
       "\n",
       "2. **[Vulcan Materials Co - Company Profile](https://www.globaldata.com/company-profile/vulcan-materials-company/)**\n",
       "   - Vulcan Materials Co (Vulcan) is a manufacturer of construction materials. It sells crushed stone, sand, gravel, and aggregates-based building materials.\n",
       "\n",
       "3. **[Corporate Profile](https://www.vulcangroup.com/about-vulcan/corporate-profile/)**\n",
       "   - Vulcan Engineering is the largest in-house engineering, manufacturing, and installation group in North America dedicated to the metalcasting and heavy industries.\n",
       "\n",
       "4. **[Vulcan Inc - Company Profile and News](https://www.bloomberg.com/profile/company/270128Z:US)**\n",
       "   - Vulcan Inc. operates as an investment company. The Company invests in financial services, internet and technology, life sciences, media, transportation, and retail sectors.\n",
       "\n",
       "5. **[About Vulcan](https://v-er.eu/about-vulcan/)**\n",
       "   - Vulcan aims to be the largest, preferred, strategic producer and supplier of lithium chemicals and renewable energy from Europe for Europe.\n",
       "\n",
       "### Recent News on Vulcan\n",
       "\n",
       "1. **[News](https://ir.vulcanmaterials.com/news/default.aspx)**\n",
       "   - August 6, 2024: Vulcan reports second quarter 2024 results.\n",
       "   - July 19, 2024: Vulcan announces second quarter 2024 conference call.\n",
       "   - July 12, 2024: Vulcan releases other updates.\n",
       "\n",
       "2. **[Vulcan News | Latest Local Headlines](https://www.vulcanadvocate.com/category/news/local-news/)**\n",
       "   - Latest news videos and updates, including Mark Carney getting a job with Trudeau just as his company asks Ottawa for $10 billion.\n",
       "\n",
       "3. **[Vulcan Advocate: Home](https://www.vulcanadvocate.com/)**\n",
       "   - Various local news updates, including political and economic developments affecting the company.</details></pre></div><div class='basic-renderer-box thought'><h4 class='step-header'>[15] Thought: SetNextNode</h4><pre class='step-text'>kind: set_next_node\n",
       "next_node: 0\n",
       "</pre></div><div class='basic-renderer-box action'><h4 class='step-header'>[16] Assistant</h4><pre class='step-text'>kind: assistant\n",
       "\n",
       "Vulcan Materials Company (VMC) is a leading producer of construction aggregates, including crushed stone, sand, and gravel, primarily serving the United States. Over the past year, Vulcan's stock price has seen significant fluctuations, starting at around $211.69 in September 2023 and peaking at approximately $275.59 in March 2024, before settling at $236.27 in September 2024. Recently, Vulcan reported its second-quarter 2024 results and announced updates on its business operations, reflecting its ongoing commitment to growth and market presence.</pre></div>"
      ],
      "text/plain": [
       "<IPython.core.display.HTML object>"
      ]
     },
     "metadata": {},
     "output_type": "display_data"
    }
   ],
   "source": [
    "from tapeagents.core import SetNextNode\n",
    "from tapeagents.dialog_tape import AssistantThought, ToolCalls\n",
    "from tapeagents.prompting import view_to_messages\n",
    "from tapeagents.runtime import MainLoopStatus, main_loop\n",
    "from tapeagents.view import Call\n",
    "from IPython.display import clear_output\n",
    "\n",
    "system_instruction = f\"\"\"\n",
    "You will help the user to learn about financials of companies. \n",
    "For general user queries, include some info about stock price changes during the last year, as well as some general information on the company.\n",
    "Today is {today}.\n",
    "\"\"\"\n",
    "system_message = {\"role\": \"system\", \"content\": system_instruction}\n",
    "\n",
    "\n",
    "class PlanNode(Node):\n",
    "    def make_prompt(self, agent, tape) -> Prompt:\n",
    "        view = agent.compute_view(tape)\n",
    "        guidance = \"Write a natural language plan on how to use tools help the user. Output a list of numbered items, like 1., 2., 3., etc.\"\n",
    "        guidance_message = {\"role\": \"user\", \"content\": guidance}\n",
    "        return Prompt(\n",
    "            messages=[system_message] + view_to_messages(view.top, agent) + [guidance_message],\n",
    "            tools=main_agent_env.get_tool_schema_dicts(),\n",
    "        )\n",
    "\n",
    "    def generate_steps(self, agent, dialog, llm_stream: LLMStream):\n",
    "        if content := llm_stream.get_message().content:\n",
    "            yield AssistantThought(content=content)\n",
    "        else:\n",
    "            raise ValueError()\n",
    "\n",
    "\n",
    "class ActNode(Node):\n",
    "    def make_prompt(self, agent, tape: DialogTape) -> Prompt:\n",
    "        view = agent.compute_view(tape)\n",
    "        guidance = \"Follow the plan you created to earlier. When you are done, respond to the user.\"\n",
    "        guidance_message = {\"role\": \"user\", \"content\": guidance}\n",
    "        return Prompt(\n",
    "            messages=[system_message] + view_to_messages(view.top, agent) + [guidance_message],\n",
    "            tools=main_agent_env.get_tool_schema_dicts(),\n",
    "        )\n",
    "\n",
    "    def generate_steps(self, agent, dialog, llm_stream: LLMStream):\n",
    "        m = llm_stream.get_message()\n",
    "        if m.content:\n",
    "            yield SetNextNode(next_node=0)\n",
    "            yield AssistantStep(content=m.content)\n",
    "        elif m.tool_calls:\n",
    "            yield SetNextNode(next_node=1)\n",
    "            # only keep the tool calls before the call to another agent\n",
    "            tool_calls = []\n",
    "            for tc in m.tool_calls:\n",
    "                if tc.function.name == \"call_search_agent\":\n",
    "                    break\n",
    "                else:\n",
    "                    tool_calls.append(tc)\n",
    "            # either produce the ToolCalls action OR call another agent\n",
    "            if tool_calls:\n",
    "                yield ToolCalls(tool_calls=tool_calls)\n",
    "            else:\n",
    "                tc = m.tool_calls[0]\n",
    "                assert tc.function.name == \"call_search_agent\"\n",
    "                yield Call(agent_name=\"search_agent\", content=json.loads(m.tool_calls[0].function.arguments)[\"query\"])\n",
    "\n",
    "        else:\n",
    "            raise ValueError()\n",
    "\n",
    "\n",
    "multi_agent_analyst = Agent.create(\n",
    "    name=\"analyst\",\n",
    "    subagents=[search_agent.clone()],\n",
    "    llms=LiteLLM(model_name=\"gpt-4o\", parameters={\"temperature\": 0.1}),\n",
    "    nodes=[PlanNode(), ActNode()],\n",
    ")\n",
    "\n",
    "print(\"Run the agent!\")\n",
    "start_tape = DialogTape(steps=[UserStep(content=\"Tell me about Vulcan in 3 sentences\")])\n",
    "for event in main_loop(multi_agent_analyst, start_tape, whole_env):\n",
    "    # This agent runs for a while, so we will show you a fresh render every time\n",
    "    # when the environment finishes reacting with new actions\n",
    "    if new_tape := event.agent_tape or event.env_tape:\n",
    "        clear_output()\n",
    "        display(HTML(render_tape_with_prompts(new_tape, PrettyRenderer())))\n",
    "    # Uncomment this if you want to pause after every loop\n",
    "    # if event.env_tape:\n",
    "    #     input(\"Press Enter the run the next iteration of the main loop\")\n",
    "    if event.status == MainLoopStatus.EXTERNAL_INPUT_NEEDED:\n",
    "        break"
   ]
  },
  {
   "cell_type": "markdown",
   "metadata": {},
   "source": [
    "Look at this rather long tape and note how \"analyst\" calls \"search_agent\", and how the latter then responds to \"analyst\". Congratulations, you now know how to build a multi-agent TapeAgent!"
   ]
  }
 ],
 "metadata": {
  "kernelspec": {
   "display_name": "tapeagents",
   "language": "python",
   "name": "python3"
  },
  "language_info": {
   "codemirror_mode": {
    "name": "ipython",
    "version": 3
   },
   "file_extension": ".py",
   "mimetype": "text/x-python",
   "name": "python",
   "nbconvert_exporter": "python",
   "pygments_lexer": "ipython3",
   "version": "3.10.14"
  }
 },
 "nbformat": 4,
 "nbformat_minor": 2
}
