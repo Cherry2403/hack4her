{
 "cells": [
  {
   "cell_type": "markdown",
   "metadata": {},
   "source": [
    "# Welcome to TapeAgents!\n",
    "\n",
    "**TapeAgents** is a framework to build, debug, serve and optimize your AI agent. It takes a holistic view of the agent lifecycle and aims to support you at all stages. The main distinguishing feature of the framework is that by design a **TapeAgent** creates its  \n",
    "**Tape**: a compherensive semantic log of the agent's session that greatly facilitates audit, debugging, finetuning, agent optimization, etc.\n",
    "\n",
    "In this tutorial you will learn:\n",
    "- how to create TapeAgents using the low-level API\n",
    "- run and resume TapeAgents\n",
    "- have one TapeAgent reuse another TapeAgent's tape as training data\n",
    "\n",
    "In upcoming versions of this tutorial you will also learn: \n",
    "- how to make a team TapeAgent with subagents\n",
    "- how to build TapeAgents using available high-level APIs\n",
    "- how to build a TapeAgent that streams partial steps\n",
    "\n",
    "Other tutorials and examples will cover:\n",
    "- code execution and browser use\n",
    "- finetuning\n",
    "- the TapeAgents apps (Studio and Browser)"
   ]
  },
  {
   "cell_type": "markdown",
   "metadata": {},
   "source": [
    "# 0. Setup"
   ]
  },
  {
   "cell_type": "markdown",
   "metadata": {},
   "source": [
    "You have outputs in all cells in this notebook, so you can just scroll through! If you want to run it, here are the steps."
   ]
  },
  {
   "cell_type": "markdown",
   "metadata": {},
   "source": [
    "#### 0. Install conda\n",
    "https://conda.io/projects/conda/en/latest/user-guide/install/index.html"
   ]
  },
  {
   "cell_type": "markdown",
   "metadata": {},
   "source": [
    "#### 1. All commands assume execution from the tapeagents directory.\n",
    "```bash\n",
    "cd tapeagents/\n",
    "```"
   ]
  },
  {
   "cell_type": "markdown",
   "metadata": {},
   "source": [
    "#### 2. Create conda environment and install `tapeagents` and its dependencies:\n",
    "```bash\n",
    "make setup\n",
    "```"
   ]
  },
  {
   "cell_type": "markdown",
   "metadata": {},
   "source": [
    "#### 3. Set Jupyter Notebook kernel to your newly created `tapeagents` conda environment\n",
    "https://code.visualstudio.com/docs/datascience/jupyter-notebooks#_create-or-open-a-jupyter-notebook"
   ]
  },
  {
   "cell_type": "markdown",
   "metadata": {},
   "source": [
    "#### 4. Set your LLM API keys and other minor things"
   ]
  },
  {
   "cell_type": "code",
   "execution_count": 1,
   "metadata": {
    "execution": {
     "iopub.execute_input": "2024-09-26T12:43:20.931898Z",
     "iopub.status.busy": "2024-09-26T12:43:20.931620Z",
     "iopub.status.idle": "2024-09-26T12:43:20.941698Z",
     "shell.execute_reply": "2024-09-26T12:43:20.940789Z"
    }
   },
   "outputs": [],
   "source": [
    "import os\n",
    "\n",
    "# os.environ[\"OPENAI_API_KEY\"] = \"\" # put your https://platform.openai.com/ key here\n",
    "# os.environ[\"OPENAI_ORGANIZATION\"] = \"\" # optional if you use your personal key\n",
    "# os.environ[\"TOGETHER_API_KEY\"] = \"\" # put your https://together.ai/ key here\n",
    "# os.environ[\"TAPEAGENTS_LLM_TOKEN\"] = os.environ[\"TOGETHER_API_KEY\"] # Use Together API Key for llms.LLAMA\n",
    "# os.environ[\"HF_TOKEN\"] = \"\" # put your huggingface token here\n",
    "\n",
    "os.environ[\"TRANSFORMERS_NO_ADVISORY_WARNINGS\"] = \"1\"\n",
    "today = \"2024-09-17\" # fixed date for reproducible tests"
   ]
  },
  {
   "cell_type": "code",
   "execution_count": 2,
   "metadata": {
    "execution": {
     "iopub.execute_input": "2024-09-26T12:43:20.944972Z",
     "iopub.status.busy": "2024-09-26T12:43:20.944642Z",
     "iopub.status.idle": "2024-09-26T12:43:21.240507Z",
     "shell.execute_reply": "2024-09-26T12:43:21.239892Z"
    }
   },
   "outputs": [
    {
     "data": {
      "application/vnd.jupyter.widget-view+json": {
       "model_id": "bd0a014075924c49b453071f5a5100cf",
       "version_major": 2,
       "version_minor": 0
      },
      "text/plain": [
       "VBox(children=(HTML(value='<center> <img\\nsrc=https://huggingface.co/front/assets/huggingface_logo-noborder.sv…"
      ]
     },
     "metadata": {},
     "output_type": "display_data"
    }
   ],
   "source": [
    "# Login to Hugging Face Hub\n",
    "if \"PYTEST_CURRENT_TEST\" not in os.environ: # skip login during tests\n",
    "    from huggingface_hub import login\n",
    "    login(token=os.environ.get(\"HF_TOKEN\"))"
   ]
  },
  {
   "cell_type": "markdown",
   "metadata": {},
   "source": [
    "#### 5. Access Hugging Face Gated Models\n",
    "Make sure you have access to each model we are going to use (read more [here](https://huggingface.co/docs/hub/en/models-gated#access-gated-models-as-a-user)):\n",
    "- https://huggingface.co/meta-llama/Meta-Llama-3-70B-Instruct\n",
    "\n",
    "##### Troubleshoot\n",
    "- If you receive a 401 error, it means the authentication failed.\n",
    "- If you receive a 403 error, it means you are authenticated but not authorized to access the specific model.\n"
   ]
  },
  {
   "cell_type": "markdown",
   "metadata": {},
   "source": [
    "# 1. Your first TapeAgent"
   ]
  },
  {
   "cell_type": "markdown",
   "metadata": {},
   "source": [
    "In this section we will build the simplest possible \"hello world\" agent. We will then go through all the new concepts that you need to know to understand the code. This section is quite long, but with the solid foundation you acquire here other TapeAgent tutorials will be easy to process.\n",
    "\n",
    "Without further ado, here's the code!"
   ]
  },
  {
   "cell_type": "code",
   "execution_count": 3,
   "metadata": {
    "execution": {
     "iopub.execute_input": "2024-09-26T12:43:21.275783Z",
     "iopub.status.busy": "2024-09-26T12:43:21.275517Z",
     "iopub.status.idle": "2024-09-26T12:43:25.571410Z",
     "shell.execute_reply": "2024-09-26T12:43:25.570601Z"
    }
   },
   "outputs": [
    {
     "name": "stdout",
     "output_type": "stream",
     "text": [
      "{\n",
      "  \"metadata\": {\n",
      "    \"id\": \"17db895d-b399-46e9-8caa-3f60416710e6\",\n",
      "    \"parent_id\": \"77efda4c-90a3-4768-898a-fac810f185cb\",\n",
      "    \"author\": \"\",\n",
      "    \"author_tape_id\": null,\n",
      "    \"n_added_steps\": 2,\n",
      "    \"error\": null,\n",
      "    \"result\": null\n",
      "  },\n",
      "  \"context\": null,\n",
      "  \"steps\": [\n",
      "    {\n",
      "      \"metadata\": {\n",
      "        \"id\": \"e6948df9-a002-4553-8b30-67e1717cdb3b\",\n",
      "        \"prompt_id\": \"\",\n",
      "        \"node\": \"\",\n",
      "        \"agent\": \"\",\n",
      "        \"other\": {}\n",
      "      },\n",
      "      \"content\": \"Tell me about Vulcan in 3 sentences\",\n",
      "      \"kind\": \"user\"\n",
      "    },\n",
      "    {\n",
      "      \"metadata\": {\n",
      "        \"id\": \"e6948df9-a002-4553-8b30-67e1717cdb3b\",\n",
      "        \"prompt_id\": \"230ff7d9-b5ef-4b37-9db4-b3432ee4d6c2\",\n",
      "        \"node\": \"\",\n",
      "        \"agent\": \"Agent\",\n",
      "        \"other\": {}\n",
      "      },\n",
      "      \"content\": \"Vulcan is a fictional planet in the \\\"Star Trek\\\" universe, primarily known as the home world of the Vulcan species, including the iconic character Spock. It is characterized by its logical culture, advanced technology, and a commitment to peace and scientific exploration, often contrasted with the more emotive human perspective. The Vulcan people are noted for their practices of suppressing emotions and their dedication to unfettered reason, having developed a range of philosophies and disciplines rooted in logic and mental discipline.\",\n",
      "      \"kind\": \"assistant\"\n",
      "    },\n",
      "    {\n",
      "      \"metadata\": {\n",
      "        \"id\": \"e6948df9-a002-4553-8b30-67e1717cdb3b\",\n",
      "        \"prompt_id\": \"230ff7d9-b5ef-4b37-9db4-b3432ee4d6c2\",\n",
      "        \"node\": \"\",\n",
      "        \"agent\": \"Agent\",\n",
      "        \"other\": {}\n",
      "      },\n",
      "      \"kind\": \"jump\",\n",
      "      \"next_node\": 0\n",
      "    }\n",
      "  ]\n",
      "}\n"
     ]
    }
   ],
   "source": [
    "from tapeagents.agent import Agent, Node\n",
    "from tapeagents.core import Jump, Prompt\n",
    "from tapeagents.dialog_tape import AssistantStep, DialogTape, UserStep\n",
    "from tapeagents.llms import LLMStream, LiteLLM\n",
    "from tapeagents.prompting import tape_to_messages\n",
    "\n",
    "llm = LiteLLM(model_name=\"gpt-4o-mini-2024-07-18\")\n",
    "\n",
    "\n",
    "def make_prompt(agent: Agent, tape: DialogTape) -> Prompt:\n",
    "    return Prompt(messages=tape_to_messages(tape))\n",
    "\n",
    "\n",
    "def generate_steps(agent: Agent, tape: DialogTape, llm_stream: LLMStream):\n",
    "    \"\"\"\n",
    "    llm_stream contains the text of the LLM model response\n",
    "    \"\"\"\n",
    "    yield AssistantStep(content=llm_stream.get_text())\n",
    "    yield Jump(next_node=0)  # Which node to execute next, more on that later\n",
    "\n",
    "\n",
    "node = Node().with_prompt(make_prompt).with_generate_steps(generate_steps)\n",
    "nodes = [node]\n",
    "agent = Agent[DialogTape].create(llm, nodes=nodes)\n",
    "start_tape = DialogTape(steps=[UserStep(content=\"Tell me about Vulcan in 3 sentences\")])\n",
    "final_tape = agent.run(start_tape).get_final_tape()\n",
    "print(final_tape.model_dump_json(indent=2))"
   ]
  },
  {
   "cell_type": "markdown",
   "metadata": {},
   "source": [
    "Now let's learn about tapes, steps, prompts, llm streams, nodes and agents."
   ]
  },
  {
   "cell_type": "markdown",
   "metadata": {},
   "source": [
    "### Tape\n",
    "\n",
    "The fundamental concept of the TapeAgents is the `Tape`, a comprehensive semantic level log of the agent's session. A `Tape` contains a context and a sequence of `Step` objects. As you can see, a TapeAgent runs by adding steps (such as `UserStep` or `AssistantStep`) to the _tape_. This example uses the `DialogTape` tape, which is a basic tape for user-assistant conversations. Let's see what are the possible steps in a `DialogTape`."
   ]
  },
  {
   "cell_type": "code",
   "execution_count": 4,
   "metadata": {
    "execution": {
     "iopub.execute_input": "2024-09-26T12:43:25.574161Z",
     "iopub.status.busy": "2024-09-26T12:43:25.573876Z",
     "iopub.status.idle": "2024-09-26T12:43:25.578933Z",
     "shell.execute_reply": "2024-09-26T12:43:25.577997Z"
    }
   },
   "outputs": [
    {
     "data": {
      "text/plain": [
       "tapeagents.core.Tape[Union[DialogContext, NoneType], Union[UserStep, ToolResult, SystemStep, AssistantThought, Jump, Pass, Call, Respond, FinalStep, AssistantStep, ToolCalls]]"
      ]
     },
     "execution_count": 4,
     "metadata": {},
     "output_type": "execute_result"
    }
   ],
   "source": [
    "# We use Python generics to instantiate many different Tape types by\n",
    "# specifying different Context and Step types. In the output of this cell,\n",
    "# look at Union[UserStep, AssistantStep, ...]\n",
    "# for the list of possible step types in the DialogTape.\n",
    "DialogTape\n"
   ]
  },
  {
   "cell_type": "markdown",
   "metadata": {},
   "source": [
    "Some of these steps should be familiar to you. `UserStep`, `AssistantStep`, `SystemStep` and `ToolResult` correspond to `role=user`, `role=assistant`, `role=system` and `role=tool` LLM API messages respectively. `ToolCalls` and `AssistantThought` correspond to assistant messages where the LLM requests a tool call or produces an intermediate thought that is not meant to be shown to the user. `Jump` and `Pass` are TapeAgent's internal step to control which node it should run at the next iteration (more on this below)."
   ]
  },
  {
   "cell_type": "markdown",
   "metadata": {},
   "source": [
    "### Prompt format; LLMs"
   ]
  },
  {
   "cell_type": "markdown",
   "metadata": {},
   "source": [
    "We use the industry-standard \"chat.completions\" prompt format in TapeAgents: a list of user/assistant/system/tool messages plus tool schemas."
   ]
  },
  {
   "cell_type": "code",
   "execution_count": 5,
   "metadata": {
    "execution": {
     "iopub.execute_input": "2024-09-26T12:43:25.581807Z",
     "iopub.status.busy": "2024-09-26T12:43:25.581521Z",
     "iopub.status.idle": "2024-09-26T12:43:25.586392Z",
     "shell.execute_reply": "2024-09-26T12:43:25.585642Z"
    }
   },
   "outputs": [
    {
     "data": {
      "text/plain": [
       "{'id': FieldInfo(annotation=str, required=False, default_factory=<lambda>),\n",
       " 'tools': FieldInfo(annotation=Union[list[dict], NoneType], required=False, default=None),\n",
       " 'messages': FieldInfo(annotation=list[dict], required=False, default=[])}"
      ]
     },
     "execution_count": 5,
     "metadata": {},
     "output_type": "execute_result"
    }
   ],
   "source": [
    "# Almost all classes in TapeAgents are Pydantic base models.\n",
    "# This allows easy validation, serialization and instrospection. For example,\n",
    "# here we are able to list all the fields in the Prompt model.\n",
    "Prompt.model_fields\n"
   ]
  },
  {
   "cell_type": "markdown",
   "metadata": {},
   "source": [
    "The LLMs in TapeAgent take `Prompt` and return an `LLMStream` object. The `LLMStream` object can be used both to fast-forward to the complete response text and to stream partial outputs step by step. "
   ]
  },
  {
   "cell_type": "code",
   "execution_count": 6,
   "metadata": {
    "execution": {
     "iopub.execute_input": "2024-09-26T12:43:25.589222Z",
     "iopub.status.busy": "2024-09-26T12:43:25.588895Z",
     "iopub.status.idle": "2024-09-26T12:43:37.542382Z",
     "shell.execute_reply": "2024-09-26T12:43:37.541758Z"
    }
   },
   "outputs": [
    {
     "name": "stdout",
     "output_type": "stream",
     "text": [
      "Here is the classic \"Hello, World!\" program in Java:\n",
      "```\n",
      "public class HelloWorld {\n"
     ]
    },
    {
     "name": "stdout",
     "output_type": "stream",
     "text": [
      "  public static void main(String[] args) {\n",
      "    System.out.println(\"Hello, World!\");\n",
      "  }\n",
      "}\n",
      "```\n",
      "Let me explain what's going on:\n",
      "\n",
      "* `public class HelloWorld {` declares"
     ]
    },
    {
     "name": "stdout",
     "output_type": "stream",
     "text": [
      " a new Java class called `HelloWorld`. The `public` access modifier means that the class can be accessed from outside the package where it's defined.\n",
      "* `public"
     ]
    },
    {
     "name": "stdout",
     "output_type": "stream",
     "text": [
      " static void main(String[] args) {` declares the `main` method, which is the entry point of the program. The `public` access modifier means that the method can be accessed from outside the class, and the `static` keyword means that the method can be called without"
     ]
    },
    {
     "name": "stdout",
     "output_type": "stream",
     "text": [
      " creating an instance of the class. The `void` return type means that the method doesn't return any value. The `main` method takes an array of `String` arguments,"
     ]
    },
    {
     "name": "stdout",
     "output_type": "stream",
     "text": [
      " which represents the command-line arguments passed to the program.\n",
      "* `System.out.println(\"Hello, World!\");` prints the string \"Hello, World!\" to the console, followed by a newline character. `"
     ]
    },
    {
     "name": "stdout",
     "output_type": "stream",
     "text": [
      "System.out` is a built-in output stream that writes to the console, and `println` is a method that writes a string to the output stream and appends a newline"
     ]
    },
    {
     "name": "stdout",
     "output_type": "stream",
     "text": [
      " character.\n",
      "\n",
      "To compile and run this program, you'll need to:\n",
      "\n",
      "1. Save the code in a file called `HelloWorld.java`.\n",
      "2. Compile the code using the `javac` command"
     ]
    },
    {
     "name": "stdout",
     "output_type": "stream",
     "text": [
      ": `javac HelloWorld.java`\n",
      "3. Run the program using the `java` command: `java HelloWorld`\n",
      "\n",
      "This will print \"Hello, World!\" to the console!None\n",
      "------------------------------\n"
     ]
    },
    {
     "name": "stdout",
     "output_type": "stream",
     "text": [
      "Here is the classic \"Hello, World!\" program in C:\n",
      "```\n",
      "#include <stdio.h>\n",
      "\n",
      "int main() {\n",
      "    printf(\"Hello, World!\\n\");\n",
      "    return 0;\n",
      "}\n",
      "```\n",
      "Let me explain what's going on:\n",
      "\n",
      "* `#include <stdio.h>`: This line tells the compiler to include the `stdio.h` header file, which provides input/output functions such as `printf`.\n",
      "* `int main()`: This is the main function, which is the entry point of the program. The `int` keyword specifies that the function returns an integer value.\n",
      "* `printf(\"Hello, World!\\n\");`: This line uses the `printf` function to print the string \"Hello, World!\" followed by a newline character (`\\n`) to the console.\n",
      "* `return 0;`: This line returns an integer value of 0 to indicate that the program has completed successfully.\n",
      "\n",
      "To compile and run this program, you can use a C compiler such as `gcc`:\n",
      "```\n",
      "$ gcc hello.c -o hello\n",
      "$ ./hello\n",
      "Hello, World!\n",
      "```\n",
      "Assuming you save the code in a file called `hello.c`, the first command compiles the code into an executable file called `hello`, and the second command runs the executable.\n"
     ]
    }
   ],
   "source": [
    "from tapeagents.llms import LLAMA\n",
    "\n",
    "llama = LLAMA(\n",
    "    base_url=\"https://api.together.xyz\",\n",
    "    model_name=\"meta-llama/Meta-Llama-3-70B-Instruct-Turbo\",\n",
    "    tokenizer_name=\"meta-llama/Meta-Llama-3-70B-Instruct\",\n",
    "    # you must use stream=True if you wish to have message chunks in your LLM events\n",
    "    stream=True,\n",
    ")\n",
    "# Streaming\n",
    "prompt = Prompt(messages=[{\"role\": \"user\", \"content\": \"Write hello world in Java\"}])\n",
    "for event in llama.generate(prompt):\n",
    "    print(event.chunk, end=\"\")\n",
    "# No streaming\n",
    "# (note: you can not use Prompt object for more than 1 LLM call in TapeAgents)\n",
    "prompt = Prompt(messages=[{\"role\": \"user\", \"content\": \"Write hello world in C\"}])\n",
    "print(\"\\n\" + \"-\" * 30)\n",
    "print(llama.generate(prompt).get_text())\n"
   ]
  },
  {
   "cell_type": "markdown",
   "metadata": {},
   "source": [
    "In the example above we use the easiest way to create a prompt from the tapes: `tape_to_messages`. Under the hood this method uses `step.llm_dict()` method of all non-control steps in the tape to create the prompt:"
   ]
  },
  {
   "cell_type": "code",
   "execution_count": 7,
   "metadata": {
    "execution": {
     "iopub.execute_input": "2024-09-26T12:43:37.545274Z",
     "iopub.status.busy": "2024-09-26T12:43:37.544930Z",
     "iopub.status.idle": "2024-09-26T12:43:37.549108Z",
     "shell.execute_reply": "2024-09-26T12:43:37.548487Z"
    }
   },
   "outputs": [
    {
     "name": "stdout",
     "output_type": "stream",
     "text": [
      "{'content': 'hi AI!', 'kind': 'user'}\n",
      "{'content': 'hello human', 'kind': 'assistant'}\n",
      "[{'role': 'user', 'content': 'hi AI!'}, {'role': 'assistant', 'content': 'hello human'}]\n"
     ]
    }
   ],
   "source": [
    "print((user := UserStep(content=\"hi AI!\")).llm_dict())\n",
    "print((assistant := AssistantStep(content=\"hello human\")).llm_dict())\n",
    "print(tape_to_messages(DialogTape(steps=[user, assistant])))\n"
   ]
  },
  {
   "cell_type": "markdown",
   "metadata": {},
   "source": [
    "A key priority in TapeAgents is making use of the data that running the agent generates. To make this possible, some TapeAgent LLMs know how to make their finetuning data:"
   ]
  },
  {
   "cell_type": "code",
   "execution_count": 8,
   "metadata": {
    "execution": {
     "iopub.execute_input": "2024-09-26T12:43:37.551398Z",
     "iopub.status.busy": "2024-09-26T12:43:37.551176Z",
     "iopub.status.idle": "2024-09-26T12:43:37.556064Z",
     "shell.execute_reply": "2024-09-26T12:43:37.555528Z"
    }
   },
   "outputs": [
    {
     "name": "stdout",
     "output_type": "stream",
     "text": [
      "--- ALL TEXT ---\n",
      "<|begin_of_text|><|start_header_id|>user<|end_header_id|>\n",
      "\n",
      "Say bla 3 times and foo 2 times<|eot_id|><|start_header_id|>assistant<|end_header_id|>\n",
      "\n",
      "Sure! Let me say bla bla bla foo foo<|eot_id|>\n",
      "--- PREDICTED CHARACTERS ---\n",
      "<|start_header_id|>assistant<|end_header_id|>\n",
      "\n",
      "Sure! Let me say bla bla bla foo foo<|eot_id|>\n"
     ]
    }
   ],
   "source": [
    "from tapeagents.core import LLMOutput\n",
    "\n",
    "\n",
    "simple_tape = DialogTape(\n",
    "    steps=[\n",
    "        UserStep(content=\"Say bla 3 times and foo 2 times\"),\n",
    "        AssistantStep(content=\"Sure! Let me say bla bla bla foo foo\"),\n",
    "    ]\n",
    ")\n",
    "prompt = Prompt(messages=tape_to_messages(simple_tape[:1]))\n",
    "output = agent.make_llm_output(simple_tape, index=1)\n",
    "text = llama.make_training_text(prompt=prompt, output=output)\n",
    "print(\"--- ALL TEXT ---\")\n",
    "print(text.text)\n",
    "print(\"--- PREDICTED CHARACTERS ---\")\n",
    "print(text.output_text)\n"
   ]
  },
  {
   "cell_type": "markdown",
   "metadata": {},
   "source": [
    "### Node"
   ]
  },
  {
   "cell_type": "markdown",
   "metadata": {},
   "source": [
    "A node represents an uninterruptible atom of TapeAgent's computation. When TapeAgents runs a node, it uses its two main functions: `make_prompt` to create LLM Prompt from the tape and `generate_steps` to create new steps from the LLM output. To build a node, you can replace the default implementations of these functions using `with_prompt` and `with_generate_steps` methods. Or you can subclass `Node` and override these functions. Note that `generate_steps` must be a generator, a design choice we made to make TapeAgents a streaming-friendly framework. \n",
    "\n",
    "Let's see what the node from the above example can do."
   ]
  },
  {
   "cell_type": "code",
   "execution_count": 9,
   "metadata": {
    "execution": {
     "iopub.execute_input": "2024-09-26T12:43:37.558478Z",
     "iopub.status.busy": "2024-09-26T12:43:37.558257Z",
     "iopub.status.idle": "2024-09-26T12:43:39.983039Z",
     "shell.execute_reply": "2024-09-26T12:43:39.982347Z"
    }
   },
   "outputs": [
    {
     "name": "stdout",
     "output_type": "stream",
     "text": [
      "Raw node prompt:\n",
      "id='ae33d583-42d1-4cf6-8c80-c2bde328ab02' tools=None messages=[{'role': 'user', 'content': 'Hi, AI!'}]\n",
      "\n",
      "Steps produced by node's generator:\n",
      "[AssistantStep(metadata=StepMetadata(id='e6948df9-a002-4553-8b30-67e1717cdb3b', prompt_id='', node='', agent='', other={}), content='Hello, human!', kind='assistant'), Jump(metadata=StepMetadata(id='e6948df9-a002-4553-8b30-67e1717cdb3b', prompt_id='', node='', agent='', other={}), kind='jump', next_node=0)]\n",
      "\n",
      "Produced Steps:\n"
     ]
    },
    {
     "name": "stdout",
     "output_type": "stream",
     "text": [
      "{\n",
      "  \"metadata\": {\n",
      "    \"id\": \"e6948df9-a002-4553-8b30-67e1717cdb3b\",\n",
      "    \"prompt_id\": \"\",\n",
      "    \"node\": \"\",\n",
      "    \"agent\": \"\",\n",
      "    \"other\": {}\n",
      "  },\n",
      "  \"content\": \"Hi! It's nice to meet you. Is there something I can help you with, or would you like to chat?\",\n",
      "  \"kind\": \"assistant\"\n",
      "}\n",
      "{\n",
      "  \"metadata\": {\n",
      "    \"id\": \"e6948df9-a002-4553-8b30-67e1717cdb3b\",\n",
      "    \"prompt_id\": \"\",\n",
      "    \"node\": \"\",\n",
      "    \"agent\": \"\",\n",
      "    \"other\": {}\n",
      "  },\n",
      "  \"kind\": \"jump\",\n",
      "  \"next_node\": 0\n",
      "}\n"
     ]
    }
   ],
   "source": [
    "from tapeagents.llms import LLMEvent\n",
    "\n",
    "\n",
    "def make_prompt(agent, tape: DialogTape) -> Prompt:\n",
    "    return Prompt(messages=tape_to_messages(tape))\n",
    "\n",
    "\n",
    "def generate_steps(agent, tape, llm_stream: LLMStream):\n",
    "    yield AssistantStep(content=llm_stream.get_text())\n",
    "    yield Jump(next_node=0)  # Continue to the same first node\n",
    "\n",
    "\n",
    "node = Node().with_prompt(make_prompt).with_generate_steps(generate_steps)\n",
    "\n",
    "# Let's run \"make_prompt\" in isolation.\n",
    "prompt = node.make_prompt(agent=None, tape=DialogTape(steps=[UserStep(content=\"Hi, AI!\")]))\n",
    "print(f\"Raw node prompt:\\n{prompt}\\n\")\n",
    "\n",
    "\n",
    "# Now, let's run \"generate_steps\" in isolation.\n",
    "# We need to construct a fake LLMStream to do that.\n",
    "def _generator():\n",
    "    yield LLMEvent(output=LLMOutput(content=\"Hello, human!\"))\n",
    "\n",
    "\n",
    "stream = LLMStream(_generator(), Prompt())\n",
    "step_stream = node.generate_steps(agent=None, tape=DialogTape(), llm_stream=stream)\n",
    "print(f\"Steps produced by node's generator:\\n{list(step_stream)}\\n\")\n",
    "\n",
    "# When the agent runs a node, it is a equivalent to the following three steps:\n",
    "# Step 1: make a prompt\n",
    "start_tape = DialogTape(steps=[UserStep(content=\"Hi, AI!\")])\n",
    "prompt = node.make_prompt(agent, start_tape)\n",
    "# Step 2: construct the LLMStream from the prompt (happens inside the agent)\n",
    "stream = llama.generate(prompt)\n",
    "# Step 3: generate steps that the agent will then add to the tape\n",
    "print(\"Produced Steps:\")\n",
    "for step in node.generate_steps(agent, start_tape, stream):\n",
    "    print(step.model_dump_json(indent=2))\n"
   ]
  },
  {
   "cell_type": "markdown",
   "metadata": {},
   "source": [
    "### Agent and its nodes"
   ]
  },
  {
   "cell_type": "markdown",
   "metadata": {},
   "source": [
    "The TapeAgent agent iteratively runs the nodes and appends the steps generated by each node to the tape. To select which next node to run, internally a TapeAgent computes the **tape view** object. The Tape remains the only **state** that the agent uses, the view only represents its content in a way that is convenient for the agent to use.\n"
   ]
  },
  {
   "cell_type": "code",
   "execution_count": 10,
   "metadata": {
    "execution": {
     "iopub.execute_input": "2024-09-26T12:43:39.986209Z",
     "iopub.status.busy": "2024-09-26T12:43:39.985904Z",
     "iopub.status.idle": "2024-09-26T12:43:39.992622Z",
     "shell.execute_reply": "2024-09-26T12:43:39.991785Z"
    }
   },
   "outputs": [
    {
     "name": "stdout",
     "output_type": "stream",
     "text": [
      "0\n",
      "0\n",
      "0\n"
     ]
    }
   ],
   "source": [
    "from tapeagents.view import TapeViewStack\n",
    "\n",
    "# The \"top\" view in the tape view stack is the view of current agent. Initially `top.next_node` is 0\".\n",
    "tape1 = DialogTape(steps=[UserStep(content=\"Hi, AI!\")])\n",
    "print(TapeViewStack.compute(tape1).top.next_node)\n",
    "\n",
    "# When the agent computes the view, it bumps up `top.next_node` every time it encounters a step with a new `prompt_id``.\n",
    "# The new prompt_id on the tape signals to the agent the current node has run.\n",
    "tape2 = DialogTape(steps=[UserStep(content=\"Hi, AI!\"), AssistantStep(prompt_id=\"123\", content=\"AI here, how I can help?\")])\n",
    "print(TapeViewStack.compute(tape2).top.next_node)\n",
    "\n",
    "# The Jump step on the tape changes `top.next_node` to the value of the `next_node` field in the Jump step.\n",
    "tape3 = DialogTape(\n",
    "    steps=[\n",
    "        UserStep(content=\"Hi, AI!\"),\n",
    "        AssistantStep(prompt_id=\"123\", content=\"AI here, how I can help?\"),\n",
    "        Jump(next_node=0),\n",
    "    ]\n",
    ")\n",
    "print(TapeViewStack.compute(tape3).top.next_node)\n"
   ]
  },
  {
   "cell_type": "markdown",
   "metadata": {},
   "source": [
    "By default the agent stops after the last node has produced an `Action` step. The action steps are the step by which the agent requests information from the environment. For example, `AssistantStep` is an `Action` as it indicates the agent awaits the user response, `ToolCalls` is an action requesting tool call results. Let's look at all possible steps in `DialogTape` tape and see which of them are actions, observations and thoughts."
   ]
  },
  {
   "cell_type": "code",
   "execution_count": 11,
   "metadata": {
    "execution": {
     "iopub.execute_input": "2024-09-26T12:43:39.995431Z",
     "iopub.status.busy": "2024-09-26T12:43:39.995148Z",
     "iopub.status.idle": "2024-09-26T12:43:39.999628Z",
     "shell.execute_reply": "2024-09-26T12:43:39.999012Z"
    }
   },
   "outputs": [],
   "source": [
    "from tapeagents.core import Action, Pass, Thought, Observation\n",
    "from tapeagents.dialog_tape import AssistantThought, ToolCalls, ToolResult\n",
    "\n",
    "assert all([issubclass(step_class, Action) for step_class in [AssistantStep, ToolCalls]])\n",
    "assert all([issubclass(step_class, Thought) for step_class in [AssistantThought, Jump, Pass]])\n",
    "assert all([issubclass(step_class, Observation) for step_class in [UserStep, ToolResult]])\n"
   ]
  },
  {
   "cell_type": "markdown",
   "metadata": {},
   "source": [
    "Now we are ready to look at a simplified summary of the corner-stone `agent.run` algorithm.\n",
    "\n",
    "1. Compute the new tape view\n",
    "2. Choose the active agent (more on multi-agent TapeAgents later)\n",
    "3. Choose the active node\n",
    "4. Run the node and add steps on the tape\n",
    "5. If the last node yielded an action, then stop, else repeat.\n",
    "\n",
    "`agent.run` returns an `AgentStream` object which allows iterating through the agent's steps (or partial steps when streaming) and fast-forwardin to the complete new tape with `get_final_tape`."
   ]
  },
  {
   "cell_type": "markdown",
   "metadata": {},
   "source": [
    "#### Converse with a TapeAgent"
   ]
  },
  {
   "cell_type": "markdown",
   "metadata": {},
   "source": [
    "Lets continue conversation with the agent that previously responded to us with the Vulcan definition from the StarTrek.\n",
    "Remember, the session stored in the tape **final_tape**."
   ]
  },
  {
   "cell_type": "code",
   "execution_count": 12,
   "metadata": {
    "execution": {
     "iopub.execute_input": "2024-09-26T12:43:40.002327Z",
     "iopub.status.busy": "2024-09-26T12:43:40.002051Z",
     "iopub.status.idle": "2024-09-26T12:43:41.972572Z",
     "shell.execute_reply": "2024-09-26T12:43:41.971939Z"
    }
   },
   "outputs": [
    {
     "name": "stdout",
     "output_type": "stream",
     "text": [
      "{\n",
      "  \"metadata\": {\n",
      "    \"id\": \"a6e9d071-f26b-4de9-be70-fc60722cd00c\",\n",
      "    \"parent_id\": \"45bae21b-6e28-412c-9f0d-09012a935ea7\",\n",
      "    \"author\": \"\",\n",
      "    \"author_tape_id\": null,\n",
      "    \"n_added_steps\": 2,\n",
      "    \"error\": null,\n",
      "    \"result\": null\n",
      "  },\n",
      "  \"context\": null,\n",
      "  \"steps\": [\n",
      "    {\n",
      "      \"metadata\": {\n",
      "        \"id\": \"e6948df9-a002-4553-8b30-67e1717cdb3b\",\n",
      "        \"prompt_id\": \"\",\n",
      "        \"node\": \"\",\n",
      "        \"agent\": \"\",\n",
      "        \"other\": {}\n",
      "      },\n",
      "      \"content\": \"Tell me about Vulcan in 3 sentences\",\n",
      "      \"kind\": \"user\"\n",
      "    },\n",
      "    {\n",
      "      \"metadata\": {\n",
      "        \"id\": \"e6948df9-a002-4553-8b30-67e1717cdb3b\",\n",
      "        \"prompt_id\": \"230ff7d9-b5ef-4b37-9db4-b3432ee4d6c2\",\n",
      "        \"node\": \"\",\n",
      "        \"agent\": \"Agent\",\n",
      "        \"other\": {}\n",
      "      },\n",
      "      \"content\": \"Vulcan is a fictional planet in the \\\"Star Trek\\\" universe, primarily known as the home world of the Vulcan species, including the iconic character Spock. It is characterized by its logical culture, advanced technology, and a commitment to peace and scientific exploration, often contrasted with the more emotive human perspective. The Vulcan people are noted for their practices of suppressing emotions and their dedication to unfettered reason, having developed a range of philosophies and disciplines rooted in logic and mental discipline.\",\n",
      "      \"kind\": \"assistant\"\n",
      "    },\n",
      "    {\n",
      "      \"metadata\": {\n",
      "        \"id\": \"e6948df9-a002-4553-8b30-67e1717cdb3b\",\n",
      "        \"prompt_id\": \"230ff7d9-b5ef-4b37-9db4-b3432ee4d6c2\",\n",
      "        \"node\": \"\",\n",
      "        \"agent\": \"Agent\",\n",
      "        \"other\": {}\n",
      "      },\n",
      "      \"kind\": \"jump\",\n",
      "      \"next_node\": 0\n",
      "    },\n",
      "    {\n",
      "      \"metadata\": {\n",
      "        \"id\": \"e6948df9-a002-4553-8b30-67e1717cdb3b\",\n",
      "        \"prompt_id\": \"\",\n",
      "        \"node\": \"\",\n",
      "        \"agent\": \"\",\n",
      "        \"other\": {}\n",
      "      },\n",
      "      \"content\": \"No, I mean Vulcan the company\",\n",
      "      \"kind\": \"user\"\n",
      "    },\n",
      "    {\n",
      "      \"metadata\": {\n",
      "        \"id\": \"e6948df9-a002-4553-8b30-67e1717cdb3b\",\n",
      "        \"prompt_id\": \"2c130853-0e63-4040-ad3c-224cedaec7e8\",\n",
      "        \"node\": \"\",\n",
      "        \"agent\": \"Agent\",\n",
      "        \"other\": {}\n",
      "      },\n",
      "      \"content\": \"Vulcan Inc. is a company founded by the late Paul Allen, co-founder of Microsoft, that focuses on various initiatives in technology, philanthropy, and conservation. The company operates through various subsidiaries and projects, investing in areas such as artificial intelligence, renewable energy, and health care, as well as supporting numerous charitable causes. Additionally, Vulcan is known for its efforts in science and technology, particularly through the development of innovative solutions aimed at addressing global challenges.\",\n",
      "      \"kind\": \"assistant\"\n",
      "    },\n",
      "    {\n",
      "      \"metadata\": {\n",
      "        \"id\": \"e6948df9-a002-4553-8b30-67e1717cdb3b\",\n",
      "        \"prompt_id\": \"2c130853-0e63-4040-ad3c-224cedaec7e8\",\n",
      "        \"node\": \"\",\n",
      "        \"agent\": \"Agent\",\n",
      "        \"other\": {}\n",
      "      },\n",
      "      \"kind\": \"jump\",\n",
      "      \"next_node\": 0\n",
      "    }\n",
      "  ]\n",
      "}\n"
     ]
    }
   ],
   "source": [
    "tape_to_continue = final_tape + [UserStep(content=\"No, I mean Vulcan the company\")]\n",
    "continued_tape = agent.run(tape_to_continue).get_final_tape()\n",
    "print(continued_tape.model_dump_json(indent=2))\n"
   ]
  },
  {
   "cell_type": "markdown",
   "metadata": {},
   "source": [
    "Note, that the agent is able to continue talking to you thanks for `Jump(next_node=0)` step that `generate_steps` produced. If you try to remove this step as an exercise, the agent will crash because there is only one node."
   ]
  },
  {
   "cell_type": "markdown",
   "metadata": {},
   "source": [
    "#### Tape rendering\n",
    "\n",
    "LLM agents create a lot of data that can be overwhelming to process. In TapeAgents we render the tape with the associated prompts and outputs into a more readable HTML for you. To make this work, we store prompts and outputs in an SQLite database every time you call `agent.run()`.\n",
    "\n",
    "Here's how to use tape rendering in the notebook:"
   ]
  },
  {
   "cell_type": "code",
   "execution_count": 13,
   "metadata": {
    "execution": {
     "iopub.execute_input": "2024-09-26T12:43:41.974901Z",
     "iopub.status.busy": "2024-09-26T12:43:41.974688Z",
     "iopub.status.idle": "2024-09-26T12:43:42.331420Z",
     "shell.execute_reply": "2024-09-26T12:43:42.330847Z"
    }
   },
   "outputs": [
    {
     "data": {
      "text/html": [
       "<style>.basic-renderer-box { margin: 4px; padding: 2px; background: lavender; white-space: pre-wrap; color: black;}.basic-prompt-box { margin: 4px; padding: 2px; background: lavender; color: black;}.episode-row { display: flex; align-items: end; }.agent-column { width: 50%; }.user-column { width: 25%; }.annotator-column { width: 25%; }.inner-tape-container { display: flex }.inner-tape-indent { width: 10%; }.inner-tape { width: 90%; }</style><style>.observation { background-color: #baffc9;; }.error_observation { background-color: #dd0000; }.action { background-color: #cccccc; }.thought { background-color: #ffffdb; }.call { background-color: #ffffff; }.respond { background-color: #ffffff; }.step-header { margin: 2pt 2pt 2pt 0 !important; }.step-text { font-size: 12px; white-space: pre-wrap; word-wrap: break-word;}</style><h3>Metadata</h3><details> <summary> Show / Hide </summary> <div class='basic-renderer-box'>author: ''\n",
       "author_tape_id: null\n",
       "error: null\n",
       "id: a6e9d071-f26b-4de9-be70-fc60722cd00c\n",
       "n_added_steps: 2\n",
       "parent_id: 45bae21b-6e28-412c-9f0d-09012a935ea7\n",
       "result: null\n",
       "</div> </details><h3>Steps</h3><div class='basic-renderer-box observation'><h4 class='step-header'>[0] User</h4><pre class='step-text'>kind: user\n",
       "\n",
       "Tell me about Vulcan in 3 sentences</pre></div><div class='basic-renderer-box action'><h4 class='step-header'>[1] Assistant</h4><pre class='step-text'>kind: assistant\n",
       "\n",
       "Vulcan is a fictional planet in the \"Star Trek\" universe, primarily known as the home world of the Vulcan species, including the iconic character Spock. It is characterized by its logical culture, advanced technology, and a commitment to peace and scientific exploration, often contrasted with the more emotive human perspective. The Vulcan people are noted for their practices of suppressing emotions and their dedication to unfettered reason, having developed a range of philosophies and disciplines rooted in logic and mental discipline.</pre></div><div class='basic-renderer-box thought'><h4 class='step-header'>[2] Thought: Jump</h4><pre class='step-text'>kind: jump\n",
       "next_node: 0\n",
       "</pre></div><div class='basic-renderer-box observation'><h4 class='step-header'>[3] User</h4><pre class='step-text'>kind: user\n",
       "\n",
       "No, I mean Vulcan the company</pre></div><div class='basic-renderer-box action'><h4 class='step-header'>[4] Assistant</h4><pre class='step-text'>kind: assistant\n",
       "\n",
       "Vulcan Inc. is a company founded by the late Paul Allen, co-founder of Microsoft, that focuses on various initiatives in technology, philanthropy, and conservation. The company operates through various subsidiaries and projects, investing in areas such as artificial intelligence, renewable energy, and health care, as well as supporting numerous charitable causes. Additionally, Vulcan is known for its efforts in science and technology, particularly through the development of innovative solutions aimed at addressing global challenges.</pre></div><div class='basic-renderer-box thought'><h4 class='step-header'>[5] Thought: Jump</h4><pre class='step-text'>kind: jump\n",
       "next_node: 0\n",
       "</pre></div>"
      ],
      "text/plain": [
       "<IPython.core.display.HTML object>"
      ]
     },
     "execution_count": 13,
     "metadata": {},
     "output_type": "execute_result"
    }
   ],
   "source": [
    "from tapeagents.rendering import PrettyRenderer, render_tape_with_prompts\n",
    "from IPython.display import HTML\n",
    "\n",
    "HTML(render_tape_with_prompts(continued_tape, PrettyRenderer()))\n"
   ]
  },
  {
   "cell_type": "markdown",
   "metadata": {},
   "source": [
    "# 2. Your TapeAgent with planning and tools"
   ]
  },
  {
   "cell_type": "markdown",
   "metadata": {},
   "source": [
    "Let's build a TapeAgent that plans and acts. We will be using OpenAI function calling capabilities in this example."
   ]
  },
  {
   "cell_type": "code",
   "execution_count": 14,
   "metadata": {
    "execution": {
     "iopub.execute_input": "2024-09-26T12:43:42.333986Z",
     "iopub.status.busy": "2024-09-26T12:43:42.333746Z",
     "iopub.status.idle": "2024-09-26T12:43:49.309846Z",
     "shell.execute_reply": "2024-09-26T12:43:49.308856Z"
    }
   },
   "outputs": [
    {
     "name": "stdout",
     "output_type": "stream",
     "text": [
      "Run the agent!\n"
     ]
    },
    {
     "name": "stdout",
     "output_type": "stream",
     "text": [
      "{\n",
      "  \"metadata\": {\n",
      "    \"id\": \"e6948df9-a002-4553-8b30-67e1717cdb3b\",\n",
      "    \"prompt_id\": \"b5f49791-0b04-42a2-b6aa-7d883f57191c\",\n",
      "    \"node\": \"\",\n",
      "    \"agent\": \"Agent\",\n",
      "    \"other\": {}\n",
      "  },\n",
      "  \"content\": \"To help the user learn about Vulcan, I will follow these steps:\\n\\n1. Use the `functions.get_stock_ticker` tool to find the stock ticker symbol for Vulcan.\\n2. Once the stock ticker is obtained, use the `functions.get_stock_data` tool to retrieve recent stock data for Vulcan.\\n3. Summarize the information about Vulcan, including its stock ticker and recent stock performance, in three sentences.\",\n",
      "  \"kind\": \"assistant_thought\"\n",
      "}\n"
     ]
    },
    {
     "name": "stdout",
     "output_type": "stream",
     "text": [
      "{\n",
      "  \"metadata\": {\n",
      "    \"id\": \"e6948df9-a002-4553-8b30-67e1717cdb3b\",\n",
      "    \"prompt_id\": \"f6e436f5-0a10-414b-8fbe-7c0981840014\",\n",
      "    \"node\": \"\",\n",
      "    \"agent\": \"Agent\",\n",
      "    \"other\": {}\n",
      "  },\n",
      "  \"tool_calls\": [\n",
      "    {\n",
      "      \"function\": {\n",
      "        \"arguments\": \"{\\\"company_name\\\": \\\"Vulcan\\\"}\",\n",
      "        \"name\": \"get_stock_ticker\"\n",
      "      },\n",
      "      \"id\": \"call_Apt4CTpu2GUayJkwxUUiOJg5\",\n",
      "      \"type\": \"function\"\n",
      "    },\n",
      "    {\n",
      "      \"function\": {\n",
      "        \"arguments\": \"{\\\"company_name\\\": \\\"Vulcan Materials\\\"}\",\n",
      "        \"name\": \"get_stock_ticker\"\n",
      "      },\n",
      "      \"id\": \"call_JWID6nAWryEONX81L5tcdVKD\",\n",
      "      \"type\": \"function\"\n",
      "    }\n",
      "  ],\n",
      "  \"kind\": \"assistant\"\n",
      "}\n",
      "{\n",
      "  \"metadata\": {\n",
      "    \"id\": \"e6948df9-a002-4553-8b30-67e1717cdb3b\",\n",
      "    \"prompt_id\": \"f6e436f5-0a10-414b-8fbe-7c0981840014\",\n",
      "    \"node\": \"\",\n",
      "    \"agent\": \"Agent\",\n",
      "    \"other\": {}\n",
      "  },\n",
      "  \"kind\": \"jump\",\n",
      "  \"next_node\": 1\n",
      "}\n"
     ]
    },
    {
     "name": "stdout",
     "output_type": "stream",
     "text": [
      "{\n",
      "  \"metadata\": {\n",
      "    \"id\": \"e6948df9-a002-4553-8b30-67e1717cdb3b\",\n",
      "    \"prompt_id\": \"\",\n",
      "    \"node\": \"\",\n",
      "    \"agent\": \"\",\n",
      "    \"other\": {}\n",
      "  },\n",
      "  \"content\": \"VMC\",\n",
      "  \"tool_call_id\": \"call_Apt4CTpu2GUayJkwxUUiOJg5\",\n",
      "  \"kind\": \"tool\"\n",
      "}\n",
      "{\n",
      "  \"metadata\": {\n",
      "    \"id\": \"e6948df9-a002-4553-8b30-67e1717cdb3b\",\n",
      "    \"prompt_id\": \"\",\n",
      "    \"node\": \"\",\n",
      "    \"agent\": \"\",\n",
      "    \"other\": {}\n",
      "  },\n",
      "  \"content\": \"VMC\",\n",
      "  \"tool_call_id\": \"call_JWID6nAWryEONX81L5tcdVKD\",\n",
      "  \"kind\": \"tool\"\n",
      "}\n"
     ]
    },
    {
     "name": "stdout",
     "output_type": "stream",
     "text": [
      "{\n",
      "  \"metadata\": {\n",
      "    \"id\": \"e6948df9-a002-4553-8b30-67e1717cdb3b\",\n",
      "    \"prompt_id\": \"515d2c08-3d3b-4690-b121-08ffcede1cd8\",\n",
      "    \"node\": \"\",\n",
      "    \"agent\": \"Agent\",\n",
      "    \"other\": {}\n",
      "  },\n",
      "  \"tool_calls\": [\n",
      "    {\n",
      "      \"function\": {\n",
      "        \"arguments\": \"{\\\"symbol\\\":\\\"VMC\\\",\\\"start_date\\\":\\\"2024-08-17\\\",\\\"end_date\\\":\\\"2024-09-17\\\"}\",\n",
      "        \"name\": \"get_stock_data\"\n",
      "      },\n",
      "      \"id\": \"call_S607htZ6ZGjddeYxqjweKPGd\",\n",
      "      \"type\": \"function\"\n",
      "    }\n",
      "  ],\n",
      "  \"kind\": \"assistant\"\n",
      "}\n",
      "{\n",
      "  \"metadata\": {\n",
      "    \"id\": \"e6948df9-a002-4553-8b30-67e1717cdb3b\",\n",
      "    \"prompt_id\": \"515d2c08-3d3b-4690-b121-08ffcede1cd8\",\n",
      "    \"node\": \"\",\n",
      "    \"agent\": \"Agent\",\n",
      "    \"other\": {}\n",
      "  },\n",
      "  \"kind\": \"jump\",\n",
      "  \"next_node\": 1\n",
      "}\n",
      "{\n",
      "  \"metadata\": {\n",
      "    \"id\": \"e6948df9-a002-4553-8b30-67e1717cdb3b\",\n",
      "    \"prompt_id\": \"\",\n",
      "    \"node\": \"\",\n",
      "    \"agent\": \"\",\n",
      "    \"other\": {}\n",
      "  },\n",
      "  \"content\": \"[('2024-08-19', 244.2899932861328), ('2024-08-20', 245.60000610351562), ('2024-08-21', 247.83999633789062), ('2024-08-22', 247.97999572753906), ('2024-08-23', 254.88999938964844), ('2024-08-26', 250.67999267578125), ('2024-08-27', 240.41000366210938), ('2024-08-28', 235.77000427246094), ('2024-08-29', 241.27999877929688), ('2024-08-30', 245.2100067138672), ('2024-09-03', 239.02000427246094), ('2024-09-04', 234.8300018310547), ('2024-09-05', 232.16000366210938), ('2024-09-06', 231.97000122070312), ('2024-09-09', 231.8300018310547), ('2024-09-10', 232.9499969482422), ('2024-09-11', 232.9499969482422), ('2024-09-12', 236.27000427246094), ('2024-09-13', 237.47000122070312), ('2024-09-16', 242.8699951171875)]\",\n",
      "  \"tool_call_id\": \"call_S607htZ6ZGjddeYxqjweKPGd\",\n",
      "  \"kind\": \"tool\"\n",
      "}\n"
     ]
    },
    {
     "name": "stdout",
     "output_type": "stream",
     "text": [
      "{\n",
      "  \"metadata\": {\n",
      "    \"id\": \"e6948df9-a002-4553-8b30-67e1717cdb3b\",\n",
      "    \"prompt_id\": \"2fbe6aae-f29d-402e-b098-16483dfc5870\",\n",
      "    \"node\": \"\",\n",
      "    \"agent\": \"Agent\",\n",
      "    \"other\": {}\n",
      "  },\n",
      "  \"content\": \"Vulcan Materials Company, trading under the stock ticker symbol VMC, is a major producer of construction aggregates, primarily crushed stone, sand, and gravel. Over the past month, its stock price has shown some volatility, with prices ranging from approximately $231.83 to $254.89. As of September 16, 2024, the stock price closed at $242.87.\",\n",
      "  \"kind\": \"assistant\"\n",
      "}\n",
      "{\n",
      "  \"metadata\": {\n",
      "    \"id\": \"e6948df9-a002-4553-8b30-67e1717cdb3b\",\n",
      "    \"prompt_id\": \"2fbe6aae-f29d-402e-b098-16483dfc5870\",\n",
      "    \"node\": \"\",\n",
      "    \"agent\": \"Agent\",\n",
      "    \"other\": {}\n",
      "  },\n",
      "  \"kind\": \"jump\",\n",
      "  \"next_node\": 0\n",
      "}\n",
      "Final tape:\n"
     ]
    },
    {
     "data": {
      "text/html": [
       "<style>.basic-renderer-box { margin: 4px; padding: 2px; background: lavender; white-space: pre-wrap; color: black;}.basic-prompt-box { margin: 4px; padding: 2px; background: lavender; color: black;}.episode-row { display: flex; align-items: end; }.agent-column { width: 50%; }.user-column { width: 25%; }.annotator-column { width: 25%; }.inner-tape-container { display: flex }.inner-tape-indent { width: 10%; }.inner-tape { width: 90%; }</style><style>.observation { background-color: #baffc9;; }.error_observation { background-color: #dd0000; }.action { background-color: #cccccc; }.thought { background-color: #ffffdb; }.call { background-color: #ffffff; }.respond { background-color: #ffffff; }.step-header { margin: 2pt 2pt 2pt 0 !important; }.step-text { font-size: 12px; white-space: pre-wrap; word-wrap: break-word;}</style><h3>Metadata</h3><details> <summary> Show / Hide </summary> <div class='basic-renderer-box'>author: ''\n",
       "author_tape_id: null\n",
       "error: null\n",
       "id: f464c0e9-d7ea-4072-9f9e-4058dedeb168\n",
       "n_added_steps: 2\n",
       "parent_id: 5d41ce63-695d-41b6-bebe-f5e57dc5326b\n",
       "result: null\n",
       "</div> </details><h3>Steps</h3><div class='basic-renderer-box observation'><h4 class='step-header'>[0] User</h4><pre class='step-text'>kind: user\n",
       "\n",
       "Tell me about Vulcan in 3 sentences</pre></div><div class='basic-renderer-box thought'><h4 class='step-header'>[1] Thought: AssistantThought</h4><pre class='step-text'>kind: assistant_thought\n",
       "\n",
       "To help the user learn about Vulcan, I will follow these steps:\n",
       "\n",
       "1. Use the `functions.get_stock_ticker` tool to find the stock ticker symbol for Vulcan.\n",
       "2. Once the stock ticker is obtained, use the `functions.get_stock_data` tool to retrieve recent stock data for Vulcan.\n",
       "3. Summarize the information about Vulcan, including its stock ticker and recent stock performance, in three sentences.</pre></div><div class='basic-renderer-box action'><h4 class='step-header'>[2] Action: ToolCalls</h4><pre class='step-text'>tool_calls:\n",
       "- function:\n",
       "    arguments: '{\"company_name\": \"Vulcan\"}'\n",
       "    name: get_stock_ticker\n",
       "  id: call_Apt4CTpu2GUayJkwxUUiOJg5\n",
       "  type: function\n",
       "- function:\n",
       "    arguments: '{\"company_name\": \"Vulcan Materials\"}'\n",
       "    name: get_stock_ticker\n",
       "  id: call_JWID6nAWryEONX81L5tcdVKD\n",
       "  type: function\n",
       "kind: assistant\n",
       "</pre></div><div class='basic-renderer-box thought'><h4 class='step-header'>[3] Thought: Jump</h4><pre class='step-text'>kind: jump\n",
       "next_node: 1\n",
       "</pre></div><div class='basic-renderer-box observation'><h4 class='step-header'>[4] Observation: ToolResult</h4><pre class='step-text'>tool_call_id: call_Apt4CTpu2GUayJkwxUUiOJg5\n",
       "kind: tool\n",
       "\n",
       "VMC</pre></div><div class='basic-renderer-box observation'><h4 class='step-header'>[5] Observation: ToolResult</h4><pre class='step-text'>tool_call_id: call_JWID6nAWryEONX81L5tcdVKD\n",
       "kind: tool\n",
       "\n",
       "VMC</pre></div><div class='basic-renderer-box action'><h4 class='step-header'>[6] Action: ToolCalls</h4><pre class='step-text'>tool_calls:\n",
       "- function:\n",
       "    arguments: '{\"symbol\":\"VMC\",\"start_date\":\"2024-08-17\",\"end_date\":\"2024-09-17\"}'\n",
       "    name: get_stock_data\n",
       "  id: call_S607htZ6ZGjddeYxqjweKPGd\n",
       "  type: function\n",
       "kind: assistant\n",
       "</pre></div><div class='basic-renderer-box thought'><h4 class='step-header'>[7] Thought: Jump</h4><pre class='step-text'>kind: jump\n",
       "next_node: 1\n",
       "</pre></div><div class='basic-renderer-box observation'><h4 class='step-header'>[8] Observation: ToolResult</h4><pre class='step-text'>tool_call_id: call_S607htZ6ZGjddeYxqjweKPGd\n",
       "kind: tool\n",
       "\n",
       "[('2024-08-19', 244.2899932861328), ('2024-08-20', 245.60000610351562), ('2024-08-21', 247.83999633789062), ('2024-08-22', 247.97999572753906), ('2024-08-23', 254.88999938964844), ('2024-08-26', 250.67999267578125), ('2024-08-27', 240.41000366210938), ('2024-08-28', 235.77000427246094), ('2024-08-29', 241.27999877929688), ('2024-08-30', 245.2100067138672), ('2024-09-03', 239.02000427246094), ('2024-09-04', 234.8300018310547), ('2024-09-05', 232.16000366210938), ('2024-09-06', 231.97000122070312), ('2024-09-09', 231.8300018310547), ('2024-09-10', 232.9499969482422), ('2024-09-11', 232.9499969482422), ('2024-09-12', 236.27000427246094), ('2024-09-13', 237.47000122070312), ('2024-09-16', 242.8699951171875)]</pre></div><div class='basic-renderer-box action'><h4 class='step-header'>[9] Assistant</h4><pre class='step-text'>kind: assistant\n",
       "\n",
       "Vulcan Materials Company, trading under the stock ticker symbol VMC, is a major producer of construction aggregates, primarily crushed stone, sand, and gravel. Over the past month, its stock price has shown some volatility, with prices ranging from approximately $231.83 to $254.89. As of September 16, 2024, the stock price closed at $242.87.</pre></div><div class='basic-renderer-box thought'><h4 class='step-header'>[10] Thought: Jump</h4><pre class='step-text'>kind: jump\n",
       "next_node: 0\n",
       "</pre></div>"
      ],
      "text/plain": [
       "<IPython.core.display.HTML object>"
      ]
     },
     "execution_count": 14,
     "metadata": {},
     "output_type": "execute_result"
    }
   ],
   "source": [
    "from tapeagents.core import Jump\n",
    "from tapeagents.dialog_tape import AssistantThought, ToolCalls\n",
    "from tapeagents.environment import ToolEnvironment\n",
    "from tapeagents.runtime import main_loop\n",
    "from examples.intro_tools import get_stock_ticker, get_stock_data\n",
    "\n",
    "system_instruction = f\"\"\"\n",
    "You will help the user to learn about financials of companies.\n",
    "Use as many relevant tools as possible to include more details and facts in your responses.\n",
    "Today is {today}.\n",
    "\"\"\"\n",
    "system_message = {\"role\": \"system\", \"content\": system_instruction}\n",
    "\n",
    "env = ToolEnvironment([get_stock_ticker, get_stock_data])\n",
    "\n",
    "\n",
    "def make_planning_prompt(agent, tape: DialogTape) -> Prompt:\n",
    "    guidance = \"Write a natural language plan on how to use tools help the user. Output a list of numbered items, like 1., 2., 3., etc.\"\n",
    "    guidance_message = {\"role\": \"user\", \"content\": guidance}\n",
    "    return Prompt(\n",
    "        messages=[system_message] + tape_to_messages(tape) + [guidance_message], tools=env.get_tool_schema_dicts()\n",
    "    )\n",
    "\n",
    "\n",
    "def generate_planning_steps(agent, tape, llm_stream: LLMStream):\n",
    "    if content := llm_stream.get_message().content:\n",
    "        yield AssistantThought(content=content)\n",
    "    else:\n",
    "        raise ValueError()\n",
    "\n",
    "\n",
    "def make_prompt(agent, tape: DialogTape) -> Prompt:\n",
    "    guidance = \"Follow the plan you created to earlier. When you are done, respond to the user.\"\n",
    "    guidance_message = {\"role\": \"user\", \"content\": guidance}\n",
    "    return Prompt(\n",
    "        messages=[system_message] + tape_to_messages(tape) + [guidance_message], tools=env.get_tool_schema_dicts()\n",
    "    )\n",
    "\n",
    "\n",
    "def generate_steps(agent, tape, llm_stream: LLMStream):\n",
    "    m = llm_stream.get_message()\n",
    "    if m.content:\n",
    "        yield AssistantStep(content=m.content)\n",
    "        yield Jump(next_node=0)\n",
    "    elif m.tool_calls:\n",
    "        yield ToolCalls(tool_calls=m.tool_calls)\n",
    "        yield Jump(next_node=1)\n",
    "    else:\n",
    "        raise ValueError()\n",
    "\n",
    "\n",
    "agent1 = Agent.create(\n",
    "    LiteLLM(model_name=\"gpt-4o\", parameters={\"temperature\": 0.1}),\n",
    "    nodes=[\n",
    "        Node().with_prompt(make_planning_prompt).with_generate_steps(generate_planning_steps),\n",
    "        Node().with_prompt(make_prompt).with_generate_steps(generate_steps),\n",
    "    ],\n",
    ")\n",
    "\n",
    "print(\"Run the agent!\")\n",
    "final_tape1 = None\n",
    "for event in main_loop(agent1, DialogTape() + [UserStep(content=\"Tell me about Vulcan in 3 sentences\")], env):\n",
    "    if ae := event.agent_event:\n",
    "        if ae.step:\n",
    "            print(ae.step.model_dump_json(indent=2))\n",
    "        if ae.final_tape:\n",
    "            final_tape1 = ae.final_tape\n",
    "    if event.observation:\n",
    "        print(event.observation.model_dump_json(indent=2))\n",
    "assert final_tape1\n",
    "print(\"Final tape:\")\n",
    "HTML(render_tape_with_prompts(final_tape1, PrettyRenderer()))\n"
   ]
  },
  {
   "cell_type": "markdown",
   "metadata": {},
   "source": [
    "The main new thing in this example is the environment. In TapeAgents framework the environment responds to the agent `Action` steps with `Observation` steps. We expect you to use the environment to encapsulate tool use, retrieval, code execution: everything that is non-deterministic, non-stationary, or computationally heavy. On the contrary, we encourage you to implements the agent's deterministic decision-making in `make_prompt` and `generate_steps` methods.\n",
    "\n",
    "Here we use a pre-defined `main_loop` orchestrator to run the agent and the environment. `main_loop` is a generator of events that you can use as you wish. You are free to implement your own orchestration paradigm with a fine-grained control over what actions get to be executed."
   ]
  },
  {
   "cell_type": "markdown",
   "metadata": {},
   "source": [
    "# 3. Agent configuration, resumption"
   ]
  },
  {
   "cell_type": "markdown",
   "metadata": {},
   "source": [
    "Let's try building a similar agent with an open-weights LLAMA3.1 70B models. Conveniently, [Together AI](together.ai) offers API endpoints. You can create an account and get API key with some free quota.\n",
    "\n",
    "We've found that LLAMA3 function-calling is not yet battle-ready. We will use the structured output approach to make it call tools instead. We are also making this agent trainable by adding `make_llm_output` methods to each node. `Node.make_llm_output` defines how a node can reconstruct the LLM completion message that would be required to make the steps from the given tape at the given index. You can think of `Node.make_llm_output` as the inverse of `Node.generate_steps`.\n",
    "\n",
    "When you run the code below, you might see a different behavior every time. Often the LLAMA-based agent gets stuck in a loop. We will look into how TapeAgents supports you in addressing this issue by\n",
    "- tuning the prompt and resuming the agent exactly where it got stuck \n",
    "- producing training text from a different agent's tape "
   ]
  },
  {
   "cell_type": "code",
   "execution_count": 15,
   "metadata": {
    "execution": {
     "iopub.execute_input": "2024-09-26T12:43:49.313259Z",
     "iopub.status.busy": "2024-09-26T12:43:49.312918Z",
     "iopub.status.idle": "2024-09-26T12:43:59.219801Z",
     "shell.execute_reply": "2024-09-26T12:43:59.219250Z"
    }
   },
   "outputs": [
    {
     "name": "stdout",
     "output_type": "stream",
     "text": [
      "Run LLAMA agent!\n"
     ]
    },
    {
     "name": "stdout",
     "output_type": "stream",
     "text": [
      "{\n",
      "  \"metadata\": {\n",
      "    \"id\": \"e6948df9-a002-4553-8b30-67e1717cdb3b\",\n",
      "    \"prompt_id\": \"0782178b-ef14-4171-921d-c9fa59b2d1b9\",\n",
      "    \"node\": \"\",\n",
      "    \"agent\": \"Agent\",\n",
      "    \"other\": {}\n",
      "  },\n",
      "  \"content\": \"Here's a plan to help the user learn about Vulcan Materials using the available tools:\\n\\n1. First, let's find the stock ticker for Vulcan Materials using the `get_stock_ticker` function by passing the company name \\\"Vulcan Materials\\\" as an argument, like this: `get_stock_ticker(\\\"Vulcan Materials\\\")`. This will give us the stock ticker symbol for the company.\\n\\n2. Once we have the stock ticker, we can use the `get_stock_data` function to retrieve the stock prices for Vulcan Materials over a specific period. For example, let's get the stock prices for the past year by calling `get_stock_data(ticker, \\\"2023-09-17\\\", \\\"2024-09-17\\\")`, where `ticker` is the stock ticker symbol obtained in step 1.\\n\\n3. With the stock price data, we can analyze and provide insights about Vulcan Materials' financial performance over the past year. We can discuss the company's stock price trends, highest and lowest prices, and any notable events that may have affected the stock price.\\n\\nBy following these steps, we can provide a comprehensive overview of Vulcan Materials' financial performance using the available tools.\",\n",
      "  \"kind\": \"assistant_thought\"\n",
      "}\n"
     ]
    },
    {
     "name": "stdout",
     "output_type": "stream",
     "text": [
      "{\n",
      "  \"metadata\": {\n",
      "    \"id\": \"e6948df9-a002-4553-8b30-67e1717cdb3b\",\n",
      "    \"prompt_id\": \"aef70e3b-3b67-4d42-a778-2616b9cea3ef\",\n",
      "    \"node\": \"\",\n",
      "    \"agent\": \"Agent\",\n",
      "    \"other\": {}\n",
      "  },\n",
      "  \"tool_calls\": [\n",
      "    {\n",
      "      \"function\": {\n",
      "        \"arguments\": \"{\\\"company_name\\\": \\\"Vulcan Materials\\\"}\",\n",
      "        \"name\": \"get_stock_ticker\"\n",
      "      },\n",
      "      \"id\": \"tool_call_0_node_starts_at_2\",\n",
      "      \"type\": \"function\"\n",
      "    }\n",
      "  ],\n",
      "  \"kind\": \"assistant\"\n",
      "}\n",
      "{\n",
      "  \"metadata\": {\n",
      "    \"id\": \"e6948df9-a002-4553-8b30-67e1717cdb3b\",\n",
      "    \"prompt_id\": \"aef70e3b-3b67-4d42-a778-2616b9cea3ef\",\n",
      "    \"node\": \"\",\n",
      "    \"agent\": \"Agent\",\n",
      "    \"other\": {}\n",
      "  },\n",
      "  \"kind\": \"jump\",\n",
      "  \"next_node\": 1\n",
      "}\n",
      "{\n",
      "  \"metadata\": {\n",
      "    \"id\": \"e6948df9-a002-4553-8b30-67e1717cdb3b\",\n",
      "    \"prompt_id\": \"\",\n",
      "    \"node\": \"\",\n",
      "    \"agent\": \"\",\n",
      "    \"other\": {}\n",
      "  },\n",
      "  \"content\": \"VMC\",\n",
      "  \"tool_call_id\": \"tool_call_0_node_starts_at_2\",\n",
      "  \"kind\": \"tool\"\n",
      "}\n"
     ]
    },
    {
     "name": "stdout",
     "output_type": "stream",
     "text": [
      "{\n",
      "  \"metadata\": {\n",
      "    \"id\": \"e6948df9-a002-4553-8b30-67e1717cdb3b\",\n",
      "    \"prompt_id\": \"21c31a82-a505-49d8-bdb9-360f94d7616a\",\n",
      "    \"node\": \"\",\n",
      "    \"agent\": \"Agent\",\n",
      "    \"other\": {}\n",
      "  },\n",
      "  \"tool_calls\": [\n",
      "    {\n",
      "      \"function\": {\n",
      "        \"arguments\": \"{\\\"symbol\\\": \\\"VMC\\\", \\\"start_date\\\": \\\"2023-09-17\\\", \\\"end_date\\\": \\\"2024-09-17\\\"}\",\n",
      "        \"name\": \"get_stock_data\"\n",
      "      },\n",
      "      \"id\": \"tool_call_0_node_starts_at_5\",\n",
      "      \"type\": \"function\"\n",
      "    }\n",
      "  ],\n",
      "  \"kind\": \"assistant\"\n",
      "}\n",
      "{\n",
      "  \"metadata\": {\n",
      "    \"id\": \"e6948df9-a002-4553-8b30-67e1717cdb3b\",\n",
      "    \"prompt_id\": \"21c31a82-a505-49d8-bdb9-360f94d7616a\",\n",
      "    \"node\": \"\",\n",
      "    \"agent\": \"Agent\",\n",
      "    \"other\": {}\n",
      "  },\n",
      "  \"kind\": \"jump\",\n",
      "  \"next_node\": 1\n",
      "}\n",
      "{\n",
      "  \"metadata\": {\n",
      "    \"id\": \"e6948df9-a002-4553-8b30-67e1717cdb3b\",\n",
      "    \"prompt_id\": \"\",\n",
      "    \"node\": \"\",\n",
      "    \"agent\": \"\",\n",
      "    \"other\": {}\n",
      "  },\n",
      "  \"content\": \"[('2023-09-18', 211.69000244140625), ('2023-09-22', 200.6199951171875), ('2023-09-28', 205.02999877929688), ('2023-10-04', 205.02999877929688), ('2023-10-10', 211.0), ('2023-10-16', 213.0399932861328), ('2023-10-20', 201.5500030517578), ('2023-10-26', 193.97000122070312), ('2023-11-01', 203.8000030517578), ('2023-11-07', 207.2100067138672), ('2023-11-13', 210.49000549316406), ('2023-11-17', 212.35000610351562), ('2023-11-24', 211.67999267578125), ('2023-11-30', 213.55999755859375), ('2023-12-06', 211.92999267578125), ('2023-12-12', 220.89999389648438), ('2023-12-18', 222.6999969482422), ('2023-12-22', 224.92999267578125), ('2023-12-29', 227.00999450683594), ('2024-01-05', 221.6199951171875), ('2024-01-11', 224.36000061035156), ('2024-01-18', 225.1199951171875), ('2024-01-24', 219.8000030517578), ('2024-01-30', 231.0500030517578), ('2024-02-05', 229.64999389648438), ('2024-02-09', 240.0), ('2024-02-15', 242.4600067138672), ('2024-02-22', 256.94000244140625), ('2024-02-28', 262.29998779296875), ('2024-03-05', 264.9800109863281), ('2024-03-11', 264.95001220703125), ('2024-03-15', 266.8599853515625), ('2024-03-21', 275.5899963378906), ('2024-03-27', 272.7900085449219), ('2024-04-03', 268.7699890136719), ('2024-04-09', 265.6199951171875), ('2024-04-15', 260.4700012207031), ('2024-04-19', 252.05999755859375), ('2024-04-25', 258.5400085449219), ('2024-05-01', 259.7300109863281), ('2024-05-07', 268.3500061035156), ('2024-05-13', 270.0899963378906), ('2024-05-17', 259.1000061035156), ('2024-05-23', 257.2099914550781), ('2024-05-30', 254.0800018310547), ('2024-06-05', 251.17999267578125), ('2024-06-11', 244.63999938964844), ('2024-06-17', 256.3500061035156), ('2024-06-24', 247.5800018310547), ('2024-06-28', 248.67999267578125), ('2024-07-05', 244.2100067138672), ('2024-07-11', 254.69000244140625), ('2024-07-17', 255.8000030517578), ('2024-07-23', 260.1499938964844), ('2024-07-29', 264.5299987792969), ('2024-08-02', 266.3399963378906), ('2024-08-08', 246.3300018310547), ('2024-08-14', 242.5), ('2024-08-20', 245.60000610351562), ('2024-08-26', 250.67999267578125), ('2024-08-30', 245.2100067138672), ('2024-09-06', 231.97000122070312), ('2024-09-12', 236.27000427246094)]\",\n",
      "  \"tool_call_id\": \"tool_call_0_node_starts_at_5\",\n",
      "  \"kind\": \"tool\"\n",
      "}\n"
     ]
    },
    {
     "name": "stdout",
     "output_type": "stream",
     "text": [
      "{\n",
      "  \"metadata\": {\n",
      "    \"id\": \"e6948df9-a002-4553-8b30-67e1717cdb3b\",\n",
      "    \"prompt_id\": \"ecc8c0fd-56a0-4b84-9a75-3a8039b90129\",\n",
      "    \"node\": \"\",\n",
      "    \"agent\": \"Agent\",\n",
      "    \"other\": {}\n",
      "  },\n",
      "  \"content\": \"Vulcan Materials is a US-based company that produces construction materials. Its stock ticker symbol is VMC. The company's stock price over the past year has been fluctuating, with a high of 275.5899963378906 on March 21, 2024, and a low of 193.97000122070312 on October 26, 2023. As of September 17, 2024, the stock price is around 236.27000427246094.\",\n",
      "  \"kind\": \"assistant\"\n",
      "}\n",
      "{\n",
      "  \"metadata\": {\n",
      "    \"id\": \"e6948df9-a002-4553-8b30-67e1717cdb3b\",\n",
      "    \"prompt_id\": \"ecc8c0fd-56a0-4b84-9a75-3a8039b90129\",\n",
      "    \"node\": \"\",\n",
      "    \"agent\": \"Agent\",\n",
      "    \"other\": {}\n",
      "  },\n",
      "  \"kind\": \"jump\",\n",
      "  \"next_node\": 0\n",
      "}\n",
      "Final tape:\n"
     ]
    },
    {
     "data": {
      "text/html": [
       "<style>.basic-renderer-box { margin: 4px; padding: 2px; background: lavender; white-space: pre-wrap; color: black;}.basic-prompt-box { margin: 4px; padding: 2px; background: lavender; color: black;}.episode-row { display: flex; align-items: end; }.agent-column { width: 50%; }.user-column { width: 25%; }.annotator-column { width: 25%; }.inner-tape-container { display: flex }.inner-tape-indent { width: 10%; }.inner-tape { width: 90%; }</style><style>.observation { background-color: #baffc9;; }.error_observation { background-color: #dd0000; }.action { background-color: #cccccc; }.thought { background-color: #ffffdb; }.call { background-color: #ffffff; }.respond { background-color: #ffffff; }.step-header { margin: 2pt 2pt 2pt 0 !important; }.step-text { font-size: 12px; white-space: pre-wrap; word-wrap: break-word;}</style><h3>Metadata</h3><details> <summary> Show / Hide </summary> <div class='basic-renderer-box'>author: ''\n",
       "author_tape_id: null\n",
       "error: null\n",
       "id: a1988162-704c-466f-8a74-8b86a5dfe82a\n",
       "n_added_steps: 2\n",
       "parent_id: 45e92930-6869-46c1-856e-53fb4ecb7a7f\n",
       "result: null\n",
       "</div> </details><h3>Steps</h3><div class='basic-renderer-box observation'><h4 class='step-header'>[0] User</h4><pre class='step-text'>kind: user\n",
       "\n",
       "Tell me about Vulcan Materials in 3 sentences</pre></div><div class='basic-renderer-box thought'><h4 class='step-header'>[1] Thought: AssistantThought</h4><pre class='step-text'>kind: assistant_thought\n",
       "\n",
       "<details><summary>1101 characters ...</summary>Here's a plan to help the user learn about Vulcan Materials using the available tools:\n",
       "\n",
       "1. First, let's find the stock ticker for Vulcan Materials using the `get_stock_ticker` function by passing the company name \"Vulcan Materials\" as an argument, like this: `get_stock_ticker(\"Vulcan Materials\")`. This will give us the stock ticker symbol for the company.\n",
       "\n",
       "2. Once we have the stock ticker, we can use the `get_stock_data` function to retrieve the stock prices for Vulcan Materials over a specific period. For example, let's get the stock prices for the past year by calling `get_stock_data(ticker, \"2023-09-17\", \"2024-09-17\")`, where `ticker` is the stock ticker symbol obtained in step 1.\n",
       "\n",
       "3. With the stock price data, we can analyze and provide insights about Vulcan Materials' financial performance over the past year. We can discuss the company's stock price trends, highest and lowest prices, and any notable events that may have affected the stock price.\n",
       "\n",
       "By following these steps, we can provide a comprehensive overview of Vulcan Materials' financial performance using the available tools.</details></pre></div><div class='basic-renderer-box action'><h4 class='step-header'>[2] Action: ToolCalls</h4><pre class='step-text'>tool_calls:\n",
       "- function:\n",
       "    arguments: '{\"company_name\": \"Vulcan Materials\"}'\n",
       "    name: get_stock_ticker\n",
       "  id: tool_call_0_node_starts_at_2\n",
       "  type: function\n",
       "kind: assistant\n",
       "</pre></div><div class='basic-renderer-box thought'><h4 class='step-header'>[3] Thought: Jump</h4><pre class='step-text'>kind: jump\n",
       "next_node: 1\n",
       "</pre></div><div class='basic-renderer-box observation'><h4 class='step-header'>[4] Observation: ToolResult</h4><pre class='step-text'>tool_call_id: tool_call_0_node_starts_at_2\n",
       "kind: tool\n",
       "\n",
       "VMC</pre></div><div class='basic-renderer-box action'><h4 class='step-header'>[5] Action: ToolCalls</h4><pre class='step-text'>tool_calls:\n",
       "- function:\n",
       "    arguments: '{\"symbol\": \"VMC\", \"start_date\": \"2023-09-17\", \"end_date\": \"2024-09-17\"}'\n",
       "    name: get_stock_data\n",
       "  id: tool_call_0_node_starts_at_5\n",
       "  type: function\n",
       "kind: assistant\n",
       "</pre></div><div class='basic-renderer-box thought'><h4 class='step-header'>[6] Thought: Jump</h4><pre class='step-text'>kind: jump\n",
       "next_node: 1\n",
       "</pre></div><div class='basic-renderer-box observation'><h4 class='step-header'>[7] Observation: ToolResult</h4><pre class='step-text'>tool_call_id: tool_call_0_node_starts_at_5\n",
       "kind: tool\n",
       "\n",
       "<details><summary>2195 characters ...</summary>[('2023-09-18', 211.69000244140625), ('2023-09-22', 200.6199951171875), ('2023-09-28', 205.02999877929688), ('2023-10-04', 205.02999877929688), ('2023-10-10', 211.0), ('2023-10-16', 213.0399932861328), ('2023-10-20', 201.5500030517578), ('2023-10-26', 193.97000122070312), ('2023-11-01', 203.8000030517578), ('2023-11-07', 207.2100067138672), ('2023-11-13', 210.49000549316406), ('2023-11-17', 212.35000610351562), ('2023-11-24', 211.67999267578125), ('2023-11-30', 213.55999755859375), ('2023-12-06', 211.92999267578125), ('2023-12-12', 220.89999389648438), ('2023-12-18', 222.6999969482422), ('2023-12-22', 224.92999267578125), ('2023-12-29', 227.00999450683594), ('2024-01-05', 221.6199951171875), ('2024-01-11', 224.36000061035156), ('2024-01-18', 225.1199951171875), ('2024-01-24', 219.8000030517578), ('2024-01-30', 231.0500030517578), ('2024-02-05', 229.64999389648438), ('2024-02-09', 240.0), ('2024-02-15', 242.4600067138672), ('2024-02-22', 256.94000244140625), ('2024-02-28', 262.29998779296875), ('2024-03-05', 264.9800109863281), ('2024-03-11', 264.95001220703125), ('2024-03-15', 266.8599853515625), ('2024-03-21', 275.5899963378906), ('2024-03-27', 272.7900085449219), ('2024-04-03', 268.7699890136719), ('2024-04-09', 265.6199951171875), ('2024-04-15', 260.4700012207031), ('2024-04-19', 252.05999755859375), ('2024-04-25', 258.5400085449219), ('2024-05-01', 259.7300109863281), ('2024-05-07', 268.3500061035156), ('2024-05-13', 270.0899963378906), ('2024-05-17', 259.1000061035156), ('2024-05-23', 257.2099914550781), ('2024-05-30', 254.0800018310547), ('2024-06-05', 251.17999267578125), ('2024-06-11', 244.63999938964844), ('2024-06-17', 256.3500061035156), ('2024-06-24', 247.5800018310547), ('2024-06-28', 248.67999267578125), ('2024-07-05', 244.2100067138672), ('2024-07-11', 254.69000244140625), ('2024-07-17', 255.8000030517578), ('2024-07-23', 260.1499938964844), ('2024-07-29', 264.5299987792969), ('2024-08-02', 266.3399963378906), ('2024-08-08', 246.3300018310547), ('2024-08-14', 242.5), ('2024-08-20', 245.60000610351562), ('2024-08-26', 250.67999267578125), ('2024-08-30', 245.2100067138672), ('2024-09-06', 231.97000122070312), ('2024-09-12', 236.27000427246094)]</details></pre></div><div class='basic-renderer-box action'><h4 class='step-header'>[8] Assistant</h4><pre class='step-text'>kind: assistant\n",
       "\n",
       "Vulcan Materials is a US-based company that produces construction materials. Its stock ticker symbol is VMC. The company's stock price over the past year has been fluctuating, with a high of 275.5899963378906 on March 21, 2024, and a low of 193.97000122070312 on October 26, 2023. As of September 17, 2024, the stock price is around 236.27000427246094.</pre></div><div class='basic-renderer-box thought'><h4 class='step-header'>[9] Thought: Jump</h4><pre class='step-text'>kind: jump\n",
       "next_node: 0\n",
       "</pre></div>"
      ],
      "text/plain": [
       "<IPython.core.display.HTML object>"
      ]
     },
     "execution_count": 15,
     "metadata": {},
     "output_type": "execute_result"
    }
   ],
   "source": [
    "import json\n",
    "from tapeagents.core import LLMOutput\n",
    "from tapeagents.llms import LLAMA\n",
    "from litellm.utils import ChatCompletionMessageToolCall\n",
    "from litellm.utils import Function\n",
    "\n",
    "from tapeagents.prompting import step_to_message\n",
    "\n",
    "env = ToolEnvironment([get_stock_ticker, get_stock_data])\n",
    "\n",
    "system_instruction = f\"\"\"\n",
    "You will help the user to learn about financials of companies.\n",
    "Use as many relevant tools as possible to include more details and facts in your responses.\n",
    "Today is {today}.\n",
    "\n",
    "You have access to the following tools: {env.get_tool_schema_dicts()}\"\"\"\n",
    "\n",
    "planning_guidance = \"Write a natural language plan on how to use tools help the user. Output a list of numbered items, like 1., 2., 3., etc.\"\n",
    "\n",
    "call_or_respond_guidance = \"\"\"\n",
    "Follow the plan you created earlier. When you are done, respond to the user.\n",
    "If you want to call a or several tools, output JSON like this\n",
    "{\"kind\": \"tool_call\", \"tool_name\": \"...\", \"parameters\": \"... unquoted parameters json ...\"}\n",
    "If you have called all the tools in the plan, respond to the user with the JSON of the form\n",
    "{\"kind\": \"response\", \"content\": \"... you response ... \"}.\n",
    "Output ONE JSON OBJECT ONLY PER LINE ONLY AND NOTHING ELSE.\n",
    "\"\"\"\n",
    "\n",
    "\n",
    "def make_planning_prompt(agent, tape: DialogTape) -> Prompt:\n",
    "    system_message = {\"role\": \"system\", \"content\": system_instruction}\n",
    "    guidance_message = {\"role\": \"user\", \"content\": agent.templates[\"planning\"]}\n",
    "    return Prompt(messages=[system_message] + tape_to_messages(tape) + [guidance_message])\n",
    "\n",
    "\n",
    "def generate_planning_steps(agent, tape, llm_stream: LLMStream):\n",
    "    if content := getattr(llm_stream.get_message(), \"content\", None):\n",
    "        yield AssistantThought(content=content)\n",
    "    else:\n",
    "        raise ValueError()\n",
    "\n",
    "\n",
    "def make_planning_llm_output(agent, tape: DialogTape, index: int) -> LLMOutput:\n",
    "    if not isinstance(current := tape[index], AssistantThought):\n",
    "        raise ValueError()\n",
    "    return LLMOutput(role=\"assistant\", content=current.content)\n",
    "\n",
    "\n",
    "def _llm_message_content(step: AssistantStep | ToolCalls):\n",
    "    \"\"\"Helper function to make both the prompt and the target completion\"\"\"\n",
    "    match step:\n",
    "        case AssistantStep():\n",
    "            return json.dumps({\"kind\": \"response\", \"content\": step.content})\n",
    "        case ToolCalls():\n",
    "            content = \"\"\n",
    "            for tool_call in step.tool_calls:\n",
    "                if content:\n",
    "                    content += \"\\n\"\n",
    "                content += json.dumps(\n",
    "                    {\n",
    "                        \"kind\": \"tool_call\",\n",
    "                        \"tool_name\": tool_call.function.name,\n",
    "                        \"parameters\": json.loads(tool_call.function.arguments),\n",
    "                    }\n",
    "                )\n",
    "            return content\n",
    "        case _:\n",
    "            raise ValueError()\n",
    "\n",
    "\n",
    "def make_prompt(agent, tape: DialogTape) -> Prompt:\n",
    "    system_message = {\"role\": \"system\", \"content\": system_instruction}\n",
    "    guidance_message = {\"role\": \"user\", \"content\": agent.templates[\"call_or_respond\"]}\n",
    "    messages = [system_message]\n",
    "    for step in tape:\n",
    "        if isinstance(step, (ToolCalls)):\n",
    "            messages.append({\"role\": \"assistant\", \"content\": _llm_message_content(step)})\n",
    "        elif not isinstance(step, Jump):\n",
    "            messages.append(step_to_message(step))\n",
    "    messages += [guidance_message]\n",
    "    return Prompt(messages=messages)\n",
    "\n",
    "\n",
    "def generate_steps(agent, tape, llm_stream: LLMStream):\n",
    "    m = llm_stream.get_message()\n",
    "    try:\n",
    "        assert m.content\n",
    "        tool_calls = []\n",
    "        response = None\n",
    "        for line in m.content.split(\"\\n\"):\n",
    "            data = json.loads(line)\n",
    "            if data.get(\"kind\") == \"response\":\n",
    "                response = data[\"content\"]\n",
    "            elif data.get(\"kind\") == \"tool_call\":\n",
    "                tool_call = ChatCompletionMessageToolCall(\n",
    "                    function=Function(name=data[\"tool_name\"], arguments=json.dumps(data[\"parameters\"])),\n",
    "                    # tool call must be a unique string, it helps to make it something deterministic\n",
    "                    id=f\"tool_call_{len(tool_calls)}_node_starts_at_{len(tape)}\",\n",
    "                )\n",
    "                tool_calls.append(tool_call)\n",
    "            else:\n",
    "                yield AssistantStep(content=\"Invalid LLM output: kind field must be 'response' or 'tool_call'\")\n",
    "        if response and tool_calls:\n",
    "            yield AssistantStep(content=\"Invalid LLM output: response and tool_call cannot be in the same message\")\n",
    "        if response:\n",
    "            yield AssistantStep(content=response)\n",
    "            yield Jump(next_node=0)\n",
    "        if tool_calls:\n",
    "            yield ToolCalls(tool_calls=tool_calls)\n",
    "            yield Jump(next_node=1)\n",
    "    except Exception as e:\n",
    "        yield AssistantStep(content=\"Invalid JSON object: \" + str(e))\n",
    "\n",
    "\n",
    "def make_llm_output(agent, tape: DialogTape, index: int) -> LLMOutput:\n",
    "    if not isinstance(step := tape[index], AssistantStep | ToolCalls):\n",
    "        raise ValueError()\n",
    "    content = _llm_message_content(step)\n",
    "    return LLMOutput(role=\"assistant\", content=content)\n",
    "\n",
    "\n",
    "agent2 = Agent.create(\n",
    "    LLAMA(\n",
    "        base_url=\"https://api.together.xyz\",\n",
    "        model_name=\"meta-llama/Meta-Llama-3-70B-Instruct-Turbo\",\n",
    "        tokenizer_name=\"meta-llama/Meta-Llama-3-70B-Instruct\",\n",
    "        parameters=dict(temperature=0.01),\n",
    "    ),\n",
    "    templates={\n",
    "        \"system\": system_instruction,\n",
    "        \"planning\": planning_guidance,\n",
    "        \"call_or_respond\": call_or_respond_guidance,\n",
    "    },\n",
    "    nodes=[\n",
    "        Node()\n",
    "        .with_prompt(make_planning_prompt)\n",
    "        .with_generate_steps(generate_planning_steps)\n",
    "        .with_llm_output(make_planning_llm_output),\n",
    "        Node().with_prompt(make_prompt).with_generate_steps(generate_steps).with_llm_output(make_llm_output),\n",
    "    ],\n",
    ")\n",
    "\n",
    "final_tape2 = None\n",
    "print(\"Run LLAMA agent!\")\n",
    "for event in main_loop(\n",
    "    agent2, DialogTape() + [UserStep(content=\"Tell me about Vulcan Materials in 3 sentences\")], env, max_loops=3\n",
    "):\n",
    "    if ae := event.agent_event:\n",
    "        if ae.step:\n",
    "            print(ae.step.model_dump_json(indent=2))\n",
    "        if ae.final_tape:\n",
    "            final_tape2 = ae.final_tape\n",
    "    if event.observation:\n",
    "        print(event.observation.model_dump_json(indent=2))\n",
    "assert final_tape2 is not None\n",
    "print(\"Final tape:\")\n",
    "HTML(render_tape_with_prompts(final_tape2, PrettyRenderer()))\n"
   ]
  },
  {
   "cell_type": "markdown",
   "metadata": {},
   "source": [
    "Sometimes the above agent works well, but quite likely you are seeing that the LLAMA-based agent is having trouble. Let's try to help it. For reproducibility, we'll use a pre-recorded failed tape."
   ]
  },
  {
   "cell_type": "code",
   "execution_count": 16,
   "metadata": {
    "execution": {
     "iopub.execute_input": "2024-09-26T12:43:59.222072Z",
     "iopub.status.busy": "2024-09-26T12:43:59.221833Z",
     "iopub.status.idle": "2024-09-26T12:44:02.516381Z",
     "shell.execute_reply": "2024-09-26T12:44:02.515616Z"
    }
   },
   "outputs": [
    {
     "data": {
      "text/html": [
       "<style>.basic-renderer-box { margin: 4px; padding: 2px; background: lavender; white-space: pre-wrap; color: black;}.basic-prompt-box { margin: 4px; padding: 2px; background: lavender; color: black;}.episode-row { display: flex; align-items: end; }.agent-column { width: 50%; }.user-column { width: 25%; }.annotator-column { width: 25%; }.inner-tape-container { display: flex }.inner-tape-indent { width: 10%; }.inner-tape { width: 90%; }</style><style>.observation { background-color: #baffc9;; }.error_observation { background-color: #dd0000; }.action { background-color: #cccccc; }.thought { background-color: #ffffdb; }.call { background-color: #ffffff; }.respond { background-color: #ffffff; }.step-header { margin: 2pt 2pt 2pt 0 !important; }.step-text { font-size: 12px; white-space: pre-wrap; word-wrap: break-word;}</style><h3>Metadata</h3><details> <summary> Show / Hide </summary> <div class='basic-renderer-box'>author: ''\n",
       "author_tape_id: null\n",
       "error: null\n",
       "id: 78f9d33a-fa0c-4fd1-886a-73246e7c5026\n",
       "n_added_steps: 2\n",
       "parent_id: 2b4eab8b-76a3-4a07-bcd3-8f636dd72683\n",
       "result: null\n",
       "</div> </details><h3>Steps</h3><div class='basic-renderer-box observation'><h4 class='step-header'>[0] User</h4><pre class='step-text'>kind: user\n",
       "\n",
       "Tell me about Vulcan Materials in 3 sentences</pre></div><div class='basic-renderer-box thought'><h4 class='step-header'>[1] Thought: AssistantThought</h4><pre class='step-text'>kind: assistant_thought\n",
       "\n",
       "<details><summary>1206 characters ...</summary>Here's a plan to help the user learn about Vulcan Materials using the available tools:\n",
       "\n",
       "1. **Get the stock ticker symbol**: Use the `get_stock_ticker` function to retrieve the stock ticker symbol for Vulcan Materials by passing 'Vulcan Materials' as the `company_name` parameter. This will give us the ticker symbol, which we'll use for further research.\n",
       "\n",
       "2. **Get historical stock data**: Use the `get_stock_data` function to retrieve the historical stock prices for Vulcan Materials. We'll pass the obtained ticker symbol, a start date (e.g., '2020-01-01'), and an end date (e.g., '2024-09-17') as parameters to get the stock prices over the specified period.\n",
       "\n",
       "3. **Analyze the stock data**: Examine the obtained stock prices to identify trends, patterns, and correlations. We can calculate key metrics such as the average stock price, highest and lowest prices, and the overall stock performance over the specified period.\n",
       "\n",
       "4. **Provide an overview of Vulcan Materials**: Combine the obtained data with additional information about Vulcan Materials, such as its industry, sector, market capitalization, and major competitors, to provide a comprehensive overview of the company.\n",
       "\n",
       "Let's execute this plan!</details></pre></div><div class='basic-renderer-box action'><h4 class='step-header'>[2] Action: ToolCalls</h4><pre class='step-text'>tool_calls:\n",
       "- function:\n",
       "    arguments: '{\"company_name\": \"Vulcan Materials\"}'\n",
       "    name: get_stock_ticker\n",
       "  id: tool_call_0_node_starts_at_2\n",
       "  type: function\n",
       "kind: assistant\n",
       "</pre></div><div class='basic-renderer-box thought'><h4 class='step-header'>[3] Thought: Jump</h4><pre class='step-text'>kind: jump\n",
       "next_node: 1\n",
       "</pre></div><div class='basic-renderer-box observation'><h4 class='step-header'>[4] Observation: ToolResult</h4><pre class='step-text'>tool_call_id: tool_call_0_node_starts_at_2\n",
       "kind: tool\n",
       "\n",
       "VMC</pre></div><div class='basic-renderer-box action'><h4 class='step-header'>[5] Action: ToolCalls</h4><pre class='step-text'>tool_calls:\n",
       "- function:\n",
       "    arguments: '{\"symbol\": \"VMC\", \"start_date\": \"2020-01-01\", \"end_date\": \"2024-09-17\"}'\n",
       "    name: get_stock_data\n",
       "  id: tool_call_0_node_starts_at_5\n",
       "  type: function\n",
       "kind: assistant\n",
       "</pre></div><div class='basic-renderer-box thought'><h4 class='step-header'>[6] Thought: Jump</h4><pre class='step-text'>kind: jump\n",
       "next_node: 1\n",
       "</pre></div><div class='basic-renderer-box observation'><h4 class='step-header'>[7] Observation: ToolResult</h4><pre class='step-text'>tool_call_id: tool_call_0_node_starts_at_5\n",
       "kind: tool\n",
       "\n",
       "<details><summary>2615 characters ...</summary>[('2020-01-02', 142.72000122070312), ('2020-01-27', 138.8800048828125), ('2020-02-19', 135.39999389648438), ('2020-03-12', 107.12000274658203), ('2020-04-03', 99.20999908447266), ('2020-04-28', 110.7699966430664), ('2020-05-20', 101.47000122070312), ('2020-06-12', 112.08999633789062), ('2020-07-07', 122.66999816894531), ('2020-07-29', 121.08000183105469), ('2020-08-20', 126.11000061035156), ('2020-09-14', 130.33999633789062), ('2020-10-06', 141.30999755859375), ('2020-10-28', 137.47999572753906), ('2020-11-19', 140.11000061035156), ('2020-12-14', 135.44000244140625), ('2021-01-07', 162.00999450683594), ('2021-02-01', 152.0), ('2021-02-24', 174.14999389648438), ('2021-03-18', 168.0500030517578), ('2021-04-12', 174.35000610351562), ('2021-05-04', 189.2100067138672), ('2021-05-26', 183.92999267578125), ('2021-06-18', 165.83999633789062), ('2021-07-13', 173.52999877929688), ('2021-08-04', 179.66000366210938), ('2021-08-26', 187.52999877929688), ('2021-09-20', 169.4199981689453), ('2021-10-12', 170.8300018310547), ('2021-11-03', 195.0), ('2021-11-26', 197.4499969482422), ('2021-12-20', 198.77999877929688), ('2022-01-12', 202.8800048828125), ('2022-02-04', 184.0399932861328), ('2022-03-01', 174.44000244140625), ('2022-03-23', 177.33999633789062), ('2022-04-14', 174.77000427246094), ('2022-05-09', 162.9499969482422), ('2022-06-01', 164.5399932861328), ('2022-06-24', 145.82000732421875), ('2022-07-19', 152.57000732421875), ('2022-08-10', 174.52000427246094), ('2022-09-01', 166.22000122070312), ('2022-09-26', 153.9499969482422), ('2022-10-18', 158.77999877929688), ('2022-11-09', 168.94000244140625), ('2022-12-02', 184.49000549316406), ('2022-12-27', 175.67999267578125), ('2023-01-20', 178.88999938964844), ('2023-02-13', 186.05999755859375), ('2023-03-08', 178.9199981689453), ('2023-03-30', 170.13999938964844), ('2023-04-24', 171.41000366210938), ('2023-05-16', 195.00999450683594), ('2023-06-08', 206.17999267578125), ('2023-07-03', 223.33999633789062), ('2023-07-26', 223.4600067138672), ('2023-08-17', 213.3300018310547), ('2023-09-11', 216.58999633789062), ('2023-10-03', 199.99000549316406), ('2023-10-25', 203.3699951171875), ('2023-11-16', 212.27000427246094), ('2023-12-11', 218.86000061035156), ('2024-01-04', 220.67999267578125), ('2024-01-29', 229.3699951171875), ('2024-02-21', 253.42999267578125), ('2024-03-14', 270.7300109863281), ('2024-04-08', 269.7200012207031), ('2024-04-30', 257.6300048828125), ('2024-05-22', 260.8699951171875), ('2024-06-14', 252.63999938964844), ('2024-07-10', 247.72000122070312), ('2024-08-01', 271.1300048828125), ('2024-08-23', 254.88999938964844)]</details></pre></div><div class='basic-renderer-box action'><h4 class='step-header'>[8] Assistant</h4><pre class='step-text'>kind: assistant\n",
       "\n",
       "Here's an overview of Vulcan Materials: Vulcan Materials is a construction materials company that produces and supplies asphalt, concrete, and aggregate materials in the United States. The company's stock ticker symbol is VMC. Based on the historical stock data from 2020-01-01 to 2024-09-17, the average stock price is around 174.45. The highest stock price was 273.13 on 2024-03-14, and the lowest was 99.21 on 2020-04-03. Vulcan Materials operates in the Industrials sector and has a market capitalization of around 24.6 billion USD. Its major competitors include Martin Marietta Materials, CEMEX, and Eagle Materials.</pre></div><div class='basic-renderer-box thought'><h4 class='step-header'>[9] Thought: Jump</h4><pre class='step-text'>kind: jump\n",
       "next_node: 0\n",
       "</pre></div>"
      ],
      "text/plain": [
       "<IPython.core.display.HTML object>"
      ]
     },
     "execution_count": 16,
     "metadata": {},
     "output_type": "execute_result"
    }
   ],
   "source": [
    "with open(\"assets/failed_tape.json\") as src:\n",
    "    failed_tape = DialogTape.model_validate(json.load(src))\n",
    "agent2b = agent2.model_copy(deep=True)\n",
    "agent2b.templates[\"call_or_respond\"] += (\n",
    "    \"REMEMBER: check what tool calls you have already made. Do not do the same call again!\"\n",
    ")\n",
    "resume_from_step8 = agent2b.run(failed_tape[:8]).get_final_tape()\n",
    "HTML(render_tape_with_prompts(resume_from_step8, PrettyRenderer()))\n"
   ]
  },
  {
   "cell_type": "markdown",
   "metadata": {},
   "source": [
    "We found that this helpful hint often gets LLAMA-based agent unstuck. Note how easy it was to test it thanks to the ability of the agent to resume from step 8!"
   ]
  },
  {
   "cell_type": "markdown",
   "metadata": {},
   "source": [
    "# 4. Tape reuse and training data\n",
    "\n",
    "Another way to help this agent (or one with an even smaller LLM) is to finetune the LLM. And the most important step towards finetuning is making the training data!\n",
    "\n",
    "There are two ways to make training data in TapeAgents:\n",
    "- the basic one: use the `LLMCall` structures that the agent created when it produced the tape. You can retrieve them from the SQLite storage and convert into training text.\n",
    "- the much powerful one: call `agent.reuse` to reconstructed the prompts and outputs **and** to validate that with the reconstructed LLMCalls the agent would indeed create the given tape\n",
    "\n",
    "The big advantage of the second approach is that it allows you to use the tape from a teacher agent (think slower and more expensive) to train a student agent (think faster and cheaper). Or to train an agent on its own revised tapes.\n",
    "\n",
    "Of course, restrictions apply: the tape by agent A may not be reusable by agent B directly. You might have to add/remove some steps. But at least `agent.reuse` verifies if your tape modifications led to creation of a tape that the agent B can indeed produce."
   ]
  },
  {
   "cell_type": "markdown",
   "metadata": {},
   "source": [
    "#### Make training data from the past LLM calls"
   ]
  },
  {
   "cell_type": "code",
   "execution_count": 17,
   "metadata": {
    "execution": {
     "iopub.execute_input": "2024-09-26T12:44:02.519470Z",
     "iopub.status.busy": "2024-09-26T12:44:02.519181Z",
     "iopub.status.idle": "2024-09-26T12:44:02.529579Z",
     "shell.execute_reply": "2024-09-26T12:44:02.529015Z"
    }
   },
   "outputs": [
    {
     "name": "stdout",
     "output_type": "stream",
     "text": [
      "Retrieved 4 LLM calls from the tape.\n",
      "From the first retrieved LLM call, the LLM will be trained to predict this text:\n",
      "---\n",
      "<|start_header_id|>assistant<|end_header_id|>\n",
      "\n",
      "Here's a plan to help the user learn about Vulcan Materials using the available tools:\n",
      "\n",
      "1. First, let's find the stock ticker for Vulcan Materials using the `get_stock_ticker` function by passing the company name \"Vulcan Materials\" as an argument, like this: `get_stock_ticker(\"Vulcan Materials\")`. This will give us the stock ticker symbol for the company.\n",
      "\n",
      "2. Once we have the stock ticker, we can use the `get_stock_data` function to retrieve the stock prices for Vulcan Materials over a specific period. For example, let's get the stock prices for the past year by calling `get_stock_data(ticker, \"2023-09-17\", \"2024-09-17\")`, where `ticker` is the stock ticker symbol obtained in step 1.\n",
      "\n",
      "3. With the stock price data, we can analyze and provide insights about Vulcan Materials' financial performance over the past year. We can discuss the company's stock price trends, highest and lowest prices, and any notable events that may have affected the stock price.\n",
      "\n",
      "By following these steps, we can provide a comprehensive overview of Vulcan Materials' financial performance using the available tools.<|eot_id|>\n"
     ]
    }
   ],
   "source": [
    "from tapeagents.observe import retrieve_tape_llm_calls\n",
    "\n",
    "llm_calls = retrieve_tape_llm_calls(final_tape2)\n",
    "print(f\"Retrieved {len(llm_calls)} LLM calls from the tape.\")\n",
    "# under the hood agent2 will route this request to its llm\n",
    "example_text = agent2.make_training_text(list(llm_calls.values())[0])\n",
    "print(\"From the first retrieved LLM call, the LLM will be trained to predict this text:\")\n",
    "print(\"---\")\n",
    "print(example_text.output_text)\n"
   ]
  },
  {
   "cell_type": "markdown",
   "metadata": {},
   "source": [
    "#### Make training data by reusing a tape"
   ]
  },
  {
   "cell_type": "markdown",
   "metadata": {},
   "source": [
    "Note how `agent2` reuses the tape by `agent1`, even though they have very different prompt and output formats! \n",
    "\n",
    "You can inspect the reused tape below and see that the steps are the same as before, but the prompts and outputs are different."
   ]
  },
  {
   "cell_type": "code",
   "execution_count": 18,
   "metadata": {
    "execution": {
     "iopub.execute_input": "2024-09-26T12:44:02.532152Z",
     "iopub.status.busy": "2024-09-26T12:44:02.531889Z",
     "iopub.status.idle": "2024-09-26T12:44:02.559913Z",
     "shell.execute_reply": "2024-09-26T12:44:02.559201Z"
    }
   },
   "outputs": [
    {
     "data": {
      "text/html": [
       "<style>.basic-renderer-box { margin: 4px; padding: 2px; background: lavender; white-space: pre-wrap; color: black;}.basic-prompt-box { margin: 4px; padding: 2px; background: lavender; color: black;}.episode-row { display: flex; align-items: end; }.agent-column { width: 50%; }.user-column { width: 25%; }.annotator-column { width: 25%; }.inner-tape-container { display: flex }.inner-tape-indent { width: 10%; }.inner-tape { width: 90%; }</style><style>.observation { background-color: #baffc9;; }.error_observation { background-color: #dd0000; }.action { background-color: #cccccc; }.thought { background-color: #ffffdb; }.call { background-color: #ffffff; }.respond { background-color: #ffffff; }.step-header { margin: 2pt 2pt 2pt 0 !important; }.step-text { font-size: 12px; white-space: pre-wrap; word-wrap: break-word;}</style><h3>Metadata</h3><details> <summary> Show / Hide </summary> <div class='basic-renderer-box'>author: null\n",
       "author_tape_id: null\n",
       "error: null\n",
       "id: 42e1d3ab-e146-42c3-8c7d-9711288985df\n",
       "n_added_steps: 0\n",
       "parent_id: null\n",
       "result: null\n",
       "</div> </details><h3>Steps</h3><div class='basic-renderer-box observation'><h4 class='step-header'>[0] User</h4><pre class='step-text'>kind: user\n",
       "\n",
       "Tell me about Vulcan in 3 sentences</pre></div><div class='basic-renderer-box thought'><h4 class='step-header'>[1] Thought: AssistantThought</h4><pre class='step-text'>kind: assistant_thought\n",
       "\n",
       "To help the user learn about Vulcan, I will follow these steps:\n",
       "\n",
       "1. Use the `functions.get_stock_ticker` tool to find the stock ticker symbol for Vulcan.\n",
       "2. Once the stock ticker is obtained, use the `functions.get_stock_data` tool to retrieve recent stock data for Vulcan.\n",
       "3. Summarize the information about Vulcan, including its stock ticker and recent stock performance, in three sentences.</pre></div><div class='basic-renderer-box action'><h4 class='step-header'>[2] Action: ToolCalls</h4><pre class='step-text'>tool_calls:\n",
       "- function:\n",
       "    arguments: '{\"company_name\": \"Vulcan\"}'\n",
       "    name: get_stock_ticker\n",
       "  id: tool_call_0_node_starts_at_2\n",
       "  type: function\n",
       "- function:\n",
       "    arguments: '{\"company_name\": \"Vulcan Materials\"}'\n",
       "    name: get_stock_ticker\n",
       "  id: tool_call_1_node_starts_at_2\n",
       "  type: function\n",
       "kind: assistant\n",
       "</pre></div><div class='basic-renderer-box thought'><h4 class='step-header'>[3] Thought: Jump</h4><pre class='step-text'>kind: jump\n",
       "next_node: 1\n",
       "</pre></div><div class='basic-renderer-box observation'><h4 class='step-header'>[4] Observation: ToolResult</h4><pre class='step-text'>tool_call_id: call_Apt4CTpu2GUayJkwxUUiOJg5\n",
       "kind: tool\n",
       "\n",
       "VMC</pre></div><div class='basic-renderer-box observation'><h4 class='step-header'>[5] Observation: ToolResult</h4><pre class='step-text'>tool_call_id: call_JWID6nAWryEONX81L5tcdVKD\n",
       "kind: tool\n",
       "\n",
       "VMC</pre></div><div class='basic-renderer-box action'><h4 class='step-header'>[6] Action: ToolCalls</h4><pre class='step-text'>tool_calls:\n",
       "- function:\n",
       "    arguments: '{\"symbol\": \"VMC\", \"start_date\": \"2024-08-17\", \"end_date\": \"2024-09-17\"}'\n",
       "    name: get_stock_data\n",
       "  id: tool_call_0_node_starts_at_6\n",
       "  type: function\n",
       "kind: assistant\n",
       "</pre></div><div class='basic-renderer-box thought'><h4 class='step-header'>[7] Thought: Jump</h4><pre class='step-text'>kind: jump\n",
       "next_node: 1\n",
       "</pre></div><div class='basic-renderer-box observation'><h4 class='step-header'>[8] Observation: ToolResult</h4><pre class='step-text'>tool_call_id: call_S607htZ6ZGjddeYxqjweKPGd\n",
       "kind: tool\n",
       "\n",
       "[('2024-08-19', 244.2899932861328), ('2024-08-20', 245.60000610351562), ('2024-08-21', 247.83999633789062), ('2024-08-22', 247.97999572753906), ('2024-08-23', 254.88999938964844), ('2024-08-26', 250.67999267578125), ('2024-08-27', 240.41000366210938), ('2024-08-28', 235.77000427246094), ('2024-08-29', 241.27999877929688), ('2024-08-30', 245.2100067138672), ('2024-09-03', 239.02000427246094), ('2024-09-04', 234.8300018310547), ('2024-09-05', 232.16000366210938), ('2024-09-06', 231.97000122070312), ('2024-09-09', 231.8300018310547), ('2024-09-10', 232.9499969482422), ('2024-09-11', 232.9499969482422), ('2024-09-12', 236.27000427246094), ('2024-09-13', 237.47000122070312), ('2024-09-16', 242.8699951171875)]</pre></div><div class='basic-renderer-box action'><h4 class='step-header'>[9] Assistant</h4><pre class='step-text'>kind: assistant\n",
       "\n",
       "Vulcan Materials Company, trading under the stock ticker symbol VMC, is a major producer of construction aggregates, primarily crushed stone, sand, and gravel. Over the past month, its stock price has shown some volatility, with prices ranging from approximately $231.83 to $254.89. As of September 16, 2024, the stock price closed at $242.87.</pre></div><div class='basic-renderer-box thought'><h4 class='step-header'>[10] Thought: Jump</h4><pre class='step-text'>kind: jump\n",
       "next_node: 0\n",
       "</pre></div>"
      ],
      "text/plain": [
       "<IPython.core.display.HTML object>"
      ]
     },
     "execution_count": 18,
     "metadata": {},
     "output_type": "execute_result"
    }
   ],
   "source": [
    "reused_tape, _ = agent2.reuse(final_tape1)\n",
    "HTML(render_tape_with_prompts(reused_tape, PrettyRenderer()))\n"
   ]
  },
  {
   "cell_type": "markdown",
   "metadata": {},
   "source": [
    "We offer a quick way to harness the tape reuse to make training data. "
   ]
  },
  {
   "cell_type": "code",
   "execution_count": 19,
   "metadata": {
    "execution": {
     "iopub.execute_input": "2024-09-26T12:44:02.562488Z",
     "iopub.status.busy": "2024-09-26T12:44:02.562210Z",
     "iopub.status.idle": "2024-09-26T12:44:02.577716Z",
     "shell.execute_reply": "2024-09-26T12:44:02.577090Z"
    }
   },
   "outputs": [
    {
     "name": "stdout",
     "output_type": "stream",
     "text": [
      "<|start_header_id|>assistant<|end_header_id|>\n",
      "\n",
      "To help the user learn about Vulcan, I will follow these steps:\n",
      "\n",
      "1. Use the `functions.get_stock_ticker` tool to find the stock ticker symbol for Vulcan.\n",
      "2. Once the stock ticker is obtained, use the `functions.get_stock_data` tool to retrieve recent stock data for Vulcan.\n",
      "3. Summarize the information about Vulcan, including its stock ticker and recent stock performance, in three sentences.<|eot_id|>\n"
     ]
    }
   ],
   "source": [
    "training_data = agent2.make_training_data(final_tape1)\n",
    "print(training_data[0].output_text)\n"
   ]
  },
  {
   "cell_type": "markdown",
   "metadata": {},
   "source": [
    "What could be simpler than that?!\n",
    "We're only scratching the surface of what TapeAgents can do. We invite you to explore the other tutorials and examples to learn more about the TapeAgents framework."
   ]
  },
  {
   "cell_type": "markdown",
   "metadata": {},
   "source": [
    "# 5. Multi-agent teams"
   ]
  },
  {
   "cell_type": "markdown",
   "metadata": {},
   "source": [
    "Let's add a colleague to our agent that will help it search the internet! \n",
    "\n",
    "First thing, we need to give this colleague some tools. In TapeAgents, the agents do not use the environment directly, their interaction with the environment is mediated by in orchestrator such as you application. But the agents should know what tools they can call. And if you are using `main_loop` as the orchestrator, it requires one environment that contains tools of all the agents. \n",
    "\n",
    "Let's go ahead and define environments:\n",
    "- the environments of the root agent\n",
    "- the one of its internet search specialist colleague\n",
    "- the environment that contains all the tools.\n",
    "\n",
    "Note that we won't use the first two environments to produce observations, we'll use them only to generate tool schemas for agent."
   ]
  },
  {
   "cell_type": "code",
   "execution_count": 20,
   "metadata": {
    "execution": {
     "iopub.execute_input": "2024-09-26T12:44:02.580382Z",
     "iopub.status.busy": "2024-09-26T12:44:02.580140Z",
     "iopub.status.idle": "2024-09-26T12:44:02.603795Z",
     "shell.execute_reply": "2024-09-26T12:44:02.603188Z"
    }
   },
   "outputs": [],
   "source": [
    "from tapeagents.tools.simple_browser import SimpleTextBrowser\n",
    "\n",
    "browser = SimpleTextBrowser()\n",
    "search_agent_env = ToolEnvironment([browser.get_search_results, browser.get_page, browser.get_next_page])\n",
    "# We will use the tool choice mechanism to let the main agent call its search specialist agent.\n",
    "# To this end, we create a mock tool that represents calling the search agent.\n",
    "def call_search_agent(query: str):\n",
    "    \"\"\"Use this tool to ask a fellow AI agent to search for information on the web.\"\"\"\n",
    "    pass\n",
    "main_agent_env = ToolEnvironment([get_stock_ticker, get_stock_data, call_search_agent])\n",
    "whole_env = ToolEnvironment([get_stock_ticker, get_stock_data, browser.get_search_results, browser.get_page, browser.get_next_page])"
   ]
  },
  {
   "cell_type": "markdown",
   "metadata": {},
   "source": [
    "Now let's implement the search sub-agent. \n",
    "\n",
    "TODO:\n",
    "- explain `Call` and `Respond`\n",
    "- explain the view"
   ]
  },
  {
   "cell_type": "code",
   "execution_count": 21,
   "metadata": {
    "execution": {
     "iopub.execute_input": "2024-09-26T12:44:02.606542Z",
     "iopub.status.busy": "2024-09-26T12:44:02.606146Z",
     "iopub.status.idle": "2024-09-26T12:44:10.919540Z",
     "shell.execute_reply": "2024-09-26T12:44:10.917897Z"
    }
   },
   "outputs": [
    {
     "data": {
      "text/html": [
       "<style>.basic-renderer-box { margin: 4px; padding: 2px; background: lavender; white-space: pre-wrap; color: black;}.basic-prompt-box { margin: 4px; padding: 2px; background: lavender; color: black;}.episode-row { display: flex; align-items: end; }.agent-column { width: 50%; }.user-column { width: 25%; }.annotator-column { width: 25%; }.inner-tape-container { display: flex }.inner-tape-indent { width: 10%; }.inner-tape { width: 90%; }</style><style>.observation { background-color: #baffc9;; }.error_observation { background-color: #dd0000; }.action { background-color: #cccccc; }.thought { background-color: #ffffdb; }.call { background-color: #ffffff; }.respond { background-color: #ffffff; }.step-header { margin: 2pt 2pt 2pt 0 !important; }.step-text { font-size: 12px; white-space: pre-wrap; word-wrap: break-word;}</style><h3>Metadata</h3><details> <summary> Show / Hide </summary> <div class='basic-renderer-box'>author: null\n",
       "author_tape_id: null\n",
       "error: null\n",
       "id: a076c868-772b-4099-95d7-1ba963d0e761\n",
       "n_added_steps: 1\n",
       "parent_id: null\n",
       "result: null\n",
       "</div> </details><h3>Steps</h3><div class='basic-renderer-box observation'><h4 class='step-header'>[0] User</h4><pre class='step-text'>kind: user\n",
       "\n",
       "What influenced Nvidia stock price in late 2022?</pre></div><div class='basic-renderer-box action'><h4 class='step-header'>[1] Action: ToolCalls</h4><pre class='step-text'>tool_calls:\n",
       "- function:\n",
       "    arguments: '{\"query\":\"Nvidia stock price influences late 2022\",\"max_results\":5}'\n",
       "    name: get_search_results\n",
       "  id: call_6fJDNaZt0loSdaaEgtGHpZdM\n",
       "  type: function\n",
       "kind: assistant\n",
       "</pre></div><div class='basic-renderer-box thought'><h4 class='step-header'>[2] Thought: Jump</h4><pre class='step-text'>kind: jump\n",
       "next_node: 0\n",
       "</pre></div><div class='basic-renderer-box observation'><h4 class='step-header'>[3] Observation: ToolResult</h4><pre class='step-text'>tool_call_id: call_6fJDNaZt0loSdaaEgtGHpZdM\n",
       "kind: tool\n",
       "\n",
       "<details><summary>1600 characters ...</summary>[{'title': 'NVIDIA Corporation - Stock Info - Historical Price Lookup', 'url': 'https://investor.nvidia.com/stock-info/historical-price-lookup/default.aspx', 'content': 'Stock quote & chart, historical price lookup, investment calculator, fundamentals, analyst coverage, financial info, financial reports, SEC filings, quarterly\\xa0...'}, {'title': 'Is It Too Late to Buy Nvidia Stock?', 'url': 'https://www.nasdaq.com/articles/it-too-late-buy-nvidia-stock-2', 'content': 'Sep 1, 2024 — The stock has surged higher by more than 950% since late 2022, when it emerged as the dominant company for AI chips. Moreover, its fiscal second\\xa0...'}, {'title': 'How Does Nvidia Stock Influence the Market?', 'url': 'https://b2broker.com/news/how-does-nvidia-stock-influence-the-market/', 'content': \"Jul 10, 2024 — Nvidia's economic influence can shift the entire market sideways as an increasing buying pressure drives the stock price higher.\"}, {'title': 'Is Nvidia Stock In A Bubble Or Is It Justified By AI Growth?', 'url': 'https://www.forbes.com/sites/garthfriesen/2024/06/23/is-nvidia-stock-in-a-bubble-or-justified-by-ai-growth/', 'content': 'Jun 23, 2024 — Nvidia is no exception. Its shares fell by 66% at one point in 2022 and have had four drawdowns of approximately 15% or more in the last year\\xa0...'}, {'title': 'Nvidia Soars On Blackwell Chip Sales Estimates', 'url': 'https://www.investors.com/research/nvda-stock-is-nvidia-a-buy-2/', 'content': 'Nvidia soared on Wednesday after clearing a trendline entry on Tuesday. Early sales estimates for its next-gen Blackwell chip boosted shares.'}]</details></pre></div><div class='basic-renderer-box action'><h4 class='step-header'>[4] Action: ToolCalls</h4><pre class='step-text'>tool_calls:\n",
       "- function:\n",
       "    arguments: '{\"url\":\"https://www.forbes.com/sites/garthfriesen/2024/06/23/is-nvidia-stock-in-a-bubble-or-justified-by-ai-growth/\"}'\n",
       "    name: get_page\n",
       "  id: call_ofRfDVbh6ulD0L3QiW5VovgS\n",
       "  type: function\n",
       "kind: assistant\n",
       "</pre></div><div class='basic-renderer-box thought'><h4 class='step-header'>[5] Thought: Jump</h4><pre class='step-text'>kind: jump\n",
       "next_node: 0\n",
       "</pre></div><div class='basic-renderer-box observation'><h4 class='step-header'>[6] Observation: ToolResult</h4><pre class='step-text'>tool_call_id: call_ofRfDVbh6ulD0L3QiW5VovgS\n",
       "kind: tool\n",
       "\n",
       "<details><summary>17406 characters ...</summary>('Title: Is Nvidia Stock In A Bubble Or Is It Justified By AI Growth?\\n=======================\\n[Subscribe To Newsletters](https://account.forbes.com/newsletters)BETAThis is a BETA experience. You may opt\\\\-out by\\xa0clicking here### More From Forbes\\n\\nSep 24, 2024,07:15am EDT[The Best Investment Opportunity In The Coming Decade? Women’s Sports](https://www.forbes.com/sites/robertdaugherty/2024/09/24/best-investment-opportunity-in-the-coming-decade--womens-sports/)Sep 23, 2024,11:14am EDT[China Market Update: PBOC Cuts With More To Come, Buybacks Roll On](https://www.forbes.com/sites/brendanahern/2024/09/23/china-market-update-pboc-cuts-with-more-to-come-buybacks-roll-on/)Sep 23, 2024,09:00am EDT[What Is The Dow Jones Industrial Average, Really?](https://www.forbes.com/sites/johndorfman/2024/09/23/what-is-the-dow-jones-industrial-average-really/)Sep 23, 2024,08:53am EDT[Will The New U.K. Government Kill Off The London Stock Market?](https://www.forbes.com/sites/investor/2024/09/23/will-the-new-uk-government-kill-off-the-london-stock-market/)Sep 22, 2024,03:48pm EDT[The Nasdaq 100’s 4 Big A’s: Alphabet, Amazon, Apple, Advanced Micro](https://www.forbes.com/sites/johnnavin/2024/09/22/the-nasdaq-100s-4-big-as-alphabet-amazon-apple-advanced-micro/)Sep 21, 2024,08:00am EDT[No End In Sight For Swiss Watch Industry Downturn](https://www.forbes.com/sites/garthfriesen/2024/09/21/no-end-in-sight-for-swiss-watch-industry-downturn/)Sep 21, 2024,06:30am EDT[Market Lessons: 20 Companies With Dazzling Growth In Revenue Per Share](https://www.forbes.com/sites/baldwin/2024/09/21/market-lessons-20-companies-with-dazzling-growth-in-revenue-per-share/)Sep 20, 2024,07:29pm EDT[Retailers Expect To ‘Eat’ Latest Tariff Hikes, Not Raise Prices](https://www.forbes.com/sites/gregpetro/2024/09/20/retailers-expect-to-eat-latest-tariff-hikes-not-raise-prices/)[Edit Story](https://bertie.forbes.com/#/compose?id=6678679658783406879ec635)[Forbes](https://www.forbes.com/)[Money](https://www.forbes.com/money/)[Investing](https://www.forbes.com/investing/)[Editors\\' Pick](https://www.forbes.com/editors-picks)Is Nvidia Stock In A Bubble Or Is It Justified By AI Growth?\\n============================================================\\n\\n[Garth Friesen](https://www.forbes.com/sites/garthfriesen/ \"https://www.forbes.com/sites/garthfriesen/\")ContributorOpinions expressed by Forbes Contributors are their own.Specialist in global markets, economics and alternative investments.[Following](https://account.forbes.com/following \"https://account.forbes.com/following\")Jun 23, 2024,04:06pm EDTUpdated Jun 24, 2024, 01:29pm EDT* Share to Facebook\\n* Share to Twitter\\n* Share to Linkedin\\n\\nAFP PHOTO (Photo credit should read NOEL CELIS/AFP via Getty Images)\\n\\nAFP via Getty Images\\n\\nNvidia shares dropped nearly 7% over a two\\\\-day span, sparking concerns that the meteoric rise of the artificial intelligence market leader\\'s stock price may have peaked. Nvidia briefly surpassed Microsoft and Apple midweek to become the world\\'s most valuable company but slipped back to third place by Friday\\'s close. Investors are now debating whether to take profits on NVDA and the broader AI sector or stick with the theme that has driven most of this year\\'s S\\\\&P 500 gains.\\n\\nFirst, the recent 7% dip should be taken into context. Nvidia shares are still up 156% year to date, and last week\\'s dip is relatively minor and barely shows up on a long\\\\-term chart. Investors should expect dramatic and painful drawdowns from companies that have moved so far so fast. Nvidia is no exception. Its shares fell by 66% at one point in 2022 and have had four drawdowns of approximately 15% or more in the last year alone.\\n\\nNVDA stock price\\n\\nGarth Friesen\\n\\nStill, several concerns are causing investors to reevaluate their faith in the Nvidia rally. Gaining the status as the world\\'s most valuable company when the overall economy appears to be losing momentum is one obvious worry. The extreme [domination of large\\\\-cap technology stocks](https://www.forbes.com/sites/garthfriesen/2024/06/17/microsoft-nvidia-and-apples-index-dominance-reaches-alarming-level/ \"https://www.forbes.com/sites/garthfriesen/2024/06/17/microsoft-nvidia-and-apples-index-dominance-reaches-alarming-level/\") at the index level is another. Also, the significant outperformance of AI\\\\-related stocks in the last month relative to the rest of the market has once again prompted talk of bubble\\\\-like price action. These concerns provide an opportunity to pause and look at Nvidia from a larger perspective. Is a bubble forming, or is the share price appreciation warranted?\\n\\nThere are some standard definitions of a stock or stock market bubble, primarily using history is a guide. Typical characteristics are rapid and substantial price increases that outpace reasonable valuations; widespread investor enthusiasm and speculation, often accompanied by a fear of missing out and speculative behavior; and a belief in new paradigms, technologies, or economic conditions that create excitement about future growth prospects.\\n\\nMORE FROMFORBES ADVISOR[### Best High\\\\-Yield Savings Accounts Of 2024](https://www.forbes.com/advisor/banking/savings/best-high-yield-savings-accounts/?utm_source=forbes&utm_medium=recirc&utm_campaign=tiger-sept23 \"https://www.forbes.com/advisor/banking/savings/best-high-yield-savings-accounts/?utm_source=forbes&utm_medium=recirc&utm_campaign=tiger-sept23\")[ByKevin PayneContributor](https://www.forbes.com/advisor/author/kevin-payne/ \"https://www.forbes.com/advisor/author/kevin-payne/\")[### Best 5% Interest Savings Accounts of 2024](https://www.forbes.com/advisor/banking/savings/best-5-percent-interest-savings-accounts/?utm_source=forbes&utm_medium=recirc&utm_campaign=tiger-sept23 \"https://www.forbes.com/advisor/banking/savings/best-5-percent-interest-savings-accounts/?utm_source=forbes&utm_medium=recirc&utm_campaign=tiger-sept23\")[ByCassidy HortonContributor](https://www.forbes.com/advisor/author/cassidy-horton \"https://www.forbes.com/advisor/author/cassidy-horton\")\\nRapid And Substantial Price Appreciation\\n----------------------------------------\\n\\nNvidia and other AI stocks have rocketed higher in the last 18 months. Nvidia has soared nearly 800% since the start of 2023 and other tech giants like Meta (\\\\+297%), Amazon (\\\\+120%) and Microsoft (\\\\+88%) have done the same. However, the near\\\\-parabolic rise is not without fundamental support. Nvidia continues to exceed analysts\\' expectations of earnings and profit growth and boasts an estimated market share of 80% in specialized chips needed for most AI applications. The other technology leaders are also delivering earnings growth above what many thought possible.\\n\\nSpecifically, [Nvidia’s financial results for the first quarter](https://nvidianews.nvidia.com/news/nvidia-announces-financial-results-for-first-quarter-fiscal-2025 \"https://nvidianews.nvidia.com/news/nvidia-announces-financial-results-for-first-quarter-fiscal-2025\") of fiscal year 2025 showed revenue growth of 262% compared to a year ago. Data center growth was even more impressive, climbing 427% from last year. With gross margins of 78%, profits are following suit. Clearly, there is more to Nvidia than pure speculation.\\n\\n1\\\\-year forward P/E multiple for Nvidia and and Nasdaq 100\\n\\nGarth Friesen; Bloomberg LP\\n\\nFrom a valuation perspective, Nvidia is not cheap. According to *Bloomberg* data, NVDA’s one\\\\-year forward price\\\\-to\\\\-earnings ratio is 47x, compared to 35\\\\.9x for the Philadelphia Stock Exchange Semiconductor Index, 29x for the NASDAQ 100 Index, 22\\\\.6x for the S\\\\&P 500, and 17\\\\.8x for the equal\\\\-weight S\\\\&P 500 Index. Yes, Nvidia is expensive relative to the broader market, but that is to be expected given the rapid growth in revenue and earnings. Investors are willing to pay up for growth, and Nvidia is delivering. Applying traditional valuation metrics to fast\\\\-growing companies in relatively new industries is often futile. But are the current multiples too extreme?\\n\\nBy comparison, during the [peak of the dot\\\\-com bubble in 2000](https://www.nasdaq.com/articles/are-tech-stocks-in-a-bubble \"https://www.nasdaq.com/articles/are-tech-stocks-in-a-bubble\"), Nasdaq 100 stocks traded at an absurd trailing P/E of 200, more than six times today\\'s level. Cisco, a poster child of the dot\\\\-com era, was valued at a multiple of more than 150 times forward earnings when the stock hit its peak in March 2000\\\\. In this context, neither Nvidia nor the broader market are near the valuation levels seen during the internet bubble. However, Nvidia’s recent earnings and sales multiple expansion suggests a disconnect between the share price and performance of the underlying business. AI stocks have spiked, and valuations have stretched, but at least some fundamental support is behind the craze.\\n\\nIf rating its rapid price appreciation bubble on a scale of 1 to 10, the score is likely a seven.\\n\\nWidespread Investor Enthusiasm And Speculation\\n----------------------------------------------\\n\\nAnother potential sign of a bubble is extreme euphoria and speculation surrounding a stock or a theme.\\n\\nThe options market is one place to look for excessive sentiment. Stocks or sectors where call option volatility is trading higher than put option volatility is often a sign that investors expect significant upside from existing levels. Currently, 1\\\\-month and 3\\\\-month call options have roughly the same level of implied volatility as put options. This is consistent with market pricing over the last year. Call options were more expensive last March around the earnings report. Today, there does not appear to be extreme bullishness in the options market.\\n\\nStill, everyone is watching the AI boom. Public company mentions of AI in earnings calls are at a record high. Roughly [40% of S\\\\&P 500 discussed AI](https://sherwood.news/business/number-of-s-and-p-500-companies-mentioning-ai-hits-record/ \"https://sherwood.news/business/number-of-s-and-p-500-companies-mentioning-ai-hits-record/\") on their earnings calls this past quarter — up from 1% five years ago, according to data from FactSet. Most of these companies cite AI as a potential productivity booster rather than an additional source of revenue, and many are making substantial investments in the technology. There is widespread enthusiasm about AI, but it should not be considered speculation since productivity improvements have already been established.\\n\\nA potentially worrisome sign would be a rush of new companies tapping the public markets to raise money for anything related to AI, similar to the internet bubble where investors scrambled to buy anything with \".com\" in the name. According to Bloomberg, total initial public offerings are running at about $16 billion in proceeds raised year\\\\-to\\\\-date versus about $20 billion for all of 2023\\\\. In terms of deal count, there have been [88 IPOs through mid\\\\-June 2024](https://stockanalysis.com/ipos/statistics/ \"https://stockanalysis.com/ipos/statistics/\"), compared to 154 in 2023\\\\. The record was set in 2021 with 1035 IPOs. If there was an AI startup bubble, it peaked in 2021\\\\.\\n\\nIf rating the level of speculation in Nvidia to past bubbles on a scale of 1 to 10, the score is probably a six.\\n\\nBelief In New Paradigms\\n-----------------------\\n\\nAI is not the first technology to induce predictions of a materially altered future. Crypto was supposed to be the future of finance, and 3\\\\-D printing was expected to revolutionize manufacturing. Neither crypto nor 3\\\\-D printing has lived up to the initial hype. AI may fall into the same category, but there are reasons to believe it will indeed have a material impact on economics and society.\\n\\nBig technology firms and dozens of large corporations are making huge investments in the space. Hundreds of billions of dollars are flowing into Nvidia\\'s chips and AI\\\\-related infrastructure, such as data centers and the electrical grid. These investments are already paying off in direct AI revenue and [enhanced productivity](https://www.goldmansachs.com/intelligence/pages/AI-is-showing-very-positive-signs-of-boosting-gdp.html \"https://www.goldmansachs.com/intelligence/pages/AI-is-showing-very-positive-signs-of-boosting-gdp.html\").\\n\\nAccording to a [recent PwC report](https://www.pwc.com/gx/en/issues/data-and-analytics/publications/artificial-intelligence-study.html \"https://www.pwc.com/gx/en/issues/data-and-analytics/publications/artificial-intelligence-study.html\"), AI is predicted to increase productivity, raise growth domestic product growth, contribute to scientific discovery, and improve the healthcare system. The study predicts AI has the potential to contribute 14%, or $15\\\\.7 trillion, to the global economy by 2030\\\\. These are lofty predictions and very well may materialize. However, the fact that these studies are becoming more prevalent indicates belief that a new paradigm has formed.\\n\\nA number of changing circumstances could quickly alter the impact of this new paradigm. Shifts in global trade policy, emerging new technologies and competitors, a markdown in global growth expectations, or geopolitical shocks are just a few examples. AI could have a significant impact on many aspects of society, but it is possible that the return on investment will fail to materialize. Regardless of the outcome, investors are betting on, and talking about, a “new future.”\\n\\nWhen comparing the level of belief in a new paradigm to past bubbles on a scale of 1 to 10, the score would likely be an eight.\\n\\nNvidia Is Not In A Bubble But It Is Not Without Risk\\n----------------------------------------------------\\n\\nNvidia has become larger than the respective stock markets of Germany, France, and the U.K. Nvidia and other companies directly benefiting from AI are now at valuation levels that offer little room for error, and they must continue surpassing expectations and maintaining their market leadership to justify their current price.\\n\\nIs there a risk of another drawdown similar in magnitude to the ones we have witnessed over the last year? Absolutely. But is there a bubble\\\\-bursting crash in all AI\\\\-related stocks around the corner? Likely not. According to standard definitions of a bubble, Nvidia does not appear to be in the late stages of a one: valuations are high, but not at extreme levels; enthusiasm about AI is widespread, but not without fundamental support; and AI has already started to deliver on some of the lofty expectations in terms of new applications and overall productivity, validating predictions of a new paradigm.\\n\\nFollow me on\\xa0[Twitter](https://www.twitter.com/Garth_Friesen)\\xa0or\\xa0[LinkedIn](https://www.linkedin.com/in/garthfriesen).\\xa0Check out\\xa0my\\xa0[website](https://www.garthfriesen.com).\\xa0[![Garth Friesen](https://blogs-images.forbes.com/garthfriesen/files/2017/08/Garth-Friesen_avatar_1503528310-400x400.jpg)](https://www.forbes.com/sites/garthfriesen/ \"Photo of Garth Friesen\")[Garth Friesen](https://www.forbes.com/sites/garthfriesen/ \"https://www.forbes.com/sites/garthfriesen/\")[Following](https://account.forbes.com/following \"https://account.forbes.com/following\")* [Editorial Standards](https://www.forbes.com/sites/forbesstaff/article/forbes-editorial-values-and-standards/)\\n* [Forbes Accolades](https://www.forbes.com/accolades/)\\n\\n### Join The Conversation\\n\\nComments\\xa0One Community. Many Voices.\\xa0Create a free account to share your thoughts.\\n\\nRead our community guidelines\\xa0 here.![](https://static-cdn.spot.im/assets/community-guidelines/community-guidelines-symbol.svg)Forbes Community Guidelines\\n---------------------------\\n\\nOur community is about connecting people through open and thoughtful conversations. We want our readers to share their views and exchange ideas and facts in a safe space.\\n\\nIn order to do so, please follow the posting rules in our site\\'s\\xa0[Terms of Service.](https://www.forbes.com/terms-and-conditions)\\xa0 We\\'ve summarized some of those key rules below. Simply put, keep it civil.\\n\\nYour post will be rejected if we notice that it seems to contain:\\n\\n* False or intentionally out\\\\-of\\\\-context or misleading information\\n* Spam\\n* Insults, profanity, incoherent, obscene or inflammatory language or threats of any kind\\n* Attacks on the identity of other commenters or the article\\'s author\\n* Content that otherwise violates our site\\'s\\xa0[terms.](https://www.forbes.com/terms-and-conditions)\\n\\nUser accounts will be blocked if we notice or believe that users are engaged in:\\n\\n* Continuous attempts to re\\\\-post comments that have been previously moderated/rejected\\n* Racist, sexist, homophobic or other discriminatory comments\\n* Attempts or tactics that put the site security at risk\\n* Actions that otherwise violate our site\\'s\\xa0[terms.](https://www.forbes.com/terms-and-conditions)\\n\\nSo, how can you be a power user?\\n\\n* Stay on topic and share your insights\\n* Feel free to be clear and thoughtful to get your point across\\n* ‘Like’ or ‘Dislike’ to show your point of view.\\n* Protect your community.\\n* Use the report tool to alert us when someone breaks the rules.\\n\\nThanks for reading our community guidelines. Please read the full list of posting rules found in our site\\'s\\xa0[Terms of Service.](https://www.forbes.com/terms-and-conditions)', 1, 1)</details></pre></div><div class='basic-renderer-box respond'><h4 class='step-header'>[7] search_agent responds</h4><pre class='step-text'>kind: respond\n",
       "copy_output: false\n",
       "\n",
       "<details><summary>1380 characters ...</summary>In late 2022, Nvidia's stock price was influenced by several factors:\n",
       "\n",
       "1. **Market Volatility**: Nvidia's shares experienced significant drawdowns, including a 66% drop at one point in 2022. This volatility was partly due to broader market conditions and investor sentiment.\n",
       "\n",
       "2. **Economic Concerns**: Investors were worried about the overall economy losing momentum, which impacted high-growth tech stocks like Nvidia.\n",
       "\n",
       "3. **AI Market Dynamics**: Nvidia's dominance in the AI chip market and its substantial revenue growth from AI applications played a crucial role. Despite the volatility, Nvidia continued to exceed earnings expectations, which provided some fundamental support to its stock price.\n",
       "\n",
       "4. **Valuation Concerns**: Nvidia's high valuation relative to the broader market raised concerns about whether its stock price was justified or if it was in a bubble. The company's forward price-to-earnings ratio was significantly higher than industry averages.\n",
       "\n",
       "5. **Investor Sentiment**: There was widespread enthusiasm and speculation about AI, which influenced Nvidia's stock price. However, this enthusiasm was not without fundamental support, as Nvidia's financial performance continued to impress.\n",
       "\n",
       "Overall, a combination of market volatility, economic concerns, AI market dynamics, valuation issues, and investor sentiment influenced Nvidia's stock price in late 2022.</details></pre></div>"
      ],
      "text/plain": [
       "<IPython.core.display.HTML object>"
      ]
     },
     "execution_count": 21,
     "metadata": {},
     "output_type": "execute_result"
    }
   ],
   "source": [
    "from tapeagents.core import Respond\n",
    "from tapeagents.prompting import view_to_messages\n",
    "\n",
    "search_system_instruction = (\n",
    "    f\"\"\"Use at most 5 tool calls to search the request info on on the web.\"\"\"\n",
    ")\n",
    "search_system_message = {\"role\": \"system\", \"content\": search_system_instruction}\n",
    "\n",
    "class SearchAgentMainNode(Node):\n",
    "    \n",
    "    def make_prompt(self, agent, tape: DialogTape) -> Prompt:\n",
    "        view = agent.compute_view(tape)\n",
    "        return Prompt(messages=view_to_messages(view.top, agent), tools=search_agent_env.get_tool_schema_dicts())\n",
    "    \n",
    "    def generate_steps(self, agent, tape, llm_stream: LLMStream):\n",
    "        m = llm_stream.get_message()\n",
    "        if m.content:\n",
    "            yield Respond(content=m.content)\n",
    "        elif m.tool_calls:\n",
    "            yield ToolCalls(tool_calls=m.tool_calls)\n",
    "            yield Jump(next_node=0)\n",
    "        else:\n",
    "            raise ValueError()\n",
    "    \n",
    "search_agent = Agent.create(\n",
    "    name=\"search_agent\",\n",
    "    llms=LiteLLM(model_name=\"gpt-4o\", parameters={\"temperature\": 0.1}),\n",
    "    nodes=[SearchAgentMainNode()],\n",
    ")    \n",
    "start_tape = DialogTape(steps=[UserStep(content=\"What influenced Nvidia stock price in late 2022?\")])\n",
    "final_tape = None\n",
    "for event in main_loop(search_agent, start_tape, search_agent_env).agent_events():\n",
    "    if isinstance(event.step, Respond):\n",
    "        final_tape = event.partial_tape\n",
    "        break\n",
    "assert final_tape\n",
    "HTML(render_tape_with_prompts(final_tape, PrettyRenderer()))"
   ]
  },
  {
   "cell_type": "code",
   "execution_count": 22,
   "metadata": {
    "execution": {
     "iopub.execute_input": "2024-09-26T12:44:10.925856Z",
     "iopub.status.busy": "2024-09-26T12:44:10.925434Z",
     "iopub.status.idle": "2024-09-26T12:44:46.052922Z",
     "shell.execute_reply": "2024-09-26T12:44:46.051903Z"
    }
   },
   "outputs": [
    {
     "data": {
      "text/html": [
       "<style>.basic-renderer-box { margin: 4px; padding: 2px; background: lavender; white-space: pre-wrap; color: black;}.basic-prompt-box { margin: 4px; padding: 2px; background: lavender; color: black;}.episode-row { display: flex; align-items: end; }.agent-column { width: 50%; }.user-column { width: 25%; }.annotator-column { width: 25%; }.inner-tape-container { display: flex }.inner-tape-indent { width: 10%; }.inner-tape { width: 90%; }</style><style>.observation { background-color: #baffc9;; }.error_observation { background-color: #dd0000; }.action { background-color: #cccccc; }.thought { background-color: #ffffdb; }.call { background-color: #ffffff; }.respond { background-color: #ffffff; }.step-header { margin: 2pt 2pt 2pt 0 !important; }.step-text { font-size: 12px; white-space: pre-wrap; word-wrap: break-word;}</style><h3>Metadata</h3><details> <summary> Show / Hide </summary> <div class='basic-renderer-box'>author: ''\n",
       "author_tape_id: null\n",
       "error: null\n",
       "id: 739f51d4-c05f-48dc-9c18-241d3ecd3286\n",
       "n_added_steps: 3\n",
       "parent_id: 0e21defa-6f6e-4afd-a94f-f404022be68f\n",
       "result: null\n",
       "</div> </details><h3>Steps</h3><div class='basic-renderer-box observation'><h4 class='step-header'>[0] User</h4><pre class='step-text'>kind: user\n",
       "\n",
       "Tell me about Vulcan in 3 sentences</pre></div><div class='basic-renderer-box thought'><h4 class='step-header'>[1] Thought: AssistantThought</h4><pre class='step-text'>kind: assistant_thought\n",
       "\n",
       "1. Use the `functions.get_stock_ticker` tool to obtain the stock ticker symbol for Vulcan.\n",
       "2. Use the `functions.get_stock_data` tool to retrieve the stock price changes for Vulcan over the past year using the obtained stock ticker symbol.\n",
       "3. Use the `functions.call_search_agent` tool to gather general information about Vulcan, including its business operations and any recent news or developments.\n",
       "4. Summarize the stock price changes and general information about Vulcan in a concise manner.</pre></div><div class='basic-renderer-box thought'><h4 class='step-header'>[2] Thought: Jump</h4><pre class='step-text'>kind: jump\n",
       "next_node: 1\n",
       "</pre></div><div class='basic-renderer-box action'><h4 class='step-header'>[3] Action: ToolCalls</h4><pre class='step-text'>tool_calls:\n",
       "- function:\n",
       "    arguments: '{\"company_name\": \"Vulcan\"}'\n",
       "    name: get_stock_ticker\n",
       "  id: call_im5S6DQzekr5ynhy7fWcowGX\n",
       "  type: function\n",
       "kind: assistant\n",
       "</pre></div><div class='basic-renderer-box observation'><h4 class='step-header'>[4] Observation: ToolResult</h4><pre class='step-text'>tool_call_id: call_im5S6DQzekr5ynhy7fWcowGX\n",
       "kind: tool\n",
       "\n",
       "VMC</pre></div><div class='basic-renderer-box thought'><h4 class='step-header'>[5] Thought: Jump</h4><pre class='step-text'>kind: jump\n",
       "next_node: 1\n",
       "</pre></div><div class='basic-renderer-box action'><h4 class='step-header'>[6] Action: ToolCalls</h4><pre class='step-text'>tool_calls:\n",
       "- function:\n",
       "    arguments: '{\"symbol\": \"VMC\", \"start_date\": \"2023-09-17\", \"end_date\": \"2024-09-17\"}'\n",
       "    name: get_stock_data\n",
       "  id: call_flkPuOWTIPRrjt99M2NkjfCN\n",
       "  type: function\n",
       "kind: assistant\n",
       "</pre></div><div class='basic-renderer-box observation'><h4 class='step-header'>[7] Observation: ToolResult</h4><pre class='step-text'>tool_call_id: call_flkPuOWTIPRrjt99M2NkjfCN\n",
       "kind: tool\n",
       "\n",
       "<details><summary>2195 characters ...</summary>[('2023-09-18', 211.69000244140625), ('2023-09-22', 200.6199951171875), ('2023-09-28', 205.02999877929688), ('2023-10-04', 205.02999877929688), ('2023-10-10', 211.0), ('2023-10-16', 213.0399932861328), ('2023-10-20', 201.5500030517578), ('2023-10-26', 193.97000122070312), ('2023-11-01', 203.8000030517578), ('2023-11-07', 207.2100067138672), ('2023-11-13', 210.49000549316406), ('2023-11-17', 212.35000610351562), ('2023-11-24', 211.67999267578125), ('2023-11-30', 213.55999755859375), ('2023-12-06', 211.92999267578125), ('2023-12-12', 220.89999389648438), ('2023-12-18', 222.6999969482422), ('2023-12-22', 224.92999267578125), ('2023-12-29', 227.00999450683594), ('2024-01-05', 221.6199951171875), ('2024-01-11', 224.36000061035156), ('2024-01-18', 225.1199951171875), ('2024-01-24', 219.8000030517578), ('2024-01-30', 231.0500030517578), ('2024-02-05', 229.64999389648438), ('2024-02-09', 240.0), ('2024-02-15', 242.4600067138672), ('2024-02-22', 256.94000244140625), ('2024-02-28', 262.29998779296875), ('2024-03-05', 264.9800109863281), ('2024-03-11', 264.95001220703125), ('2024-03-15', 266.8599853515625), ('2024-03-21', 275.5899963378906), ('2024-03-27', 272.7900085449219), ('2024-04-03', 268.7699890136719), ('2024-04-09', 265.6199951171875), ('2024-04-15', 260.4700012207031), ('2024-04-19', 252.05999755859375), ('2024-04-25', 258.5400085449219), ('2024-05-01', 259.7300109863281), ('2024-05-07', 268.3500061035156), ('2024-05-13', 270.0899963378906), ('2024-05-17', 259.1000061035156), ('2024-05-23', 257.2099914550781), ('2024-05-30', 254.0800018310547), ('2024-06-05', 251.17999267578125), ('2024-06-11', 244.63999938964844), ('2024-06-17', 256.3500061035156), ('2024-06-24', 247.5800018310547), ('2024-06-28', 248.67999267578125), ('2024-07-05', 244.2100067138672), ('2024-07-11', 254.69000244140625), ('2024-07-17', 255.8000030517578), ('2024-07-23', 260.1499938964844), ('2024-07-29', 264.5299987792969), ('2024-08-02', 266.3399963378906), ('2024-08-08', 246.3300018310547), ('2024-08-14', 242.5), ('2024-08-20', 245.60000610351562), ('2024-08-26', 250.67999267578125), ('2024-08-30', 245.2100067138672), ('2024-09-06', 231.97000122070312), ('2024-09-12', 236.27000427246094)]</details></pre></div><div class='basic-renderer-box thought'><h4 class='step-header'>[8] Thought: Jump</h4><pre class='step-text'>kind: jump\n",
       "next_node: 1\n",
       "</pre></div><div class='basic-renderer-box call'><h4 class='step-header'>[9] Agent calls search_agent</h4><pre class='step-text'>kind: call\n",
       "agent_name: search_agent\n",
       "\n",
       "Vulcan company profile and recent news</pre></div><div class='basic-renderer-box action'><h4 class='step-header'>[10] Action: ToolCalls</h4><pre class='step-text'>tool_calls:\n",
       "- function:\n",
       "    arguments: '{\"query\": \"Vulcan company profile\"}'\n",
       "    name: get_search_results\n",
       "  id: call_yTGRzkSB3An3bJjYhK5jI9cX\n",
       "  type: function\n",
       "- function:\n",
       "    arguments: '{\"query\": \"Vulcan company recent news\"}'\n",
       "    name: get_search_results\n",
       "  id: call_xgeD0pE4gTcGIas4jhsJPzld\n",
       "  type: function\n",
       "kind: assistant\n",
       "</pre></div><div class='basic-renderer-box thought'><h4 class='step-header'>[11] Thought: Jump</h4><pre class='step-text'>kind: jump\n",
       "next_node: 0\n",
       "</pre></div><div class='basic-renderer-box observation'><h4 class='step-header'>[12] Observation: ToolResult</h4><pre class='step-text'>tool_call_id: call_yTGRzkSB3An3bJjYhK5jI9cX\n",
       "kind: tool\n",
       "\n",
       "<details><summary>1449 characters ...</summary>[{'title': 'Vulcan Materials Company (VMC) Company Profile & Facts', 'url': 'https://ca.finance.yahoo.com/quote/VMC/profile/', 'content': 'Vulcan Materials Company, together with its subsidiaries, produces and supplies construction aggregates primarily in the United States. It operates through four\\xa0...'}, {'title': 'Vulcan Materials Co - Company Profile', 'url': 'https://www.globaldata.com/company-profile/vulcan-materials-company/', 'content': 'Vulcan Materials Co (Vulcan) is a manufacturer of construction materials. It sells crushed stone, sand, gravel and aggregates-based building materials. The\\xa0...'}, {'title': 'Vulcan Materials Company', 'url': 'https://www.vulcanmaterials.com/', 'content': \"A Strong Foundation ... Vulcan Materials Company is the nation's largest producer of construction aggregates—primarily crushed stone, sand and gravel—and a major\\xa0...\"}, {'title': 'About Vulcan', 'url': 'https://v-er.eu/about-vulcan/', 'content': 'Vulcan aims to be the largest, preferred, strategic producer and supplier of lithium chemicals and renewable energy from Europe for Europe, to empower a net\\xa0...'}, {'title': 'Vulcan Materials Company - Company Profile Report', 'url': 'https://www.ibisworld.com/us/company/vulcan-materials-company/8848/', 'content': 'Vulcan Materials Company is a public company headquartered in Alabama with an estimated 12,000 employees. In the US, the company has a notable market share in\\xa0...'}]</details></pre></div><div class='basic-renderer-box observation'><h4 class='step-header'>[13] Observation: ToolResult</h4><pre class='step-text'>tool_call_id: call_xgeD0pE4gTcGIas4jhsJPzld\n",
       "kind: tool\n",
       "\n",
       "<details><summary>1488 characters ...</summary>[{'title': 'News', 'url': 'https://ir.vulcanmaterials.com/news/default.aspx', 'content': 'News ; August 6, 2024. VULCAN REPORTS SECOND QUARTER 2024 RESULTS ; July 19, 2024. VULCAN ANNOUNCES SECOND QUARTER 2024 CONFERENCE CALL ; July 12, 2024. VULCAN\\xa0...'}, {'title': 'Vulcan Materials Company (VMC) Latest Press Releases & ...', 'url': 'https://finance.yahoo.com/quote/VMC/press-releases/', 'content': 'The Board of Directors of Vulcan Materials Company (NYSE: VMC) today declared a quarterly cash dividend of $0.46 per share on its common stock. The dividend\\xa0...'}, {'title': 'Vulcan Materials Company (VMC) Latest Stock News & ...', 'url': 'https://finance.yahoo.com/quote/VMC/news/', 'content': 'BIRMINGHAM, Ala. AP) — Vulcan Materials Co. (VMC) on Tuesday reported second-quarter profit of $308 million. On a per-share basis, the Birmingham, Alabama-based\\xa0...'}, {'title': 'Vulcan News | Latest Local Headlines', 'url': 'https://www.vulcanadvocate.com/category/news/local-news/', 'content': \"Latest News Videos · Mark Carney gets Trudeau job just as his company asks Ottawa for $10 billion · Vulcan's council moves ahead with bylaw that would lower\\xa0...\"}, {'title': 'Vulcan Materials Company - Recent News & Activity', 'url': 'https://www.crunchbase.com/organization/vulcan-materials-company/company_overview/overview_timeline', 'content': \"Yahoo Finance — Vulcan Materials (VMC) Earnings Expected to Grow: What to Know Ahead of Next Week's Release. News• Jul 28, 2024.\"}]</details></pre></div><div class='basic-renderer-box respond'><h4 class='step-header'>[14] search_agent responds to Agent</h4><pre class='step-text'>kind: respond\n",
       "copy_output: false\n",
       "\n",
       "<details><summary>2674 characters ...</summary>### Vulcan Company Profile\n",
       "\n",
       "1. **[Vulcan Materials Company (VMC) Company Profile & Facts](https://ca.finance.yahoo.com/quote/VMC/profile/)**\n",
       "   - Vulcan Materials Company, together with its subsidiaries, produces and supplies construction aggregates primarily in the United States. It operates through four main segments.\n",
       "\n",
       "2. **[Vulcan Materials Co - Company Profile](https://www.globaldata.com/company-profile/vulcan-materials-company/)**\n",
       "   - Vulcan Materials Co (Vulcan) is a manufacturer of construction materials. It sells crushed stone, sand, gravel, and aggregates-based building materials.\n",
       "\n",
       "3. **[Vulcan Materials Company](https://www.vulcanmaterials.com/)**\n",
       "   - Vulcan Materials Company is the nation's largest producer of construction aggregates—primarily crushed stone, sand, and gravel—and a major producer of asphalt mix and ready-mixed concrete.\n",
       "\n",
       "4. **[About Vulcan](https://v-er.eu/about-vulcan/)**\n",
       "   - Vulcan aims to be the largest, preferred, strategic producer and supplier of lithium chemicals and renewable energy from Europe for Europe, to empower a net-zero future.\n",
       "\n",
       "5. **[Vulcan Materials Company - Company Profile Report](https://www.ibisworld.com/us/company/vulcan-materials-company/8848/)**\n",
       "   - Vulcan Materials Company is a public company headquartered in Alabama with an estimated 12,000 employees. In the US, the company has a notable market share in the construction materials industry.\n",
       "\n",
       "### Recent News about Vulcan\n",
       "\n",
       "1. **[News](https://ir.vulcanmaterials.com/news/default.aspx)**\n",
       "   - August 6, 2024: Vulcan reports second-quarter 2024 results.\n",
       "   - July 19, 2024: Vulcan announces second-quarter 2024 conference call.\n",
       "   - July 12, 2024: Vulcan's latest updates.\n",
       "\n",
       "2. **[Vulcan Materials Company (VMC) Latest Press Releases & News](https://finance.yahoo.com/quote/VMC/press-releases/)**\n",
       "   - The Board of Directors of Vulcan Materials Company declared a quarterly cash dividend of $0.46 per share on its common stock.\n",
       "\n",
       "3. **[Vulcan Materials Company (VMC) Latest Stock News](https://finance.yahoo.com/quote/VMC/news/)**\n",
       "   - Vulcan Materials Co. reported a second-quarter profit of $308 million. On a per-share basis, the Birmingham, Alabama-based company had significant earnings.\n",
       "\n",
       "4. **[Vulcan News | Latest Local Headlines](https://www.vulcanadvocate.com/category/news/local-news/)**\n",
       "   - Latest news videos and local headlines related to Vulcan.\n",
       "\n",
       "5. **[Vulcan Materials Company - Recent News & Activity](https://www.crunchbase.com/organization/vulcan-materials-company/company_overview/overview_timeline)**\n",
       "   - Yahoo Finance reports that Vulcan Materials (VMC) earnings are expected to grow, with updates ahead of next week's release.</details></pre></div><div class='basic-renderer-box action'><h4 class='step-header'>[15] Assistant</h4><pre class='step-text'>kind: assistant\n",
       "\n",
       "Vulcan Materials Company (VMC) is the largest producer of construction aggregates in the United States, including crushed stone, sand, and gravel, and is also a major producer of asphalt mix and ready-mixed concrete. Over the past year, Vulcan's stock price has seen significant fluctuations, starting at around $211.69 in September 2023 and reaching a peak of approximately $275.59 in March 2024, before settling at around $236.27 in September 2024. Recently, Vulcan reported a second-quarter profit of $308 million and declared a quarterly cash dividend of $0.46 per share.</pre></div><div class='basic-renderer-box thought'><h4 class='step-header'>[16] Thought: Jump</h4><pre class='step-text'>kind: jump\n",
       "next_node: 0\n",
       "</pre></div>"
      ],
      "text/plain": [
       "<IPython.core.display.HTML object>"
      ]
     },
     "metadata": {},
     "output_type": "display_data"
    }
   ],
   "source": [
    "from tapeagents.core import Jump\n",
    "from tapeagents.dialog_tape import AssistantThought, ToolCalls\n",
    "from tapeagents.prompting import view_to_messages\n",
    "from tapeagents.runtime import MainLoopStatus, main_loop\n",
    "from tapeagents.view import Call\n",
    "from IPython.display import clear_output\n",
    "\n",
    "system_instruction = f\"\"\"\n",
    "You will help the user to learn about financials of companies. \n",
    "For general user queries, include some info about stock price changes during the last year, as well as some general information on the company.\n",
    "Today is {today}.\n",
    "\"\"\"\n",
    "system_message = {\"role\": \"system\", \"content\": system_instruction}\n",
    "\n",
    "class PlanNode(Node):\n",
    "\n",
    "    def make_prompt(self, agent, tape) -> Prompt:\n",
    "        view = agent.compute_view(tape)\n",
    "        guidance = \"Write a natural language plan on how to use tools help the user. Output a list of numbered items, like 1., 2., 3., etc.\"\n",
    "        guidance_message = {\"role\": \"user\", \"content\": guidance}\n",
    "        return Prompt(\n",
    "            messages=[system_message] + view_to_messages(view.top, agent) + [guidance_message], \n",
    "            tools=main_agent_env.get_tool_schema_dicts()\n",
    "        )\n",
    "\n",
    "    def generate_steps(self, agent, dialog, llm_stream: LLMStream):\n",
    "        if content := llm_stream.get_message().content:\n",
    "            yield AssistantThought(content=content)\n",
    "        else:\n",
    "            raise ValueError()\n",
    "\n",
    "class ActNode(Node):\n",
    "\n",
    "    def make_prompt(self, agent, tape: DialogTape) -> Prompt:\n",
    "        view = agent.compute_view(tape)\n",
    "        guidance = \"Follow the plan you created to earlier. When you are done, respond to the user.\"\n",
    "        guidance_message = {\"role\": \"user\", \"content\": guidance}\n",
    "        return Prompt(\n",
    "            messages=[system_message] + view_to_messages(view.top, agent) + [guidance_message], \n",
    "            tools=main_agent_env.get_tool_schema_dicts()\n",
    "        )\n",
    "\n",
    "    def generate_steps(self, agent, dialog, llm_stream: LLMStream):\n",
    "        m = llm_stream.get_message()\n",
    "        if m.content:\n",
    "            yield AssistantStep(content=m.content)\n",
    "            yield Jump(next_node=0)\n",
    "        elif m.tool_calls:\n",
    "            yield Jump(next_node=1)\n",
    "            # only keep the tool calls before the call to another agent\n",
    "            tool_calls = []\n",
    "            for tc in m.tool_calls:\n",
    "                if tc.function.name == \"call_search_agent\":\n",
    "                    break\n",
    "                else:\n",
    "                    tool_calls.append(tc)\n",
    "            # either produce the ToolCalls action OR call another agent \n",
    "            if tool_calls:\n",
    "                yield ToolCalls(tool_calls=tool_calls)\n",
    "            else: \n",
    "                tc = m.tool_calls[0]\n",
    "                assert tc.function.name == \"call_search_agent\"  \n",
    "                yield Call(agent_name=\"search_agent\", content=json.loads(m.tool_calls[0].function.arguments)[\"query\"])\n",
    "            \n",
    "        else:\n",
    "            raise ValueError()\n",
    "\n",
    "agent3 = Agent.create(\n",
    "    subagents=[search_agent.model_copy(deep=True)],\n",
    "    llms=LiteLLM(model_name=\"gpt-4o\", parameters={\"temperature\": 0.1}),\n",
    "    nodes=[PlanNode(), ActNode()],\n",
    ")\n",
    "\n",
    "print(\"Run the agent!\")\n",
    "start_tape = DialogTape(steps=[UserStep(content=\"Tell me about Vulcan in 3 sentences\")])\n",
    "for event in main_loop(agent3, start_tape, whole_env):\n",
    "    if new_tape := event.agent_tape or event.env_tape:\n",
    "        clear_output()\n",
    "        display(HTML(render_tape_with_prompts(new_tape, PrettyRenderer())))\n",
    "    # Uncomment this if you want to pause after every loop\n",
    "    # if event.env_tape:\n",
    "    #     input(\"Press Enter the run the next iteration of the main loop\")\n",
    "    if event.status == MainLoopStatus.EXTERNAL_INPUT_NEEDED:\n",
    "        break "
   ]
  }
 ],
 "metadata": {
  "kernelspec": {
   "display_name": "tapes",
   "language": "python",
   "name": "python3"
  },
  "language_info": {
   "codemirror_mode": {
    "name": "ipython",
    "version": 3
   },
   "file_extension": ".py",
   "mimetype": "text/x-python",
   "name": "python",
   "nbconvert_exporter": "python",
   "pygments_lexer": "ipython3",
   "version": "3.10.14"
  },
  "widgets": {
   "application/vnd.jupyter.widget-state+json": {
    "state": {
     "12365a5deb8046e286299bbd8ba2a551": {
      "model_module": "@jupyter-widgets/controls",
      "model_module_version": "2.0.0",
      "model_name": "CheckboxModel",
      "state": {
       "_dom_classes": [],
       "_model_module": "@jupyter-widgets/controls",
       "_model_module_version": "2.0.0",
       "_model_name": "CheckboxModel",
       "_view_count": null,
       "_view_module": "@jupyter-widgets/controls",
       "_view_module_version": "2.0.0",
       "_view_name": "CheckboxView",
       "description": "Add token as git credential?",
       "description_allow_html": false,
       "disabled": false,
       "indent": true,
       "layout": "IPY_MODEL_75d3ecf4091d4e57bdb1421404847985",
       "style": "IPY_MODEL_440e1016bf2844e3a43e9717552da88b",
       "tabbable": null,
       "tooltip": null,
       "value": true
      }
     },
     "142383f3d40346c98bb0e735b4c5394c": {
      "model_module": "@jupyter-widgets/base",
      "model_module_version": "2.0.0",
      "model_name": "LayoutModel",
      "state": {
       "_model_module": "@jupyter-widgets/base",
       "_model_module_version": "2.0.0",
       "_model_name": "LayoutModel",
       "_view_count": null,
       "_view_module": "@jupyter-widgets/base",
       "_view_module_version": "2.0.0",
       "_view_name": "LayoutView",
       "align_content": null,
       "align_items": null,
       "align_self": null,
       "border_bottom": null,
       "border_left": null,
       "border_right": null,
       "border_top": null,
       "bottom": null,
       "display": null,
       "flex": null,
       "flex_flow": null,
       "grid_area": null,
       "grid_auto_columns": null,
       "grid_auto_flow": null,
       "grid_auto_rows": null,
       "grid_column": null,
       "grid_gap": null,
       "grid_row": null,
       "grid_template_areas": null,
       "grid_template_columns": null,
       "grid_template_rows": null,
       "height": null,
       "justify_content": null,
       "justify_items": null,
       "left": null,
       "margin": null,
       "max_height": null,
       "max_width": null,
       "min_height": null,
       "min_width": null,
       "object_fit": null,
       "object_position": null,
       "order": null,
       "overflow": null,
       "padding": null,
       "right": null,
       "top": null,
       "visibility": null,
       "width": null
      }
     },
     "3c012d386446406cb9ac1fd9a487a110": {
      "model_module": "@jupyter-widgets/controls",
      "model_module_version": "2.0.0",
      "model_name": "ButtonModel",
      "state": {
       "_dom_classes": [],
       "_model_module": "@jupyter-widgets/controls",
       "_model_module_version": "2.0.0",
       "_model_name": "ButtonModel",
       "_view_count": null,
       "_view_module": "@jupyter-widgets/controls",
       "_view_module_version": "2.0.0",
       "_view_name": "ButtonView",
       "button_style": "",
       "description": "Login",
       "disabled": false,
       "icon": "",
       "layout": "IPY_MODEL_142383f3d40346c98bb0e735b4c5394c",
       "style": "IPY_MODEL_6b7a1bae10a54bf0bc69ca67c27da963",
       "tabbable": null,
       "tooltip": null
      }
     },
     "440e1016bf2844e3a43e9717552da88b": {
      "model_module": "@jupyter-widgets/controls",
      "model_module_version": "2.0.0",
      "model_name": "CheckboxStyleModel",
      "state": {
       "_model_module": "@jupyter-widgets/controls",
       "_model_module_version": "2.0.0",
       "_model_name": "CheckboxStyleModel",
       "_view_count": null,
       "_view_module": "@jupyter-widgets/base",
       "_view_module_version": "2.0.0",
       "_view_name": "StyleView",
       "background": null,
       "description_width": ""
      }
     },
     "6668df66a58945429f08201e33da4550": {
      "model_module": "@jupyter-widgets/base",
      "model_module_version": "2.0.0",
      "model_name": "LayoutModel",
      "state": {
       "_model_module": "@jupyter-widgets/base",
       "_model_module_version": "2.0.0",
       "_model_name": "LayoutModel",
       "_view_count": null,
       "_view_module": "@jupyter-widgets/base",
       "_view_module_version": "2.0.0",
       "_view_name": "LayoutView",
       "align_content": null,
       "align_items": null,
       "align_self": null,
       "border_bottom": null,
       "border_left": null,
       "border_right": null,
       "border_top": null,
       "bottom": null,
       "display": null,
       "flex": null,
       "flex_flow": null,
       "grid_area": null,
       "grid_auto_columns": null,
       "grid_auto_flow": null,
       "grid_auto_rows": null,
       "grid_column": null,
       "grid_gap": null,
       "grid_row": null,
       "grid_template_areas": null,
       "grid_template_columns": null,
       "grid_template_rows": null,
       "height": null,
       "justify_content": null,
       "justify_items": null,
       "left": null,
       "margin": null,
       "max_height": null,
       "max_width": null,
       "min_height": null,
       "min_width": null,
       "object_fit": null,
       "object_position": null,
       "order": null,
       "overflow": null,
       "padding": null,
       "right": null,
       "top": null,
       "visibility": null,
       "width": null
      }
     },
     "6b7a1bae10a54bf0bc69ca67c27da963": {
      "model_module": "@jupyter-widgets/controls",
      "model_module_version": "2.0.0",
      "model_name": "ButtonStyleModel",
      "state": {
       "_model_module": "@jupyter-widgets/controls",
       "_model_module_version": "2.0.0",
       "_model_name": "ButtonStyleModel",
       "_view_count": null,
       "_view_module": "@jupyter-widgets/base",
       "_view_module_version": "2.0.0",
       "_view_name": "StyleView",
       "button_color": null,
       "font_family": null,
       "font_size": null,
       "font_style": null,
       "font_variant": null,
       "font_weight": null,
       "text_color": null,
       "text_decoration": null
      }
     },
     "75d3ecf4091d4e57bdb1421404847985": {
      "model_module": "@jupyter-widgets/base",
      "model_module_version": "2.0.0",
      "model_name": "LayoutModel",
      "state": {
       "_model_module": "@jupyter-widgets/base",
       "_model_module_version": "2.0.0",
       "_model_name": "LayoutModel",
       "_view_count": null,
       "_view_module": "@jupyter-widgets/base",
       "_view_module_version": "2.0.0",
       "_view_name": "LayoutView",
       "align_content": null,
       "align_items": null,
       "align_self": null,
       "border_bottom": null,
       "border_left": null,
       "border_right": null,
       "border_top": null,
       "bottom": null,
       "display": null,
       "flex": null,
       "flex_flow": null,
       "grid_area": null,
       "grid_auto_columns": null,
       "grid_auto_flow": null,
       "grid_auto_rows": null,
       "grid_column": null,
       "grid_gap": null,
       "grid_row": null,
       "grid_template_areas": null,
       "grid_template_columns": null,
       "grid_template_rows": null,
       "height": null,
       "justify_content": null,
       "justify_items": null,
       "left": null,
       "margin": null,
       "max_height": null,
       "max_width": null,
       "min_height": null,
       "min_width": null,
       "object_fit": null,
       "object_position": null,
       "order": null,
       "overflow": null,
       "padding": null,
       "right": null,
       "top": null,
       "visibility": null,
       "width": null
      }
     },
     "79232ab9e0cd4028829c09821459d452": {
      "model_module": "@jupyter-widgets/base",
      "model_module_version": "2.0.0",
      "model_name": "LayoutModel",
      "state": {
       "_model_module": "@jupyter-widgets/base",
       "_model_module_version": "2.0.0",
       "_model_name": "LayoutModel",
       "_view_count": null,
       "_view_module": "@jupyter-widgets/base",
       "_view_module_version": "2.0.0",
       "_view_name": "LayoutView",
       "align_content": null,
       "align_items": null,
       "align_self": null,
       "border_bottom": null,
       "border_left": null,
       "border_right": null,
       "border_top": null,
       "bottom": null,
       "display": null,
       "flex": null,
       "flex_flow": null,
       "grid_area": null,
       "grid_auto_columns": null,
       "grid_auto_flow": null,
       "grid_auto_rows": null,
       "grid_column": null,
       "grid_gap": null,
       "grid_row": null,
       "grid_template_areas": null,
       "grid_template_columns": null,
       "grid_template_rows": null,
       "height": null,
       "justify_content": null,
       "justify_items": null,
       "left": null,
       "margin": null,
       "max_height": null,
       "max_width": null,
       "min_height": null,
       "min_width": null,
       "object_fit": null,
       "object_position": null,
       "order": null,
       "overflow": null,
       "padding": null,
       "right": null,
       "top": null,
       "visibility": null,
       "width": null
      }
     },
     "7f45920d4ede4d3fa0fe554fad65b943": {
      "model_module": "@jupyter-widgets/controls",
      "model_module_version": "2.0.0",
      "model_name": "HTMLModel",
      "state": {
       "_dom_classes": [],
       "_model_module": "@jupyter-widgets/controls",
       "_model_module_version": "2.0.0",
       "_model_name": "HTMLModel",
       "_view_count": null,
       "_view_module": "@jupyter-widgets/controls",
       "_view_module_version": "2.0.0",
       "_view_name": "HTMLView",
       "description": "",
       "description_allow_html": false,
       "layout": "IPY_MODEL_6668df66a58945429f08201e33da4550",
       "placeholder": "​",
       "style": "IPY_MODEL_89215b9297d947a5b6cf7842aba31b7b",
       "tabbable": null,
       "tooltip": null,
       "value": "<center> <img\nsrc=https://huggingface.co/front/assets/huggingface_logo-noborder.svg\nalt='Hugging Face'> <br> Copy a token from <a\nhref=\"https://huggingface.co/settings/tokens\" target=\"_blank\">your Hugging Face\ntokens page</a> and paste it below. <br> Immediately click login after copying\nyour token or it might be stored in plain text in this notebook file. </center>"
      }
     },
     "89215b9297d947a5b6cf7842aba31b7b": {
      "model_module": "@jupyter-widgets/controls",
      "model_module_version": "2.0.0",
      "model_name": "HTMLStyleModel",
      "state": {
       "_model_module": "@jupyter-widgets/controls",
       "_model_module_version": "2.0.0",
       "_model_name": "HTMLStyleModel",
       "_view_count": null,
       "_view_module": "@jupyter-widgets/base",
       "_view_module_version": "2.0.0",
       "_view_name": "StyleView",
       "background": null,
       "description_width": "",
       "font_size": null,
       "text_color": null
      }
     },
     "89de7200b9b34f368125cbb6dd5a631b": {
      "model_module": "@jupyter-widgets/base",
      "model_module_version": "2.0.0",
      "model_name": "LayoutModel",
      "state": {
       "_model_module": "@jupyter-widgets/base",
       "_model_module_version": "2.0.0",
       "_model_name": "LayoutModel",
       "_view_count": null,
       "_view_module": "@jupyter-widgets/base",
       "_view_module_version": "2.0.0",
       "_view_name": "LayoutView",
       "align_content": null,
       "align_items": null,
       "align_self": null,
       "border_bottom": null,
       "border_left": null,
       "border_right": null,
       "border_top": null,
       "bottom": null,
       "display": null,
       "flex": null,
       "flex_flow": null,
       "grid_area": null,
       "grid_auto_columns": null,
       "grid_auto_flow": null,
       "grid_auto_rows": null,
       "grid_column": null,
       "grid_gap": null,
       "grid_row": null,
       "grid_template_areas": null,
       "grid_template_columns": null,
       "grid_template_rows": null,
       "height": null,
       "justify_content": null,
       "justify_items": null,
       "left": null,
       "margin": null,
       "max_height": null,
       "max_width": null,
       "min_height": null,
       "min_width": null,
       "object_fit": null,
       "object_position": null,
       "order": null,
       "overflow": null,
       "padding": null,
       "right": null,
       "top": null,
       "visibility": null,
       "width": null
      }
     },
     "8a3c5c3166b345f2bb3f346ec4311826": {
      "model_module": "@jupyter-widgets/controls",
      "model_module_version": "2.0.0",
      "model_name": "HTMLModel",
      "state": {
       "_dom_classes": [],
       "_model_module": "@jupyter-widgets/controls",
       "_model_module_version": "2.0.0",
       "_model_name": "HTMLModel",
       "_view_count": null,
       "_view_module": "@jupyter-widgets/controls",
       "_view_module_version": "2.0.0",
       "_view_name": "HTMLView",
       "description": "",
       "description_allow_html": false,
       "layout": "IPY_MODEL_89de7200b9b34f368125cbb6dd5a631b",
       "placeholder": "​",
       "style": "IPY_MODEL_d7f71301481f46d9be41811f92558b25",
       "tabbable": null,
       "tooltip": null,
       "value": "\n<b>Pro Tip:</b> If you don't already have one, you can create a dedicated\n'notebooks' token with 'write' access, that you can then easily reuse for all\nnotebooks. </center>"
      }
     },
     "960f5cb61fda40a28c15c7d50c156273": {
      "model_module": "@jupyter-widgets/controls",
      "model_module_version": "2.0.0",
      "model_name": "PasswordModel",
      "state": {
       "_dom_classes": [],
       "_model_module": "@jupyter-widgets/controls",
       "_model_module_version": "2.0.0",
       "_model_name": "PasswordModel",
       "_view_count": null,
       "_view_module": "@jupyter-widgets/controls",
       "_view_module_version": "2.0.0",
       "_view_name": "PasswordView",
       "continuous_update": true,
       "description": "Token:",
       "description_allow_html": false,
       "disabled": false,
       "layout": "IPY_MODEL_79232ab9e0cd4028829c09821459d452",
       "placeholder": "​",
       "style": "IPY_MODEL_ab6d9bb1ec2049d6973347340af9c0bb",
       "tabbable": null,
       "tooltip": null,
       "value": ""
      }
     },
     "ab6d9bb1ec2049d6973347340af9c0bb": {
      "model_module": "@jupyter-widgets/controls",
      "model_module_version": "2.0.0",
      "model_name": "TextStyleModel",
      "state": {
       "_model_module": "@jupyter-widgets/controls",
       "_model_module_version": "2.0.0",
       "_model_name": "TextStyleModel",
       "_view_count": null,
       "_view_module": "@jupyter-widgets/base",
       "_view_module_version": "2.0.0",
       "_view_name": "StyleView",
       "background": null,
       "description_width": "",
       "font_size": null,
       "text_color": null
      }
     },
     "bd0a014075924c49b453071f5a5100cf": {
      "model_module": "@jupyter-widgets/controls",
      "model_module_version": "2.0.0",
      "model_name": "VBoxModel",
      "state": {
       "_dom_classes": [],
       "_model_module": "@jupyter-widgets/controls",
       "_model_module_version": "2.0.0",
       "_model_name": "VBoxModel",
       "_view_count": null,
       "_view_module": "@jupyter-widgets/controls",
       "_view_module_version": "2.0.0",
       "_view_name": "VBoxView",
       "box_style": "",
       "children": [
        "IPY_MODEL_7f45920d4ede4d3fa0fe554fad65b943",
        "IPY_MODEL_960f5cb61fda40a28c15c7d50c156273",
        "IPY_MODEL_12365a5deb8046e286299bbd8ba2a551",
        "IPY_MODEL_3c012d386446406cb9ac1fd9a487a110",
        "IPY_MODEL_8a3c5c3166b345f2bb3f346ec4311826"
       ],
       "layout": "IPY_MODEL_d06b8ff0af624b729c40713e927ef113",
       "tabbable": null,
       "tooltip": null
      }
     },
     "d06b8ff0af624b729c40713e927ef113": {
      "model_module": "@jupyter-widgets/base",
      "model_module_version": "2.0.0",
      "model_name": "LayoutModel",
      "state": {
       "_model_module": "@jupyter-widgets/base",
       "_model_module_version": "2.0.0",
       "_model_name": "LayoutModel",
       "_view_count": null,
       "_view_module": "@jupyter-widgets/base",
       "_view_module_version": "2.0.0",
       "_view_name": "LayoutView",
       "align_content": null,
       "align_items": "center",
       "align_self": null,
       "border_bottom": null,
       "border_left": null,
       "border_right": null,
       "border_top": null,
       "bottom": null,
       "display": "flex",
       "flex": null,
       "flex_flow": "column",
       "grid_area": null,
       "grid_auto_columns": null,
       "grid_auto_flow": null,
       "grid_auto_rows": null,
       "grid_column": null,
       "grid_gap": null,
       "grid_row": null,
       "grid_template_areas": null,
       "grid_template_columns": null,
       "grid_template_rows": null,
       "height": null,
       "justify_content": null,
       "justify_items": null,
       "left": null,
       "margin": null,
       "max_height": null,
       "max_width": null,
       "min_height": null,
       "min_width": null,
       "object_fit": null,
       "object_position": null,
       "order": null,
       "overflow": null,
       "padding": null,
       "right": null,
       "top": null,
       "visibility": null,
       "width": "50%"
      }
     },
     "d7f71301481f46d9be41811f92558b25": {
      "model_module": "@jupyter-widgets/controls",
      "model_module_version": "2.0.0",
      "model_name": "HTMLStyleModel",
      "state": {
       "_model_module": "@jupyter-widgets/controls",
       "_model_module_version": "2.0.0",
       "_model_name": "HTMLStyleModel",
       "_view_count": null,
       "_view_module": "@jupyter-widgets/base",
       "_view_module_version": "2.0.0",
       "_view_name": "StyleView",
       "background": null,
       "description_width": "",
       "font_size": null,
       "text_color": null
      }
     }
    },
    "version_major": 2,
    "version_minor": 0
   }
  }
 },
 "nbformat": 4,
 "nbformat_minor": 2
}
