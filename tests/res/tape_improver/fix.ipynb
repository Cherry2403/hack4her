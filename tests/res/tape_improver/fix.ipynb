{
 "cells": [
  {
   "cell_type": "code",
   "execution_count": 1,
   "metadata": {},
   "outputs": [
    {
     "name": "stdout",
     "output_type": "stream",
     "text": [
      "total 0\n",
      "drwxr-xr-x 5 toolkit toolkit 0 Sep 17 17:11 conf\n",
      "drwxr-xr-x 2 toolkit toolkit 0 Sep 25 09:27 data_science\n",
      "drwxr-xr-x 2 toolkit toolkit 0 Sep 25 09:27 delegate\n",
      "drwxr-xr-x 2 toolkit toolkit 0 Sep 25 09:27 delegate_stack\n",
      "drwxr-xr-x 4 toolkit toolkit 0 Sep 17 17:11 finetune\n",
      "drwxr-xr-x 2 toolkit toolkit 0 Sep 25 09:27 gaia_agent\n",
      "drwxr-xr-x 2 toolkit toolkit 0 Sep 25 09:27 intro_notebook\n",
      "drwxr-xr-x 2 toolkit toolkit 0 Sep 25 15:43 llama_agent\n",
      "drwxr-xr-x 2 toolkit toolkit 0 Sep 25 15:38 tape_improver\n",
      "drwxr-xr-x 4 toolkit toolkit 0 Sep 25 13:12 tokenizer\n"
     ]
    }
   ],
   "source": [
    "!ls -l ..\n"
   ]
  },
  {
   "cell_type": "code",
   "execution_count": 10,
   "metadata": {},
   "outputs": [
    {
     "name": "stdout",
     "output_type": "stream",
     "text": [
      "36\n",
      "36\n"
     ]
    }
   ],
   "source": [
    "import json\n",
    "import os\n",
    "\n",
    "fname = \"../data_science/final_tape.json\"\n",
    "new_tape_dict = {}\n",
    "with open(fname) as f:\n",
    "    tape_dict = json.load(f)\n",
    "\n",
    "new_tape_dict = tape_dict.copy()\n",
    "new_tape_dict[\"steps\"] = []\n",
    "for step in tape_dict[\"steps\"]:\n",
    "    by = step.pop(\"by\") if \"by\" in step else \"\"\n",
    "    task = step.pop(\"task\") if \"task\" in step else \"\"\n",
    "    prompt_id = step.pop(\"prompt_id\") if \"prompt_id\" in step else \"\"\n",
    "    metadata = {\"agent\": by, \"node\": task, \"prompt_id\": prompt_id}\n",
    "    new_step = step.copy()\n",
    "    new_step[\"metadata\"] = metadata\n",
    "    new_tape_dict[\"steps\"].append(new_step)\n",
    "\n",
    "print(len(tape_dict[\"steps\"]))\n",
    "print(len(new_tape_dict[\"steps\"]))\n",
    "\n",
    "os.rename(fname, f\"{fname}.old\")\n",
    "with open(fname, \"w\") as f:\n",
    "    json.dump(new_tape_dict, f, indent=2, ensure_ascii=False)\n"
   ]
  },
  {
   "cell_type": "code",
   "execution_count": 6,
   "metadata": {},
   "outputs": [
    {
     "name": "stdout",
     "output_type": "stream",
     "text": [
      "53\n",
      "53\n"
     ]
    }
   ],
   "source": [
    "import json\n",
    "import os\n",
    "\n",
    "fname = \"../gaia_agent/results.json\"\n",
    "new_tape_dict = {}\n",
    "with open(fname) as f:\n",
    "    d = json.load(f)\n",
    "    tapes = d[\"tapes\"]\n",
    "\n",
    "new_tapes = []\n",
    "for tape_dict in tapes:\n",
    "    new_tape_dict = tape_dict.copy()\n",
    "    new_tape_dict[\"steps\"] = []\n",
    "    for step in tape_dict[\"steps\"]:\n",
    "        by = step.pop(\"by\") if \"by\" in step else \"\"\n",
    "        task = step.pop(\"task\") if \"task\" in step else \"\"\n",
    "        prompt_id = step.pop(\"prompt_id\") if \"prompt_id\" in step else \"\"\n",
    "        metadata = {\"agent\": by, \"node\": task, \"prompt_id\": prompt_id}\n",
    "        new_step = step.copy()\n",
    "        new_step[\"metadata\"] = metadata\n",
    "        new_tape_dict[\"steps\"].append(new_step)\n",
    "    new_tapes.append(new_tape_dict)\n",
    "\n",
    "print(len(tapes))\n",
    "print(len(new_tapes))\n",
    "\n",
    "d[\"tapes\"] = new_tapes\n",
    "os.rename(fname, f\"{fname}.old\")\n",
    "with open(fname, \"w\") as f:\n",
    "    json.dump(d, f, indent=2, ensure_ascii=False)\n"
   ]
  }
 ],
 "metadata": {
  "kernelspec": {
   "display_name": "tapeagents2",
   "language": "python",
   "name": "python3"
  },
  "language_info": {
   "codemirror_mode": {
    "name": "ipython",
    "version": 3
   },
   "file_extension": ".py",
   "mimetype": "text/x-python",
   "name": "python",
   "nbconvert_exporter": "python",
   "pygments_lexer": "ipython3",
   "version": "3.10.14"
  }
 },
 "nbformat": 4,
 "nbformat_minor": 2
}
