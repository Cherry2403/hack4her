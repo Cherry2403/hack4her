{
 "cells": [
  {
   "cell_type": "code",
   "execution_count": 7,
   "metadata": {},
   "outputs": [
    {
     "name": "stdout",
     "output_type": "stream",
     "text": [
      "46\n",
      "46\n"
     ]
    }
   ],
   "source": [
    "import json\n",
    "\n",
    "fname = \"../../../examples/res/bad_tape.json\"\n",
    "new_tape_dict = {}\n",
    "with open(fname) as f:\n",
    "    tape_dict = json.load(f)\n",
    "with open(fname) as f:\n",
    "    tape_dict2 = json.load(f)\n",
    "\n",
    "new_tape_dict = tape_dict.copy()\n",
    "new_tape_dict[\"steps\"] = []\n",
    "for step in tape_dict[\"steps\"]:\n",
    "    by = step.pop(\"by\") if \"by\" in step else \"\"\n",
    "    task = step.pop(\"task\") if \"task\" in step else \"\"\n",
    "    prompt_id = step.pop(\"prompt_id\") if \"prompt_id\" in step else \"\"\n",
    "    metadata = {\"by\": by, \"task\": task, \"prompt_id\": prompt_id}\n",
    "    new_step = step.copy()\n",
    "    new_step[\"metadata\"] = metadata\n",
    "    new_tape_dict[\"steps\"].append(new_step)\n",
    "\n",
    "print(len(tape_dict[\"steps\"]))\n",
    "print(len(new_tape_dict[\"steps\"]))\n",
    "# new_tape_dict[\"context\"][\"steps\"] = []\n",
    "\n",
    "# for i, step in enumerate(tape_dict2[\"context\"][\"steps\"]):\n",
    "#     by = step.pop(\"by\") if \"by\" in step else \"\"\n",
    "#     task = step.pop(\"task\") if \"task\" in step else \"\"\n",
    "#     prompt_id = step.pop(\"prompt_id\") if \"prompt_id\" in step else \"\"\n",
    "#     metadata = {\"by\": by, \"task\": task, \"prompt_id\": prompt_id}\n",
    "#     new_step = step.copy()\n",
    "#     new_step[\"metadata\"] = metadata\n",
    "#     new_tape_dict[\"context\"][\"steps\"].append(new_step)\n",
    "\n",
    "# print(len(tape_dict2[\"context\"][\"steps\"]))\n",
    "# print(len(new_tape_dict[\"context\"][\"steps\"]))\n",
    "\n",
    "with open(f\"{fname}.new\", \"w\") as f:\n",
    "    json.dump(new_tape_dict, f, indent=2, ensure_ascii=False)\n"
   ]
  },
  {
   "cell_type": "code",
   "execution_count": 1,
   "metadata": {},
   "outputs": [],
   "source": [
    "import json\n"
   ]
  },
  {
   "cell_type": "code",
   "execution_count": 2,
   "metadata": {},
   "outputs": [],
   "source": [
    "a = {\n",
    "    \"content\": \"{\\n    \\\"content\\\": \\\"To make a plot comparing the stocks of ServiceNow (NOW) and Salesforce (CRM) since the beginning of 2024, we'll follow these steps:\\\\n\\\\n1. Import the necessary libraries.\\\\n2. Fetch the stock data for both ServiceNow and Salesforce from a financial data provider.\\\\n3. Process the data to ensure it's in the correct format.\\\\n4. Create a plot comparing both stocks.\\\\n5. Save the plot to a PNG file.\\\\n\\\\nWe'll use the `yfinance` library to fetch the stock data, `pandas` for data manipulation, and `matplotlib` for plotting.\\\\n\\\\nHere's the complete code:\\\\n\\\\n```python\\\\n# filename: compare_stocks.py\\\\n\\\\n# Make sure to install required libraries using these commands:\\\\n# pip install yfinance\\\\n# pip install matplotlib\\\\n# pip install pandas\\\\n\\\\nimport yfinance as yf\\\\nimport matplotlib.pyplot as plt\\\\n\\\\n# Step 1: Define stock tickers and time frame\\\\nstock_symbols = ['NOW', 'CRM']\\\\nstart_date = '2024-01-01'\\\\nend_date = '2024-10-11'  # Adjust the date as necessary\\\\n\\\\n# Step 2: Fetch the stock data\\\\nstock_data = yf.download(stock_symbols, start=start_date, end=end_date)\\\\n\\\\n# Step 3: Process the data\\\\n# Here we assume the 'Adj Close' prices to compare adjusted closing prices\\\\nadj_close_data = stock_data['Adj Close']\\\\n\\\\n# Step 4: Create the plot\\\\nplt.figure(figsize=(10, 6))\\\\nfor symbol in stock_symbols:\\\\n    plt.plot(adj_close_data.index, adj_close_data[symbol], label=symbol)\\\\n\\\\n# Customize the plot\\\\nplt.title('ServiceNow (NOW) vs Salesforce (CRM) Stock Prices')\\\\nplt.xlabel('Date')\\\\nplt.ylabel('Adjusted Closing Price (USD)')\\\\nplt.legend()\\\\nplt.grid(True)\\\\nplt.tight_layout()\\\\n\\\\n# Step 5: Save the plot to a PNG file\\\\nplt.savefig('service_now_vs_salesforce.png')\\\\n\\\\n# Show plot for verification\\\\nplt.show()\\\\n```\\\\n\\\\nTo execute the script:\\\\n\\\\n1. Run the following commands to install the necessary libraries if you haven't already:\\\\n\\\\n```sh\\\\npip install yfinance\\\\npip install matplotlib\\\\npip install pandas\\\\n```\\\\n\\\\n2. Save the above code to a file named `compare_stocks.py`.\\\\n3. Run the script using `python compare_stocks.py`.\\\\n\\\\nThis will fetch the stock data for ServiceNow and Salesforce starting from January 1, 2024, create a plot comparing their prices, and save the plot as `service_now_vs_salesforce.png`.\\\",\\n    \\\"role\\\": \\\"return\\\",\\n    \\\"index\\\": 3,\\n    \\\"by\\\": \\\"UserProxy/GroupChatManager/SoftwareEngineer\\\"\\n}\",\n",
    "    \"role\": \"assistant\",\n",
    "}\n"
   ]
  },
  {
   "cell_type": "code",
   "execution_count": 12,
   "metadata": {},
   "outputs": [
    {
     "name": "stdout",
     "output_type": "stream",
     "text": [
      "{\n",
      "    \"content\": \"To make a plot comparing the stocks of ServiceNow (NOW) and Salesforce (CRM) since the beginning of 2024, we'll follow these steps:\\n\\n1. Import the necessary libraries.\\n2. Fetch the stock data for both ServiceNow and Salesforce from a financial data provider.\\n3. Process the data to ensure it's in the correct format.\\n4. Create a plot comparing both stocks.\\n5. Save the plot to a PNG file.\\n\\nWe'll use the `yfinance` library to fetch the stock data, `pandas` for data manipulation, and `matplotlib` for plotting.\\n\\nHere's the complete code:\\n\\n```python\\n# filename: compare_stocks.py\\n\\n# Make sure to install required libraries using these commands:\\n# pip install yfinance\\n# pip install matplotlib\\n# pip install pandas\\n\\nimport yfinance as yf\\nimport matplotlib.pyplot as plt\\n\\n# Step 1: Define stock tickers and time frame\\nstock_symbols = ['NOW', 'CRM']\\nstart_date = '2024-01-01'\\nend_date = '2024-10-11'  # Adjust the date as necessary\\n\\n# Step 2: Fetch the stock data\\nstock_data = yf.download(stock_symbols, start=start_date, end=end_date)\\n\\n# Step 3: Process the data\\n# Here we assume the 'Adj Close' prices to compare adjusted closing prices\\nadj_close_data = stock_data['Adj Close']\\n\\n# Step 4: Create the plot\\nplt.figure(figsize=(10, 6))\\nfor symbol in stock_symbols:\\n    plt.plot(adj_close_data.index, adj_close_data[symbol], label=symbol)\\n\\n# Customize the plot\\nplt.title('ServiceNow (NOW) vs Salesforce (CRM) Stock Prices')\\nplt.xlabel('Date')\\nplt.ylabel('Adjusted Closing Price (USD)')\\nplt.legend()\\nplt.grid(True)\\nplt.tight_layout()\\n\\n# Step 5: Save the plot to a PNG file\\nplt.savefig('service_now_vs_salesforce.png')\\n\\n# Show plot for verification\\nplt.show()\\n```\\n\\nTo execute the script:\\n\\n1. Run the following commands to install the necessary libraries if you haven't already:\\n\\n```sh\\npip install yfinance\\npip install matplotlib\\npip install pandas\\n```\\n\\n2. Save the above code to a file named `compare_stocks.py`.\\n3. Run the script using `python compare_stocks.py`.\\n\\nThis will fetch the stock data for ServiceNow and Salesforce starting from January 1, 2024, create a plot comparing their prices, and save the plot as `service_now_vs_salesforce.png`.\",\n",
      "    \"role\": \"return\",\n",
      "    \"index\": 3,\n",
      "    \"metadata\": {\n",
      "        \"by\": \"UserProxy/GroupChatManager/SoftwareEngineer\"\n",
      "    }\n",
      "}\n"
     ]
    }
   ],
   "source": [
    "print(a[\"content\"])\n"
   ]
  },
  {
   "cell_type": "code",
   "execution_count": 6,
   "metadata": {},
   "outputs": [],
   "source": [
    "content = json.loads(a[\"content\"])\n"
   ]
  },
  {
   "cell_type": "code",
   "execution_count": 8,
   "metadata": {},
   "outputs": [
    {
     "data": {
      "text/plain": [
       "{'content': \"To make a plot comparing the stocks of ServiceNow (NOW) and Salesforce (CRM) since the beginning of 2024, we'll follow these steps:\\n\\n1. Import the necessary libraries.\\n2. Fetch the stock data for both ServiceNow and Salesforce from a financial data provider.\\n3. Process the data to ensure it's in the correct format.\\n4. Create a plot comparing both stocks.\\n5. Save the plot to a PNG file.\\n\\nWe'll use the `yfinance` library to fetch the stock data, `pandas` for data manipulation, and `matplotlib` for plotting.\\n\\nHere's the complete code:\\n\\n```python\\n# filename: compare_stocks.py\\n\\n# Make sure to install required libraries using these commands:\\n# pip install yfinance\\n# pip install matplotlib\\n# pip install pandas\\n\\nimport yfinance as yf\\nimport matplotlib.pyplot as plt\\n\\n# Step 1: Define stock tickers and time frame\\nstock_symbols = ['NOW', 'CRM']\\nstart_date = '2024-01-01'\\nend_date = '2024-10-11'  # Adjust the date as necessary\\n\\n# Step 2: Fetch the stock data\\nstock_data = yf.download(stock_symbols, start=start_date, end=end_date)\\n\\n# Step 3: Process the data\\n# Here we assume the 'Adj Close' prices to compare adjusted closing prices\\nadj_close_data = stock_data['Adj Close']\\n\\n# Step 4: Create the plot\\nplt.figure(figsize=(10, 6))\\nfor symbol in stock_symbols:\\n    plt.plot(adj_close_data.index, adj_close_data[symbol], label=symbol)\\n\\n# Customize the plot\\nplt.title('ServiceNow (NOW) vs Salesforce (CRM) Stock Prices')\\nplt.xlabel('Date')\\nplt.ylabel('Adjusted Closing Price (USD)')\\nplt.legend()\\nplt.grid(True)\\nplt.tight_layout()\\n\\n# Step 5: Save the plot to a PNG file\\nplt.savefig('service_now_vs_salesforce.png')\\n\\n# Show plot for verification\\nplt.show()\\n```\\n\\nTo execute the script:\\n\\n1. Run the following commands to install the necessary libraries if you haven't already:\\n\\n```sh\\npip install yfinance\\npip install matplotlib\\npip install pandas\\n```\\n\\n2. Save the above code to a file named `compare_stocks.py`.\\n3. Run the script using `python compare_stocks.py`.\\n\\nThis will fetch the stock data for ServiceNow and Salesforce starting from January 1, 2024, create a plot comparing their prices, and save the plot as `service_now_vs_salesforce.png`.\",\n",
       " 'role': 'return',\n",
       " 'index': 3,\n",
       " 'metadata': {'by': 'UserProxy/GroupChatManager/SoftwareEngineer'}}"
      ]
     },
     "execution_count": 8,
     "metadata": {},
     "output_type": "execute_result"
    }
   ],
   "source": [
    "content[\"metadata\"] = {\"by\": content[\"by\"]}\n",
    "content.pop(\"by\")\n",
    "content\n"
   ]
  },
  {
   "cell_type": "code",
   "execution_count": 11,
   "metadata": {},
   "outputs": [],
   "source": [
    "a[\"content\"] = json.dumps(content, indent=4, ensure_ascii=False)\n"
   ]
  },
  {
   "cell_type": "code",
   "execution_count": 15,
   "metadata": {},
   "outputs": [
    {
     "name": "stdout",
     "output_type": "stream",
     "text": [
      "{\"content\": \"{\\n    \\\"content\\\": \\\"To make a plot comparing the stocks of ServiceNow (NOW) and Salesforce (CRM) since the beginning of 2024, we'll follow these steps:\\\\n\\\\n1. Import the necessary libraries.\\\\n2. Fetch the stock data for both ServiceNow and Salesforce from a financial data provider.\\\\n3. Process the data to ensure it's in the correct format.\\\\n4. Create a plot comparing both stocks.\\\\n5. Save the plot to a PNG file.\\\\n\\\\nWe'll use the `yfinance` library to fetch the stock data, `pandas` for data manipulation, and `matplotlib` for plotting.\\\\n\\\\nHere's the complete code:\\\\n\\\\n```python\\\\n# filename: compare_stocks.py\\\\n\\\\n# Make sure to install required libraries using these commands:\\\\n# pip install yfinance\\\\n# pip install matplotlib\\\\n# pip install pandas\\\\n\\\\nimport yfinance as yf\\\\nimport matplotlib.pyplot as plt\\\\n\\\\n# Step 1: Define stock tickers and time frame\\\\nstock_symbols = ['NOW', 'CRM']\\\\nstart_date = '2024-01-01'\\\\nend_date = '2024-10-11'  # Adjust the date as necessary\\\\n\\\\n# Step 2: Fetch the stock data\\\\nstock_data = yf.download(stock_symbols, start=start_date, end=end_date)\\\\n\\\\n# Step 3: Process the data\\\\n# Here we assume the 'Adj Close' prices to compare adjusted closing prices\\\\nadj_close_data = stock_data['Adj Close']\\\\n\\\\n# Step 4: Create the plot\\\\nplt.figure(figsize=(10, 6))\\\\nfor symbol in stock_symbols:\\\\n    plt.plot(adj_close_data.index, adj_close_data[symbol], label=symbol)\\\\n\\\\n# Customize the plot\\\\nplt.title('ServiceNow (NOW) vs Salesforce (CRM) Stock Prices')\\\\nplt.xlabel('Date')\\\\nplt.ylabel('Adjusted Closing Price (USD)')\\\\nplt.legend()\\\\nplt.grid(True)\\\\nplt.tight_layout()\\\\n\\\\n# Step 5: Save the plot to a PNG file\\\\nplt.savefig('service_now_vs_salesforce.png')\\\\n\\\\n# Show plot for verification\\\\nplt.show()\\\\n```\\\\n\\\\nTo execute the script:\\\\n\\\\n1. Run the following commands to install the necessary libraries if you haven't already:\\\\n\\\\n```sh\\\\npip install yfinance\\\\npip install matplotlib\\\\npip install pandas\\\\n```\\\\n\\\\n2. Save the above code to a file named `compare_stocks.py`.\\\\n3. Run the script using `python compare_stocks.py`.\\\\n\\\\nThis will fetch the stock data for ServiceNow and Salesforce starting from January 1, 2024, create a plot comparing their prices, and save the plot as `service_now_vs_salesforce.png`.\\\",\\n    \\\"role\\\": \\\"return\\\",\\n    \\\"index\\\": 3,\\n    \\\"metadata\\\": {\\n        \\\"by\\\": \\\"UserProxy/GroupChatManager/SoftwareEngineer\\\"\\n    }\\n}\", \"role\": \"assistant\"}\n"
     ]
    }
   ],
   "source": [
    "print(json.dumps(a))\n"
   ]
  }
 ],
 "metadata": {
  "kernelspec": {
   "display_name": "tapeagents2",
   "language": "python",
   "name": "python3"
  },
  "language_info": {
   "codemirror_mode": {
    "name": "ipython",
    "version": 3
   },
   "file_extension": ".py",
   "mimetype": "text/x-python",
   "name": "python",
   "nbconvert_exporter": "python",
   "pygments_lexer": "ipython3",
   "version": "3.10.14"
  }
 },
 "nbformat": 4,
 "nbformat_minor": 2
}
